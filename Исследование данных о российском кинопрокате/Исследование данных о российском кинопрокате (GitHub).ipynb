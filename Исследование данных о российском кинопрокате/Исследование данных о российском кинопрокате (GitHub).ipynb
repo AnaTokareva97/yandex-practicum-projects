{
 "cells": [
  {
   "cell_type": "markdown",
   "metadata": {
    "id": "sIfNaMOxgFyK"
   },
   "source": [
    "# Исследование данных о российском кинопрокате\n",
    "\n"
   ]
  },
  {
   "cell_type": "markdown",
   "metadata": {},
   "source": [
    "**Цель исследования** - изучить рынок российского кинопроката и выявить текущие тренды.\n",
    "\n",
    "**Исходные данные** - данные, опубликованные на портале открытых данных Министерства культуры. Набор данных содержит информацию о прокатных удостоверениях, сборах и государственной поддержке фильмов, а также информацию с сайта КиноПоиск.\n",
    "\n",
    "**Вопросы, интересующие заказчика:**\n",
    "1. Сколько фильмов выходило в прокат каждый год?\n",
    "2. Какую долю составляют фильмы с указанной информацией о прокате в кинотеатрах? Как эта доля менялась по годам?\n",
    "3. Как менялась динамика проката по годам? В каком году сумма сборов была минимальной? А максимальной?\n",
    "4. Влияет ли возрастное ограничение аудитории на сборы фильма в прокате в период с 2015 по 2019 год? Фильмы с каким возрастным ограничением собрали больше всего денег в прокате? Меняется ли картина в зависимости от года?\n",
    "5. Какие закономерности можно выявить в данных у фильмов, заручившихся государственной поддержкой?"
   ]
  },
  {
   "cell_type": "markdown",
   "metadata": {
    "id": "3bSlkCsbgFyL"
   },
   "source": [
    "### Шаг 1. Откройте файлы с данными и объедините их в один датафрейм. \n",
    "\n",
    "Объедините данные таким образом, чтобы все объекты из датасета `mkrf_movies` обязательно вошли в получившийся датафрейм. \n",
    "\n",
    "<div id=\"accordion\">\n",
    "    <div class=\"card\">\n",
    "        <div class=\"card-header\" id=\"headingThree\">\n",
    "            <button class=\"btn btn-link collapsed\" data-toggle=\"collapse\" data-target=\"#collapseHint_0\" aria-expanded=\"false\" aria-controls=\"collapseHint_0\">Подсказка</button>\n",
    "        </div>\n",
    "        <div id=\"collapseHint_0\" class=\"collapse\" aria-labelledby=\"headingThree\" data-parent=\"#accordion\">\n",
    "            <div class=\"card-body\">\n",
    "Обратите внимание на тип данных столбца, по которому будете соединять датафреймы. Тип данных этих столбцов должен быть одинаковым в обоих датафреймах.\n",
    "            </div>\n",
    "        </div>\n",
    "    </div>\n",
    "</div>"
   ]
  },
  {
   "cell_type": "code",
   "execution_count": 1,
   "metadata": {
    "id": "dw87FlzMgFyM"
   },
   "outputs": [],
   "source": [
    "#импортируем библиотеки\n",
    "import pandas as pd\n",
    "pd.set_option('display.float_format', '{:,.2f}'.format)\n",
    "import matplotlib.pyplot as plt\n",
    "import numpy as np"
   ]
  },
  {
   "cell_type": "code",
   "execution_count": 2,
   "metadata": {},
   "outputs": [
    {
     "data": {
      "text/html": [
       "<div>\n",
       "<style scoped>\n",
       "    .dataframe tbody tr th:only-of-type {\n",
       "        vertical-align: middle;\n",
       "    }\n",
       "\n",
       "    .dataframe tbody tr th {\n",
       "        vertical-align: top;\n",
       "    }\n",
       "\n",
       "    .dataframe thead th {\n",
       "        text-align: right;\n",
       "    }\n",
       "</style>\n",
       "<table border=\"1\" class=\"dataframe\">\n",
       "  <thead>\n",
       "    <tr style=\"text-align: right;\">\n",
       "      <th></th>\n",
       "      <th>title</th>\n",
       "      <th>puNumber</th>\n",
       "      <th>show_start_date</th>\n",
       "      <th>type</th>\n",
       "      <th>film_studio</th>\n",
       "      <th>production_country</th>\n",
       "      <th>director</th>\n",
       "      <th>producer</th>\n",
       "      <th>age_restriction</th>\n",
       "      <th>refundable_support</th>\n",
       "      <th>nonrefundable_support</th>\n",
       "      <th>budget</th>\n",
       "      <th>financing_source</th>\n",
       "      <th>ratings</th>\n",
       "      <th>genres</th>\n",
       "    </tr>\n",
       "  </thead>\n",
       "  <tbody>\n",
       "    <tr>\n",
       "      <th>0</th>\n",
       "      <td>Открытый простор</td>\n",
       "      <td>221048915</td>\n",
       "      <td>2015-11-27T12:00:00.000Z</td>\n",
       "      <td>Художественный</td>\n",
       "      <td>Тачстоун Пикчерз, Кобальт Пикчерз, Бикон Пикче...</td>\n",
       "      <td>США</td>\n",
       "      <td>Кевин Костнер</td>\n",
       "      <td>Дэвид Валдес, Кевин Костнер, Джейк Эбертс</td>\n",
       "      <td>«18+» - запрещено для детей</td>\n",
       "      <td>NaN</td>\n",
       "      <td>NaN</td>\n",
       "      <td>NaN</td>\n",
       "      <td>NaN</td>\n",
       "      <td>7.2</td>\n",
       "      <td>боевик,драма,мелодрама</td>\n",
       "    </tr>\n",
       "    <tr>\n",
       "      <th>1</th>\n",
       "      <td>Особо важное задание</td>\n",
       "      <td>111013716</td>\n",
       "      <td>2016-09-13T12:00:00.000Z</td>\n",
       "      <td>Художественный</td>\n",
       "      <td>Киностудия \"Мосфильм\"</td>\n",
       "      <td>СССР</td>\n",
       "      <td>Е.Матвеев</td>\n",
       "      <td>NaN</td>\n",
       "      <td>«6+» - для детей старше 6 лет</td>\n",
       "      <td>NaN</td>\n",
       "      <td>NaN</td>\n",
       "      <td>NaN</td>\n",
       "      <td>NaN</td>\n",
       "      <td>6.6</td>\n",
       "      <td>драма,военный</td>\n",
       "    </tr>\n",
       "    <tr>\n",
       "      <th>2</th>\n",
       "      <td>Особо опасен</td>\n",
       "      <td>221038416</td>\n",
       "      <td>2016-10-10T12:00:00.000Z</td>\n",
       "      <td>Художественный</td>\n",
       "      <td>Юниверсал Пикчерз, Кикстарт Продакшнз, Марк Пл...</td>\n",
       "      <td>США</td>\n",
       "      <td>Тимур Бекмамбетов</td>\n",
       "      <td>Джим Лемли, Джейсон Нетер, Марк Е.Платт, Яйн Смит</td>\n",
       "      <td>«18+» - запрещено для детей</td>\n",
       "      <td>NaN</td>\n",
       "      <td>NaN</td>\n",
       "      <td>NaN</td>\n",
       "      <td>NaN</td>\n",
       "      <td>6.8</td>\n",
       "      <td>фантастика,боевик,триллер</td>\n",
       "    </tr>\n",
       "    <tr>\n",
       "      <th>3</th>\n",
       "      <td>Особо опасен</td>\n",
       "      <td>221026916</td>\n",
       "      <td>2016-06-10T12:00:00.000Z</td>\n",
       "      <td>Художественный</td>\n",
       "      <td>Юниверсал Пикчерз, Кикстарт Продакшнз, Марк Пл...</td>\n",
       "      <td>США</td>\n",
       "      <td>Тимур Бекмамбетов</td>\n",
       "      <td>Джим Лемли, Джейсон Нетер, Марк Е.Платт, Яйн Смит</td>\n",
       "      <td>«18+» - запрещено для детей</td>\n",
       "      <td>NaN</td>\n",
       "      <td>NaN</td>\n",
       "      <td>NaN</td>\n",
       "      <td>NaN</td>\n",
       "      <td>6.8</td>\n",
       "      <td>фантастика,боевик,триллер</td>\n",
       "    </tr>\n",
       "    <tr>\n",
       "      <th>4</th>\n",
       "      <td>Особо опасен</td>\n",
       "      <td>221030815</td>\n",
       "      <td>2015-07-29T12:00:00.000Z</td>\n",
       "      <td>Художественный</td>\n",
       "      <td>Юниверсал Пикчерз, Кикстарт Продакшнз, Марк Пл...</td>\n",
       "      <td>США</td>\n",
       "      <td>Тимур Бекмамбетов</td>\n",
       "      <td>Джим Лемли, Джейсон Нетер, Марк Е.Платт, Яйн Смит</td>\n",
       "      <td>«18+» - запрещено для детей</td>\n",
       "      <td>NaN</td>\n",
       "      <td>NaN</td>\n",
       "      <td>NaN</td>\n",
       "      <td>NaN</td>\n",
       "      <td>6.8</td>\n",
       "      <td>фантастика,боевик,триллер</td>\n",
       "    </tr>\n",
       "  </tbody>\n",
       "</table>\n",
       "</div>"
      ],
      "text/plain": [
       "                  title   puNumber           show_start_date            type  \\\n",
       "0      Открытый простор  221048915  2015-11-27T12:00:00.000Z  Художественный   \n",
       "1  Особо важное задание  111013716  2016-09-13T12:00:00.000Z  Художественный   \n",
       "2          Особо опасен  221038416  2016-10-10T12:00:00.000Z  Художественный   \n",
       "3          Особо опасен  221026916  2016-06-10T12:00:00.000Z  Художественный   \n",
       "4          Особо опасен  221030815  2015-07-29T12:00:00.000Z  Художественный   \n",
       "\n",
       "                                         film_studio production_country  \\\n",
       "0  Тачстоун Пикчерз, Кобальт Пикчерз, Бикон Пикче...                США   \n",
       "1                              Киностудия \"Мосфильм\"               СССР   \n",
       "2  Юниверсал Пикчерз, Кикстарт Продакшнз, Марк Пл...                США   \n",
       "3  Юниверсал Пикчерз, Кикстарт Продакшнз, Марк Пл...                США   \n",
       "4  Юниверсал Пикчерз, Кикстарт Продакшнз, Марк Пл...                США   \n",
       "\n",
       "            director                                           producer  \\\n",
       "0      Кевин Костнер          Дэвид Валдес, Кевин Костнер, Джейк Эбертс   \n",
       "1          Е.Матвеев                                                NaN   \n",
       "2  Тимур Бекмамбетов  Джим Лемли, Джейсон Нетер, Марк Е.Платт, Яйн Смит   \n",
       "3  Тимур Бекмамбетов  Джим Лемли, Джейсон Нетер, Марк Е.Платт, Яйн Смит   \n",
       "4  Тимур Бекмамбетов  Джим Лемли, Джейсон Нетер, Марк Е.Платт, Яйн Смит   \n",
       "\n",
       "                 age_restriction  refundable_support  nonrefundable_support  \\\n",
       "0    «18+» - запрещено для детей                 NaN                    NaN   \n",
       "1  «6+» - для детей старше 6 лет                 NaN                    NaN   \n",
       "2    «18+» - запрещено для детей                 NaN                    NaN   \n",
       "3    «18+» - запрещено для детей                 NaN                    NaN   \n",
       "4    «18+» - запрещено для детей                 NaN                    NaN   \n",
       "\n",
       "   budget financing_source ratings                     genres  \n",
       "0     NaN              NaN     7.2     боевик,драма,мелодрама  \n",
       "1     NaN              NaN     6.6              драма,военный  \n",
       "2     NaN              NaN     6.8  фантастика,боевик,триллер  \n",
       "3     NaN              NaN     6.8  фантастика,боевик,триллер  \n",
       "4     NaN              NaN     6.8  фантастика,боевик,триллер  "
      ]
     },
     "metadata": {},
     "output_type": "display_data"
    },
    {
     "name": "stdout",
     "output_type": "stream",
     "text": [
      "<class 'pandas.core.frame.DataFrame'>\n",
      "RangeIndex: 7486 entries, 0 to 7485\n",
      "Data columns (total 15 columns):\n",
      " #   Column                 Non-Null Count  Dtype  \n",
      "---  ------                 --------------  -----  \n",
      " 0   title                  7486 non-null   object \n",
      " 1   puNumber               7486 non-null   object \n",
      " 2   show_start_date        7486 non-null   object \n",
      " 3   type                   7486 non-null   object \n",
      " 4   film_studio            7468 non-null   object \n",
      " 5   production_country     7484 non-null   object \n",
      " 6   director               7477 non-null   object \n",
      " 7   producer               6918 non-null   object \n",
      " 8   age_restriction        7486 non-null   object \n",
      " 9   refundable_support     332 non-null    float64\n",
      " 10  nonrefundable_support  332 non-null    float64\n",
      " 11  budget                 332 non-null    float64\n",
      " 12  financing_source       332 non-null    object \n",
      " 13  ratings                6519 non-null   object \n",
      " 14  genres                 6510 non-null   object \n",
      "dtypes: float64(3), object(12)\n",
      "memory usage: 877.4+ KB\n"
     ]
    }
   ],
   "source": [
    "#откроем файл mkrf_movies\n",
    "mkrf_movies = pd.read_csv('/datasets/mkrf_movies.csv')\n",
    "display(mkrf_movies.head())\n",
    "#посмотрим информацию о датафрейме mkrf_movies\n",
    "mkrf_movies.info()"
   ]
  },
  {
   "cell_type": "code",
   "execution_count": 3,
   "metadata": {},
   "outputs": [
    {
     "data": {
      "text/html": [
       "<div>\n",
       "<style scoped>\n",
       "    .dataframe tbody tr th:only-of-type {\n",
       "        vertical-align: middle;\n",
       "    }\n",
       "\n",
       "    .dataframe tbody tr th {\n",
       "        vertical-align: top;\n",
       "    }\n",
       "\n",
       "    .dataframe thead th {\n",
       "        text-align: right;\n",
       "    }\n",
       "</style>\n",
       "<table border=\"1\" class=\"dataframe\">\n",
       "  <thead>\n",
       "    <tr style=\"text-align: right;\">\n",
       "      <th></th>\n",
       "      <th>puNumber</th>\n",
       "      <th>box_office</th>\n",
       "    </tr>\n",
       "  </thead>\n",
       "  <tbody>\n",
       "    <tr>\n",
       "      <th>0</th>\n",
       "      <td>111000113</td>\n",
       "      <td>2,450.00</td>\n",
       "    </tr>\n",
       "    <tr>\n",
       "      <th>1</th>\n",
       "      <td>111000115</td>\n",
       "      <td>61,040.00</td>\n",
       "    </tr>\n",
       "    <tr>\n",
       "      <th>2</th>\n",
       "      <td>111000116</td>\n",
       "      <td>153,030,013.40</td>\n",
       "    </tr>\n",
       "    <tr>\n",
       "      <th>3</th>\n",
       "      <td>111000117</td>\n",
       "      <td>12,260,956.00</td>\n",
       "    </tr>\n",
       "    <tr>\n",
       "      <th>4</th>\n",
       "      <td>111000118</td>\n",
       "      <td>163,684,057.79</td>\n",
       "    </tr>\n",
       "  </tbody>\n",
       "</table>\n",
       "</div>"
      ],
      "text/plain": [
       "    puNumber     box_office\n",
       "0  111000113       2,450.00\n",
       "1  111000115      61,040.00\n",
       "2  111000116 153,030,013.40\n",
       "3  111000117  12,260,956.00\n",
       "4  111000118 163,684,057.79"
      ]
     },
     "metadata": {},
     "output_type": "display_data"
    },
    {
     "name": "stdout",
     "output_type": "stream",
     "text": [
      "<class 'pandas.core.frame.DataFrame'>\n",
      "RangeIndex: 3158 entries, 0 to 3157\n",
      "Data columns (total 2 columns):\n",
      " #   Column      Non-Null Count  Dtype  \n",
      "---  ------      --------------  -----  \n",
      " 0   puNumber    3158 non-null   int64  \n",
      " 1   box_office  3158 non-null   float64\n",
      "dtypes: float64(1), int64(1)\n",
      "memory usage: 49.5 KB\n"
     ]
    }
   ],
   "source": [
    "#откроем файл mkrf_movies\n",
    "mkrf_shows = pd.read_csv('/datasets/mkrf_shows.csv')\n",
    "display(mkrf_shows.head())\n",
    "#посмотрим информацию о датафрейме mkrf_shows\n",
    "mkrf_shows.info()"
   ]
  },
  {
   "cell_type": "markdown",
   "metadata": {},
   "source": [
    "Изучив общую информацию по двум датафреймам видим, что их можно объединить по общему столбцу \"puNumber\". Так как прокатные удостоверения числовые и уникальные данные, которые при объединении таблиц должны выступать как индекс, проверим на наличие посторонних строк, символов и прочего."
   ]
  },
  {
   "cell_type": "code",
   "execution_count": 4,
   "metadata": {},
   "outputs": [
    {
     "data": {
      "text/html": [
       "<div>\n",
       "<style scoped>\n",
       "    .dataframe tbody tr th:only-of-type {\n",
       "        vertical-align: middle;\n",
       "    }\n",
       "\n",
       "    .dataframe tbody tr th {\n",
       "        vertical-align: top;\n",
       "    }\n",
       "\n",
       "    .dataframe thead th {\n",
       "        text-align: right;\n",
       "    }\n",
       "</style>\n",
       "<table border=\"1\" class=\"dataframe\">\n",
       "  <thead>\n",
       "    <tr style=\"text-align: right;\">\n",
       "      <th></th>\n",
       "      <th>title</th>\n",
       "      <th>puNumber</th>\n",
       "      <th>show_start_date</th>\n",
       "      <th>type</th>\n",
       "      <th>film_studio</th>\n",
       "      <th>production_country</th>\n",
       "      <th>director</th>\n",
       "      <th>producer</th>\n",
       "      <th>age_restriction</th>\n",
       "      <th>refundable_support</th>\n",
       "      <th>nonrefundable_support</th>\n",
       "      <th>budget</th>\n",
       "      <th>financing_source</th>\n",
       "      <th>ratings</th>\n",
       "      <th>genres</th>\n",
       "    </tr>\n",
       "  </thead>\n",
       "  <tbody>\n",
       "    <tr>\n",
       "      <th>804</th>\n",
       "      <td>Паранормальный Якутск</td>\n",
       "      <td>111004112</td>\n",
       "      <td>2012-08-24T12:00:00.000Z</td>\n",
       "      <td>Художественный</td>\n",
       "      <td>ИП Тимофеев К.П.</td>\n",
       "      <td>Россия</td>\n",
       "      <td>К.Тимофеев</td>\n",
       "      <td>NaN</td>\n",
       "      <td>«16+» - для детей старше 16 лет</td>\n",
       "      <td>NaN</td>\n",
       "      <td>NaN</td>\n",
       "      <td>NaN</td>\n",
       "      <td>NaN</td>\n",
       "      <td>NaN</td>\n",
       "      <td>NaN</td>\n",
       "    </tr>\n",
       "    <tr>\n",
       "      <th>1797</th>\n",
       "      <td>Курбан-роман. (История с жертвой)</td>\n",
       "      <td>нет</td>\n",
       "      <td>2014-05-15T12:00:00.000Z</td>\n",
       "      <td>Художественный</td>\n",
       "      <td>ФОНД \"ИННОВАЦИЯ\"</td>\n",
       "      <td>Россия</td>\n",
       "      <td>С.Юзеев</td>\n",
       "      <td>М.Галицкая</td>\n",
       "      <td>«12+» - для детей старше 12 лет</td>\n",
       "      <td>NaN</td>\n",
       "      <td>NaN</td>\n",
       "      <td>NaN</td>\n",
       "      <td>NaN</td>\n",
       "      <td>NaN</td>\n",
       "      <td>NaN</td>\n",
       "    </tr>\n",
       "  </tbody>\n",
       "</table>\n",
       "</div>"
      ],
      "text/plain": [
       "                                  title    puNumber           show_start_date  \\\n",
       "804               Паранормальный Якутск   111004112  2012-08-24T12:00:00.000Z   \n",
       "1797  Курбан-роман. (История с жертвой)         нет  2014-05-15T12:00:00.000Z   \n",
       "\n",
       "                type       film_studio production_country    director  \\\n",
       "804   Художественный  ИП Тимофеев К.П.             Россия  К.Тимофеев   \n",
       "1797  Художественный  ФОНД \"ИННОВАЦИЯ\"             Россия     С.Юзеев   \n",
       "\n",
       "        producer                  age_restriction  refundable_support  \\\n",
       "804          NaN  «16+» - для детей старше 16 лет                 NaN   \n",
       "1797  М.Галицкая  «12+» - для детей старше 12 лет                 NaN   \n",
       "\n",
       "      nonrefundable_support  budget financing_source ratings genres  \n",
       "804                     NaN     NaN              NaN     NaN    NaN  \n",
       "1797                    NaN     NaN              NaN     NaN    NaN  "
      ]
     },
     "execution_count": 4,
     "metadata": {},
     "output_type": "execute_result"
    }
   ],
   "source": [
    "#проверяем наличие посторонних строк\n",
    "mkrf_movies[mkrf_movies['puNumber'].str.isdigit() == False]"
   ]
  },
  {
   "cell_type": "markdown",
   "metadata": {},
   "source": [
    "В столбце, как мы видим, содержатся два несоответствующих значения: \"нет\" - является строчным значением и может нам помешать при дальнейшем объединении, и \"111004112\" - можем преобразовать к числовому значению.\n",
    "\n",
    "Преобразуем значения в число. В случае неудачи значение в ячейке будет заменено на Nan."
   ]
  },
  {
   "cell_type": "code",
   "execution_count": 5,
   "metadata": {},
   "outputs": [],
   "source": [
    "#заменим тип данных у несоответствующих значений\n",
    "mkrf_movies['puNumber'] = pd.to_numeric(mkrf_movies['puNumber'], errors='coerce')"
   ]
  },
  {
   "cell_type": "markdown",
   "metadata": {},
   "source": [
    "Чтобы соединить датафреймы, необходимо, чтобы оба столбца имели одинаковый тип данных. Для этого приведем данные столбца puNumber датафрейма mkrf_shows к строковым значениям."
   ]
  },
  {
   "cell_type": "code",
   "execution_count": 6,
   "metadata": {},
   "outputs": [],
   "source": [
    "#преобразуем значения столбца puNumber в датафрейме mkrf_shows к строковому значению\n",
    "mkrf_shows['puNumber'] = mkrf_shows['puNumber'].astype('object')"
   ]
  },
  {
   "cell_type": "code",
   "execution_count": 7,
   "metadata": {
    "scrolled": true
   },
   "outputs": [
    {
     "data": {
      "text/html": [
       "<div>\n",
       "<style scoped>\n",
       "    .dataframe tbody tr th:only-of-type {\n",
       "        vertical-align: middle;\n",
       "    }\n",
       "\n",
       "    .dataframe tbody tr th {\n",
       "        vertical-align: top;\n",
       "    }\n",
       "\n",
       "    .dataframe thead th {\n",
       "        text-align: right;\n",
       "    }\n",
       "</style>\n",
       "<table border=\"1\" class=\"dataframe\">\n",
       "  <thead>\n",
       "    <tr style=\"text-align: right;\">\n",
       "      <th></th>\n",
       "      <th>title</th>\n",
       "      <th>puNumber</th>\n",
       "      <th>show_start_date</th>\n",
       "      <th>type</th>\n",
       "      <th>film_studio</th>\n",
       "      <th>production_country</th>\n",
       "      <th>director</th>\n",
       "      <th>producer</th>\n",
       "      <th>age_restriction</th>\n",
       "      <th>refundable_support</th>\n",
       "      <th>nonrefundable_support</th>\n",
       "      <th>budget</th>\n",
       "      <th>financing_source</th>\n",
       "      <th>ratings</th>\n",
       "      <th>genres</th>\n",
       "      <th>box_office</th>\n",
       "    </tr>\n",
       "  </thead>\n",
       "  <tbody>\n",
       "    <tr>\n",
       "      <th>0</th>\n",
       "      <td>Открытый простор</td>\n",
       "      <td>221,048,915.00</td>\n",
       "      <td>2015-11-27T12:00:00.000Z</td>\n",
       "      <td>Художественный</td>\n",
       "      <td>Тачстоун Пикчерз, Кобальт Пикчерз, Бикон Пикче...</td>\n",
       "      <td>США</td>\n",
       "      <td>Кевин Костнер</td>\n",
       "      <td>Дэвид Валдес, Кевин Костнер, Джейк Эбертс</td>\n",
       "      <td>«18+» - запрещено для детей</td>\n",
       "      <td>NaN</td>\n",
       "      <td>NaN</td>\n",
       "      <td>NaN</td>\n",
       "      <td>NaN</td>\n",
       "      <td>7.2</td>\n",
       "      <td>боевик,драма,мелодрама</td>\n",
       "      <td>NaN</td>\n",
       "    </tr>\n",
       "    <tr>\n",
       "      <th>1</th>\n",
       "      <td>Особо важное задание</td>\n",
       "      <td>111,013,716.00</td>\n",
       "      <td>2016-09-13T12:00:00.000Z</td>\n",
       "      <td>Художественный</td>\n",
       "      <td>Киностудия \"Мосфильм\"</td>\n",
       "      <td>СССР</td>\n",
       "      <td>Е.Матвеев</td>\n",
       "      <td>NaN</td>\n",
       "      <td>«6+» - для детей старше 6 лет</td>\n",
       "      <td>NaN</td>\n",
       "      <td>NaN</td>\n",
       "      <td>NaN</td>\n",
       "      <td>NaN</td>\n",
       "      <td>6.6</td>\n",
       "      <td>драма,военный</td>\n",
       "      <td>NaN</td>\n",
       "    </tr>\n",
       "    <tr>\n",
       "      <th>2</th>\n",
       "      <td>Особо опасен</td>\n",
       "      <td>221,038,416.00</td>\n",
       "      <td>2016-10-10T12:00:00.000Z</td>\n",
       "      <td>Художественный</td>\n",
       "      <td>Юниверсал Пикчерз, Кикстарт Продакшнз, Марк Пл...</td>\n",
       "      <td>США</td>\n",
       "      <td>Тимур Бекмамбетов</td>\n",
       "      <td>Джим Лемли, Джейсон Нетер, Марк Е.Платт, Яйн Смит</td>\n",
       "      <td>«18+» - запрещено для детей</td>\n",
       "      <td>NaN</td>\n",
       "      <td>NaN</td>\n",
       "      <td>NaN</td>\n",
       "      <td>NaN</td>\n",
       "      <td>6.8</td>\n",
       "      <td>фантастика,боевик,триллер</td>\n",
       "      <td>NaN</td>\n",
       "    </tr>\n",
       "    <tr>\n",
       "      <th>3</th>\n",
       "      <td>Особо опасен</td>\n",
       "      <td>221,026,916.00</td>\n",
       "      <td>2016-06-10T12:00:00.000Z</td>\n",
       "      <td>Художественный</td>\n",
       "      <td>Юниверсал Пикчерз, Кикстарт Продакшнз, Марк Пл...</td>\n",
       "      <td>США</td>\n",
       "      <td>Тимур Бекмамбетов</td>\n",
       "      <td>Джим Лемли, Джейсон Нетер, Марк Е.Платт, Яйн Смит</td>\n",
       "      <td>«18+» - запрещено для детей</td>\n",
       "      <td>NaN</td>\n",
       "      <td>NaN</td>\n",
       "      <td>NaN</td>\n",
       "      <td>NaN</td>\n",
       "      <td>6.8</td>\n",
       "      <td>фантастика,боевик,триллер</td>\n",
       "      <td>NaN</td>\n",
       "    </tr>\n",
       "    <tr>\n",
       "      <th>4</th>\n",
       "      <td>Особо опасен</td>\n",
       "      <td>221,030,815.00</td>\n",
       "      <td>2015-07-29T12:00:00.000Z</td>\n",
       "      <td>Художественный</td>\n",
       "      <td>Юниверсал Пикчерз, Кикстарт Продакшнз, Марк Пл...</td>\n",
       "      <td>США</td>\n",
       "      <td>Тимур Бекмамбетов</td>\n",
       "      <td>Джим Лемли, Джейсон Нетер, Марк Е.Платт, Яйн Смит</td>\n",
       "      <td>«18+» - запрещено для детей</td>\n",
       "      <td>NaN</td>\n",
       "      <td>NaN</td>\n",
       "      <td>NaN</td>\n",
       "      <td>NaN</td>\n",
       "      <td>6.8</td>\n",
       "      <td>фантастика,боевик,триллер</td>\n",
       "      <td>NaN</td>\n",
       "    </tr>\n",
       "    <tr>\n",
       "      <th>5</th>\n",
       "      <td>Остановился поезд</td>\n",
       "      <td>111,013,816.00</td>\n",
       "      <td>2016-09-13T12:00:00.000Z</td>\n",
       "      <td>Художественный</td>\n",
       "      <td>Киностудия \"Мосфильм\"</td>\n",
       "      <td>СССР</td>\n",
       "      <td>В.Абдрашитов</td>\n",
       "      <td>NaN</td>\n",
       "      <td>«6+» - для детей старше 6 лет</td>\n",
       "      <td>NaN</td>\n",
       "      <td>NaN</td>\n",
       "      <td>NaN</td>\n",
       "      <td>NaN</td>\n",
       "      <td>7.7</td>\n",
       "      <td>драма</td>\n",
       "      <td>NaN</td>\n",
       "    </tr>\n",
       "    <tr>\n",
       "      <th>6</th>\n",
       "      <td>Любовь и голуби</td>\n",
       "      <td>111,007,013.00</td>\n",
       "      <td>2013-10-18T12:00:00.000Z</td>\n",
       "      <td>Художественный</td>\n",
       "      <td>Киностудия \"Мосфильм\"</td>\n",
       "      <td>СССР</td>\n",
       "      <td>В.Меньшов</td>\n",
       "      <td>NaN</td>\n",
       "      <td>«12+» - для детей старше 12 лет</td>\n",
       "      <td>NaN</td>\n",
       "      <td>NaN</td>\n",
       "      <td>NaN</td>\n",
       "      <td>NaN</td>\n",
       "      <td>8.3</td>\n",
       "      <td>мелодрама,комедия</td>\n",
       "      <td>2,700.00</td>\n",
       "    </tr>\n",
       "    <tr>\n",
       "      <th>7</th>\n",
       "      <td>Любовь и сигареты</td>\n",
       "      <td>221,074,614.00</td>\n",
       "      <td>2014-12-29T12:00:00.000Z</td>\n",
       "      <td>Художественный</td>\n",
       "      <td>Юнайтед Артистс, Грин Стрит Филмз, Айкон Интер...</td>\n",
       "      <td>США</td>\n",
       "      <td>Джон Туртурро</td>\n",
       "      <td>Джон Пенотти, Джон Туртурро</td>\n",
       "      <td>«18+» - запрещено для детей</td>\n",
       "      <td>NaN</td>\n",
       "      <td>NaN</td>\n",
       "      <td>NaN</td>\n",
       "      <td>NaN</td>\n",
       "      <td>6.6</td>\n",
       "      <td>мюзикл,мелодрама,комедия</td>\n",
       "      <td>NaN</td>\n",
       "    </tr>\n",
       "    <tr>\n",
       "      <th>8</th>\n",
       "      <td>Отпетые мошенники.</td>\n",
       "      <td>121,011,416.00</td>\n",
       "      <td>2016-05-05T12:00:00.000Z</td>\n",
       "      <td>Художественный</td>\n",
       "      <td>Пульсар Продюксьон, ТФ1 Фильм</td>\n",
       "      <td>Франция</td>\n",
       "      <td>Эрик Беснард</td>\n",
       "      <td>Патрис Леду</td>\n",
       "      <td>«18+» - запрещено для детей</td>\n",
       "      <td>NaN</td>\n",
       "      <td>NaN</td>\n",
       "      <td>NaN</td>\n",
       "      <td>NaN</td>\n",
       "      <td>8.0</td>\n",
       "      <td>комедия,криминал</td>\n",
       "      <td>NaN</td>\n",
       "    </tr>\n",
       "    <tr>\n",
       "      <th>9</th>\n",
       "      <td>Отпуск за свой счет</td>\n",
       "      <td>111,019,114.00</td>\n",
       "      <td>2014-12-01T12:00:00.000Z</td>\n",
       "      <td>Художественный</td>\n",
       "      <td>Киностудия \"Мосфильм\", Телевидение ВНР</td>\n",
       "      <td>СССР, Венгрия</td>\n",
       "      <td>В.Титов</td>\n",
       "      <td>NaN</td>\n",
       "      <td>«12+» - для детей старше 12 лет</td>\n",
       "      <td>NaN</td>\n",
       "      <td>NaN</td>\n",
       "      <td>NaN</td>\n",
       "      <td>NaN</td>\n",
       "      <td>7.8</td>\n",
       "      <td>мелодрама,комедия</td>\n",
       "      <td>NaN</td>\n",
       "    </tr>\n",
       "  </tbody>\n",
       "</table>\n",
       "</div>"
      ],
      "text/plain": [
       "                  title       puNumber           show_start_date  \\\n",
       "0      Открытый простор 221,048,915.00  2015-11-27T12:00:00.000Z   \n",
       "1  Особо важное задание 111,013,716.00  2016-09-13T12:00:00.000Z   \n",
       "2          Особо опасен 221,038,416.00  2016-10-10T12:00:00.000Z   \n",
       "3          Особо опасен 221,026,916.00  2016-06-10T12:00:00.000Z   \n",
       "4          Особо опасен 221,030,815.00  2015-07-29T12:00:00.000Z   \n",
       "5     Остановился поезд 111,013,816.00  2016-09-13T12:00:00.000Z   \n",
       "6       Любовь и голуби 111,007,013.00  2013-10-18T12:00:00.000Z   \n",
       "7     Любовь и сигареты 221,074,614.00  2014-12-29T12:00:00.000Z   \n",
       "8    Отпетые мошенники. 121,011,416.00  2016-05-05T12:00:00.000Z   \n",
       "9   Отпуск за свой счет 111,019,114.00  2014-12-01T12:00:00.000Z   \n",
       "\n",
       "             type                                        film_studio  \\\n",
       "0  Художественный  Тачстоун Пикчерз, Кобальт Пикчерз, Бикон Пикче...   \n",
       "1  Художественный                              Киностудия \"Мосфильм\"   \n",
       "2  Художественный  Юниверсал Пикчерз, Кикстарт Продакшнз, Марк Пл...   \n",
       "3  Художественный  Юниверсал Пикчерз, Кикстарт Продакшнз, Марк Пл...   \n",
       "4  Художественный  Юниверсал Пикчерз, Кикстарт Продакшнз, Марк Пл...   \n",
       "5  Художественный                              Киностудия \"Мосфильм\"   \n",
       "6  Художественный                              Киностудия \"Мосфильм\"   \n",
       "7  Художественный  Юнайтед Артистс, Грин Стрит Филмз, Айкон Интер...   \n",
       "8  Художественный                     Пульсар Продюксьон, ТФ1 Фильм    \n",
       "9  Художественный             Киностудия \"Мосфильм\", Телевидение ВНР   \n",
       "\n",
       "  production_country           director  \\\n",
       "0                США      Кевин Костнер   \n",
       "1               СССР          Е.Матвеев   \n",
       "2                США  Тимур Бекмамбетов   \n",
       "3                США  Тимур Бекмамбетов   \n",
       "4                США  Тимур Бекмамбетов   \n",
       "5               СССР       В.Абдрашитов   \n",
       "6               СССР          В.Меньшов   \n",
       "7                США      Джон Туртурро   \n",
       "8            Франция       Эрик Беснард   \n",
       "9      СССР, Венгрия            В.Титов   \n",
       "\n",
       "                                            producer  \\\n",
       "0          Дэвид Валдес, Кевин Костнер, Джейк Эбертс   \n",
       "1                                                NaN   \n",
       "2  Джим Лемли, Джейсон Нетер, Марк Е.Платт, Яйн Смит   \n",
       "3  Джим Лемли, Джейсон Нетер, Марк Е.Платт, Яйн Смит   \n",
       "4  Джим Лемли, Джейсон Нетер, Марк Е.Платт, Яйн Смит   \n",
       "5                                                NaN   \n",
       "6                                                NaN   \n",
       "7                        Джон Пенотти, Джон Туртурро   \n",
       "8                                        Патрис Леду   \n",
       "9                                                NaN   \n",
       "\n",
       "                   age_restriction  refundable_support  nonrefundable_support  \\\n",
       "0      «18+» - запрещено для детей                 NaN                    NaN   \n",
       "1    «6+» - для детей старше 6 лет                 NaN                    NaN   \n",
       "2      «18+» - запрещено для детей                 NaN                    NaN   \n",
       "3      «18+» - запрещено для детей                 NaN                    NaN   \n",
       "4      «18+» - запрещено для детей                 NaN                    NaN   \n",
       "5    «6+» - для детей старше 6 лет                 NaN                    NaN   \n",
       "6  «12+» - для детей старше 12 лет                 NaN                    NaN   \n",
       "7      «18+» - запрещено для детей                 NaN                    NaN   \n",
       "8      «18+» - запрещено для детей                 NaN                    NaN   \n",
       "9  «12+» - для детей старше 12 лет                 NaN                    NaN   \n",
       "\n",
       "   budget financing_source ratings                     genres  box_office  \n",
       "0     NaN              NaN     7.2     боевик,драма,мелодрама         NaN  \n",
       "1     NaN              NaN     6.6              драма,военный         NaN  \n",
       "2     NaN              NaN     6.8  фантастика,боевик,триллер         NaN  \n",
       "3     NaN              NaN     6.8  фантастика,боевик,триллер         NaN  \n",
       "4     NaN              NaN     6.8  фантастика,боевик,триллер         NaN  \n",
       "5     NaN              NaN     7.7                      драма         NaN  \n",
       "6     NaN              NaN     8.3          мелодрама,комедия    2,700.00  \n",
       "7     NaN              NaN     6.6   мюзикл,мелодрама,комедия         NaN  \n",
       "8     NaN              NaN     8.0           комедия,криминал         NaN  \n",
       "9     NaN              NaN     7.8          мелодрама,комедия         NaN  "
      ]
     },
     "execution_count": 7,
     "metadata": {},
     "output_type": "execute_result"
    }
   ],
   "source": [
    "#объединим оба датафрейма\n",
    "data_movies = mkrf_movies.merge(\n",
    "    mkrf_shows,\n",
    "    on='puNumber',\n",
    "    how='outer'\n",
    ")\n",
    "data_movies.head(10)"
   ]
  },
  {
   "cell_type": "markdown",
   "metadata": {},
   "source": [
    "Данные объединили, теперь посмотрим общую информацию по объединенным датафреймам."
   ]
  },
  {
   "cell_type": "code",
   "execution_count": 8,
   "metadata": {},
   "outputs": [
    {
     "name": "stdout",
     "output_type": "stream",
     "text": [
      "<class 'pandas.core.frame.DataFrame'>\n",
      "Int64Index: 7486 entries, 0 to 7485\n",
      "Data columns (total 16 columns):\n",
      " #   Column                 Non-Null Count  Dtype  \n",
      "---  ------                 --------------  -----  \n",
      " 0   title                  7486 non-null   object \n",
      " 1   puNumber               7485 non-null   object \n",
      " 2   show_start_date        7486 non-null   object \n",
      " 3   type                   7486 non-null   object \n",
      " 4   film_studio            7468 non-null   object \n",
      " 5   production_country     7484 non-null   object \n",
      " 6   director               7477 non-null   object \n",
      " 7   producer               6918 non-null   object \n",
      " 8   age_restriction        7486 non-null   object \n",
      " 9   refundable_support     332 non-null    float64\n",
      " 10  nonrefundable_support  332 non-null    float64\n",
      " 11  budget                 332 non-null    float64\n",
      " 12  financing_source       332 non-null    object \n",
      " 13  ratings                6519 non-null   object \n",
      " 14  genres                 6510 non-null   object \n",
      " 15  box_office             3158 non-null   float64\n",
      "dtypes: float64(4), object(12)\n",
      "memory usage: 994.2+ KB\n"
     ]
    }
   ],
   "source": [
    "data_movies.info()"
   ]
  },
  {
   "cell_type": "markdown",
   "metadata": {},
   "source": [
    "**Вывод:**\n",
    "На данном этапе мы провели ознакомление с предоставленными нам данными. Обнаружили 2 посторонних значения. Произвели замену типа данных в столбце puNumber датасета mkrf_movies. По этому же столбцу и объединили наши датасеты.\n",
    "\n",
    "В новом объединенном датафрейме data_movies наблюдаем 16 столбцов и 7486 строк. В столбцах puNumber, production_country, director, producer, refundable_support, nonrefundable_support, budget, financing_source, ratings, genres и box_office наблюдаем пропуски. В столбцах show_start_date и ratings неверный тип данных, его необходимо перевести в формат datetime и float соответственно. "
   ]
  },
  {
   "cell_type": "markdown",
   "metadata": {
    "id": "KLDGpPG0gFyM"
   },
   "source": [
    "### Шаг 2. Предобработка данных"
   ]
  },
  {
   "cell_type": "markdown",
   "metadata": {
    "id": "ssWwKXsxgFyO"
   },
   "source": [
    "#### Шаг 2.1. Проверьте типы данных\n",
    "\n",
    "- Проверьте типы данных в датафрейме и преобразуйте их там, где это необходимо."
   ]
  },
  {
   "cell_type": "markdown",
   "metadata": {
    "id": "kVGSplJOgFyO"
   },
   "source": [
    "Как мы уже определили в предыдущем шаге, столбцы show_start_date и ratings имеют неверные форматы. Преобразуем эти столбцы в нужные форматы."
   ]
  },
  {
   "cell_type": "code",
   "execution_count": 9,
   "metadata": {},
   "outputs": [],
   "source": [
    "#преобразуем столбец show_start_date к формату datetime\n",
    "data_movies['show_start_date'] = pd.to_datetime(data_movies['show_start_date'], format='%Y-%m-%dT%H:%M:%S')"
   ]
  },
  {
   "cell_type": "markdown",
   "metadata": {},
   "source": [
    "Столбец ratings необходимо привести к формату float, т.к. рейтинг определяется по шкале от 0 до 10 и числа могут быть дробными.\n",
    "\n",
    "Первоначально оценим все уникальные значения в столбце с рейтингом."
   ]
  },
  {
   "cell_type": "code",
   "execution_count": 10,
   "metadata": {},
   "outputs": [
    {
     "data": {
      "text/plain": [
       "array(['7.2', '6.6', '6.8', '7.7', '8.3', '8.0', '7.8', '8.1', '7.1',\n",
       "       '6.0', '7.4', '5.8', '8.7', '6.3', '6.9', '5.0', '4.3', '7.3',\n",
       "       '7.0', '6.4', nan, '8.2', '7.5', '6.7', '7.9', '5.9', '6.2', '5.6',\n",
       "       '6.5', '2.4', '7.6', '6.1', '8.6', '8.5', '8.8', '5.5', '5.1',\n",
       "       '5.7', '5.4', '99%', '4.4', '4.5', '5.3', '4.1', '8.4', '2.6',\n",
       "       '3.8', '4.6', '4.8', '4.0', '3.0', '1.6', '4.2', '5.2', '4.7',\n",
       "       '4.9', '3.9', '2.7', '3.3', '2.9', '28%', '3.7', '1.4', '3.1',\n",
       "       '97%', '3.5', '3.2', '2.8', '1.5', '2.1', '2.5', '9.2', '3.4',\n",
       "       '1.1', '3.6', '83%', '64%', '91%', '94%', '62%', '79%', '90%',\n",
       "       '19%', '88%', '1.0', '89%', '1.3', '1.9', '1.8', '1.2', '1.7',\n",
       "       '9.0', '98%', '8.9', '9.1'], dtype=object)"
      ]
     },
     "execution_count": 10,
     "metadata": {},
     "output_type": "execute_result"
    }
   ],
   "source": [
    "#проверим уникальные значения в столбце ratings\n",
    "data_movies['ratings'].unique()"
   ]
  },
  {
   "cell_type": "markdown",
   "metadata": {},
   "source": [
    "Изучив уникальные значения, наблюдаем некоторые несостыковки. Мы видим процентные значения и пропуски - Nan. "
   ]
  },
  {
   "cell_type": "markdown",
   "metadata": {},
   "source": [
    "Процентные значения отличаются от предполагаемых значений рейтинга. Т.к. значения рейтинга находятся в диапазоне от 0 до 10, то можно предположить, что процентные значения - это значения рейтинага в диапазоне от 0% до 100%. Соответственно, мы можем расчитать рейтинг в привычном формате без потери данных."
   ]
  },
  {
   "cell_type": "code",
   "execution_count": 11,
   "metadata": {},
   "outputs": [],
   "source": [
    "#уберем символ процента %\n",
    "data_movies['ratings'] = data_movies['ratings'].str.replace('%', '')"
   ]
  },
  {
   "cell_type": "code",
   "execution_count": 12,
   "metadata": {},
   "outputs": [],
   "source": [
    "#приведем столбец к формату float\n",
    "data_movies['ratings'] = data_movies['ratings'].astype('float')"
   ]
  },
  {
   "cell_type": "code",
   "execution_count": 13,
   "metadata": {},
   "outputs": [],
   "source": [
    "#приведем значения в столбце в диапазоне от 10 до 100 к привычному рейтингу\n",
    "data_movies.loc[data_movies['ratings'] > 10, 'ratings'] = data_movies['ratings'] / 10"
   ]
  },
  {
   "cell_type": "markdown",
   "metadata": {},
   "source": [
    "Что касается пропусков в данном столбце, можно предположить, что у данных фильмов нет рейтинга, в связи с тем, что он только вышел в прокат или данные попросту не указаны. Заменим пропуски на 0. На полное представление данных это не повлияет."
   ]
  },
  {
   "cell_type": "code",
   "execution_count": 14,
   "metadata": {},
   "outputs": [],
   "source": [
    "#заменим пропуски в столбце ratings\n",
    "data_movies['ratings'] = data_movies['ratings'].fillna(value=0)"
   ]
  },
  {
   "cell_type": "markdown",
   "metadata": {},
   "source": [
    "**Вывод:** Проверяя типы данных мы обнаружили, что в столбцах show_start_date и ratings типы данных не совпадают с ожидаемыми. Столбец show_start_date привели к типу данных datetime. В столбце со значениями рейтинга ситуация обстояла сложнее: мы обнаружили пропуски, которые заменили на 0, т.к. предположительно это фильмы, которые только вышли в прокат, и процентные значения, где мы брали обозначение процента \"%\", заменили тип данных на float и поделили эти процентные числа на 10, чтобы привести их к ожидаемому формату."
   ]
  },
  {
   "cell_type": "markdown",
   "metadata": {
    "id": "i0MOLbF-gFyP"
   },
   "source": [
    "#### Шаг 2.2. Изучите пропуски в датафрейме\n",
    "\n",
    "- Объясните, почему заполнили пропуски определённым образом или почему не стали этого делать."
   ]
  },
  {
   "cell_type": "markdown",
   "metadata": {
    "id": "8MJD_lkngFyP"
   },
   "source": [
    "Посмотрим количество пропусков в каждой строке."
   ]
  },
  {
   "cell_type": "code",
   "execution_count": 16,
   "metadata": {},
   "outputs": [
    {
     "data": {
      "text/plain": [
       "title                       0\n",
       "puNumber                    1\n",
       "show_start_date             0\n",
       "type                        0\n",
       "film_studio                18\n",
       "production_country          2\n",
       "director                    9\n",
       "producer                  568\n",
       "age_restriction             0\n",
       "refundable_support       7154\n",
       "nonrefundable_support    7154\n",
       "budget                   7154\n",
       "financing_source         7154\n",
       "ratings                     0\n",
       "genres                    976\n",
       "box_office               4328\n",
       "dtype: int64"
      ]
     },
     "execution_count": 16,
     "metadata": {},
     "output_type": "execute_result"
    }
   ],
   "source": [
    "#смотрим количество пропусков\n",
    "data_movies.isna().sum()"
   ]
  },
  {
   "cell_type": "markdown",
   "metadata": {},
   "source": [
    "Можно обратить внимание, что в столбцах puNumber, film_studio, production_country, director, producer, refundable_support, nonrefundable_support, budget, financing_source и genres имеются пропуски в данных. Попробуем разобраться что с ними делать."
   ]
  },
  {
   "cell_type": "markdown",
   "metadata": {},
   "source": [
    "В столбце puNumber всего один пропуск, можем от него избавиться, на конечный результат исследования это не повлияет."
   ]
  },
  {
   "cell_type": "code",
   "execution_count": 17,
   "metadata": {},
   "outputs": [],
   "source": [
    "#убираем пропуск в столбце puNumber\n",
    "data_movies = data_movies.dropna(subset=['puNumber'])"
   ]
  },
  {
   "cell_type": "markdown",
   "metadata": {},
   "source": [
    "В столбце film_studio есть 18 пропусков. Т.к. студию-производителя не указали, можно заменить пропуски на \"Студия не указана\"."
   ]
  },
  {
   "cell_type": "code",
   "execution_count": 18,
   "metadata": {},
   "outputs": [],
   "source": [
    "#заполняем пропуски в столбце film_studio\n",
    "data_movies['film_studio'] = data_movies['film_studio'].fillna('Студия не указана')"
   ]
  },
  {
   "cell_type": "markdown",
   "metadata": {},
   "source": [
    "В столбце production_country всего 2 пропуска. Мы можем предположить страну-производителя, но во избежание ошибки заменим пропуски на \"Страна не указана\"."
   ]
  },
  {
   "cell_type": "code",
   "execution_count": 19,
   "metadata": {},
   "outputs": [],
   "source": [
    "#заполняем пропуски в столбце production_country\n",
    "data_movies['production_country'] = data_movies['production_country'].fillna('Страна не указана')"
   ]
  },
  {
   "cell_type": "markdown",
   "metadata": {},
   "source": [
    "В 9 случаях есть пропуски в столбце director. Чтобы не ошибиться, так же заполним пропуски на \"Режиссер не указан\"."
   ]
  },
  {
   "cell_type": "code",
   "execution_count": 20,
   "metadata": {},
   "outputs": [],
   "source": [
    "#заполняем пропуски в столбце director\n",
    "data_movies['director'] = data_movies['director'].fillna('Режиссер не указан')"
   ]
  },
  {
   "cell_type": "markdown",
   "metadata": {},
   "source": [
    "Заполним 568 пропусков в столбце producer на \"Продюсер не указан\"."
   ]
  },
  {
   "cell_type": "code",
   "execution_count": 21,
   "metadata": {},
   "outputs": [],
   "source": [
    "#заполняем пропуски в столбце director\n",
    "data_movies['producer'] = data_movies['producer'].fillna('Продюсер не указан')"
   ]
  },
  {
   "cell_type": "markdown",
   "metadata": {},
   "source": [
    "В столбцах refundable_support, nonrefundable_support и budget пропуски заменим на 0, т.к. это фильмы, которые не получили государственной финансовой поддержки и, предположительно, финансировались из других источников. Так же, вероятно, данные могли попросту не указать."
   ]
  },
  {
   "cell_type": "code",
   "execution_count": 22,
   "metadata": {},
   "outputs": [],
   "source": [
    "#заполняем пропуски в столбце refundable_support\n",
    "data_movies['refundable_support'] = data_movies['refundable_support'].fillna(value=0)\n",
    "#заполняем пропуски в столбце nonrefundable_support\n",
    "data_movies['nonrefundable_support'] = data_movies['nonrefundable_support'].fillna(value=0)\n",
    "#заполняем пропуски в столбце budget\n",
    "data_movies['budget'] = data_movies['budget'].fillna(value=0)"
   ]
  },
  {
   "cell_type": "markdown",
   "metadata": {},
   "source": [
    "В столбце financing_source на место пропущенных источников финансирования можем поставить \"Иное\", т.к. мы предполагаем, что это негосударственные источники."
   ]
  },
  {
   "cell_type": "code",
   "execution_count": 23,
   "metadata": {},
   "outputs": [],
   "source": [
    "#заполняем пропуски в столбце financing_source\n",
    "data_movies['financing_source'] = data_movies['financing_source'].fillna('Иное')"
   ]
  },
  {
   "cell_type": "markdown",
   "metadata": {},
   "source": [
    "В столбце genres заменим пропуски на \"Жанр не указан\"."
   ]
  },
  {
   "cell_type": "code",
   "execution_count": 24,
   "metadata": {},
   "outputs": [],
   "source": [
    "#заполняем пропуски в столбце genres\n",
    "data_movies['genres'] = data_movies['genres'].fillna('Жанр не указан')"
   ]
  },
  {
   "cell_type": "markdown",
   "metadata": {},
   "source": [
    "В столбце box_office с данными по сборам пропуски заменим на 0, т.к. такие данные нам не откуда взять."
   ]
  },
  {
   "cell_type": "code",
   "execution_count": 25,
   "metadata": {},
   "outputs": [],
   "source": [
    "#заполняем пропуски в столбце box_office\n",
    "data_movies['box_office'] = data_movies['box_office'].fillna(value=0)"
   ]
  },
  {
   "cell_type": "markdown",
   "metadata": {},
   "source": [
    "Проверим наш датафрейм после заполнения пропусков."
   ]
  },
  {
   "cell_type": "code",
   "execution_count": 26,
   "metadata": {},
   "outputs": [
    {
     "data": {
      "text/plain": [
       "title                    0\n",
       "puNumber                 0\n",
       "show_start_date          0\n",
       "type                     0\n",
       "film_studio              0\n",
       "production_country       0\n",
       "director                 0\n",
       "producer                 0\n",
       "age_restriction          0\n",
       "refundable_support       0\n",
       "nonrefundable_support    0\n",
       "budget                   0\n",
       "financing_source         0\n",
       "ratings                  0\n",
       "genres                   0\n",
       "box_office               0\n",
       "dtype: int64"
      ]
     },
     "execution_count": 26,
     "metadata": {},
     "output_type": "execute_result"
    }
   ],
   "source": [
    "data_movies.isna().sum()"
   ]
  },
  {
   "cell_type": "markdown",
   "metadata": {},
   "source": [
    "Все пропуски заполнены."
   ]
  },
  {
   "cell_type": "markdown",
   "metadata": {},
   "source": [
    "**Вывод:** Пропуски наблюдались в столбцах puNumber, film_studio, production_country, director, producer, refundable_support, nonrefundable_support, budget, financing_source и genres. В столбце puNumber мы отбросили строку с пропуском, т.к. он был всего 1 и на исследование это не повлияет. В столбцах film_studio, production_country, director, producer и genres пропуски были заменены на \"Студия не указана\", \"Страна не указана\", \"Режиссер не указан\", \"Продюсер не указан\", \"Жанр не указан\" соответственно. В столбцах refundable_support, nonrefundable_support и budget пропуски заменим на 0, т.к. это фильмы, которые не получили государственной финансовой поддержки и, предположительно, финансировались из других источников. В столбце financing_source на место пропущенных источников финансирования можем поставить \"Иное\", т.к. мы предполагаем, что это негосударственные источники. В столбце box_office заменили пропуски на 0, т.к. такими данными мы не обладаем, а большую часть данных из датафрейма удалять нецелесообразно. Эти данные, если они имеются, можно уточнить у сотрудников или уточнить причину их отсутствия."
   ]
  },
  {
   "cell_type": "markdown",
   "metadata": {
    "id": "4c6k1t9ygFyQ"
   },
   "source": [
    "#### Шаг 2.3. Изучите дубликаты в датафрейме\n",
    "- Проверьте, есть ли в данных дубликаты. Опишите причины, которые могли повлиять на появление дублей."
   ]
  },
  {
   "cell_type": "markdown",
   "metadata": {},
   "source": [
    "Проверим сколько идентичных строк есть в датафрейме."
   ]
  },
  {
   "cell_type": "code",
   "execution_count": 27,
   "metadata": {
    "id": "aKck8RIdgFyQ"
   },
   "outputs": [
    {
     "data": {
      "text/plain": [
       "0"
      ]
     },
     "execution_count": 27,
     "metadata": {},
     "output_type": "execute_result"
    }
   ],
   "source": [
    "data_movies.duplicated().sum()"
   ]
  },
  {
   "cell_type": "markdown",
   "metadata": {},
   "source": [
    "Совпадений не наблюдается.\n",
    "\n",
    "Предполагая, что фильмы могли быть задублированы, попробуем найти совпадения по названиям фильмов, дате их выхода, типу, студии, стране, режиссеру и продюссеру."
   ]
  },
  {
   "cell_type": "code",
   "execution_count": 28,
   "metadata": {},
   "outputs": [
    {
     "data": {
      "text/html": [
       "<div>\n",
       "<style scoped>\n",
       "    .dataframe tbody tr th:only-of-type {\n",
       "        vertical-align: middle;\n",
       "    }\n",
       "\n",
       "    .dataframe tbody tr th {\n",
       "        vertical-align: top;\n",
       "    }\n",
       "\n",
       "    .dataframe thead th {\n",
       "        text-align: right;\n",
       "    }\n",
       "</style>\n",
       "<table border=\"1\" class=\"dataframe\">\n",
       "  <thead>\n",
       "    <tr style=\"text-align: right;\">\n",
       "      <th></th>\n",
       "      <th>title</th>\n",
       "      <th>puNumber</th>\n",
       "      <th>show_start_date</th>\n",
       "      <th>type</th>\n",
       "      <th>film_studio</th>\n",
       "      <th>production_country</th>\n",
       "      <th>director</th>\n",
       "      <th>producer</th>\n",
       "      <th>age_restriction</th>\n",
       "      <th>refundable_support</th>\n",
       "      <th>nonrefundable_support</th>\n",
       "      <th>budget</th>\n",
       "      <th>financing_source</th>\n",
       "      <th>ratings</th>\n",
       "      <th>genres</th>\n",
       "      <th>box_office</th>\n",
       "    </tr>\n",
       "  </thead>\n",
       "  <tbody>\n",
       "    <tr>\n",
       "      <th>1300</th>\n",
       "      <td>Эпидемия_</td>\n",
       "      <td>121,025,713.00</td>\n",
       "      <td>2013-10-07 12:00:00+00:00</td>\n",
       "      <td>Художественный</td>\n",
       "      <td>Морена Фильм, Ребелион Террестр, А 3 Медиа Гру...</td>\n",
       "      <td>Испания - Франция</td>\n",
       "      <td>Алекс Пастор, Давид Пастор</td>\n",
       "      <td>Мерседес Гамеро, Альберто Марини, Педро Уриоль</td>\n",
       "      <td>«16+» - для детей старше 16 лет</td>\n",
       "      <td>0.00</td>\n",
       "      <td>0.00</td>\n",
       "      <td>0.00</td>\n",
       "      <td>Иное</td>\n",
       "      <td>7.20</td>\n",
       "      <td>драма,фантастика,триллер</td>\n",
       "      <td>0.00</td>\n",
       "    </tr>\n",
       "    <tr>\n",
       "      <th>1301</th>\n",
       "      <td>Эпидемия_</td>\n",
       "      <td>221,035,513.00</td>\n",
       "      <td>2013-10-07 12:00:00+00:00</td>\n",
       "      <td>Художественный</td>\n",
       "      <td>Морена Фильм, Ребелион Террестр, А 3 Медиа Гру...</td>\n",
       "      <td>Испания - Франция</td>\n",
       "      <td>Алекс Пастор, Давид Пастор</td>\n",
       "      <td>Мерседес Гамеро, Альберто Марини, Педро Уриоль</td>\n",
       "      <td>«16+» - для детей старше 16 лет</td>\n",
       "      <td>0.00</td>\n",
       "      <td>0.00</td>\n",
       "      <td>0.00</td>\n",
       "      <td>Иное</td>\n",
       "      <td>7.20</td>\n",
       "      <td>драма,фантастика,триллер</td>\n",
       "      <td>0.00</td>\n",
       "    </tr>\n",
       "    <tr>\n",
       "      <th>1475</th>\n",
       "      <td>Оторвы</td>\n",
       "      <td>121,006,514.00</td>\n",
       "      <td>2014-04-07 12:00:00+00:00</td>\n",
       "      <td>Художественный</td>\n",
       "      <td>Проминент Пикчерз, Ворлдвью Интертейнмент, Инд...</td>\n",
       "      <td>США</td>\n",
       "      <td>Кристофер Нельсон</td>\n",
       "      <td>Молли Коннерс, Хезер Рэй</td>\n",
       "      <td>«16+» - для детей старше 16 лет</td>\n",
       "      <td>0.00</td>\n",
       "      <td>0.00</td>\n",
       "      <td>0.00</td>\n",
       "      <td>Иное</td>\n",
       "      <td>3.50</td>\n",
       "      <td>комедия,приключения</td>\n",
       "      <td>0.00</td>\n",
       "    </tr>\n",
       "    <tr>\n",
       "      <th>1476</th>\n",
       "      <td>Оторвы</td>\n",
       "      <td>221,013,214.00</td>\n",
       "      <td>2014-04-07 12:00:00+00:00</td>\n",
       "      <td>Художественный</td>\n",
       "      <td>Проминент Пикчерз, Ворлдвью Интертейнмент, Инд...</td>\n",
       "      <td>США</td>\n",
       "      <td>Кристофер Нельсон</td>\n",
       "      <td>Молли Коннерс, Хезер Рэй</td>\n",
       "      <td>«16+» - для детей старше 16 лет</td>\n",
       "      <td>0.00</td>\n",
       "      <td>0.00</td>\n",
       "      <td>0.00</td>\n",
       "      <td>Иное</td>\n",
       "      <td>3.50</td>\n",
       "      <td>комедия,приключения</td>\n",
       "      <td>0.00</td>\n",
       "    </tr>\n",
       "    <tr>\n",
       "      <th>2191</th>\n",
       "      <td>Последние пять лет.</td>\n",
       "      <td>221,008,115.00</td>\n",
       "      <td>2015-03-25 12:00:00+00:00</td>\n",
       "      <td>Художественный</td>\n",
       "      <td>Гранд Пикс Интертейнмент, Лаки Манки Пикчерз, ...</td>\n",
       "      <td>США</td>\n",
       "      <td>Ричард ЛаГравенес</td>\n",
       "      <td>Джанет Бреннер, Лорен Версель, Курт Дойтч, Рич...</td>\n",
       "      <td>«16+» - для детей старше 16 лет</td>\n",
       "      <td>0.00</td>\n",
       "      <td>0.00</td>\n",
       "      <td>0.00</td>\n",
       "      <td>Иное</td>\n",
       "      <td>5.70</td>\n",
       "      <td>мюзикл,драма,мелодрама</td>\n",
       "      <td>0.00</td>\n",
       "    </tr>\n",
       "    <tr>\n",
       "      <th>2192</th>\n",
       "      <td>Последние пять лет.</td>\n",
       "      <td>121,005,715.00</td>\n",
       "      <td>2015-03-25 12:00:00+00:00</td>\n",
       "      <td>Художественный</td>\n",
       "      <td>Гранд Пикс Интертейнмент, Лаки Манки Пикчерз, ...</td>\n",
       "      <td>США</td>\n",
       "      <td>Ричард ЛаГравенес</td>\n",
       "      <td>Джанет Бреннер, Лорен Версель, Курт Дойтч, Рич...</td>\n",
       "      <td>«16+» - для детей старше 16 лет</td>\n",
       "      <td>0.00</td>\n",
       "      <td>0.00</td>\n",
       "      <td>0.00</td>\n",
       "      <td>Иное</td>\n",
       "      <td>5.70</td>\n",
       "      <td>мюзикл,драма,мелодрама</td>\n",
       "      <td>52,495.00</td>\n",
       "    </tr>\n",
       "    <tr>\n",
       "      <th>2752</th>\n",
       "      <td>Пингвиненок Пороро: Большие гонки</td>\n",
       "      <td>224,001,915.00</td>\n",
       "      <td>2015-04-15 12:00:00+00:00</td>\n",
       "      <td>Анимационный</td>\n",
       "      <td>Окон Студиос, Чина Филм, Симка Интертейнмент, ...</td>\n",
       "      <td>Южная Корея - КНР</td>\n",
       "      <td>Юнг Куюн Парк</td>\n",
       "      <td>Иль Хо Ким, Михал Симка</td>\n",
       "      <td>«0+» - для любой зрительской аудитории</td>\n",
       "      <td>0.00</td>\n",
       "      <td>0.00</td>\n",
       "      <td>0.00</td>\n",
       "      <td>Иное</td>\n",
       "      <td>5.20</td>\n",
       "      <td>мультфильм,семейный,спорт</td>\n",
       "      <td>1,360.00</td>\n",
       "    </tr>\n",
       "    <tr>\n",
       "      <th>2753</th>\n",
       "      <td>Пингвиненок Пороро: Большие гонки</td>\n",
       "      <td>124,001,915.00</td>\n",
       "      <td>2015-04-15 12:00:00+00:00</td>\n",
       "      <td>Анимационный</td>\n",
       "      <td>Окон Студиос, Чина Филм, Симка Интертейнмент, ...</td>\n",
       "      <td>Южная Корея - КНР</td>\n",
       "      <td>Юнг Куюн Парк</td>\n",
       "      <td>Иль Хо Ким, Михал Симка</td>\n",
       "      <td>«0+» - для любой зрительской аудитории</td>\n",
       "      <td>0.00</td>\n",
       "      <td>0.00</td>\n",
       "      <td>0.00</td>\n",
       "      <td>Иное</td>\n",
       "      <td>5.20</td>\n",
       "      <td>мультфильм,семейный,спорт</td>\n",
       "      <td>14,152,495.90</td>\n",
       "    </tr>\n",
       "    <tr>\n",
       "      <th>3086</th>\n",
       "      <td>Анархисты</td>\n",
       "      <td>221,003,916.00</td>\n",
       "      <td>2016-02-03 12:00:00+00:00</td>\n",
       "      <td>Художественный</td>\n",
       "      <td>24 Май Продюксьон, Франс 2 Синема</td>\n",
       "      <td>Франция</td>\n",
       "      <td>Эли Важеман</td>\n",
       "      <td>Лола Гэнс</td>\n",
       "      <td>«16+» - для детей старше 16 лет</td>\n",
       "      <td>0.00</td>\n",
       "      <td>0.00</td>\n",
       "      <td>0.00</td>\n",
       "      <td>Иное</td>\n",
       "      <td>5.70</td>\n",
       "      <td>драма</td>\n",
       "      <td>0.00</td>\n",
       "    </tr>\n",
       "    <tr>\n",
       "      <th>3087</th>\n",
       "      <td>Анархисты</td>\n",
       "      <td>121,002,316.00</td>\n",
       "      <td>2016-02-03 12:00:00+00:00</td>\n",
       "      <td>Художественный</td>\n",
       "      <td>24 Май Продюксьон, Франс 2 Синема</td>\n",
       "      <td>Франция</td>\n",
       "      <td>Эли Важеман</td>\n",
       "      <td>Лола Гэнс</td>\n",
       "      <td>«16+» - для детей старше 16 лет</td>\n",
       "      <td>0.00</td>\n",
       "      <td>0.00</td>\n",
       "      <td>0.00</td>\n",
       "      <td>Иное</td>\n",
       "      <td>5.70</td>\n",
       "      <td>драма</td>\n",
       "      <td>332,371.00</td>\n",
       "    </tr>\n",
       "    <tr>\n",
       "      <th>4042</th>\n",
       "      <td>Бугай</td>\n",
       "      <td>224,021,210.00</td>\n",
       "      <td>2010-09-24 12:00:00+00:00</td>\n",
       "      <td>Анимационный</td>\n",
       "      <td>Иллюзион Студиос, Процесо</td>\n",
       "      <td>Мексика-Аргентина</td>\n",
       "      <td>Густаво Кова</td>\n",
       "      <td>Хуго Е. Лаура, Хосе Луис Масса</td>\n",
       "      <td>«16+» - для детей старше 16 лет</td>\n",
       "      <td>0.00</td>\n",
       "      <td>0.00</td>\n",
       "      <td>0.00</td>\n",
       "      <td>Иное</td>\n",
       "      <td>6.60</td>\n",
       "      <td>мультфильм,боевик,триллер</td>\n",
       "      <td>0.00</td>\n",
       "    </tr>\n",
       "    <tr>\n",
       "      <th>4043</th>\n",
       "      <td>Бугай</td>\n",
       "      <td>124,001,210.00</td>\n",
       "      <td>2010-09-24 12:00:00+00:00</td>\n",
       "      <td>Анимационный</td>\n",
       "      <td>Иллюзион Студиос, Процесо</td>\n",
       "      <td>Мексика-Аргентина</td>\n",
       "      <td>Густаво Кова</td>\n",
       "      <td>Хуго Е. Лаура, Хосе Луис Масса</td>\n",
       "      <td>«16+» - для детей старше 16 лет</td>\n",
       "      <td>0.00</td>\n",
       "      <td>0.00</td>\n",
       "      <td>0.00</td>\n",
       "      <td>Иное</td>\n",
       "      <td>6.60</td>\n",
       "      <td>мультфильм,боевик,триллер</td>\n",
       "      <td>0.00</td>\n",
       "    </tr>\n",
       "    <tr>\n",
       "      <th>6379</th>\n",
       "      <td>Ян Антонышев</td>\n",
       "      <td>112,011,818.00</td>\n",
       "      <td>2018-11-15 12:00:00+00:00</td>\n",
       "      <td>Документальный</td>\n",
       "      <td>Студия не указана</td>\n",
       "      <td>Россия</td>\n",
       "      <td>Е.Окопная</td>\n",
       "      <td>Е.Герасимов</td>\n",
       "      <td>«12+» - для детей старше 12 лет</td>\n",
       "      <td>0.00</td>\n",
       "      <td>0.00</td>\n",
       "      <td>0.00</td>\n",
       "      <td>Иное</td>\n",
       "      <td>0.00</td>\n",
       "      <td>Жанр не указан</td>\n",
       "      <td>0.00</td>\n",
       "    </tr>\n",
       "    <tr>\n",
       "      <th>6380</th>\n",
       "      <td>Ян Антонышев</td>\n",
       "      <td>112,011,918.00</td>\n",
       "      <td>2018-11-15 12:00:00+00:00</td>\n",
       "      <td>Документальный</td>\n",
       "      <td>Студия не указана</td>\n",
       "      <td>Россия</td>\n",
       "      <td>Е.Окопная</td>\n",
       "      <td>Е.Герасимов</td>\n",
       "      <td>«12+» - для детей старше 12 лет</td>\n",
       "      <td>0.00</td>\n",
       "      <td>0.00</td>\n",
       "      <td>0.00</td>\n",
       "      <td>Иное</td>\n",
       "      <td>0.00</td>\n",
       "      <td>Жанр не указан</td>\n",
       "      <td>0.00</td>\n",
       "    </tr>\n",
       "    <tr>\n",
       "      <th>6428</th>\n",
       "      <td>Зоя</td>\n",
       "      <td>111,022,618.00</td>\n",
       "      <td>2018-11-25 12:00:00+00:00</td>\n",
       "      <td>Художественный</td>\n",
       "      <td>Тарханова Юлия Олеговна</td>\n",
       "      <td>Россия</td>\n",
       "      <td>О.Товма</td>\n",
       "      <td>Ю.Тарханова</td>\n",
       "      <td>«16+» - для детей старше 16 лет</td>\n",
       "      <td>0.00</td>\n",
       "      <td>0.00</td>\n",
       "      <td>0.00</td>\n",
       "      <td>Иное</td>\n",
       "      <td>3.90</td>\n",
       "      <td>история,биография,военный</td>\n",
       "      <td>0.00</td>\n",
       "    </tr>\n",
       "    <tr>\n",
       "      <th>6429</th>\n",
       "      <td>Зоя</td>\n",
       "      <td>111,022,718.00</td>\n",
       "      <td>2018-11-25 12:00:00+00:00</td>\n",
       "      <td>Художественный</td>\n",
       "      <td>Тарханова Юлия Олеговна</td>\n",
       "      <td>Россия</td>\n",
       "      <td>О.Товма</td>\n",
       "      <td>Ю.Тарханова</td>\n",
       "      <td>«16+» - для детей старше 16 лет</td>\n",
       "      <td>0.00</td>\n",
       "      <td>0.00</td>\n",
       "      <td>0.00</td>\n",
       "      <td>Иное</td>\n",
       "      <td>3.90</td>\n",
       "      <td>история,биография,военный</td>\n",
       "      <td>0.00</td>\n",
       "    </tr>\n",
       "  </tbody>\n",
       "</table>\n",
       "</div>"
      ],
      "text/plain": [
       "                                  title       puNumber  \\\n",
       "1300                          Эпидемия_ 121,025,713.00   \n",
       "1301                          Эпидемия_ 221,035,513.00   \n",
       "1475                             Оторвы 121,006,514.00   \n",
       "1476                             Оторвы 221,013,214.00   \n",
       "2191                Последние пять лет. 221,008,115.00   \n",
       "2192                Последние пять лет. 121,005,715.00   \n",
       "2752  Пингвиненок Пороро: Большие гонки 224,001,915.00   \n",
       "2753  Пингвиненок Пороро: Большие гонки 124,001,915.00   \n",
       "3086                          Анархисты 221,003,916.00   \n",
       "3087                          Анархисты 121,002,316.00   \n",
       "4042                              Бугай 224,021,210.00   \n",
       "4043                              Бугай 124,001,210.00   \n",
       "6379                       Ян Антонышев 112,011,818.00   \n",
       "6380                       Ян Антонышев 112,011,918.00   \n",
       "6428                                Зоя 111,022,618.00   \n",
       "6429                                Зоя 111,022,718.00   \n",
       "\n",
       "               show_start_date             type  \\\n",
       "1300 2013-10-07 12:00:00+00:00   Художественный   \n",
       "1301 2013-10-07 12:00:00+00:00   Художественный   \n",
       "1475 2014-04-07 12:00:00+00:00   Художественный   \n",
       "1476 2014-04-07 12:00:00+00:00   Художественный   \n",
       "2191 2015-03-25 12:00:00+00:00   Художественный   \n",
       "2192 2015-03-25 12:00:00+00:00   Художественный   \n",
       "2752 2015-04-15 12:00:00+00:00     Анимационный   \n",
       "2753 2015-04-15 12:00:00+00:00     Анимационный   \n",
       "3086 2016-02-03 12:00:00+00:00   Художественный   \n",
       "3087 2016-02-03 12:00:00+00:00   Художественный   \n",
       "4042 2010-09-24 12:00:00+00:00     Анимационный   \n",
       "4043 2010-09-24 12:00:00+00:00     Анимационный   \n",
       "6379 2018-11-15 12:00:00+00:00   Документальный   \n",
       "6380 2018-11-15 12:00:00+00:00   Документальный   \n",
       "6428 2018-11-25 12:00:00+00:00   Художественный   \n",
       "6429 2018-11-25 12:00:00+00:00   Художественный   \n",
       "\n",
       "                                            film_studio production_country  \\\n",
       "1300  Морена Фильм, Ребелион Террестр, А 3 Медиа Гру...  Испания - Франция   \n",
       "1301  Морена Фильм, Ребелион Террестр, А 3 Медиа Гру...  Испания - Франция   \n",
       "1475  Проминент Пикчерз, Ворлдвью Интертейнмент, Инд...                США   \n",
       "1476  Проминент Пикчерз, Ворлдвью Интертейнмент, Инд...                США   \n",
       "2191  Гранд Пикс Интертейнмент, Лаки Манки Пикчерз, ...                США   \n",
       "2192  Гранд Пикс Интертейнмент, Лаки Манки Пикчерз, ...                США   \n",
       "2752  Окон Студиос, Чина Филм, Симка Интертейнмент, ...  Южная Корея - КНР   \n",
       "2753  Окон Студиос, Чина Филм, Симка Интертейнмент, ...  Южная Корея - КНР   \n",
       "3086                  24 Май Продюксьон, Франс 2 Синема            Франция   \n",
       "3087                  24 Май Продюксьон, Франс 2 Синема            Франция   \n",
       "4042                          Иллюзион Студиос, Процесо  Мексика-Аргентина   \n",
       "4043                          Иллюзион Студиос, Процесо  Мексика-Аргентина   \n",
       "6379                                  Студия не указана             Россия   \n",
       "6380                                  Студия не указана             Россия   \n",
       "6428                            Тарханова Юлия Олеговна             Россия   \n",
       "6429                            Тарханова Юлия Олеговна             Россия   \n",
       "\n",
       "                        director  \\\n",
       "1300  Алекс Пастор, Давид Пастор   \n",
       "1301  Алекс Пастор, Давид Пастор   \n",
       "1475           Кристофер Нельсон   \n",
       "1476           Кристофер Нельсон   \n",
       "2191           Ричард ЛаГравенес   \n",
       "2192           Ричард ЛаГравенес   \n",
       "2752               Юнг Куюн Парк   \n",
       "2753               Юнг Куюн Парк   \n",
       "3086                 Эли Важеман   \n",
       "3087                 Эли Важеман   \n",
       "4042                Густаво Кова   \n",
       "4043                Густаво Кова   \n",
       "6379                   Е.Окопная   \n",
       "6380                   Е.Окопная   \n",
       "6428                     О.Товма   \n",
       "6429                     О.Товма   \n",
       "\n",
       "                                               producer  \\\n",
       "1300     Мерседес Гамеро, Альберто Марини, Педро Уриоль   \n",
       "1301     Мерседес Гамеро, Альберто Марини, Педро Уриоль   \n",
       "1475                           Молли Коннерс, Хезер Рэй   \n",
       "1476                           Молли Коннерс, Хезер Рэй   \n",
       "2191  Джанет Бреннер, Лорен Версель, Курт Дойтч, Рич...   \n",
       "2192  Джанет Бреннер, Лорен Версель, Курт Дойтч, Рич...   \n",
       "2752                            Иль Хо Ким, Михал Симка   \n",
       "2753                            Иль Хо Ким, Михал Симка   \n",
       "3086                                          Лола Гэнс   \n",
       "3087                                          Лола Гэнс   \n",
       "4042                     Хуго Е. Лаура, Хосе Луис Масса   \n",
       "4043                     Хуго Е. Лаура, Хосе Луис Масса   \n",
       "6379                                        Е.Герасимов   \n",
       "6380                                        Е.Герасимов   \n",
       "6428                                        Ю.Тарханова   \n",
       "6429                                        Ю.Тарханова   \n",
       "\n",
       "                             age_restriction  refundable_support  \\\n",
       "1300         «16+» - для детей старше 16 лет                0.00   \n",
       "1301         «16+» - для детей старше 16 лет                0.00   \n",
       "1475         «16+» - для детей старше 16 лет                0.00   \n",
       "1476         «16+» - для детей старше 16 лет                0.00   \n",
       "2191         «16+» - для детей старше 16 лет                0.00   \n",
       "2192         «16+» - для детей старше 16 лет                0.00   \n",
       "2752  «0+» - для любой зрительской аудитории                0.00   \n",
       "2753  «0+» - для любой зрительской аудитории                0.00   \n",
       "3086         «16+» - для детей старше 16 лет                0.00   \n",
       "3087         «16+» - для детей старше 16 лет                0.00   \n",
       "4042         «16+» - для детей старше 16 лет                0.00   \n",
       "4043         «16+» - для детей старше 16 лет                0.00   \n",
       "6379         «12+» - для детей старше 12 лет                0.00   \n",
       "6380         «12+» - для детей старше 12 лет                0.00   \n",
       "6428         «16+» - для детей старше 16 лет                0.00   \n",
       "6429         «16+» - для детей старше 16 лет                0.00   \n",
       "\n",
       "      nonrefundable_support  budget financing_source  ratings  \\\n",
       "1300                   0.00    0.00             Иное     7.20   \n",
       "1301                   0.00    0.00             Иное     7.20   \n",
       "1475                   0.00    0.00             Иное     3.50   \n",
       "1476                   0.00    0.00             Иное     3.50   \n",
       "2191                   0.00    0.00             Иное     5.70   \n",
       "2192                   0.00    0.00             Иное     5.70   \n",
       "2752                   0.00    0.00             Иное     5.20   \n",
       "2753                   0.00    0.00             Иное     5.20   \n",
       "3086                   0.00    0.00             Иное     5.70   \n",
       "3087                   0.00    0.00             Иное     5.70   \n",
       "4042                   0.00    0.00             Иное     6.60   \n",
       "4043                   0.00    0.00             Иное     6.60   \n",
       "6379                   0.00    0.00             Иное     0.00   \n",
       "6380                   0.00    0.00             Иное     0.00   \n",
       "6428                   0.00    0.00             Иное     3.90   \n",
       "6429                   0.00    0.00             Иное     3.90   \n",
       "\n",
       "                         genres    box_office  \n",
       "1300   драма,фантастика,триллер          0.00  \n",
       "1301   драма,фантастика,триллер          0.00  \n",
       "1475        комедия,приключения          0.00  \n",
       "1476        комедия,приключения          0.00  \n",
       "2191     мюзикл,драма,мелодрама          0.00  \n",
       "2192     мюзикл,драма,мелодрама     52,495.00  \n",
       "2752  мультфильм,семейный,спорт      1,360.00  \n",
       "2753  мультфильм,семейный,спорт 14,152,495.90  \n",
       "3086                      драма          0.00  \n",
       "3087                      драма    332,371.00  \n",
       "4042  мультфильм,боевик,триллер          0.00  \n",
       "4043  мультфильм,боевик,триллер          0.00  \n",
       "6379             Жанр не указан          0.00  \n",
       "6380             Жанр не указан          0.00  \n",
       "6428  история,биография,военный          0.00  \n",
       "6429  история,биография,военный          0.00  "
      ]
     },
     "execution_count": 28,
     "metadata": {},
     "output_type": "execute_result"
    }
   ],
   "source": [
    "#выведем строчки с дубликатами\n",
    "data_movies[data_movies.duplicated(subset=['title', 'show_start_date', 'type', 'film_studio', 'production_country', 'director'], keep=False)]"
   ]
  },
  {
   "cell_type": "markdown",
   "metadata": {},
   "source": [
    "Нашли 8 полных дубликатов, но у всех этих фильмов разные прокатные удостоверения. Фильмы могут получать несколько прокатных удостоверений на разные способы использования фильма. В нашем случае появление дублей может быть связано с этим фактом, поэтому удалять мы их не будем."
   ]
  },
  {
   "cell_type": "markdown",
   "metadata": {},
   "source": [
    "Проверим наличие дубликатов по столбцу с прокатными удостоверениями."
   ]
  },
  {
   "cell_type": "code",
   "execution_count": 29,
   "metadata": {
    "scrolled": true
   },
   "outputs": [
    {
     "data": {
      "text/html": [
       "<div>\n",
       "<style scoped>\n",
       "    .dataframe tbody tr th:only-of-type {\n",
       "        vertical-align: middle;\n",
       "    }\n",
       "\n",
       "    .dataframe tbody tr th {\n",
       "        vertical-align: top;\n",
       "    }\n",
       "\n",
       "    .dataframe thead th {\n",
       "        text-align: right;\n",
       "    }\n",
       "</style>\n",
       "<table border=\"1\" class=\"dataframe\">\n",
       "  <thead>\n",
       "    <tr style=\"text-align: right;\">\n",
       "      <th></th>\n",
       "      <th>title</th>\n",
       "      <th>puNumber</th>\n",
       "      <th>show_start_date</th>\n",
       "      <th>type</th>\n",
       "      <th>film_studio</th>\n",
       "      <th>production_country</th>\n",
       "      <th>director</th>\n",
       "      <th>producer</th>\n",
       "      <th>age_restriction</th>\n",
       "      <th>refundable_support</th>\n",
       "      <th>nonrefundable_support</th>\n",
       "      <th>budget</th>\n",
       "      <th>financing_source</th>\n",
       "      <th>ratings</th>\n",
       "      <th>genres</th>\n",
       "      <th>box_office</th>\n",
       "    </tr>\n",
       "  </thead>\n",
       "  <tbody>\n",
       "    <tr>\n",
       "      <th>4638</th>\n",
       "      <td>Как жениться и остаться холостым</td>\n",
       "      <td>221,154,310.00</td>\n",
       "      <td>2010-12-17 12:00:00+00:00</td>\n",
       "      <td>Художественный</td>\n",
       "      <td>Ше Вам, Скрипт Ассосье, Тэ Фэ 1 Фильм Продюксь...</td>\n",
       "      <td>Франция</td>\n",
       "      <td>Эрик Лартиго</td>\n",
       "      <td>Амандин Било, Алан Шаба</td>\n",
       "      <td>«16+» - для детей старше 16 лет</td>\n",
       "      <td>0.00</td>\n",
       "      <td>0.00</td>\n",
       "      <td>0.00</td>\n",
       "      <td>Иное</td>\n",
       "      <td>7.00</td>\n",
       "      <td>мелодрама,комедия</td>\n",
       "      <td>0.00</td>\n",
       "    </tr>\n",
       "    <tr>\n",
       "      <th>4639</th>\n",
       "      <td>Иоанна - женщина на папском престоле /По роман...</td>\n",
       "      <td>221,154,310.00</td>\n",
       "      <td>2010-12-17 12:00:00+00:00</td>\n",
       "      <td>Художественный</td>\n",
       "      <td>Константин Фильм, А Эр Ди Дегето Фильм, Дюне ...</td>\n",
       "      <td>Германия - Великобритания - Италия - Испания</td>\n",
       "      <td>Зенке Вортманн</td>\n",
       "      <td>Оливер Бербен, Дорис Д.Хайнце, Фарук Элтан</td>\n",
       "      <td>«16+» - для детей старше 16 лет</td>\n",
       "      <td>0.00</td>\n",
       "      <td>0.00</td>\n",
       "      <td>0.00</td>\n",
       "      <td>Иное</td>\n",
       "      <td>7.60</td>\n",
       "      <td>драма,мелодрама,история</td>\n",
       "      <td>0.00</td>\n",
       "    </tr>\n",
       "    <tr>\n",
       "      <th>5067</th>\n",
       "      <td>Анализируй это!</td>\n",
       "      <td>221,054,410.00</td>\n",
       "      <td>2010-05-25 12:00:00+00:00</td>\n",
       "      <td>Художественный</td>\n",
       "      <td>Уорнер Бразерс, Вилладж Роудшоу Филмз ЛТД</td>\n",
       "      <td>США-Австралия</td>\n",
       "      <td>ХЭрольд Рэмис</td>\n",
       "      <td>Джейн Розенталь, Пола Уейнстейн</td>\n",
       "      <td>«16+» - для детей старше 16 лет</td>\n",
       "      <td>0.00</td>\n",
       "      <td>0.00</td>\n",
       "      <td>0.00</td>\n",
       "      <td>Иное</td>\n",
       "      <td>7.40</td>\n",
       "      <td>комедия,криминал</td>\n",
       "      <td>0.00</td>\n",
       "    </tr>\n",
       "    <tr>\n",
       "      <th>5068</th>\n",
       "      <td>Анализируй то!</td>\n",
       "      <td>221,054,410.00</td>\n",
       "      <td>2010-05-25 12:00:00+00:00</td>\n",
       "      <td>Художественный</td>\n",
       "      <td>Уорнер Бразерс, Виллидж Роадшоу Пикчерз, Эн-Пи...</td>\n",
       "      <td>США</td>\n",
       "      <td>Гарольд Реймис</td>\n",
       "      <td>Джейн Розенталь, Паул Уэйнстейн</td>\n",
       "      <td>«12+» - для детей старше 12 лет</td>\n",
       "      <td>0.00</td>\n",
       "      <td>0.00</td>\n",
       "      <td>0.00</td>\n",
       "      <td>Иное</td>\n",
       "      <td>6.80</td>\n",
       "      <td>комедия,криминал</td>\n",
       "      <td>0.00</td>\n",
       "    </tr>\n",
       "  </tbody>\n",
       "</table>\n",
       "</div>"
      ],
      "text/plain": [
       "                                                  title       puNumber  \\\n",
       "4638                   Как жениться и остаться холостым 221,154,310.00   \n",
       "4639  Иоанна - женщина на папском престоле /По роман... 221,154,310.00   \n",
       "5067                                    Анализируй это! 221,054,410.00   \n",
       "5068                                     Анализируй то! 221,054,410.00   \n",
       "\n",
       "               show_start_date            type  \\\n",
       "4638 2010-12-17 12:00:00+00:00  Художественный   \n",
       "4639 2010-12-17 12:00:00+00:00  Художественный   \n",
       "5067 2010-05-25 12:00:00+00:00  Художественный   \n",
       "5068 2010-05-25 12:00:00+00:00  Художественный   \n",
       "\n",
       "                                            film_studio  \\\n",
       "4638  Ше Вам, Скрипт Ассосье, Тэ Фэ 1 Фильм Продюксь...   \n",
       "4639   Константин Фильм, А Эр Ди Дегето Фильм, Дюне ...   \n",
       "5067          Уорнер Бразерс, Вилладж Роудшоу Филмз ЛТД   \n",
       "5068  Уорнер Бразерс, Виллидж Роадшоу Пикчерз, Эн-Пи...   \n",
       "\n",
       "                                production_country        director  \\\n",
       "4638                                       Франция    Эрик Лартиго   \n",
       "4639  Германия - Великобритания - Италия - Испания  Зенке Вортманн   \n",
       "5067                                 США-Австралия   ХЭрольд Рэмис   \n",
       "5068                                           США  Гарольд Реймис   \n",
       "\n",
       "                                        producer  \\\n",
       "4638                     Амандин Било, Алан Шаба   \n",
       "4639  Оливер Бербен, Дорис Д.Хайнце, Фарук Элтан   \n",
       "5067             Джейн Розенталь, Пола Уейнстейн   \n",
       "5068             Джейн Розенталь, Паул Уэйнстейн   \n",
       "\n",
       "                      age_restriction  refundable_support  \\\n",
       "4638  «16+» - для детей старше 16 лет                0.00   \n",
       "4639  «16+» - для детей старше 16 лет                0.00   \n",
       "5067  «16+» - для детей старше 16 лет                0.00   \n",
       "5068  «12+» - для детей старше 12 лет                0.00   \n",
       "\n",
       "      nonrefundable_support  budget financing_source  ratings  \\\n",
       "4638                   0.00    0.00             Иное     7.00   \n",
       "4639                   0.00    0.00             Иное     7.60   \n",
       "5067                   0.00    0.00             Иное     7.40   \n",
       "5068                   0.00    0.00             Иное     6.80   \n",
       "\n",
       "                       genres  box_office  \n",
       "4638        мелодрама,комедия        0.00  \n",
       "4639  драма,мелодрама,история        0.00  \n",
       "5067         комедия,криминал        0.00  \n",
       "5068         комедия,криминал        0.00  "
      ]
     },
     "execution_count": 29,
     "metadata": {},
     "output_type": "execute_result"
    }
   ],
   "source": [
    "#выведем строчки с дубликатами по столбцу puNumber\n",
    "data_movies[data_movies['puNumber'].duplicated(keep=False)]"
   ]
  },
  {
   "cell_type": "markdown",
   "metadata": {},
   "source": [
    "Видим, что фильмы \"Как жениться и остаться холостым\" и \"Иоанна - женщина на папском престоле\" имеют одинаковые номера прокатных удостоверений. Тоже самое происходит и с фильмами \"Анализируй это!\" и \"Анализируй то!\"."
   ]
  },
  {
   "cell_type": "markdown",
   "metadata": {},
   "source": [
    "Посмотрим есть ли у фильма \"Как жениться и остаться холостым\" дубли."
   ]
  },
  {
   "cell_type": "code",
   "execution_count": 30,
   "metadata": {},
   "outputs": [
    {
     "data": {
      "text/html": [
       "<div>\n",
       "<style scoped>\n",
       "    .dataframe tbody tr th:only-of-type {\n",
       "        vertical-align: middle;\n",
       "    }\n",
       "\n",
       "    .dataframe tbody tr th {\n",
       "        vertical-align: top;\n",
       "    }\n",
       "\n",
       "    .dataframe thead th {\n",
       "        text-align: right;\n",
       "    }\n",
       "</style>\n",
       "<table border=\"1\" class=\"dataframe\">\n",
       "  <thead>\n",
       "    <tr style=\"text-align: right;\">\n",
       "      <th></th>\n",
       "      <th>title</th>\n",
       "      <th>puNumber</th>\n",
       "      <th>show_start_date</th>\n",
       "      <th>type</th>\n",
       "      <th>film_studio</th>\n",
       "      <th>production_country</th>\n",
       "      <th>director</th>\n",
       "      <th>producer</th>\n",
       "      <th>age_restriction</th>\n",
       "      <th>refundable_support</th>\n",
       "      <th>nonrefundable_support</th>\n",
       "      <th>budget</th>\n",
       "      <th>financing_source</th>\n",
       "      <th>ratings</th>\n",
       "      <th>genres</th>\n",
       "      <th>box_office</th>\n",
       "    </tr>\n",
       "  </thead>\n",
       "  <tbody>\n",
       "    <tr>\n",
       "      <th>4520</th>\n",
       "      <td>Как жениться и остаться холостым</td>\n",
       "      <td>221,142,510.00</td>\n",
       "      <td>2010-12-03 12:00:00+00:00</td>\n",
       "      <td>Художественный</td>\n",
       "      <td>Ше Вам, Скрипт Ассосье, Тэ Фэ 1 Фильм Продюксь...</td>\n",
       "      <td>Франция</td>\n",
       "      <td>Эрик Лартиго</td>\n",
       "      <td>Амандин Било, Алан Шаба</td>\n",
       "      <td>«16+» - для детей старше 16 лет</td>\n",
       "      <td>0.00</td>\n",
       "      <td>0.00</td>\n",
       "      <td>0.00</td>\n",
       "      <td>Иное</td>\n",
       "      <td>7.00</td>\n",
       "      <td>мелодрама,комедия</td>\n",
       "      <td>0.00</td>\n",
       "    </tr>\n",
       "    <tr>\n",
       "      <th>4638</th>\n",
       "      <td>Как жениться и остаться холостым</td>\n",
       "      <td>221,154,310.00</td>\n",
       "      <td>2010-12-17 12:00:00+00:00</td>\n",
       "      <td>Художественный</td>\n",
       "      <td>Ше Вам, Скрипт Ассосье, Тэ Фэ 1 Фильм Продюксь...</td>\n",
       "      <td>Франция</td>\n",
       "      <td>Эрик Лартиго</td>\n",
       "      <td>Амандин Било, Алан Шаба</td>\n",
       "      <td>«16+» - для детей старше 16 лет</td>\n",
       "      <td>0.00</td>\n",
       "      <td>0.00</td>\n",
       "      <td>0.00</td>\n",
       "      <td>Иное</td>\n",
       "      <td>7.00</td>\n",
       "      <td>мелодрама,комедия</td>\n",
       "      <td>0.00</td>\n",
       "    </tr>\n",
       "  </tbody>\n",
       "</table>\n",
       "</div>"
      ],
      "text/plain": [
       "                                 title       puNumber  \\\n",
       "4520  Как жениться и остаться холостым 221,142,510.00   \n",
       "4638  Как жениться и остаться холостым 221,154,310.00   \n",
       "\n",
       "               show_start_date            type  \\\n",
       "4520 2010-12-03 12:00:00+00:00  Художественный   \n",
       "4638 2010-12-17 12:00:00+00:00  Художественный   \n",
       "\n",
       "                                            film_studio production_country  \\\n",
       "4520  Ше Вам, Скрипт Ассосье, Тэ Фэ 1 Фильм Продюксь...            Франция   \n",
       "4638  Ше Вам, Скрипт Ассосье, Тэ Фэ 1 Фильм Продюксь...            Франция   \n",
       "\n",
       "          director                 producer                  age_restriction  \\\n",
       "4520  Эрик Лартиго  Амандин Било, Алан Шаба  «16+» - для детей старше 16 лет   \n",
       "4638  Эрик Лартиго  Амандин Било, Алан Шаба  «16+» - для детей старше 16 лет   \n",
       "\n",
       "      refundable_support  nonrefundable_support  budget financing_source  \\\n",
       "4520                0.00                   0.00    0.00             Иное   \n",
       "4638                0.00                   0.00    0.00             Иное   \n",
       "\n",
       "      ratings             genres  box_office  \n",
       "4520     7.00  мелодрама,комедия        0.00  \n",
       "4638     7.00  мелодрама,комедия        0.00  "
      ]
     },
     "execution_count": 30,
     "metadata": {},
     "output_type": "execute_result"
    }
   ],
   "source": [
    "data_movies[data_movies['title'] == 'Как жениться и остаться холостым']"
   ]
  },
  {
   "cell_type": "markdown",
   "metadata": {},
   "source": [
    "Этот фильм появляется у нас 2 раза, но у него разные даты выпуска. Скорее всего фильм перезапускали. В связи с тем, чтобы у нас не дублировались номера прокатных удостоверений с фильмом \"Иоанна - женщина на папском престоле\", сделаем допущение и заменим номер прокатного удостоверения на свободный 100000000."
   ]
  },
  {
   "cell_type": "code",
   "execution_count": 31,
   "metadata": {},
   "outputs": [],
   "source": [
    "data_movies.loc[(data_movies['title'] == 'Как жениться и остаться холостым') & (data_movies['puNumber'] == 221154310), 'puNumber'] = 100000000"
   ]
  },
  {
   "cell_type": "markdown",
   "metadata": {},
   "source": [
    "Посмотрим наличие дублей у одного из фильмов следующей пары."
   ]
  },
  {
   "cell_type": "code",
   "execution_count": 32,
   "metadata": {},
   "outputs": [
    {
     "data": {
      "text/html": [
       "<div>\n",
       "<style scoped>\n",
       "    .dataframe tbody tr th:only-of-type {\n",
       "        vertical-align: middle;\n",
       "    }\n",
       "\n",
       "    .dataframe tbody tr th {\n",
       "        vertical-align: top;\n",
       "    }\n",
       "\n",
       "    .dataframe thead th {\n",
       "        text-align: right;\n",
       "    }\n",
       "</style>\n",
       "<table border=\"1\" class=\"dataframe\">\n",
       "  <thead>\n",
       "    <tr style=\"text-align: right;\">\n",
       "      <th></th>\n",
       "      <th>title</th>\n",
       "      <th>puNumber</th>\n",
       "      <th>show_start_date</th>\n",
       "      <th>type</th>\n",
       "      <th>film_studio</th>\n",
       "      <th>production_country</th>\n",
       "      <th>director</th>\n",
       "      <th>producer</th>\n",
       "      <th>age_restriction</th>\n",
       "      <th>refundable_support</th>\n",
       "      <th>nonrefundable_support</th>\n",
       "      <th>budget</th>\n",
       "      <th>financing_source</th>\n",
       "      <th>ratings</th>\n",
       "      <th>genres</th>\n",
       "      <th>box_office</th>\n",
       "    </tr>\n",
       "  </thead>\n",
       "  <tbody>\n",
       "    <tr>\n",
       "      <th>4553</th>\n",
       "      <td>Анализируй это!</td>\n",
       "      <td>221,147,310.00</td>\n",
       "      <td>2010-12-15 12:00:00+00:00</td>\n",
       "      <td>Художественный</td>\n",
       "      <td>Уорнер Бразерс, Вилладж Роудшоу Филмз ЛТД</td>\n",
       "      <td>США-Австралия</td>\n",
       "      <td>ХЭрольд Рэмис</td>\n",
       "      <td>Джейн Розенталь, Пола Уейнстейн</td>\n",
       "      <td>«16+» - для детей старше 16 лет</td>\n",
       "      <td>0.00</td>\n",
       "      <td>0.00</td>\n",
       "      <td>0.00</td>\n",
       "      <td>Иное</td>\n",
       "      <td>7.40</td>\n",
       "      <td>комедия,криминал</td>\n",
       "      <td>0.00</td>\n",
       "    </tr>\n",
       "    <tr>\n",
       "      <th>5067</th>\n",
       "      <td>Анализируй это!</td>\n",
       "      <td>221,054,410.00</td>\n",
       "      <td>2010-05-25 12:00:00+00:00</td>\n",
       "      <td>Художественный</td>\n",
       "      <td>Уорнер Бразерс, Вилладж Роудшоу Филмз ЛТД</td>\n",
       "      <td>США-Австралия</td>\n",
       "      <td>ХЭрольд Рэмис</td>\n",
       "      <td>Джейн Розенталь, Пола Уейнстейн</td>\n",
       "      <td>«16+» - для детей старше 16 лет</td>\n",
       "      <td>0.00</td>\n",
       "      <td>0.00</td>\n",
       "      <td>0.00</td>\n",
       "      <td>Иное</td>\n",
       "      <td>7.40</td>\n",
       "      <td>комедия,криминал</td>\n",
       "      <td>0.00</td>\n",
       "    </tr>\n",
       "  </tbody>\n",
       "</table>\n",
       "</div>"
      ],
      "text/plain": [
       "                title       puNumber           show_start_date  \\\n",
       "4553  Анализируй это! 221,147,310.00 2010-12-15 12:00:00+00:00   \n",
       "5067  Анализируй это! 221,054,410.00 2010-05-25 12:00:00+00:00   \n",
       "\n",
       "                type                                film_studio  \\\n",
       "4553  Художественный  Уорнер Бразерс, Вилладж Роудшоу Филмз ЛТД   \n",
       "5067  Художественный  Уорнер Бразерс, Вилладж Роудшоу Филмз ЛТД   \n",
       "\n",
       "     production_country       director                         producer  \\\n",
       "4553      США-Австралия  ХЭрольд Рэмис  Джейн Розенталь, Пола Уейнстейн   \n",
       "5067      США-Австралия  ХЭрольд Рэмис  Джейн Розенталь, Пола Уейнстейн   \n",
       "\n",
       "                      age_restriction  refundable_support  \\\n",
       "4553  «16+» - для детей старше 16 лет                0.00   \n",
       "5067  «16+» - для детей старше 16 лет                0.00   \n",
       "\n",
       "      nonrefundable_support  budget financing_source  ratings  \\\n",
       "4553                   0.00    0.00             Иное     7.40   \n",
       "5067                   0.00    0.00             Иное     7.40   \n",
       "\n",
       "                genres  box_office  \n",
       "4553  комедия,криминал        0.00  \n",
       "5067  комедия,криминал        0.00  "
      ]
     },
     "execution_count": 32,
     "metadata": {},
     "output_type": "execute_result"
    }
   ],
   "source": [
    "data_movies[data_movies['title'] == 'Анализируй это!']"
   ]
  },
  {
   "cell_type": "markdown",
   "metadata": {},
   "source": [
    "Здесь наблюдаем такую же картину, поэтому также заменим номер удостоверения на свободный 100000001. "
   ]
  },
  {
   "cell_type": "code",
   "execution_count": 33,
   "metadata": {},
   "outputs": [],
   "source": [
    "data_movies.loc[(data_movies['title'] == 'Анализируй это!') & (data_movies['puNumber'] == 221054410), 'puNumber'] = 100000001"
   ]
  },
  {
   "cell_type": "markdown",
   "metadata": {},
   "source": [
    "Снова проверим наличие дубликатов."
   ]
  },
  {
   "cell_type": "code",
   "execution_count": 34,
   "metadata": {},
   "outputs": [
    {
     "data": {
      "text/html": [
       "<div>\n",
       "<style scoped>\n",
       "    .dataframe tbody tr th:only-of-type {\n",
       "        vertical-align: middle;\n",
       "    }\n",
       "\n",
       "    .dataframe tbody tr th {\n",
       "        vertical-align: top;\n",
       "    }\n",
       "\n",
       "    .dataframe thead th {\n",
       "        text-align: right;\n",
       "    }\n",
       "</style>\n",
       "<table border=\"1\" class=\"dataframe\">\n",
       "  <thead>\n",
       "    <tr style=\"text-align: right;\">\n",
       "      <th></th>\n",
       "      <th>title</th>\n",
       "      <th>puNumber</th>\n",
       "      <th>show_start_date</th>\n",
       "      <th>type</th>\n",
       "      <th>film_studio</th>\n",
       "      <th>production_country</th>\n",
       "      <th>director</th>\n",
       "      <th>producer</th>\n",
       "      <th>age_restriction</th>\n",
       "      <th>refundable_support</th>\n",
       "      <th>nonrefundable_support</th>\n",
       "      <th>budget</th>\n",
       "      <th>financing_source</th>\n",
       "      <th>ratings</th>\n",
       "      <th>genres</th>\n",
       "      <th>box_office</th>\n",
       "    </tr>\n",
       "  </thead>\n",
       "  <tbody>\n",
       "  </tbody>\n",
       "</table>\n",
       "</div>"
      ],
      "text/plain": [
       "Empty DataFrame\n",
       "Columns: [title, puNumber, show_start_date, type, film_studio, production_country, director, producer, age_restriction, refundable_support, nonrefundable_support, budget, financing_source, ratings, genres, box_office]\n",
       "Index: []"
      ]
     },
     "execution_count": 34,
     "metadata": {},
     "output_type": "execute_result"
    }
   ],
   "source": [
    "data_movies[data_movies['puNumber'].duplicated(keep=False)]"
   ]
  },
  {
   "cell_type": "markdown",
   "metadata": {},
   "source": [
    "Как видим - дубликаты обработаны."
   ]
  },
  {
   "cell_type": "markdown",
   "metadata": {},
   "source": [
    "**Вывод:** При поиске дубликатов, мы обнаружили 8 фильмов с одинаковыми названиями, но с разными прокатными удостоверениями. Удалять такие дубликаты мы не стали, т.к. фильмы могут получать несколько прокатных удостоверений для разного использования. Далее мы обнаружили 2 пары фльмов с одинаковыми номерами прокатных удостоверений, но разными названиями. Для обработки таких дублей у фильмов \"Как жениться и остаться холостым.\" и \"Анализируй это!\" сделали допущение и заменили дублированные номера прокатных удостоверений на свободные. Номера прокатных удостоверений могли продублироваться в связи с тем, что фильм перезапускали, как в случае с фильмом \"Как жениться и остаться холостым.\", либо по ошибке, как в случае с фильмом \"Анализируй это!\". Данную информацию следует еще подробней уточнить у сотрудников."
   ]
  },
  {
   "cell_type": "markdown",
   "metadata": {
    "id": "52fOPrEBgFyQ"
   },
   "source": [
    "#### Шаг 2.4. Изучите категориальные значения\n",
    "\n",
    "- Посмотрите, какая общая проблема встречается почти во всех категориальных столбцах;\n",
    "- Исправьте проблемные значения в поле `type`.\n",
    "\n",
    "<div id=\"accordion\">\n",
    "    <div class=\"card\">\n",
    "        <div class=\"card-header\" id=\"headingThree\">\n",
    "            <button class=\"btn btn-link collapsed\" data-toggle=\"collapse\" data-target=\"#collapseHint_1\" aria-expanded=\"false\" aria-controls=\"collapseHint_1\">Подсказка</button>\n",
    "        </div>\n",
    "        <div id=\"collapseHint_1\" class=\"collapse\" aria-labelledby=\"headingThree\" data-parent=\"#accordion\">\n",
    "            <div class=\"card-body\">\n",
    "В поле <code>type</code> есть несколько значений, у которых появился пробел в начале строки. Самый простой способ их «починить» -- использовать метод <a href=\"https://pandas.pydata.org/docs/reference/api/pandas.Series.str.strip.html#pandas.Series.str.strip\">.str.strip</a>. Этот метод удаляет все пробелы, которые встречаются в начале и в конце строки. Применяют его таким образом:<br>\n",
    "<code>df['type'].str.strip()</code>\n",
    "            </div>\n",
    "        </div>\n",
    "    </div>\n",
    "</div>"
   ]
  },
  {
   "cell_type": "markdown",
   "metadata": {
    "id": "PnXKIVdFgFyR"
   },
   "source": [
    "Категоральные значения содержатся в столбцах с *типами фильмов (type)*, *возрасной категорией (age_restriction)*, *источниками государственного финансирования (financing_source)* и *жанрами фильмов (genres)*. Проверим их все."
   ]
  },
  {
   "cell_type": "markdown",
   "metadata": {},
   "source": [
    "**Проверяем столбец с типами фильмов type.**"
   ]
  },
  {
   "cell_type": "code",
   "execution_count": 35,
   "metadata": {},
   "outputs": [
    {
     "data": {
      "text/plain": [
       "array(['Художественный', 'Анимационный', 'Прочие', 'Документальный',\n",
       "       'Научно-популярный', ' Художественный', ' Анимационный',\n",
       "       'Музыкально-развлекательный'], dtype=object)"
      ]
     },
     "execution_count": 35,
     "metadata": {},
     "output_type": "execute_result"
    }
   ],
   "source": [
    "#проверим солбец type на уникальные значения\n",
    "data_movies['type'].unique()"
   ]
  },
  {
   "cell_type": "markdown",
   "metadata": {},
   "source": [
    "Видим, что есть одинаковые типы, но с разным написанием, а именно имеются пробелы в типа фильмов \" Художественный\" и \" Анимационный\". От таких пробелов необходимо избавиться."
   ]
  },
  {
   "cell_type": "code",
   "execution_count": 36,
   "metadata": {},
   "outputs": [],
   "source": [
    "#избавляемся от пробелов\n",
    "data_movies['type'] = data_movies['type'].str.strip()"
   ]
  },
  {
   "cell_type": "code",
   "execution_count": 37,
   "metadata": {},
   "outputs": [
    {
     "data": {
      "text/plain": [
       "array(['Художественный', 'Анимационный', 'Прочие', 'Документальный',\n",
       "       'Научно-популярный', 'Музыкально-развлекательный'], dtype=object)"
      ]
     },
     "execution_count": 37,
     "metadata": {},
     "output_type": "execute_result"
    }
   ],
   "source": [
    "#проверим результат и выведем уникальные значения\n",
    "data_movies['type'].unique()"
   ]
  },
  {
   "cell_type": "markdown",
   "metadata": {},
   "source": [
    "Как видим, пробелы были удалены. Теперь у нас 6 типов фильмов."
   ]
  },
  {
   "cell_type": "markdown",
   "metadata": {},
   "source": [
    "**Проверим столбец с возрастными категориями age_restriction.**"
   ]
  },
  {
   "cell_type": "code",
   "execution_count": 38,
   "metadata": {},
   "outputs": [
    {
     "data": {
      "text/plain": [
       "array(['«18+» - запрещено для детей', '«6+» - для детей старше 6 лет',\n",
       "       '«12+» - для детей старше 12 лет',\n",
       "       '«16+» - для детей старше 16 лет',\n",
       "       '«0+» - для любой зрительской аудитории'], dtype=object)"
      ]
     },
     "execution_count": 38,
     "metadata": {},
     "output_type": "execute_result"
    }
   ],
   "source": [
    "#проверим солбец age_restriction на уникальные значения\n",
    "data_movies['age_restriction'].unique()"
   ]
  },
  {
   "cell_type": "markdown",
   "metadata": {},
   "source": [
    "Одинаковых категорий нет. Все в порядке. Идем дальше."
   ]
  },
  {
   "cell_type": "markdown",
   "metadata": {},
   "source": [
    "**Проверим столбец с источниками государственного финансирования financing_source.**"
   ]
  },
  {
   "cell_type": "code",
   "execution_count": 39,
   "metadata": {},
   "outputs": [
    {
     "data": {
      "text/plain": [
       "array(['Иное', 'Министерство культуры', 'Фонд кино',\n",
       "       'Министерство культуры, Фонд кино'], dtype=object)"
      ]
     },
     "execution_count": 39,
     "metadata": {},
     "output_type": "execute_result"
    }
   ],
   "source": [
    "#проверим солбец age_restriction на уникальные значения\n",
    "data_movies['financing_source'].unique()"
   ]
  },
  {
   "cell_type": "markdown",
   "metadata": {},
   "source": [
    "Тут у нас есть 3 источника госфинансирования: \"Министерство культуры\", \"Фонд кино\" и \"Министерство культуры, Фонд кино\". Источник \"Иное\" был ранее добавлен нами. Здесь у нас также нет одинаковых категорий. Идем дальше."
   ]
  },
  {
   "cell_type": "markdown",
   "metadata": {},
   "source": [
    "**Проверим столбец с жанрами фильмов genres.**"
   ]
  },
  {
   "cell_type": "code",
   "execution_count": 40,
   "metadata": {},
   "outputs": [
    {
     "data": {
      "text/plain": [
       "array(['боевик,драма,мелодрама', 'драма,военный',\n",
       "       'фантастика,боевик,триллер', 'драма', 'мелодрама,комедия',\n",
       "       'мюзикл,мелодрама,комедия', 'комедия,криминал',\n",
       "       'боевик,триллер,детектив', 'боевик,драма,приключения',\n",
       "       'драма,спорт', 'триллер,драма,мелодрама', 'комедия,мелодрама',\n",
       "       'драма,мелодрама,комедия', 'драма,мелодрама', 'драма,история',\n",
       "       'драма,мелодрама,семейный', 'комедия,мелодрама,криминал',\n",
       "       'комедия', 'боевик,драма,криминал', 'драма,комедия',\n",
       "       'ужасы,фантастика,комедия', 'мультфильм,короткометражка,мелодрама',\n",
       "       'драма,криминал', 'мультфильм,фантастика,фэнтези',\n",
       "       'триллер,драма,криминал', 'драма,мелодрама,биография',\n",
       "       'драма,комедия,военный', 'фантастика,драма,детектив',\n",
       "       'мюзикл,семейный', 'Жанр не указан', 'военный,приключения,драма',\n",
       "       'документальный,драма', 'драма,биография,история',\n",
       "       'боевик,триллер,драма', 'фэнтези,боевик',\n",
       "       'боевик,комедия,криминал', 'мюзикл,комедия,детский',\n",
       "       'комедия,мелодрама,драма', 'мультфильм,фэнтези,комедия',\n",
       "       'комедия,история', 'мелодрама', 'драма,биография,музыка',\n",
       "       'фэнтези,драма,мелодрама', 'триллер,военный',\n",
       "       'драма,мелодрама,военный', 'мюзикл,драма,мелодрама',\n",
       "       'мюзикл,комедия', 'мультфильм,приключения,семейный',\n",
       "       'ужасы,триллер', 'боевик,драма,военный', 'драма,боевик',\n",
       "       'мультфильм,драма,комедия', 'триллер,криминал',\n",
       "       'военный,биография,драма', 'комедия,семейный', 'военный',\n",
       "       'драма,семейный,биография', 'фэнтези,приключения,семейный',\n",
       "       'драма,криминал,биография', 'ужасы,триллер,детектив',\n",
       "       'боевик,история,драма', 'ужасы,триллер,драма',\n",
       "       'драма,криминал,спорт', 'документальный,короткометражка',\n",
       "       'триллер,драма', 'криминал,детектив,приключения',\n",
       "       'драма,комедия,криминал', 'драма,комедия,вестерн',\n",
       "       'драма,мелодрама,детектив', 'мелодрама,биография',\n",
       "       'фэнтези,мелодрама,драма', 'драма,мелодрама,история',\n",
       "       'комедия,приключения,история', 'приключения', 'драма,семейный',\n",
       "       'криминал,детектив', 'мультфильм,короткометражка,ужасы',\n",
       "       'фантастика,триллер,драма', 'фэнтези,мелодрама,комедия',\n",
       "       'драма,биография', 'комедия,криминал,история',\n",
       "       'триллер,драма,детектив', 'фантастика,комедия,приключения',\n",
       "       'фэнтези,семейный', 'ужасы,фантастика,боевик',\n",
       "       'мелодрама,криминал', 'комедия,приключения,мелодрама',\n",
       "       'боевик,триллер,приключения', 'боевик,приключения',\n",
       "       'боевик,триллер,криминал', 'документальный,военный,история',\n",
       "       'драма,музыка', 'боевик,драма', 'приключения,боевик',\n",
       "       'драма,военный,биография', 'триллер,драма,приключения',\n",
       "       'аниме,мультфильм,фэнтези', 'триллер,детектив,драма',\n",
       "       'боевик,триллер,мелодрама', 'боевик,история',\n",
       "       'приключения,история', 'драма,комедия,приключения',\n",
       "       'фэнтези,комедия,приключения', 'драма,вестерн',\n",
       "       'документальный,музыка', 'мелодрама,драма',\n",
       "       'триллер,криминал,детектив', 'ужасы', 'боевик,комедия,приключения',\n",
       "       'мультфильм,фэнтези,боевик', 'боевик,фэнтези,драма',\n",
       "       'фэнтези,драма', 'фэнтези,боевик,комедия',\n",
       "       'приключения,детский,комедия', 'документальный',\n",
       "       'боевик,триллер,комедия', 'мелодрама,комедия,криминал',\n",
       "       'драма,детектив', 'мюзикл,ужасы,триллер', 'детектив,триллер,ужасы',\n",
       "       'ужасы,фэнтези', 'ужасы,фэнтези,триллер', 'мультфильм,драма',\n",
       "       'ужасы,боевик,фантастика', 'боевик', 'фантастика,боевик',\n",
       "       'мелодрама,комедия,приключения', 'триллер,детектив',\n",
       "       'мюзикл,мелодрама,фэнтези', 'криминал', 'триллер,комедия,криминал',\n",
       "       'боевик,приключения,триллер', 'триллер,драма,военный',\n",
       "       'комедия,семейный,музыка', 'комедия,фантастика,мелодрама',\n",
       "       'фантастика,триллер,криминал', 'комедия,драма', 'боевик,военный',\n",
       "       'ужасы,фантастика,триллер', 'фантастика,драма,мелодрама',\n",
       "       'фэнтези,драма,детектив', 'боевик,триллер', 'боевик,драма,история',\n",
       "       'мультфильм,мюзикл,фэнтези', 'для взрослых,драма,мелодрама',\n",
       "       'мультфильм,боевик,детектив', 'фантастика,мелодрама,боевик',\n",
       "       'ужасы,фантастика,детектив', 'фантастика,боевик,приключения',\n",
       "       'мелодрама,комедия,спорт', 'комедия,боевик,приключения',\n",
       "       'документальный,приключения', 'мультфильм,короткометражка,детский',\n",
       "       'комедия,приключения', 'ужасы,драма', 'ужасы,фэнтези,боевик',\n",
       "       'мультфильм,фэнтези,детский', 'мюзикл,боевик,драма',\n",
       "       'семейный,комедия,драма', 'концерт,музыка', 'фэнтези,боевик,драма',\n",
       "       'драма,комедия,музыка', 'фантастика,фэнтези,боевик',\n",
       "       'фэнтези,комедия,семейный', 'фэнтези,драма,комедия',\n",
       "       'мультфильм,мюзикл,драма', 'триллер', 'боевик,криминал,триллер',\n",
       "       'мультфильм,приключения,драма', 'мелодрама,музыка',\n",
       "       'документальный,музыка,концерт', 'мультфильм,семейный',\n",
       "       'мультфильм,комедия,приключения', 'мультфильм,комедия,семейный',\n",
       "       'фантастика,драма', 'фэнтези,боевик,приключения',\n",
       "       'мультфильм,приключения', 'драма,военный,история', 'история',\n",
       "       'драма,приключения,военный',\n",
       "       'документальный,короткометражка,семейный',\n",
       "       'мелодрама,история,триллер', 'ужасы,детектив',\n",
       "       'мюзикл,комедия,приключения', 'драма,спорт,биография',\n",
       "       'фантастика,боевик,комедия', 'фантастика,приключения,детектив',\n",
       "       'короткометражка,драма,военный', 'драма,мультфильм',\n",
       "       'приключения,семейный', 'детектив', 'триллер,приключения',\n",
       "       'аниме,мультфильм,боевик', 'драма,комедия,биография',\n",
       "       'драма,комедия,спорт', 'боевик,мелодрама,комедия',\n",
       "       'семейный,комедия', 'фэнтези,боевик,триллер',\n",
       "       'документальный,фэнтези,семейный', 'фантастика,фэнтези,драма',\n",
       "       'ужасы,комедия,фэнтези', 'документальный,биография,музыка',\n",
       "       'фантастика,боевик,фэнтези', 'ужасы,боевик,триллер',\n",
       "       'комедия,криминал,семейный', 'приключения,драма',\n",
       "       'криминал,драма,триллер', 'драма,детектив,криминал',\n",
       "       'фэнтези,приключения,комедия', 'комедия,спорт',\n",
       "       'мюзикл,фэнтези,мелодрама', 'мультфильм,фэнтези,приключения',\n",
       "       'фантастика,фэнтези,приключения', 'фэнтези',\n",
       "       'фэнтези,приключения,боевик', 'фантастика,боевик,драма',\n",
       "       'криминал,драма', 'криминал,триллер,драма',\n",
       "       'драма,мелодрама,приключения', 'детский,комедия',\n",
       "       'фантастика,драма,боевик', 'мультфильм,семейный,фэнтези',\n",
       "       'концерт,музыка,документальный', 'ужасы,комедия,приключения',\n",
       "       'драма,мелодрама,криминал', 'ужасы,фантастика,фэнтези',\n",
       "       'боевик,комедия', 'мультфильм,фантастика,комедия', 'триллер,ужасы',\n",
       "       'мультфильм,мюзикл,комедия', 'мелодрама,фэнтези,триллер',\n",
       "       'детский,приключения,комедия', 'комедия,детектив',\n",
       "       'аниме,мультфильм,мелодрама', 'документальный,драма,семейный',\n",
       "       'документальный,биография,история', 'военный,боевик,драма',\n",
       "       'ужасы,комедия', 'комедия,приключения,семейный',\n",
       "       'приключения,биография,история', 'детский,приключения,семейный',\n",
       "       'спорт,драма,биография', 'аниме,мультфильм,ужасы',\n",
       "       'фантастика,боевик,криминал', 'мюзикл,драма',\n",
       "       'драма,криминал,детектив', 'аниме,мультфильм,драма',\n",
       "       'драма,триллер,приключения', 'триллер,криминал,драма',\n",
       "       'фэнтези,комедия,драма', 'мультфильм,комедия',\n",
       "       'драма,комедия,история', 'комедия,биография,история',\n",
       "       'мультфильм,фантастика,приключения', 'аниме,мультфильм,фантастика',\n",
       "       'мультфильм,фэнтези,семейный', 'мультфильм,боевик,комедия',\n",
       "       'комедия,криминал,спорт', 'документальный,мюзикл',\n",
       "       'мелодрама,комедия,музыка', 'биография',\n",
       "       'триллер,криминал,комедия', 'фантастика,драма,комедия',\n",
       "       'комедия,драма,мелодрама', 'фантастика,приключения,боевик',\n",
       "       'мультфильм,фэнтези,драма', 'триллер,комедия',\n",
       "       'драма,приключения,биография', 'фантастика,комедия',\n",
       "       'мелодрама,драма,комедия', 'боевик,криминал',\n",
       "       'драма,криминал,боевик', 'мультфильм,мюзикл,детский',\n",
       "       'драма,фэнтези', 'документальный,семейный',\n",
       "       'фэнтези,драма,приключения', 'ужасы,комедия,фантастика',\n",
       "       'драма,мелодрама,музыка', 'фэнтези,драма,семейный',\n",
       "       'триллер,мелодрама,драма', 'вестерн,боевик,драма',\n",
       "       'мультфильм,короткометражка,комедия', 'триллер,драма,история',\n",
       "       'ужасы,фантастика', 'ужасы,мелодрама,комедия',\n",
       "       'фэнтези,приключения', 'фантастика,триллер',\n",
       "       'ужасы,боевик,фэнтези', 'мультфильм,комедия,детский',\n",
       "       'триллер,драма,биография', 'мультфильм,ужасы,фэнтези',\n",
       "       'мультфильм,ужасы,фантастика', 'ужасы,боевик,комедия',\n",
       "       'драма,биография,спорт', 'мультфильм', 'мелодрама,комедия,драма',\n",
       "       'приключения,фантастика,семейный', 'комедия,криминал,детектив',\n",
       "       'ужасы,триллер,комедия', 'криминал,комедия,триллер',\n",
       "       'семейный,приключения,комедия', 'мультфильм,драма,приключения',\n",
       "       'ужасы,драма,детектив', 'драма,приключения,фэнтези',\n",
       "       'фантастика,мультфильм,драма', 'драма,триллер,детектив',\n",
       "       'драма,история,музыка', 'детский', 'триллер,боевик,криминал',\n",
       "       'драма,фантастика', 'комедия,драма,семейный',\n",
       "       'боевик,драма,комедия', 'комедия,ужасы',\n",
       "       'драма,фантастика,триллер', 'фантастика,драма,триллер',\n",
       "       'история,спорт,драма', 'документальный,биография',\n",
       "       'биография,история', 'спорт,драма', 'боевик,фэнтези',\n",
       "       'мультфильм,фэнтези', 'документальный,комедия,история',\n",
       "       'криминал,комедия,боевик', 'фэнтези,приключения,драма',\n",
       "       'музыка,концерт', 'триллер,драма,боевик',\n",
       "       'комедия,криминал,боевик', 'комедия,фантастика,боевик',\n",
       "       'вестерн,приключения,боевик', 'аниме,мультфильм,комедия',\n",
       "       'детектив,криминал,триллер', 'мультфильм,комедия,криминал',\n",
       "       'комедия,приключения,детектив', 'мелодрама,фантастика,драма',\n",
       "       'драма,комедия,семейный', 'приключения,фантастика',\n",
       "       'триллер,детектив,ужасы', 'комедия,приключения,фэнтези',\n",
       "       'фэнтези,триллер,драма', 'мелодрама,приключения,боевик',\n",
       "       'детектив,триллер,криминал', 'фэнтези,семейный,мелодрама',\n",
       "       'военный,драма', 'документальный,приключения,семейный',\n",
       "       'криминал,комедия,драма', 'комедия,фантастика',\n",
       "       'история,биография,драма', 'мелодрама,драма,музыка',\n",
       "       'боевик,мелодрама', 'комедия,криминал,триллер',\n",
       "       'детектив,триллер,боевик', 'комедия,боевик,криминал',\n",
       "       'комедия,вестерн', 'детский,мелодрама,семейный',\n",
       "       'короткометражка,мультфильм', 'комедия,фэнтези',\n",
       "       'фантастика,драма,ужасы', 'триллер,драма,ужасы',\n",
       "       'драма,фэнтези,история', 'комедия,драма,короткометражка',\n",
       "       'фэнтези,триллер,приключения', 'семейный',\n",
       "       'комедия,криминал,драма', 'комедия,фэнтези,ужасы',\n",
       "       'короткометражка,комедия,криминал', 'фантастика',\n",
       "       'триллер,ужасы,драма', 'мелодрама,драма,фэнтези',\n",
       "       'фантастика,приключения,драма', 'боевик,детектив',\n",
       "       'военный,драма,боевик', 'комедия,мелодрама,фэнтези',\n",
       "       'вестерн,криминал,триллер', 'драма,история,триллер',\n",
       "       'мультфильм,фантастика,боевик', 'детектив,драма,криминал',\n",
       "       'приключения,история,драма', 'мультфильм,семейный,детский',\n",
       "       'биография,драма,история', 'триллер,криминал,боевик',\n",
       "       'история,мелодрама', 'приключения,детский',\n",
       "       'музыка,приключения,концерт', 'военный,драма,комедия',\n",
       "       'фэнтези,боевик,военный', 'фантастика,детектив,боевик',\n",
       "       'мультфильм,фэнтези,история', 'биография,мелодрама,драма',\n",
       "       'документальный,биография,спорт', 'фантастика,комедия,детектив',\n",
       "       'музыка,концерт,документальный', 'триллер,боевик,приключения',\n",
       "       'триллер,драма,комедия', 'детектив,криминал',\n",
       "       'мультфильм,приключения,фэнтези', 'мелодрама,приключения',\n",
       "       'комедия,музыка', 'мелодрама,комедия,ужасы',\n",
       "       'драма,криминал,приключения', 'приключения,детектив,мелодрама',\n",
       "       'драма,криминал,фантастика', 'фэнтези,драма,биография',\n",
       "       'детектив,фантастика,криминал', 'триллер,драма,фантастика',\n",
       "       'ужасы,комедия,боевик', 'мелодрама,история', 'триллер,боевик',\n",
       "       'фильм-нуар,триллер,детектив', 'комедия,криминал,приключения',\n",
       "       'ужасы,триллер,мелодрама', 'военный,драма,история',\n",
       "       'драма,спорт,история', 'документальный,драма,история',\n",
       "       'триллер,мелодрама,детектив', 'детский,семейный',\n",
       "       'мюзикл,семейный,драма', 'биография,военный,драма',\n",
       "       'мультфильм,детский', 'боевик,криминал,драма',\n",
       "       'детектив,фэнтези,триллер', 'драма,боевик,приключения',\n",
       "       'драма,мелодрама,фэнтези', 'детектив,история,драма',\n",
       "       'фэнтези,боевик,ужасы', 'ужасы,фэнтези,мелодрама',\n",
       "       'ужасы,приключения', 'боевик,фантастика',\n",
       "       'ужасы,мелодрама,детектив', 'фантастика,триллер,приключения',\n",
       "       'боевик,приключения,история', 'приключения,боевик,триллер',\n",
       "       'детектив,ужасы,криминал', 'семейный,фэнтези', 'мюзикл,мелодрама',\n",
       "       'драма,военный,приключения', 'фантастика,драма,приключения',\n",
       "       'приключения,семейный,драма', 'история,драма,боевик',\n",
       "       'мультфильм,приключения,комедия', 'криминал,драма,комедия',\n",
       "       'ужасы,комедия,драма', 'комедия,семейный,приключения',\n",
       "       'мюзикл,фэнтези,драма', 'драма,вестерн,боевик',\n",
       "       'фантастика,триллер,детектив', 'драма,история,детектив',\n",
       "       'короткометражка,биография', 'мультфильм,приключения,фантастика',\n",
       "       'комедия,триллер', 'мультфильм,приключения,детектив',\n",
       "       'драма,триллер', 'ужасы,триллер,криминал',\n",
       "       'документальный,криминал,военный', 'ужасы,фэнтези,драма',\n",
       "       'фэнтези,комедия', 'ужасы,фэнтези,комедия', 'комедия,музыка,драма',\n",
       "       'мультфильм,приключения,военный', 'мюзикл,фэнтези,комедия',\n",
       "       'боевик,фантастика,приключения', 'триллер,ужасы,криминал',\n",
       "       'ужасы,фантастика,драма', 'фантастика,приключения,семейный',\n",
       "       'короткометражка,музыка', 'мелодрама,детектив,комедия',\n",
       "       'документальный,триллер,биография', 'боевик,фантастика,триллер',\n",
       "       'спорт,драма,комедия', 'фэнтези,мелодрама,приключения',\n",
       "       'триллер,детектив,криминал', 'короткометражка,мелодрама',\n",
       "       'мультфильм,семейный,спорт', 'комедия,фэнтези,мелодрама',\n",
       "       'драма,спорт,комедия', 'история,драма,мелодрама',\n",
       "       'драма,боевик,криминал', 'драма,комедия,триллер',\n",
       "       'аниме,мультфильм', 'документальный,ужасы',\n",
       "       'мультфильм,короткометражка', 'драма,история,военный',\n",
       "       'мультфильм,короткометражка,фэнтези', 'комедия,военный,музыка',\n",
       "       'биография,история,драма', 'ужасы,драма,мелодрама',\n",
       "       'драма,комедия,детектив', 'комедия,семейный,фантастика',\n",
       "       'мультфильм,семейный,комедия', 'история,детектив',\n",
       "       'приключения,мелодрама,детектив', 'мюзикл,комедия,мелодрама',\n",
       "       'драма,фантастика,ужасы', 'мультфильм,ужасы,комедия',\n",
       "       'для взрослых,драма,комедия', 'ужасы,комедия,музыка',\n",
       "       'комедия,история,драма', 'семейный,детектив,детский',\n",
       "       'короткометражка,драма', 'документальный,новости,драма',\n",
       "       'триллер,мелодрама', 'ужасы,драма,вестерн',\n",
       "       'мюзикл,фэнтези,семейный', 'вестерн,драма,триллер',\n",
       "       'приключения,вестерн,боевик', 'семейный,комедия,музыка',\n",
       "       'боевик,драма,вестерн', 'ужасы,драма,триллер',\n",
       "       'фантастика,мелодрама', 'комедия,криминал,биография',\n",
       "       'семейный,мультфильм,комедия', 'комедия,драма,криминал',\n",
       "       'фантастика,боевик,военный', 'приключения,биография,драма',\n",
       "       'приключения,триллер,биография', 'криминал,боевик,триллер',\n",
       "       'боевик,вестерн,приключения', 'история,драма',\n",
       "       'фантастика,фэнтези,комедия', 'мультфильм,детский,комедия',\n",
       "       'мелодрама,комедия,триллер', 'документальный,боевик,приключения',\n",
       "       'драма,приключения', 'мелодрама,военный,драма', 'триллер,фэнтези',\n",
       "       'драма,триллер,биография', 'фэнтези,боевик,семейный',\n",
       "       'фантастика,триллер,комедия', 'документальный,фэнтези',\n",
       "       'комедия,мультфильм,фантастика', 'криминал,биография,комедия',\n",
       "       'биография,спорт,драма', 'приключения,военный',\n",
       "       'мультфильм,семейный,драма', 'документальный,фэнтези,драма',\n",
       "       'комедия,боевик,фантастика', 'семейный,приключения,военный',\n",
       "       'триллер,ужасы,детектив', 'короткометражка',\n",
       "       'мелодрама,триллер,история', 'документальный,история',\n",
       "       'мультфильм,приключения,детский', 'драма,комедия,мультфильм',\n",
       "       'военный,детектив', 'семейный,приключения,документальный',\n",
       "       'детский,фэнтези', 'документальный,комедия', 'комедия,биография',\n",
       "       'криминал,комедия', 'спорт,мелодрама,криминал',\n",
       "       'фантастика,комедия,боевик', 'боевик,приключения,детектив',\n",
       "       'детектив,триллер,драма', 'документальный,фантастика',\n",
       "       'мелодрама,комедия,семейный', 'мультфильм,мелодрама,комедия',\n",
       "       'драма,спорт,семейный', 'фантастика,мелодрама,фэнтези',\n",
       "       'мюзикл,комедия,музыка', 'фантастика,триллер,мелодрама',\n",
       "       'приключения,комедия,фэнтези', 'фэнтези,боевик,детектив',\n",
       "       'фэнтези,боевик,мелодрама', 'комедия,военный',\n",
       "       'драма,спорт,боевик', 'мультфильм,боевик,триллер',\n",
       "       'мелодрама,семейный', 'фантастика,боевик,детектив',\n",
       "       'драма,приключения,история', 'документальный,драма,музыка',\n",
       "       'фантастика,триллер,боевик', 'фэнтези,боевик,вестерн',\n",
       "       'драма,комедия,мелодрама', 'ужасы,фэнтези,приключения',\n",
       "       'триллер,фэнтези,драма', 'мультфильм,мюзикл,мелодрама',\n",
       "       'ужасы,триллер,фантастика', 'триллер,мелодрама,комедия',\n",
       "       'ужасы,комедия,семейный', 'комедия,приключения,музыка',\n",
       "       'документальный,комедия,криминал', 'мелодрама,детектив',\n",
       "       'детский,приключения,фантастика', 'короткометражка,боевик,драма',\n",
       "       'боевик,комедия,семейный', 'фантастика,боевик,мелодрама',\n",
       "       'фэнтези,триллер,мелодрама', 'драма,детектив,история',\n",
       "       'боевик,криминал,детектив', 'мультфильм,фэнтези,мелодрама',\n",
       "       'мелодрама,драма,боевик', 'драма,вестерн,приключения',\n",
       "       'драма,приключения,мелодрама', 'фэнтези,боевик,криминал',\n",
       "       'фантастика,комедия,семейный', 'детский,фэнтези,приключения',\n",
       "       'ужасы,боевик', 'фантастика,мелодрама,комедия',\n",
       "       'семейный,спорт,боевик', 'триллер,биография,драма',\n",
       "       'ужасы,драма,комедия', 'мультфильм,фэнтези,триллер', 'мюзикл',\n",
       "       'боевик,спорт,драма', 'комедия,приключения,вестерн',\n",
       "       'документальный,ужасы,боевик', 'фантастика,боевик,семейный',\n",
       "       'военный,история', 'ужасы,боевик,криминал', 'детектив,триллер',\n",
       "       'драма,семейный,комедия', 'драма,детектив,приключения',\n",
       "       'драма,криминал,история', 'приключения,триллер',\n",
       "       'боевик,драма,биография', 'драма,приключения,триллер',\n",
       "       'комедия,фэнтези,приключения', 'фантастика,боевик,ужасы',\n",
       "       'драма,комедия,фантастика', 'детектив,криминал,драма',\n",
       "       'боевик,триллер,фэнтези', 'приключения,детектив,семейный',\n",
       "       'ужасы,комедия,криминал', 'мультфильм,биография,драма',\n",
       "       'история,боевик,фэнтези', 'детектив,криминал,боевик',\n",
       "       'приключения,фэнтези', 'комедия,приключения,спорт',\n",
       "       'драма,биография,мюзикл', 'комедия,семейный,фэнтези',\n",
       "       'детектив,драма,триллер', 'боевик,приключения,семейный',\n",
       "       'биография,спорт,комедия', 'фантастика,приключения,военный',\n",
       "       'документальный,драма,биография', 'детектив,приключения,драма',\n",
       "       'аниме,мультфильм,приключения', 'семейный,приключения',\n",
       "       'ужасы,фэнтези,детектив', 'семейный,документальный',\n",
       "       'драма,приключения,семейный', 'приключения,история,военный',\n",
       "       'фэнтези,мелодрама', 'фэнтези,триллер,детектив',\n",
       "       'документальный,спорт,биография', 'комедия,триллер,драма',\n",
       "       'драма,ужасы', 'биография,музыка,драма', 'фэнтези,ужасы',\n",
       "       'детектив,мелодрама,фэнтези', 'боевик,военный,история',\n",
       "       'биография,драма,криминал', 'триллер,мелодрама,криминал',\n",
       "       'семейный,мелодрама', 'биография,драма', 'военный,история,драма',\n",
       "       'фантастика,детектив,фэнтези', 'детектив,приключения,триллер',\n",
       "       'фантастика,приключения', 'мультфильм,короткометражка,мюзикл',\n",
       "       'мультфильм,детский,семейный', 'документальный,драма,комедия',\n",
       "       'комедия,приключения,криминал', 'документальный,семейный,музыка',\n",
       "       'мелодрама,музыка,драма', 'детектив,фантастика,триллер',\n",
       "       'драма,мелодрама,триллер', 'биография,драма,военный',\n",
       "       'приключения,фантастика,драма', 'детектив,фильм-нуар,комедия',\n",
       "       'документальный,спорт', 'триллер,фантастика,драма',\n",
       "       'биография,документальный', 'ужасы,фантастика,мелодрама',\n",
       "       'детектив,комедия', 'история,биография,военный',\n",
       "       'криминал,мелодрама', 'драма,криминал,вестерн',\n",
       "       'мелодрама,семейный,приключения', 'триллер,ужасы,мелодрама',\n",
       "       'фэнтези,драма,фильм-нуар', 'детектив,мелодрама',\n",
       "       'комедия,драма,биография', 'драма,военный,боевик',\n",
       "       'драма,комедия,ужасы', 'фантастика,драма,криминал',\n",
       "       'документальный,музыка,биография', 'мультфильм,боевик,приключения',\n",
       "       'короткометражка,фантастика', 'мультфильм,мелодрама,драма',\n",
       "       'боевик,военный,драма', 'фэнтези,семейный,приключения',\n",
       "       'детский,мультфильм,приключения', 'семейный,фэнтези,комедия',\n",
       "       'фэнтези,ужасы,триллер', 'ужасы,триллер,приключения',\n",
       "       'драма,боевик,история', 'фэнтези,комедия,детектив',\n",
       "       'история,приключения', 'аниме,мультфильм,короткометражка',\n",
       "       'драма,военный,триллер', 'биография,криминал,триллер',\n",
       "       'фантастика,фэнтези,детектив', 'вестерн,биография,драма',\n",
       "       'биография,музыка,мюзикл', 'драма,история,биография',\n",
       "       'приключения,драма,фантастика', 'комедия,фэнтези,криминал',\n",
       "       'биография,спорт,история', 'драма,криминал,семейный',\n",
       "       'детектив,боевик,история', 'ужасы,комедия,детектив',\n",
       "       'триллер,приключения,драма', 'фэнтези,комедия,криминал',\n",
       "       'триллер,криминал,приключения', 'комедия,детектив,приключения',\n",
       "       'фэнтези,драма,ужасы', 'ужасы,драма,военный', 'реальное ТВ',\n",
       "       'аниме,мультфильм,детектив', 'приключения,фэнтези,семейный',\n",
       "       'драма,биография,комедия', 'триллер,комедия,ужасы',\n",
       "       'музыка,мелодрама,фэнтези', 'мультфильм,история',\n",
       "       'мультфильм,комедия,фантастика', 'биография,криминал,драма',\n",
       "       'комедия,мелодрама,фантастика', 'криминал,боевик,комедия',\n",
       "       'история,криминал', 'детектив,комедия,драма',\n",
       "       'триллер,фантастика,боевик', 'криминал,боевик',\n",
       "       'комедия,драма,военный', 'драма,триллер,криминал',\n",
       "       'мультфильм,мелодрама,приключения', 'фантастика,фэнтези,триллер',\n",
       "       'короткометражка,драма,триллер', 'военный,боевик,история',\n",
       "       'боевик,драма,триллер', 'документальный,военный,драма',\n",
       "       'драма,криминал,фильм-нуар', 'мультфильм,детский,приключения',\n",
       "       'мелодрама,история,драма'], dtype=object)"
      ]
     },
     "execution_count": 40,
     "metadata": {},
     "output_type": "execute_result"
    }
   ],
   "source": [
    "#проверим солбец genres на уникальные значения\n",
    "data_movies['genres'].unique()"
   ]
  },
  {
   "cell_type": "code",
   "execution_count": 41,
   "metadata": {},
   "outputs": [
    {
     "data": {
      "text/plain": [
       "743"
      ]
     },
     "execution_count": 41,
     "metadata": {},
     "output_type": "execute_result"
    }
   ],
   "source": [
    "#посчитаем количество уникальных значений в столбце genres\n",
    "data_movies['genres'].nunique()"
   ]
  },
  {
   "cell_type": "markdown",
   "metadata": {},
   "source": [
    "В этом столбце наблюдаем очень большое количество жанров, в связи с тем, что большая часть - это несколько жанров, указанных в одной ячейке. "
   ]
  },
  {
   "cell_type": "markdown",
   "metadata": {},
   "source": [
    "**Вывод:** Общей проблемой во всех столбцах с категоральными значениям было большое количество пропусков, которые мы обрабтали в предыдущем шаге. В столбце type были найдены пробелы, которые мы впоследствие убрали, тем самым убрав неявные дубли значений. В столбце genres обратили внимание на большое количество ячеек с вариацией из нескольких жанров."
   ]
  },
  {
   "cell_type": "markdown",
   "metadata": {
    "id": "XFSN5lrEgFyR"
   },
   "source": [
    "#### Шаг 2.5. Проверьте количественные значения\n",
    "\n",
    "- Проверьте, обнаружились ли в таких столбцах подозрительные данные. Как с такими данными лучше поступить?\n",
    "\n",
    "<div id=\"accordion\">\n",
    "    <div class=\"card\">\n",
    "        <div class=\"card-header\" id=\"headingThree\">\n",
    "            <button class=\"btn btn-link collapsed\" data-toggle=\"collapse\" data-target=\"#collapseHint_budget\" aria-expanded=\"false\" aria-controls=\"collapseHint_budget\">Подсказка</button>\n",
    "        </div>\n",
    "        <div id=\"collapseHint_budget\" class=\"collapse\" aria-labelledby=\"headingThree\" data-parent=\"#accordion\">\n",
    "            <div class=\"card-body\">\n",
    "Обратите внимание на описание столбца <code>budget</code>. Как этот столбец соотносится с двумя другими: <code>refundable_support</code> и <code>nonrefundable_support</code>?\n",
    "            </div>\n",
    "        </div>\n",
    "    </div>\n",
    "</div>"
   ]
  },
  {
   "cell_type": "markdown",
   "metadata": {},
   "source": [
    "Посмотрим сводную статистику по датасету."
   ]
  },
  {
   "cell_type": "code",
   "execution_count": 42,
   "metadata": {},
   "outputs": [
    {
     "data": {
      "text/html": [
       "<div>\n",
       "<style scoped>\n",
       "    .dataframe tbody tr th:only-of-type {\n",
       "        vertical-align: middle;\n",
       "    }\n",
       "\n",
       "    .dataframe tbody tr th {\n",
       "        vertical-align: top;\n",
       "    }\n",
       "\n",
       "    .dataframe thead th {\n",
       "        text-align: right;\n",
       "    }\n",
       "</style>\n",
       "<table border=\"1\" class=\"dataframe\">\n",
       "  <thead>\n",
       "    <tr style=\"text-align: right;\">\n",
       "      <th></th>\n",
       "      <th>refundable_support</th>\n",
       "      <th>nonrefundable_support</th>\n",
       "      <th>budget</th>\n",
       "      <th>ratings</th>\n",
       "      <th>box_office</th>\n",
       "    </tr>\n",
       "  </thead>\n",
       "  <tbody>\n",
       "    <tr>\n",
       "      <th>count</th>\n",
       "      <td>7,485.00</td>\n",
       "      <td>7,485.00</td>\n",
       "      <td>7,485.00</td>\n",
       "      <td>7,485.00</td>\n",
       "      <td>7,485.00</td>\n",
       "    </tr>\n",
       "    <tr>\n",
       "      <th>mean</th>\n",
       "      <td>526,252.51</td>\n",
       "      <td>2,172,570.25</td>\n",
       "      <td>5,643,322.10</td>\n",
       "      <td>5.65</td>\n",
       "      <td>32,267,163.99</td>\n",
       "    </tr>\n",
       "    <tr>\n",
       "      <th>std</th>\n",
       "      <td>5,781,491.10</td>\n",
       "      <td>16,149,994.78</td>\n",
       "      <td>47,531,308.14</td>\n",
       "      <td>2.41</td>\n",
       "      <td>160,611,080.38</td>\n",
       "    </tr>\n",
       "    <tr>\n",
       "      <th>min</th>\n",
       "      <td>0.00</td>\n",
       "      <td>0.00</td>\n",
       "      <td>0.00</td>\n",
       "      <td>0.00</td>\n",
       "      <td>0.00</td>\n",
       "    </tr>\n",
       "    <tr>\n",
       "      <th>25%</th>\n",
       "      <td>0.00</td>\n",
       "      <td>0.00</td>\n",
       "      <td>0.00</td>\n",
       "      <td>5.40</td>\n",
       "      <td>0.00</td>\n",
       "    </tr>\n",
       "    <tr>\n",
       "      <th>50%</th>\n",
       "      <td>0.00</td>\n",
       "      <td>0.00</td>\n",
       "      <td>0.00</td>\n",
       "      <td>6.40</td>\n",
       "      <td>0.00</td>\n",
       "    </tr>\n",
       "    <tr>\n",
       "      <th>75%</th>\n",
       "      <td>0.00</td>\n",
       "      <td>0.00</td>\n",
       "      <td>0.00</td>\n",
       "      <td>7.20</td>\n",
       "      <td>1,081,445.00</td>\n",
       "    </tr>\n",
       "    <tr>\n",
       "      <th>max</th>\n",
       "      <td>180,000,000.00</td>\n",
       "      <td>400,000,000.00</td>\n",
       "      <td>2,305,074,303.00</td>\n",
       "      <td>9.90</td>\n",
       "      <td>3,073,568,690.79</td>\n",
       "    </tr>\n",
       "  </tbody>\n",
       "</table>\n",
       "</div>"
      ],
      "text/plain": [
       "       refundable_support  nonrefundable_support           budget  ratings  \\\n",
       "count            7,485.00               7,485.00         7,485.00 7,485.00   \n",
       "mean           526,252.51           2,172,570.25     5,643,322.10     5.65   \n",
       "std          5,781,491.10          16,149,994.78    47,531,308.14     2.41   \n",
       "min                  0.00                   0.00             0.00     0.00   \n",
       "25%                  0.00                   0.00             0.00     5.40   \n",
       "50%                  0.00                   0.00             0.00     6.40   \n",
       "75%                  0.00                   0.00             0.00     7.20   \n",
       "max        180,000,000.00         400,000,000.00 2,305,074,303.00     9.90   \n",
       "\n",
       "            box_office  \n",
       "count         7,485.00  \n",
       "mean     32,267,163.99  \n",
       "std     160,611,080.38  \n",
       "min               0.00  \n",
       "25%               0.00  \n",
       "50%               0.00  \n",
       "75%       1,081,445.00  \n",
       "max   3,073,568,690.79  "
      ]
     },
     "execution_count": 42,
     "metadata": {},
     "output_type": "execute_result"
    }
   ],
   "source": [
    "data_movies.describe()"
   ]
  },
  {
   "cell_type": "markdown",
   "metadata": {},
   "source": [
    "Из описания датасета можем наблюдать, что у нас есть нулевые медианные значения, при этом значения средней есть везде. Можем предположить, что это связано с тем, что очень много пропусков заменили на 0, и так же потому, что большая часть фильмов не имеет господдержку. Попробуем построить диаграммы размаха для каждого столбца без нулевых значений и посмотреть есть ли аномалии поближе. "
   ]
  },
  {
   "cell_type": "code",
   "execution_count": 43,
   "metadata": {},
   "outputs": [
    {
     "data": {
      "image/png": "[encoded data removed]",
      "text/plain": [
       "<Figure size 432x288 with 1 Axes>"
      ]
     },
     "metadata": {
      "needs_background": "light"
     },
     "output_type": "display_data"
    }
   ],
   "source": [
    "#построим диаграмму размаха для столбца refundable_support\n",
    "data_movies.query('refundable_support != 0').boxplot(column=['refundable_support'])\n",
    "plt.ylabel('Объем возвратных средств')\n",
    "plt.title('Диаграмма размаха объема возвратных средств')\n",
    "plt.show()"
   ]
  },
  {
   "cell_type": "markdown",
   "metadata": {},
   "source": [
    "В случае с возвратными средствами \"ящик с усами\" показывает нам, что в размах попадают значения до 100 млн руб. Соответственно, значения, находящиеся за пределами размаха, можем принять за аномальные."
   ]
  },
  {
   "cell_type": "code",
   "execution_count": 44,
   "metadata": {},
   "outputs": [
    {
     "data": {
      "image/png": "[encoded data removed]",
      "text/plain": [
       "<Figure size 432x288 with 1 Axes>"
      ]
     },
     "metadata": {
      "needs_background": "light"
     },
     "output_type": "display_data"
    }
   ],
   "source": [
    "#построим диаграмму размаха для столбца nonrefundable_support\n",
    "data_movies.query('nonrefundable_support != 0').boxplot(column=['nonrefundable_support'])\n",
    "plt.ylabel('Объем невозвратных средств')\n",
    "plt.title('Диаграмма размаха объема невозвратных средств')\n",
    "plt.show()"
   ]
  },
  {
   "cell_type": "markdown",
   "metadata": {},
   "source": [
    "В случае с невозвратными средствами видим, что аномальными можно признать значения выше 80 млн руб."
   ]
  },
  {
   "cell_type": "code",
   "execution_count": 45,
   "metadata": {},
   "outputs": [
    {
     "data": {
      "image/png": "[encoded data removed]",
      "text/plain": [
       "<Figure size 432x288 with 1 Axes>"
      ]
     },
     "metadata": {
      "needs_background": "light"
     },
     "output_type": "display_data"
    }
   ],
   "source": [
    "#построим диаграмму размаха для столбца budget\n",
    "data_movies.query('budget != 0').boxplot(column=['budget'])\n",
    "plt.ylabel('Бюджет')\n",
    "plt.title('Диаграмма размаха значений бюджета')\n",
    "plt.show()"
   ]
  },
  {
   "cell_type": "markdown",
   "metadata": {},
   "source": [
    "Исходя из диаграммы размаха, аномальными можно признать значения бюджета выше 300 млн руб."
   ]
  },
  {
   "cell_type": "code",
   "execution_count": 46,
   "metadata": {},
   "outputs": [
    {
     "data": {
      "image/png": "[encoded data removed]",
      "text/plain": [
       "<Figure size 432x288 with 1 Axes>"
      ]
     },
     "metadata": {
      "needs_background": "light"
     },
     "output_type": "display_data"
    }
   ],
   "source": [
    "#построим диаграмму размаха для столбца ratings\n",
    "data_movies.query('ratings != 0').boxplot(column=['ratings'])\n",
    "plt.ylabel('Рейтинг')\n",
    "plt.title('Диаграмма размаха значений рейтинга')\n",
    "plt.show()"
   ]
  },
  {
   "cell_type": "markdown",
   "metadata": {},
   "source": [
    "Значения рейтинга фильмов, исходя из диаграммы, находятся в пределах от 4.0 до примерно 9,2. Все остальные значения можно признать аномальными."
   ]
  },
  {
   "cell_type": "code",
   "execution_count": 47,
   "metadata": {},
   "outputs": [
    {
     "data": {
      "image/png": "[encoded data removed]",
      "text/plain": [
       "<Figure size 432x288 with 1 Axes>"
      ]
     },
     "metadata": {
      "needs_background": "light"
     },
     "output_type": "display_data"
    }
   ],
   "source": [
    "#построим диаграмму размаха для столбца box_office\n",
    "data_movies.query('box_office != 0').boxplot(column=['box_office'])\n",
    "plt.ylim(-10000000, 100000000)\n",
    "plt.ylabel('Сборы')\n",
    "plt.title('Диаграмма размаха значений сбора')\n",
    "plt.show()"
   ]
  },
  {
   "cell_type": "code",
   "execution_count": 48,
   "metadata": {},
   "outputs": [
    {
     "data": {
      "text/plain": [
       "0.00              4351\n",
       "200.00              13\n",
       "300.00              12\n",
       "360.00               9\n",
       "400.00               8\n",
       "                  ... \n",
       "9,585,014.00         1\n",
       "809,638,458.60       1\n",
       "220,728.00           1\n",
       "11,332,412.00        1\n",
       "52,984,377.00        1\n",
       "Name: box_office, Length: 2938, dtype: int64"
      ]
     },
     "execution_count": 48,
     "metadata": {},
     "output_type": "execute_result"
    }
   ],
   "source": [
    "data_movies['box_office'].value_counts()"
   ]
  },
  {
   "cell_type": "markdown",
   "metadata": {},
   "source": [
    "Диаграмма показывает нам, что распределение нормальных значений сборов находится в диапазоне от 200 руб до 61 млн руб. Все остальное, по данным диаграммы - аномалии. Также, посмотрев уникальные значения, видим, что есть очень маленькие значения сборов, такие как 200, 300, 400 рублей. Это вряд ли может быть правдой, как минимум потому, что это примерно равно цене за один билет на сеанс."
   ]
  },
  {
   "cell_type": "markdown",
   "metadata": {},
   "source": [
    "Общее, что можем сказать по аномалиям - это то, что во всех столбцах есть либо слишком большие, либо слишком малые значения. В столбце со сборами есть слишком маленькие нереальные значения, которые могут быть ошибкой в заполнении данных. В столбцах с возвратными, невозвратыми средствами, бюджетом и рейтингом все данные могут быть вполне реальными, просто иметь большой разброс."
   ]
  },
  {
   "cell_type": "markdown",
   "metadata": {},
   "source": [
    "Данные столбца *budget* указаны только для тех фильмов, которые получили государственную поддержку. Посмотрим как общий бюджет фильма *(budget)* соотносится с объёмом возвратных средств государственной поддержки *(refundable_support)* и объёмом невозвратных средств государственной поддержки *(nonrefundable_support)*."
   ]
  },
  {
   "cell_type": "markdown",
   "metadata": {},
   "source": [
    "Проверим, есть ли фильмы, получившие господдержку, но при этом не имеющие сборов."
   ]
  },
  {
   "cell_type": "code",
   "execution_count": 49,
   "metadata": {
    "scrolled": true
   },
   "outputs": [
    {
     "data": {
      "text/html": [
       "<div>\n",
       "<style scoped>\n",
       "    .dataframe tbody tr th:only-of-type {\n",
       "        vertical-align: middle;\n",
       "    }\n",
       "\n",
       "    .dataframe tbody tr th {\n",
       "        vertical-align: top;\n",
       "    }\n",
       "\n",
       "    .dataframe thead th {\n",
       "        text-align: right;\n",
       "    }\n",
       "</style>\n",
       "<table border=\"1\" class=\"dataframe\">\n",
       "  <thead>\n",
       "    <tr style=\"text-align: right;\">\n",
       "      <th></th>\n",
       "      <th>title</th>\n",
       "      <th>puNumber</th>\n",
       "      <th>show_start_date</th>\n",
       "      <th>type</th>\n",
       "      <th>film_studio</th>\n",
       "      <th>production_country</th>\n",
       "      <th>director</th>\n",
       "      <th>producer</th>\n",
       "      <th>age_restriction</th>\n",
       "      <th>refundable_support</th>\n",
       "      <th>nonrefundable_support</th>\n",
       "      <th>budget</th>\n",
       "      <th>financing_source</th>\n",
       "      <th>ratings</th>\n",
       "      <th>genres</th>\n",
       "      <th>box_office</th>\n",
       "    </tr>\n",
       "  </thead>\n",
       "  <tbody>\n",
       "    <tr>\n",
       "      <th>7474</th>\n",
       "      <td>Вторжение</td>\n",
       "      <td>111,022,519.00</td>\n",
       "      <td>2019-12-23 12:00:00+00:00</td>\n",
       "      <td>Художественный</td>\n",
       "      <td>ООО \"Арт Пикчерс Студия\", ООО \"Водород 2011\"</td>\n",
       "      <td>Россия</td>\n",
       "      <td>Ф.Бондарчук</td>\n",
       "      <td>Ф.Бондарчук, М.Врубель, А.Андрющенко, Д.Рудовский</td>\n",
       "      <td>«12+» - для детей старше 12 лет</td>\n",
       "      <td>100,000,000.00</td>\n",
       "      <td>400,000,000.00</td>\n",
       "      <td>944,000,000.00</td>\n",
       "      <td>Фонд кино</td>\n",
       "      <td>5.70</td>\n",
       "      <td>фантастика,боевик</td>\n",
       "      <td>0.00</td>\n",
       "    </tr>\n",
       "    <tr>\n",
       "      <th>7478</th>\n",
       "      <td>(Не)идеальный мужчина</td>\n",
       "      <td>111,023,119.00</td>\n",
       "      <td>2019-12-24 12:00:00+00:00</td>\n",
       "      <td>Художественный</td>\n",
       "      <td>ООО \"Нон-Стоп Продакшн\"</td>\n",
       "      <td>Россия</td>\n",
       "      <td>М.Бальчюнас (псевдоним М.Вайсберг)</td>\n",
       "      <td>С.Мелькумов, А.Роднянский, М.Вайсберг, Р.Минас...</td>\n",
       "      <td>«12+» - для детей старше 12 лет</td>\n",
       "      <td>40,000,000.00</td>\n",
       "      <td>60,000,000.00</td>\n",
       "      <td>150,147,502.00</td>\n",
       "      <td>Фонд кино</td>\n",
       "      <td>4.50</td>\n",
       "      <td>комедия,фантастика,мелодрама</td>\n",
       "      <td>0.00</td>\n",
       "    </tr>\n",
       "  </tbody>\n",
       "</table>\n",
       "</div>"
      ],
      "text/plain": [
       "                      title       puNumber           show_start_date  \\\n",
       "7474              Вторжение 111,022,519.00 2019-12-23 12:00:00+00:00   \n",
       "7478  (Не)идеальный мужчина 111,023,119.00 2019-12-24 12:00:00+00:00   \n",
       "\n",
       "                type                                   film_studio  \\\n",
       "7474  Художественный  ООО \"Арт Пикчерс Студия\", ООО \"Водород 2011\"   \n",
       "7478  Художественный                      ООО \"Нон-Стоп Продакшн\"    \n",
       "\n",
       "     production_country                            director  \\\n",
       "7474             Россия                         Ф.Бондарчук   \n",
       "7478             Россия  М.Бальчюнас (псевдоним М.Вайсберг)   \n",
       "\n",
       "                                               producer  \\\n",
       "7474  Ф.Бондарчук, М.Врубель, А.Андрющенко, Д.Рудовский   \n",
       "7478  С.Мелькумов, А.Роднянский, М.Вайсберг, Р.Минас...   \n",
       "\n",
       "                      age_restriction  refundable_support  \\\n",
       "7474  «12+» - для детей старше 12 лет      100,000,000.00   \n",
       "7478  «12+» - для детей старше 12 лет       40,000,000.00   \n",
       "\n",
       "      nonrefundable_support         budget financing_source  ratings  \\\n",
       "7474         400,000,000.00 944,000,000.00        Фонд кино     5.70   \n",
       "7478          60,000,000.00 150,147,502.00        Фонд кино     4.50   \n",
       "\n",
       "                            genres  box_office  \n",
       "7474             фантастика,боевик        0.00  \n",
       "7478  комедия,фантастика,мелодрама        0.00  "
      ]
     },
     "execution_count": 49,
     "metadata": {},
     "output_type": "execute_result"
    }
   ],
   "source": [
    "data_movies.loc[(data_movies['refundable_support'] > 0) & (data_movies['nonrefundable_support'] > 0) & (data_movies['budget'] > 0) & (data_movies['box_office'] == 0)]"
   ]
  },
  {
   "cell_type": "markdown",
   "metadata": {},
   "source": [
    "Такие фильмы в датафрейме присутствуют. Можем предположить, что эти 2 фильма только вышли в прокат на момент составления базы данных, либо данные попросту не были обновлены."
   ]
  },
  {
   "cell_type": "markdown",
   "metadata": {},
   "source": [
    "Проверим, есть ли фильмы, у которых бюджет меньше, чем сумма возвратных и невозвратных средств."
   ]
  },
  {
   "cell_type": "code",
   "execution_count": 50,
   "metadata": {
    "scrolled": true
   },
   "outputs": [
    {
     "data": {
      "text/html": [
       "<div>\n",
       "<style scoped>\n",
       "    .dataframe tbody tr th:only-of-type {\n",
       "        vertical-align: middle;\n",
       "    }\n",
       "\n",
       "    .dataframe tbody tr th {\n",
       "        vertical-align: top;\n",
       "    }\n",
       "\n",
       "    .dataframe thead th {\n",
       "        text-align: right;\n",
       "    }\n",
       "</style>\n",
       "<table border=\"1\" class=\"dataframe\">\n",
       "  <thead>\n",
       "    <tr style=\"text-align: right;\">\n",
       "      <th></th>\n",
       "      <th>title</th>\n",
       "      <th>puNumber</th>\n",
       "      <th>show_start_date</th>\n",
       "      <th>type</th>\n",
       "      <th>film_studio</th>\n",
       "      <th>production_country</th>\n",
       "      <th>director</th>\n",
       "      <th>producer</th>\n",
       "      <th>age_restriction</th>\n",
       "      <th>refundable_support</th>\n",
       "      <th>nonrefundable_support</th>\n",
       "      <th>budget</th>\n",
       "      <th>financing_source</th>\n",
       "      <th>ratings</th>\n",
       "      <th>genres</th>\n",
       "      <th>box_office</th>\n",
       "    </tr>\n",
       "  </thead>\n",
       "  <tbody>\n",
       "    <tr>\n",
       "      <th>2053</th>\n",
       "      <td>14+</td>\n",
       "      <td>111,023,614.00</td>\n",
       "      <td>2014-12-19 12:00:00+00:00</td>\n",
       "      <td>Художественный</td>\n",
       "      <td>ООО Киностудия  \"Сентябрь\"</td>\n",
       "      <td>Россия</td>\n",
       "      <td>А.Зайцев</td>\n",
       "      <td>О.Гранина, А.Зайцев</td>\n",
       "      <td>«16+» - для детей старше 16 лет</td>\n",
       "      <td>0.00</td>\n",
       "      <td>23,000,000.00</td>\n",
       "      <td>0.00</td>\n",
       "      <td>Министерство культуры, Фонд кино</td>\n",
       "      <td>6.60</td>\n",
       "      <td>мелодрама</td>\n",
       "      <td>10,234,016.10</td>\n",
       "    </tr>\n",
       "    <tr>\n",
       "      <th>2058</th>\n",
       "      <td>Дуxless 2</td>\n",
       "      <td>111,000,415.00</td>\n",
       "      <td>2015-01-26 12:00:00+00:00</td>\n",
       "      <td>Художественный</td>\n",
       "      <td>ООО \"Киностудия \"Слово\", ООО \"Арт Пикчерс Студия\"</td>\n",
       "      <td>Россия</td>\n",
       "      <td>Р.Прыгунов</td>\n",
       "      <td>П.Ануров, Ф.Бондарчук, Д.Рудовский</td>\n",
       "      <td>«16+» - для детей старше 16 лет</td>\n",
       "      <td>0.00</td>\n",
       "      <td>75,000,000.00</td>\n",
       "      <td>0.00</td>\n",
       "      <td>Фонд кино</td>\n",
       "      <td>6.60</td>\n",
       "      <td>драма</td>\n",
       "      <td>446,163,511.00</td>\n",
       "    </tr>\n",
       "    <tr>\n",
       "      <th>2472</th>\n",
       "      <td>Воин (2015)</td>\n",
       "      <td>111,017,315.00</td>\n",
       "      <td>2015-09-28 12:00:00+00:00</td>\n",
       "      <td>Художественный</td>\n",
       "      <td>ООО \"Форпост Продакшн\", ООО \"Арт Пикчерс Студия\"</td>\n",
       "      <td>Россия</td>\n",
       "      <td>А.Андрианов</td>\n",
       "      <td>ООО \"Арт Пикчерс Студия\"</td>\n",
       "      <td>«12+» - для детей старше 12 лет</td>\n",
       "      <td>10,000,000.00</td>\n",
       "      <td>70,000,000.00</td>\n",
       "      <td>0.00</td>\n",
       "      <td>Фонд кино</td>\n",
       "      <td>7.80</td>\n",
       "      <td>боевик,драма,криминал</td>\n",
       "      <td>196,572,438.40</td>\n",
       "    </tr>\n",
       "    <tr>\n",
       "      <th>2532</th>\n",
       "      <td>Бармен.</td>\n",
       "      <td>111,009,615.00</td>\n",
       "      <td>2015-05-26 12:00:00+00:00</td>\n",
       "      <td>Художественный</td>\n",
       "      <td>АО \"ВайТ Медиа\", ООО \"Арт Пикчерс Студия\"</td>\n",
       "      <td>Россия</td>\n",
       "      <td>Д.Штурманова</td>\n",
       "      <td>Т.Вайнштейн</td>\n",
       "      <td>«16+» - для детей старше 16 лет</td>\n",
       "      <td>20,000,000.00</td>\n",
       "      <td>0.00</td>\n",
       "      <td>0.00</td>\n",
       "      <td>Фонд кино</td>\n",
       "      <td>6.20</td>\n",
       "      <td>комедия,фэнтези</td>\n",
       "      <td>67,418,974.80</td>\n",
       "    </tr>\n",
       "    <tr>\n",
       "      <th>2615</th>\n",
       "      <td>Савва. Сердце воина</td>\n",
       "      <td>114,001,715.00</td>\n",
       "      <td>2015-07-21 12:00:00+00:00</td>\n",
       "      <td>Анимационный</td>\n",
       "      <td>ООО \"Глюкоза Продакшн\", ООО \"Арт Пикчерс Студия\"</td>\n",
       "      <td>Россия</td>\n",
       "      <td>М.Фадеев</td>\n",
       "      <td>А.Чистяков</td>\n",
       "      <td>«6+» - для детей старше 6 лет</td>\n",
       "      <td>60,000,000.00</td>\n",
       "      <td>100,000,000.00</td>\n",
       "      <td>0.00</td>\n",
       "      <td>Фонд кино</td>\n",
       "      <td>4.60</td>\n",
       "      <td>мультфильм,приключения,фэнтези</td>\n",
       "      <td>184,487,551.40</td>\n",
       "    </tr>\n",
       "    <tr>\n",
       "      <th>2684</th>\n",
       "      <td>Тряпичный союз</td>\n",
       "      <td>111,010,215.00</td>\n",
       "      <td>2015-06-08 12:00:00+00:00</td>\n",
       "      <td>Художественный</td>\n",
       "      <td>ООО \"Кинокомпания \"КОКТЕБЕЛЬ\"</td>\n",
       "      <td>Россия</td>\n",
       "      <td>М.Местецкий</td>\n",
       "      <td>Р.Борисевич, А.Кушаев</td>\n",
       "      <td>«18+» - запрещено для детей</td>\n",
       "      <td>0.00</td>\n",
       "      <td>59,000,000.00</td>\n",
       "      <td>0.00</td>\n",
       "      <td>Фонд кино</td>\n",
       "      <td>6.30</td>\n",
       "      <td>комедия,драма</td>\n",
       "      <td>1,957,738.51</td>\n",
       "    </tr>\n",
       "    <tr>\n",
       "      <th>2788</th>\n",
       "      <td>Срочно выйду замуж</td>\n",
       "      <td>111,017,115.00</td>\n",
       "      <td>2015-09-30 12:00:00+00:00</td>\n",
       "      <td>Художественный</td>\n",
       "      <td>АО \"ВайТ Медиа\", ООО \"Арт Пикчерс Студия\"</td>\n",
       "      <td>Россия</td>\n",
       "      <td>С Чекалов</td>\n",
       "      <td>Ф.Бондарчук, Т.Вайнштейн, Д.Рудовский</td>\n",
       "      <td>«16+» - для детей старше 16 лет</td>\n",
       "      <td>0.00</td>\n",
       "      <td>35,000,000.00</td>\n",
       "      <td>0.00</td>\n",
       "      <td>Фонд кино</td>\n",
       "      <td>5.10</td>\n",
       "      <td>комедия,мелодрама</td>\n",
       "      <td>72,937,783.20</td>\n",
       "    </tr>\n",
       "    <tr>\n",
       "      <th>2874</th>\n",
       "      <td>Помню - не помню!</td>\n",
       "      <td>111,004,916.00</td>\n",
       "      <td>2016-03-01 12:00:00+00:00</td>\n",
       "      <td>Художественный</td>\n",
       "      <td>ООО \"КиноФирма\"</td>\n",
       "      <td>Россия</td>\n",
       "      <td>В.Ровенский</td>\n",
       "      <td>ООО \"КиноФирма\"</td>\n",
       "      <td>«12+» - для детей старше 12 лет</td>\n",
       "      <td>0.00</td>\n",
       "      <td>6,000,000.00</td>\n",
       "      <td>0.00</td>\n",
       "      <td>Министерство культуры</td>\n",
       "      <td>4.30</td>\n",
       "      <td>комедия</td>\n",
       "      <td>15,362,931.43</td>\n",
       "    </tr>\n",
       "    <tr>\n",
       "      <th>3047</th>\n",
       "      <td>Любовь с ограничениями</td>\n",
       "      <td>111,008,216.00</td>\n",
       "      <td>2016-04-29 12:00:00+00:00</td>\n",
       "      <td>Художественный</td>\n",
       "      <td>АО \"ВайТ Медиа\", ООО \"Арт Пикчерс Студия\"</td>\n",
       "      <td>Россия</td>\n",
       "      <td>Д.Тюрин</td>\n",
       "      <td>Ф.Бондарчук, Т.Вайнштейн, Д.Рудовский</td>\n",
       "      <td>«16+» - для детей старше 16 лет</td>\n",
       "      <td>19,000,000.00</td>\n",
       "      <td>51,000,000.00</td>\n",
       "      <td>0.00</td>\n",
       "      <td>Фонд кино</td>\n",
       "      <td>6.30</td>\n",
       "      <td>комедия,мелодрама</td>\n",
       "      <td>70,299,052.00</td>\n",
       "    </tr>\n",
       "    <tr>\n",
       "      <th>3565</th>\n",
       "      <td>Притяжение (2016)</td>\n",
       "      <td>111,018,116.00</td>\n",
       "      <td>2016-12-16 12:00:00+00:00</td>\n",
       "      <td>Художественный</td>\n",
       "      <td>ООО \"Водород 2011\",  ООО \"Арт Пикчерс Студия\"</td>\n",
       "      <td>Россия</td>\n",
       "      <td>Ф.Бондарчук</td>\n",
       "      <td>ООО \"Арт Пикчерс Студия\"</td>\n",
       "      <td>«12+» - для детей старше 12 лет</td>\n",
       "      <td>0.00</td>\n",
       "      <td>250,000,000.00</td>\n",
       "      <td>0.00</td>\n",
       "      <td>Фонд кино</td>\n",
       "      <td>5.60</td>\n",
       "      <td>фантастика</td>\n",
       "      <td>1,038,321,489.00</td>\n",
       "    </tr>\n",
       "    <tr>\n",
       "      <th>3675</th>\n",
       "      <td>Чудо-юдо</td>\n",
       "      <td>114,001,817.00</td>\n",
       "      <td>2017-06-27 12:00:00+00:00</td>\n",
       "      <td>Анимационный</td>\n",
       "      <td>ООО \"КиноФирма\"</td>\n",
       "      <td>Россия</td>\n",
       "      <td>А.Лукичев</td>\n",
       "      <td>ООО \"КиноФирма\"</td>\n",
       "      <td>«6+» - для детей старше 6 лет</td>\n",
       "      <td>20,000,000.00</td>\n",
       "      <td>20,000,000.00</td>\n",
       "      <td>0.00</td>\n",
       "      <td>Фонд кино</td>\n",
       "      <td>5.20</td>\n",
       "      <td>мультфильм,фэнтези,семейный</td>\n",
       "      <td>55,108,014.76</td>\n",
       "    </tr>\n",
       "    <tr>\n",
       "      <th>3739</th>\n",
       "      <td>Мифы</td>\n",
       "      <td>111,004,317.00</td>\n",
       "      <td>2017-06-07 12:00:00+00:00</td>\n",
       "      <td>Художественный</td>\n",
       "      <td>ООО \"ХАЙПФИЛМ\", ООО \"Арт Пикчерс Студия\"</td>\n",
       "      <td>Россия</td>\n",
       "      <td>А.Молочников</td>\n",
       "      <td>Ф.Бондарчук, Д.Рудовский, И.Стюарт, М.Османн, ...</td>\n",
       "      <td>«16+» - для детей старше 16 лет</td>\n",
       "      <td>25,000,000.00</td>\n",
       "      <td>20,000,000.00</td>\n",
       "      <td>0.00</td>\n",
       "      <td>Фонд кино</td>\n",
       "      <td>4.80</td>\n",
       "      <td>комедия</td>\n",
       "      <td>50,451,949.00</td>\n",
       "    </tr>\n",
       "    <tr>\n",
       "      <th>5673</th>\n",
       "      <td>Селфи</td>\n",
       "      <td>111,012,117.00</td>\n",
       "      <td>2018-02-01 12:00:00+00:00</td>\n",
       "      <td>Художественный</td>\n",
       "      <td>ООО \"Киностудия \"Слово\", ООО \"Арт Пикчерс Студия\"</td>\n",
       "      <td>Россия</td>\n",
       "      <td>Н.Хомерики</td>\n",
       "      <td>П.Ануров, Ф.Бондарчук, Д.Рудовский</td>\n",
       "      <td>«16+» - для детей старше 16 лет</td>\n",
       "      <td>20,000,000.00</td>\n",
       "      <td>40,000,000.00</td>\n",
       "      <td>0.00</td>\n",
       "      <td>Фонд кино</td>\n",
       "      <td>5.80</td>\n",
       "      <td>триллер,драма</td>\n",
       "      <td>225,196,400.03</td>\n",
       "    </tr>\n",
       "    <tr>\n",
       "      <th>5806</th>\n",
       "      <td>Два хвоста</td>\n",
       "      <td>114,001,018.00</td>\n",
       "      <td>2018-05-31 12:00:00+00:00</td>\n",
       "      <td>Анимационный</td>\n",
       "      <td>ООО \"ЛИЦЕНЗИОННЫЕ БРЕНДЫ\"</td>\n",
       "      <td>Россия</td>\n",
       "      <td>В.Ровенский, Н.Лопато, В.Азеев</td>\n",
       "      <td>ООО \"ЛИЦЕНЗИОННЫЕ БРЕНДЫ\"</td>\n",
       "      <td>«6+» - для детей старше 6 лет</td>\n",
       "      <td>10,000,000.00</td>\n",
       "      <td>60,000,000.00</td>\n",
       "      <td>0.00</td>\n",
       "      <td>Фонд кино</td>\n",
       "      <td>5.00</td>\n",
       "      <td>мультфильм,детский</td>\n",
       "      <td>106,514,301.03</td>\n",
       "    </tr>\n",
       "    <tr>\n",
       "      <th>6008</th>\n",
       "      <td>Принцесса и дракон</td>\n",
       "      <td>114,003,018.00</td>\n",
       "      <td>2018-08-23 12:00:00+00:00</td>\n",
       "      <td>Анимационный</td>\n",
       "      <td>ООО \"ЛИЦЕНЗИОННЫЕ БРЕНДЫ\"</td>\n",
       "      <td>Россия</td>\n",
       "      <td>М.Нефедова</td>\n",
       "      <td>ООО \"ЛИЦЕНЗИОННЫЕ БРЕНДЫ\"</td>\n",
       "      <td>«6+» - для детей старше 6 лет</td>\n",
       "      <td>40,000,000.00</td>\n",
       "      <td>40,000,000.00</td>\n",
       "      <td>0.00</td>\n",
       "      <td>Фонд кино</td>\n",
       "      <td>5.20</td>\n",
       "      <td>мультфильм,фэнтези,детский</td>\n",
       "      <td>83,366,328.66</td>\n",
       "    </tr>\n",
       "    <tr>\n",
       "      <th>6323</th>\n",
       "      <td>Баба Яга</td>\n",
       "      <td>114,006,518.00</td>\n",
       "      <td>2018-11-08 12:00:00+00:00</td>\n",
       "      <td>Анимационный</td>\n",
       "      <td>ООО \"Арт Пикчерс Студия\"</td>\n",
       "      <td>Россия</td>\n",
       "      <td>В.Саков</td>\n",
       "      <td>ООО \"Арт Пикчерс Студия\", ООО \"КРИЭЙТИВ АНИМЭЙ...</td>\n",
       "      <td>«6+» - для детей старше 6 лет</td>\n",
       "      <td>0.00</td>\n",
       "      <td>138,969,465.00</td>\n",
       "      <td>0.00</td>\n",
       "      <td>Фонд кино</td>\n",
       "      <td>0.00</td>\n",
       "      <td>Жанр не указан</td>\n",
       "      <td>1,334,699.40</td>\n",
       "    </tr>\n",
       "    <tr>\n",
       "      <th>6823</th>\n",
       "      <td>Большое путешествие</td>\n",
       "      <td>114,002,419.00</td>\n",
       "      <td>2019-04-20 12:00:00+00:00</td>\n",
       "      <td>Анимационный</td>\n",
       "      <td>ООО \"ЛИЦЕНЗИОННЫЕ БРЕНДЫ\"</td>\n",
       "      <td>Россия</td>\n",
       "      <td>Н.Лопато, В.Ровенский</td>\n",
       "      <td>ООО \"ЛИЦЕНЗИОННЫЕ БРЕНДЫ\"</td>\n",
       "      <td>«6+» - для детей старше 6 лет</td>\n",
       "      <td>60,000,000.00</td>\n",
       "      <td>120,000,000.00</td>\n",
       "      <td>0.00</td>\n",
       "      <td>Фонд кино</td>\n",
       "      <td>6.20</td>\n",
       "      <td>мультфильм,комедия,приключения</td>\n",
       "      <td>147,606,826.51</td>\n",
       "    </tr>\n",
       "  </tbody>\n",
       "</table>\n",
       "</div>"
      ],
      "text/plain": [
       "                       title       puNumber           show_start_date  \\\n",
       "2053                     14+ 111,023,614.00 2014-12-19 12:00:00+00:00   \n",
       "2058               Дуxless 2 111,000,415.00 2015-01-26 12:00:00+00:00   \n",
       "2472             Воин (2015) 111,017,315.00 2015-09-28 12:00:00+00:00   \n",
       "2532                 Бармен. 111,009,615.00 2015-05-26 12:00:00+00:00   \n",
       "2615     Савва. Сердце воина 114,001,715.00 2015-07-21 12:00:00+00:00   \n",
       "2684          Тряпичный союз 111,010,215.00 2015-06-08 12:00:00+00:00   \n",
       "2788      Срочно выйду замуж 111,017,115.00 2015-09-30 12:00:00+00:00   \n",
       "2874       Помню - не помню! 111,004,916.00 2016-03-01 12:00:00+00:00   \n",
       "3047  Любовь с ограничениями 111,008,216.00 2016-04-29 12:00:00+00:00   \n",
       "3565       Притяжение (2016) 111,018,116.00 2016-12-16 12:00:00+00:00   \n",
       "3675                Чудо-юдо 114,001,817.00 2017-06-27 12:00:00+00:00   \n",
       "3739                    Мифы 111,004,317.00 2017-06-07 12:00:00+00:00   \n",
       "5673                   Селфи 111,012,117.00 2018-02-01 12:00:00+00:00   \n",
       "5806              Два хвоста 114,001,018.00 2018-05-31 12:00:00+00:00   \n",
       "6008      Принцесса и дракон 114,003,018.00 2018-08-23 12:00:00+00:00   \n",
       "6323                Баба Яга 114,006,518.00 2018-11-08 12:00:00+00:00   \n",
       "6823     Большое путешествие 114,002,419.00 2019-04-20 12:00:00+00:00   \n",
       "\n",
       "                type                                        film_studio  \\\n",
       "2053  Художественный                         ООО Киностудия  \"Сентябрь\"   \n",
       "2058  Художественный  ООО \"Киностудия \"Слово\", ООО \"Арт Пикчерс Студия\"   \n",
       "2472  Художественный   ООО \"Форпост Продакшн\", ООО \"Арт Пикчерс Студия\"   \n",
       "2532  Художественный          АО \"ВайТ Медиа\", ООО \"Арт Пикчерс Студия\"   \n",
       "2615    Анимационный   ООО \"Глюкоза Продакшн\", ООО \"Арт Пикчерс Студия\"   \n",
       "2684  Художественный                      ООО \"Кинокомпания \"КОКТЕБЕЛЬ\"   \n",
       "2788  Художественный          АО \"ВайТ Медиа\", ООО \"Арт Пикчерс Студия\"   \n",
       "2874  Художественный                                    ООО \"КиноФирма\"   \n",
       "3047  Художественный          АО \"ВайТ Медиа\", ООО \"Арт Пикчерс Студия\"   \n",
       "3565  Художественный      ООО \"Водород 2011\",  ООО \"Арт Пикчерс Студия\"   \n",
       "3675    Анимационный                                    ООО \"КиноФирма\"   \n",
       "3739  Художественный           ООО \"ХАЙПФИЛМ\", ООО \"Арт Пикчерс Студия\"   \n",
       "5673  Художественный  ООО \"Киностудия \"Слово\", ООО \"Арт Пикчерс Студия\"   \n",
       "5806    Анимационный                          ООО \"ЛИЦЕНЗИОННЫЕ БРЕНДЫ\"   \n",
       "6008    Анимационный                          ООО \"ЛИЦЕНЗИОННЫЕ БРЕНДЫ\"   \n",
       "6323    Анимационный                           ООО \"Арт Пикчерс Студия\"   \n",
       "6823    Анимационный                          ООО \"ЛИЦЕНЗИОННЫЕ БРЕНДЫ\"   \n",
       "\n",
       "     production_country                        director  \\\n",
       "2053             Россия                        А.Зайцев   \n",
       "2058             Россия                      Р.Прыгунов   \n",
       "2472             Россия                     А.Андрианов   \n",
       "2532             Россия                    Д.Штурманова   \n",
       "2615             Россия                        М.Фадеев   \n",
       "2684             Россия                     М.Местецкий   \n",
       "2788             Россия                       С Чекалов   \n",
       "2874             Россия                     В.Ровенский   \n",
       "3047             Россия                         Д.Тюрин   \n",
       "3565             Россия                     Ф.Бондарчук   \n",
       "3675             Россия                       А.Лукичев   \n",
       "3739             Россия                    А.Молочников   \n",
       "5673             Россия                      Н.Хомерики   \n",
       "5806             Россия  В.Ровенский, Н.Лопато, В.Азеев   \n",
       "6008             Россия                      М.Нефедова   \n",
       "6323             Россия                         В.Саков   \n",
       "6823             Россия           Н.Лопато, В.Ровенский   \n",
       "\n",
       "                                               producer  \\\n",
       "2053                                О.Гранина, А.Зайцев   \n",
       "2058                 П.Ануров, Ф.Бондарчук, Д.Рудовский   \n",
       "2472                           ООО \"Арт Пикчерс Студия\"   \n",
       "2532                                        Т.Вайнштейн   \n",
       "2615                                         А.Чистяков   \n",
       "2684                              Р.Борисевич, А.Кушаев   \n",
       "2788              Ф.Бондарчук, Т.Вайнштейн, Д.Рудовский   \n",
       "2874                                    ООО \"КиноФирма\"   \n",
       "3047              Ф.Бондарчук, Т.Вайнштейн, Д.Рудовский   \n",
       "3565                           ООО \"Арт Пикчерс Студия\"   \n",
       "3675                                    ООО \"КиноФирма\"   \n",
       "3739  Ф.Бондарчук, Д.Рудовский, И.Стюарт, М.Османн, ...   \n",
       "5673                 П.Ануров, Ф.Бондарчук, Д.Рудовский   \n",
       "5806                          ООО \"ЛИЦЕНЗИОННЫЕ БРЕНДЫ\"   \n",
       "6008                          ООО \"ЛИЦЕНЗИОННЫЕ БРЕНДЫ\"   \n",
       "6323  ООО \"Арт Пикчерс Студия\", ООО \"КРИЭЙТИВ АНИМЭЙ...   \n",
       "6823                          ООО \"ЛИЦЕНЗИОННЫЕ БРЕНДЫ\"   \n",
       "\n",
       "                      age_restriction  refundable_support  \\\n",
       "2053  «16+» - для детей старше 16 лет                0.00   \n",
       "2058  «16+» - для детей старше 16 лет                0.00   \n",
       "2472  «12+» - для детей старше 12 лет       10,000,000.00   \n",
       "2532  «16+» - для детей старше 16 лет       20,000,000.00   \n",
       "2615    «6+» - для детей старше 6 лет       60,000,000.00   \n",
       "2684      «18+» - запрещено для детей                0.00   \n",
       "2788  «16+» - для детей старше 16 лет                0.00   \n",
       "2874  «12+» - для детей старше 12 лет                0.00   \n",
       "3047  «16+» - для детей старше 16 лет       19,000,000.00   \n",
       "3565  «12+» - для детей старше 12 лет                0.00   \n",
       "3675    «6+» - для детей старше 6 лет       20,000,000.00   \n",
       "3739  «16+» - для детей старше 16 лет       25,000,000.00   \n",
       "5673  «16+» - для детей старше 16 лет       20,000,000.00   \n",
       "5806    «6+» - для детей старше 6 лет       10,000,000.00   \n",
       "6008    «6+» - для детей старше 6 лет       40,000,000.00   \n",
       "6323    «6+» - для детей старше 6 лет                0.00   \n",
       "6823    «6+» - для детей старше 6 лет       60,000,000.00   \n",
       "\n",
       "      nonrefundable_support  budget                  financing_source  \\\n",
       "2053          23,000,000.00    0.00  Министерство культуры, Фонд кино   \n",
       "2058          75,000,000.00    0.00                         Фонд кино   \n",
       "2472          70,000,000.00    0.00                         Фонд кино   \n",
       "2532                   0.00    0.00                         Фонд кино   \n",
       "2615         100,000,000.00    0.00                         Фонд кино   \n",
       "2684          59,000,000.00    0.00                         Фонд кино   \n",
       "2788          35,000,000.00    0.00                         Фонд кино   \n",
       "2874           6,000,000.00    0.00             Министерство культуры   \n",
       "3047          51,000,000.00    0.00                         Фонд кино   \n",
       "3565         250,000,000.00    0.00                         Фонд кино   \n",
       "3675          20,000,000.00    0.00                         Фонд кино   \n",
       "3739          20,000,000.00    0.00                         Фонд кино   \n",
       "5673          40,000,000.00    0.00                         Фонд кино   \n",
       "5806          60,000,000.00    0.00                         Фонд кино   \n",
       "6008          40,000,000.00    0.00                         Фонд кино   \n",
       "6323         138,969,465.00    0.00                         Фонд кино   \n",
       "6823         120,000,000.00    0.00                         Фонд кино   \n",
       "\n",
       "      ratings                          genres       box_office  \n",
       "2053     6.60                       мелодрама    10,234,016.10  \n",
       "2058     6.60                           драма   446,163,511.00  \n",
       "2472     7.80           боевик,драма,криминал   196,572,438.40  \n",
       "2532     6.20                 комедия,фэнтези    67,418,974.80  \n",
       "2615     4.60  мультфильм,приключения,фэнтези   184,487,551.40  \n",
       "2684     6.30                   комедия,драма     1,957,738.51  \n",
       "2788     5.10               комедия,мелодрама    72,937,783.20  \n",
       "2874     4.30                         комедия    15,362,931.43  \n",
       "3047     6.30               комедия,мелодрама    70,299,052.00  \n",
       "3565     5.60                      фантастика 1,038,321,489.00  \n",
       "3675     5.20     мультфильм,фэнтези,семейный    55,108,014.76  \n",
       "3739     4.80                         комедия    50,451,949.00  \n",
       "5673     5.80                   триллер,драма   225,196,400.03  \n",
       "5806     5.00              мультфильм,детский   106,514,301.03  \n",
       "6008     5.20      мультфильм,фэнтези,детский    83,366,328.66  \n",
       "6323     0.00                  Жанр не указан     1,334,699.40  \n",
       "6823     6.20  мультфильм,комедия,приключения   147,606,826.51  "
      ]
     },
     "execution_count": 50,
     "metadata": {},
     "output_type": "execute_result"
    }
   ],
   "source": [
    "support_movies = data_movies.loc[(data_movies['refundable_support'] + data_movies['nonrefundable_support']) > data_movies['budget']]\n",
    "support_movies"
   ]
  },
  {
   "cell_type": "markdown",
   "metadata": {},
   "source": [
    "Наблюдаем, что у нас есть фильмы, у которых нет бюджета, но при этом они получили государственную поддержку. Можно предположить, что процент господдержки примерно одинаковый. Тогда мы можем вычислить медианный процент господдержки и заменить им нулевые значения бюджета у этих фильмов."
   ]
  },
  {
   "cell_type": "code",
   "execution_count": 51,
   "metadata": {},
   "outputs": [
    {
     "data": {
      "text/plain": [
       "0.6140376284219444"
      ]
     },
     "execution_count": 51,
     "metadata": {},
     "output_type": "execute_result"
    }
   ],
   "source": [
    "budget_pct = data_movies.eval('(refundable_support + nonrefundable_support) / budget').median()\n",
    "budget_pct"
   ]
  },
  {
   "cell_type": "markdown",
   "metadata": {},
   "source": [
    "Медианный процент господдержки для фильмов составляет 61%. Заменим наши нулевые значения в бюджете."
   ]
  },
  {
   "cell_type": "code",
   "execution_count": 52,
   "metadata": {
    "scrolled": true
   },
   "outputs": [
    {
     "data": {
      "text/html": [
       "<div>\n",
       "<style scoped>\n",
       "    .dataframe tbody tr th:only-of-type {\n",
       "        vertical-align: middle;\n",
       "    }\n",
       "\n",
       "    .dataframe tbody tr th {\n",
       "        vertical-align: top;\n",
       "    }\n",
       "\n",
       "    .dataframe thead th {\n",
       "        text-align: right;\n",
       "    }\n",
       "</style>\n",
       "<table border=\"1\" class=\"dataframe\">\n",
       "  <thead>\n",
       "    <tr style=\"text-align: right;\">\n",
       "      <th></th>\n",
       "      <th>title</th>\n",
       "      <th>puNumber</th>\n",
       "      <th>show_start_date</th>\n",
       "      <th>type</th>\n",
       "      <th>film_studio</th>\n",
       "      <th>production_country</th>\n",
       "      <th>director</th>\n",
       "      <th>producer</th>\n",
       "      <th>age_restriction</th>\n",
       "      <th>refundable_support</th>\n",
       "      <th>nonrefundable_support</th>\n",
       "      <th>budget</th>\n",
       "      <th>financing_source</th>\n",
       "      <th>ratings</th>\n",
       "      <th>genres</th>\n",
       "      <th>box_office</th>\n",
       "    </tr>\n",
       "  </thead>\n",
       "  <tbody>\n",
       "    <tr>\n",
       "      <th>2053</th>\n",
       "      <td>14+</td>\n",
       "      <td>111,023,614.00</td>\n",
       "      <td>2014-12-19 12:00:00+00:00</td>\n",
       "      <td>Художественный</td>\n",
       "      <td>ООО Киностудия  \"Сентябрь\"</td>\n",
       "      <td>Россия</td>\n",
       "      <td>А.Зайцев</td>\n",
       "      <td>О.Гранина, А.Зайцев</td>\n",
       "      <td>«16+» - для детей старше 16 лет</td>\n",
       "      <td>0.00</td>\n",
       "      <td>23,000,000.00</td>\n",
       "      <td>37,456,988.00</td>\n",
       "      <td>Министерство культуры, Фонд кино</td>\n",
       "      <td>6.60</td>\n",
       "      <td>мелодрама</td>\n",
       "      <td>10,234,016.10</td>\n",
       "    </tr>\n",
       "    <tr>\n",
       "      <th>2058</th>\n",
       "      <td>Дуxless 2</td>\n",
       "      <td>111,000,415.00</td>\n",
       "      <td>2015-01-26 12:00:00+00:00</td>\n",
       "      <td>Художественный</td>\n",
       "      <td>ООО \"Киностудия \"Слово\", ООО \"Арт Пикчерс Студия\"</td>\n",
       "      <td>Россия</td>\n",
       "      <td>Р.Прыгунов</td>\n",
       "      <td>П.Ануров, Ф.Бондарчук, Д.Рудовский</td>\n",
       "      <td>«16+» - для детей старше 16 лет</td>\n",
       "      <td>0.00</td>\n",
       "      <td>75,000,000.00</td>\n",
       "      <td>122,142,352.00</td>\n",
       "      <td>Фонд кино</td>\n",
       "      <td>6.60</td>\n",
       "      <td>драма</td>\n",
       "      <td>446,163,511.00</td>\n",
       "    </tr>\n",
       "    <tr>\n",
       "      <th>2472</th>\n",
       "      <td>Воин (2015)</td>\n",
       "      <td>111,017,315.00</td>\n",
       "      <td>2015-09-28 12:00:00+00:00</td>\n",
       "      <td>Художественный</td>\n",
       "      <td>ООО \"Форпост Продакшн\", ООО \"Арт Пикчерс Студия\"</td>\n",
       "      <td>Россия</td>\n",
       "      <td>А.Андрианов</td>\n",
       "      <td>ООО \"Арт Пикчерс Студия\"</td>\n",
       "      <td>«12+» - для детей старше 12 лет</td>\n",
       "      <td>10,000,000.00</td>\n",
       "      <td>70,000,000.00</td>\n",
       "      <td>130,285,175.00</td>\n",
       "      <td>Фонд кино</td>\n",
       "      <td>7.80</td>\n",
       "      <td>боевик,драма,криминал</td>\n",
       "      <td>196,572,438.40</td>\n",
       "    </tr>\n",
       "    <tr>\n",
       "      <th>2532</th>\n",
       "      <td>Бармен.</td>\n",
       "      <td>111,009,615.00</td>\n",
       "      <td>2015-05-26 12:00:00+00:00</td>\n",
       "      <td>Художественный</td>\n",
       "      <td>АО \"ВайТ Медиа\", ООО \"Арт Пикчерс Студия\"</td>\n",
       "      <td>Россия</td>\n",
       "      <td>Д.Штурманова</td>\n",
       "      <td>Т.Вайнштейн</td>\n",
       "      <td>«16+» - для детей старше 16 лет</td>\n",
       "      <td>20,000,000.00</td>\n",
       "      <td>0.00</td>\n",
       "      <td>32,571,294.00</td>\n",
       "      <td>Фонд кино</td>\n",
       "      <td>6.20</td>\n",
       "      <td>комедия,фэнтези</td>\n",
       "      <td>67,418,974.80</td>\n",
       "    </tr>\n",
       "    <tr>\n",
       "      <th>2615</th>\n",
       "      <td>Савва. Сердце воина</td>\n",
       "      <td>114,001,715.00</td>\n",
       "      <td>2015-07-21 12:00:00+00:00</td>\n",
       "      <td>Анимационный</td>\n",
       "      <td>ООО \"Глюкоза Продакшн\", ООО \"Арт Пикчерс Студия\"</td>\n",
       "      <td>Россия</td>\n",
       "      <td>М.Фадеев</td>\n",
       "      <td>А.Чистяков</td>\n",
       "      <td>«6+» - для детей старше 6 лет</td>\n",
       "      <td>60,000,000.00</td>\n",
       "      <td>100,000,000.00</td>\n",
       "      <td>260,570,350.00</td>\n",
       "      <td>Фонд кино</td>\n",
       "      <td>4.60</td>\n",
       "      <td>мультфильм,приключения,фэнтези</td>\n",
       "      <td>184,487,551.40</td>\n",
       "    </tr>\n",
       "    <tr>\n",
       "      <th>2684</th>\n",
       "      <td>Тряпичный союз</td>\n",
       "      <td>111,010,215.00</td>\n",
       "      <td>2015-06-08 12:00:00+00:00</td>\n",
       "      <td>Художественный</td>\n",
       "      <td>ООО \"Кинокомпания \"КОКТЕБЕЛЬ\"</td>\n",
       "      <td>Россия</td>\n",
       "      <td>М.Местецкий</td>\n",
       "      <td>Р.Борисевич, А.Кушаев</td>\n",
       "      <td>«18+» - запрещено для детей</td>\n",
       "      <td>0.00</td>\n",
       "      <td>59,000,000.00</td>\n",
       "      <td>96,085,317.00</td>\n",
       "      <td>Фонд кино</td>\n",
       "      <td>6.30</td>\n",
       "      <td>комедия,драма</td>\n",
       "      <td>1,957,738.51</td>\n",
       "    </tr>\n",
       "    <tr>\n",
       "      <th>2788</th>\n",
       "      <td>Срочно выйду замуж</td>\n",
       "      <td>111,017,115.00</td>\n",
       "      <td>2015-09-30 12:00:00+00:00</td>\n",
       "      <td>Художественный</td>\n",
       "      <td>АО \"ВайТ Медиа\", ООО \"Арт Пикчерс Студия\"</td>\n",
       "      <td>Россия</td>\n",
       "      <td>С Чекалов</td>\n",
       "      <td>Ф.Бондарчук, Т.Вайнштейн, Д.Рудовский</td>\n",
       "      <td>«16+» - для детей старше 16 лет</td>\n",
       "      <td>0.00</td>\n",
       "      <td>35,000,000.00</td>\n",
       "      <td>56,999,764.00</td>\n",
       "      <td>Фонд кино</td>\n",
       "      <td>5.10</td>\n",
       "      <td>комедия,мелодрама</td>\n",
       "      <td>72,937,783.20</td>\n",
       "    </tr>\n",
       "    <tr>\n",
       "      <th>2874</th>\n",
       "      <td>Помню - не помню!</td>\n",
       "      <td>111,004,916.00</td>\n",
       "      <td>2016-03-01 12:00:00+00:00</td>\n",
       "      <td>Художественный</td>\n",
       "      <td>ООО \"КиноФирма\"</td>\n",
       "      <td>Россия</td>\n",
       "      <td>В.Ровенский</td>\n",
       "      <td>ООО \"КиноФирма\"</td>\n",
       "      <td>«12+» - для детей старше 12 лет</td>\n",
       "      <td>0.00</td>\n",
       "      <td>6,000,000.00</td>\n",
       "      <td>9,771,388.00</td>\n",
       "      <td>Министерство культуры</td>\n",
       "      <td>4.30</td>\n",
       "      <td>комедия</td>\n",
       "      <td>15,362,931.43</td>\n",
       "    </tr>\n",
       "    <tr>\n",
       "      <th>3047</th>\n",
       "      <td>Любовь с ограничениями</td>\n",
       "      <td>111,008,216.00</td>\n",
       "      <td>2016-04-29 12:00:00+00:00</td>\n",
       "      <td>Художественный</td>\n",
       "      <td>АО \"ВайТ Медиа\", ООО \"Арт Пикчерс Студия\"</td>\n",
       "      <td>Россия</td>\n",
       "      <td>Д.Тюрин</td>\n",
       "      <td>Ф.Бондарчук, Т.Вайнштейн, Д.Рудовский</td>\n",
       "      <td>«16+» - для детей старше 16 лет</td>\n",
       "      <td>19,000,000.00</td>\n",
       "      <td>51,000,000.00</td>\n",
       "      <td>113,999,528.00</td>\n",
       "      <td>Фонд кино</td>\n",
       "      <td>6.30</td>\n",
       "      <td>комедия,мелодрама</td>\n",
       "      <td>70,299,052.00</td>\n",
       "    </tr>\n",
       "    <tr>\n",
       "      <th>3565</th>\n",
       "      <td>Притяжение (2016)</td>\n",
       "      <td>111,018,116.00</td>\n",
       "      <td>2016-12-16 12:00:00+00:00</td>\n",
       "      <td>Художественный</td>\n",
       "      <td>ООО \"Водород 2011\",  ООО \"Арт Пикчерс Студия\"</td>\n",
       "      <td>Россия</td>\n",
       "      <td>Ф.Бондарчук</td>\n",
       "      <td>ООО \"Арт Пикчерс Студия\"</td>\n",
       "      <td>«12+» - для детей старше 12 лет</td>\n",
       "      <td>0.00</td>\n",
       "      <td>250,000,000.00</td>\n",
       "      <td>407,141,173.00</td>\n",
       "      <td>Фонд кино</td>\n",
       "      <td>5.60</td>\n",
       "      <td>фантастика</td>\n",
       "      <td>1,038,321,489.00</td>\n",
       "    </tr>\n",
       "    <tr>\n",
       "      <th>3675</th>\n",
       "      <td>Чудо-юдо</td>\n",
       "      <td>114,001,817.00</td>\n",
       "      <td>2017-06-27 12:00:00+00:00</td>\n",
       "      <td>Анимационный</td>\n",
       "      <td>ООО \"КиноФирма\"</td>\n",
       "      <td>Россия</td>\n",
       "      <td>А.Лукичев</td>\n",
       "      <td>ООО \"КиноФирма\"</td>\n",
       "      <td>«6+» - для детей старше 6 лет</td>\n",
       "      <td>20,000,000.00</td>\n",
       "      <td>20,000,000.00</td>\n",
       "      <td>65,142,588.00</td>\n",
       "      <td>Фонд кино</td>\n",
       "      <td>5.20</td>\n",
       "      <td>мультфильм,фэнтези,семейный</td>\n",
       "      <td>55,108,014.76</td>\n",
       "    </tr>\n",
       "    <tr>\n",
       "      <th>3739</th>\n",
       "      <td>Мифы</td>\n",
       "      <td>111,004,317.00</td>\n",
       "      <td>2017-06-07 12:00:00+00:00</td>\n",
       "      <td>Художественный</td>\n",
       "      <td>ООО \"ХАЙПФИЛМ\", ООО \"Арт Пикчерс Студия\"</td>\n",
       "      <td>Россия</td>\n",
       "      <td>А.Молочников</td>\n",
       "      <td>Ф.Бондарчук, Д.Рудовский, И.Стюарт, М.Османн, ...</td>\n",
       "      <td>«16+» - для детей старше 16 лет</td>\n",
       "      <td>25,000,000.00</td>\n",
       "      <td>20,000,000.00</td>\n",
       "      <td>73,285,411.00</td>\n",
       "      <td>Фонд кино</td>\n",
       "      <td>4.80</td>\n",
       "      <td>комедия</td>\n",
       "      <td>50,451,949.00</td>\n",
       "    </tr>\n",
       "    <tr>\n",
       "      <th>5673</th>\n",
       "      <td>Селфи</td>\n",
       "      <td>111,012,117.00</td>\n",
       "      <td>2018-02-01 12:00:00+00:00</td>\n",
       "      <td>Художественный</td>\n",
       "      <td>ООО \"Киностудия \"Слово\", ООО \"Арт Пикчерс Студия\"</td>\n",
       "      <td>Россия</td>\n",
       "      <td>Н.Хомерики</td>\n",
       "      <td>П.Ануров, Ф.Бондарчук, Д.Рудовский</td>\n",
       "      <td>«16+» - для детей старше 16 лет</td>\n",
       "      <td>20,000,000.00</td>\n",
       "      <td>40,000,000.00</td>\n",
       "      <td>97,713,881.00</td>\n",
       "      <td>Фонд кино</td>\n",
       "      <td>5.80</td>\n",
       "      <td>триллер,драма</td>\n",
       "      <td>225,196,400.03</td>\n",
       "    </tr>\n",
       "    <tr>\n",
       "      <th>5806</th>\n",
       "      <td>Два хвоста</td>\n",
       "      <td>114,001,018.00</td>\n",
       "      <td>2018-05-31 12:00:00+00:00</td>\n",
       "      <td>Анимационный</td>\n",
       "      <td>ООО \"ЛИЦЕНЗИОННЫЕ БРЕНДЫ\"</td>\n",
       "      <td>Россия</td>\n",
       "      <td>В.Ровенский, Н.Лопато, В.Азеев</td>\n",
       "      <td>ООО \"ЛИЦЕНЗИОННЫЕ БРЕНДЫ\"</td>\n",
       "      <td>«6+» - для детей старше 6 лет</td>\n",
       "      <td>10,000,000.00</td>\n",
       "      <td>60,000,000.00</td>\n",
       "      <td>113,999,528.00</td>\n",
       "      <td>Фонд кино</td>\n",
       "      <td>5.00</td>\n",
       "      <td>мультфильм,детский</td>\n",
       "      <td>106,514,301.03</td>\n",
       "    </tr>\n",
       "    <tr>\n",
       "      <th>6008</th>\n",
       "      <td>Принцесса и дракон</td>\n",
       "      <td>114,003,018.00</td>\n",
       "      <td>2018-08-23 12:00:00+00:00</td>\n",
       "      <td>Анимационный</td>\n",
       "      <td>ООО \"ЛИЦЕНЗИОННЫЕ БРЕНДЫ\"</td>\n",
       "      <td>Россия</td>\n",
       "      <td>М.Нефедова</td>\n",
       "      <td>ООО \"ЛИЦЕНЗИОННЫЕ БРЕНДЫ\"</td>\n",
       "      <td>«6+» - для детей старше 6 лет</td>\n",
       "      <td>40,000,000.00</td>\n",
       "      <td>40,000,000.00</td>\n",
       "      <td>130,285,175.00</td>\n",
       "      <td>Фонд кино</td>\n",
       "      <td>5.20</td>\n",
       "      <td>мультфильм,фэнтези,детский</td>\n",
       "      <td>83,366,328.66</td>\n",
       "    </tr>\n",
       "    <tr>\n",
       "      <th>6323</th>\n",
       "      <td>Баба Яга</td>\n",
       "      <td>114,006,518.00</td>\n",
       "      <td>2018-11-08 12:00:00+00:00</td>\n",
       "      <td>Анимационный</td>\n",
       "      <td>ООО \"Арт Пикчерс Студия\"</td>\n",
       "      <td>Россия</td>\n",
       "      <td>В.Саков</td>\n",
       "      <td>ООО \"Арт Пикчерс Студия\", ООО \"КРИЭЙТИВ АНИМЭЙ...</td>\n",
       "      <td>«6+» - для детей старше 6 лет</td>\n",
       "      <td>0.00</td>\n",
       "      <td>138,969,465.00</td>\n",
       "      <td>226,320,764.00</td>\n",
       "      <td>Фонд кино</td>\n",
       "      <td>0.00</td>\n",
       "      <td>Жанр не указан</td>\n",
       "      <td>1,334,699.40</td>\n",
       "    </tr>\n",
       "    <tr>\n",
       "      <th>6823</th>\n",
       "      <td>Большое путешествие</td>\n",
       "      <td>114,002,419.00</td>\n",
       "      <td>2019-04-20 12:00:00+00:00</td>\n",
       "      <td>Анимационный</td>\n",
       "      <td>ООО \"ЛИЦЕНЗИОННЫЕ БРЕНДЫ\"</td>\n",
       "      <td>Россия</td>\n",
       "      <td>Н.Лопато, В.Ровенский</td>\n",
       "      <td>ООО \"ЛИЦЕНЗИОННЫЕ БРЕНДЫ\"</td>\n",
       "      <td>«6+» - для детей старше 6 лет</td>\n",
       "      <td>60,000,000.00</td>\n",
       "      <td>120,000,000.00</td>\n",
       "      <td>293,141,644.00</td>\n",
       "      <td>Фонд кино</td>\n",
       "      <td>6.20</td>\n",
       "      <td>мультфильм,комедия,приключения</td>\n",
       "      <td>147,606,826.51</td>\n",
       "    </tr>\n",
       "  </tbody>\n",
       "</table>\n",
       "</div>"
      ],
      "text/plain": [
       "                       title       puNumber           show_start_date  \\\n",
       "2053                     14+ 111,023,614.00 2014-12-19 12:00:00+00:00   \n",
       "2058               Дуxless 2 111,000,415.00 2015-01-26 12:00:00+00:00   \n",
       "2472             Воин (2015) 111,017,315.00 2015-09-28 12:00:00+00:00   \n",
       "2532                 Бармен. 111,009,615.00 2015-05-26 12:00:00+00:00   \n",
       "2615     Савва. Сердце воина 114,001,715.00 2015-07-21 12:00:00+00:00   \n",
       "2684          Тряпичный союз 111,010,215.00 2015-06-08 12:00:00+00:00   \n",
       "2788      Срочно выйду замуж 111,017,115.00 2015-09-30 12:00:00+00:00   \n",
       "2874       Помню - не помню! 111,004,916.00 2016-03-01 12:00:00+00:00   \n",
       "3047  Любовь с ограничениями 111,008,216.00 2016-04-29 12:00:00+00:00   \n",
       "3565       Притяжение (2016) 111,018,116.00 2016-12-16 12:00:00+00:00   \n",
       "3675                Чудо-юдо 114,001,817.00 2017-06-27 12:00:00+00:00   \n",
       "3739                    Мифы 111,004,317.00 2017-06-07 12:00:00+00:00   \n",
       "5673                   Селфи 111,012,117.00 2018-02-01 12:00:00+00:00   \n",
       "5806              Два хвоста 114,001,018.00 2018-05-31 12:00:00+00:00   \n",
       "6008      Принцесса и дракон 114,003,018.00 2018-08-23 12:00:00+00:00   \n",
       "6323                Баба Яга 114,006,518.00 2018-11-08 12:00:00+00:00   \n",
       "6823     Большое путешествие 114,002,419.00 2019-04-20 12:00:00+00:00   \n",
       "\n",
       "                type                                        film_studio  \\\n",
       "2053  Художественный                         ООО Киностудия  \"Сентябрь\"   \n",
       "2058  Художественный  ООО \"Киностудия \"Слово\", ООО \"Арт Пикчерс Студия\"   \n",
       "2472  Художественный   ООО \"Форпост Продакшн\", ООО \"Арт Пикчерс Студия\"   \n",
       "2532  Художественный          АО \"ВайТ Медиа\", ООО \"Арт Пикчерс Студия\"   \n",
       "2615    Анимационный   ООО \"Глюкоза Продакшн\", ООО \"Арт Пикчерс Студия\"   \n",
       "2684  Художественный                      ООО \"Кинокомпания \"КОКТЕБЕЛЬ\"   \n",
       "2788  Художественный          АО \"ВайТ Медиа\", ООО \"Арт Пикчерс Студия\"   \n",
       "2874  Художественный                                    ООО \"КиноФирма\"   \n",
       "3047  Художественный          АО \"ВайТ Медиа\", ООО \"Арт Пикчерс Студия\"   \n",
       "3565  Художественный      ООО \"Водород 2011\",  ООО \"Арт Пикчерс Студия\"   \n",
       "3675    Анимационный                                    ООО \"КиноФирма\"   \n",
       "3739  Художественный           ООО \"ХАЙПФИЛМ\", ООО \"Арт Пикчерс Студия\"   \n",
       "5673  Художественный  ООО \"Киностудия \"Слово\", ООО \"Арт Пикчерс Студия\"   \n",
       "5806    Анимационный                          ООО \"ЛИЦЕНЗИОННЫЕ БРЕНДЫ\"   \n",
       "6008    Анимационный                          ООО \"ЛИЦЕНЗИОННЫЕ БРЕНДЫ\"   \n",
       "6323    Анимационный                           ООО \"Арт Пикчерс Студия\"   \n",
       "6823    Анимационный                          ООО \"ЛИЦЕНЗИОННЫЕ БРЕНДЫ\"   \n",
       "\n",
       "     production_country                        director  \\\n",
       "2053             Россия                        А.Зайцев   \n",
       "2058             Россия                      Р.Прыгунов   \n",
       "2472             Россия                     А.Андрианов   \n",
       "2532             Россия                    Д.Штурманова   \n",
       "2615             Россия                        М.Фадеев   \n",
       "2684             Россия                     М.Местецкий   \n",
       "2788             Россия                       С Чекалов   \n",
       "2874             Россия                     В.Ровенский   \n",
       "3047             Россия                         Д.Тюрин   \n",
       "3565             Россия                     Ф.Бондарчук   \n",
       "3675             Россия                       А.Лукичев   \n",
       "3739             Россия                    А.Молочников   \n",
       "5673             Россия                      Н.Хомерики   \n",
       "5806             Россия  В.Ровенский, Н.Лопато, В.Азеев   \n",
       "6008             Россия                      М.Нефедова   \n",
       "6323             Россия                         В.Саков   \n",
       "6823             Россия           Н.Лопато, В.Ровенский   \n",
       "\n",
       "                                               producer  \\\n",
       "2053                                О.Гранина, А.Зайцев   \n",
       "2058                 П.Ануров, Ф.Бондарчук, Д.Рудовский   \n",
       "2472                           ООО \"Арт Пикчерс Студия\"   \n",
       "2532                                        Т.Вайнштейн   \n",
       "2615                                         А.Чистяков   \n",
       "2684                              Р.Борисевич, А.Кушаев   \n",
       "2788              Ф.Бондарчук, Т.Вайнштейн, Д.Рудовский   \n",
       "2874                                    ООО \"КиноФирма\"   \n",
       "3047              Ф.Бондарчук, Т.Вайнштейн, Д.Рудовский   \n",
       "3565                           ООО \"Арт Пикчерс Студия\"   \n",
       "3675                                    ООО \"КиноФирма\"   \n",
       "3739  Ф.Бондарчук, Д.Рудовский, И.Стюарт, М.Османн, ...   \n",
       "5673                 П.Ануров, Ф.Бондарчук, Д.Рудовский   \n",
       "5806                          ООО \"ЛИЦЕНЗИОННЫЕ БРЕНДЫ\"   \n",
       "6008                          ООО \"ЛИЦЕНЗИОННЫЕ БРЕНДЫ\"   \n",
       "6323  ООО \"Арт Пикчерс Студия\", ООО \"КРИЭЙТИВ АНИМЭЙ...   \n",
       "6823                          ООО \"ЛИЦЕНЗИОННЫЕ БРЕНДЫ\"   \n",
       "\n",
       "                      age_restriction  refundable_support  \\\n",
       "2053  «16+» - для детей старше 16 лет                0.00   \n",
       "2058  «16+» - для детей старше 16 лет                0.00   \n",
       "2472  «12+» - для детей старше 12 лет       10,000,000.00   \n",
       "2532  «16+» - для детей старше 16 лет       20,000,000.00   \n",
       "2615    «6+» - для детей старше 6 лет       60,000,000.00   \n",
       "2684      «18+» - запрещено для детей                0.00   \n",
       "2788  «16+» - для детей старше 16 лет                0.00   \n",
       "2874  «12+» - для детей старше 12 лет                0.00   \n",
       "3047  «16+» - для детей старше 16 лет       19,000,000.00   \n",
       "3565  «12+» - для детей старше 12 лет                0.00   \n",
       "3675    «6+» - для детей старше 6 лет       20,000,000.00   \n",
       "3739  «16+» - для детей старше 16 лет       25,000,000.00   \n",
       "5673  «16+» - для детей старше 16 лет       20,000,000.00   \n",
       "5806    «6+» - для детей старше 6 лет       10,000,000.00   \n",
       "6008    «6+» - для детей старше 6 лет       40,000,000.00   \n",
       "6323    «6+» - для детей старше 6 лет                0.00   \n",
       "6823    «6+» - для детей старше 6 лет       60,000,000.00   \n",
       "\n",
       "      nonrefundable_support         budget                  financing_source  \\\n",
       "2053          23,000,000.00  37,456,988.00  Министерство культуры, Фонд кино   \n",
       "2058          75,000,000.00 122,142,352.00                         Фонд кино   \n",
       "2472          70,000,000.00 130,285,175.00                         Фонд кино   \n",
       "2532                   0.00  32,571,294.00                         Фонд кино   \n",
       "2615         100,000,000.00 260,570,350.00                         Фонд кино   \n",
       "2684          59,000,000.00  96,085,317.00                         Фонд кино   \n",
       "2788          35,000,000.00  56,999,764.00                         Фонд кино   \n",
       "2874           6,000,000.00   9,771,388.00             Министерство культуры   \n",
       "3047          51,000,000.00 113,999,528.00                         Фонд кино   \n",
       "3565         250,000,000.00 407,141,173.00                         Фонд кино   \n",
       "3675          20,000,000.00  65,142,588.00                         Фонд кино   \n",
       "3739          20,000,000.00  73,285,411.00                         Фонд кино   \n",
       "5673          40,000,000.00  97,713,881.00                         Фонд кино   \n",
       "5806          60,000,000.00 113,999,528.00                         Фонд кино   \n",
       "6008          40,000,000.00 130,285,175.00                         Фонд кино   \n",
       "6323         138,969,465.00 226,320,764.00                         Фонд кино   \n",
       "6823         120,000,000.00 293,141,644.00                         Фонд кино   \n",
       "\n",
       "      ratings                          genres       box_office  \n",
       "2053     6.60                       мелодрама    10,234,016.10  \n",
       "2058     6.60                           драма   446,163,511.00  \n",
       "2472     7.80           боевик,драма,криминал   196,572,438.40  \n",
       "2532     6.20                 комедия,фэнтези    67,418,974.80  \n",
       "2615     4.60  мультфильм,приключения,фэнтези   184,487,551.40  \n",
       "2684     6.30                   комедия,драма     1,957,738.51  \n",
       "2788     5.10               комедия,мелодрама    72,937,783.20  \n",
       "2874     4.30                         комедия    15,362,931.43  \n",
       "3047     6.30               комедия,мелодрама    70,299,052.00  \n",
       "3565     5.60                      фантастика 1,038,321,489.00  \n",
       "3675     5.20     мультфильм,фэнтези,семейный    55,108,014.76  \n",
       "3739     4.80                         комедия    50,451,949.00  \n",
       "5673     5.80                   триллер,драма   225,196,400.03  \n",
       "5806     5.00              мультфильм,детский   106,514,301.03  \n",
       "6008     5.20      мультфильм,фэнтези,детский    83,366,328.66  \n",
       "6323     0.00                  Жанр не указан     1,334,699.40  \n",
       "6823     6.20  мультфильм,комедия,приключения   147,606,826.51  "
      ]
     },
     "execution_count": 52,
     "metadata": {},
     "output_type": "execute_result"
    }
   ],
   "source": [
    "data_movies.loc[support_movies.index, 'budget'] = round((data_movies.loc[support_movies.index, 'refundable_support'] + data_movies.loc[support_movies.index, 'nonrefundable_support']) / budget_pct)\n",
    "data_movies.loc[support_movies.index]"
   ]
  },
  {
   "cell_type": "markdown",
   "metadata": {},
   "source": [
    "**Вывод:** В ходе изучения количественных значений нашли следующие особенности. \n",
    "\n",
    "Проверяя количественные столбцы на аномалии выявили, что в столбце со сборами есть слишком маленькие нереальные значения, которые могут быть ошибкой в заполнении данных. В столбцах с возвратными, невозвратными средствами, бюджетом и рейтингом все данные могут быть вполне реальными, просто иметь большой разброс.\n",
    "\n",
    "Имеются 2 фильма с государственной поддержкой, но не имеющих сборов. Это могут быть фильмы, которые только вышли в прокат, либо данные об этих фильмах еще не обновлены. Так же нашли некоторое количество фильмов, у которых есть господдержка, но при этом бюджет у них 0. Эти данные мы заполнили, рассчитав медианный процент."
   ]
  },
  {
   "cell_type": "markdown",
   "metadata": {
    "id": "Eu6oWp2CgFyS"
   },
   "source": [
    "#### Шаг 2.6. Добавьте новые столбцы\n",
    "\n",
    "\n",
    "\n"
   ]
  },
  {
   "cell_type": "markdown",
   "metadata": {
    "id": "7GgW-UpAgFyS"
   },
   "source": [
    "- Создайте столбец с информацией о годе проката. Выделите год из даты премьеры фильма."
   ]
  },
  {
   "cell_type": "code",
   "execution_count": 53,
   "metadata": {
    "id": "I-yd1DkWgFyT"
   },
   "outputs": [],
   "source": [
    "#создадим столбец с годом проката\n",
    "data_movies['show_start_year'] = data_movies['show_start_date'].dt.year"
   ]
  },
  {
   "cell_type": "markdown",
   "metadata": {
    "id": "nFTDLDYOgFyT"
   },
   "source": [
    "- Создайте два столбца: с именем и фамилией главного режиссёра и основным жанром фильма. В столбцы войдут первые значения из списка режиссёров и жанров соответственно.\n",
    "\n",
    "<div id=\"accordion\">\n",
    "    <div class=\"card\">\n",
    "        <div class=\"card-header\" id=\"headingThree\">\n",
    "            <button class=\"btn btn-link collapsed\" data-toggle=\"collapse\" data-target=\"#collapseHint_2\" aria-expanded=\"false\" aria-controls=\"collapseHint_2\">Подсказка</button>\n",
    "        </div>\n",
    "        <div id=\"collapseHint_2\" class=\"collapse\" aria-labelledby=\"headingThree\" data-parent=\"#accordion\">\n",
    "            <div class=\"card-body\">\n",
    "Чтобы создать такие столбцы, лучше всего использовать собственную функцию. Эту функцию можно применить к двум столбцам сразу. \n",
    "            </div>\n",
    "        </div>\n",
    "    </div>\n",
    "</div>"
   ]
  },
  {
   "cell_type": "markdown",
   "metadata": {},
   "source": [
    "Для того чтобы создать столбцы с именем главного режиссера и основным жанром, примем, что главный режиссер и основной жанр указаны первыми. Приступим к добавлению столбцов."
   ]
  },
  {
   "cell_type": "code",
   "execution_count": 54,
   "metadata": {},
   "outputs": [],
   "source": [
    "#создадим столбец с именем и фамилией главного режиссера\n",
    "data_movies['main_director'] = data_movies['director'].apply(lambda x: x.split(',')[0])"
   ]
  },
  {
   "cell_type": "code",
   "execution_count": 55,
   "metadata": {},
   "outputs": [],
   "source": [
    "#создадим столбец с основным жанром\n",
    "data_movies['main_genre'] = data_movies['genres'].apply(lambda x: x.split(',')[0])"
   ]
  },
  {
   "cell_type": "markdown",
   "metadata": {
    "id": "1FsCXHwdgFyU"
   },
   "source": [
    "- Посчитайте, какую долю от общего бюджета фильма составляет государственная поддержка."
   ]
  },
  {
   "cell_type": "markdown",
   "metadata": {
    "id": "LV6qFuZLgFyV"
   },
   "source": [
    "Добавим столбец с долей господдержки индивидуально для каждого фильма."
   ]
  },
  {
   "cell_type": "code",
   "execution_count": 56,
   "metadata": {},
   "outputs": [],
   "source": [
    "#создадим столбец с долей господдержки\n",
    "data_movies['gov_support_share'] = data_movies.eval('(refundable_support + nonrefundable_support) / budget').round(2)\n",
    "data_movies['gov_support_share'].replace([np.nan], 0, inplace=True)"
   ]
  },
  {
   "cell_type": "markdown",
   "metadata": {},
   "source": [
    "Проверим наличие новых столбцов."
   ]
  },
  {
   "cell_type": "code",
   "execution_count": 57,
   "metadata": {},
   "outputs": [
    {
     "data": {
      "text/html": [
       "<div>\n",
       "<style scoped>\n",
       "    .dataframe tbody tr th:only-of-type {\n",
       "        vertical-align: middle;\n",
       "    }\n",
       "\n",
       "    .dataframe tbody tr th {\n",
       "        vertical-align: top;\n",
       "    }\n",
       "\n",
       "    .dataframe thead th {\n",
       "        text-align: right;\n",
       "    }\n",
       "</style>\n",
       "<table border=\"1\" class=\"dataframe\">\n",
       "  <thead>\n",
       "    <tr style=\"text-align: right;\">\n",
       "      <th></th>\n",
       "      <th>title</th>\n",
       "      <th>puNumber</th>\n",
       "      <th>show_start_date</th>\n",
       "      <th>type</th>\n",
       "      <th>film_studio</th>\n",
       "      <th>production_country</th>\n",
       "      <th>director</th>\n",
       "      <th>producer</th>\n",
       "      <th>age_restriction</th>\n",
       "      <th>refundable_support</th>\n",
       "      <th>nonrefundable_support</th>\n",
       "      <th>budget</th>\n",
       "      <th>financing_source</th>\n",
       "      <th>ratings</th>\n",
       "      <th>genres</th>\n",
       "      <th>box_office</th>\n",
       "      <th>show_start_year</th>\n",
       "      <th>main_director</th>\n",
       "      <th>main_genre</th>\n",
       "      <th>gov_support_share</th>\n",
       "    </tr>\n",
       "  </thead>\n",
       "  <tbody>\n",
       "    <tr>\n",
       "      <th>0</th>\n",
       "      <td>Открытый простор</td>\n",
       "      <td>221,048,915.00</td>\n",
       "      <td>2015-11-27 12:00:00+00:00</td>\n",
       "      <td>Художественный</td>\n",
       "      <td>Тачстоун Пикчерз, Кобальт Пикчерз, Бикон Пикче...</td>\n",
       "      <td>США</td>\n",
       "      <td>Кевин Костнер</td>\n",
       "      <td>Дэвид Валдес, Кевин Костнер, Джейк Эбертс</td>\n",
       "      <td>«18+» - запрещено для детей</td>\n",
       "      <td>0.00</td>\n",
       "      <td>0.00</td>\n",
       "      <td>0.00</td>\n",
       "      <td>Иное</td>\n",
       "      <td>7.20</td>\n",
       "      <td>боевик,драма,мелодрама</td>\n",
       "      <td>0.00</td>\n",
       "      <td>2015</td>\n",
       "      <td>Кевин Костнер</td>\n",
       "      <td>боевик</td>\n",
       "      <td>0.00</td>\n",
       "    </tr>\n",
       "    <tr>\n",
       "      <th>1</th>\n",
       "      <td>Особо важное задание</td>\n",
       "      <td>111,013,716.00</td>\n",
       "      <td>2016-09-13 12:00:00+00:00</td>\n",
       "      <td>Художественный</td>\n",
       "      <td>Киностудия \"Мосфильм\"</td>\n",
       "      <td>СССР</td>\n",
       "      <td>Е.Матвеев</td>\n",
       "      <td>Продюсер не указан</td>\n",
       "      <td>«6+» - для детей старше 6 лет</td>\n",
       "      <td>0.00</td>\n",
       "      <td>0.00</td>\n",
       "      <td>0.00</td>\n",
       "      <td>Иное</td>\n",
       "      <td>6.60</td>\n",
       "      <td>драма,военный</td>\n",
       "      <td>0.00</td>\n",
       "      <td>2016</td>\n",
       "      <td>Е.Матвеев</td>\n",
       "      <td>драма</td>\n",
       "      <td>0.00</td>\n",
       "    </tr>\n",
       "    <tr>\n",
       "      <th>2</th>\n",
       "      <td>Особо опасен</td>\n",
       "      <td>221,038,416.00</td>\n",
       "      <td>2016-10-10 12:00:00+00:00</td>\n",
       "      <td>Художественный</td>\n",
       "      <td>Юниверсал Пикчерз, Кикстарт Продакшнз, Марк Пл...</td>\n",
       "      <td>США</td>\n",
       "      <td>Тимур Бекмамбетов</td>\n",
       "      <td>Джим Лемли, Джейсон Нетер, Марк Е.Платт, Яйн Смит</td>\n",
       "      <td>«18+» - запрещено для детей</td>\n",
       "      <td>0.00</td>\n",
       "      <td>0.00</td>\n",
       "      <td>0.00</td>\n",
       "      <td>Иное</td>\n",
       "      <td>6.80</td>\n",
       "      <td>фантастика,боевик,триллер</td>\n",
       "      <td>0.00</td>\n",
       "      <td>2016</td>\n",
       "      <td>Тимур Бекмамбетов</td>\n",
       "      <td>фантастика</td>\n",
       "      <td>0.00</td>\n",
       "    </tr>\n",
       "    <tr>\n",
       "      <th>3</th>\n",
       "      <td>Особо опасен</td>\n",
       "      <td>221,026,916.00</td>\n",
       "      <td>2016-06-10 12:00:00+00:00</td>\n",
       "      <td>Художественный</td>\n",
       "      <td>Юниверсал Пикчерз, Кикстарт Продакшнз, Марк Пл...</td>\n",
       "      <td>США</td>\n",
       "      <td>Тимур Бекмамбетов</td>\n",
       "      <td>Джим Лемли, Джейсон Нетер, Марк Е.Платт, Яйн Смит</td>\n",
       "      <td>«18+» - запрещено для детей</td>\n",
       "      <td>0.00</td>\n",
       "      <td>0.00</td>\n",
       "      <td>0.00</td>\n",
       "      <td>Иное</td>\n",
       "      <td>6.80</td>\n",
       "      <td>фантастика,боевик,триллер</td>\n",
       "      <td>0.00</td>\n",
       "      <td>2016</td>\n",
       "      <td>Тимур Бекмамбетов</td>\n",
       "      <td>фантастика</td>\n",
       "      <td>0.00</td>\n",
       "    </tr>\n",
       "    <tr>\n",
       "      <th>4</th>\n",
       "      <td>Особо опасен</td>\n",
       "      <td>221,030,815.00</td>\n",
       "      <td>2015-07-29 12:00:00+00:00</td>\n",
       "      <td>Художественный</td>\n",
       "      <td>Юниверсал Пикчерз, Кикстарт Продакшнз, Марк Пл...</td>\n",
       "      <td>США</td>\n",
       "      <td>Тимур Бекмамбетов</td>\n",
       "      <td>Джим Лемли, Джейсон Нетер, Марк Е.Платт, Яйн Смит</td>\n",
       "      <td>«18+» - запрещено для детей</td>\n",
       "      <td>0.00</td>\n",
       "      <td>0.00</td>\n",
       "      <td>0.00</td>\n",
       "      <td>Иное</td>\n",
       "      <td>6.80</td>\n",
       "      <td>фантастика,боевик,триллер</td>\n",
       "      <td>0.00</td>\n",
       "      <td>2015</td>\n",
       "      <td>Тимур Бекмамбетов</td>\n",
       "      <td>фантастика</td>\n",
       "      <td>0.00</td>\n",
       "    </tr>\n",
       "  </tbody>\n",
       "</table>\n",
       "</div>"
      ],
      "text/plain": [
       "                  title       puNumber           show_start_date  \\\n",
       "0      Открытый простор 221,048,915.00 2015-11-27 12:00:00+00:00   \n",
       "1  Особо важное задание 111,013,716.00 2016-09-13 12:00:00+00:00   \n",
       "2          Особо опасен 221,038,416.00 2016-10-10 12:00:00+00:00   \n",
       "3          Особо опасен 221,026,916.00 2016-06-10 12:00:00+00:00   \n",
       "4          Особо опасен 221,030,815.00 2015-07-29 12:00:00+00:00   \n",
       "\n",
       "             type                                        film_studio  \\\n",
       "0  Художественный  Тачстоун Пикчерз, Кобальт Пикчерз, Бикон Пикче...   \n",
       "1  Художественный                              Киностудия \"Мосфильм\"   \n",
       "2  Художественный  Юниверсал Пикчерз, Кикстарт Продакшнз, Марк Пл...   \n",
       "3  Художественный  Юниверсал Пикчерз, Кикстарт Продакшнз, Марк Пл...   \n",
       "4  Художественный  Юниверсал Пикчерз, Кикстарт Продакшнз, Марк Пл...   \n",
       "\n",
       "  production_country           director  \\\n",
       "0                США      Кевин Костнер   \n",
       "1               СССР          Е.Матвеев   \n",
       "2                США  Тимур Бекмамбетов   \n",
       "3                США  Тимур Бекмамбетов   \n",
       "4                США  Тимур Бекмамбетов   \n",
       "\n",
       "                                            producer  \\\n",
       "0          Дэвид Валдес, Кевин Костнер, Джейк Эбертс   \n",
       "1                                 Продюсер не указан   \n",
       "2  Джим Лемли, Джейсон Нетер, Марк Е.Платт, Яйн Смит   \n",
       "3  Джим Лемли, Джейсон Нетер, Марк Е.Платт, Яйн Смит   \n",
       "4  Джим Лемли, Джейсон Нетер, Марк Е.Платт, Яйн Смит   \n",
       "\n",
       "                 age_restriction  refundable_support  nonrefundable_support  \\\n",
       "0    «18+» - запрещено для детей                0.00                   0.00   \n",
       "1  «6+» - для детей старше 6 лет                0.00                   0.00   \n",
       "2    «18+» - запрещено для детей                0.00                   0.00   \n",
       "3    «18+» - запрещено для детей                0.00                   0.00   \n",
       "4    «18+» - запрещено для детей                0.00                   0.00   \n",
       "\n",
       "   budget financing_source  ratings                     genres  box_office  \\\n",
       "0    0.00             Иное     7.20     боевик,драма,мелодрама        0.00   \n",
       "1    0.00             Иное     6.60              драма,военный        0.00   \n",
       "2    0.00             Иное     6.80  фантастика,боевик,триллер        0.00   \n",
       "3    0.00             Иное     6.80  фантастика,боевик,триллер        0.00   \n",
       "4    0.00             Иное     6.80  фантастика,боевик,триллер        0.00   \n",
       "\n",
       "   show_start_year      main_director  main_genre  gov_support_share  \n",
       "0             2015      Кевин Костнер      боевик               0.00  \n",
       "1             2016          Е.Матвеев       драма               0.00  \n",
       "2             2016  Тимур Бекмамбетов  фантастика               0.00  \n",
       "3             2016  Тимур Бекмамбетов  фантастика               0.00  \n",
       "4             2015  Тимур Бекмамбетов  фантастика               0.00  "
      ]
     },
     "execution_count": 57,
     "metadata": {},
     "output_type": "execute_result"
    }
   ],
   "source": [
    "data_movies.head()"
   ]
  },
  {
   "cell_type": "markdown",
   "metadata": {},
   "source": [
    "**Вывод:** Были добавлены новые столбцы. \n",
    "\n",
    "*show_start_year* - столбец с годом выхода фильма. \n",
    "\n",
    "*main_director* - столбец с именем и фамилией главного режиссера. Для создания этого столбца выделили первое имя в столбце director, предположив, что именно первое имя является главным. \n",
    "\n",
    "*main_genre* - столбец с названием главного жанра. Создавали столбец по тому же принципу, что и предыдущий.\n",
    "\n",
    "*gov_support_share* - столбец с долей господдержки. Расчет доли произвели, сложив объем возвратных и невозвратных средств и, поделив сумму на общий бюджет. У тех фильмов, где доля равна 0% - господдержки не было."
   ]
  },
  {
   "cell_type": "markdown",
   "metadata": {},
   "source": [
    "**Вывод по разделу:** В ходе предобработки мы привели столбцы к необходимым типам данных, сделали замену пропусков, где это возможно.\n",
    "\n",
    "При поиске дубликатов, мы обнаружили 8 фильмов с одинаковыми названиями, но с разными прокатными удостоверениями. Удалять такие дубликаты мы не стали, т.к. фильмы могут получать несколько прокатных удостоверений для разного использования. Далее мы обнаружили 2 пары фильмов с одинаковыми номерами прокатных удостоверений, но разными названиями. Для обработки таких дублей сделали допущение и заменили дублированные номера прокатных удостоверений на свободные. Номера прокатных удостоверений могли продублироваться в связи с тем, что фильм перезапускали, как в случае с фильмом \"Как жениться и остаться холостым.\", либо по ошибке, как в случае с фильмом \"Анализируй это!\". Данную информацию следует еще подробней уточнить у сотрудников.\n",
    "\n",
    "Общей проблемой во всех столбцах с категоральными значениям было большое количество пропусков. В столбце type были найдены пробелы, которые мы впоследствии убрали, тем самым убрав неявные дубли значений. В столбце genres обратили внимание на большое количество ячеек с вариацией из нескольких жанров.\n",
    "\n",
    "Проверяя количественные столбцы на аномалии, выявили, что в столбце со сборами есть слишком маленькие нереальные значения, которые могут быть ошибкой в заполнении данных. В столбцах с возвратными, невозвратными средствами, бюджетом и рейтингом все данные могут быть вполне реальными, просто иметь большой разброс.\n",
    "Имеются 2 фильма с государственной поддержкой, но не имеющих сборов. Это могут быть фильмы, которые только вышли в прокат, либо данные об этих фильмах еще не обновлены. Так же нашли некоторое количество фильмов, у которых есть господдержка, но при этом бюджет у них 0. Эти данные мы заполнили, рассчитав медианный процент.\n",
    "\n",
    "Были добавлены новые столбцы: столбец с годом выхода фильма, с именем и фамилией главного директора, названием главного жанра и долей господдержки."
   ]
  },
  {
   "cell_type": "markdown",
   "metadata": {
    "id": "6t4EukPLgFyV"
   },
   "source": [
    "### Шаг 3. Проведите исследовательский анализ данных\n"
   ]
  },
  {
   "cell_type": "markdown",
   "metadata": {
    "id": "vAH8WCzugFyV"
   },
   "source": [
    "- Посмотрите, сколько фильмов выходило в прокат каждый год. Обратите внимание, что данные о прокате в кинотеатрах известны не для всех фильмов. Посчитайте, какую долю составляют фильмы с указанной информацией о прокате в кинотеатрах. Проанализируйте, как эта доля менялась по годам. Сделайте вывод о том, какой период полнее всего представлен в данных."
   ]
  },
  {
   "cell_type": "markdown",
   "metadata": {},
   "source": [
    "Создадим таблицу, где будет указано количество фильмов за каждый год, количество фильмов, которые вышли в прокат и долю фильмов, вышедших в прокат за каждый год."
   ]
  },
  {
   "cell_type": "code",
   "execution_count": 58,
   "metadata": {
    "id": "ABeV47y7gFyW"
   },
   "outputs": [
    {
     "data": {
      "text/html": [
       "<div>\n",
       "<style scoped>\n",
       "    .dataframe tbody tr th:only-of-type {\n",
       "        vertical-align: middle;\n",
       "    }\n",
       "\n",
       "    .dataframe tbody tr th {\n",
       "        vertical-align: top;\n",
       "    }\n",
       "\n",
       "    .dataframe thead th {\n",
       "        text-align: right;\n",
       "    }\n",
       "</style>\n",
       "<table border=\"1\" class=\"dataframe\">\n",
       "  <thead>\n",
       "    <tr style=\"text-align: right;\">\n",
       "      <th></th>\n",
       "      <th>Год</th>\n",
       "      <th>Фильмов за год</th>\n",
       "      <th>Вышло в прокат</th>\n",
       "      <th>Процент проката</th>\n",
       "    </tr>\n",
       "  </thead>\n",
       "  <tbody>\n",
       "    <tr>\n",
       "      <th>0</th>\n",
       "      <td>2010</td>\n",
       "      <td>985</td>\n",
       "      <td>101</td>\n",
       "      <td>10.25</td>\n",
       "    </tr>\n",
       "    <tr>\n",
       "      <th>1</th>\n",
       "      <td>2011</td>\n",
       "      <td>622</td>\n",
       "      <td>109</td>\n",
       "      <td>17.52</td>\n",
       "    </tr>\n",
       "    <tr>\n",
       "      <th>2</th>\n",
       "      <td>2012</td>\n",
       "      <td>593</td>\n",
       "      <td>123</td>\n",
       "      <td>20.74</td>\n",
       "    </tr>\n",
       "    <tr>\n",
       "      <th>3</th>\n",
       "      <td>2013</td>\n",
       "      <td>630</td>\n",
       "      <td>179</td>\n",
       "      <td>28.41</td>\n",
       "    </tr>\n",
       "    <tr>\n",
       "      <th>4</th>\n",
       "      <td>2014</td>\n",
       "      <td>806</td>\n",
       "      <td>273</td>\n",
       "      <td>33.87</td>\n",
       "    </tr>\n",
       "    <tr>\n",
       "      <th>5</th>\n",
       "      <td>2015</td>\n",
       "      <td>705</td>\n",
       "      <td>462</td>\n",
       "      <td>65.53</td>\n",
       "    </tr>\n",
       "    <tr>\n",
       "      <th>6</th>\n",
       "      <td>2016</td>\n",
       "      <td>818</td>\n",
       "      <td>525</td>\n",
       "      <td>64.18</td>\n",
       "    </tr>\n",
       "    <tr>\n",
       "      <th>7</th>\n",
       "      <td>2017</td>\n",
       "      <td>505</td>\n",
       "      <td>357</td>\n",
       "      <td>70.69</td>\n",
       "    </tr>\n",
       "    <tr>\n",
       "      <th>8</th>\n",
       "      <td>2018</td>\n",
       "      <td>891</td>\n",
       "      <td>475</td>\n",
       "      <td>53.31</td>\n",
       "    </tr>\n",
       "    <tr>\n",
       "      <th>9</th>\n",
       "      <td>2019</td>\n",
       "      <td>930</td>\n",
       "      <td>530</td>\n",
       "      <td>56.99</td>\n",
       "    </tr>\n",
       "  </tbody>\n",
       "</table>\n",
       "</div>"
      ],
      "text/plain": [
       "    Год  Фильмов за год  Вышло в прокат  Процент проката\n",
       "0  2010             985             101            10.25\n",
       "1  2011             622             109            17.52\n",
       "2  2012             593             123            20.74\n",
       "3  2013             630             179            28.41\n",
       "4  2014             806             273            33.87\n",
       "5  2015             705             462            65.53\n",
       "6  2016             818             525            64.18\n",
       "7  2017             505             357            70.69\n",
       "8  2018             891             475            53.31\n",
       "9  2019             930             530            56.99"
      ]
     },
     "execution_count": 58,
     "metadata": {},
     "output_type": "execute_result"
    }
   ],
   "source": [
    "#создадим сводную таблицу с количеством фильмов за каждый год\n",
    "all_movies = (\n",
    "    data_movies.pivot_table(index='show_start_year', values='box_office', aggfunc='count')\n",
    "    .reset_index()\n",
    ")\n",
    "#создадим сводную таблицу с количеством фильмов, вышедших в прокат, за каждый год\n",
    "box_office_movies = (\n",
    "    data_movies.query('box_office > 0')\n",
    "    .pivot_table(index='show_start_year', values='box_office', aggfunc='count')\n",
    "    .reset_index()\n",
    ")\n",
    "#объединим созданные таблицы\n",
    "data_movies_pivot = all_movies.merge(box_office_movies, on='show_start_year', how='outer')\n",
    "#поменяем названия столбцов\n",
    "data_movies_pivot.columns = ['Год', 'Фильмов за год', 'Вышло в прокат']\n",
    "#создадим новый столбец с долей проката\n",
    "data_movies_pivot['Процент проката'] = round((data_movies_pivot['Вышло в прокат'] / data_movies_pivot['Фильмов за год']) * 100, 2)\n",
    "data_movies_pivot"
   ]
  },
  {
   "cell_type": "markdown",
   "metadata": {},
   "source": [
    "Посмотрим сколько фильмов выходило в прокат каждый год."
   ]
  },
  {
   "cell_type": "code",
   "execution_count": 59,
   "metadata": {},
   "outputs": [
    {
     "data": {
      "image/png": "[encoded data removed]",
      "text/plain": [
       "<Figure size 504x360 with 1 Axes>"
      ]
     },
     "metadata": {
      "needs_background": "light"
     },
     "output_type": "display_data"
    }
   ],
   "source": [
    "#построим столбчатую диаграмму с количеством прокатных фильмов за каждый год\n",
    "data_movies_pivot.plot(y='Вышло в прокат', x='Год', kind='bar', grid=True, figsize=(7,5))\n",
    "plt.ylabel('Количество фильмов')\n",
    "plt.xlabel('Год')\n",
    "plt.title('Количество снятых фильмов по годам')\n",
    "plt.show()"
   ]
  },
  {
   "cell_type": "markdown",
   "metadata": {},
   "source": [
    "**Вывод:** На диаграмме видим, что с 2010 по 2016 годы количество вышедших в прокат фильмов увеличивалось. В 2017 году произошел резкий спад. В 2019 году количество фильмов, вышедших в прокат, вернулось на прежний уровень 2016 года. Возможно, что резкий спад выхода фильмов в прокат был связан с новой реформой Министерства Культуры, которая предусматривает увеличение платы за выход фильмов в прокат и создание комиссии, которая решает, какие фильмы от этого взноса освободить."
   ]
  },
  {
   "cell_type": "markdown",
   "metadata": {},
   "source": [
    "Посмотрим как менялась доля фильмов с информацией о прокате по годам."
   ]
  },
  {
   "cell_type": "code",
   "execution_count": 60,
   "metadata": {},
   "outputs": [
    {
     "data": {
      "image/png": "[encoded data removed]",
      "text/plain": [
       "<Figure size 504x360 with 1 Axes>"
      ]
     },
     "metadata": {
      "needs_background": "light"
     },
     "output_type": "display_data"
    }
   ],
   "source": [
    "#построим столбчатую диаграмму с долей прокатных фильмов за каждый год\n",
    "data_movies_pivot.plot(y='Процент проката', x='Год', kind='bar', grid=True, figsize=(7,5))\n",
    "plt.ylabel('Доля фильмов, вышедших в прокат')\n",
    "plt.xlabel('Год')\n",
    "plt.title('Доля фильмов, вышедших в прокат, по годам')\n",
    "plt.show()"
   ]
  },
  {
   "cell_type": "markdown",
   "metadata": {},
   "source": [
    "**Вывод:** Доля фильмов с информацией о выходе в прокат плавно увеличивалась с 2010 по 2014 годы, достигла своих пиков в 2015-2017 годах и немного снизилась с 2018 года. Можем предположить, что пики в 2015-2017 годах связаны с более качественными по содержанию кинопремьерами, которые допущены к прокату. Также это может быть связано с так называемым прорывом в российском кинематографе, что следует из многих статей. Спад в 2018-2019 годах может быть опять же связан с реформой 2017 года, описанной нами выше.\n",
    "\n",
    "Полнее всего в данных представлен период с 2015 по 2019 года."
   ]
  },
  {
   "cell_type": "markdown",
   "metadata": {
    "id": "BEOdcIrIgFyW"
   },
   "source": [
    "- Изучите, как менялась динамика проката по годам. В каком году сумма сборов была минимальной? А максимальной?"
   ]
  },
  {
   "cell_type": "markdown",
   "metadata": {},
   "source": [
    "Посмотрим динамику проката по годам, построив график по суммам сборов. Далее посмотрим в каком году сумма сборов была минимальной, а в каком - максимальной."
   ]
  },
  {
   "cell_type": "code",
   "execution_count": 61,
   "metadata": {
    "id": "tfEhofYvgFyX"
   },
   "outputs": [
    {
     "data": {
      "image/png": "[encoded data removed]",
      "text/plain": [
       "<Figure size 504x360 with 1 Axes>"
      ]
     },
     "metadata": {
      "needs_background": "light"
     },
     "output_type": "display_data"
    }
   ],
   "source": [
    "#строим график по суммам сборов\n",
    "(\n",
    "    data_movies.query('box_office != 0')\n",
    "               .pivot_table(index='show_start_year', values='box_office', aggfunc='sum')\n",
    "               .plot(style='-0', grid=True, figsize=(7,5))\n",
    ")\n",
    "plt.ylabel('Сумма сборов')\n",
    "plt.xlabel('Год')\n",
    "plt.title('Изменение суммы сборов по годам')\n",
    "plt.show()"
   ]
  },
  {
   "cell_type": "code",
   "execution_count": 62,
   "metadata": {},
   "outputs": [
    {
     "data": {
      "text/plain": [
       "box_office    2010\n",
       "dtype: int64"
      ]
     },
     "execution_count": 62,
     "metadata": {},
     "output_type": "execute_result"
    }
   ],
   "source": [
    "#найдем год с минимальной суммой сборов\n",
    "data_movies.query('box_office != 0').pivot_table(index='show_start_year', values='box_office', aggfunc='sum').idxmin()"
   ]
  },
  {
   "cell_type": "code",
   "execution_count": 63,
   "metadata": {},
   "outputs": [
    {
     "data": {
      "text/plain": [
       "box_office    2018\n",
       "dtype: int64"
      ]
     },
     "execution_count": 63,
     "metadata": {},
     "output_type": "execute_result"
    }
   ],
   "source": [
    "#найдем год с максимальной суммой сборов\n",
    "data_movies.query('box_office != 0').pivot_table(index='show_start_year', values='box_office', aggfunc='sum').idxmax()"
   ]
  },
  {
   "cell_type": "markdown",
   "metadata": {},
   "source": [
    "**Вывод:** Сумма сборов начала резко увеличиваться с 2013 года, с 2016 года была примерно на одном уровне. Тем не менее минимальная сумма сборов зафиксирована в 2010 году, а максимальная в 2018 году. Это может быть связано с улучшением качества выпускаемых кинокартин."
   ]
  },
  {
   "cell_type": "markdown",
   "metadata": {
    "id": "G-7qS-N-gFyY"
   },
   "source": [
    "- С помощью сводной таблицы посчитайте среднюю и медианную сумму сборов для каждого года."
   ]
  },
  {
   "cell_type": "markdown",
   "metadata": {},
   "source": [
    "С помощью сводной таблицы произведем рассчет среднего и медианного значения по сумме сборов. Для наглядности построим график."
   ]
  },
  {
   "cell_type": "code",
   "execution_count": 64,
   "metadata": {
    "id": "jmp-rgg9gFyY"
   },
   "outputs": [
    {
     "data": {
      "text/html": [
       "<div>\n",
       "<style scoped>\n",
       "    .dataframe tbody tr th:only-of-type {\n",
       "        vertical-align: middle;\n",
       "    }\n",
       "\n",
       "    .dataframe tbody tr th {\n",
       "        vertical-align: top;\n",
       "    }\n",
       "\n",
       "    .dataframe thead th {\n",
       "        text-align: right;\n",
       "    }\n",
       "</style>\n",
       "<table border=\"1\" class=\"dataframe\">\n",
       "  <thead>\n",
       "    <tr style=\"text-align: right;\">\n",
       "      <th></th>\n",
       "      <th>Год</th>\n",
       "      <th>Средняя сборов</th>\n",
       "      <th>Медиана сборов</th>\n",
       "    </tr>\n",
       "  </thead>\n",
       "  <tbody>\n",
       "    <tr>\n",
       "      <th>0</th>\n",
       "      <td>2010</td>\n",
       "      <td>24,046.10</td>\n",
       "      <td>1,710.00</td>\n",
       "    </tr>\n",
       "    <tr>\n",
       "      <th>1</th>\n",
       "      <td>2011</td>\n",
       "      <td>129,383.20</td>\n",
       "      <td>3,000.00</td>\n",
       "    </tr>\n",
       "    <tr>\n",
       "      <th>2</th>\n",
       "      <td>2012</td>\n",
       "      <td>56,548.20</td>\n",
       "      <td>6,220.00</td>\n",
       "    </tr>\n",
       "    <tr>\n",
       "      <th>3</th>\n",
       "      <td>2013</td>\n",
       "      <td>166,478.80</td>\n",
       "      <td>3,580.00</td>\n",
       "    </tr>\n",
       "    <tr>\n",
       "      <th>4</th>\n",
       "      <td>2014</td>\n",
       "      <td>27,270,885.90</td>\n",
       "      <td>20,400.00</td>\n",
       "    </tr>\n",
       "    <tr>\n",
       "      <th>5</th>\n",
       "      <td>2015</td>\n",
       "      <td>85,492,132.50</td>\n",
       "      <td>5,003,450.20</td>\n",
       "    </tr>\n",
       "    <tr>\n",
       "      <th>6</th>\n",
       "      <td>2016</td>\n",
       "      <td>91,173,904.30</td>\n",
       "      <td>3,915,041.00</td>\n",
       "    </tr>\n",
       "    <tr>\n",
       "      <th>7</th>\n",
       "      <td>2017</td>\n",
       "      <td>136,032,793.30</td>\n",
       "      <td>9,968,340.00</td>\n",
       "    </tr>\n",
       "    <tr>\n",
       "      <th>8</th>\n",
       "      <td>2018</td>\n",
       "      <td>104,565,059.20</td>\n",
       "      <td>8,891,102.20</td>\n",
       "    </tr>\n",
       "    <tr>\n",
       "      <th>9</th>\n",
       "      <td>2019</td>\n",
       "      <td>91,369,261.80</td>\n",
       "      <td>4,627,798.30</td>\n",
       "    </tr>\n",
       "  </tbody>\n",
       "</table>\n",
       "</div>"
      ],
      "text/plain": [
       "    Год  Средняя сборов  Медиана сборов\n",
       "0  2010       24,046.10        1,710.00\n",
       "1  2011      129,383.20        3,000.00\n",
       "2  2012       56,548.20        6,220.00\n",
       "3  2013      166,478.80        3,580.00\n",
       "4  2014   27,270,885.90       20,400.00\n",
       "5  2015   85,492,132.50    5,003,450.20\n",
       "6  2016   91,173,904.30    3,915,041.00\n",
       "7  2017  136,032,793.30    9,968,340.00\n",
       "8  2018  104,565,059.20    8,891,102.20\n",
       "9  2019   91,369,261.80    4,627,798.30"
      ]
     },
     "execution_count": 64,
     "metadata": {},
     "output_type": "execute_result"
    }
   ],
   "source": [
    "#сделаем сводную таблицу со средней и медианой по сборам\n",
    "pivot_mean_median = ( \n",
    "    data_movies.query('box_office > 0')\n",
    "    .pivot_table(index='show_start_year', values='box_office', aggfunc=['mean', 'median'])\n",
    "    .reset_index()\n",
    "    .round(1)\n",
    ")\n",
    "#поменяем названия столбцов\n",
    "pivot_mean_median.columns = ['Год', 'Средняя сборов', 'Медиана сборов']\n",
    "pivot_mean_median"
   ]
  },
  {
   "cell_type": "code",
   "execution_count": 65,
   "metadata": {},
   "outputs": [
    {
     "data": {
      "image/png": "[encoded data removed]",
      "text/plain": [
       "<Figure size 720x360 with 1 Axes>"
      ]
     },
     "metadata": {
      "needs_background": "light"
     },
     "output_type": "display_data"
    }
   ],
   "source": [
    "#построим график со среднейи медианой по сборам\n",
    "pivot_mean_median.plot(x='Год', y=['Средняя сборов', 'Медиана сборов'], style='-0', color=['blue', 'red'], grid=True, figsize=(10,5))\n",
    "plt.ylabel('Сумма сборов')\n",
    "plt.xlabel('Год')\n",
    "plt.title('Значения средней и медианной суммы сборов')\n",
    "plt.show()"
   ]
  },
  {
   "cell_type": "markdown",
   "metadata": {},
   "source": [
    "**Вывод:** С 2010 по 2019 год динамика по сборам сохранялась примерно на одном уровне, что видно по медиане. Среднее значение с 2013 года резко увеличивается, достигает своего максимума в 2017 году и дальше снижается к 2019 году. Из данных графика можем отметить, что средняя сумма сборов намного больше, чем медианная. Это может говорить о том, что сумма сборов большей части фильмов невысокая, но также есть фильмы, которые были достаточно популярны у зрителей и принесли достаточно хорошую долю от проката."
   ]
  },
  {
   "cell_type": "markdown",
   "metadata": {
    "id": "Ok89WFwJgFyZ"
   },
   "source": [
    "- Определите, влияет ли возрастное ограничение аудитории («6+», «12+», «16+», «18+» и т. д.) на сборы фильма в прокате в период с 2015 по 2019 год? Фильмы с каким возрастным ограничением собрали больше всего денег в прокате? Меняется ли картина в зависимости от года? Если да, предположите, с чем это может быть связано."
   ]
  },
  {
   "cell_type": "markdown",
   "metadata": {},
   "source": [
    "Сократим строку в столбце с возрастной категорией до значения возраста в кавычках."
   ]
  },
  {
   "cell_type": "code",
   "execution_count": 66,
   "metadata": {},
   "outputs": [],
   "source": [
    "#создадим столбец со значениями возраста\n",
    "data_movies['age'] = data_movies['age_restriction'].apply(lambda x: x.split('-')[0])"
   ]
  },
  {
   "cell_type": "markdown",
   "metadata": {
    "id": "jsSbEqfjgFya"
   },
   "source": [
    "Посмотрим, влияет ли возрастное ограничение на сборы фильма в прокате в период с 2015 по 2019 годы."
   ]
  },
  {
   "cell_type": "code",
   "execution_count": 67,
   "metadata": {},
   "outputs": [
    {
     "data": {
      "image/png": "[encoded data removed]",
      "text/plain": [
       "<Figure size 864x504 with 1 Axes>"
      ]
     },
     "metadata": {
      "needs_background": "light"
     },
     "output_type": "display_data"
    }
   ],
   "source": [
    "#создадим сводную таблицу по сборам с возрастными ограничениями\n",
    "data_movies_age = (\n",
    "    data_movies.query('box_office > 0')\n",
    "    .pivot_table(index='show_start_year', columns='age', values='box_office', aggfunc='sum')\n",
    "    .round()\n",
    ")\n",
    "#построим графики сборов по возрастным ограничениям с 2015 по 2019 годы\n",
    "data_movies_age.plot(style='o-', xlim=[2015, 2019], figsize=(12, 7), grid=True)\n",
    "plt.ylabel('Сумма сборов')\n",
    "plt.xlabel('Год')\n",
    "plt.title('Значения суммы сборов по возрастным ограничениям с 2015 по 2019 годы')\n",
    "plt.show()"
   ]
  },
  {
   "cell_type": "markdown",
   "metadata": {},
   "source": [
    "**Вывод:** В 2015 году лидерство по сборам было у фильмов \"12+\". К 2017 году лидерство перешло к фильмам \"16+\". В это время фильмы \"12+\" достигли своего минимума, это может быть связано с пересыщением ими рынка. Фильмы \"6+\" и \"18+\" с 2015 по 2019 годы имели одинаковую динамику, при этом фильмы \"6+\" имели большие сборы. к 2019 году фильмы \"16+\", \"12+\" и \"6+\" сравнялись по сумме сборов, фильмы \"18+\" расположились немного ниже. Все это время фильмы категории \"0+\" имели достаточно низкую сумму сборов и были в аутсайдерах. Получилось очень интересное распределение. Самый большой интерес у зрителей вызывали фильмы \"16+\", а самый низкий - фильмы \"0+\". Можем предположить, что это может быть связано с количеством фильмов, снятых по каждой категории."
   ]
  },
  {
   "cell_type": "markdown",
   "metadata": {},
   "source": [
    "**Вывод по разделу:**\n",
    "С 2010 по 2016 годы количество вышедших в прокат фильмов увеличивалось. В 2017 году произошел резкий спад. В 2019 году количество фильмов, вышедших в прокат, вернулось на прежний уровень 2016 года. Возможно, что резкий спад выхода фильмов в прокат был связан с новой реформой Министерства Культуры, которая предусматривает увеличение платы за выход фильмов в прокат и создание комиссии, которая решает, какие фильмы от этого взноса освободить.\n",
    "\n",
    "Доля фильмов с информацией о выходе в прокат плавно увеличивалась с 2010 по 2014 годы, достигла своих пиков в 2015-2017 годах и немного снизилась с 2018 года. Можем предположить, что пики в 2015-2017 годах связаны с более качественными по содержанию кинопремьерами, которые допущены к прокату. Также это может быть связано с так называемым прорывом в российском кинематографе, что следует из многих статей. Спад в 2018-2019 годах может быть опять же связан с реформой 2017 года, описанной нами выше.\n",
    "Полнее всего в данных представлен период с 2015 по 2019 года.\n",
    "\n",
    "Сумма сборов начала резко увеличиваться с 2013 года, с 2016 года была примерно на одном уровне. Тем не менее минимальная сумма сборов зафиксирована в 2010 году, а максимальная в 2018 году. Это может быть связано с улучшением качества выпускаемых кинокартин.\n",
    "\n",
    "Средняя сумма сборов намного больше, чем медианная. Это может говорить о том, что сумма сборов большей части фильмов невысокая, но также есть фильмы, которые были достаточно популярны у зрителей и принесли достаточно хорошую долю от проката.\n",
    "\n",
    "В 2015 году лидерство по сборам было у фильмов \"12+\". К 2017 году лидерство перешло к фильмам \"16+\". В это время фильмы \"12+\" достигли своего минимума, это может быть связано с пересыщением ими рынка. Фильмы \"6+\" и \"18+\" с 2015 по 2019 годы имели одинаковую динамику, при этом фильмы \"6+\" имели большие сборы. к 2019 году фильмы \"16+\", \"12+\" и \"6+\" сравнялись по сумме сборов, фильмы \"18+\" расположились немного ниже. Все это время фильмы категории \"0+\" имели достаточно низкую сумму сборов и были в аутсайдерах. Получилось очень интересное распределение. Самый большой интерес у зрителей вызывали фильмы \"16+\", а самый низкий - фильмы \"0+\". Можем предположить, что это может быть связано с количеством фильмов, снятых по каждой категории.\n"
   ]
  },
  {
   "cell_type": "markdown",
   "metadata": {
    "id": "l_Kg6Ku4gFya"
   },
   "source": [
    "### Шаг 4. Исследуйте фильмы, которые получили государственную поддержку\n",
    "\n",
    "На этом этапе нет конкретных инструкций и заданий — поищите интересные закономерности в данных. Посмотрите, сколько выделяют средств на поддержку кино. Проверьте, хорошо ли окупаются такие фильмы, какой у них рейтинг."
   ]
  },
  {
   "cell_type": "markdown",
   "metadata": {
    "id": "W9QKpjUdgFyb"
   },
   "source": [
    "Для исследования фильмов, получивших господдержку, для начала выведем только те фильмы, которые ее получили."
   ]
  },
  {
   "cell_type": "code",
   "execution_count": 68,
   "metadata": {},
   "outputs": [
    {
     "data": {
      "text/html": [
       "<div>\n",
       "<style scoped>\n",
       "    .dataframe tbody tr th:only-of-type {\n",
       "        vertical-align: middle;\n",
       "    }\n",
       "\n",
       "    .dataframe tbody tr th {\n",
       "        vertical-align: top;\n",
       "    }\n",
       "\n",
       "    .dataframe thead th {\n",
       "        text-align: right;\n",
       "    }\n",
       "</style>\n",
       "<table border=\"1\" class=\"dataframe\">\n",
       "  <thead>\n",
       "    <tr style=\"text-align: right;\">\n",
       "      <th></th>\n",
       "      <th>title</th>\n",
       "      <th>puNumber</th>\n",
       "      <th>show_start_date</th>\n",
       "      <th>type</th>\n",
       "      <th>film_studio</th>\n",
       "      <th>production_country</th>\n",
       "      <th>director</th>\n",
       "      <th>producer</th>\n",
       "      <th>age_restriction</th>\n",
       "      <th>refundable_support</th>\n",
       "      <th>...</th>\n",
       "      <th>budget</th>\n",
       "      <th>financing_source</th>\n",
       "      <th>ratings</th>\n",
       "      <th>genres</th>\n",
       "      <th>box_office</th>\n",
       "      <th>show_start_year</th>\n",
       "      <th>main_director</th>\n",
       "      <th>main_genre</th>\n",
       "      <th>gov_support_share</th>\n",
       "      <th>age</th>\n",
       "    </tr>\n",
       "  </thead>\n",
       "  <tbody>\n",
       "    <tr>\n",
       "      <th>1281</th>\n",
       "      <td>Пока еще жива</td>\n",
       "      <td>111,005,313.00</td>\n",
       "      <td>2013-10-11 12:00:00+00:00</td>\n",
       "      <td>Художественный</td>\n",
       "      <td>АНО содействия развитию кинематографии \"Ангел-...</td>\n",
       "      <td>Россия</td>\n",
       "      <td>А.Атанесян</td>\n",
       "      <td>А.Атанесян, М.Бабаханов, Р.Бутко</td>\n",
       "      <td>«16+» - для детей старше 16 лет</td>\n",
       "      <td>0.00</td>\n",
       "      <td>...</td>\n",
       "      <td>79,411,900.00</td>\n",
       "      <td>Министерство культуры</td>\n",
       "      <td>8.10</td>\n",
       "      <td>драма,мелодрама</td>\n",
       "      <td>365,353.60</td>\n",
       "      <td>2013</td>\n",
       "      <td>А.Атанесян</td>\n",
       "      <td>драма</td>\n",
       "      <td>0.33</td>\n",
       "      <td>«16+»</td>\n",
       "    </tr>\n",
       "    <tr>\n",
       "      <th>1448</th>\n",
       "      <td>Бесславные придурки</td>\n",
       "      <td>111,003,314.00</td>\n",
       "      <td>2014-03-28 12:00:00+00:00</td>\n",
       "      <td>Художественный</td>\n",
       "      <td>ООО \"Компания \"АТК-Студио\"</td>\n",
       "      <td>Россия</td>\n",
       "      <td>А.Якимчук</td>\n",
       "      <td>А.Тютрюмов</td>\n",
       "      <td>«12+» - для детей старше 12 лет</td>\n",
       "      <td>0.00</td>\n",
       "      <td>...</td>\n",
       "      <td>37,142,857.00</td>\n",
       "      <td>Министерство культуры</td>\n",
       "      <td>0.00</td>\n",
       "      <td>Жанр не указан</td>\n",
       "      <td>28,140.00</td>\n",
       "      <td>2014</td>\n",
       "      <td>А.Якимчук</td>\n",
       "      <td>Жанр не указан</td>\n",
       "      <td>0.70</td>\n",
       "      <td>«12+»</td>\n",
       "    </tr>\n",
       "    <tr>\n",
       "      <th>1498</th>\n",
       "      <td>Невидимки</td>\n",
       "      <td>111,004,213.00</td>\n",
       "      <td>2013-09-10 12:00:00+00:00</td>\n",
       "      <td>Художественный</td>\n",
       "      <td>ООО \"Компания \"РЕАЛ-ДАКОТА\"</td>\n",
       "      <td>Россия</td>\n",
       "      <td>Р.Давлетьяров, С.Комаров</td>\n",
       "      <td>Р.Давлетьяров, А.Котелевский, А.Олейников</td>\n",
       "      <td>«12+» - для детей старше 12 лет</td>\n",
       "      <td>0.00</td>\n",
       "      <td>...</td>\n",
       "      <td>176,023,490.00</td>\n",
       "      <td>Фонд кино</td>\n",
       "      <td>5.30</td>\n",
       "      <td>комедия,фантастика</td>\n",
       "      <td>19,957,031.50</td>\n",
       "      <td>2013</td>\n",
       "      <td>Р.Давлетьяров</td>\n",
       "      <td>комедия</td>\n",
       "      <td>0.61</td>\n",
       "      <td>«12+»</td>\n",
       "    </tr>\n",
       "    <tr>\n",
       "      <th>1524</th>\n",
       "      <td>БЕРЦЫ</td>\n",
       "      <td>111,004,314.00</td>\n",
       "      <td>2014-05-05 12:00:00+00:00</td>\n",
       "      <td>Художественный</td>\n",
       "      <td>ООО \"Студия \"Пассажир\"</td>\n",
       "      <td>Россия</td>\n",
       "      <td>Е.Миндадзе (псевдоним Катя Шагалова)</td>\n",
       "      <td>Л.Антонова</td>\n",
       "      <td>«16+» - для детей старше 16 лет</td>\n",
       "      <td>0.00</td>\n",
       "      <td>...</td>\n",
       "      <td>40,574,140.00</td>\n",
       "      <td>Министерство культуры</td>\n",
       "      <td>4.20</td>\n",
       "      <td>драма</td>\n",
       "      <td>55,917.50</td>\n",
       "      <td>2014</td>\n",
       "      <td>Е.Миндадзе (псевдоним Катя Шагалова)</td>\n",
       "      <td>драма</td>\n",
       "      <td>0.69</td>\n",
       "      <td>«16+»</td>\n",
       "    </tr>\n",
       "    <tr>\n",
       "      <th>1792</th>\n",
       "      <td>Братья Ч</td>\n",
       "      <td>111,004,414.00</td>\n",
       "      <td>2014-04-23 12:00:00+00:00</td>\n",
       "      <td>Художественный</td>\n",
       "      <td>ООО \"Студия \"Пассажир\"</td>\n",
       "      <td>Россия</td>\n",
       "      <td>М.Угаров</td>\n",
       "      <td>А.Миндадзе, Л.Антонова</td>\n",
       "      <td>«16+» - для детей старше 16 лет</td>\n",
       "      <td>0.00</td>\n",
       "      <td>...</td>\n",
       "      <td>40,015,122.00</td>\n",
       "      <td>Министерство культуры</td>\n",
       "      <td>6.40</td>\n",
       "      <td>драма</td>\n",
       "      <td>232,100.00</td>\n",
       "      <td>2014</td>\n",
       "      <td>М.Угаров</td>\n",
       "      <td>драма</td>\n",
       "      <td>0.62</td>\n",
       "      <td>«16+»</td>\n",
       "    </tr>\n",
       "  </tbody>\n",
       "</table>\n",
       "<p>5 rows × 21 columns</p>\n",
       "</div>"
      ],
      "text/plain": [
       "                    title       puNumber           show_start_date  \\\n",
       "1281        Пока еще жива 111,005,313.00 2013-10-11 12:00:00+00:00   \n",
       "1448  Бесславные придурки 111,003,314.00 2014-03-28 12:00:00+00:00   \n",
       "1498            Невидимки 111,004,213.00 2013-09-10 12:00:00+00:00   \n",
       "1524                БЕРЦЫ 111,004,314.00 2014-05-05 12:00:00+00:00   \n",
       "1792             Братья Ч 111,004,414.00 2014-04-23 12:00:00+00:00   \n",
       "\n",
       "                type                                        film_studio  \\\n",
       "1281  Художественный  АНО содействия развитию кинематографии \"Ангел-...   \n",
       "1448  Художественный                         ООО \"Компания \"АТК-Студио\"   \n",
       "1498  Художественный                        ООО \"Компания \"РЕАЛ-ДАКОТА\"   \n",
       "1524  Художественный                             ООО \"Студия \"Пассажир\"   \n",
       "1792  Художественный                             ООО \"Студия \"Пассажир\"   \n",
       "\n",
       "     production_country                              director  \\\n",
       "1281             Россия                            А.Атанесян   \n",
       "1448             Россия                             А.Якимчук   \n",
       "1498             Россия              Р.Давлетьяров, С.Комаров   \n",
       "1524             Россия  Е.Миндадзе (псевдоним Катя Шагалова)   \n",
       "1792             Россия                              М.Угаров   \n",
       "\n",
       "                                       producer  \\\n",
       "1281           А.Атанесян, М.Бабаханов, Р.Бутко   \n",
       "1448                                 А.Тютрюмов   \n",
       "1498  Р.Давлетьяров, А.Котелевский, А.Олейников   \n",
       "1524                                 Л.Антонова   \n",
       "1792                     А.Миндадзе, Л.Антонова   \n",
       "\n",
       "                      age_restriction  refundable_support  ...         budget  \\\n",
       "1281  «16+» - для детей старше 16 лет                0.00  ...  79,411,900.00   \n",
       "1448  «12+» - для детей старше 12 лет                0.00  ...  37,142,857.00   \n",
       "1498  «12+» - для детей старше 12 лет                0.00  ... 176,023,490.00   \n",
       "1524  «16+» - для детей старше 16 лет                0.00  ...  40,574,140.00   \n",
       "1792  «16+» - для детей старше 16 лет                0.00  ...  40,015,122.00   \n",
       "\n",
       "           financing_source ratings              genres    box_office  \\\n",
       "1281  Министерство культуры    8.10     драма,мелодрама    365,353.60   \n",
       "1448  Министерство культуры    0.00      Жанр не указан     28,140.00   \n",
       "1498              Фонд кино    5.30  комедия,фантастика 19,957,031.50   \n",
       "1524  Министерство культуры    4.20               драма     55,917.50   \n",
       "1792  Министерство культуры    6.40               драма    232,100.00   \n",
       "\n",
       "      show_start_year                         main_director      main_genre  \\\n",
       "1281             2013                            А.Атанесян           драма   \n",
       "1448             2014                             А.Якимчук  Жанр не указан   \n",
       "1498             2013                         Р.Давлетьяров         комедия   \n",
       "1524             2014  Е.Миндадзе (псевдоним Катя Шагалова)           драма   \n",
       "1792             2014                              М.Угаров           драма   \n",
       "\n",
       "     gov_support_share     age  \n",
       "1281              0.33  «16+»   \n",
       "1448              0.70  «12+»   \n",
       "1498              0.61  «12+»   \n",
       "1524              0.69  «16+»   \n",
       "1792              0.62  «16+»   \n",
       "\n",
       "[5 rows x 21 columns]"
      ]
     },
     "execution_count": 68,
     "metadata": {},
     "output_type": "execute_result"
    }
   ],
   "source": [
    "gov_support_movies = data_movies.query('budget != 0')\n",
    "gov_support_movies.head()"
   ]
  },
  {
   "cell_type": "markdown",
   "metadata": {},
   "source": [
    "**Посмотрим, сколько суммарно выделяют государственного финансирования разные источники по годам.**"
   ]
  },
  {
   "cell_type": "code",
   "execution_count": 69,
   "metadata": {},
   "outputs": [
    {
     "data": {
      "text/html": [
       "<div>\n",
       "<style scoped>\n",
       "    .dataframe tbody tr th:only-of-type {\n",
       "        vertical-align: middle;\n",
       "    }\n",
       "\n",
       "    .dataframe tbody tr th {\n",
       "        vertical-align: top;\n",
       "    }\n",
       "\n",
       "    .dataframe thead th {\n",
       "        text-align: right;\n",
       "    }\n",
       "</style>\n",
       "<table border=\"1\" class=\"dataframe\">\n",
       "  <thead>\n",
       "    <tr style=\"text-align: right;\">\n",
       "      <th>financing_source</th>\n",
       "      <th>Министерство культуры</th>\n",
       "      <th>Министерство культуры, Фонд кино</th>\n",
       "      <th>Фонд кино</th>\n",
       "      <th>All</th>\n",
       "    </tr>\n",
       "    <tr>\n",
       "      <th>show_start_year</th>\n",
       "      <th></th>\n",
       "      <th></th>\n",
       "      <th></th>\n",
       "      <th></th>\n",
       "    </tr>\n",
       "  </thead>\n",
       "  <tbody>\n",
       "    <tr>\n",
       "      <th>2013</th>\n",
       "      <td>79,411,900.00</td>\n",
       "      <td>NaN</td>\n",
       "      <td>176,023,490.00</td>\n",
       "      <td>255,435,390.00</td>\n",
       "    </tr>\n",
       "    <tr>\n",
       "      <th>2014</th>\n",
       "      <td>355,098,330.00</td>\n",
       "      <td>390,955,947.00</td>\n",
       "      <td>570,887,494.00</td>\n",
       "      <td>1,316,941,771.00</td>\n",
       "    </tr>\n",
       "    <tr>\n",
       "      <th>2015</th>\n",
       "      <td>2,058,659,139.00</td>\n",
       "      <td>1,083,732,355.00</td>\n",
       "      <td>4,865,931,965.00</td>\n",
       "      <td>8,008,323,459.00</td>\n",
       "    </tr>\n",
       "    <tr>\n",
       "      <th>2016</th>\n",
       "      <td>1,693,321,763.00</td>\n",
       "      <td>701,425,062.00</td>\n",
       "      <td>5,365,108,012.00</td>\n",
       "      <td>7,759,854,837.00</td>\n",
       "    </tr>\n",
       "    <tr>\n",
       "      <th>2017</th>\n",
       "      <td>810,792,850.00</td>\n",
       "      <td>108,653,233.00</td>\n",
       "      <td>6,191,154,484.00</td>\n",
       "      <td>7,110,600,567.00</td>\n",
       "    </tr>\n",
       "    <tr>\n",
       "      <th>2018</th>\n",
       "      <td>2,244,609,772.00</td>\n",
       "      <td>130,000,000.00</td>\n",
       "      <td>4,845,404,210.00</td>\n",
       "      <td>7,220,013,982.00</td>\n",
       "    </tr>\n",
       "    <tr>\n",
       "      <th>2019</th>\n",
       "      <td>4,237,081,392.00</td>\n",
       "      <td>249,000,000.00</td>\n",
       "      <td>8,349,926,861.00</td>\n",
       "      <td>12,836,008,253.00</td>\n",
       "    </tr>\n",
       "    <tr>\n",
       "      <th>All</th>\n",
       "      <td>11,478,975,146.00</td>\n",
       "      <td>2,663,766,597.00</td>\n",
       "      <td>30,364,436,516.00</td>\n",
       "      <td>44,507,178,259.00</td>\n",
       "    </tr>\n",
       "  </tbody>\n",
       "</table>\n",
       "</div>"
      ],
      "text/plain": [
       "financing_source  Министерство культуры  Министерство культуры, Фонд кино  \\\n",
       "show_start_year                                                             \n",
       "2013                      79,411,900.00                               NaN   \n",
       "2014                     355,098,330.00                    390,955,947.00   \n",
       "2015                   2,058,659,139.00                  1,083,732,355.00   \n",
       "2016                   1,693,321,763.00                    701,425,062.00   \n",
       "2017                     810,792,850.00                    108,653,233.00   \n",
       "2018                   2,244,609,772.00                    130,000,000.00   \n",
       "2019                   4,237,081,392.00                    249,000,000.00   \n",
       "All                   11,478,975,146.00                  2,663,766,597.00   \n",
       "\n",
       "financing_source         Фонд кино               All  \n",
       "show_start_year                                       \n",
       "2013                176,023,490.00    255,435,390.00  \n",
       "2014                570,887,494.00  1,316,941,771.00  \n",
       "2015              4,865,931,965.00  8,008,323,459.00  \n",
       "2016              5,365,108,012.00  7,759,854,837.00  \n",
       "2017              6,191,154,484.00  7,110,600,567.00  \n",
       "2018              4,845,404,210.00  7,220,013,982.00  \n",
       "2019              8,349,926,861.00 12,836,008,253.00  \n",
       "All              30,364,436,516.00 44,507,178,259.00  "
      ]
     },
     "execution_count": 69,
     "metadata": {},
     "output_type": "execute_result"
    }
   ],
   "source": [
    "#построим сводную таблицу\n",
    "gov_support_movies.pivot_table(index='show_start_year', columns='financing_source', values='budget', aggfunc='sum', margins=True)"
   ]
  },
  {
   "cell_type": "code",
   "execution_count": 70,
   "metadata": {},
   "outputs": [
    {
     "data": {
      "image/png": "[encoded data removed]",
      "text/plain": [
       "<Figure size 720x504 with 1 Axes>"
      ]
     },
     "metadata": {
      "needs_background": "light"
     },
     "output_type": "display_data"
    }
   ],
   "source": [
    "#построим график для наглядности\n",
    "(\n",
    "    gov_support_movies.pivot_table(index='show_start_year', columns='financing_source', values='budget', aggfunc='sum')\n",
    "                      .plot(style='o-', grid=True, figsize=(10,7))\n",
    ")\n",
    "plt.ylabel('Сумма финансирования')\n",
    "plt.xlabel('Год')\n",
    "plt.title('Сумма финансирования фильмов государственными источниками по годам')\n",
    "plt.show()"
   ]
  },
  {
   "cell_type": "markdown",
   "metadata": {},
   "source": [
    "**Вывод:** Мы имеем 3 источника госфинансирования фильмов: Министерство Культуры, Фонд кино и совместное финансирование - Министерство Культуры + Фонд кино. Видим, что фильмы, представленные в нашем датафрейме, получали господдержку с 2013 года и с каждым годом поддержка статистически увеличивалась. Лидером по госфинансированию является Фонд кино, Министерство культуры идет на 2 месте, общее финансирование - меньше всего. Финансирование Министерством культуры и общее снизилось в 2017 году и потом к 2019 году выросло вновь. Финансирование Фондом кино было как раз достаточно высоким, а к 2018 неким образом снизилось, но уже к 2019 году достигло своего пика. Динамика совместного финансирования Министерства Культуры с Фондом кино оставалось на низком уровне, с 2013 по 2015 года увеличивалось, в 2015 году достигла пика и к 2017 резко снизилось, далее незначительно увеличилось к 2019 году.\n",
    "\n",
    "Увеличение с годами госфинансирования кинематографа связано с высоким уровнем поддержки государства, благодаря введенным Президентом РФ законам о поддержке кинематографа. В 2017 году снижение финансирования Министерством культуры может быть связано с проведенной Министерством реформой и ужесточением требований к получению финансирования, возможно в связи с этим увеличилась поддрежка сос тороны Фонда кино.\n",
    "\n",
    "В общей сложности в период с 2013 по 2019 годы Министерством культуры было выделенио почти 11,5 млрд рублей, Фондом кино - почти 30,4 млрд рублей, совместное финансирование - почти 2,7 млрд рублей, в качестве господдержки фильмов. Суммарно государственное финансирование кинематографа с 2013 по 2019 годы составило 44,5 млрд рублей."
   ]
  },
  {
   "cell_type": "markdown",
   "metadata": {},
   "source": [
    "**Попробуем найти количество фильмов, которые окупились, и фильмов, которые не окупились. И рассчитаем процент окупаемости.**"
   ]
  },
  {
   "cell_type": "code",
   "execution_count": 71,
   "metadata": {},
   "outputs": [
    {
     "name": "stdout",
     "output_type": "stream",
     "text": [
      "Количество фильмов, которые окупились: 73\n"
     ]
    }
   ],
   "source": [
    "#посчитаем количество фильмов, которые окупились\n",
    "paid_off_movies = len(gov_support_movies.query('box_office > budget'))\n",
    "print('Количество фильмов, которые окупились:', paid_off_movies)"
   ]
  },
  {
   "cell_type": "code",
   "execution_count": 72,
   "metadata": {},
   "outputs": [
    {
     "name": "stdout",
     "output_type": "stream",
     "text": [
      "Количество фильмов, которые не окупились: 259\n"
     ]
    }
   ],
   "source": [
    "#посчитаем количество фильмов, которые не окупились\n",
    "not_paid_off_movies = len(gov_support_movies.query('box_office < budget'))\n",
    "print('Количество фильмов, которые не окупились:', not_paid_off_movies)"
   ]
  },
  {
   "cell_type": "code",
   "execution_count": 73,
   "metadata": {},
   "outputs": [
    {
     "name": "stdout",
     "output_type": "stream",
     "text": [
      "Окупаемость фильмов 22 %\n"
     ]
    }
   ],
   "source": [
    "#посчтаем процент окупаемости\n",
    "pay_off_share = round((paid_off_movies / len(gov_support_movies)) * 100)\n",
    "print('Окупаемость фильмов', pay_off_share, '%')"
   ]
  },
  {
   "cell_type": "markdown",
   "metadata": {},
   "source": [
    "**Вывод:** Из 332 фильмов, заручившихся госфинансированием, окупились 73, а не окупились - 259. В общем итоге, окупаемость таких фильмов составляет 22%. Что не такая уж большая цифра для потраченного на финансирование бюджета."
   ]
  },
  {
   "cell_type": "markdown",
   "metadata": {},
   "source": [
    "**Посмотрим, на какие жанры фильмов государство выделило больше и меньше всего финансирования, и какое количество фильмов было снято в каждом жанре.**"
   ]
  },
  {
   "cell_type": "code",
   "execution_count": 74,
   "metadata": {},
   "outputs": [
    {
     "data": {
      "text/html": [
       "<div>\n",
       "<style scoped>\n",
       "    .dataframe tbody tr th:only-of-type {\n",
       "        vertical-align: middle;\n",
       "    }\n",
       "\n",
       "    .dataframe tbody tr th {\n",
       "        vertical-align: top;\n",
       "    }\n",
       "\n",
       "    .dataframe thead th {\n",
       "        text-align: right;\n",
       "    }\n",
       "</style>\n",
       "<table border=\"1\" class=\"dataframe\">\n",
       "  <thead>\n",
       "    <tr style=\"text-align: right;\">\n",
       "      <th></th>\n",
       "      <th>Жанр</th>\n",
       "      <th>Бюджет</th>\n",
       "      <th>Количество фильмов</th>\n",
       "    </tr>\n",
       "  </thead>\n",
       "  <tbody>\n",
       "    <tr>\n",
       "      <th>5</th>\n",
       "      <td>драма</td>\n",
       "      <td>11,174,029,040.00</td>\n",
       "      <td>93</td>\n",
       "    </tr>\n",
       "    <tr>\n",
       "      <th>7</th>\n",
       "      <td>комедия</td>\n",
       "      <td>6,298,299,582.00</td>\n",
       "      <td>74</td>\n",
       "    </tr>\n",
       "    <tr>\n",
       "      <th>10</th>\n",
       "      <td>мультфильм</td>\n",
       "      <td>6,148,638,752.00</td>\n",
       "      <td>31</td>\n",
       "    </tr>\n",
       "    <tr>\n",
       "      <th>12</th>\n",
       "      <td>приключения</td>\n",
       "      <td>3,374,742,189.00</td>\n",
       "      <td>7</td>\n",
       "    </tr>\n",
       "    <tr>\n",
       "      <th>18</th>\n",
       "      <td>фантастика</td>\n",
       "      <td>2,600,241,988.00</td>\n",
       "      <td>11</td>\n",
       "    </tr>\n",
       "    <tr>\n",
       "      <th>19</th>\n",
       "      <td>фэнтези</td>\n",
       "      <td>2,340,123,765.00</td>\n",
       "      <td>11</td>\n",
       "    </tr>\n",
       "    <tr>\n",
       "      <th>6</th>\n",
       "      <td>история</td>\n",
       "      <td>2,145,062,206.00</td>\n",
       "      <td>4</td>\n",
       "    </tr>\n",
       "    <tr>\n",
       "      <th>16</th>\n",
       "      <td>триллер</td>\n",
       "      <td>1,388,674,821.00</td>\n",
       "      <td>15</td>\n",
       "    </tr>\n",
       "    <tr>\n",
       "      <th>2</th>\n",
       "      <td>военный</td>\n",
       "      <td>1,285,906,825.00</td>\n",
       "      <td>9</td>\n",
       "    </tr>\n",
       "    <tr>\n",
       "      <th>3</th>\n",
       "      <td>детектив</td>\n",
       "      <td>1,198,222,297.00</td>\n",
       "      <td>5</td>\n",
       "    </tr>\n",
       "    <tr>\n",
       "      <th>9</th>\n",
       "      <td>мелодрама</td>\n",
       "      <td>955,462,322.00</td>\n",
       "      <td>15</td>\n",
       "    </tr>\n",
       "    <tr>\n",
       "      <th>1</th>\n",
       "      <td>боевик</td>\n",
       "      <td>733,721,983.00</td>\n",
       "      <td>6</td>\n",
       "    </tr>\n",
       "    <tr>\n",
       "      <th>15</th>\n",
       "      <td>спорт</td>\n",
       "      <td>710,468,965.00</td>\n",
       "      <td>3</td>\n",
       "    </tr>\n",
       "    <tr>\n",
       "      <th>14</th>\n",
       "      <td>семейный</td>\n",
       "      <td>636,799,787.00</td>\n",
       "      <td>7</td>\n",
       "    </tr>\n",
       "    <tr>\n",
       "      <th>11</th>\n",
       "      <td>мюзикл</td>\n",
       "      <td>564,197,472.00</td>\n",
       "      <td>4</td>\n",
       "    </tr>\n",
       "    <tr>\n",
       "      <th>17</th>\n",
       "      <td>ужасы</td>\n",
       "      <td>563,877,625.00</td>\n",
       "      <td>10</td>\n",
       "    </tr>\n",
       "    <tr>\n",
       "      <th>0</th>\n",
       "      <td>биография</td>\n",
       "      <td>528,933,637.00</td>\n",
       "      <td>3</td>\n",
       "    </tr>\n",
       "    <tr>\n",
       "      <th>8</th>\n",
       "      <td>криминал</td>\n",
       "      <td>426,594,781.00</td>\n",
       "      <td>3</td>\n",
       "    </tr>\n",
       "    <tr>\n",
       "      <th>4</th>\n",
       "      <td>детский</td>\n",
       "      <td>183,898,004.00</td>\n",
       "      <td>4</td>\n",
       "    </tr>\n",
       "    <tr>\n",
       "      <th>13</th>\n",
       "      <td>реальное ТВ</td>\n",
       "      <td>80,000,000.00</td>\n",
       "      <td>1</td>\n",
       "    </tr>\n",
       "  </tbody>\n",
       "</table>\n",
       "</div>"
      ],
      "text/plain": [
       "           Жанр            Бюджет  Количество фильмов\n",
       "5         драма 11,174,029,040.00                  93\n",
       "7       комедия  6,298,299,582.00                  74\n",
       "10   мультфильм  6,148,638,752.00                  31\n",
       "12  приключения  3,374,742,189.00                   7\n",
       "18   фантастика  2,600,241,988.00                  11\n",
       "19      фэнтези  2,340,123,765.00                  11\n",
       "6       история  2,145,062,206.00                   4\n",
       "16      триллер  1,388,674,821.00                  15\n",
       "2       военный  1,285,906,825.00                   9\n",
       "3      детектив  1,198,222,297.00                   5\n",
       "9     мелодрама    955,462,322.00                  15\n",
       "1        боевик    733,721,983.00                   6\n",
       "15        спорт    710,468,965.00                   3\n",
       "14     семейный    636,799,787.00                   7\n",
       "11       мюзикл    564,197,472.00                   4\n",
       "17        ужасы    563,877,625.00                  10\n",
       "0     биография    528,933,637.00                   3\n",
       "8      криминал    426,594,781.00                   3\n",
       "4       детский    183,898,004.00                   4\n",
       "13  реальное ТВ     80,000,000.00                   1"
      ]
     },
     "execution_count": 74,
     "metadata": {},
     "output_type": "execute_result"
    }
   ],
   "source": [
    "genre_budget = (\n",
    "    gov_support_movies.query('main_genre != \"Жанр не указан\"')\n",
    "                      .pivot_table(index='main_genre', values='budget', aggfunc=['sum', 'count'])\n",
    "                      .reset_index()\n",
    ")\n",
    "genre_budget.columns = ['Жанр', 'Бюджет', 'Количество фильмов']\n",
    "genre_budget.sort_values(by='Бюджет', ascending=False) "
   ]
  },
  {
   "cell_type": "markdown",
   "metadata": {},
   "source": [
    "**Вывод:** Больше всего финансирования было выделено для фильмов с жанре \"драма\", при этом за весь период исследования их было снято больше всего - 93 фильма. Комедии стоят на втором месте по выделенному бюджету, снято их 74 штуки. На третьем месте идут мультфильмы и количество их 31. \n",
    "\n",
    "Меньше всего финансирования получили фильмы в жанре \"реальное ТВ\", но такой фильм всего один. "
   ]
  },
  {
   "cell_type": "markdown",
   "metadata": {},
   "source": [
    "**Посмотрим окупаемость по каждому из жанров.**"
   ]
  },
  {
   "cell_type": "code",
   "execution_count": 75,
   "metadata": {},
   "outputs": [
    {
     "data": {
      "text/html": [
       "<div>\n",
       "<style scoped>\n",
       "    .dataframe tbody tr th:only-of-type {\n",
       "        vertical-align: middle;\n",
       "    }\n",
       "\n",
       "    .dataframe tbody tr th {\n",
       "        vertical-align: top;\n",
       "    }\n",
       "\n",
       "    .dataframe thead th {\n",
       "        text-align: right;\n",
       "    }\n",
       "</style>\n",
       "<table border=\"1\" class=\"dataframe\">\n",
       "  <thead>\n",
       "    <tr style=\"text-align: right;\">\n",
       "      <th></th>\n",
       "      <th>Жанр</th>\n",
       "      <th>Сборы</th>\n",
       "      <th>Бюджет</th>\n",
       "      <th>Процент окупаемости</th>\n",
       "    </tr>\n",
       "  </thead>\n",
       "  <tbody>\n",
       "    <tr>\n",
       "      <th>15</th>\n",
       "      <td>спорт</td>\n",
       "      <td>2,967,768,387.44</td>\n",
       "      <td>710,468,965.00</td>\n",
       "      <td>418.00</td>\n",
       "    </tr>\n",
       "    <tr>\n",
       "      <th>7</th>\n",
       "      <td>комедия</td>\n",
       "      <td>12,479,977,454.33</td>\n",
       "      <td>6,298,299,582.00</td>\n",
       "      <td>198.00</td>\n",
       "    </tr>\n",
       "    <tr>\n",
       "      <th>17</th>\n",
       "      <td>ужасы</td>\n",
       "      <td>710,123,189.35</td>\n",
       "      <td>563,877,625.00</td>\n",
       "      <td>126.00</td>\n",
       "    </tr>\n",
       "    <tr>\n",
       "      <th>0</th>\n",
       "      <td>биография</td>\n",
       "      <td>516,883,037.64</td>\n",
       "      <td>528,933,637.00</td>\n",
       "      <td>98.00</td>\n",
       "    </tr>\n",
       "    <tr>\n",
       "      <th>14</th>\n",
       "      <td>семейный</td>\n",
       "      <td>584,424,749.65</td>\n",
       "      <td>636,799,787.00</td>\n",
       "      <td>92.00</td>\n",
       "    </tr>\n",
       "    <tr>\n",
       "      <th>10</th>\n",
       "      <td>мультфильм</td>\n",
       "      <td>5,622,014,134.66</td>\n",
       "      <td>6,148,638,752.00</td>\n",
       "      <td>91.00</td>\n",
       "    </tr>\n",
       "    <tr>\n",
       "      <th>5</th>\n",
       "      <td>драма</td>\n",
       "      <td>9,490,844,101.04</td>\n",
       "      <td>11,174,029,040.00</td>\n",
       "      <td>85.00</td>\n",
       "    </tr>\n",
       "    <tr>\n",
       "      <th>1</th>\n",
       "      <td>боевик</td>\n",
       "      <td>595,928,934.50</td>\n",
       "      <td>733,721,983.00</td>\n",
       "      <td>81.00</td>\n",
       "    </tr>\n",
       "    <tr>\n",
       "      <th>2</th>\n",
       "      <td>военный</td>\n",
       "      <td>1,017,670,471.80</td>\n",
       "      <td>1,285,906,825.00</td>\n",
       "      <td>79.00</td>\n",
       "    </tr>\n",
       "    <tr>\n",
       "      <th>6</th>\n",
       "      <td>история</td>\n",
       "      <td>1,455,468,234.57</td>\n",
       "      <td>2,145,062,206.00</td>\n",
       "      <td>68.00</td>\n",
       "    </tr>\n",
       "    <tr>\n",
       "      <th>18</th>\n",
       "      <td>фантастика</td>\n",
       "      <td>1,718,204,279.39</td>\n",
       "      <td>2,600,241,988.00</td>\n",
       "      <td>66.00</td>\n",
       "    </tr>\n",
       "    <tr>\n",
       "      <th>8</th>\n",
       "      <td>криминал</td>\n",
       "      <td>239,793,863.00</td>\n",
       "      <td>426,594,781.00</td>\n",
       "      <td>56.00</td>\n",
       "    </tr>\n",
       "    <tr>\n",
       "      <th>16</th>\n",
       "      <td>триллер</td>\n",
       "      <td>700,450,190.14</td>\n",
       "      <td>1,388,674,821.00</td>\n",
       "      <td>50.00</td>\n",
       "    </tr>\n",
       "    <tr>\n",
       "      <th>19</th>\n",
       "      <td>фэнтези</td>\n",
       "      <td>995,836,607.97</td>\n",
       "      <td>2,340,123,765.00</td>\n",
       "      <td>43.00</td>\n",
       "    </tr>\n",
       "    <tr>\n",
       "      <th>13</th>\n",
       "      <td>реальное ТВ</td>\n",
       "      <td>32,721,103.43</td>\n",
       "      <td>80,000,000.00</td>\n",
       "      <td>41.00</td>\n",
       "    </tr>\n",
       "    <tr>\n",
       "      <th>12</th>\n",
       "      <td>приключения</td>\n",
       "      <td>1,205,596,976.62</td>\n",
       "      <td>3,374,742,189.00</td>\n",
       "      <td>36.00</td>\n",
       "    </tr>\n",
       "    <tr>\n",
       "      <th>11</th>\n",
       "      <td>мюзикл</td>\n",
       "      <td>101,705,004.98</td>\n",
       "      <td>564,197,472.00</td>\n",
       "      <td>18.00</td>\n",
       "    </tr>\n",
       "    <tr>\n",
       "      <th>3</th>\n",
       "      <td>детектив</td>\n",
       "      <td>138,547,511.40</td>\n",
       "      <td>1,198,222,297.00</td>\n",
       "      <td>12.00</td>\n",
       "    </tr>\n",
       "    <tr>\n",
       "      <th>9</th>\n",
       "      <td>мелодрама</td>\n",
       "      <td>54,788,966.23</td>\n",
       "      <td>955,462,322.00</td>\n",
       "      <td>6.00</td>\n",
       "    </tr>\n",
       "    <tr>\n",
       "      <th>4</th>\n",
       "      <td>детский</td>\n",
       "      <td>3,013,652.00</td>\n",
       "      <td>183,898,004.00</td>\n",
       "      <td>2.00</td>\n",
       "    </tr>\n",
       "  </tbody>\n",
       "</table>\n",
       "</div>"
      ],
      "text/plain": [
       "           Жанр             Сборы            Бюджет  Процент окупаемости\n",
       "15        спорт  2,967,768,387.44    710,468,965.00               418.00\n",
       "7       комедия 12,479,977,454.33  6,298,299,582.00               198.00\n",
       "17        ужасы    710,123,189.35    563,877,625.00               126.00\n",
       "0     биография    516,883,037.64    528,933,637.00                98.00\n",
       "14     семейный    584,424,749.65    636,799,787.00                92.00\n",
       "10   мультфильм  5,622,014,134.66  6,148,638,752.00                91.00\n",
       "5         драма  9,490,844,101.04 11,174,029,040.00                85.00\n",
       "1        боевик    595,928,934.50    733,721,983.00                81.00\n",
       "2       военный  1,017,670,471.80  1,285,906,825.00                79.00\n",
       "6       история  1,455,468,234.57  2,145,062,206.00                68.00\n",
       "18   фантастика  1,718,204,279.39  2,600,241,988.00                66.00\n",
       "8      криминал    239,793,863.00    426,594,781.00                56.00\n",
       "16      триллер    700,450,190.14  1,388,674,821.00                50.00\n",
       "19      фэнтези    995,836,607.97  2,340,123,765.00                43.00\n",
       "13  реальное ТВ     32,721,103.43     80,000,000.00                41.00\n",
       "12  приключения  1,205,596,976.62  3,374,742,189.00                36.00\n",
       "11       мюзикл    101,705,004.98    564,197,472.00                18.00\n",
       "3      детектив    138,547,511.40  1,198,222,297.00                12.00\n",
       "9     мелодрама     54,788,966.23    955,462,322.00                 6.00\n",
       "4       детский      3,013,652.00    183,898,004.00                 2.00"
      ]
     },
     "execution_count": 75,
     "metadata": {},
     "output_type": "execute_result"
    }
   ],
   "source": [
    "#создадим сводную таблицу\n",
    "genre_pay_off = (\n",
    "    gov_support_movies.query('main_genre != \"Жанр не указан\"')\n",
    "                      .pivot_table(index='main_genre', values=['box_office', 'budget'], aggfunc='sum')\n",
    "                      .reset_index()\n",
    ")\n",
    "#изменим названия столбцов\n",
    "genre_pay_off.columns = ['Жанр', 'Сборы', 'Бюджет']\n",
    "#добавим столбец с процентом окупаемости\n",
    "genre_pay_off['Процент окупаемости'] = round((genre_pay_off['Сборы'] / genre_pay_off['Бюджет']) * 100)\n",
    "genre_pay_off.sort_values(by='Процент окупаемости', ascending=False)"
   ]
  },
  {
   "cell_type": "markdown",
   "metadata": {},
   "source": [
    "**Вывод:** Исходя из процента окупаемости, окупились в прокате всего 3 жанра фильмов: спорт, комедии и ужасы. Можем предположить, что спортивные фильмы, комедии и ужасы вызывают у зрителей больший интерес.\n",
    "\n",
    "Фильмы с жанрами мюзикл, детектив, мелодрама и детские имеют самый меньший процент окупаемости. Видимо, такие жанры имеют самое меньшее количество заинтересованных зрителей."
   ]
  },
  {
   "cell_type": "markdown",
   "metadata": {},
   "source": [
    "**Посмотрим на рейтинги фильмов, которые окупились.**"
   ]
  },
  {
   "cell_type": "code",
   "execution_count": 76,
   "metadata": {},
   "outputs": [
    {
     "data": {
      "image/png": "[encoded data removed]",
      "text/plain": [
       "<Figure size 1080x504 with 1 Axes>"
      ]
     },
     "metadata": {
      "needs_background": "light"
     },
     "output_type": "display_data"
    }
   ],
   "source": [
    "#построим столбчатую диаграмму с рейтингами фильмов, которые окупились\n",
    "(\n",
    "    gov_support_movies.query('box_office > budget & ratings != 0')\n",
    "                      .pivot_table(index='title', values='ratings')\n",
    "                      .plot(kind='bar', grid=True, figsize=(15,7))\n",
    ")\n",
    "plt.ylabel('Рейтинг')\n",
    "plt.xlabel('Название фильма')\n",
    "plt.title('Рейтинги фильмов, которые окупились в прокате')\n",
    "plt.show()"
   ]
  },
  {
   "cell_type": "markdown",
   "metadata": {},
   "source": [
    "**Вывод:** Рейтинги фильмов, которые окупились варьируются от 2.9 до 9.4. У большей части таких фильмов рейтинги находятся в диапазоне от 5.0 до 6.0. Фильмы с рейтингом ниже 5.0 могли не оправдать ожидания зрителей, тем не менее, если фильмы окупились, значит достаточное количество зрителей их посмотрело. Это могло быть связано с хорошей рекламной компанией, что привело к тому, что большое количество зрителей в первые дни премьеры покупали билеты.\n",
    "Самым рейтинговым из фильмов, которые окупились, стал \"А зори здесь тихие...\". "
   ]
  },
  {
   "cell_type": "markdown",
   "metadata": {},
   "source": [
    "**Вывод по разделу:** У фильмов есть 3 источника госфинансирования фильмов: Министерство Культуры, Фонд кино и совместное финансирование - Министерство Культуры + Фонд кино. Видим, что фильмы, представленные в нашем датафрейме, получали господдержку с 2013 года и с каждым годом поддержка статистически увеличивалась. Лидером по госфинансированию является Фонд кино, Министерство культуры идет на 2 месте, общее финансирование - меньше всего. \n",
    "\n",
    "Увеличение с годами госфинансирования кинематографа связано с высоким уровнем поддержки государства, благодаря введенным Президентом РФ законам о поддержке кинематографа. В 2017 году снижение финансирования Министерством культуры может быть связано с проведенной Министерством реформой и ужесточением требований к получению финансирования, возможно в связи с этим увеличилась поддрежка со стороны Фонда кино.\n",
    "\n",
    "В общей сложности в период с 2013 по 2019 годы Министерством культуры было выделенио почти 11,5 млрд рублей, Фондом кино - почти 30,4 млрд рублей, совместное финансирование - почти 2,7 млрд рублей. Суммарно государственное финансирование кинематографа с 2013 по 2019 годы составило 44,5 млрд рублей.\n",
    "\n",
    "Из 332 фильмов, заручившихся госфинансированием, окупились 73, а не окупились - 259. В общем итоге, окупаемость таких фильмов составляет 22%. Что не такая уж большая цифра для потраченного на финансирование бюджета.\n",
    "Больше всего финансирования было выделено для фильмов с жанре \"драма. Меньше всего финансирования получили фильмы в жанре \"реальное ТВ\", но такой фильм всего один.\n",
    "\n",
    "Окупились в прокате всего 3 жанра фильмов: спорт, комедии и ужасы. Можем предположить, что спортивные фильмы, комедии и ужасы вызывают у зрителей больший интерес. Фильмы с жанрами мюзикл, детектив, мелодрама и детские имеют самый меньший процент окупаемости. Видимо, такие жанры имеют самое меньшее количество заинтересованных зрителей.\n",
    "\n",
    "Рейтинги фильмов, которые окупились варьируются от 2.9 до 9.4. У большей части таких фильмов рейтинги находятся в диапазоне от 5.0 до 6.0. Фильмы с рейтингом ниже 5.0 могли не оправдать ожидания зрителей, тем не менее, если фильмы окупились, значит достаточное количество зрителей их посмотрело. Это могло быть связано с хорошей рекламной компанией, что привело к тому, что большое количество зрителей в первые дни премьеры покупали билеты.\n",
    "Самым рейтинговым из фильмов, которые окупились, стал \"А зори здесь тихие...\"."
   ]
  },
  {
   "cell_type": "markdown",
   "metadata": {
    "id": "V2gYwMcPgFyd"
   },
   "source": [
    "### Шаг 5. Напишите общий вывод"
   ]
  },
  {
   "cell_type": "markdown",
   "metadata": {},
   "source": [
    "В данном исследовании мы изучили рынок российского кинопроката.\n",
    "\n",
    "Для этого мы провели ознакомление с предоставленными нам данными. Обнаружили 2 посторонних значения. Произвели замену типа данных в столбце puNumber датасета mkrf_movies. По этому же столбцу и объединили наши датасеты.\n",
    "Проверяя типы данных мы обнаружили, что в столбцах show_start_date и ratings типы данных не совпадают с ожидаемыми. Столбец show_start_date привели к типу данных datetime. В столбце со значениями рейтинга ситуация обстояла сложнее: мы обнаружили пропуски, которые заменили на 0, т.к. предположительно это фильмы, которые только вышли в прокат, и процентные значения, где мы брали обозначение процента \"%\", заменили тип данных на float и поделили эти процентные числа на 10, чтобы привести их к ожидаемому формату.\n",
    "\n",
    "Пропуски наблюдались в столбцах puNumber, film_studio, production_country, director, producer, refundable_support, nonrefundable_support, budget, financing_source и genres. В столбце puNumber мы отбросили строку с пропуском, т.к. он был всего 1 и на исследование это не повлияет. В столбцах film_studio, production_country, director, producer и genres пропуски были заменены на \"Студия не указана\", \"Страна не указана\", \"Режиссер не указан\", \"Продюсер не указан\", \"Жанр не указан\" соответственно. В столбцах refundable_support, nonrefundable_support и budget пропуски заменим на 0, т.к. это фильмы, которые не получили государственной финансовой поддержки и, предположительно, финансировались из других источников. В столбце financing_source на место пропущенных источников финансирования можем поставить \"Иное\", т.к. мы предполагаем, что это негосударственные источники. В столбце box_office заменили пропуски на 0, т.к. такими данными мы не обладаем, а большую часть данных из датафрейма удалять нецелесообразно. Эти данные, если они имеются, можно уточнить у сотрудников или уточнить причину их отсутствия.\n",
    "\n",
    "При поиске дубликатов, мы обнаружили 8 фильмов с одинаковыми названиями, но с разными прокатными удостоверениями. Удалять такие дубликаты мы не стали, т.к. фильмы могут получать несколько прокатных удостоверений для разного использования. Далее мы обнаружили 2 пары фльмов с одинаковыми номерами прокатных удостоверений, но разными названиями. Для обработки таких дублей у фильмов \"Как жениться и остаться холостым.\" и \"Анализируй это!\" сделали допущение и заменили дублированные номера прокатных удостоверений на свободные. Номера прокатных удостоверений могли продублироваться в связи с тем, что фильм перезапускали, как в случае с фильмом \"Как жениться и остаться холостым.\", либо по ошибке, как в случае с фильмом \"Анализируй это!\". Данную информацию следует еще подробней уточнить у сотрудников.\n",
    "\n",
    "Общей проблемой во всех столбцах с категоральными значениям было большое количество пропусков. В столбце type были найдены пробелы, которые мы впоследствие убрали, тем самым убрав неявные дубли значений. В столбце genres обратили внимание на большое количество ячеек с вариацией из нескольких жанров.\n",
    "\n",
    "Проверяя количественные столбцы на аномалии выявили, что в столбце со сборами есть слишком маленькие нереальные значения, которые могут быть ошибкой в заполнении данных. В столбцах с возвратными, невозвратными средствами, бюджетом и рейтингом все данные могут быть вполне реальными, просто иметь большой разброс. Также были найдены 2 фильма с государственой поддержкой, но не имеющих сборов. Это могут быть фильмы, которые только вышли в прокат, либо данные об этих фильмах еще не обновлены. Так же нашли некоторое количество фильмов, у которых есть господдержка, но при этом бюджет у них 0. Эти данные мы заполнили, рассчитав медианный процент.\n",
    "\n",
    "Для лучшего анализа мы добавили новые столбцы:\n",
    "show_start_year - столбец с годом выхода фильма.\n",
    "main_director - столбец с именем и фамилией главного режиссера. Для создания этого столбца выделили первое имя в столбце director, предположив, что именно первое имя является главным.\n",
    "main_genre - столбец с названием главного жанра. Создавали столбец по тому же принципу, что и предыдущий.\n",
    "gov_support_share - столбец с долей господдержки. Расчет доли произвели, сложив объем возвратных и невозвратных средств и, поделив сумму на общий бюджет. У тех фильмов, где доля равна 0% - господдержки не было.\n",
    "\n",
    "В ходе исследования выявили следующие закономерности.\n",
    "\n",
    "С 2010 по 2016 годы количество вышедших в прокат фильмов увеличивалось. В 2017 году произошел резкий спад. В 2019 году количество фильмов, вышедших в прокат, вернулось на прежний уровень 2016 года. Возможно, что резкий спад выхода фильмов в прокат был связан с новой реформой Министерства Культуры, которая предусматривает увеличение платы за выход фильмов в прокат и создание комиссии, которая решает, какие фильмы от этого взноса освободить.\n",
    "\n",
    "Доля фильмов с информацией о выходе в прокат плавно увеличивалась с 2010 по 2014 годы, достигла своих пиков в 2015-2017 годах и немного снизилась с 2018 года. Можем предположить, что пики в 2015-2017 годах связаны с более качественными по содержанию кинопремьерами, которые допущены к прокату. Также это может быть связано с так называемым прорывом в российском кинематографе, что следует из многих статей. Спад в 2018-2019 годах может быть опять же связан с реформой 2017 года, описанной нами выше.\n",
    "Полнее всего в данных представлен период с 2015 по 2019 года.\n",
    "\n",
    "Сумма сборов начала резко увеличиваться с 2013 года, с 2016 года была примерно на одном уровне. Тем не менее минимальная сумма сборов зафиксирована в 2010 году, а максимальная в 2018 году. Это может быть связано с улучшением качества выпускаемых кинокартин.\n",
    "\n",
    "Средняя сумма сборов намного больше, чем медианная. Это может говорить о том, что сумма сборов большей части фильмов невысокая, но также есть фильмы, которые были достаточно популярны у зрителей и принесли достаточно хорошую долю от проката.\n",
    "\n",
    "В 2015 году лидерство по сборам было у фильмов \"12+\". К 2017 году лидерство перешло к фильмам \"16+\". В это время фильмы \"12+\" достигли своего минимума, это может быть связано с пересыщением ими рынка. Фильмы \"6+\" и \"18+\" с 2015 по 2019 годы имели одинаковую динамику, при этом фильмы \"6+\" имели большие сборы. к 2019 году фильмы \"16+\", \"12+\" и \"6+\" сравнялись по сумме сборов, фильмы \"18+\" расположились немного ниже. Все это время фильмы категории \"0+\" имели достаточно низкую сумму сборов и были в аутсайдерах. Получилось очень интересное распределение. Самый большой интерес у зрителей вызывали фильмы \"16+\", а самый низкий - фильмы \"0+\". Можем предположить, что это может быть связано с количеством фильмов, снятых по каждой категории.\n",
    "\n",
    "Далее рассмотрели фильмы, заручившиеся государственной поддержкой. Установили следующие закономерности.\n",
    "\n",
    "Всего фильмы финансируются тремя источниками: Министерство Культуры, Фонд кино и совместное финансирование - Министерство Культуры + Фонд кино. Видим, что фильмы, представленные в нашем датафрейме, получали господдержку с 2013 года и с каждым годом поддержка статистически увеличивалась. Лидером по госфинансированию является Фонд кино, Министерство культуры идет на 2 месте, общее финансирование - меньше всего. Финансирование Министерством культуры и общее снизилось в 2017 году и потом к 2019 году выросло вновь. Финансирование Фондом кино было как раз достаточно высоким, а к 2018 неким образом снизилось, но уже к 2019 году достигло своего пика. Динамика совместного финансирования Министерства Культуры с Фондом кино оставалось на низком уровне, с 2013 по 2015 года увеличивалось, в 2015 году достигла пика и к 2017 резко снизилось, далее незначительно увеличилось к 2019 году.\n",
    "\n",
    "Увеличение с годами госфинансирования кинематографа связано с высоким уровнем поддержки государства, благодаря введенным Президентом РФ законам о поддержке кинематографа. В 2017 году снижение финансирования Министерством культуры может быть связано с проведенной Министерством реформой и ужесточением требований к получению финансирования, возможно в связи с этим увеличилась поддрежка со стороны Фонда кино.\n",
    "\n",
    "В общей сложности в период с 2013 по 2019 годы Министерством культуры было выделенио почти 11,5 млрд рублей, Фондом кино - почти 30,4 млрд рублей, совместное финансирование - почти 2,7 млрд рублей, в качестве господдержки фильмов. Суммарно государственное финансирование кинематографа с 2013 по 2019 годы составило 44,5 млрд рублей.\n",
    "\n",
    "Из 332 фильмов, заручившихся госфинансированием, окупились 73, а не окупились - 259. В общем итоге, окупаемость таких фильмов составляет 22%. Что не такая уж большая цифра для протраченного на финансирование бюджета.\n",
    "\n",
    "Больше всего финансирования было выделено для фильмов с жанре \"драма\", при этом за весь период исследования их было снято больше всего - 93 фильма. Комедии стоят на втором месте по выделенному бюджеты, снято их 74 штуки. На третьем месте идут мультфильмы и количество их 31.\n",
    "\n",
    "Меньше всего финансирования получили фильмы в жанре \"реальное ТВ\", но такой фильм всего один.\n",
    "\n",
    "Исходя из процента окупаемости, окупились в прокате всего 3 жанра фильмов: спорт, комедии и ужасы. Можно предположить, что спортивные фильмы, комедии и ужасы вызывают у зрителей больший интерес.\n",
    "Фильмы с жанрами мюзикл, детектив, мелодрама и детские имеют самый меньший процент окупаемости. Видимо, такие жанры имеют самое меньшее количество заинтересованных зрителей.\n",
    "\n",
    "Рейтинги фильмов, которые окупились варьируются от 2.9 до 9.4. У большей части таких фильмов рейтинги находятся в диапазоне от 5.0 до 6.0. Есть фильмы с рейтингом ниже 5.0. Фильмы с рейтингом ниже 5.0 могли не оправдать ожидания зрителей, тем не менее, если фильмы окупились, значит достаточное количество зрителей их посмотрело. Это могло быть связано с хорошей рекламной компанией, что привело к тому, что большое количество зрителей в первые дни премьеры покупали билеты. Самым рейтинговым из фильмов, которые окупились, стал \"А зори здесь тихие...\".\n",
    "\n",
    "Также хочется дополнить, что, несмотря на то, что не так много фильмов, заручившихся господдержкой, окупаются в прокате, государственное финансирование отечественного кинематографа **несомненно** стоит продолжать. Выбирая фильмы для финансирования, государственным источникам стоит обратить внимание на фильмы в тех жанрах, которые интересуют зрителя больше всего, а именно спортивные фильмы, комедии и ужасы. Также государственным источникам необходимо учитывать и содержание сюжета фильма, который они собираются взять на господдержку."
   ]
  }
 ],
 "metadata": {
  "ExecuteTimeLog": [
   {
    "duration": 537,
    "start_time": "2021-07-07T10:12:08.634Z"
   },
   {
    "duration": 206,
    "start_time": "2021-07-07T10:12:30.191Z"
   },
   {
    "duration": 227,
    "start_time": "2021-07-07T10:12:33.078Z"
   },
   {
    "duration": 153,
    "start_time": "2021-07-07T10:13:42.146Z"
   },
   {
    "duration": 233,
    "start_time": "2021-07-07T10:30:09.252Z"
   },
   {
    "duration": 19,
    "start_time": "2021-07-07T10:30:15.577Z"
   },
   {
    "duration": 18,
    "start_time": "2021-07-07T10:30:57.348Z"
   },
   {
    "duration": 19,
    "start_time": "2021-07-07T10:31:17.452Z"
   },
   {
    "duration": 21,
    "start_time": "2021-07-07T10:31:32.227Z"
   },
   {
    "duration": 27,
    "start_time": "2021-07-07T10:32:06.588Z"
   },
   {
    "duration": 23,
    "start_time": "2021-07-07T10:32:43.645Z"
   },
   {
    "duration": 24,
    "start_time": "2021-07-07T10:33:06.948Z"
   },
   {
    "duration": 7,
    "start_time": "2021-07-07T10:33:28.558Z"
   },
   {
    "duration": 23,
    "start_time": "2021-07-07T10:33:43.761Z"
   },
   {
    "duration": 28,
    "start_time": "2021-07-07T10:34:13.466Z"
   },
   {
    "duration": 23,
    "start_time": "2021-07-07T10:35:56.187Z"
   },
   {
    "duration": 6,
    "start_time": "2021-07-07T10:36:48.182Z"
   },
   {
    "duration": 14,
    "start_time": "2021-07-07T10:37:49.641Z"
   },
   {
    "duration": 6,
    "start_time": "2021-07-07T10:38:06.694Z"
   },
   {
    "duration": 6,
    "start_time": "2021-07-07T10:38:13.493Z"
   },
   {
    "duration": 19,
    "start_time": "2021-07-07T10:38:44.056Z"
   },
   {
    "duration": 186,
    "start_time": "2021-07-07T10:48:35.618Z"
   },
   {
    "duration": 24,
    "start_time": "2021-07-07T10:48:51.498Z"
   },
   {
    "duration": 20,
    "start_time": "2021-07-07T10:48:59.415Z"
   },
   {
    "duration": 20,
    "start_time": "2021-07-07T10:53:02.195Z"
   },
   {
    "duration": 188,
    "start_time": "2021-07-07T10:54:40.486Z"
   },
   {
    "duration": 115,
    "start_time": "2021-07-07T10:54:52.552Z"
   },
   {
    "duration": 214,
    "start_time": "2021-07-07T10:54:56.354Z"
   },
   {
    "duration": 47,
    "start_time": "2021-07-07T10:54:58.282Z"
   },
   {
    "duration": 217,
    "start_time": "2021-07-07T10:59:16.075Z"
   },
   {
    "duration": 51,
    "start_time": "2021-07-07T10:59:16.243Z"
   },
   {
    "duration": 578,
    "start_time": "2021-07-07T10:59:18.774Z"
   },
   {
    "duration": 161,
    "start_time": "2021-07-07T10:59:21.238Z"
   },
   {
    "duration": 59,
    "start_time": "2021-07-07T10:59:21.453Z"
   },
   {
    "duration": 3,
    "start_time": "2021-07-07T11:02:10.786Z"
   },
   {
    "duration": 13,
    "start_time": "2021-07-07T11:07:07.722Z"
   },
   {
    "duration": 26,
    "start_time": "2021-07-07T11:07:17.958Z"
   },
   {
    "duration": 22,
    "start_time": "2021-07-07T11:08:17.939Z"
   },
   {
    "duration": 212,
    "start_time": "2021-07-07T11:08:19.665Z"
   },
   {
    "duration": 21,
    "start_time": "2021-07-07T11:08:29.945Z"
   },
   {
    "duration": 31,
    "start_time": "2021-07-07T11:08:38.899Z"
   },
   {
    "duration": 23,
    "start_time": "2021-07-07T11:08:54.527Z"
   },
   {
    "duration": 8,
    "start_time": "2021-07-07T11:18:55.974Z"
   },
   {
    "duration": 7,
    "start_time": "2021-07-07T11:19:03.639Z"
   },
   {
    "duration": 7,
    "start_time": "2021-07-07T11:19:06.444Z"
   },
   {
    "duration": 578,
    "start_time": "2021-07-07T12:09:59.576Z"
   },
   {
    "duration": 195,
    "start_time": "2021-07-07T12:10:00.156Z"
   },
   {
    "duration": 115,
    "start_time": "2021-07-07T12:10:00.353Z"
   },
   {
    "duration": 3,
    "start_time": "2021-07-07T12:10:00.470Z"
   },
   {
    "duration": 32,
    "start_time": "2021-07-07T12:10:00.474Z"
   },
   {
    "duration": 23,
    "start_time": "2021-07-07T12:10:00.508Z"
   },
   {
    "duration": 19,
    "start_time": "2021-07-07T12:10:00.533Z"
   },
   {
    "duration": 44,
    "start_time": "2021-07-07T12:10:00.553Z"
   },
   {
    "duration": 7,
    "start_time": "2021-07-07T12:10:00.600Z"
   },
   {
    "duration": 7,
    "start_time": "2021-07-07T12:19:45.761Z"
   },
   {
    "duration": 21,
    "start_time": "2021-07-07T12:21:35.482Z"
   },
   {
    "duration": 21,
    "start_time": "2021-07-07T12:29:23.569Z"
   },
   {
    "duration": 525,
    "start_time": "2021-07-07T12:29:44.542Z"
   },
   {
    "duration": 214,
    "start_time": "2021-07-07T12:29:45.069Z"
   },
   {
    "duration": 92,
    "start_time": "2021-07-07T12:29:45.285Z"
   },
   {
    "duration": 3,
    "start_time": "2021-07-07T12:29:45.379Z"
   },
   {
    "duration": 28,
    "start_time": "2021-07-07T12:29:45.384Z"
   },
   {
    "duration": 23,
    "start_time": "2021-07-07T12:29:45.413Z"
   },
   {
    "duration": 21,
    "start_time": "2021-07-07T12:29:45.437Z"
   },
   {
    "duration": 41,
    "start_time": "2021-07-07T12:29:45.460Z"
   },
   {
    "duration": 7,
    "start_time": "2021-07-07T12:29:45.502Z"
   },
   {
    "duration": 20,
    "start_time": "2021-07-07T12:29:45.511Z"
   },
   {
    "duration": 12,
    "start_time": "2021-07-07T12:34:02.800Z"
   },
   {
    "duration": 7,
    "start_time": "2021-07-07T12:35:10.479Z"
   },
   {
    "duration": 8,
    "start_time": "2021-07-07T12:35:22.440Z"
   },
   {
    "duration": 6,
    "start_time": "2021-07-07T12:35:35.649Z"
   },
   {
    "duration": 6,
    "start_time": "2021-07-07T12:35:43.107Z"
   },
   {
    "duration": 22,
    "start_time": "2021-07-07T12:38:03.029Z"
   },
   {
    "duration": 10,
    "start_time": "2021-07-07T12:38:06.592Z"
   },
   {
    "duration": 563,
    "start_time": "2021-07-07T12:38:46.493Z"
   },
   {
    "duration": 265,
    "start_time": "2021-07-07T12:38:47.058Z"
   },
   {
    "duration": 94,
    "start_time": "2021-07-07T12:38:47.325Z"
   },
   {
    "duration": 3,
    "start_time": "2021-07-07T12:38:47.422Z"
   },
   {
    "duration": 30,
    "start_time": "2021-07-07T12:38:47.427Z"
   },
   {
    "duration": 16,
    "start_time": "2021-07-07T12:38:53.305Z"
   },
   {
    "duration": 10,
    "start_time": "2021-07-07T12:38:53.499Z"
   },
   {
    "duration": 8,
    "start_time": "2021-07-07T12:39:48.161Z"
   },
   {
    "duration": 27,
    "start_time": "2021-07-07T12:41:17.629Z"
   },
   {
    "duration": 17,
    "start_time": "2021-07-07T12:41:17.867Z"
   },
   {
    "duration": 21,
    "start_time": "2021-07-07T12:41:19.310Z"
   },
   {
    "duration": 7,
    "start_time": "2021-07-07T12:41:19.544Z"
   },
   {
    "duration": 20,
    "start_time": "2021-07-07T12:41:20.504Z"
   },
   {
    "duration": 554,
    "start_time": "2021-07-07T12:56:23.696Z"
   },
   {
    "duration": 200,
    "start_time": "2021-07-07T12:56:25.234Z"
   },
   {
    "duration": 119,
    "start_time": "2021-07-07T12:56:25.480Z"
   },
   {
    "duration": 4,
    "start_time": "2021-07-07T12:56:25.762Z"
   },
   {
    "duration": 26,
    "start_time": "2021-07-07T12:56:27.172Z"
   },
   {
    "duration": 12,
    "start_time": "2021-07-07T12:56:29.051Z"
   },
   {
    "duration": 10,
    "start_time": "2021-07-07T12:56:29.291Z"
   },
   {
    "duration": 8,
    "start_time": "2021-07-07T12:56:29.623Z"
   },
   {
    "duration": 28,
    "start_time": "2021-07-07T12:56:32.137Z"
   },
   {
    "duration": 19,
    "start_time": "2021-07-07T12:56:39.785Z"
   },
   {
    "duration": 20,
    "start_time": "2021-07-07T12:56:44.297Z"
   },
   {
    "duration": 7,
    "start_time": "2021-07-07T12:56:45.392Z"
   },
   {
    "duration": 23,
    "start_time": "2021-07-07T12:56:46.615Z"
   },
   {
    "duration": 4,
    "start_time": "2021-07-07T12:57:06.625Z"
   },
   {
    "duration": 32,
    "start_time": "2021-07-07T12:57:36.690Z"
   },
   {
    "duration": 18,
    "start_time": "2021-07-07T12:58:00.149Z"
   },
   {
    "duration": 15,
    "start_time": "2021-07-07T12:59:16.793Z"
   },
   {
    "duration": 7,
    "start_time": "2021-07-07T13:19:22.624Z"
   },
   {
    "duration": 6,
    "start_time": "2021-07-07T14:17:33.527Z"
   },
   {
    "duration": 9,
    "start_time": "2021-07-07T14:17:48.409Z"
   },
   {
    "duration": 8,
    "start_time": "2021-07-07T14:20:13.060Z"
   },
   {
    "duration": 8,
    "start_time": "2021-07-07T14:20:37.957Z"
   },
   {
    "duration": 8,
    "start_time": "2021-07-07T14:20:47.470Z"
   },
   {
    "duration": 9,
    "start_time": "2021-07-07T14:20:54.503Z"
   },
   {
    "duration": 10,
    "start_time": "2021-07-07T14:28:57.763Z"
   },
   {
    "duration": 3,
    "start_time": "2021-07-07T14:30:23.377Z"
   },
   {
    "duration": 3,
    "start_time": "2021-07-07T14:30:36.489Z"
   },
   {
    "duration": 103,
    "start_time": "2021-07-07T14:30:52.351Z"
   },
   {
    "duration": 8,
    "start_time": "2021-07-07T14:30:54.763Z"
   },
   {
    "duration": 8,
    "start_time": "2021-07-07T14:31:29.301Z"
   },
   {
    "duration": 13,
    "start_time": "2021-07-07T14:31:44.516Z"
   },
   {
    "duration": 7,
    "start_time": "2021-07-07T14:33:10.972Z"
   },
   {
    "duration": 11,
    "start_time": "2021-07-07T14:33:27.780Z"
   },
   {
    "duration": 8,
    "start_time": "2021-07-07T14:34:44.588Z"
   },
   {
    "duration": 57,
    "start_time": "2021-07-07T14:35:59.042Z"
   },
   {
    "duration": 3,
    "start_time": "2021-07-07T14:36:28.168Z"
   },
   {
    "duration": 5,
    "start_time": "2021-07-07T14:36:46.254Z"
   },
   {
    "duration": 4,
    "start_time": "2021-07-07T14:36:52.714Z"
   },
   {
    "duration": 3,
    "start_time": "2021-07-07T14:36:56.612Z"
   },
   {
    "duration": 4,
    "start_time": "2021-07-07T14:36:57.049Z"
   },
   {
    "duration": 3,
    "start_time": "2021-07-07T14:39:21.214Z"
   },
   {
    "duration": 7,
    "start_time": "2021-07-07T14:39:52.406Z"
   },
   {
    "duration": 11,
    "start_time": "2021-07-07T14:39:58.576Z"
   },
   {
    "duration": 9,
    "start_time": "2021-07-07T14:40:26.301Z"
   },
   {
    "duration": 10,
    "start_time": "2021-07-07T14:40:31.704Z"
   },
   {
    "duration": 11,
    "start_time": "2021-07-07T14:40:36.249Z"
   },
   {
    "duration": 10,
    "start_time": "2021-07-07T14:40:39.783Z"
   },
   {
    "duration": 9,
    "start_time": "2021-07-07T14:40:48.558Z"
   },
   {
    "duration": 10,
    "start_time": "2021-07-07T14:40:57.143Z"
   },
   {
    "duration": 9,
    "start_time": "2021-07-07T14:41:06.074Z"
   },
   {
    "duration": 4324,
    "start_time": "2021-07-07T14:41:22.004Z"
   },
   {
    "duration": 11,
    "start_time": "2021-07-07T14:41:33.392Z"
   },
   {
    "duration": 9,
    "start_time": "2021-07-07T14:41:39.288Z"
   },
   {
    "duration": 569,
    "start_time": "2021-07-07T14:42:14.387Z"
   },
   {
    "duration": 197,
    "start_time": "2021-07-07T14:42:14.959Z"
   },
   {
    "duration": 84,
    "start_time": "2021-07-07T14:42:16.052Z"
   },
   {
    "duration": 4,
    "start_time": "2021-07-07T14:42:16.900Z"
   },
   {
    "duration": 27,
    "start_time": "2021-07-07T14:42:19.898Z"
   },
   {
    "duration": 12,
    "start_time": "2021-07-07T14:42:21.577Z"
   },
   {
    "duration": 9,
    "start_time": "2021-07-07T14:42:21.813Z"
   },
   {
    "duration": 9,
    "start_time": "2021-07-07T14:42:22.569Z"
   },
   {
    "duration": 29,
    "start_time": "2021-07-07T14:42:25.837Z"
   },
   {
    "duration": 20,
    "start_time": "2021-07-07T14:42:27.003Z"
   },
   {
    "duration": 21,
    "start_time": "2021-07-07T14:42:28.767Z"
   },
   {
    "duration": 7,
    "start_time": "2021-07-07T14:42:29.838Z"
   },
   {
    "duration": 4,
    "start_time": "2021-07-07T14:43:25.493Z"
   },
   {
    "duration": 7,
    "start_time": "2021-07-07T14:43:26.573Z"
   },
   {
    "duration": 10,
    "start_time": "2021-07-07T14:43:31.639Z"
   },
   {
    "duration": 9,
    "start_time": "2021-07-07T14:43:32.046Z"
   },
   {
    "duration": 10,
    "start_time": "2021-07-07T14:43:33.301Z"
   },
   {
    "duration": 12,
    "start_time": "2021-07-07T14:43:33.658Z"
   },
   {
    "duration": 8,
    "start_time": "2021-07-07T14:43:34.552Z"
   },
   {
    "duration": 9,
    "start_time": "2021-07-07T14:43:35.058Z"
   },
   {
    "duration": 12,
    "start_time": "2021-07-07T14:43:35.914Z"
   },
   {
    "duration": 17,
    "start_time": "2021-07-07T14:45:34.368Z"
   },
   {
    "duration": 512,
    "start_time": "2021-07-07T14:51:58.236Z"
   },
   {
    "duration": 223,
    "start_time": "2021-07-07T14:51:58.750Z"
   },
   {
    "duration": 93,
    "start_time": "2021-07-07T14:51:58.977Z"
   },
   {
    "duration": 4,
    "start_time": "2021-07-07T14:51:59.071Z"
   },
   {
    "duration": 37,
    "start_time": "2021-07-07T14:51:59.077Z"
   },
   {
    "duration": 18,
    "start_time": "2021-07-07T14:51:59.116Z"
   },
   {
    "duration": 10,
    "start_time": "2021-07-07T14:51:59.137Z"
   },
   {
    "duration": 8,
    "start_time": "2021-07-07T14:51:59.149Z"
   },
   {
    "duration": 54,
    "start_time": "2021-07-07T14:51:59.158Z"
   },
   {
    "duration": 18,
    "start_time": "2021-07-07T14:51:59.213Z"
   },
   {
    "duration": 22,
    "start_time": "2021-07-07T14:51:59.232Z"
   },
   {
    "duration": 36,
    "start_time": "2021-07-07T14:51:59.255Z"
   },
   {
    "duration": 7,
    "start_time": "2021-07-07T14:51:59.293Z"
   },
   {
    "duration": 10,
    "start_time": "2021-07-07T14:51:59.302Z"
   },
   {
    "duration": 9,
    "start_time": "2021-07-07T14:51:59.313Z"
   },
   {
    "duration": 11,
    "start_time": "2021-07-07T14:51:59.324Z"
   },
   {
    "duration": 8,
    "start_time": "2021-07-07T14:51:59.337Z"
   },
   {
    "duration": 46,
    "start_time": "2021-07-07T14:51:59.347Z"
   },
   {
    "duration": 22,
    "start_time": "2021-07-07T14:51:59.395Z"
   },
   {
    "duration": 24,
    "start_time": "2021-07-07T14:57:32.911Z"
   },
   {
    "duration": 7,
    "start_time": "2021-07-07T14:58:22.070Z"
   },
   {
    "duration": 4,
    "start_time": "2021-07-07T14:59:11.239Z"
   },
   {
    "duration": 25,
    "start_time": "2021-07-07T15:07:22.208Z"
   },
   {
    "duration": 16,
    "start_time": "2021-07-07T15:08:25.560Z"
   },
   {
    "duration": 15,
    "start_time": "2021-07-07T15:08:40.647Z"
   },
   {
    "duration": 14,
    "start_time": "2021-07-07T15:08:46.669Z"
   },
   {
    "duration": 533,
    "start_time": "2021-07-07T15:18:07.440Z"
   },
   {
    "duration": 173,
    "start_time": "2021-07-07T15:18:07.974Z"
   },
   {
    "duration": 84,
    "start_time": "2021-07-07T15:18:08.149Z"
   },
   {
    "duration": 3,
    "start_time": "2021-07-07T15:18:08.235Z"
   },
   {
    "duration": 30,
    "start_time": "2021-07-07T15:18:08.240Z"
   },
   {
    "duration": 22,
    "start_time": "2021-07-07T15:18:08.272Z"
   },
   {
    "duration": 11,
    "start_time": "2021-07-07T15:18:08.295Z"
   },
   {
    "duration": 11,
    "start_time": "2021-07-07T15:18:08.309Z"
   },
   {
    "duration": 40,
    "start_time": "2021-07-07T15:18:08.322Z"
   },
   {
    "duration": 42,
    "start_time": "2021-07-07T15:18:08.364Z"
   },
   {
    "duration": 22,
    "start_time": "2021-07-07T15:18:08.408Z"
   },
   {
    "duration": 5,
    "start_time": "2021-07-07T15:18:08.432Z"
   },
   {
    "duration": 13,
    "start_time": "2021-07-07T15:18:08.439Z"
   },
   {
    "duration": 9,
    "start_time": "2021-07-07T15:18:08.454Z"
   },
   {
    "duration": 32,
    "start_time": "2021-07-07T15:18:08.465Z"
   },
   {
    "duration": 10,
    "start_time": "2021-07-07T15:18:08.501Z"
   },
   {
    "duration": 7,
    "start_time": "2021-07-07T15:18:08.513Z"
   },
   {
    "duration": 11,
    "start_time": "2021-07-07T15:18:08.521Z"
   },
   {
    "duration": 17,
    "start_time": "2021-07-07T15:18:08.534Z"
   },
   {
    "duration": 44,
    "start_time": "2021-07-07T15:18:08.553Z"
   },
   {
    "duration": 22,
    "start_time": "2021-07-07T15:18:08.599Z"
   },
   {
    "duration": 61,
    "start_time": "2021-07-07T15:18:08.622Z"
   },
   {
    "duration": 7,
    "start_time": "2021-07-07T15:18:39.457Z"
   },
   {
    "duration": 5,
    "start_time": "2021-07-07T16:05:17.020Z"
   },
   {
    "duration": 5,
    "start_time": "2021-07-07T16:51:28.794Z"
   },
   {
    "duration": 546,
    "start_time": "2021-07-07T16:52:26.306Z"
   },
   {
    "duration": 203,
    "start_time": "2021-07-07T16:52:27.523Z"
   },
   {
    "duration": 85,
    "start_time": "2021-07-07T16:52:27.736Z"
   },
   {
    "duration": 4,
    "start_time": "2021-07-07T16:52:27.899Z"
   },
   {
    "duration": 25,
    "start_time": "2021-07-07T16:52:28.674Z"
   },
   {
    "duration": 8,
    "start_time": "2021-07-07T16:52:32.956Z"
   },
   {
    "duration": 18,
    "start_time": "2021-07-07T16:52:35.616Z"
   },
   {
    "duration": 6,
    "start_time": "2021-07-07T16:52:36.913Z"
   },
   {
    "duration": 11,
    "start_time": "2021-07-07T16:52:40.258Z"
   },
   {
    "duration": 10,
    "start_time": "2021-07-07T16:52:46.251Z"
   },
   {
    "duration": 8,
    "start_time": "2021-07-07T16:52:47.182Z"
   },
   {
    "duration": 27,
    "start_time": "2021-07-07T16:53:20.391Z"
   },
   {
    "duration": 20,
    "start_time": "2021-07-07T16:53:22.022Z"
   },
   {
    "duration": 23,
    "start_time": "2021-07-07T16:53:23.690Z"
   },
   {
    "duration": 8,
    "start_time": "2021-07-07T16:53:24.261Z"
   },
   {
    "duration": 4,
    "start_time": "2021-07-07T16:53:38.733Z"
   },
   {
    "duration": 7,
    "start_time": "2021-07-07T16:53:40.445Z"
   },
   {
    "duration": 11,
    "start_time": "2021-07-07T16:53:41.348Z"
   },
   {
    "duration": 13,
    "start_time": "2021-07-07T16:53:45.250Z"
   },
   {
    "duration": 12,
    "start_time": "2021-07-07T16:53:45.467Z"
   },
   {
    "duration": 4,
    "start_time": "2021-07-07T16:55:32.704Z"
   },
   {
    "duration": 12,
    "start_time": "2021-07-07T16:55:49.012Z"
   },
   {
    "duration": 18,
    "start_time": "2021-07-07T16:55:49.547Z"
   },
   {
    "duration": 611,
    "start_time": "2021-07-07T16:58:35.156Z"
   },
   {
    "duration": 200,
    "start_time": "2021-07-07T16:58:35.770Z"
   },
   {
    "duration": 86,
    "start_time": "2021-07-07T16:58:35.972Z"
   },
   {
    "duration": 3,
    "start_time": "2021-07-07T16:58:36.060Z"
   },
   {
    "duration": 27,
    "start_time": "2021-07-07T16:58:36.065Z"
   },
   {
    "duration": 8,
    "start_time": "2021-07-07T16:58:36.094Z"
   },
   {
    "duration": 17,
    "start_time": "2021-07-07T16:58:36.103Z"
   },
   {
    "duration": 5,
    "start_time": "2021-07-07T16:58:36.123Z"
   },
   {
    "duration": 11,
    "start_time": "2021-07-07T16:58:36.130Z"
   },
   {
    "duration": 7,
    "start_time": "2021-07-07T16:58:36.143Z"
   },
   {
    "duration": 37,
    "start_time": "2021-07-07T16:58:36.152Z"
   },
   {
    "duration": 27,
    "start_time": "2021-07-07T16:58:36.191Z"
   },
   {
    "duration": 19,
    "start_time": "2021-07-07T16:58:36.219Z"
   },
   {
    "duration": 49,
    "start_time": "2021-07-07T16:58:36.240Z"
   },
   {
    "duration": 6,
    "start_time": "2021-07-07T16:58:36.291Z"
   },
   {
    "duration": 3,
    "start_time": "2021-07-07T16:58:36.299Z"
   },
   {
    "duration": 13,
    "start_time": "2021-07-07T16:58:36.304Z"
   },
   {
    "duration": 10,
    "start_time": "2021-07-07T16:58:36.319Z"
   },
   {
    "duration": 10,
    "start_time": "2021-07-07T16:58:36.331Z"
   },
   {
    "duration": 44,
    "start_time": "2021-07-07T16:58:36.343Z"
   },
   {
    "duration": 4,
    "start_time": "2021-07-07T16:58:36.388Z"
   },
   {
    "duration": 13,
    "start_time": "2021-07-07T16:58:36.394Z"
   },
   {
    "duration": 16,
    "start_time": "2021-07-07T16:58:36.410Z"
   },
   {
    "duration": 8,
    "start_time": "2021-07-07T17:02:31.629Z"
   },
   {
    "duration": 8,
    "start_time": "2021-07-07T17:02:34.308Z"
   },
   {
    "duration": 6,
    "start_time": "2021-07-07T17:05:13.483Z"
   },
   {
    "duration": 17,
    "start_time": "2021-07-07T17:05:20.606Z"
   },
   {
    "duration": 7,
    "start_time": "2021-07-07T17:05:34.638Z"
   },
   {
    "duration": 3,
    "start_time": "2021-07-07T17:06:31.883Z"
   },
   {
    "duration": 570,
    "start_time": "2021-07-07T17:06:37.165Z"
   },
   {
    "duration": 174,
    "start_time": "2021-07-07T17:06:37.737Z"
   },
   {
    "duration": 47,
    "start_time": "2021-07-07T17:06:37.913Z"
   },
   {
    "duration": 3,
    "start_time": "2021-07-07T17:06:37.962Z"
   },
   {
    "duration": 27,
    "start_time": "2021-07-07T17:06:37.967Z"
   },
   {
    "duration": 7,
    "start_time": "2021-07-07T17:06:37.996Z"
   },
   {
    "duration": 16,
    "start_time": "2021-07-07T17:06:38.005Z"
   },
   {
    "duration": 6,
    "start_time": "2021-07-07T17:06:38.024Z"
   },
   {
    "duration": 12,
    "start_time": "2021-07-07T17:06:38.031Z"
   },
   {
    "duration": 41,
    "start_time": "2021-07-07T17:06:38.045Z"
   },
   {
    "duration": 8,
    "start_time": "2021-07-07T17:06:38.088Z"
   },
   {
    "duration": 26,
    "start_time": "2021-07-07T17:06:38.098Z"
   },
   {
    "duration": 17,
    "start_time": "2021-07-07T17:06:38.126Z"
   },
   {
    "duration": 43,
    "start_time": "2021-07-07T17:06:38.144Z"
   },
   {
    "duration": 6,
    "start_time": "2021-07-07T17:06:38.188Z"
   },
   {
    "duration": 5,
    "start_time": "2021-07-07T17:06:38.195Z"
   },
   {
    "duration": 9,
    "start_time": "2021-07-07T17:06:38.201Z"
   },
   {
    "duration": 12,
    "start_time": "2021-07-07T17:06:38.212Z"
   },
   {
    "duration": 11,
    "start_time": "2021-07-07T17:06:38.226Z"
   },
   {
    "duration": 47,
    "start_time": "2021-07-07T17:06:38.239Z"
   },
   {
    "duration": 4,
    "start_time": "2021-07-07T17:06:38.288Z"
   },
   {
    "duration": 13,
    "start_time": "2021-07-07T17:06:38.293Z"
   },
   {
    "duration": 5,
    "start_time": "2021-07-07T17:06:38.309Z"
   },
   {
    "duration": 18,
    "start_time": "2021-07-07T17:06:38.325Z"
   },
   {
    "duration": 20,
    "start_time": "2021-07-07T17:07:02.805Z"
   },
   {
    "duration": 19,
    "start_time": "2021-07-07T17:07:08.527Z"
   },
   {
    "duration": 19,
    "start_time": "2021-07-07T17:07:12.758Z"
   },
   {
    "duration": 22,
    "start_time": "2021-07-07T17:07:17.497Z"
   },
   {
    "duration": 19,
    "start_time": "2021-07-07T17:07:19.645Z"
   },
   {
    "duration": 10,
    "start_time": "2021-07-07T17:07:34.239Z"
   },
   {
    "duration": 17,
    "start_time": "2021-07-07T17:07:54.144Z"
   },
   {
    "duration": 14,
    "start_time": "2021-07-07T17:08:14.357Z"
   },
   {
    "duration": 616,
    "start_time": "2021-07-07T17:08:45.254Z"
   },
   {
    "duration": 178,
    "start_time": "2021-07-07T17:08:45.872Z"
   },
   {
    "duration": 60,
    "start_time": "2021-07-07T17:08:46.054Z"
   },
   {
    "duration": 3,
    "start_time": "2021-07-07T17:08:46.116Z"
   },
   {
    "duration": 26,
    "start_time": "2021-07-07T17:08:46.121Z"
   },
   {
    "duration": 7,
    "start_time": "2021-07-07T17:08:46.149Z"
   },
   {
    "duration": 17,
    "start_time": "2021-07-07T17:08:46.158Z"
   },
   {
    "duration": 14,
    "start_time": "2021-07-07T17:08:46.176Z"
   },
   {
    "duration": 17,
    "start_time": "2021-07-07T17:08:46.193Z"
   },
   {
    "duration": 9,
    "start_time": "2021-07-07T17:08:46.211Z"
   },
   {
    "duration": 21,
    "start_time": "2021-07-07T17:08:46.221Z"
   },
   {
    "duration": 49,
    "start_time": "2021-07-07T17:08:46.244Z"
   },
   {
    "duration": 24,
    "start_time": "2021-07-07T17:08:46.295Z"
   },
   {
    "duration": 22,
    "start_time": "2021-07-07T17:08:46.321Z"
   },
   {
    "duration": 6,
    "start_time": "2021-07-07T17:08:46.345Z"
   },
   {
    "duration": 5,
    "start_time": "2021-07-07T17:08:46.353Z"
   },
   {
    "duration": 13,
    "start_time": "2021-07-07T17:08:46.386Z"
   },
   {
    "duration": 12,
    "start_time": "2021-07-07T17:08:46.402Z"
   },
   {
    "duration": 10,
    "start_time": "2021-07-07T17:08:46.415Z"
   },
   {
    "duration": 7,
    "start_time": "2021-07-07T17:08:46.427Z"
   },
   {
    "duration": 8,
    "start_time": "2021-07-07T17:08:46.435Z"
   },
   {
    "duration": 68,
    "start_time": "2021-07-07T17:08:46.446Z"
   },
   {
    "duration": 13,
    "start_time": "2021-07-07T17:08:46.516Z"
   },
   {
    "duration": 78,
    "start_time": "2021-07-07T17:08:46.530Z"
   },
   {
    "duration": 40,
    "start_time": "2021-07-07T17:09:08.185Z"
   },
   {
    "duration": 16,
    "start_time": "2021-07-07T17:09:19.324Z"
   },
   {
    "duration": 21,
    "start_time": "2021-07-07T17:09:23.290Z"
   },
   {
    "duration": 13,
    "start_time": "2021-07-07T17:09:54.812Z"
   },
   {
    "duration": 13,
    "start_time": "2021-07-07T17:10:02.039Z"
   },
   {
    "duration": 10,
    "start_time": "2021-07-07T17:10:29.632Z"
   },
   {
    "duration": 13,
    "start_time": "2021-07-07T17:10:52.372Z"
   },
   {
    "duration": 13,
    "start_time": "2021-07-07T17:11:17.270Z"
   },
   {
    "duration": 13,
    "start_time": "2021-07-07T17:14:59.284Z"
   },
   {
    "duration": 547,
    "start_time": "2021-07-07T17:18:52.403Z"
   },
   {
    "duration": 163,
    "start_time": "2021-07-07T17:18:52.952Z"
   },
   {
    "duration": 44,
    "start_time": "2021-07-07T17:18:53.117Z"
   },
   {
    "duration": 3,
    "start_time": "2021-07-07T17:18:53.162Z"
   },
   {
    "duration": 26,
    "start_time": "2021-07-07T17:18:53.167Z"
   },
   {
    "duration": 6,
    "start_time": "2021-07-07T17:18:53.195Z"
   },
   {
    "duration": 15,
    "start_time": "2021-07-07T17:18:53.203Z"
   },
   {
    "duration": 5,
    "start_time": "2021-07-07T17:18:53.220Z"
   },
   {
    "duration": 11,
    "start_time": "2021-07-07T17:18:53.228Z"
   },
   {
    "duration": 9,
    "start_time": "2021-07-07T17:18:53.241Z"
   },
   {
    "duration": 41,
    "start_time": "2021-07-07T17:18:53.252Z"
   },
   {
    "duration": 33,
    "start_time": "2021-07-07T17:18:53.295Z"
   },
   {
    "duration": 19,
    "start_time": "2021-07-07T17:18:53.330Z"
   },
   {
    "duration": 49,
    "start_time": "2021-07-07T17:18:53.350Z"
   },
   {
    "duration": 5,
    "start_time": "2021-07-07T17:18:53.401Z"
   },
   {
    "duration": 5,
    "start_time": "2021-07-07T17:18:53.408Z"
   },
   {
    "duration": 11,
    "start_time": "2021-07-07T17:18:53.414Z"
   },
   {
    "duration": 9,
    "start_time": "2021-07-07T17:18:53.427Z"
   },
   {
    "duration": 10,
    "start_time": "2021-07-07T17:18:53.437Z"
   },
   {
    "duration": 39,
    "start_time": "2021-07-07T17:18:53.448Z"
   },
   {
    "duration": 26,
    "start_time": "2021-07-07T17:18:55.799Z"
   },
   {
    "duration": 598,
    "start_time": "2021-07-07T17:20:17.862Z"
   },
   {
    "duration": 161,
    "start_time": "2021-07-07T17:20:18.462Z"
   },
   {
    "duration": 45,
    "start_time": "2021-07-07T17:20:18.626Z"
   },
   {
    "duration": 4,
    "start_time": "2021-07-07T17:20:18.673Z"
   },
   {
    "duration": 38,
    "start_time": "2021-07-07T17:20:26.877Z"
   },
   {
    "duration": 7,
    "start_time": "2021-07-07T17:20:37.405Z"
   },
   {
    "duration": 19,
    "start_time": "2021-07-07T17:20:51.534Z"
   },
   {
    "duration": 5,
    "start_time": "2021-07-07T17:20:57.228Z"
   },
   {
    "duration": 7,
    "start_time": "2021-07-07T17:21:08.235Z"
   },
   {
    "duration": 19,
    "start_time": "2021-07-07T17:21:42.158Z"
   },
   {
    "duration": 14,
    "start_time": "2021-07-07T17:21:50.225Z"
   },
   {
    "duration": 22,
    "start_time": "2021-07-07T17:22:54.104Z"
   },
   {
    "duration": 5,
    "start_time": "2021-07-07T17:22:56.371Z"
   },
   {
    "duration": 14,
    "start_time": "2021-07-07T17:22:58.316Z"
   },
   {
    "duration": 5,
    "start_time": "2021-07-07T17:22:58.493Z"
   },
   {
    "duration": 35,
    "start_time": "2021-07-07T17:22:59.666Z"
   },
   {
    "duration": 6,
    "start_time": "2021-07-07T17:23:02.410Z"
   },
   {
    "duration": 611,
    "start_time": "2021-07-07T17:24:59.664Z"
   },
   {
    "duration": 178,
    "start_time": "2021-07-07T17:25:01.945Z"
   },
   {
    "duration": 47,
    "start_time": "2021-07-07T17:25:02.125Z"
   },
   {
    "duration": 2,
    "start_time": "2021-07-07T17:25:07.903Z"
   },
   {
    "duration": 254,
    "start_time": "2021-07-07T17:25:08.232Z"
   },
   {
    "duration": 182,
    "start_time": "2021-07-07T17:25:08.671Z"
   },
   {
    "duration": 6,
    "start_time": "2021-07-07T17:25:13.104Z"
   },
   {
    "duration": 36,
    "start_time": "2021-07-07T17:25:13.662Z"
   },
   {
    "duration": 7,
    "start_time": "2021-07-07T17:25:14.528Z"
   },
   {
    "duration": 24,
    "start_time": "2021-07-07T17:25:27.982Z"
   },
   {
    "duration": 3,
    "start_time": "2021-07-07T17:25:48.982Z"
   },
   {
    "duration": 165,
    "start_time": "2021-07-07T17:25:48.987Z"
   },
   {
    "duration": 50,
    "start_time": "2021-07-07T17:25:49.154Z"
   },
   {
    "duration": 4,
    "start_time": "2021-07-07T17:25:49.206Z"
   },
   {
    "duration": 26,
    "start_time": "2021-07-07T17:25:49.212Z"
   },
   {
    "duration": 7,
    "start_time": "2021-07-07T17:25:49.240Z"
   },
   {
    "duration": 16,
    "start_time": "2021-07-07T17:25:49.249Z"
   },
   {
    "duration": 22,
    "start_time": "2021-07-07T17:25:49.266Z"
   },
   {
    "duration": 16,
    "start_time": "2021-07-07T17:25:49.291Z"
   },
   {
    "duration": 9,
    "start_time": "2021-07-07T17:25:49.309Z"
   },
   {
    "duration": 7,
    "start_time": "2021-07-07T17:25:49.319Z"
   },
   {
    "duration": 28,
    "start_time": "2021-07-07T17:25:49.328Z"
   },
   {
    "duration": 44,
    "start_time": "2021-07-07T17:25:49.357Z"
   },
   {
    "duration": 22,
    "start_time": "2021-07-07T17:25:49.403Z"
   },
   {
    "duration": 7,
    "start_time": "2021-07-07T17:25:49.427Z"
   },
   {
    "duration": 3,
    "start_time": "2021-07-07T17:25:49.436Z"
   },
   {
    "duration": 44,
    "start_time": "2021-07-07T17:25:49.441Z"
   },
   {
    "duration": 12,
    "start_time": "2021-07-07T17:25:49.488Z"
   },
   {
    "duration": 13,
    "start_time": "2021-07-07T17:25:49.502Z"
   },
   {
    "duration": 10,
    "start_time": "2021-07-07T17:25:49.516Z"
   },
   {
    "duration": 62,
    "start_time": "2021-07-07T17:25:49.527Z"
   },
   {
    "duration": 26,
    "start_time": "2021-07-07T17:26:51.809Z"
   },
   {
    "duration": 26,
    "start_time": "2021-07-07T17:26:55.759Z"
   },
   {
    "duration": 26,
    "start_time": "2021-07-07T17:27:04.501Z"
   },
   {
    "duration": 25,
    "start_time": "2021-07-07T17:28:24.859Z"
   },
   {
    "duration": 21,
    "start_time": "2021-07-07T17:28:55.250Z"
   },
   {
    "duration": 21,
    "start_time": "2021-07-07T17:28:58.885Z"
   },
   {
    "duration": 7,
    "start_time": "2021-07-07T17:45:40.972Z"
   },
   {
    "duration": 13,
    "start_time": "2021-07-07T17:45:42.529Z"
   },
   {
    "duration": 27,
    "start_time": "2021-07-07T17:45:51.026Z"
   },
   {
    "duration": 518,
    "start_time": "2021-07-07T17:46:15.532Z"
   },
   {
    "duration": 235,
    "start_time": "2021-07-07T17:46:16.053Z"
   },
   {
    "duration": 80,
    "start_time": "2021-07-07T17:46:16.292Z"
   },
   {
    "duration": 5,
    "start_time": "2021-07-07T17:46:16.373Z"
   },
   {
    "duration": 26,
    "start_time": "2021-07-07T17:46:16.380Z"
   },
   {
    "duration": 7,
    "start_time": "2021-07-07T17:46:16.408Z"
   },
   {
    "duration": 16,
    "start_time": "2021-07-07T17:46:16.418Z"
   },
   {
    "duration": 5,
    "start_time": "2021-07-07T17:46:16.436Z"
   },
   {
    "duration": 13,
    "start_time": "2021-07-07T17:46:16.442Z"
   },
   {
    "duration": 35,
    "start_time": "2021-07-07T17:46:16.456Z"
   },
   {
    "duration": 8,
    "start_time": "2021-07-07T17:46:16.493Z"
   },
   {
    "duration": 28,
    "start_time": "2021-07-07T17:46:16.502Z"
   },
   {
    "duration": 17,
    "start_time": "2021-07-07T17:46:16.532Z"
   },
   {
    "duration": 44,
    "start_time": "2021-07-07T17:46:16.551Z"
   },
   {
    "duration": 6,
    "start_time": "2021-07-07T17:46:16.597Z"
   },
   {
    "duration": 4,
    "start_time": "2021-07-07T17:46:16.605Z"
   },
   {
    "duration": 9,
    "start_time": "2021-07-07T17:46:16.610Z"
   },
   {
    "duration": 9,
    "start_time": "2021-07-07T17:46:16.621Z"
   },
   {
    "duration": 10,
    "start_time": "2021-07-07T17:46:16.632Z"
   },
   {
    "duration": 43,
    "start_time": "2021-07-07T17:46:16.644Z"
   },
   {
    "duration": 26,
    "start_time": "2021-07-07T17:46:16.689Z"
   },
   {
    "duration": 19,
    "start_time": "2021-07-07T17:46:16.718Z"
   },
   {
    "duration": 8,
    "start_time": "2021-07-07T17:46:16.738Z"
   },
   {
    "duration": 43,
    "start_time": "2021-07-07T17:46:16.747Z"
   },
   {
    "duration": 19,
    "start_time": "2021-07-07T17:46:16.791Z"
   },
   {
    "duration": 9,
    "start_time": "2021-07-07T17:46:16.812Z"
   },
   {
    "duration": 60,
    "start_time": "2021-07-07T17:46:16.822Z"
   },
   {
    "duration": -8,
    "start_time": "2021-07-07T17:46:16.892Z"
   },
   {
    "duration": 12,
    "start_time": "2021-07-07T17:48:47.707Z"
   },
   {
    "duration": 553,
    "start_time": "2021-07-07T18:10:09.350Z"
   },
   {
    "duration": 230,
    "start_time": "2021-07-07T18:10:09.905Z"
   },
   {
    "duration": 97,
    "start_time": "2021-07-07T18:10:10.137Z"
   },
   {
    "duration": 5,
    "start_time": "2021-07-07T18:10:10.236Z"
   },
   {
    "duration": 29,
    "start_time": "2021-07-07T18:10:10.242Z"
   },
   {
    "duration": 7,
    "start_time": "2021-07-07T18:10:10.272Z"
   },
   {
    "duration": 15,
    "start_time": "2021-07-07T18:10:10.281Z"
   },
   {
    "duration": 4,
    "start_time": "2021-07-07T18:10:10.299Z"
   },
   {
    "duration": 14,
    "start_time": "2021-07-07T18:10:10.305Z"
   },
   {
    "duration": 8,
    "start_time": "2021-07-07T18:10:10.321Z"
   },
   {
    "duration": 8,
    "start_time": "2021-07-07T18:10:10.331Z"
   },
   {
    "duration": 56,
    "start_time": "2021-07-07T18:10:10.341Z"
   },
   {
    "duration": 19,
    "start_time": "2021-07-07T18:10:10.399Z"
   },
   {
    "duration": 23,
    "start_time": "2021-07-07T18:10:10.419Z"
   },
   {
    "duration": 6,
    "start_time": "2021-07-07T18:10:10.444Z"
   },
   {
    "duration": 9,
    "start_time": "2021-07-07T18:10:10.451Z"
   },
   {
    "duration": 30,
    "start_time": "2021-07-07T18:10:10.462Z"
   },
   {
    "duration": 9,
    "start_time": "2021-07-07T18:10:10.494Z"
   },
   {
    "duration": 14,
    "start_time": "2021-07-07T18:10:10.505Z"
   },
   {
    "duration": 7,
    "start_time": "2021-07-07T18:10:10.521Z"
   },
   {
    "duration": 26,
    "start_time": "2021-07-07T18:10:10.530Z"
   },
   {
    "duration": 44,
    "start_time": "2021-07-07T18:10:10.558Z"
   },
   {
    "duration": 7,
    "start_time": "2021-07-07T18:10:10.605Z"
   },
   {
    "duration": 11,
    "start_time": "2021-07-07T18:10:10.614Z"
   },
   {
    "duration": 19,
    "start_time": "2021-07-07T18:10:10.626Z"
   },
   {
    "duration": 44,
    "start_time": "2021-07-07T18:10:10.646Z"
   },
   {
    "duration": 516,
    "start_time": "2021-07-07T18:14:00.826Z"
   },
   {
    "duration": 230,
    "start_time": "2021-07-07T18:14:01.344Z"
   },
   {
    "duration": 105,
    "start_time": "2021-07-07T18:14:01.576Z"
   },
   {
    "duration": 5,
    "start_time": "2021-07-07T18:14:01.683Z"
   },
   {
    "duration": 46,
    "start_time": "2021-07-07T18:14:01.690Z"
   },
   {
    "duration": 7,
    "start_time": "2021-07-07T18:14:01.738Z"
   },
   {
    "duration": 20,
    "start_time": "2021-07-07T18:14:01.747Z"
   },
   {
    "duration": 16,
    "start_time": "2021-07-07T18:14:01.769Z"
   },
   {
    "duration": 14,
    "start_time": "2021-07-07T18:14:01.787Z"
   },
   {
    "duration": 15,
    "start_time": "2021-07-07T18:14:01.803Z"
   },
   {
    "duration": 12,
    "start_time": "2021-07-07T18:14:01.820Z"
   },
   {
    "duration": 35,
    "start_time": "2021-07-07T18:14:01.833Z"
   },
   {
    "duration": 31,
    "start_time": "2021-07-07T18:14:01.869Z"
   },
   {
    "duration": 37,
    "start_time": "2021-07-07T18:14:01.902Z"
   },
   {
    "duration": 8,
    "start_time": "2021-07-07T18:14:01.942Z"
   },
   {
    "duration": 16,
    "start_time": "2021-07-07T18:14:01.952Z"
   },
   {
    "duration": 13,
    "start_time": "2021-07-07T18:14:01.970Z"
   },
   {
    "duration": 32,
    "start_time": "2021-07-07T18:14:01.985Z"
   },
   {
    "duration": 11,
    "start_time": "2021-07-07T18:14:02.019Z"
   },
   {
    "duration": 22,
    "start_time": "2021-07-07T18:14:02.031Z"
   },
   {
    "duration": 27,
    "start_time": "2021-07-07T18:14:02.055Z"
   },
   {
    "duration": 18,
    "start_time": "2021-07-07T18:14:02.084Z"
   },
   {
    "duration": 18,
    "start_time": "2021-07-07T18:14:02.106Z"
   },
   {
    "duration": 11,
    "start_time": "2021-07-07T18:14:02.126Z"
   },
   {
    "duration": 21,
    "start_time": "2021-07-07T18:14:02.138Z"
   },
   {
    "duration": 32,
    "start_time": "2021-07-07T18:14:02.161Z"
   },
   {
    "duration": 28,
    "start_time": "2021-07-07T18:14:44.295Z"
   },
   {
    "duration": 6,
    "start_time": "2021-07-07T18:15:05.834Z"
   },
   {
    "duration": 511,
    "start_time": "2021-07-07T18:15:41.541Z"
   },
   {
    "duration": 183,
    "start_time": "2021-07-07T18:15:42.054Z"
   },
   {
    "duration": 50,
    "start_time": "2021-07-07T18:15:42.239Z"
   },
   {
    "duration": 5,
    "start_time": "2021-07-07T18:15:42.291Z"
   },
   {
    "duration": 48,
    "start_time": "2021-07-07T18:15:42.297Z"
   },
   {
    "duration": 8,
    "start_time": "2021-07-07T18:15:42.346Z"
   },
   {
    "duration": 17,
    "start_time": "2021-07-07T18:15:42.356Z"
   },
   {
    "duration": 15,
    "start_time": "2021-07-07T18:15:42.375Z"
   },
   {
    "duration": 12,
    "start_time": "2021-07-07T18:15:42.392Z"
   },
   {
    "duration": 7,
    "start_time": "2021-07-07T18:15:42.406Z"
   },
   {
    "duration": 7,
    "start_time": "2021-07-07T18:15:42.415Z"
   },
   {
    "duration": 29,
    "start_time": "2021-07-07T18:15:42.423Z"
   },
   {
    "duration": 43,
    "start_time": "2021-07-07T18:15:42.453Z"
   },
   {
    "duration": 18,
    "start_time": "2021-07-07T18:15:42.497Z"
   },
   {
    "duration": 6,
    "start_time": "2021-07-07T18:15:42.516Z"
   },
   {
    "duration": 3,
    "start_time": "2021-07-07T18:15:42.523Z"
   },
   {
    "duration": 18,
    "start_time": "2021-07-07T18:15:42.528Z"
   },
   {
    "duration": 10,
    "start_time": "2021-07-07T18:15:42.547Z"
   },
   {
    "duration": 36,
    "start_time": "2021-07-07T18:15:42.559Z"
   },
   {
    "duration": 8,
    "start_time": "2021-07-07T18:15:42.597Z"
   },
   {
    "duration": 28,
    "start_time": "2021-07-07T18:15:42.606Z"
   },
   {
    "duration": 52,
    "start_time": "2021-07-07T18:15:42.635Z"
   },
   {
    "duration": 7,
    "start_time": "2021-07-07T18:15:42.690Z"
   },
   {
    "duration": 10,
    "start_time": "2021-07-07T18:15:42.699Z"
   },
   {
    "duration": 19,
    "start_time": "2021-07-07T18:15:42.711Z"
   },
   {
    "duration": 9,
    "start_time": "2021-07-07T18:15:42.732Z"
   },
   {
    "duration": 5,
    "start_time": "2021-07-07T18:15:42.743Z"
   },
   {
    "duration": 1450,
    "start_time": "2021-07-07T18:15:51.984Z"
   },
   {
    "duration": 161,
    "start_time": "2021-07-07T18:15:53.435Z"
   },
   {
    "duration": 124,
    "start_time": "2021-07-07T18:15:53.598Z"
   },
   {
    "duration": 5,
    "start_time": "2021-07-07T18:15:53.724Z"
   },
   {
    "duration": 34,
    "start_time": "2021-07-07T18:15:53.730Z"
   },
   {
    "duration": 7,
    "start_time": "2021-07-07T18:15:53.765Z"
   },
   {
    "duration": 15,
    "start_time": "2021-07-07T18:15:53.773Z"
   },
   {
    "duration": 5,
    "start_time": "2021-07-07T18:15:53.791Z"
   },
   {
    "duration": 19,
    "start_time": "2021-07-07T18:15:53.798Z"
   },
   {
    "duration": 9,
    "start_time": "2021-07-07T18:15:53.818Z"
   },
   {
    "duration": 19,
    "start_time": "2021-07-07T18:15:53.828Z"
   },
   {
    "duration": 27,
    "start_time": "2021-07-07T18:15:53.848Z"
   },
   {
    "duration": 16,
    "start_time": "2021-07-07T18:15:53.884Z"
   },
   {
    "duration": 29,
    "start_time": "2021-07-07T18:15:53.901Z"
   },
   {
    "duration": 5,
    "start_time": "2021-07-07T18:15:53.932Z"
   },
   {
    "duration": 15,
    "start_time": "2021-07-07T18:15:53.939Z"
   },
   {
    "duration": 13,
    "start_time": "2021-07-07T18:15:53.956Z"
   },
   {
    "duration": 20,
    "start_time": "2021-07-07T18:15:53.971Z"
   },
   {
    "duration": 14,
    "start_time": "2021-07-07T18:15:53.992Z"
   },
   {
    "duration": 9,
    "start_time": "2021-07-07T18:15:54.009Z"
   },
   {
    "duration": 28,
    "start_time": "2021-07-07T18:15:54.020Z"
   },
   {
    "duration": 50,
    "start_time": "2021-07-07T18:15:54.051Z"
   },
   {
    "duration": 8,
    "start_time": "2021-07-07T18:15:54.105Z"
   },
   {
    "duration": 11,
    "start_time": "2021-07-07T18:15:54.115Z"
   },
   {
    "duration": 20,
    "start_time": "2021-07-07T18:15:54.128Z"
   },
   {
    "duration": 13,
    "start_time": "2021-07-07T18:15:54.184Z"
   },
   {
    "duration": 7,
    "start_time": "2021-07-07T18:15:54.199Z"
   },
   {
    "duration": 7,
    "start_time": "2021-07-07T18:17:08.042Z"
   },
   {
    "duration": 8,
    "start_time": "2021-07-07T18:17:21.008Z"
   },
   {
    "duration": 7,
    "start_time": "2021-07-07T18:17:29.003Z"
   },
   {
    "duration": 8,
    "start_time": "2021-07-07T18:17:32.492Z"
   },
   {
    "duration": 9,
    "start_time": "2021-07-07T18:17:41.758Z"
   },
   {
    "duration": 255,
    "start_time": "2021-07-07T18:20:20.897Z"
   },
   {
    "duration": 173,
    "start_time": "2021-07-07T18:20:26.636Z"
   },
   {
    "duration": 7,
    "start_time": "2021-07-07T18:21:47.164Z"
   },
   {
    "duration": 254,
    "start_time": "2021-07-07T18:23:08.703Z"
   },
   {
    "duration": 21,
    "start_time": "2021-07-07T18:23:22.506Z"
   },
   {
    "duration": 315,
    "start_time": "2021-07-07T18:25:54.801Z"
   },
   {
    "duration": 34,
    "start_time": "2021-07-07T18:26:51.817Z"
   },
   {
    "duration": 327,
    "start_time": "2021-07-07T18:26:56.147Z"
   },
   {
    "duration": 342,
    "start_time": "2021-07-07T18:27:15.887Z"
   },
   {
    "duration": 302,
    "start_time": "2021-07-07T18:28:18.569Z"
   },
   {
    "duration": 226,
    "start_time": "2021-07-07T18:29:20.879Z"
   },
   {
    "duration": 207,
    "start_time": "2021-07-07T18:29:58.114Z"
   },
   {
    "duration": 140,
    "start_time": "2021-07-07T18:32:04.372Z"
   },
   {
    "duration": 158,
    "start_time": "2021-07-07T18:32:32.508Z"
   },
   {
    "duration": 145,
    "start_time": "2021-07-07T18:32:41.365Z"
   },
   {
    "duration": 132,
    "start_time": "2021-07-07T18:32:45.199Z"
   },
   {
    "duration": 11,
    "start_time": "2021-07-07T18:35:24.679Z"
   },
   {
    "duration": 268,
    "start_time": "2021-07-07T18:36:16.145Z"
   },
   {
    "duration": 227,
    "start_time": "2021-07-07T18:37:04.918Z"
   },
   {
    "duration": 3,
    "start_time": "2021-07-07T18:37:33.012Z"
   },
   {
    "duration": 671,
    "start_time": "2021-07-07T18:37:38.295Z"
   },
   {
    "duration": 54,
    "start_time": "2021-07-07T18:37:53.406Z"
   },
   {
    "duration": 631,
    "start_time": "2021-07-07T18:37:56.463Z"
   },
   {
    "duration": 19,
    "start_time": "2021-07-07T18:39:40.535Z"
   },
   {
    "duration": 20,
    "start_time": "2021-07-07T18:40:12.236Z"
   },
   {
    "duration": 633,
    "start_time": "2021-07-07T18:42:00.398Z"
   },
   {
    "duration": 218,
    "start_time": "2021-07-07T18:42:01.033Z"
   },
   {
    "duration": 49,
    "start_time": "2021-07-07T18:42:01.253Z"
   },
   {
    "duration": 5,
    "start_time": "2021-07-07T18:42:01.303Z"
   },
   {
    "duration": 27,
    "start_time": "2021-07-07T18:42:01.310Z"
   },
   {
    "duration": 8,
    "start_time": "2021-07-07T18:42:01.339Z"
   },
   {
    "duration": 20,
    "start_time": "2021-07-07T18:42:01.348Z"
   },
   {
    "duration": 6,
    "start_time": "2021-07-07T18:42:01.386Z"
   },
   {
    "duration": 16,
    "start_time": "2021-07-07T18:42:01.394Z"
   },
   {
    "duration": 9,
    "start_time": "2021-07-07T18:42:01.411Z"
   },
   {
    "duration": 11,
    "start_time": "2021-07-07T18:42:01.421Z"
   },
   {
    "duration": 31,
    "start_time": "2021-07-07T18:42:01.434Z"
   },
   {
    "duration": 18,
    "start_time": "2021-07-07T18:42:01.485Z"
   },
   {
    "duration": 23,
    "start_time": "2021-07-07T18:42:01.505Z"
   },
   {
    "duration": 6,
    "start_time": "2021-07-07T18:42:01.530Z"
   },
   {
    "duration": 10,
    "start_time": "2021-07-07T18:42:01.538Z"
   },
   {
    "duration": 13,
    "start_time": "2021-07-07T18:42:01.550Z"
   },
   {
    "duration": 24,
    "start_time": "2021-07-07T18:42:01.564Z"
   },
   {
    "duration": 20,
    "start_time": "2021-07-07T18:42:01.590Z"
   },
   {
    "duration": 8,
    "start_time": "2021-07-07T18:42:01.611Z"
   },
   {
    "duration": 31,
    "start_time": "2021-07-07T18:42:01.620Z"
   },
   {
    "duration": 39,
    "start_time": "2021-07-07T18:42:01.653Z"
   },
   {
    "duration": 8,
    "start_time": "2021-07-07T18:42:01.696Z"
   },
   {
    "duration": 13,
    "start_time": "2021-07-07T18:42:01.705Z"
   },
   {
    "duration": 20,
    "start_time": "2021-07-07T18:42:01.720Z"
   },
   {
    "duration": 12,
    "start_time": "2021-07-07T18:42:01.741Z"
   },
   {
    "duration": 35,
    "start_time": "2021-07-07T18:42:01.755Z"
   },
   {
    "duration": 14,
    "start_time": "2021-07-07T18:42:01.792Z"
   },
   {
    "duration": 188,
    "start_time": "2021-07-07T18:42:01.808Z"
   },
   {
    "duration": 19,
    "start_time": "2021-07-07T18:42:01.998Z"
   },
   {
    "duration": 175,
    "start_time": "2021-07-07T18:42:02.019Z"
   },
   {
    "duration": 134,
    "start_time": "2021-07-07T18:42:02.196Z"
   },
   {
    "duration": 10,
    "start_time": "2021-07-07T18:42:02.331Z"
   },
   {
    "duration": 19,
    "start_time": "2021-07-07T18:42:02.343Z"
   },
   {
    "duration": 628,
    "start_time": "2021-07-07T18:46:30.701Z"
   },
   {
    "duration": 183,
    "start_time": "2021-07-07T18:46:31.331Z"
   },
   {
    "duration": 48,
    "start_time": "2021-07-07T18:46:31.516Z"
   },
   {
    "duration": 5,
    "start_time": "2021-07-07T18:46:31.566Z"
   },
   {
    "duration": 28,
    "start_time": "2021-07-07T18:46:31.572Z"
   },
   {
    "duration": 8,
    "start_time": "2021-07-07T18:46:31.602Z"
   },
   {
    "duration": 19,
    "start_time": "2021-07-07T18:46:31.611Z"
   },
   {
    "duration": 6,
    "start_time": "2021-07-07T18:46:31.633Z"
   },
   {
    "duration": 17,
    "start_time": "2021-07-07T18:46:31.642Z"
   },
   {
    "duration": 10,
    "start_time": "2021-07-07T18:46:31.684Z"
   },
   {
    "duration": 9,
    "start_time": "2021-07-07T18:46:31.695Z"
   },
   {
    "duration": 28,
    "start_time": "2021-07-07T18:46:31.705Z"
   },
   {
    "duration": 18,
    "start_time": "2021-07-07T18:46:31.735Z"
   },
   {
    "duration": 48,
    "start_time": "2021-07-07T18:46:31.755Z"
   },
   {
    "duration": 6,
    "start_time": "2021-07-07T18:46:31.804Z"
   },
   {
    "duration": 4,
    "start_time": "2021-07-07T18:46:31.812Z"
   },
   {
    "duration": 9,
    "start_time": "2021-07-07T18:46:31.817Z"
   },
   {
    "duration": 10,
    "start_time": "2021-07-07T18:46:31.827Z"
   },
   {
    "duration": 12,
    "start_time": "2021-07-07T18:46:31.838Z"
   },
   {
    "duration": 39,
    "start_time": "2021-07-07T18:46:31.851Z"
   },
   {
    "duration": 24,
    "start_time": "2021-07-07T18:46:31.892Z"
   },
   {
    "duration": 15,
    "start_time": "2021-07-07T18:46:31.918Z"
   },
   {
    "duration": 7,
    "start_time": "2021-07-07T18:46:31.936Z"
   },
   {
    "duration": 8,
    "start_time": "2021-07-07T18:46:31.944Z"
   },
   {
    "duration": 19,
    "start_time": "2021-07-07T18:46:31.984Z"
   },
   {
    "duration": 10,
    "start_time": "2021-07-07T18:46:32.004Z"
   },
   {
    "duration": 5,
    "start_time": "2021-07-07T18:46:32.016Z"
   },
   {
    "duration": 9,
    "start_time": "2021-07-07T18:46:32.023Z"
   },
   {
    "duration": 199,
    "start_time": "2021-07-07T18:46:32.033Z"
   },
   {
    "duration": 19,
    "start_time": "2021-07-07T18:46:32.234Z"
   },
   {
    "duration": 159,
    "start_time": "2021-07-07T18:46:32.255Z"
   },
   {
    "duration": 134,
    "start_time": "2021-07-07T18:46:32.416Z"
   },
   {
    "duration": 10,
    "start_time": "2021-07-07T18:46:32.552Z"
   },
   {
    "duration": 34,
    "start_time": "2021-07-07T18:46:32.563Z"
   },
   {
    "duration": 1039,
    "start_time": "2021-07-08T08:41:09.419Z"
   },
   {
    "duration": 333,
    "start_time": "2021-07-08T08:41:10.459Z"
   },
   {
    "duration": 173,
    "start_time": "2021-07-08T08:41:10.794Z"
   },
   {
    "duration": 5,
    "start_time": "2021-07-08T08:41:10.968Z"
   },
   {
    "duration": 25,
    "start_time": "2021-07-08T08:41:10.975Z"
   },
   {
    "duration": 9,
    "start_time": "2021-07-08T08:41:11.002Z"
   },
   {
    "duration": 18,
    "start_time": "2021-07-08T08:41:11.013Z"
   },
   {
    "duration": 6,
    "start_time": "2021-07-08T08:41:11.033Z"
   },
   {
    "duration": 44,
    "start_time": "2021-07-08T08:41:11.042Z"
   },
   {
    "duration": 10,
    "start_time": "2021-07-08T08:41:11.088Z"
   },
   {
    "duration": 9,
    "start_time": "2021-07-08T08:41:11.100Z"
   },
   {
    "duration": 27,
    "start_time": "2021-07-08T08:41:11.111Z"
   },
   {
    "duration": 46,
    "start_time": "2021-07-08T08:41:11.140Z"
   },
   {
    "duration": 17,
    "start_time": "2021-07-08T08:41:11.187Z"
   },
   {
    "duration": 6,
    "start_time": "2021-07-08T08:41:11.206Z"
   },
   {
    "duration": 5,
    "start_time": "2021-07-08T08:41:11.213Z"
   },
   {
    "duration": 10,
    "start_time": "2021-07-08T08:41:11.219Z"
   },
   {
    "duration": 9,
    "start_time": "2021-07-08T08:41:11.230Z"
   },
   {
    "duration": 45,
    "start_time": "2021-07-08T08:41:11.241Z"
   },
   {
    "duration": 7,
    "start_time": "2021-07-08T08:41:11.287Z"
   },
   {
    "duration": 24,
    "start_time": "2021-07-08T08:41:11.296Z"
   },
   {
    "duration": 16,
    "start_time": "2021-07-08T08:41:11.322Z"
   },
   {
    "duration": 7,
    "start_time": "2021-07-08T08:41:11.341Z"
   },
   {
    "duration": 41,
    "start_time": "2021-07-08T08:41:11.349Z"
   },
   {
    "duration": 17,
    "start_time": "2021-07-08T08:41:11.391Z"
   },
   {
    "duration": 9,
    "start_time": "2021-07-08T08:41:11.410Z"
   },
   {
    "duration": 5,
    "start_time": "2021-07-08T08:41:11.421Z"
   },
   {
    "duration": 6,
    "start_time": "2021-07-08T08:41:11.428Z"
   },
   {
    "duration": 198,
    "start_time": "2021-07-08T08:41:11.435Z"
   },
   {
    "duration": 18,
    "start_time": "2021-07-08T08:41:11.635Z"
   },
   {
    "duration": 155,
    "start_time": "2021-07-08T08:41:11.655Z"
   },
   {
    "duration": 138,
    "start_time": "2021-07-08T08:41:11.811Z"
   },
   {
    "duration": 10,
    "start_time": "2021-07-08T08:41:11.950Z"
   },
   {
    "duration": 29,
    "start_time": "2021-07-08T08:41:11.961Z"
   },
   {
    "duration": 171,
    "start_time": "2021-07-08T08:47:44.522Z"
   },
   {
    "duration": 124,
    "start_time": "2021-07-08T08:47:46.872Z"
   },
   {
    "duration": 191,
    "start_time": "2021-07-08T08:47:58.148Z"
   },
   {
    "duration": 191,
    "start_time": "2021-07-08T08:48:07.412Z"
   },
   {
    "duration": 261,
    "start_time": "2021-07-08T08:48:10.385Z"
   },
   {
    "duration": 255,
    "start_time": "2021-07-08T08:48:14.494Z"
   },
   {
    "duration": 219,
    "start_time": "2021-07-08T08:48:22.752Z"
   },
   {
    "duration": 173,
    "start_time": "2021-07-08T08:49:06.395Z"
   },
   {
    "duration": 180,
    "start_time": "2021-07-08T08:49:21.011Z"
   },
   {
    "duration": 6,
    "start_time": "2021-07-08T08:50:31.697Z"
   },
   {
    "duration": 10,
    "start_time": "2021-07-08T08:50:47.394Z"
   },
   {
    "duration": 11,
    "start_time": "2021-07-08T08:53:49.332Z"
   },
   {
    "duration": 171,
    "start_time": "2021-07-08T08:54:28.408Z"
   },
   {
    "duration": 636,
    "start_time": "2021-07-08T09:02:48.385Z"
   },
   {
    "duration": 227,
    "start_time": "2021-07-08T09:02:49.023Z"
   },
   {
    "duration": 104,
    "start_time": "2021-07-08T09:02:49.252Z"
   },
   {
    "duration": 5,
    "start_time": "2021-07-08T09:02:49.358Z"
   },
   {
    "duration": 27,
    "start_time": "2021-07-08T09:02:49.365Z"
   },
   {
    "duration": 8,
    "start_time": "2021-07-08T09:02:49.394Z"
   },
   {
    "duration": 18,
    "start_time": "2021-07-08T09:02:49.404Z"
   },
   {
    "duration": 6,
    "start_time": "2021-07-08T09:02:49.424Z"
   },
   {
    "duration": 11,
    "start_time": "2021-07-08T09:02:49.433Z"
   },
   {
    "duration": 13,
    "start_time": "2021-07-08T09:02:49.485Z"
   },
   {
    "duration": 9,
    "start_time": "2021-07-08T09:02:49.500Z"
   },
   {
    "duration": 38,
    "start_time": "2021-07-08T09:02:49.511Z"
   },
   {
    "duration": 42,
    "start_time": "2021-07-08T09:02:49.551Z"
   },
   {
    "duration": 21,
    "start_time": "2021-07-08T09:02:49.594Z"
   },
   {
    "duration": 6,
    "start_time": "2021-07-08T09:02:49.616Z"
   },
   {
    "duration": 3,
    "start_time": "2021-07-08T09:02:49.623Z"
   },
   {
    "duration": 9,
    "start_time": "2021-07-08T09:02:49.628Z"
   },
   {
    "duration": 52,
    "start_time": "2021-07-08T09:02:49.638Z"
   },
   {
    "duration": 11,
    "start_time": "2021-07-08T09:02:49.692Z"
   },
   {
    "duration": 8,
    "start_time": "2021-07-08T09:02:49.704Z"
   },
   {
    "duration": 27,
    "start_time": "2021-07-08T09:02:49.713Z"
   },
   {
    "duration": 59,
    "start_time": "2021-07-08T09:02:49.741Z"
   },
   {
    "duration": 8,
    "start_time": "2021-07-08T09:02:49.803Z"
   },
   {
    "duration": 14,
    "start_time": "2021-07-08T09:02:49.813Z"
   },
   {
    "duration": 20,
    "start_time": "2021-07-08T09:02:49.829Z"
   },
   {
    "duration": 44,
    "start_time": "2021-07-08T09:02:49.851Z"
   },
   {
    "duration": 14,
    "start_time": "2021-07-08T09:02:49.896Z"
   },
   {
    "duration": 221,
    "start_time": "2021-07-08T09:02:49.912Z"
   },
   {
    "duration": 6,
    "start_time": "2021-07-08T09:02:50.134Z"
   },
   {
    "duration": 206,
    "start_time": "2021-07-08T09:02:50.142Z"
   },
   {
    "duration": 19,
    "start_time": "2021-07-08T09:02:50.350Z"
   },
   {
    "duration": 21,
    "start_time": "2021-07-08T09:02:50.370Z"
   },
   {
    "duration": 20,
    "start_time": "2021-07-08T09:02:50.393Z"
   },
   {
    "duration": 5,
    "start_time": "2021-07-08T09:02:50.414Z"
   },
   {
    "duration": 5,
    "start_time": "2021-07-08T09:03:34.173Z"
   },
   {
    "duration": 6,
    "start_time": "2021-07-08T09:04:49.062Z"
   },
   {
    "duration": 9,
    "start_time": "2021-07-08T09:04:50.118Z"
   },
   {
    "duration": 14,
    "start_time": "2021-07-08T09:04:58.512Z"
   },
   {
    "duration": 9,
    "start_time": "2021-07-08T09:05:10.988Z"
   },
   {
    "duration": 11,
    "start_time": "2021-07-08T09:05:11.743Z"
   },
   {
    "duration": 7,
    "start_time": "2021-07-08T09:05:25.677Z"
   },
   {
    "duration": 13,
    "start_time": "2021-07-08T09:05:47.189Z"
   },
   {
    "duration": 13,
    "start_time": "2021-07-08T09:05:54.755Z"
   },
   {
    "duration": 4,
    "start_time": "2021-07-08T09:06:29.189Z"
   },
   {
    "duration": 244,
    "start_time": "2021-07-08T09:06:29.195Z"
   },
   {
    "duration": 91,
    "start_time": "2021-07-08T09:06:29.441Z"
   },
   {
    "duration": 4,
    "start_time": "2021-07-08T09:06:29.534Z"
   },
   {
    "duration": 28,
    "start_time": "2021-07-08T09:06:29.540Z"
   },
   {
    "duration": 6,
    "start_time": "2021-07-08T09:06:29.570Z"
   },
   {
    "duration": 18,
    "start_time": "2021-07-08T09:06:29.578Z"
   },
   {
    "duration": 5,
    "start_time": "2021-07-08T09:06:29.597Z"
   },
   {
    "duration": 13,
    "start_time": "2021-07-08T09:06:29.605Z"
   },
   {
    "duration": 8,
    "start_time": "2021-07-08T09:06:29.620Z"
   },
   {
    "duration": 7,
    "start_time": "2021-07-08T09:06:29.630Z"
   },
   {
    "duration": 63,
    "start_time": "2021-07-08T09:06:29.639Z"
   },
   {
    "duration": 17,
    "start_time": "2021-07-08T09:06:29.704Z"
   },
   {
    "duration": 20,
    "start_time": "2021-07-08T09:06:29.723Z"
   },
   {
    "duration": 6,
    "start_time": "2021-07-08T09:06:29.745Z"
   },
   {
    "duration": 3,
    "start_time": "2021-07-08T09:06:29.752Z"
   },
   {
    "duration": 7,
    "start_time": "2021-07-08T09:06:29.785Z"
   },
   {
    "duration": 11,
    "start_time": "2021-07-08T09:06:29.794Z"
   },
   {
    "duration": 15,
    "start_time": "2021-07-08T09:06:29.807Z"
   },
   {
    "duration": 8,
    "start_time": "2021-07-08T09:06:29.823Z"
   },
   {
    "duration": 70,
    "start_time": "2021-07-08T09:06:29.832Z"
   },
   {
    "duration": 17,
    "start_time": "2021-07-08T09:06:29.903Z"
   },
   {
    "duration": 9,
    "start_time": "2021-07-08T09:06:29.921Z"
   },
   {
    "duration": 9,
    "start_time": "2021-07-08T09:06:29.932Z"
   },
   {
    "duration": 57,
    "start_time": "2021-07-08T09:06:29.942Z"
   },
   {
    "duration": 11,
    "start_time": "2021-07-08T09:06:30.001Z"
   },
   {
    "duration": 19,
    "start_time": "2021-07-08T09:06:30.016Z"
   },
   {
    "duration": 217,
    "start_time": "2021-07-08T09:06:30.037Z"
   },
   {
    "duration": 6,
    "start_time": "2021-07-08T09:06:30.255Z"
   },
   {
    "duration": 205,
    "start_time": "2021-07-08T09:06:30.263Z"
   },
   {
    "duration": 27,
    "start_time": "2021-07-08T09:06:30.470Z"
   },
   {
    "duration": 11,
    "start_time": "2021-07-08T09:06:30.500Z"
   },
   {
    "duration": 31,
    "start_time": "2021-07-08T09:06:30.513Z"
   },
   {
    "duration": 18,
    "start_time": "2021-07-08T09:06:30.546Z"
   },
   {
    "duration": 11,
    "start_time": "2021-07-08T09:06:30.566Z"
   },
   {
    "duration": 19,
    "start_time": "2021-07-08T09:06:30.579Z"
   },
   {
    "duration": 20,
    "start_time": "2021-07-08T09:06:49.466Z"
   },
   {
    "duration": 9,
    "start_time": "2021-07-08T09:06:51.994Z"
   },
   {
    "duration": 20,
    "start_time": "2021-07-08T09:06:52.273Z"
   },
   {
    "duration": 246,
    "start_time": "2021-07-08T09:10:21.272Z"
   },
   {
    "duration": 84,
    "start_time": "2021-07-08T09:10:21.436Z"
   },
   {
    "duration": 7,
    "start_time": "2021-07-08T09:10:37.608Z"
   },
   {
    "duration": 189,
    "start_time": "2021-07-08T09:10:38.573Z"
   },
   {
    "duration": 185,
    "start_time": "2021-07-08T09:10:53.181Z"
   },
   {
    "duration": 11,
    "start_time": "2021-07-08T09:10:59.549Z"
   },
   {
    "duration": 42,
    "start_time": "2021-07-08T09:10:59.709Z"
   },
   {
    "duration": 12,
    "start_time": "2021-07-08T09:11:02.857Z"
   },
   {
    "duration": 28,
    "start_time": "2021-07-08T09:11:10.062Z"
   },
   {
    "duration": 249,
    "start_time": "2021-07-08T09:11:37.388Z"
   },
   {
    "duration": 232,
    "start_time": "2021-07-08T09:11:49.485Z"
   },
   {
    "duration": 453,
    "start_time": "2021-07-08T09:12:01.546Z"
   },
   {
    "duration": 440,
    "start_time": "2021-07-08T09:12:12.347Z"
   },
   {
    "duration": 213,
    "start_time": "2021-07-08T09:13:32.196Z"
   },
   {
    "duration": 172,
    "start_time": "2021-07-08T09:14:07.400Z"
   },
   {
    "duration": 185,
    "start_time": "2021-07-08T09:14:14.905Z"
   },
   {
    "duration": 209,
    "start_time": "2021-07-08T09:14:40.109Z"
   },
   {
    "duration": 201,
    "start_time": "2021-07-08T09:14:54.506Z"
   },
   {
    "duration": 622,
    "start_time": "2021-07-08T09:18:14.497Z"
   },
   {
    "duration": 220,
    "start_time": "2021-07-08T09:18:15.121Z"
   },
   {
    "duration": 79,
    "start_time": "2021-07-08T09:18:15.343Z"
   },
   {
    "duration": 4,
    "start_time": "2021-07-08T09:18:15.425Z"
   },
   {
    "duration": 24,
    "start_time": "2021-07-08T09:18:15.431Z"
   },
   {
    "duration": 8,
    "start_time": "2021-07-08T09:18:15.457Z"
   },
   {
    "duration": 16,
    "start_time": "2021-07-08T09:18:15.466Z"
   },
   {
    "duration": 5,
    "start_time": "2021-07-08T09:18:15.484Z"
   },
   {
    "duration": 10,
    "start_time": "2021-07-08T09:18:15.493Z"
   },
   {
    "duration": 8,
    "start_time": "2021-07-08T09:18:15.504Z"
   },
   {
    "duration": 7,
    "start_time": "2021-07-08T09:18:15.513Z"
   },
   {
    "duration": 26,
    "start_time": "2021-07-08T09:18:15.522Z"
   },
   {
    "duration": 49,
    "start_time": "2021-07-08T09:18:15.550Z"
   },
   {
    "duration": 21,
    "start_time": "2021-07-08T09:18:15.601Z"
   },
   {
    "duration": 8,
    "start_time": "2021-07-08T09:18:15.624Z"
   },
   {
    "duration": 3,
    "start_time": "2021-07-08T09:18:15.634Z"
   },
   {
    "duration": 8,
    "start_time": "2021-07-08T09:18:15.639Z"
   },
   {
    "duration": 45,
    "start_time": "2021-07-08T09:18:15.649Z"
   },
   {
    "duration": 13,
    "start_time": "2021-07-08T09:18:15.696Z"
   },
   {
    "duration": 10,
    "start_time": "2021-07-08T09:18:15.711Z"
   },
   {
    "duration": 64,
    "start_time": "2021-07-08T09:18:15.722Z"
   },
   {
    "duration": 19,
    "start_time": "2021-07-08T09:18:15.788Z"
   },
   {
    "duration": 9,
    "start_time": "2021-07-08T09:18:15.809Z"
   },
   {
    "duration": 9,
    "start_time": "2021-07-08T09:18:15.820Z"
   },
   {
    "duration": 18,
    "start_time": "2021-07-08T09:18:15.831Z"
   },
   {
    "duration": 43,
    "start_time": "2021-07-08T09:18:15.851Z"
   },
   {
    "duration": 12,
    "start_time": "2021-07-08T09:18:15.897Z"
   },
   {
    "duration": 219,
    "start_time": "2021-07-08T09:18:15.911Z"
   },
   {
    "duration": 8,
    "start_time": "2021-07-08T09:18:16.132Z"
   },
   {
    "duration": 199,
    "start_time": "2021-07-08T09:18:16.141Z"
   },
   {
    "duration": 18,
    "start_time": "2021-07-08T09:18:16.341Z"
   },
   {
    "duration": 24,
    "start_time": "2021-07-08T09:18:16.361Z"
   },
   {
    "duration": 24,
    "start_time": "2021-07-08T09:18:16.387Z"
   },
   {
    "duration": 211,
    "start_time": "2021-07-08T09:18:16.413Z"
   },
   {
    "duration": 18,
    "start_time": "2021-07-08T09:18:16.626Z"
   },
   {
    "duration": 596,
    "start_time": "2021-07-08T10:06:33.623Z"
   },
   {
    "duration": 181,
    "start_time": "2021-07-08T10:06:34.221Z"
   },
   {
    "duration": 176,
    "start_time": "2021-07-08T10:06:34.635Z"
   },
   {
    "duration": 239,
    "start_time": "2021-07-08T10:06:55.572Z"
   },
   {
    "duration": 6,
    "start_time": "2021-07-08T10:06:57.687Z"
   },
   {
    "duration": 4,
    "start_time": "2021-07-08T10:07:03.956Z"
   },
   {
    "duration": 4,
    "start_time": "2021-07-08T10:07:10.376Z"
   },
   {
    "duration": 4,
    "start_time": "2021-07-08T10:17:19.889Z"
   },
   {
    "duration": 3,
    "start_time": "2021-07-08T10:19:19.407Z"
   },
   {
    "duration": 197,
    "start_time": "2021-07-08T10:19:19.412Z"
   },
   {
    "duration": 127,
    "start_time": "2021-07-08T10:19:19.611Z"
   },
   {
    "duration": 4,
    "start_time": "2021-07-08T10:19:19.740Z"
   },
   {
    "duration": 27,
    "start_time": "2021-07-08T10:19:19.746Z"
   },
   {
    "duration": 7,
    "start_time": "2021-07-08T10:19:19.775Z"
   },
   {
    "duration": 30,
    "start_time": "2021-07-08T10:19:19.784Z"
   },
   {
    "duration": 7,
    "start_time": "2021-07-08T10:19:19.817Z"
   },
   {
    "duration": 26,
    "start_time": "2021-07-08T10:19:19.826Z"
   },
   {
    "duration": 18,
    "start_time": "2021-07-08T10:19:19.854Z"
   },
   {
    "duration": 14,
    "start_time": "2021-07-08T10:19:19.874Z"
   },
   {
    "duration": 48,
    "start_time": "2021-07-08T10:19:19.890Z"
   },
   {
    "duration": 17,
    "start_time": "2021-07-08T10:19:19.940Z"
   },
   {
    "duration": 38,
    "start_time": "2021-07-08T10:19:19.959Z"
   },
   {
    "duration": 8,
    "start_time": "2021-07-08T10:19:19.999Z"
   },
   {
    "duration": 15,
    "start_time": "2021-07-08T10:19:20.009Z"
   },
   {
    "duration": 22,
    "start_time": "2021-07-08T10:19:20.026Z"
   },
   {
    "duration": 10,
    "start_time": "2021-07-08T10:19:20.050Z"
   },
   {
    "duration": 10,
    "start_time": "2021-07-08T10:19:20.062Z"
   },
   {
    "duration": 20,
    "start_time": "2021-07-08T10:19:20.073Z"
   },
   {
    "duration": 29,
    "start_time": "2021-07-08T10:19:20.095Z"
   },
   {
    "duration": 17,
    "start_time": "2021-07-08T10:19:20.126Z"
   },
   {
    "duration": 40,
    "start_time": "2021-07-08T10:19:20.146Z"
   },
   {
    "duration": 15,
    "start_time": "2021-07-08T10:19:20.189Z"
   },
   {
    "duration": 19,
    "start_time": "2021-07-08T10:19:20.206Z"
   },
   {
    "duration": 10,
    "start_time": "2021-07-08T10:19:20.226Z"
   },
   {
    "duration": 11,
    "start_time": "2021-07-08T10:19:20.238Z"
   },
   {
    "duration": 297,
    "start_time": "2021-07-08T10:19:20.250Z"
   },
   {
    "duration": 6,
    "start_time": "2021-07-08T10:19:20.549Z"
   },
   {
    "duration": 191,
    "start_time": "2021-07-08T10:19:20.557Z"
   },
   {
    "duration": 19,
    "start_time": "2021-07-08T10:19:20.750Z"
   },
   {
    "duration": 20,
    "start_time": "2021-07-08T10:19:20.771Z"
   },
   {
    "duration": 15,
    "start_time": "2021-07-08T10:19:20.793Z"
   },
   {
    "duration": 222,
    "start_time": "2021-07-08T10:19:20.809Z"
   },
   {
    "duration": 20,
    "start_time": "2021-07-08T10:19:21.033Z"
   },
   {
    "duration": 27,
    "start_time": "2021-07-08T10:45:04.055Z"
   },
   {
    "duration": 8,
    "start_time": "2021-07-08T10:45:08.478Z"
   },
   {
    "duration": 8,
    "start_time": "2021-07-08T10:45:31.982Z"
   },
   {
    "duration": 10,
    "start_time": "2021-07-08T10:46:01.221Z"
   },
   {
    "duration": 17,
    "start_time": "2021-07-08T10:46:40.011Z"
   },
   {
    "duration": 193,
    "start_time": "2021-07-08T10:48:19.471Z"
   },
   {
    "duration": 225,
    "start_time": "2021-07-08T10:49:26.480Z"
   },
   {
    "duration": 204,
    "start_time": "2021-07-08T10:49:59.992Z"
   },
   {
    "duration": 435,
    "start_time": "2021-07-08T10:50:06.779Z"
   },
   {
    "duration": 199,
    "start_time": "2021-07-08T10:50:14.891Z"
   },
   {
    "duration": 204,
    "start_time": "2021-07-08T10:50:18.501Z"
   },
   {
    "duration": 244,
    "start_time": "2021-07-08T10:50:23.359Z"
   },
   {
    "duration": 192,
    "start_time": "2021-07-08T10:50:29.135Z"
   },
   {
    "duration": 218,
    "start_time": "2021-07-08T10:50:33.092Z"
   },
   {
    "duration": 207,
    "start_time": "2021-07-08T10:52:45.381Z"
   },
   {
    "duration": 5,
    "start_time": "2021-07-08T10:53:34.641Z"
   },
   {
    "duration": 196,
    "start_time": "2021-07-08T10:53:41.478Z"
   },
   {
    "duration": 43,
    "start_time": "2021-07-08T10:53:50.335Z"
   },
   {
    "duration": 32,
    "start_time": "2021-07-08T10:53:55.294Z"
   },
   {
    "duration": 55,
    "start_time": "2021-07-08T10:54:09.675Z"
   },
   {
    "duration": 16,
    "start_time": "2021-07-08T10:54:12.260Z"
   },
   {
    "duration": 15,
    "start_time": "2021-07-08T10:54:49.150Z"
   },
   {
    "duration": 20,
    "start_time": "2021-07-08T10:56:07.596Z"
   },
   {
    "duration": 16,
    "start_time": "2021-07-08T10:58:26.276Z"
   },
   {
    "duration": 22,
    "start_time": "2021-07-08T10:59:00.486Z"
   },
   {
    "duration": 18,
    "start_time": "2021-07-08T11:02:09.653Z"
   },
   {
    "duration": 10,
    "start_time": "2021-07-08T11:03:44.331Z"
   },
   {
    "duration": 10,
    "start_time": "2021-07-08T11:03:54.055Z"
   },
   {
    "duration": 12,
    "start_time": "2021-07-08T11:04:41.967Z"
   },
   {
    "duration": 24,
    "start_time": "2021-07-08T11:07:30.732Z"
   },
   {
    "duration": 6,
    "start_time": "2021-07-08T11:07:37.364Z"
   },
   {
    "duration": 16,
    "start_time": "2021-07-08T11:08:01.819Z"
   },
   {
    "duration": 17,
    "start_time": "2021-07-08T11:09:47.488Z"
   },
   {
    "duration": 246,
    "start_time": "2021-07-08T11:10:00.830Z"
   },
   {
    "duration": 18,
    "start_time": "2021-07-08T11:13:55.195Z"
   },
   {
    "duration": 204,
    "start_time": "2021-07-08T11:14:04.951Z"
   },
   {
    "duration": 19,
    "start_time": "2021-07-08T11:15:10.613Z"
   },
   {
    "duration": 680,
    "start_time": "2021-07-08T11:16:25.793Z"
   },
   {
    "duration": 451,
    "start_time": "2021-07-08T11:16:40.313Z"
   },
   {
    "duration": 469,
    "start_time": "2021-07-08T11:17:21.286Z"
   },
   {
    "duration": 20,
    "start_time": "2021-07-08T11:19:12.554Z"
   },
   {
    "duration": 35,
    "start_time": "2021-07-08T11:20:05.484Z"
   },
   {
    "duration": 53,
    "start_time": "2021-07-08T11:21:40.050Z"
   },
   {
    "duration": 13,
    "start_time": "2021-07-08T11:22:26.059Z"
   },
   {
    "duration": 19,
    "start_time": "2021-07-08T11:22:47.419Z"
   },
   {
    "duration": 25,
    "start_time": "2021-07-08T11:23:19.958Z"
   },
   {
    "duration": 29,
    "start_time": "2021-07-08T11:23:25.415Z"
   },
   {
    "duration": 10,
    "start_time": "2021-07-08T11:24:45.138Z"
   },
   {
    "duration": 19,
    "start_time": "2021-07-08T11:24:54.498Z"
   },
   {
    "duration": 12,
    "start_time": "2021-07-08T11:25:32.225Z"
   },
   {
    "duration": 19,
    "start_time": "2021-07-08T11:25:37.092Z"
   },
   {
    "duration": 17,
    "start_time": "2021-07-08T11:25:58.116Z"
   },
   {
    "duration": 15,
    "start_time": "2021-07-08T11:26:02.258Z"
   },
   {
    "duration": 8,
    "start_time": "2021-07-08T11:26:59.682Z"
   },
   {
    "duration": 184,
    "start_time": "2021-07-08T11:27:21.894Z"
   },
   {
    "duration": 8,
    "start_time": "2021-07-08T11:27:23.824Z"
   },
   {
    "duration": 202,
    "start_time": "2021-07-08T11:27:23.962Z"
   },
   {
    "duration": 360,
    "start_time": "2021-07-08T11:28:33.215Z"
   },
   {
    "duration": 231,
    "start_time": "2021-07-08T11:32:05.542Z"
   },
   {
    "duration": 607,
    "start_time": "2021-07-08T11:36:27.854Z"
   },
   {
    "duration": 241,
    "start_time": "2021-07-08T11:36:28.463Z"
   },
   {
    "duration": 67,
    "start_time": "2021-07-08T11:36:28.709Z"
   },
   {
    "duration": 5,
    "start_time": "2021-07-08T11:36:28.778Z"
   },
   {
    "duration": 32,
    "start_time": "2021-07-08T11:36:28.784Z"
   },
   {
    "duration": 11,
    "start_time": "2021-07-08T11:36:28.819Z"
   },
   {
    "duration": 20,
    "start_time": "2021-07-08T11:36:28.834Z"
   },
   {
    "duration": 36,
    "start_time": "2021-07-08T11:36:28.857Z"
   },
   {
    "duration": 16,
    "start_time": "2021-07-08T11:36:28.895Z"
   },
   {
    "duration": 14,
    "start_time": "2021-07-08T11:36:28.913Z"
   },
   {
    "duration": 9,
    "start_time": "2021-07-08T11:36:28.930Z"
   },
   {
    "duration": 55,
    "start_time": "2021-07-08T11:36:28.941Z"
   },
   {
    "duration": 27,
    "start_time": "2021-07-08T11:36:28.999Z"
   },
   {
    "duration": 30,
    "start_time": "2021-07-08T11:36:29.028Z"
   },
   {
    "duration": 31,
    "start_time": "2021-07-08T11:36:29.060Z"
   },
   {
    "duration": 3,
    "start_time": "2021-07-08T11:36:29.093Z"
   },
   {
    "duration": 12,
    "start_time": "2021-07-08T11:36:29.099Z"
   },
   {
    "duration": 11,
    "start_time": "2021-07-08T11:36:29.112Z"
   },
   {
    "duration": 12,
    "start_time": "2021-07-08T11:36:29.125Z"
   },
   {
    "duration": 9,
    "start_time": "2021-07-08T11:36:29.139Z"
   },
   {
    "duration": 31,
    "start_time": "2021-07-08T11:36:29.191Z"
   },
   {
    "duration": 17,
    "start_time": "2021-07-08T11:36:29.226Z"
   },
   {
    "duration": 7,
    "start_time": "2021-07-08T11:36:29.245Z"
   },
   {
    "duration": 10,
    "start_time": "2021-07-08T11:36:29.254Z"
   },
   {
    "duration": 30,
    "start_time": "2021-07-08T11:36:29.292Z"
   },
   {
    "duration": 11,
    "start_time": "2021-07-08T11:36:29.324Z"
   },
   {
    "duration": 11,
    "start_time": "2021-07-08T11:36:29.337Z"
   },
   {
    "duration": 230,
    "start_time": "2021-07-08T11:36:29.349Z"
   },
   {
    "duration": 13,
    "start_time": "2021-07-08T11:36:29.588Z"
   },
   {
    "duration": 205,
    "start_time": "2021-07-08T11:36:29.603Z"
   },
   {
    "duration": 20,
    "start_time": "2021-07-08T11:36:29.810Z"
   },
   {
    "duration": 9,
    "start_time": "2021-07-08T11:36:29.832Z"
   },
   {
    "duration": 16,
    "start_time": "2021-07-08T11:36:29.843Z"
   },
   {
    "duration": 283,
    "start_time": "2021-07-08T11:36:29.861Z"
   },
   {
    "duration": 50,
    "start_time": "2021-07-08T11:36:30.146Z"
   },
   {
    "duration": 14,
    "start_time": "2021-07-08T11:36:30.198Z"
   },
   {
    "duration": 11,
    "start_time": "2021-07-08T11:36:30.214Z"
   },
   {
    "duration": 245,
    "start_time": "2021-07-08T11:36:30.227Z"
   },
   {
    "duration": 439,
    "start_time": "2021-07-08T11:36:30.474Z"
   },
   {
    "duration": 210,
    "start_time": "2021-07-08T11:36:30.915Z"
   },
   {
    "duration": 15,
    "start_time": "2021-07-08T11:36:31.127Z"
   },
   {
    "duration": 17,
    "start_time": "2021-07-08T11:38:20.451Z"
   },
   {
    "duration": 642,
    "start_time": "2021-07-08T11:46:17.881Z"
   },
   {
    "duration": 210,
    "start_time": "2021-07-08T11:46:18.525Z"
   },
   {
    "duration": 104,
    "start_time": "2021-07-08T11:46:18.741Z"
   },
   {
    "duration": 8,
    "start_time": "2021-07-08T11:46:18.847Z"
   },
   {
    "duration": 25,
    "start_time": "2021-07-08T11:46:18.857Z"
   },
   {
    "duration": 14,
    "start_time": "2021-07-08T11:46:18.884Z"
   },
   {
    "duration": 22,
    "start_time": "2021-07-08T11:46:18.900Z"
   },
   {
    "duration": 5,
    "start_time": "2021-07-08T11:46:18.924Z"
   },
   {
    "duration": 13,
    "start_time": "2021-07-08T11:46:18.931Z"
   },
   {
    "duration": 45,
    "start_time": "2021-07-08T11:46:18.946Z"
   },
   {
    "duration": 12,
    "start_time": "2021-07-08T11:46:18.993Z"
   },
   {
    "duration": 38,
    "start_time": "2021-07-08T11:46:19.006Z"
   },
   {
    "duration": 50,
    "start_time": "2021-07-08T11:46:19.046Z"
   },
   {
    "duration": 29,
    "start_time": "2021-07-08T11:46:19.099Z"
   },
   {
    "duration": 7,
    "start_time": "2021-07-08T11:46:19.130Z"
   },
   {
    "duration": 3,
    "start_time": "2021-07-08T11:46:19.139Z"
   },
   {
    "duration": 11,
    "start_time": "2021-07-08T11:46:19.144Z"
   },
   {
    "duration": 40,
    "start_time": "2021-07-08T11:46:19.157Z"
   },
   {
    "duration": 15,
    "start_time": "2021-07-08T11:46:19.199Z"
   },
   {
    "duration": 10,
    "start_time": "2021-07-08T11:46:19.217Z"
   },
   {
    "duration": 68,
    "start_time": "2021-07-08T11:46:19.230Z"
   },
   {
    "duration": 17,
    "start_time": "2021-07-08T11:46:19.301Z"
   },
   {
    "duration": 7,
    "start_time": "2021-07-08T11:46:19.321Z"
   },
   {
    "duration": 11,
    "start_time": "2021-07-08T11:46:19.330Z"
   },
   {
    "duration": 59,
    "start_time": "2021-07-08T11:46:19.343Z"
   },
   {
    "duration": 17,
    "start_time": "2021-07-08T11:46:19.405Z"
   },
   {
    "duration": 16,
    "start_time": "2021-07-08T11:46:19.424Z"
   },
   {
    "duration": 252,
    "start_time": "2021-07-08T11:46:19.443Z"
   },
   {
    "duration": 9,
    "start_time": "2021-07-08T11:46:19.697Z"
   },
   {
    "duration": 224,
    "start_time": "2021-07-08T11:46:19.708Z"
   },
   {
    "duration": 21,
    "start_time": "2021-07-08T11:46:19.934Z"
   },
   {
    "duration": 9,
    "start_time": "2021-07-08T11:46:19.956Z"
   },
   {
    "duration": 32,
    "start_time": "2021-07-08T11:46:19.967Z"
   },
   {
    "duration": 288,
    "start_time": "2021-07-08T11:46:20.004Z"
   },
   {
    "duration": 23,
    "start_time": "2021-07-08T11:46:20.300Z"
   },
   {
    "duration": 11,
    "start_time": "2021-07-08T11:46:20.325Z"
   },
   {
    "duration": 11,
    "start_time": "2021-07-08T11:46:20.339Z"
   },
   {
    "duration": 259,
    "start_time": "2021-07-08T11:46:20.352Z"
   },
   {
    "duration": 438,
    "start_time": "2021-07-08T11:46:20.613Z"
   },
   {
    "duration": 207,
    "start_time": "2021-07-08T11:46:21.054Z"
   },
   {
    "duration": 27,
    "start_time": "2021-07-08T11:46:21.262Z"
   },
   {
    "duration": 19,
    "start_time": "2021-07-08T11:46:21.291Z"
   },
   {
    "duration": 820,
    "start_time": "2021-07-08T11:49:01.655Z"
   },
   {
    "duration": 372,
    "start_time": "2021-07-08T11:49:02.478Z"
   },
   {
    "duration": 98,
    "start_time": "2021-07-08T11:49:02.853Z"
   },
   {
    "duration": 6,
    "start_time": "2021-07-08T11:49:02.953Z"
   },
   {
    "duration": 39,
    "start_time": "2021-07-08T11:49:02.960Z"
   },
   {
    "duration": 9,
    "start_time": "2021-07-08T11:49:03.003Z"
   },
   {
    "duration": 23,
    "start_time": "2021-07-08T11:49:03.014Z"
   },
   {
    "duration": 6,
    "start_time": "2021-07-08T11:49:03.041Z"
   },
   {
    "duration": 20,
    "start_time": "2021-07-08T11:49:03.049Z"
   },
   {
    "duration": 18,
    "start_time": "2021-07-08T11:49:03.084Z"
   },
   {
    "duration": 14,
    "start_time": "2021-07-08T11:49:03.104Z"
   },
   {
    "duration": 39,
    "start_time": "2021-07-08T11:49:03.119Z"
   },
   {
    "duration": 38,
    "start_time": "2021-07-08T11:49:03.160Z"
   },
   {
    "duration": 26,
    "start_time": "2021-07-08T11:49:03.200Z"
   },
   {
    "duration": 7,
    "start_time": "2021-07-08T11:49:03.227Z"
   },
   {
    "duration": 4,
    "start_time": "2021-07-08T11:49:03.236Z"
   },
   {
    "duration": 15,
    "start_time": "2021-07-08T11:49:03.243Z"
   },
   {
    "duration": 21,
    "start_time": "2021-07-08T11:49:03.285Z"
   },
   {
    "duration": 17,
    "start_time": "2021-07-08T11:49:03.309Z"
   },
   {
    "duration": 10,
    "start_time": "2021-07-08T11:49:03.328Z"
   },
   {
    "duration": 65,
    "start_time": "2021-07-08T11:49:03.340Z"
   },
   {
    "duration": 18,
    "start_time": "2021-07-08T11:49:03.407Z"
   },
   {
    "duration": 8,
    "start_time": "2021-07-08T11:49:03.428Z"
   },
   {
    "duration": 15,
    "start_time": "2021-07-08T11:49:03.438Z"
   },
   {
    "duration": 40,
    "start_time": "2021-07-08T11:49:03.455Z"
   },
   {
    "duration": 12,
    "start_time": "2021-07-08T11:49:03.497Z"
   },
   {
    "duration": 29,
    "start_time": "2021-07-08T11:49:03.511Z"
   },
   {
    "duration": 285,
    "start_time": "2021-07-08T11:49:03.542Z"
   },
   {
    "duration": 8,
    "start_time": "2021-07-08T11:49:03.829Z"
   },
   {
    "duration": 227,
    "start_time": "2021-07-08T11:49:03.838Z"
   },
   {
    "duration": 40,
    "start_time": "2021-07-08T11:49:04.066Z"
   },
   {
    "duration": 10,
    "start_time": "2021-07-08T11:49:04.108Z"
   },
   {
    "duration": 26,
    "start_time": "2021-07-08T11:49:04.121Z"
   },
   {
    "duration": 290,
    "start_time": "2021-07-08T11:49:04.149Z"
   },
   {
    "duration": 26,
    "start_time": "2021-07-08T11:49:04.441Z"
   },
   {
    "duration": 31,
    "start_time": "2021-07-08T11:49:04.470Z"
   },
   {
    "duration": 14,
    "start_time": "2021-07-08T11:49:04.503Z"
   },
   {
    "duration": 259,
    "start_time": "2021-07-08T11:49:04.521Z"
   },
   {
    "duration": 480,
    "start_time": "2021-07-08T11:49:04.782Z"
   },
   {
    "duration": 225,
    "start_time": "2021-07-08T11:49:05.264Z"
   },
   {
    "duration": 22,
    "start_time": "2021-07-08T11:49:05.491Z"
   },
   {
    "duration": 24,
    "start_time": "2021-07-08T11:49:05.515Z"
   },
   {
    "duration": 634,
    "start_time": "2021-07-08T11:52:24.960Z"
   },
   {
    "duration": 199,
    "start_time": "2021-07-08T11:52:25.599Z"
   },
   {
    "duration": 106,
    "start_time": "2021-07-08T11:52:25.803Z"
   },
   {
    "duration": 7,
    "start_time": "2021-07-08T11:52:25.911Z"
   },
   {
    "duration": 29,
    "start_time": "2021-07-08T11:52:25.920Z"
   },
   {
    "duration": 7,
    "start_time": "2021-07-08T11:52:25.951Z"
   },
   {
    "duration": 26,
    "start_time": "2021-07-08T11:52:25.961Z"
   },
   {
    "duration": 11,
    "start_time": "2021-07-08T11:52:25.990Z"
   },
   {
    "duration": 29,
    "start_time": "2021-07-08T11:52:26.005Z"
   },
   {
    "duration": 9,
    "start_time": "2021-07-08T11:52:26.036Z"
   },
   {
    "duration": 8,
    "start_time": "2021-07-08T11:52:26.047Z"
   },
   {
    "duration": 63,
    "start_time": "2021-07-08T11:52:26.057Z"
   },
   {
    "duration": 17,
    "start_time": "2021-07-08T11:52:26.122Z"
   },
   {
    "duration": 43,
    "start_time": "2021-07-08T11:52:26.142Z"
   },
   {
    "duration": 17,
    "start_time": "2021-07-08T11:52:26.187Z"
   },
   {
    "duration": 5,
    "start_time": "2021-07-08T11:52:26.206Z"
   },
   {
    "duration": 12,
    "start_time": "2021-07-08T11:52:26.212Z"
   },
   {
    "duration": 11,
    "start_time": "2021-07-08T11:52:26.226Z"
   },
   {
    "duration": 12,
    "start_time": "2021-07-08T11:52:26.238Z"
   },
   {
    "duration": 38,
    "start_time": "2021-07-08T11:52:26.252Z"
   },
   {
    "duration": 40,
    "start_time": "2021-07-08T11:52:26.292Z"
   },
   {
    "duration": 17,
    "start_time": "2021-07-08T11:52:26.336Z"
   },
   {
    "duration": 39,
    "start_time": "2021-07-08T11:52:26.355Z"
   },
   {
    "duration": 11,
    "start_time": "2021-07-08T11:52:26.395Z"
   },
   {
    "duration": 23,
    "start_time": "2021-07-08T11:52:26.408Z"
   },
   {
    "duration": 12,
    "start_time": "2021-07-08T11:52:26.432Z"
   },
   {
    "duration": 41,
    "start_time": "2021-07-08T11:52:26.446Z"
   },
   {
    "duration": 215,
    "start_time": "2021-07-08T11:52:26.493Z"
   },
   {
    "duration": 8,
    "start_time": "2021-07-08T11:52:26.710Z"
   },
   {
    "duration": 228,
    "start_time": "2021-07-08T11:52:26.720Z"
   },
   {
    "duration": 18,
    "start_time": "2021-07-08T11:52:26.950Z"
   },
   {
    "duration": 35,
    "start_time": "2021-07-08T11:52:26.969Z"
   },
   {
    "duration": 23,
    "start_time": "2021-07-08T11:52:27.006Z"
   },
   {
    "duration": 258,
    "start_time": "2021-07-08T11:52:27.030Z"
   },
   {
    "duration": 24,
    "start_time": "2021-07-08T11:52:27.290Z"
   },
   {
    "duration": 12,
    "start_time": "2021-07-08T11:52:27.316Z"
   },
   {
    "duration": 10,
    "start_time": "2021-07-08T11:52:27.329Z"
   },
   {
    "duration": 298,
    "start_time": "2021-07-08T11:52:27.341Z"
   },
   {
    "duration": 436,
    "start_time": "2021-07-08T11:52:27.641Z"
   },
   {
    "duration": 216,
    "start_time": "2021-07-08T11:52:28.079Z"
   },
   {
    "duration": 20,
    "start_time": "2021-07-08T11:52:28.297Z"
   },
   {
    "duration": 17,
    "start_time": "2021-07-08T11:52:28.319Z"
   },
   {
    "duration": 462,
    "start_time": "2023-10-02T16:24:47.546Z"
   },
   {
    "duration": 512,
    "start_time": "2023-10-02T16:26:29.737Z"
   },
   {
    "duration": 111,
    "start_time": "2023-10-02T16:26:36.024Z"
   },
   {
    "duration": 98,
    "start_time": "2023-10-02T16:26:53.582Z"
   },
   {
    "duration": 110,
    "start_time": "2023-10-02T16:28:08.533Z"
   },
   {
    "duration": 94,
    "start_time": "2023-10-02T16:29:49.556Z"
   },
   {
    "duration": 63,
    "start_time": "2023-10-02T16:29:57.326Z"
   },
   {
    "duration": 94,
    "start_time": "2023-10-02T16:30:06.369Z"
   },
   {
    "duration": 513,
    "start_time": "2023-10-04T13:43:02.559Z"
   },
   {
    "duration": 286,
    "start_time": "2023-10-04T13:43:05.840Z"
   },
   {
    "duration": 117,
    "start_time": "2023-10-04T13:43:11.009Z"
   },
   {
    "duration": 74,
    "start_time": "2023-10-04T13:48:43.811Z"
   },
   {
    "duration": 111,
    "start_time": "2023-10-04T13:49:13.179Z"
   },
   {
    "duration": 58,
    "start_time": "2023-10-04T13:49:26.457Z"
   },
   {
    "duration": 134,
    "start_time": "2023-10-04T13:58:14.232Z"
   },
   {
    "duration": 107,
    "start_time": "2023-10-04T13:58:22.672Z"
   },
   {
    "duration": 62,
    "start_time": "2023-10-04T13:58:42.659Z"
   },
   {
    "duration": 517,
    "start_time": "2023-10-04T14:00:55.008Z"
   },
   {
    "duration": 140,
    "start_time": "2023-10-04T14:00:55.527Z"
   },
   {
    "duration": 50,
    "start_time": "2023-10-04T14:00:55.668Z"
   },
   {
    "duration": 68,
    "start_time": "2023-10-04T14:01:37.186Z"
   },
   {
    "duration": 98,
    "start_time": "2023-10-04T14:29:21.202Z"
   },
   {
    "duration": 98,
    "start_time": "2023-10-04T14:29:39.157Z"
   },
   {
    "duration": 57,
    "start_time": "2023-10-04T14:30:02.445Z"
   },
   {
    "duration": 132,
    "start_time": "2023-10-04T14:34:26.569Z"
   },
   {
    "duration": 67,
    "start_time": "2023-10-04T14:34:56.417Z"
   },
   {
    "duration": 139,
    "start_time": "2023-10-04T14:59:14.368Z"
   },
   {
    "duration": 17,
    "start_time": "2023-10-04T14:59:27.441Z"
   },
   {
    "duration": 78,
    "start_time": "2023-10-04T14:59:40.366Z"
   },
   {
    "duration": 12,
    "start_time": "2023-10-04T15:00:11.302Z"
   },
   {
    "duration": 4,
    "start_time": "2023-10-04T15:00:26.159Z"
   },
   {
    "duration": 164,
    "start_time": "2023-10-04T15:00:26.167Z"
   },
   {
    "duration": 81,
    "start_time": "2023-10-04T15:00:26.334Z"
   },
   {
    "duration": 14,
    "start_time": "2023-10-04T15:00:30.184Z"
   },
   {
    "duration": 4,
    "start_time": "2023-10-04T15:22:49.703Z"
   },
   {
    "duration": 94,
    "start_time": "2023-10-04T15:31:58.276Z"
   },
   {
    "duration": 27,
    "start_time": "2023-10-04T15:34:52.277Z"
   },
   {
    "duration": 48,
    "start_time": "2023-10-04T15:40:37.034Z"
   },
   {
    "duration": 45,
    "start_time": "2023-10-04T15:40:44.899Z"
   },
   {
    "duration": 48,
    "start_time": "2023-10-04T15:43:28.991Z"
   },
   {
    "duration": 19,
    "start_time": "2023-10-04T15:43:50.664Z"
   },
   {
    "duration": 19,
    "start_time": "2023-10-04T15:44:03.871Z"
   },
   {
    "duration": 30,
    "start_time": "2023-10-04T15:44:15.679Z"
   },
   {
    "duration": 59,
    "start_time": "2023-10-04T15:44:25.737Z"
   },
   {
    "duration": 28,
    "start_time": "2023-10-04T15:44:31.608Z"
   },
   {
    "duration": 8,
    "start_time": "2023-10-04T15:47:01.797Z"
   },
   {
    "duration": 46,
    "start_time": "2023-10-04T15:47:04.142Z"
   },
   {
    "duration": 27,
    "start_time": "2023-10-04T15:47:09.837Z"
   },
   {
    "duration": 134,
    "start_time": "2023-10-04T15:48:29.663Z"
   },
   {
    "duration": 117,
    "start_time": "2023-10-04T15:48:44.763Z"
   },
   {
    "duration": 61,
    "start_time": "2023-10-04T15:48:56.861Z"
   },
   {
    "duration": 82,
    "start_time": "2023-10-04T15:49:20.137Z"
   },
   {
    "duration": 546,
    "start_time": "2023-10-04T15:50:04.720Z"
   },
   {
    "duration": 440,
    "start_time": "2023-10-04T15:50:52.499Z"
   },
   {
    "duration": 4,
    "start_time": "2023-10-04T15:51:20.163Z"
   },
   {
    "duration": 32,
    "start_time": "2023-10-04T15:51:24.997Z"
   },
   {
    "duration": 31,
    "start_time": "2023-10-04T15:51:39.896Z"
   },
   {
    "duration": 14,
    "start_time": "2023-10-04T15:51:54.691Z"
   },
   {
    "duration": 3,
    "start_time": "2023-10-04T15:52:26.701Z"
   },
   {
    "duration": 14,
    "start_time": "2023-10-04T15:52:29.864Z"
   },
   {
    "duration": 8,
    "start_time": "2023-10-04T15:52:39.752Z"
   },
   {
    "duration": 119,
    "start_time": "2023-10-04T15:52:39.764Z"
   },
   {
    "duration": 50,
    "start_time": "2023-10-04T15:52:39.886Z"
   },
   {
    "duration": 4,
    "start_time": "2023-10-04T15:52:39.937Z"
   },
   {
    "duration": 30,
    "start_time": "2023-10-04T15:52:44.233Z"
   },
   {
    "duration": 59,
    "start_time": "2023-10-04T15:53:08.883Z"
   },
   {
    "duration": 165,
    "start_time": "2023-10-04T15:53:18.893Z"
   },
   {
    "duration": 4,
    "start_time": "2023-10-04T15:53:34.307Z"
   },
   {
    "duration": 13,
    "start_time": "2023-10-04T15:53:38.110Z"
   },
   {
    "duration": 18,
    "start_time": "2023-10-04T15:53:54.179Z"
   },
   {
    "duration": 4,
    "start_time": "2023-10-04T15:54:04.127Z"
   },
   {
    "duration": 14,
    "start_time": "2023-10-04T15:54:18.470Z"
   },
   {
    "duration": 18,
    "start_time": "2023-10-04T15:54:27.696Z"
   },
   {
    "duration": 24,
    "start_time": "2023-10-04T15:54:46.074Z"
   },
   {
    "duration": 17,
    "start_time": "2023-10-04T15:55:05.973Z"
   },
   {
    "duration": 33,
    "start_time": "2023-10-04T15:55:42.876Z"
   },
   {
    "duration": 19,
    "start_time": "2023-10-04T15:55:53.934Z"
   },
   {
    "duration": 57,
    "start_time": "2023-10-04T15:56:17.944Z"
   },
   {
    "duration": 36,
    "start_time": "2023-10-04T18:25:47.253Z"
   },
   {
    "duration": 35,
    "start_time": "2023-10-04T18:26:42.980Z"
   },
   {
    "duration": 11,
    "start_time": "2023-10-04T18:27:48.933Z"
   },
   {
    "duration": 12,
    "start_time": "2023-10-04T18:27:57.828Z"
   },
   {
    "duration": 12,
    "start_time": "2023-10-04T18:28:43.565Z"
   },
   {
    "duration": 11,
    "start_time": "2023-10-04T18:28:52.967Z"
   },
   {
    "duration": 25,
    "start_time": "2023-10-04T18:29:07.816Z"
   },
   {
    "duration": 16,
    "start_time": "2023-10-04T18:29:18.566Z"
   },
   {
    "duration": 115,
    "start_time": "2023-10-04T18:31:17.682Z"
   },
   {
    "duration": 121,
    "start_time": "2023-10-04T18:31:45.188Z"
   },
   {
    "duration": 119,
    "start_time": "2023-10-04T18:32:05.573Z"
   },
   {
    "duration": 112,
    "start_time": "2023-10-04T18:32:46.134Z"
   },
   {
    "duration": 115,
    "start_time": "2023-10-04T18:33:25.114Z"
   },
   {
    "duration": 401,
    "start_time": "2023-10-04T18:38:46.686Z"
   },
   {
    "duration": 4,
    "start_time": "2023-10-04T18:39:43.632Z"
   },
   {
    "duration": 17,
    "start_time": "2023-10-04T18:51:42.125Z"
   },
   {
    "duration": 8,
    "start_time": "2023-10-04T19:04:32.598Z"
   },
   {
    "duration": 11,
    "start_time": "2023-10-04T19:05:27.113Z"
   },
   {
    "duration": 17,
    "start_time": "2023-10-04T19:05:38.059Z"
   },
   {
    "duration": 10,
    "start_time": "2023-10-04T19:06:07.789Z"
   },
   {
    "duration": 8,
    "start_time": "2023-10-04T19:06:40.921Z"
   },
   {
    "duration": 7,
    "start_time": "2023-10-04T19:06:52.277Z"
   },
   {
    "duration": 4,
    "start_time": "2023-10-04T19:07:21.091Z"
   },
   {
    "duration": 8,
    "start_time": "2023-10-04T19:07:37.853Z"
   },
   {
    "duration": 26,
    "start_time": "2023-10-04T19:08:22.129Z"
   },
   {
    "duration": 16,
    "start_time": "2023-10-04T19:08:41.614Z"
   },
   {
    "duration": 30,
    "start_time": "2023-10-04T19:09:11.238Z"
   },
   {
    "duration": 24,
    "start_time": "2023-10-04T19:09:28.322Z"
   },
   {
    "duration": 15,
    "start_time": "2023-10-04T19:09:55.290Z"
   },
   {
    "duration": 27,
    "start_time": "2023-10-04T19:11:37.026Z"
   },
   {
    "duration": 20,
    "start_time": "2023-10-04T19:11:43.535Z"
   },
   {
    "duration": 4,
    "start_time": "2023-10-04T19:14:37.416Z"
   },
   {
    "duration": 31,
    "start_time": "2023-10-04T19:14:40.428Z"
   },
   {
    "duration": 36,
    "start_time": "2023-10-04T19:14:49.486Z"
   },
   {
    "duration": 16,
    "start_time": "2023-10-04T19:15:09.353Z"
   },
   {
    "duration": 12,
    "start_time": "2023-10-04T19:23:43.340Z"
   },
   {
    "duration": 3,
    "start_time": "2023-10-04T19:25:02.389Z"
   },
   {
    "duration": 28,
    "start_time": "2023-10-04T19:25:06.186Z"
   },
   {
    "duration": 16,
    "start_time": "2023-10-04T19:25:12.633Z"
   },
   {
    "duration": 54,
    "start_time": "2023-10-05T11:27:21.169Z"
   },
   {
    "duration": 529,
    "start_time": "2023-10-05T11:27:28.481Z"
   },
   {
    "duration": 231,
    "start_time": "2023-10-05T11:27:29.012Z"
   },
   {
    "duration": 79,
    "start_time": "2023-10-05T11:27:29.245Z"
   },
   {
    "duration": 18,
    "start_time": "2023-10-05T11:27:29.326Z"
   },
   {
    "duration": 11,
    "start_time": "2023-10-05T11:27:29.346Z"
   },
   {
    "duration": 23,
    "start_time": "2023-10-05T11:27:29.358Z"
   },
   {
    "duration": 49,
    "start_time": "2023-10-05T11:27:29.383Z"
   },
   {
    "duration": 18,
    "start_time": "2023-10-05T11:27:29.433Z"
   },
   {
    "duration": 49,
    "start_time": "2023-10-05T11:27:29.453Z"
   },
   {
    "duration": 8,
    "start_time": "2023-10-05T11:29:15.030Z"
   },
   {
    "duration": 4,
    "start_time": "2023-10-05T11:29:55.893Z"
   },
   {
    "duration": 179,
    "start_time": "2023-10-05T11:29:55.899Z"
   },
   {
    "duration": 48,
    "start_time": "2023-10-05T11:29:56.080Z"
   },
   {
    "duration": 40,
    "start_time": "2023-10-05T11:29:56.131Z"
   },
   {
    "duration": 28,
    "start_time": "2023-10-05T11:29:56.174Z"
   },
   {
    "duration": 30,
    "start_time": "2023-10-05T11:29:56.204Z"
   },
   {
    "duration": 68,
    "start_time": "2023-10-05T11:29:56.236Z"
   },
   {
    "duration": 21,
    "start_time": "2023-10-05T11:29:56.306Z"
   },
   {
    "duration": 8,
    "start_time": "2023-10-05T11:30:01.166Z"
   },
   {
    "duration": 8,
    "start_time": "2023-10-05T11:30:31.723Z"
   },
   {
    "duration": 7,
    "start_time": "2023-10-05T11:39:32.610Z"
   },
   {
    "duration": 12,
    "start_time": "2023-10-05T11:40:22.223Z"
   },
   {
    "duration": 14,
    "start_time": "2023-10-05T11:41:20.308Z"
   },
   {
    "duration": 352,
    "start_time": "2023-10-05T11:48:17.217Z"
   },
   {
    "duration": 20,
    "start_time": "2023-10-05T11:52:40.124Z"
   },
   {
    "duration": 11,
    "start_time": "2023-10-05T11:52:50.828Z"
   },
   {
    "duration": 4,
    "start_time": "2023-10-05T11:57:23.059Z"
   },
   {
    "duration": 4,
    "start_time": "2023-10-05T12:08:22.987Z"
   },
   {
    "duration": 7,
    "start_time": "2023-10-05T12:08:35.944Z"
   },
   {
    "duration": 9,
    "start_time": "2023-10-05T12:09:06.295Z"
   },
   {
    "duration": 11,
    "start_time": "2023-10-05T12:10:20.044Z"
   },
   {
    "duration": 21,
    "start_time": "2023-10-05T12:10:30.865Z"
   },
   {
    "duration": 12,
    "start_time": "2023-10-05T12:10:38.216Z"
   },
   {
    "duration": 16,
    "start_time": "2023-10-05T12:10:55.161Z"
   },
   {
    "duration": 5,
    "start_time": "2023-10-05T12:17:20.322Z"
   },
   {
    "duration": 12,
    "start_time": "2023-10-05T12:17:23.394Z"
   },
   {
    "duration": 8,
    "start_time": "2023-10-05T12:17:39.942Z"
   },
   {
    "duration": 3,
    "start_time": "2023-10-05T12:17:50.583Z"
   },
   {
    "duration": 11,
    "start_time": "2023-10-05T12:17:54.337Z"
   },
   {
    "duration": 18,
    "start_time": "2023-10-05T12:18:17.792Z"
   },
   {
    "duration": 13,
    "start_time": "2023-10-05T12:18:40.809Z"
   },
   {
    "duration": 7,
    "start_time": "2023-10-05T12:18:55.329Z"
   },
   {
    "duration": 4,
    "start_time": "2023-10-05T12:19:18.633Z"
   },
   {
    "duration": 116,
    "start_time": "2023-10-05T12:27:24.354Z"
   },
   {
    "duration": 8,
    "start_time": "2023-10-05T12:27:44.666Z"
   },
   {
    "duration": 13,
    "start_time": "2023-10-05T12:27:57.482Z"
   },
   {
    "duration": 5,
    "start_time": "2023-10-05T12:28:36.052Z"
   },
   {
    "duration": 7,
    "start_time": "2023-10-05T12:28:55.497Z"
   },
   {
    "duration": 8,
    "start_time": "2023-10-05T12:29:28.901Z"
   },
   {
    "duration": 8,
    "start_time": "2023-10-05T12:29:42.904Z"
   },
   {
    "duration": 4,
    "start_time": "2023-10-05T12:29:55.644Z"
   },
   {
    "duration": 586,
    "start_time": "2023-10-05T12:33:34.493Z"
   },
   {
    "duration": 893,
    "start_time": "2023-10-06T14:00:38.846Z"
   },
   {
    "duration": 257,
    "start_time": "2023-10-06T14:00:39.743Z"
   },
   {
    "duration": 82,
    "start_time": "2023-10-06T14:00:40.001Z"
   },
   {
    "duration": 17,
    "start_time": "2023-10-06T14:00:40.085Z"
   },
   {
    "duration": 8,
    "start_time": "2023-10-06T14:00:40.104Z"
   },
   {
    "duration": 31,
    "start_time": "2023-10-06T14:00:40.113Z"
   },
   {
    "duration": 31,
    "start_time": "2023-10-06T14:00:40.145Z"
   },
   {
    "duration": 15,
    "start_time": "2023-10-06T14:00:40.178Z"
   },
   {
    "duration": 6,
    "start_time": "2023-10-06T14:00:40.194Z"
   },
   {
    "duration": 12,
    "start_time": "2023-10-06T14:00:40.202Z"
   },
   {
    "duration": 6,
    "start_time": "2023-10-06T14:00:40.216Z"
   },
   {
    "duration": 91,
    "start_time": "2023-10-06T14:00:40.224Z"
   },
   {
    "duration": 0,
    "start_time": "2023-10-06T14:00:40.317Z"
   },
   {
    "duration": 14,
    "start_time": "2023-10-06T14:01:05.141Z"
   },
   {
    "duration": 15,
    "start_time": "2023-10-06T14:01:06.716Z"
   },
   {
    "duration": 8,
    "start_time": "2023-10-06T14:01:36.696Z"
   },
   {
    "duration": 4,
    "start_time": "2023-10-06T14:01:46.139Z"
   },
   {
    "duration": 630,
    "start_time": "2023-10-06T14:01:56.174Z"
   },
   {
    "duration": 125,
    "start_time": "2023-10-06T14:01:56.806Z"
   },
   {
    "duration": 49,
    "start_time": "2023-10-06T14:01:56.933Z"
   },
   {
    "duration": 16,
    "start_time": "2023-10-06T14:01:56.984Z"
   },
   {
    "duration": 22,
    "start_time": "2023-10-06T14:01:57.002Z"
   },
   {
    "duration": 14,
    "start_time": "2023-10-06T14:01:57.026Z"
   },
   {
    "duration": 44,
    "start_time": "2023-10-06T14:01:57.043Z"
   },
   {
    "duration": 14,
    "start_time": "2023-10-06T14:01:57.090Z"
   },
   {
    "duration": 14,
    "start_time": "2023-10-06T14:01:57.105Z"
   },
   {
    "duration": 20,
    "start_time": "2023-10-06T14:01:57.121Z"
   },
   {
    "duration": 33,
    "start_time": "2023-10-06T14:01:57.142Z"
   },
   {
    "duration": 98,
    "start_time": "2023-10-06T14:01:57.177Z"
   },
   {
    "duration": 0,
    "start_time": "2023-10-06T14:01:57.276Z"
   },
   {
    "duration": 0,
    "start_time": "2023-10-06T14:01:57.277Z"
   },
   {
    "duration": 4,
    "start_time": "2023-10-06T14:02:13.642Z"
   },
   {
    "duration": 4,
    "start_time": "2023-10-06T14:02:18.083Z"
   },
   {
    "duration": 13,
    "start_time": "2023-10-06T14:02:22.660Z"
   },
   {
    "duration": 8,
    "start_time": "2023-10-06T14:02:53.940Z"
   },
   {
    "duration": 11,
    "start_time": "2023-10-06T14:03:15.239Z"
   },
   {
    "duration": 9,
    "start_time": "2023-10-06T14:03:24.633Z"
   },
   {
    "duration": 5,
    "start_time": "2023-10-06T14:03:29.390Z"
   },
   {
    "duration": 12,
    "start_time": "2023-10-06T14:03:46.467Z"
   },
   {
    "duration": 3,
    "start_time": "2023-10-06T14:05:57.768Z"
   },
   {
    "duration": 11,
    "start_time": "2023-10-06T14:06:02.042Z"
   },
   {
    "duration": 2,
    "start_time": "2023-10-06T14:06:13.110Z"
   },
   {
    "duration": 133,
    "start_time": "2023-10-06T14:06:13.116Z"
   },
   {
    "duration": 50,
    "start_time": "2023-10-06T14:06:13.251Z"
   },
   {
    "duration": 19,
    "start_time": "2023-10-06T14:06:13.302Z"
   },
   {
    "duration": 10,
    "start_time": "2023-10-06T14:06:13.323Z"
   },
   {
    "duration": 13,
    "start_time": "2023-10-06T14:06:13.334Z"
   },
   {
    "duration": 38,
    "start_time": "2023-10-06T14:06:13.348Z"
   },
   {
    "duration": 16,
    "start_time": "2023-10-06T14:06:13.387Z"
   },
   {
    "duration": 11,
    "start_time": "2023-10-06T14:06:13.405Z"
   },
   {
    "duration": 15,
    "start_time": "2023-10-06T14:06:13.417Z"
   },
   {
    "duration": 13,
    "start_time": "2023-10-06T14:06:13.434Z"
   },
   {
    "duration": 21,
    "start_time": "2023-10-06T14:06:13.449Z"
   },
   {
    "duration": 19,
    "start_time": "2023-10-06T14:06:13.471Z"
   },
   {
    "duration": 10,
    "start_time": "2023-10-06T14:06:18.841Z"
   },
   {
    "duration": 4,
    "start_time": "2023-10-06T14:06:27.053Z"
   },
   {
    "duration": 10,
    "start_time": "2023-10-06T14:06:31.124Z"
   },
   {
    "duration": 12,
    "start_time": "2023-10-06T14:06:42.789Z"
   },
   {
    "duration": 3,
    "start_time": "2023-10-06T14:06:49.004Z"
   },
   {
    "duration": 127,
    "start_time": "2023-10-06T14:06:49.009Z"
   },
   {
    "duration": 50,
    "start_time": "2023-10-06T14:06:49.138Z"
   },
   {
    "duration": 17,
    "start_time": "2023-10-06T14:06:49.190Z"
   },
   {
    "duration": 12,
    "start_time": "2023-10-06T14:06:49.209Z"
   },
   {
    "duration": 41,
    "start_time": "2023-10-06T14:06:49.222Z"
   },
   {
    "duration": 53,
    "start_time": "2023-10-06T14:06:49.265Z"
   },
   {
    "duration": 23,
    "start_time": "2023-10-06T14:06:49.320Z"
   },
   {
    "duration": 38,
    "start_time": "2023-10-06T14:06:49.344Z"
   },
   {
    "duration": 30,
    "start_time": "2023-10-06T14:06:49.383Z"
   },
   {
    "duration": 27,
    "start_time": "2023-10-06T14:06:49.415Z"
   },
   {
    "duration": 36,
    "start_time": "2023-10-06T14:06:49.443Z"
   },
   {
    "duration": 5,
    "start_time": "2023-10-06T14:06:49.481Z"
   },
   {
    "duration": 11,
    "start_time": "2023-10-06T14:06:49.488Z"
   },
   {
    "duration": 4,
    "start_time": "2023-10-06T14:07:03.252Z"
   },
   {
    "duration": 11,
    "start_time": "2023-10-06T14:07:06.297Z"
   },
   {
    "duration": 4,
    "start_time": "2023-10-06T14:07:30.246Z"
   },
   {
    "duration": 10,
    "start_time": "2023-10-06T14:07:38.592Z"
   },
   {
    "duration": 7,
    "start_time": "2023-10-06T14:11:14.495Z"
   },
   {
    "duration": 11,
    "start_time": "2023-10-06T14:11:44.422Z"
   },
   {
    "duration": 16,
    "start_time": "2023-10-06T14:13:53.392Z"
   },
   {
    "duration": 10,
    "start_time": "2023-10-06T14:14:05.411Z"
   },
   {
    "duration": 10,
    "start_time": "2023-10-06T14:14:11.989Z"
   },
   {
    "duration": 10,
    "start_time": "2023-10-06T14:14:18.172Z"
   },
   {
    "duration": 16,
    "start_time": "2023-10-06T14:14:23.700Z"
   },
   {
    "duration": 21,
    "start_time": "2023-10-06T14:14:54.816Z"
   },
   {
    "duration": 10,
    "start_time": "2023-10-06T14:31:42.083Z"
   },
   {
    "duration": 16,
    "start_time": "2023-10-06T15:52:00.871Z"
   },
   {
    "duration": 4,
    "start_time": "2023-10-06T15:53:46.710Z"
   },
   {
    "duration": 1018,
    "start_time": "2023-10-06T15:54:10.477Z"
   },
   {
    "duration": 983,
    "start_time": "2023-10-06T15:54:58.514Z"
   },
   {
    "duration": 1036,
    "start_time": "2023-10-06T15:56:41.730Z"
   },
   {
    "duration": 10,
    "start_time": "2023-10-06T15:56:50.068Z"
   },
   {
    "duration": 8,
    "start_time": "2023-10-06T15:57:13.262Z"
   },
   {
    "duration": 3,
    "start_time": "2023-10-06T15:57:47.311Z"
   },
   {
    "duration": 116,
    "start_time": "2023-10-06T15:57:47.317Z"
   },
   {
    "duration": 51,
    "start_time": "2023-10-06T15:57:47.435Z"
   },
   {
    "duration": 15,
    "start_time": "2023-10-06T15:57:47.488Z"
   },
   {
    "duration": 7,
    "start_time": "2023-10-06T15:57:47.505Z"
   },
   {
    "duration": 18,
    "start_time": "2023-10-06T15:57:47.514Z"
   },
   {
    "duration": 31,
    "start_time": "2023-10-06T15:57:47.534Z"
   },
   {
    "duration": 16,
    "start_time": "2023-10-06T15:57:47.567Z"
   },
   {
    "duration": 8,
    "start_time": "2023-10-06T15:57:47.585Z"
   },
   {
    "duration": 10,
    "start_time": "2023-10-06T15:57:47.594Z"
   },
   {
    "duration": 9,
    "start_time": "2023-10-06T15:57:47.606Z"
   },
   {
    "duration": 32,
    "start_time": "2023-10-06T15:57:47.617Z"
   },
   {
    "duration": 5,
    "start_time": "2023-10-06T15:57:47.687Z"
   },
   {
    "duration": 21,
    "start_time": "2023-10-06T15:57:47.694Z"
   },
   {
    "duration": 10,
    "start_time": "2023-10-06T15:57:55.763Z"
   },
   {
    "duration": 4,
    "start_time": "2023-10-06T15:58:15.221Z"
   },
   {
    "duration": 9,
    "start_time": "2023-10-06T15:58:19.896Z"
   },
   {
    "duration": 7,
    "start_time": "2023-10-06T15:58:38.136Z"
   },
   {
    "duration": 10,
    "start_time": "2023-10-06T16:00:58.785Z"
   },
   {
    "duration": 2,
    "start_time": "2023-10-06T16:04:14.037Z"
   },
   {
    "duration": 118,
    "start_time": "2023-10-06T16:04:14.041Z"
   },
   {
    "duration": 48,
    "start_time": "2023-10-06T16:04:14.161Z"
   },
   {
    "duration": 19,
    "start_time": "2023-10-06T16:04:14.211Z"
   },
   {
    "duration": 26,
    "start_time": "2023-10-06T16:04:14.232Z"
   },
   {
    "duration": 24,
    "start_time": "2023-10-06T16:04:14.260Z"
   },
   {
    "duration": 49,
    "start_time": "2023-10-06T16:04:14.285Z"
   },
   {
    "duration": 16,
    "start_time": "2023-10-06T16:04:14.335Z"
   },
   {
    "duration": 14,
    "start_time": "2023-10-06T16:04:14.352Z"
   },
   {
    "duration": 24,
    "start_time": "2023-10-06T16:04:14.368Z"
   },
   {
    "duration": 13,
    "start_time": "2023-10-06T16:04:14.395Z"
   },
   {
    "duration": 32,
    "start_time": "2023-10-06T16:04:14.410Z"
   },
   {
    "duration": 8,
    "start_time": "2023-10-06T16:04:14.443Z"
   },
   {
    "duration": 12,
    "start_time": "2023-10-06T16:04:18.694Z"
   },
   {
    "duration": 4,
    "start_time": "2023-10-06T16:04:43.342Z"
   },
   {
    "duration": 11,
    "start_time": "2023-10-06T16:04:47.126Z"
   },
   {
    "duration": 4,
    "start_time": "2023-10-06T16:12:02.922Z"
   },
   {
    "duration": 12,
    "start_time": "2023-10-06T16:12:21.388Z"
   },
   {
    "duration": 7,
    "start_time": "2023-10-06T16:12:45.511Z"
   },
   {
    "duration": 4,
    "start_time": "2023-10-06T16:12:53.357Z"
   },
   {
    "duration": 5,
    "start_time": "2023-10-06T16:16:54.646Z"
   },
   {
    "duration": 4,
    "start_time": "2023-10-06T16:35:12.744Z"
   },
   {
    "duration": 5,
    "start_time": "2023-10-06T16:37:32.761Z"
   },
   {
    "duration": 3,
    "start_time": "2023-10-06T16:48:30.971Z"
   },
   {
    "duration": 5,
    "start_time": "2023-10-06T16:49:50.372Z"
   },
   {
    "duration": 5,
    "start_time": "2023-10-06T18:12:42.488Z"
   },
   {
    "duration": 4,
    "start_time": "2023-10-06T18:17:09.357Z"
   },
   {
    "duration": 3,
    "start_time": "2023-10-06T18:21:38.623Z"
   },
   {
    "duration": 12,
    "start_time": "2023-10-06T18:23:33.938Z"
   },
   {
    "duration": 17,
    "start_time": "2023-10-06T18:23:58.474Z"
   },
   {
    "duration": 3,
    "start_time": "2023-10-06T18:27:39.920Z"
   },
   {
    "duration": 10,
    "start_time": "2023-10-06T18:29:20.311Z"
   },
   {
    "duration": 8,
    "start_time": "2023-10-06T18:29:35.154Z"
   },
   {
    "duration": 11,
    "start_time": "2023-10-06T18:29:40.841Z"
   },
   {
    "duration": 25,
    "start_time": "2023-10-06T18:31:25.397Z"
   },
   {
    "duration": 20,
    "start_time": "2023-10-06T18:31:31.880Z"
   },
   {
    "duration": 25,
    "start_time": "2023-10-06T18:34:06.984Z"
   },
   {
    "duration": 47,
    "start_time": "2023-10-07T19:43:20.870Z"
   },
   {
    "duration": 892,
    "start_time": "2023-10-07T19:43:33.633Z"
   },
   {
    "duration": 353,
    "start_time": "2023-10-07T19:43:34.528Z"
   },
   {
    "duration": 91,
    "start_time": "2023-10-07T19:43:34.883Z"
   },
   {
    "duration": 16,
    "start_time": "2023-10-07T19:43:34.977Z"
   },
   {
    "duration": 27,
    "start_time": "2023-10-07T19:43:34.995Z"
   },
   {
    "duration": 36,
    "start_time": "2023-10-07T19:43:35.024Z"
   },
   {
    "duration": 113,
    "start_time": "2023-10-07T19:43:35.066Z"
   },
   {
    "duration": 25,
    "start_time": "2023-10-07T19:43:35.181Z"
   },
   {
    "duration": 16,
    "start_time": "2023-10-07T19:43:35.208Z"
   },
   {
    "duration": 36,
    "start_time": "2023-10-07T19:43:35.226Z"
   },
   {
    "duration": 7,
    "start_time": "2023-10-07T19:43:35.264Z"
   },
   {
    "duration": 15,
    "start_time": "2023-10-07T19:43:35.273Z"
   },
   {
    "duration": 19,
    "start_time": "2023-10-07T19:43:35.290Z"
   },
   {
    "duration": 30,
    "start_time": "2023-10-07T19:43:35.310Z"
   },
   {
    "duration": 19,
    "start_time": "2023-10-07T19:43:35.342Z"
   },
   {
    "duration": 5,
    "start_time": "2023-10-07T19:43:35.365Z"
   },
   {
    "duration": 7,
    "start_time": "2023-10-07T19:43:35.371Z"
   },
   {
    "duration": 8,
    "start_time": "2023-10-07T19:43:35.379Z"
   },
   {
    "duration": 11,
    "start_time": "2023-10-07T19:43:35.388Z"
   },
   {
    "duration": 8,
    "start_time": "2023-10-07T19:43:35.400Z"
   },
   {
    "duration": 10,
    "start_time": "2023-10-07T19:43:35.410Z"
   },
   {
    "duration": 20,
    "start_time": "2023-10-07T19:43:35.421Z"
   },
   {
    "duration": 6,
    "start_time": "2023-10-07T19:43:35.443Z"
   },
   {
    "duration": 23,
    "start_time": "2023-10-07T19:43:35.450Z"
   },
   {
    "duration": 24,
    "start_time": "2023-10-07T19:43:38.192Z"
   },
   {
    "duration": 4,
    "start_time": "2023-10-07T19:44:03.067Z"
   },
   {
    "duration": 10,
    "start_time": "2023-10-07T19:44:07.284Z"
   },
   {
    "duration": 13,
    "start_time": "2023-10-07T19:44:21.364Z"
   },
   {
    "duration": 3,
    "start_time": "2023-10-07T19:44:28.819Z"
   },
   {
    "duration": 159,
    "start_time": "2023-10-07T19:44:28.824Z"
   },
   {
    "duration": 47,
    "start_time": "2023-10-07T19:44:28.984Z"
   },
   {
    "duration": 16,
    "start_time": "2023-10-07T19:44:29.033Z"
   },
   {
    "duration": 15,
    "start_time": "2023-10-07T19:44:29.056Z"
   },
   {
    "duration": 6,
    "start_time": "2023-10-07T19:44:29.073Z"
   },
   {
    "duration": 47,
    "start_time": "2023-10-07T19:44:29.080Z"
   },
   {
    "duration": 17,
    "start_time": "2023-10-07T19:44:29.129Z"
   },
   {
    "duration": 23,
    "start_time": "2023-10-07T19:44:29.149Z"
   },
   {
    "duration": 32,
    "start_time": "2023-10-07T19:44:29.174Z"
   },
   {
    "duration": 13,
    "start_time": "2023-10-07T19:44:29.208Z"
   },
   {
    "duration": 35,
    "start_time": "2023-10-07T19:44:29.222Z"
   },
   {
    "duration": 35,
    "start_time": "2023-10-07T19:44:29.258Z"
   },
   {
    "duration": 12,
    "start_time": "2023-10-07T19:44:29.295Z"
   },
   {
    "duration": 4,
    "start_time": "2023-10-07T19:44:37.144Z"
   },
   {
    "duration": 44,
    "start_time": "2023-10-07T19:44:41.925Z"
   },
   {
    "duration": 4,
    "start_time": "2023-10-07T19:45:00.025Z"
   },
   {
    "duration": 4,
    "start_time": "2023-10-07T19:45:04.040Z"
   },
   {
    "duration": 9,
    "start_time": "2023-10-07T19:45:08.673Z"
   },
   {
    "duration": 8,
    "start_time": "2023-10-07T19:45:15.271Z"
   },
   {
    "duration": 4,
    "start_time": "2023-10-07T19:45:19.378Z"
   },
   {
    "duration": 3,
    "start_time": "2023-10-07T19:45:22.475Z"
   },
   {
    "duration": 4,
    "start_time": "2023-10-07T19:45:26.758Z"
   },
   {
    "duration": 5,
    "start_time": "2023-10-07T19:45:31.571Z"
   },
   {
    "duration": 5,
    "start_time": "2023-10-07T19:45:35.319Z"
   },
   {
    "duration": 4,
    "start_time": "2023-10-07T19:45:39.687Z"
   },
   {
    "duration": 4,
    "start_time": "2023-10-07T19:45:42.809Z"
   },
   {
    "duration": 3,
    "start_time": "2023-10-07T19:45:45.994Z"
   },
   {
    "duration": 10,
    "start_time": "2023-10-07T19:45:49.750Z"
   },
   {
    "duration": 24,
    "start_time": "2023-10-07T19:45:58.147Z"
   },
   {
    "duration": 18,
    "start_time": "2023-10-07T19:46:27.179Z"
   },
   {
    "duration": 8,
    "start_time": "2023-10-07T20:08:55.969Z"
   },
   {
    "duration": 7,
    "start_time": "2023-10-07T20:09:03.792Z"
   },
   {
    "duration": 27,
    "start_time": "2023-10-07T20:11:32.997Z"
   },
   {
    "duration": 28,
    "start_time": "2023-10-07T20:12:23.737Z"
   },
   {
    "duration": 27,
    "start_time": "2023-10-07T20:13:51.541Z"
   },
   {
    "duration": 39,
    "start_time": "2023-10-07T20:14:20.393Z"
   },
   {
    "duration": 20,
    "start_time": "2023-10-07T20:22:54.401Z"
   },
   {
    "duration": 39,
    "start_time": "2023-10-07T20:23:16.312Z"
   },
   {
    "duration": 30,
    "start_time": "2023-10-07T20:23:32.398Z"
   },
   {
    "duration": 24,
    "start_time": "2023-10-07T20:24:00.207Z"
   },
   {
    "duration": 29,
    "start_time": "2023-10-07T20:25:24.680Z"
   },
   {
    "duration": 27,
    "start_time": "2023-10-07T20:26:15.725Z"
   },
   {
    "duration": 30,
    "start_time": "2023-10-07T20:26:45.527Z"
   },
   {
    "duration": 33,
    "start_time": "2023-10-07T20:31:53.465Z"
   },
   {
    "duration": 26,
    "start_time": "2023-10-07T20:41:50.149Z"
   },
   {
    "duration": 17,
    "start_time": "2023-10-07T21:08:45.891Z"
   },
   {
    "duration": 6,
    "start_time": "2023-10-07T21:19:18.583Z"
   },
   {
    "duration": 16,
    "start_time": "2023-10-07T21:20:40.479Z"
   },
   {
    "duration": 15,
    "start_time": "2023-10-07T21:21:25.770Z"
   },
   {
    "duration": 15,
    "start_time": "2023-10-07T21:22:47.796Z"
   },
   {
    "duration": 6,
    "start_time": "2023-10-07T21:24:53.445Z"
   },
   {
    "duration": 12,
    "start_time": "2023-10-07T21:25:24.711Z"
   },
   {
    "duration": 43,
    "start_time": "2023-10-09T14:17:43.462Z"
   },
   {
    "duration": 762,
    "start_time": "2023-10-09T14:17:47.570Z"
   },
   {
    "duration": 362,
    "start_time": "2023-10-09T14:17:48.335Z"
   },
   {
    "duration": 138,
    "start_time": "2023-10-09T14:17:48.699Z"
   },
   {
    "duration": 15,
    "start_time": "2023-10-09T14:17:48.839Z"
   },
   {
    "duration": 15,
    "start_time": "2023-10-09T14:17:48.856Z"
   },
   {
    "duration": 25,
    "start_time": "2023-10-09T14:17:48.873Z"
   },
   {
    "duration": 35,
    "start_time": "2023-10-09T14:17:48.900Z"
   },
   {
    "duration": 14,
    "start_time": "2023-10-09T14:17:48.936Z"
   },
   {
    "duration": 14,
    "start_time": "2023-10-09T14:17:48.952Z"
   },
   {
    "duration": 12,
    "start_time": "2023-10-09T14:17:48.968Z"
   },
   {
    "duration": 8,
    "start_time": "2023-10-09T14:17:48.981Z"
   },
   {
    "duration": 12,
    "start_time": "2023-10-09T14:17:48.990Z"
   },
   {
    "duration": 24,
    "start_time": "2023-10-09T14:17:49.003Z"
   },
   {
    "duration": 53,
    "start_time": "2023-10-09T14:17:49.028Z"
   },
   {
    "duration": 27,
    "start_time": "2023-10-09T14:17:49.083Z"
   },
   {
    "duration": 16,
    "start_time": "2023-10-09T14:17:49.112Z"
   },
   {
    "duration": 23,
    "start_time": "2023-10-09T14:17:49.131Z"
   },
   {
    "duration": 37,
    "start_time": "2023-10-09T14:17:49.155Z"
   },
   {
    "duration": 17,
    "start_time": "2023-10-09T14:17:49.193Z"
   },
   {
    "duration": 18,
    "start_time": "2023-10-09T14:17:49.212Z"
   },
   {
    "duration": 7,
    "start_time": "2023-10-09T14:17:49.231Z"
   },
   {
    "duration": 16,
    "start_time": "2023-10-09T14:17:49.239Z"
   },
   {
    "duration": 19,
    "start_time": "2023-10-09T14:17:49.256Z"
   },
   {
    "duration": 41,
    "start_time": "2023-10-09T14:17:49.276Z"
   },
   {
    "duration": 23,
    "start_time": "2023-10-09T14:17:49.319Z"
   },
   {
    "duration": 29,
    "start_time": "2023-10-09T14:17:49.344Z"
   },
   {
    "duration": 47,
    "start_time": "2023-10-09T14:17:49.374Z"
   },
   {
    "duration": 93,
    "start_time": "2023-10-09T14:17:49.423Z"
   },
   {
    "duration": 40,
    "start_time": "2023-10-09T14:17:49.518Z"
   },
   {
    "duration": 38,
    "start_time": "2023-10-09T14:17:49.559Z"
   },
   {
    "duration": 36,
    "start_time": "2023-10-09T14:17:49.599Z"
   },
   {
    "duration": 39,
    "start_time": "2023-10-09T14:17:49.637Z"
   },
   {
    "duration": 2,
    "start_time": "2023-10-09T14:19:56.736Z"
   },
   {
    "duration": 142,
    "start_time": "2023-10-09T14:19:56.740Z"
   },
   {
    "duration": 59,
    "start_time": "2023-10-09T14:19:56.884Z"
   },
   {
    "duration": 26,
    "start_time": "2023-10-09T14:19:56.945Z"
   },
   {
    "duration": 29,
    "start_time": "2023-10-09T14:19:56.974Z"
   },
   {
    "duration": 25,
    "start_time": "2023-10-09T14:19:57.005Z"
   },
   {
    "duration": 47,
    "start_time": "2023-10-09T14:19:57.032Z"
   },
   {
    "duration": 17,
    "start_time": "2023-10-09T14:19:57.081Z"
   },
   {
    "duration": 19,
    "start_time": "2023-10-09T14:19:57.100Z"
   },
   {
    "duration": 5,
    "start_time": "2023-10-09T14:19:57.121Z"
   },
   {
    "duration": 28,
    "start_time": "2023-10-09T14:19:57.127Z"
   },
   {
    "duration": 45,
    "start_time": "2023-10-09T14:19:57.161Z"
   },
   {
    "duration": 0,
    "start_time": "2023-10-09T14:19:57.208Z"
   },
   {
    "duration": 0,
    "start_time": "2023-10-09T14:19:57.210Z"
   },
   {
    "duration": 0,
    "start_time": "2023-10-09T14:19:57.211Z"
   },
   {
    "duration": 0,
    "start_time": "2023-10-09T14:19:57.212Z"
   },
   {
    "duration": 0,
    "start_time": "2023-10-09T14:19:57.213Z"
   },
   {
    "duration": 0,
    "start_time": "2023-10-09T14:19:57.214Z"
   },
   {
    "duration": 0,
    "start_time": "2023-10-09T14:19:57.216Z"
   },
   {
    "duration": 0,
    "start_time": "2023-10-09T14:19:57.217Z"
   },
   {
    "duration": 0,
    "start_time": "2023-10-09T14:19:57.218Z"
   },
   {
    "duration": 0,
    "start_time": "2023-10-09T14:19:57.219Z"
   },
   {
    "duration": 0,
    "start_time": "2023-10-09T14:19:57.220Z"
   },
   {
    "duration": 0,
    "start_time": "2023-10-09T14:19:57.221Z"
   },
   {
    "duration": 0,
    "start_time": "2023-10-09T14:19:57.222Z"
   },
   {
    "duration": 0,
    "start_time": "2023-10-09T14:19:57.223Z"
   },
   {
    "duration": 0,
    "start_time": "2023-10-09T14:19:57.223Z"
   },
   {
    "duration": 0,
    "start_time": "2023-10-09T14:19:57.225Z"
   },
   {
    "duration": 0,
    "start_time": "2023-10-09T14:19:57.226Z"
   },
   {
    "duration": 0,
    "start_time": "2023-10-09T14:19:57.227Z"
   },
   {
    "duration": 0,
    "start_time": "2023-10-09T14:19:57.228Z"
   },
   {
    "duration": 0,
    "start_time": "2023-10-09T14:19:57.251Z"
   },
   {
    "duration": 3,
    "start_time": "2023-10-09T14:20:11.442Z"
   },
   {
    "duration": 139,
    "start_time": "2023-10-09T14:20:11.448Z"
   },
   {
    "duration": 59,
    "start_time": "2023-10-09T14:20:11.589Z"
   },
   {
    "duration": 22,
    "start_time": "2023-10-09T14:20:11.650Z"
   },
   {
    "duration": 20,
    "start_time": "2023-10-09T14:20:11.674Z"
   },
   {
    "duration": 17,
    "start_time": "2023-10-09T14:20:11.696Z"
   },
   {
    "duration": 71,
    "start_time": "2023-10-09T14:20:11.714Z"
   },
   {
    "duration": 14,
    "start_time": "2023-10-09T14:20:11.786Z"
   },
   {
    "duration": 20,
    "start_time": "2023-10-09T14:20:11.801Z"
   },
   {
    "duration": 11,
    "start_time": "2023-10-09T14:20:11.822Z"
   },
   {
    "duration": 30,
    "start_time": "2023-10-09T14:20:11.836Z"
   },
   {
    "duration": 30,
    "start_time": "2023-10-09T14:20:11.868Z"
   },
   {
    "duration": 0,
    "start_time": "2023-10-09T14:20:11.900Z"
   },
   {
    "duration": 0,
    "start_time": "2023-10-09T14:20:11.901Z"
   },
   {
    "duration": 0,
    "start_time": "2023-10-09T14:20:11.902Z"
   },
   {
    "duration": 0,
    "start_time": "2023-10-09T14:20:11.902Z"
   },
   {
    "duration": 0,
    "start_time": "2023-10-09T14:20:11.903Z"
   },
   {
    "duration": 0,
    "start_time": "2023-10-09T14:20:11.904Z"
   },
   {
    "duration": 0,
    "start_time": "2023-10-09T14:20:11.905Z"
   },
   {
    "duration": 0,
    "start_time": "2023-10-09T14:20:11.906Z"
   },
   {
    "duration": 0,
    "start_time": "2023-10-09T14:20:11.907Z"
   },
   {
    "duration": 0,
    "start_time": "2023-10-09T14:20:11.908Z"
   },
   {
    "duration": 0,
    "start_time": "2023-10-09T14:20:11.909Z"
   },
   {
    "duration": 0,
    "start_time": "2023-10-09T14:20:11.910Z"
   },
   {
    "duration": 0,
    "start_time": "2023-10-09T14:20:11.911Z"
   },
   {
    "duration": 0,
    "start_time": "2023-10-09T14:20:11.912Z"
   },
   {
    "duration": 0,
    "start_time": "2023-10-09T14:20:11.913Z"
   },
   {
    "duration": 0,
    "start_time": "2023-10-09T14:20:11.914Z"
   },
   {
    "duration": 0,
    "start_time": "2023-10-09T14:20:11.915Z"
   },
   {
    "duration": 0,
    "start_time": "2023-10-09T14:20:11.916Z"
   },
   {
    "duration": 0,
    "start_time": "2023-10-09T14:20:11.917Z"
   },
   {
    "duration": 0,
    "start_time": "2023-10-09T14:20:11.918Z"
   },
   {
    "duration": 18,
    "start_time": "2023-10-09T14:20:20.563Z"
   },
   {
    "duration": 2,
    "start_time": "2023-10-09T14:20:39.091Z"
   },
   {
    "duration": 127,
    "start_time": "2023-10-09T14:20:39.095Z"
   },
   {
    "duration": 53,
    "start_time": "2023-10-09T14:20:39.224Z"
   },
   {
    "duration": 13,
    "start_time": "2023-10-09T14:20:39.279Z"
   },
   {
    "duration": 13,
    "start_time": "2023-10-09T14:20:39.294Z"
   },
   {
    "duration": 12,
    "start_time": "2023-10-09T14:20:39.309Z"
   },
   {
    "duration": 63,
    "start_time": "2023-10-09T14:20:39.323Z"
   },
   {
    "duration": 15,
    "start_time": "2023-10-09T14:20:39.388Z"
   },
   {
    "duration": 18,
    "start_time": "2023-10-09T14:20:39.404Z"
   },
   {
    "duration": 21,
    "start_time": "2023-10-09T14:20:39.424Z"
   },
   {
    "duration": 16,
    "start_time": "2023-10-09T14:20:39.448Z"
   },
   {
    "duration": 44,
    "start_time": "2023-10-09T14:20:39.466Z"
   },
   {
    "duration": 0,
    "start_time": "2023-10-09T14:20:39.512Z"
   },
   {
    "duration": 0,
    "start_time": "2023-10-09T14:20:39.513Z"
   },
   {
    "duration": 0,
    "start_time": "2023-10-09T14:20:39.514Z"
   },
   {
    "duration": 0,
    "start_time": "2023-10-09T14:20:39.515Z"
   },
   {
    "duration": 0,
    "start_time": "2023-10-09T14:20:39.516Z"
   },
   {
    "duration": 0,
    "start_time": "2023-10-09T14:20:39.516Z"
   },
   {
    "duration": 0,
    "start_time": "2023-10-09T14:20:39.517Z"
   },
   {
    "duration": 0,
    "start_time": "2023-10-09T14:20:39.518Z"
   },
   {
    "duration": 0,
    "start_time": "2023-10-09T14:20:39.519Z"
   },
   {
    "duration": 0,
    "start_time": "2023-10-09T14:20:39.520Z"
   },
   {
    "duration": 0,
    "start_time": "2023-10-09T14:20:39.521Z"
   },
   {
    "duration": 0,
    "start_time": "2023-10-09T14:20:39.522Z"
   },
   {
    "duration": 0,
    "start_time": "2023-10-09T14:20:39.523Z"
   },
   {
    "duration": 0,
    "start_time": "2023-10-09T14:20:39.524Z"
   },
   {
    "duration": 0,
    "start_time": "2023-10-09T14:20:39.525Z"
   },
   {
    "duration": 0,
    "start_time": "2023-10-09T14:20:39.526Z"
   },
   {
    "duration": 0,
    "start_time": "2023-10-09T14:20:39.527Z"
   },
   {
    "duration": 0,
    "start_time": "2023-10-09T14:20:39.528Z"
   },
   {
    "duration": 0,
    "start_time": "2023-10-09T14:20:39.529Z"
   },
   {
    "duration": 20,
    "start_time": "2023-10-09T14:20:42.572Z"
   },
   {
    "duration": 13,
    "start_time": "2023-10-09T14:21:03.770Z"
   },
   {
    "duration": 18,
    "start_time": "2023-10-09T14:21:38.050Z"
   },
   {
    "duration": 22,
    "start_time": "2023-10-09T14:21:48.146Z"
   },
   {
    "duration": 2,
    "start_time": "2023-10-09T14:21:54.295Z"
   },
   {
    "duration": 107,
    "start_time": "2023-10-09T14:21:59.835Z"
   },
   {
    "duration": 60,
    "start_time": "2023-10-09T14:22:06.270Z"
   },
   {
    "duration": 16,
    "start_time": "2023-10-09T14:22:09.307Z"
   },
   {
    "duration": 8,
    "start_time": "2023-10-09T14:22:16.062Z"
   },
   {
    "duration": 4,
    "start_time": "2023-10-09T14:22:17.946Z"
   },
   {
    "duration": 27,
    "start_time": "2023-10-09T14:22:19.483Z"
   },
   {
    "duration": 16,
    "start_time": "2023-10-09T14:22:25.535Z"
   },
   {
    "duration": 7,
    "start_time": "2023-10-09T14:22:37.509Z"
   },
   {
    "duration": 4,
    "start_time": "2023-10-09T14:22:40.342Z"
   },
   {
    "duration": 4,
    "start_time": "2023-10-09T14:22:44.820Z"
   },
   {
    "duration": 12,
    "start_time": "2023-10-09T14:22:46.506Z"
   },
   {
    "duration": 30,
    "start_time": "2023-10-09T14:22:47.338Z"
   },
   {
    "duration": 11,
    "start_time": "2023-10-09T14:23:06.243Z"
   },
   {
    "duration": 5,
    "start_time": "2023-10-09T14:23:12.292Z"
   },
   {
    "duration": 10,
    "start_time": "2023-10-09T14:23:14.271Z"
   },
   {
    "duration": 12,
    "start_time": "2023-10-09T14:23:21.246Z"
   },
   {
    "duration": 5,
    "start_time": "2023-10-09T14:23:25.891Z"
   },
   {
    "duration": 4,
    "start_time": "2023-10-09T14:23:27.196Z"
   },
   {
    "duration": 4,
    "start_time": "2023-10-09T14:23:28.543Z"
   },
   {
    "duration": 4,
    "start_time": "2023-10-09T14:23:32.473Z"
   },
   {
    "duration": 5,
    "start_time": "2023-10-09T14:23:33.691Z"
   },
   {
    "duration": 4,
    "start_time": "2023-10-09T14:23:34.893Z"
   },
   {
    "duration": 5,
    "start_time": "2023-10-09T14:23:39.562Z"
   },
   {
    "duration": 9,
    "start_time": "2023-10-09T14:23:40.687Z"
   },
   {
    "duration": 13,
    "start_time": "2023-10-09T14:23:42.842Z"
   },
   {
    "duration": 6,
    "start_time": "2023-10-09T14:24:35.943Z"
   },
   {
    "duration": 8,
    "start_time": "2023-10-09T14:24:36.947Z"
   },
   {
    "duration": 4,
    "start_time": "2023-10-09T14:24:37.487Z"
   },
   {
    "duration": 10,
    "start_time": "2023-10-09T14:24:39.709Z"
   },
   {
    "duration": 3,
    "start_time": "2023-10-09T14:24:56.464Z"
   },
   {
    "duration": 20,
    "start_time": "2023-10-09T14:24:57.293Z"
   },
   {
    "duration": 5,
    "start_time": "2023-10-09T14:27:25.890Z"
   },
   {
    "duration": 4,
    "start_time": "2023-10-09T14:27:28.807Z"
   },
   {
    "duration": 11,
    "start_time": "2023-10-09T14:27:31.237Z"
   },
   {
    "duration": 8,
    "start_time": "2023-10-09T14:27:43.938Z"
   },
   {
    "duration": 5,
    "start_time": "2023-10-09T14:27:46.237Z"
   },
   {
    "duration": 3,
    "start_time": "2023-10-09T14:27:47.382Z"
   },
   {
    "duration": 4,
    "start_time": "2023-10-09T14:27:48.477Z"
   },
   {
    "duration": 7,
    "start_time": "2023-10-09T14:27:50.790Z"
   },
   {
    "duration": 7,
    "start_time": "2023-10-09T14:27:51.850Z"
   },
   {
    "duration": 4,
    "start_time": "2023-10-09T14:27:55.441Z"
   },
   {
    "duration": 4,
    "start_time": "2023-10-09T14:27:57.091Z"
   },
   {
    "duration": 3,
    "start_time": "2023-10-09T14:27:58.370Z"
   },
   {
    "duration": 12,
    "start_time": "2023-10-09T14:27:59.875Z"
   },
   {
    "duration": 22,
    "start_time": "2023-10-09T14:28:12.902Z"
   },
   {
    "duration": 39,
    "start_time": "2023-10-09T14:28:14.042Z"
   },
   {
    "duration": 18,
    "start_time": "2023-10-09T14:28:24.734Z"
   },
   {
    "duration": 19,
    "start_time": "2023-10-09T14:28:29.938Z"
   },
   {
    "duration": 5,
    "start_time": "2023-10-09T14:28:33.134Z"
   },
   {
    "duration": 16,
    "start_time": "2023-10-09T14:28:35.128Z"
   },
   {
    "duration": 5,
    "start_time": "2023-10-09T14:28:41.263Z"
   },
   {
    "duration": 20,
    "start_time": "2023-10-09T14:28:43.653Z"
   },
   {
    "duration": 5,
    "start_time": "2023-10-09T14:48:41.321Z"
   },
   {
    "duration": 6,
    "start_time": "2023-10-09T15:21:48.174Z"
   },
   {
    "duration": 5,
    "start_time": "2023-10-09T15:22:02.143Z"
   },
   {
    "duration": 5,
    "start_time": "2023-10-09T15:25:45.794Z"
   },
   {
    "duration": 6,
    "start_time": "2023-10-09T15:28:48.881Z"
   },
   {
    "duration": 7,
    "start_time": "2023-10-09T15:33:34.881Z"
   },
   {
    "duration": 5,
    "start_time": "2023-10-09T15:37:22.672Z"
   },
   {
    "duration": 7,
    "start_time": "2023-10-09T15:37:36.239Z"
   },
   {
    "duration": 5,
    "start_time": "2023-10-09T15:39:11.332Z"
   },
   {
    "duration": 5,
    "start_time": "2023-10-09T15:46:19.810Z"
   },
   {
    "duration": 9,
    "start_time": "2023-10-09T15:46:28.729Z"
   },
   {
    "duration": 10,
    "start_time": "2023-10-09T18:38:05.099Z"
   },
   {
    "duration": 676,
    "start_time": "2023-10-09T18:39:22.072Z"
   },
   {
    "duration": 131,
    "start_time": "2023-10-09T18:39:22.761Z"
   },
   {
    "duration": 50,
    "start_time": "2023-10-09T18:39:22.894Z"
   },
   {
    "duration": 27,
    "start_time": "2023-10-09T18:39:22.946Z"
   },
   {
    "duration": 8,
    "start_time": "2023-10-09T18:39:22.975Z"
   },
   {
    "duration": 10,
    "start_time": "2023-10-09T18:39:22.985Z"
   },
   {
    "duration": 52,
    "start_time": "2023-10-09T18:39:22.997Z"
   },
   {
    "duration": 25,
    "start_time": "2023-10-09T18:39:23.051Z"
   },
   {
    "duration": 7,
    "start_time": "2023-10-09T18:39:23.077Z"
   },
   {
    "duration": 26,
    "start_time": "2023-10-09T18:39:23.085Z"
   },
   {
    "duration": 51,
    "start_time": "2023-10-09T18:39:23.112Z"
   },
   {
    "duration": 213,
    "start_time": "2023-10-09T18:39:23.169Z"
   },
   {
    "duration": 0,
    "start_time": "2023-10-09T18:39:23.384Z"
   },
   {
    "duration": 0,
    "start_time": "2023-10-09T18:39:23.386Z"
   },
   {
    "duration": 0,
    "start_time": "2023-10-09T18:39:23.388Z"
   },
   {
    "duration": 0,
    "start_time": "2023-10-09T18:39:23.389Z"
   },
   {
    "duration": 0,
    "start_time": "2023-10-09T18:39:23.390Z"
   },
   {
    "duration": 0,
    "start_time": "2023-10-09T18:39:23.391Z"
   },
   {
    "duration": 0,
    "start_time": "2023-10-09T18:39:23.392Z"
   },
   {
    "duration": 0,
    "start_time": "2023-10-09T18:39:23.394Z"
   },
   {
    "duration": 0,
    "start_time": "2023-10-09T18:39:23.395Z"
   },
   {
    "duration": 0,
    "start_time": "2023-10-09T18:39:23.397Z"
   },
   {
    "duration": 0,
    "start_time": "2023-10-09T18:39:23.398Z"
   },
   {
    "duration": 0,
    "start_time": "2023-10-09T18:39:23.400Z"
   },
   {
    "duration": 0,
    "start_time": "2023-10-09T18:39:23.401Z"
   },
   {
    "duration": 0,
    "start_time": "2023-10-09T18:39:23.403Z"
   },
   {
    "duration": 0,
    "start_time": "2023-10-09T18:39:23.404Z"
   },
   {
    "duration": 0,
    "start_time": "2023-10-09T18:39:23.405Z"
   },
   {
    "duration": 0,
    "start_time": "2023-10-09T18:39:23.407Z"
   },
   {
    "duration": 0,
    "start_time": "2023-10-09T18:39:23.408Z"
   },
   {
    "duration": 0,
    "start_time": "2023-10-09T18:39:23.410Z"
   },
   {
    "duration": 0,
    "start_time": "2023-10-09T18:39:23.456Z"
   },
   {
    "duration": 0,
    "start_time": "2023-10-09T18:39:23.458Z"
   },
   {
    "duration": 0,
    "start_time": "2023-10-09T18:39:23.461Z"
   },
   {
    "duration": 0,
    "start_time": "2023-10-09T18:39:23.462Z"
   },
   {
    "duration": 0,
    "start_time": "2023-10-09T18:39:23.464Z"
   },
   {
    "duration": 0,
    "start_time": "2023-10-09T18:39:23.465Z"
   },
   {
    "duration": 0,
    "start_time": "2023-10-09T18:39:23.467Z"
   },
   {
    "duration": 0,
    "start_time": "2023-10-09T18:39:23.468Z"
   },
   {
    "duration": 15,
    "start_time": "2023-10-09T18:40:20.980Z"
   },
   {
    "duration": 7,
    "start_time": "2023-10-09T18:40:29.024Z"
   },
   {
    "duration": 11,
    "start_time": "2023-10-09T18:40:34.194Z"
   },
   {
    "duration": 9,
    "start_time": "2023-10-09T18:40:41.305Z"
   },
   {
    "duration": 4,
    "start_time": "2023-10-09T18:40:43.309Z"
   },
   {
    "duration": 5,
    "start_time": "2023-10-09T18:40:45.729Z"
   },
   {
    "duration": 3,
    "start_time": "2023-10-09T18:40:49.394Z"
   },
   {
    "duration": 6,
    "start_time": "2023-10-09T18:40:51.410Z"
   },
   {
    "duration": 6,
    "start_time": "2023-10-09T18:40:53.595Z"
   },
   {
    "duration": 6,
    "start_time": "2023-10-09T18:40:57.316Z"
   },
   {
    "duration": 3,
    "start_time": "2023-10-09T18:40:59.201Z"
   },
   {
    "duration": 4,
    "start_time": "2023-10-09T18:41:02.083Z"
   },
   {
    "duration": 11,
    "start_time": "2023-10-09T18:41:05.771Z"
   },
   {
    "duration": 5,
    "start_time": "2023-10-09T18:41:52.582Z"
   },
   {
    "duration": 24,
    "start_time": "2023-10-09T18:41:56.381Z"
   },
   {
    "duration": 3,
    "start_time": "2023-10-09T18:42:28.998Z"
   },
   {
    "duration": 235,
    "start_time": "2023-10-09T18:42:29.003Z"
   },
   {
    "duration": 49,
    "start_time": "2023-10-09T18:42:29.240Z"
   },
   {
    "duration": 17,
    "start_time": "2023-10-09T18:42:29.291Z"
   },
   {
    "duration": 37,
    "start_time": "2023-10-09T18:42:29.309Z"
   },
   {
    "duration": 40,
    "start_time": "2023-10-09T18:42:29.348Z"
   },
   {
    "duration": 47,
    "start_time": "2023-10-09T18:42:29.389Z"
   },
   {
    "duration": 18,
    "start_time": "2023-10-09T18:42:29.438Z"
   },
   {
    "duration": 30,
    "start_time": "2023-10-09T18:42:29.459Z"
   },
   {
    "duration": 33,
    "start_time": "2023-10-09T18:42:29.490Z"
   },
   {
    "duration": 26,
    "start_time": "2023-10-09T18:42:29.524Z"
   },
   {
    "duration": 36,
    "start_time": "2023-10-09T18:42:29.553Z"
   },
   {
    "duration": 40,
    "start_time": "2023-10-09T18:42:29.590Z"
   },
   {
    "duration": 12,
    "start_time": "2023-10-09T18:42:33.641Z"
   },
   {
    "duration": 4,
    "start_time": "2023-10-09T18:43:15.308Z"
   },
   {
    "duration": 17,
    "start_time": "2023-10-09T18:43:17.488Z"
   },
   {
    "duration": 4,
    "start_time": "2023-10-09T18:43:28.581Z"
   },
   {
    "duration": 6,
    "start_time": "2023-10-09T18:43:33.235Z"
   },
   {
    "duration": 5,
    "start_time": "2023-10-09T18:43:36.214Z"
   },
   {
    "duration": 12,
    "start_time": "2023-10-09T18:43:39.211Z"
   },
   {
    "duration": 8,
    "start_time": "2023-10-09T18:43:48.808Z"
   },
   {
    "duration": 5,
    "start_time": "2023-10-09T18:43:51.032Z"
   },
   {
    "duration": 4,
    "start_time": "2023-10-09T18:43:53.740Z"
   },
   {
    "duration": 4,
    "start_time": "2023-10-09T18:43:55.617Z"
   },
   {
    "duration": 4,
    "start_time": "2023-10-09T18:43:58.305Z"
   },
   {
    "duration": 5,
    "start_time": "2023-10-09T18:44:03.272Z"
   },
   {
    "duration": 3,
    "start_time": "2023-10-09T18:44:05.429Z"
   },
   {
    "duration": 5,
    "start_time": "2023-10-09T18:44:10.003Z"
   },
   {
    "duration": 4,
    "start_time": "2023-10-09T18:44:12.378Z"
   },
   {
    "duration": 11,
    "start_time": "2023-10-09T18:44:15.882Z"
   },
   {
    "duration": 3,
    "start_time": "2023-10-09T18:44:22.649Z"
   },
   {
    "duration": 132,
    "start_time": "2023-10-09T18:44:22.666Z"
   },
   {
    "duration": 49,
    "start_time": "2023-10-09T18:44:22.800Z"
   },
   {
    "duration": 28,
    "start_time": "2023-10-09T18:44:22.857Z"
   },
   {
    "duration": 11,
    "start_time": "2023-10-09T18:44:22.887Z"
   },
   {
    "duration": 24,
    "start_time": "2023-10-09T18:44:22.900Z"
   },
   {
    "duration": 67,
    "start_time": "2023-10-09T18:44:22.925Z"
   },
   {
    "duration": 15,
    "start_time": "2023-10-09T18:44:22.993Z"
   },
   {
    "duration": 25,
    "start_time": "2023-10-09T18:44:23.010Z"
   },
   {
    "duration": 21,
    "start_time": "2023-10-09T18:44:23.037Z"
   },
   {
    "duration": 22,
    "start_time": "2023-10-09T18:44:23.064Z"
   },
   {
    "duration": 29,
    "start_time": "2023-10-09T18:44:23.087Z"
   },
   {
    "duration": 57,
    "start_time": "2023-10-09T18:44:23.117Z"
   },
   {
    "duration": 0,
    "start_time": "2023-10-09T18:44:23.176Z"
   },
   {
    "duration": 0,
    "start_time": "2023-10-09T18:44:23.177Z"
   },
   {
    "duration": 0,
    "start_time": "2023-10-09T18:44:23.178Z"
   },
   {
    "duration": 0,
    "start_time": "2023-10-09T18:44:23.180Z"
   },
   {
    "duration": 0,
    "start_time": "2023-10-09T18:44:23.181Z"
   },
   {
    "duration": 0,
    "start_time": "2023-10-09T18:44:23.184Z"
   },
   {
    "duration": 0,
    "start_time": "2023-10-09T18:44:23.185Z"
   },
   {
    "duration": 0,
    "start_time": "2023-10-09T18:44:23.186Z"
   },
   {
    "duration": 0,
    "start_time": "2023-10-09T18:44:23.187Z"
   },
   {
    "duration": 0,
    "start_time": "2023-10-09T18:44:23.189Z"
   },
   {
    "duration": 0,
    "start_time": "2023-10-09T18:44:23.190Z"
   },
   {
    "duration": 34,
    "start_time": "2023-10-09T18:44:27.348Z"
   },
   {
    "duration": 5,
    "start_time": "2023-10-09T18:45:16.386Z"
   },
   {
    "duration": 14,
    "start_time": "2023-10-09T18:45:22.070Z"
   },
   {
    "duration": 14,
    "start_time": "2023-10-09T18:45:42.640Z"
   },
   {
    "duration": 5,
    "start_time": "2023-10-09T18:45:46.199Z"
   },
   {
    "duration": 10,
    "start_time": "2023-10-09T18:45:50.912Z"
   },
   {
    "duration": 5,
    "start_time": "2023-10-09T18:46:49.705Z"
   },
   {
    "duration": 15,
    "start_time": "2023-10-09T18:46:53.777Z"
   },
   {
    "duration": 3,
    "start_time": "2023-10-09T18:47:08.827Z"
   },
   {
    "duration": 120,
    "start_time": "2023-10-09T18:47:09.190Z"
   },
   {
    "duration": 49,
    "start_time": "2023-10-09T18:47:09.312Z"
   },
   {
    "duration": 16,
    "start_time": "2023-10-09T18:47:09.364Z"
   },
   {
    "duration": 28,
    "start_time": "2023-10-09T18:47:09.382Z"
   },
   {
    "duration": 30,
    "start_time": "2023-10-09T18:47:09.412Z"
   },
   {
    "duration": 61,
    "start_time": "2023-10-09T18:47:09.444Z"
   },
   {
    "duration": 16,
    "start_time": "2023-10-09T18:47:09.506Z"
   },
   {
    "duration": 24,
    "start_time": "2023-10-09T18:47:09.524Z"
   },
   {
    "duration": 36,
    "start_time": "2023-10-09T18:47:09.550Z"
   },
   {
    "duration": 34,
    "start_time": "2023-10-09T18:47:09.588Z"
   },
   {
    "duration": 28,
    "start_time": "2023-10-09T18:47:09.624Z"
   },
   {
    "duration": 35,
    "start_time": "2023-10-09T18:47:09.654Z"
   },
   {
    "duration": 34,
    "start_time": "2023-10-09T18:47:09.691Z"
   },
   {
    "duration": 11,
    "start_time": "2023-10-09T18:47:14.411Z"
   },
   {
    "duration": 4,
    "start_time": "2023-10-09T18:47:31.216Z"
   },
   {
    "duration": 5,
    "start_time": "2023-10-09T18:47:34.330Z"
   },
   {
    "duration": 4,
    "start_time": "2023-10-09T18:47:38.198Z"
   },
   {
    "duration": 24,
    "start_time": "2023-10-09T18:47:38.205Z"
   },
   {
    "duration": 17,
    "start_time": "2023-10-09T18:47:41.677Z"
   },
   {
    "duration": 4,
    "start_time": "2023-10-09T18:47:59.834Z"
   },
   {
    "duration": 10,
    "start_time": "2023-10-09T18:48:03.595Z"
   },
   {
    "duration": 3,
    "start_time": "2023-10-09T18:48:04.285Z"
   },
   {
    "duration": 15,
    "start_time": "2023-10-09T18:48:38.341Z"
   },
   {
    "duration": 6,
    "start_time": "2023-10-09T18:48:46.120Z"
   },
   {
    "duration": 5,
    "start_time": "2023-10-09T18:48:50.686Z"
   },
   {
    "duration": 5,
    "start_time": "2023-10-09T18:48:57.988Z"
   },
   {
    "duration": 4,
    "start_time": "2023-10-09T18:49:13.950Z"
   },
   {
    "duration": 4,
    "start_time": "2023-10-09T18:49:21.883Z"
   },
   {
    "duration": 15,
    "start_time": "2023-10-09T18:49:24.248Z"
   },
   {
    "duration": 3,
    "start_time": "2023-10-09T18:49:32.244Z"
   },
   {
    "duration": 138,
    "start_time": "2023-10-09T18:49:32.265Z"
   },
   {
    "duration": 58,
    "start_time": "2023-10-09T18:49:32.406Z"
   },
   {
    "duration": 26,
    "start_time": "2023-10-09T18:49:32.466Z"
   },
   {
    "duration": 12,
    "start_time": "2023-10-09T18:49:32.494Z"
   },
   {
    "duration": 12,
    "start_time": "2023-10-09T18:49:32.509Z"
   },
   {
    "duration": 66,
    "start_time": "2023-10-09T18:49:32.523Z"
   },
   {
    "duration": 22,
    "start_time": "2023-10-09T18:49:32.591Z"
   },
   {
    "duration": 11,
    "start_time": "2023-10-09T18:49:32.616Z"
   },
   {
    "duration": 25,
    "start_time": "2023-10-09T18:49:32.629Z"
   },
   {
    "duration": 15,
    "start_time": "2023-10-09T18:49:32.656Z"
   },
   {
    "duration": 28,
    "start_time": "2023-10-09T18:49:32.672Z"
   },
   {
    "duration": 36,
    "start_time": "2023-10-09T18:49:32.702Z"
   },
   {
    "duration": 0,
    "start_time": "2023-10-09T18:49:32.740Z"
   },
   {
    "duration": 0,
    "start_time": "2023-10-09T18:49:32.742Z"
   },
   {
    "duration": 3,
    "start_time": "2023-10-09T18:49:53.924Z"
   },
   {
    "duration": 171,
    "start_time": "2023-10-09T18:49:53.929Z"
   },
   {
    "duration": 60,
    "start_time": "2023-10-09T18:49:54.103Z"
   },
   {
    "duration": 27,
    "start_time": "2023-10-09T18:49:54.169Z"
   },
   {
    "duration": 29,
    "start_time": "2023-10-09T18:49:54.199Z"
   },
   {
    "duration": 48,
    "start_time": "2023-10-09T18:49:54.229Z"
   },
   {
    "duration": 63,
    "start_time": "2023-10-09T18:49:54.281Z"
   },
   {
    "duration": 32,
    "start_time": "2023-10-09T18:49:54.346Z"
   },
   {
    "duration": 15,
    "start_time": "2023-10-09T18:49:54.381Z"
   },
   {
    "duration": 61,
    "start_time": "2023-10-09T18:49:54.398Z"
   },
   {
    "duration": 17,
    "start_time": "2023-10-09T18:49:54.470Z"
   },
   {
    "duration": 26,
    "start_time": "2023-10-09T18:49:54.489Z"
   },
   {
    "duration": 21,
    "start_time": "2023-10-09T18:49:54.519Z"
   },
   {
    "duration": 28,
    "start_time": "2023-10-09T18:49:54.543Z"
   },
   {
    "duration": 49,
    "start_time": "2023-10-09T18:49:54.573Z"
   },
   {
    "duration": 3,
    "start_time": "2023-10-09T18:51:48.825Z"
   },
   {
    "duration": 157,
    "start_time": "2023-10-09T18:51:48.830Z"
   },
   {
    "duration": 49,
    "start_time": "2023-10-09T18:51:48.989Z"
   },
   {
    "duration": 18,
    "start_time": "2023-10-09T18:51:49.040Z"
   },
   {
    "duration": 43,
    "start_time": "2023-10-09T18:51:49.060Z"
   },
   {
    "duration": 15,
    "start_time": "2023-10-09T18:51:49.106Z"
   },
   {
    "duration": 47,
    "start_time": "2023-10-09T18:51:49.122Z"
   },
   {
    "duration": 25,
    "start_time": "2023-10-09T18:51:49.171Z"
   },
   {
    "duration": 21,
    "start_time": "2023-10-09T18:51:49.198Z"
   },
   {
    "duration": 9,
    "start_time": "2023-10-09T18:51:49.220Z"
   },
   {
    "duration": 16,
    "start_time": "2023-10-09T18:51:49.230Z"
   },
   {
    "duration": 21,
    "start_time": "2023-10-09T18:51:49.247Z"
   },
   {
    "duration": 26,
    "start_time": "2023-10-09T18:51:49.271Z"
   },
   {
    "duration": 36,
    "start_time": "2023-10-09T18:51:49.298Z"
   },
   {
    "duration": 18,
    "start_time": "2023-10-09T18:51:54.491Z"
   },
   {
    "duration": 5,
    "start_time": "2023-10-09T18:52:46.714Z"
   },
   {
    "duration": 5,
    "start_time": "2023-10-09T18:52:57.976Z"
   },
   {
    "duration": 131,
    "start_time": "2023-10-09T18:52:57.984Z"
   },
   {
    "duration": 57,
    "start_time": "2023-10-09T18:52:58.116Z"
   },
   {
    "duration": 26,
    "start_time": "2023-10-09T18:52:58.175Z"
   },
   {
    "duration": 24,
    "start_time": "2023-10-09T18:52:58.204Z"
   },
   {
    "duration": 21,
    "start_time": "2023-10-09T18:52:58.230Z"
   },
   {
    "duration": 47,
    "start_time": "2023-10-09T18:52:58.260Z"
   },
   {
    "duration": 21,
    "start_time": "2023-10-09T18:52:58.309Z"
   },
   {
    "duration": 25,
    "start_time": "2023-10-09T18:52:58.332Z"
   },
   {
    "duration": 15,
    "start_time": "2023-10-09T18:52:58.359Z"
   },
   {
    "duration": 19,
    "start_time": "2023-10-09T18:52:58.376Z"
   },
   {
    "duration": 31,
    "start_time": "2023-10-09T18:52:58.396Z"
   },
   {
    "duration": 48,
    "start_time": "2023-10-09T18:52:58.429Z"
   },
   {
    "duration": 55,
    "start_time": "2023-10-09T18:52:58.480Z"
   },
   {
    "duration": 32,
    "start_time": "2023-10-09T18:52:58.537Z"
   },
   {
    "duration": 9,
    "start_time": "2023-10-09T18:52:58.572Z"
   },
   {
    "duration": 44,
    "start_time": "2023-10-09T18:52:58.582Z"
   },
   {
    "duration": 26,
    "start_time": "2023-10-09T18:52:58.628Z"
   },
   {
    "duration": 28,
    "start_time": "2023-10-09T18:52:58.657Z"
   },
   {
    "duration": 16,
    "start_time": "2023-10-09T18:52:58.688Z"
   },
   {
    "duration": 8,
    "start_time": "2023-10-09T18:52:58.706Z"
   },
   {
    "duration": 11,
    "start_time": "2023-10-09T18:52:58.715Z"
   },
   {
    "duration": 6,
    "start_time": "2023-10-09T18:52:58.728Z"
   },
   {
    "duration": 18,
    "start_time": "2023-10-09T18:52:58.736Z"
   },
   {
    "duration": 15,
    "start_time": "2023-10-09T18:53:01.599Z"
   },
   {
    "duration": 16,
    "start_time": "2023-10-09T19:39:22.684Z"
   },
   {
    "duration": 24,
    "start_time": "2023-10-09T19:54:35.147Z"
   },
   {
    "duration": 27,
    "start_time": "2023-10-09T20:03:13.579Z"
   },
   {
    "duration": 32,
    "start_time": "2023-10-09T20:13:45.940Z"
   },
   {
    "duration": 5,
    "start_time": "2023-10-09T20:17:27.005Z"
   },
   {
    "duration": 6,
    "start_time": "2023-10-09T20:19:52.906Z"
   },
   {
    "duration": 7,
    "start_time": "2023-10-09T20:21:01.986Z"
   },
   {
    "duration": 5,
    "start_time": "2023-10-09T20:21:37.725Z"
   },
   {
    "duration": 6,
    "start_time": "2023-10-09T20:22:01.392Z"
   },
   {
    "duration": 13,
    "start_time": "2023-10-09T20:27:31.977Z"
   },
   {
    "duration": 5,
    "start_time": "2023-10-09T20:30:22.690Z"
   },
   {
    "duration": 5,
    "start_time": "2023-10-09T20:30:29.104Z"
   },
   {
    "duration": 6,
    "start_time": "2023-10-09T20:30:37.637Z"
   },
   {
    "duration": 5,
    "start_time": "2023-10-09T20:31:08.375Z"
   },
   {
    "duration": 148,
    "start_time": "2023-10-09T20:31:08.381Z"
   },
   {
    "duration": 75,
    "start_time": "2023-10-09T20:31:08.530Z"
   },
   {
    "duration": 16,
    "start_time": "2023-10-09T20:31:08.607Z"
   },
   {
    "duration": 43,
    "start_time": "2023-10-09T20:31:08.624Z"
   },
   {
    "duration": 6,
    "start_time": "2023-10-09T20:31:08.674Z"
   },
   {
    "duration": 40,
    "start_time": "2023-10-09T20:31:08.681Z"
   },
   {
    "duration": 20,
    "start_time": "2023-10-09T20:31:08.723Z"
   },
   {
    "duration": 10,
    "start_time": "2023-10-09T20:31:08.746Z"
   },
   {
    "duration": 29,
    "start_time": "2023-10-09T20:31:08.758Z"
   },
   {
    "duration": 28,
    "start_time": "2023-10-09T20:31:08.789Z"
   },
   {
    "duration": 6,
    "start_time": "2023-10-09T20:31:08.818Z"
   },
   {
    "duration": 14,
    "start_time": "2023-10-09T20:31:08.826Z"
   },
   {
    "duration": 5,
    "start_time": "2023-10-09T20:31:08.841Z"
   },
   {
    "duration": 21,
    "start_time": "2023-10-09T20:31:08.847Z"
   },
   {
    "duration": 10,
    "start_time": "2023-10-09T20:31:08.874Z"
   },
   {
    "duration": 4,
    "start_time": "2023-10-09T20:31:08.885Z"
   },
   {
    "duration": 10,
    "start_time": "2023-10-09T20:31:08.891Z"
   },
   {
    "duration": 12,
    "start_time": "2023-10-09T20:31:08.902Z"
   },
   {
    "duration": 6,
    "start_time": "2023-10-09T20:31:08.916Z"
   },
   {
    "duration": 13,
    "start_time": "2023-10-09T20:31:08.923Z"
   },
   {
    "duration": 22,
    "start_time": "2023-10-09T20:31:08.938Z"
   },
   {
    "duration": 10,
    "start_time": "2023-10-09T20:31:08.961Z"
   },
   {
    "duration": 18,
    "start_time": "2023-10-09T20:31:08.972Z"
   },
   {
    "duration": 20,
    "start_time": "2023-10-09T20:31:08.992Z"
   },
   {
    "duration": 31,
    "start_time": "2023-10-09T20:31:09.014Z"
   },
   {
    "duration": 42,
    "start_time": "2023-10-09T20:31:09.047Z"
   },
   {
    "duration": 29,
    "start_time": "2023-10-09T20:31:09.093Z"
   },
   {
    "duration": 60,
    "start_time": "2023-10-09T20:31:09.124Z"
   },
   {
    "duration": 25,
    "start_time": "2023-10-09T20:31:09.186Z"
   },
   {
    "duration": 17,
    "start_time": "2023-10-09T20:31:09.212Z"
   },
   {
    "duration": 10,
    "start_time": "2023-10-09T20:31:09.230Z"
   },
   {
    "duration": 18,
    "start_time": "2023-10-09T20:31:09.241Z"
   },
   {
    "duration": 11,
    "start_time": "2023-10-09T20:31:09.261Z"
   },
   {
    "duration": 14,
    "start_time": "2023-10-09T20:31:09.277Z"
   },
   {
    "duration": 13,
    "start_time": "2023-10-09T20:31:09.292Z"
   },
   {
    "duration": 16,
    "start_time": "2023-10-09T20:31:09.307Z"
   },
   {
    "duration": 7,
    "start_time": "2023-10-09T20:31:09.324Z"
   },
   {
    "duration": 13,
    "start_time": "2023-10-09T20:31:09.332Z"
   },
   {
    "duration": 15,
    "start_time": "2023-10-09T20:31:09.346Z"
   },
   {
    "duration": 27,
    "start_time": "2023-10-09T20:31:09.362Z"
   },
   {
    "duration": 23,
    "start_time": "2023-10-09T20:31:14.780Z"
   },
   {
    "duration": 4,
    "start_time": "2023-10-09T20:31:18.796Z"
   },
   {
    "duration": 5,
    "start_time": "2023-10-09T20:32:33.996Z"
   },
   {
    "duration": 5,
    "start_time": "2023-10-09T20:32:53.080Z"
   },
   {
    "duration": 6,
    "start_time": "2023-10-09T20:33:41.579Z"
   },
   {
    "duration": 5,
    "start_time": "2023-10-09T20:33:55.578Z"
   },
   {
    "duration": 8,
    "start_time": "2023-10-09T20:34:06.177Z"
   },
   {
    "duration": 5,
    "start_time": "2023-10-09T20:34:27.935Z"
   },
   {
    "duration": 5,
    "start_time": "2023-10-09T20:34:52.303Z"
   },
   {
    "duration": 7,
    "start_time": "2023-10-09T20:35:15.728Z"
   },
   {
    "duration": 7,
    "start_time": "2023-10-09T20:35:56.928Z"
   },
   {
    "duration": 7,
    "start_time": "2023-10-09T20:36:14.381Z"
   },
   {
    "duration": 7,
    "start_time": "2023-10-09T20:38:59.706Z"
   },
   {
    "duration": 3,
    "start_time": "2023-10-09T20:39:27.410Z"
   },
   {
    "duration": 156,
    "start_time": "2023-10-09T20:39:27.415Z"
   },
   {
    "duration": 51,
    "start_time": "2023-10-09T20:39:27.576Z"
   },
   {
    "duration": 15,
    "start_time": "2023-10-09T20:39:27.628Z"
   },
   {
    "duration": 36,
    "start_time": "2023-10-09T20:39:27.645Z"
   },
   {
    "duration": 11,
    "start_time": "2023-10-09T20:39:27.683Z"
   },
   {
    "duration": 33,
    "start_time": "2023-10-09T20:39:27.695Z"
   },
   {
    "duration": 14,
    "start_time": "2023-10-09T20:39:27.730Z"
   },
   {
    "duration": 14,
    "start_time": "2023-10-09T20:39:27.746Z"
   },
   {
    "duration": 9,
    "start_time": "2023-10-09T20:39:27.769Z"
   },
   {
    "duration": 9,
    "start_time": "2023-10-09T20:39:27.783Z"
   },
   {
    "duration": 5,
    "start_time": "2023-10-09T20:39:27.793Z"
   },
   {
    "duration": 7,
    "start_time": "2023-10-09T20:39:27.799Z"
   },
   {
    "duration": 6,
    "start_time": "2023-10-09T20:39:27.807Z"
   },
   {
    "duration": 11,
    "start_time": "2023-10-09T20:39:27.814Z"
   },
   {
    "duration": 16,
    "start_time": "2023-10-09T20:39:27.826Z"
   },
   {
    "duration": 4,
    "start_time": "2023-10-09T20:39:27.843Z"
   },
   {
    "duration": 23,
    "start_time": "2023-10-09T20:39:27.849Z"
   },
   {
    "duration": 4,
    "start_time": "2023-10-09T20:39:27.878Z"
   },
   {
    "duration": 9,
    "start_time": "2023-10-09T20:39:27.884Z"
   },
   {
    "duration": 9,
    "start_time": "2023-10-09T20:39:27.894Z"
   },
   {
    "duration": 22,
    "start_time": "2023-10-09T20:39:27.904Z"
   },
   {
    "duration": 6,
    "start_time": "2023-10-09T20:39:27.927Z"
   },
   {
    "duration": 9,
    "start_time": "2023-10-09T20:39:27.934Z"
   },
   {
    "duration": 141,
    "start_time": "2023-10-09T20:39:27.944Z"
   },
   {
    "duration": 30,
    "start_time": "2023-10-09T20:39:28.087Z"
   },
   {
    "duration": 28,
    "start_time": "2023-10-09T20:39:28.118Z"
   },
   {
    "duration": 40,
    "start_time": "2023-10-09T20:39:28.148Z"
   },
   {
    "duration": 22,
    "start_time": "2023-10-09T20:39:28.191Z"
   },
   {
    "duration": 44,
    "start_time": "2023-10-09T20:39:28.215Z"
   },
   {
    "duration": 55,
    "start_time": "2023-10-09T20:39:28.262Z"
   },
   {
    "duration": 102,
    "start_time": "2023-10-09T20:39:28.320Z"
   },
   {
    "duration": 112,
    "start_time": "2023-10-09T20:39:28.423Z"
   },
   {
    "duration": 53,
    "start_time": "2023-10-09T20:39:28.537Z"
   },
   {
    "duration": 77,
    "start_time": "2023-10-09T20:39:28.592Z"
   },
   {
    "duration": 18,
    "start_time": "2023-10-09T20:39:28.672Z"
   },
   {
    "duration": 12,
    "start_time": "2023-10-09T20:39:28.692Z"
   },
   {
    "duration": 12,
    "start_time": "2023-10-09T20:39:28.705Z"
   },
   {
    "duration": 27,
    "start_time": "2023-10-09T20:39:28.719Z"
   },
   {
    "duration": 33,
    "start_time": "2023-10-09T20:39:28.748Z"
   },
   {
    "duration": 14,
    "start_time": "2023-10-09T20:39:28.783Z"
   },
   {
    "duration": 11,
    "start_time": "2023-10-09T20:39:28.799Z"
   },
   {
    "duration": 5,
    "start_time": "2023-10-09T20:39:32.579Z"
   },
   {
    "duration": 5,
    "start_time": "2023-10-09T20:39:55.618Z"
   },
   {
    "duration": 22,
    "start_time": "2023-10-09T20:40:41.265Z"
   },
   {
    "duration": 3,
    "start_time": "2023-10-09T20:40:53.670Z"
   },
   {
    "duration": 117,
    "start_time": "2023-10-09T20:40:53.690Z"
   },
   {
    "duration": 53,
    "start_time": "2023-10-09T20:40:53.809Z"
   },
   {
    "duration": 17,
    "start_time": "2023-10-09T20:40:53.865Z"
   },
   {
    "duration": 17,
    "start_time": "2023-10-09T20:40:53.883Z"
   },
   {
    "duration": 30,
    "start_time": "2023-10-09T20:40:53.902Z"
   },
   {
    "duration": 50,
    "start_time": "2023-10-09T20:40:53.934Z"
   },
   {
    "duration": 14,
    "start_time": "2023-10-09T20:40:53.986Z"
   },
   {
    "duration": 20,
    "start_time": "2023-10-09T20:40:54.002Z"
   },
   {
    "duration": 9,
    "start_time": "2023-10-09T20:40:54.024Z"
   },
   {
    "duration": 13,
    "start_time": "2023-10-09T20:40:54.035Z"
   },
   {
    "duration": 23,
    "start_time": "2023-10-09T20:40:54.053Z"
   },
   {
    "duration": 28,
    "start_time": "2023-10-09T20:40:54.077Z"
   },
   {
    "duration": 13,
    "start_time": "2023-10-09T20:40:54.107Z"
   },
   {
    "duration": 27,
    "start_time": "2023-10-09T20:40:54.124Z"
   },
   {
    "duration": 56,
    "start_time": "2023-10-09T20:40:54.152Z"
   },
   {
    "duration": 4,
    "start_time": "2023-10-09T20:40:54.211Z"
   },
   {
    "duration": 17,
    "start_time": "2023-10-09T20:40:54.217Z"
   },
   {
    "duration": 27,
    "start_time": "2023-10-09T20:40:54.236Z"
   },
   {
    "duration": 31,
    "start_time": "2023-10-09T20:40:54.265Z"
   },
   {
    "duration": 20,
    "start_time": "2023-10-09T20:40:54.298Z"
   },
   {
    "duration": 5,
    "start_time": "2023-10-09T20:40:54.320Z"
   },
   {
    "duration": 10,
    "start_time": "2023-10-09T20:40:54.327Z"
   },
   {
    "duration": 29,
    "start_time": "2023-10-09T20:40:54.339Z"
   },
   {
    "duration": 27,
    "start_time": "2023-10-09T20:40:54.370Z"
   },
   {
    "duration": 26,
    "start_time": "2023-10-09T20:40:54.399Z"
   },
   {
    "duration": 44,
    "start_time": "2023-10-09T20:40:54.426Z"
   },
   {
    "duration": 21,
    "start_time": "2023-10-09T20:40:54.472Z"
   },
   {
    "duration": 32,
    "start_time": "2023-10-09T20:40:54.495Z"
   },
   {
    "duration": 15,
    "start_time": "2023-10-09T20:40:54.529Z"
   },
   {
    "duration": 32,
    "start_time": "2023-10-09T20:40:54.545Z"
   },
   {
    "duration": 16,
    "start_time": "2023-10-09T20:40:54.578Z"
   },
   {
    "duration": 29,
    "start_time": "2023-10-09T20:40:54.596Z"
   },
   {
    "duration": 7,
    "start_time": "2023-10-09T20:40:54.627Z"
   },
   {
    "duration": 12,
    "start_time": "2023-10-09T20:40:54.635Z"
   },
   {
    "duration": 38,
    "start_time": "2023-10-09T20:40:54.649Z"
   },
   {
    "duration": 6,
    "start_time": "2023-10-09T20:40:54.689Z"
   },
   {
    "duration": 18,
    "start_time": "2023-10-09T20:40:54.697Z"
   },
   {
    "duration": 11,
    "start_time": "2023-10-09T20:40:54.716Z"
   },
   {
    "duration": 8,
    "start_time": "2023-10-09T20:40:54.728Z"
   },
   {
    "duration": 38,
    "start_time": "2023-10-09T20:40:54.738Z"
   },
   {
    "duration": 31,
    "start_time": "2023-10-09T20:40:54.781Z"
   },
   {
    "duration": 5,
    "start_time": "2023-10-09T20:41:03.813Z"
   },
   {
    "duration": 5,
    "start_time": "2023-10-09T20:41:13.090Z"
   },
   {
    "duration": 6,
    "start_time": "2023-10-09T20:41:23.474Z"
   },
   {
    "duration": 8,
    "start_time": "2023-10-09T20:45:42.070Z"
   },
   {
    "duration": 7,
    "start_time": "2023-10-09T20:47:06.935Z"
   },
   {
    "duration": 8,
    "start_time": "2023-10-09T20:52:11.009Z"
   },
   {
    "duration": 7,
    "start_time": "2023-10-09T20:52:40.636Z"
   },
   {
    "duration": 10,
    "start_time": "2023-10-09T20:53:10.711Z"
   },
   {
    "duration": 6,
    "start_time": "2023-10-09T20:53:52.300Z"
   },
   {
    "duration": 87,
    "start_time": "2023-10-09T21:07:04.994Z"
   },
   {
    "duration": 94,
    "start_time": "2023-10-09T21:07:18.705Z"
   },
   {
    "duration": 13,
    "start_time": "2023-10-09T21:07:26.387Z"
   },
   {
    "duration": 11,
    "start_time": "2023-10-09T21:08:09.392Z"
   },
   {
    "duration": 3,
    "start_time": "2023-10-09T21:19:13.751Z"
   },
   {
    "duration": 11,
    "start_time": "2023-10-09T21:20:07.020Z"
   },
   {
    "duration": 11,
    "start_time": "2023-10-09T21:20:47.162Z"
   },
   {
    "duration": 11,
    "start_time": "2023-10-09T21:21:23.450Z"
   },
   {
    "duration": 11,
    "start_time": "2023-10-09T21:21:54.894Z"
   },
   {
    "duration": 12,
    "start_time": "2023-10-09T21:22:20.664Z"
   },
   {
    "duration": 1217,
    "start_time": "2023-10-09T21:24:14.590Z"
   },
   {
    "duration": 805,
    "start_time": "2023-10-09T21:32:36.147Z"
   },
   {
    "duration": 706,
    "start_time": "2023-10-09T21:33:51.069Z"
   },
   {
    "duration": 779,
    "start_time": "2023-10-09T21:35:18.349Z"
   },
   {
    "duration": 841,
    "start_time": "2023-10-09T21:43:50.553Z"
   },
   {
    "duration": 10,
    "start_time": "2023-10-09T21:47:18.956Z"
   },
   {
    "duration": 26,
    "start_time": "2023-10-09T21:47:31.870Z"
   },
   {
    "duration": 26,
    "start_time": "2023-10-09T21:47:57.114Z"
   },
   {
    "duration": 25,
    "start_time": "2023-10-09T21:48:10.578Z"
   },
   {
    "duration": 25,
    "start_time": "2023-10-09T21:48:42.875Z"
   },
   {
    "duration": 16,
    "start_time": "2023-10-09T21:49:12.798Z"
   },
   {
    "duration": 24,
    "start_time": "2023-10-09T21:49:23.682Z"
   },
   {
    "duration": 32,
    "start_time": "2023-10-09T21:49:37.679Z"
   },
   {
    "duration": 27,
    "start_time": "2023-10-09T21:50:29.421Z"
   },
   {
    "duration": 968,
    "start_time": "2023-10-10T13:29:17.356Z"
   },
   {
    "duration": 409,
    "start_time": "2023-10-10T13:29:18.327Z"
   },
   {
    "duration": 81,
    "start_time": "2023-10-10T13:29:18.738Z"
   },
   {
    "duration": 18,
    "start_time": "2023-10-10T13:29:18.820Z"
   },
   {
    "duration": 34,
    "start_time": "2023-10-10T13:29:18.841Z"
   },
   {
    "duration": 14,
    "start_time": "2023-10-10T13:29:18.877Z"
   },
   {
    "duration": 50,
    "start_time": "2023-10-10T13:29:18.892Z"
   },
   {
    "duration": 29,
    "start_time": "2023-10-10T13:29:18.944Z"
   },
   {
    "duration": 61,
    "start_time": "2023-10-10T13:29:18.975Z"
   },
   {
    "duration": 27,
    "start_time": "2023-10-10T13:29:19.038Z"
   },
   {
    "duration": 23,
    "start_time": "2023-10-10T13:29:19.067Z"
   },
   {
    "duration": 24,
    "start_time": "2023-10-10T13:29:19.092Z"
   },
   {
    "duration": 49,
    "start_time": "2023-10-10T13:29:19.117Z"
   },
   {
    "duration": 53,
    "start_time": "2023-10-10T13:29:19.169Z"
   },
   {
    "duration": 44,
    "start_time": "2023-10-10T13:29:19.224Z"
   },
   {
    "duration": 32,
    "start_time": "2023-10-10T13:29:19.271Z"
   },
   {
    "duration": 30,
    "start_time": "2023-10-10T13:29:19.304Z"
   },
   {
    "duration": 51,
    "start_time": "2023-10-10T13:29:19.336Z"
   },
   {
    "duration": 31,
    "start_time": "2023-10-10T13:29:19.389Z"
   },
   {
    "duration": 35,
    "start_time": "2023-10-10T13:29:19.422Z"
   },
   {
    "duration": 60,
    "start_time": "2023-10-10T13:29:19.460Z"
   },
   {
    "duration": 47,
    "start_time": "2023-10-10T13:29:19.523Z"
   },
   {
    "duration": 47,
    "start_time": "2023-10-10T13:29:19.572Z"
   },
   {
    "duration": 32,
    "start_time": "2023-10-10T13:29:19.621Z"
   },
   {
    "duration": 35,
    "start_time": "2023-10-10T13:29:19.656Z"
   },
   {
    "duration": 36,
    "start_time": "2023-10-10T13:29:19.693Z"
   },
   {
    "duration": 43,
    "start_time": "2023-10-10T13:29:19.731Z"
   },
   {
    "duration": 32,
    "start_time": "2023-10-10T13:29:19.776Z"
   },
   {
    "duration": 47,
    "start_time": "2023-10-10T13:29:19.810Z"
   },
   {
    "duration": 49,
    "start_time": "2023-10-10T13:29:19.860Z"
   },
   {
    "duration": 47,
    "start_time": "2023-10-10T13:29:19.910Z"
   },
   {
    "duration": 28,
    "start_time": "2023-10-10T13:29:19.960Z"
   },
   {
    "duration": 130,
    "start_time": "2023-10-10T13:29:19.990Z"
   },
   {
    "duration": 119,
    "start_time": "2023-10-10T13:29:20.123Z"
   },
   {
    "duration": 63,
    "start_time": "2023-10-10T13:29:20.244Z"
   },
   {
    "duration": 116,
    "start_time": "2023-10-10T13:29:20.309Z"
   },
   {
    "duration": 91,
    "start_time": "2023-10-10T13:29:20.427Z"
   },
   {
    "duration": 74,
    "start_time": "2023-10-10T13:29:20.519Z"
   },
   {
    "duration": 105,
    "start_time": "2023-10-10T13:29:20.595Z"
   },
   {
    "duration": 36,
    "start_time": "2023-10-10T13:29:20.702Z"
   },
   {
    "duration": 78,
    "start_time": "2023-10-10T13:29:20.742Z"
   },
   {
    "duration": 76,
    "start_time": "2023-10-10T13:29:20.821Z"
   },
   {
    "duration": 98,
    "start_time": "2023-10-10T13:29:20.899Z"
   },
   {
    "duration": 111,
    "start_time": "2023-10-10T13:29:20.999Z"
   },
   {
    "duration": 4,
    "start_time": "2023-10-10T13:32:13.607Z"
   },
   {
    "duration": 18,
    "start_time": "2023-10-10T13:32:34.962Z"
   },
   {
    "duration": 6,
    "start_time": "2023-10-10T13:33:10.855Z"
   },
   {
    "duration": 4,
    "start_time": "2023-10-10T13:34:17.798Z"
   },
   {
    "duration": 10,
    "start_time": "2023-10-10T14:06:17.730Z"
   },
   {
    "duration": 15,
    "start_time": "2023-10-10T14:06:33.975Z"
   },
   {
    "duration": 11,
    "start_time": "2023-10-10T14:07:05.773Z"
   },
   {
    "duration": 16,
    "start_time": "2023-10-10T14:07:14.408Z"
   },
   {
    "duration": 14,
    "start_time": "2023-10-10T14:07:29.401Z"
   },
   {
    "duration": 71,
    "start_time": "2023-10-10T14:07:37.207Z"
   },
   {
    "duration": 15,
    "start_time": "2023-10-10T14:08:02.326Z"
   },
   {
    "duration": 102,
    "start_time": "2023-10-10T14:08:28.328Z"
   },
   {
    "duration": 14,
    "start_time": "2023-10-10T14:08:38.902Z"
   },
   {
    "duration": 17,
    "start_time": "2023-10-10T14:08:46.595Z"
   },
   {
    "duration": 18,
    "start_time": "2023-10-10T14:08:58.822Z"
   },
   {
    "duration": 239,
    "start_time": "2023-10-10T14:15:01.089Z"
   },
   {
    "duration": 8,
    "start_time": "2023-10-10T14:15:08.289Z"
   },
   {
    "duration": 851,
    "start_time": "2023-10-10T14:15:19.414Z"
   },
   {
    "duration": 4,
    "start_time": "2023-10-10T14:16:07.918Z"
   },
   {
    "duration": 1556,
    "start_time": "2023-10-10T14:16:36.891Z"
   },
   {
    "duration": 6,
    "start_time": "2023-10-10T14:22:03.569Z"
   },
   {
    "duration": 4,
    "start_time": "2023-10-10T14:22:36.083Z"
   },
   {
    "duration": 4,
    "start_time": "2023-10-10T14:22:47.727Z"
   },
   {
    "duration": 105,
    "start_time": "2023-10-10T14:26:27.908Z"
   },
   {
    "duration": 8,
    "start_time": "2023-10-10T14:26:38.528Z"
   },
   {
    "duration": 97,
    "start_time": "2023-10-10T14:28:40.333Z"
   },
   {
    "duration": 9,
    "start_time": "2023-10-10T14:28:47.729Z"
   },
   {
    "duration": 116,
    "start_time": "2023-10-10T14:29:46.871Z"
   },
   {
    "duration": 340,
    "start_time": "2023-10-10T14:30:07.862Z"
   },
   {
    "duration": 5,
    "start_time": "2023-10-10T14:30:19.583Z"
   },
   {
    "duration": 3,
    "start_time": "2023-10-10T14:30:57.588Z"
   },
   {
    "duration": 1460,
    "start_time": "2023-10-10T14:31:33.029Z"
   },
   {
    "duration": 1486,
    "start_time": "2023-10-10T14:31:53.896Z"
   },
   {
    "duration": 4,
    "start_time": "2023-10-10T14:32:18.755Z"
   },
   {
    "duration": 14,
    "start_time": "2023-10-10T14:32:32.920Z"
   },
   {
    "duration": 5,
    "start_time": "2023-10-10T14:33:17.261Z"
   },
   {
    "duration": 4,
    "start_time": "2023-10-10T14:35:39.147Z"
   },
   {
    "duration": 4,
    "start_time": "2023-10-10T14:36:00.069Z"
   },
   {
    "duration": 90,
    "start_time": "2023-10-10T14:36:36.562Z"
   },
   {
    "duration": 90,
    "start_time": "2023-10-10T14:36:49.515Z"
   },
   {
    "duration": 4,
    "start_time": "2023-10-10T14:37:13.019Z"
   },
   {
    "duration": 113,
    "start_time": "2023-10-10T14:37:26.696Z"
   },
   {
    "duration": 116,
    "start_time": "2023-10-10T14:37:38.071Z"
   },
   {
    "duration": 4,
    "start_time": "2023-10-10T14:37:45.572Z"
   },
   {
    "duration": 7,
    "start_time": "2023-10-10T14:38:36.855Z"
   },
   {
    "duration": 3,
    "start_time": "2023-10-10T14:43:45.861Z"
   },
   {
    "duration": 10,
    "start_time": "2023-10-10T14:44:49.396Z"
   },
   {
    "duration": 9,
    "start_time": "2023-10-10T14:45:00.386Z"
   },
   {
    "duration": 27,
    "start_time": "2023-10-10T14:46:30.096Z"
   },
   {
    "duration": 10,
    "start_time": "2023-10-10T14:46:59.864Z"
   },
   {
    "duration": 3,
    "start_time": "2023-10-10T14:47:22.581Z"
   },
   {
    "duration": 13,
    "start_time": "2023-10-10T14:47:24.408Z"
   },
   {
    "duration": 3,
    "start_time": "2023-10-10T14:47:40.854Z"
   },
   {
    "duration": 359,
    "start_time": "2023-10-10T14:47:43.719Z"
   },
   {
    "duration": 3,
    "start_time": "2023-10-10T14:47:58.404Z"
   },
   {
    "duration": 12,
    "start_time": "2023-10-10T14:47:59.214Z"
   },
   {
    "duration": 3,
    "start_time": "2023-10-10T14:50:42.572Z"
   },
   {
    "duration": 486,
    "start_time": "2023-10-10T14:50:43.292Z"
   },
   {
    "duration": 3,
    "start_time": "2023-10-10T14:50:57.233Z"
   },
   {
    "duration": 9,
    "start_time": "2023-10-10T14:50:57.969Z"
   },
   {
    "duration": 3,
    "start_time": "2023-10-10T14:51:58.623Z"
   },
   {
    "duration": 13,
    "start_time": "2023-10-10T14:51:59.413Z"
   },
   {
    "duration": 4,
    "start_time": "2023-10-10T14:52:13.282Z"
   },
   {
    "duration": 13,
    "start_time": "2023-10-10T14:52:13.909Z"
   },
   {
    "duration": 4,
    "start_time": "2023-10-10T14:56:04.540Z"
   },
   {
    "duration": 18,
    "start_time": "2023-10-10T14:56:05.181Z"
   },
   {
    "duration": 3,
    "start_time": "2023-10-10T14:56:15.915Z"
   },
   {
    "duration": 13,
    "start_time": "2023-10-10T14:56:17.851Z"
   },
   {
    "duration": 3,
    "start_time": "2023-10-10T14:56:24.058Z"
   },
   {
    "duration": 10,
    "start_time": "2023-10-10T14:56:24.885Z"
   },
   {
    "duration": 3,
    "start_time": "2023-10-10T14:58:16.713Z"
   },
   {
    "duration": 16,
    "start_time": "2023-10-10T14:58:17.379Z"
   },
   {
    "duration": 3,
    "start_time": "2023-10-10T14:58:38.737Z"
   },
   {
    "duration": 13,
    "start_time": "2023-10-10T14:58:40.022Z"
   },
   {
    "duration": 3,
    "start_time": "2023-10-10T14:59:00.445Z"
   },
   {
    "duration": 3,
    "start_time": "2023-10-10T15:03:09.080Z"
   },
   {
    "duration": 13,
    "start_time": "2023-10-10T15:03:09.720Z"
   },
   {
    "duration": 3,
    "start_time": "2023-10-10T15:03:29.575Z"
   },
   {
    "duration": 3,
    "start_time": "2023-10-10T15:03:36.469Z"
   },
   {
    "duration": 10,
    "start_time": "2023-10-10T15:05:02.999Z"
   },
   {
    "duration": 6,
    "start_time": "2023-10-10T15:05:16.745Z"
   },
   {
    "duration": 983,
    "start_time": "2023-10-10T15:05:28.015Z"
   },
   {
    "duration": 5,
    "start_time": "2023-10-10T15:10:33.958Z"
   },
   {
    "duration": 3,
    "start_time": "2023-10-10T15:10:48.371Z"
   },
   {
    "duration": 4,
    "start_time": "2023-10-10T15:11:21.300Z"
   },
   {
    "duration": 4,
    "start_time": "2023-10-10T15:11:38.834Z"
   },
   {
    "duration": 4,
    "start_time": "2023-10-10T15:11:39.493Z"
   },
   {
    "duration": 4,
    "start_time": "2023-10-10T15:12:55.940Z"
   },
   {
    "duration": 3,
    "start_time": "2023-10-10T15:12:56.538Z"
   },
   {
    "duration": 4,
    "start_time": "2023-10-10T15:13:16.539Z"
   },
   {
    "duration": 3,
    "start_time": "2023-10-10T15:13:17.114Z"
   },
   {
    "duration": 4,
    "start_time": "2023-10-10T15:13:23.750Z"
   },
   {
    "duration": 10,
    "start_time": "2023-10-10T15:25:45.518Z"
   },
   {
    "duration": 14,
    "start_time": "2023-10-10T15:26:00.481Z"
   },
   {
    "duration": 88,
    "start_time": "2023-10-10T15:34:38.436Z"
   },
   {
    "duration": 14,
    "start_time": "2023-10-10T15:34:48.300Z"
   },
   {
    "duration": 30,
    "start_time": "2023-10-10T15:36:01.468Z"
   },
   {
    "duration": 26,
    "start_time": "2023-10-10T15:36:20.231Z"
   },
   {
    "duration": 34,
    "start_time": "2023-10-10T15:36:39.729Z"
   },
   {
    "duration": 9,
    "start_time": "2023-10-10T15:37:04.407Z"
   },
   {
    "duration": 8,
    "start_time": "2023-10-10T15:41:06.672Z"
   },
   {
    "duration": 7,
    "start_time": "2023-10-10T15:52:38.938Z"
   },
   {
    "duration": 24,
    "start_time": "2023-10-10T15:53:02.784Z"
   },
   {
    "duration": 6,
    "start_time": "2023-10-10T15:53:52.010Z"
   },
   {
    "duration": 859,
    "start_time": "2023-10-11T10:41:15.229Z"
   },
   {
    "duration": 229,
    "start_time": "2023-10-11T10:41:16.091Z"
   },
   {
    "duration": 83,
    "start_time": "2023-10-11T10:41:16.322Z"
   },
   {
    "duration": 15,
    "start_time": "2023-10-11T10:41:16.407Z"
   },
   {
    "duration": 7,
    "start_time": "2023-10-11T10:41:16.424Z"
   },
   {
    "duration": 19,
    "start_time": "2023-10-11T10:41:16.433Z"
   },
   {
    "duration": 45,
    "start_time": "2023-10-11T10:41:16.453Z"
   },
   {
    "duration": 18,
    "start_time": "2023-10-11T10:41:16.499Z"
   },
   {
    "duration": 6,
    "start_time": "2023-10-11T10:41:16.519Z"
   },
   {
    "duration": 10,
    "start_time": "2023-10-11T10:41:16.527Z"
   },
   {
    "duration": 22,
    "start_time": "2023-10-11T10:41:16.538Z"
   },
   {
    "duration": 25,
    "start_time": "2023-10-11T10:41:16.561Z"
   },
   {
    "duration": 43,
    "start_time": "2023-10-11T10:41:16.587Z"
   },
   {
    "duration": 19,
    "start_time": "2023-10-11T10:41:16.632Z"
   },
   {
    "duration": 33,
    "start_time": "2023-10-11T10:41:16.652Z"
   },
   {
    "duration": 25,
    "start_time": "2023-10-11T10:41:16.687Z"
   },
   {
    "duration": 24,
    "start_time": "2023-10-11T10:41:16.713Z"
   },
   {
    "duration": 9,
    "start_time": "2023-10-11T10:41:16.738Z"
   },
   {
    "duration": 44,
    "start_time": "2023-10-11T10:41:16.749Z"
   },
   {
    "duration": 20,
    "start_time": "2023-10-11T10:41:16.794Z"
   },
   {
    "duration": 8,
    "start_time": "2023-10-11T10:41:16.815Z"
   },
   {
    "duration": 11,
    "start_time": "2023-10-11T10:41:16.824Z"
   },
   {
    "duration": 18,
    "start_time": "2023-10-11T10:41:16.836Z"
   },
   {
    "duration": 9,
    "start_time": "2023-10-11T10:41:16.855Z"
   },
   {
    "duration": 19,
    "start_time": "2023-10-11T10:41:16.865Z"
   },
   {
    "duration": 29,
    "start_time": "2023-10-11T10:41:16.885Z"
   },
   {
    "duration": 31,
    "start_time": "2023-10-11T10:41:16.916Z"
   },
   {
    "duration": 18,
    "start_time": "2023-10-11T10:41:16.951Z"
   },
   {
    "duration": 40,
    "start_time": "2023-10-11T10:41:16.971Z"
   },
   {
    "duration": 8,
    "start_time": "2023-10-11T10:41:17.013Z"
   },
   {
    "duration": 20,
    "start_time": "2023-10-11T10:41:17.022Z"
   },
   {
    "duration": 20,
    "start_time": "2023-10-11T10:41:17.043Z"
   },
   {
    "duration": 12,
    "start_time": "2023-10-11T10:41:17.064Z"
   },
   {
    "duration": 10,
    "start_time": "2023-10-11T10:41:17.077Z"
   },
   {
    "duration": 11,
    "start_time": "2023-10-11T10:41:17.088Z"
   },
   {
    "duration": 15,
    "start_time": "2023-10-11T10:41:17.100Z"
   },
   {
    "duration": 6,
    "start_time": "2023-10-11T10:41:17.116Z"
   },
   {
    "duration": 13,
    "start_time": "2023-10-11T10:41:17.123Z"
   },
   {
    "duration": 11,
    "start_time": "2023-10-11T10:41:17.137Z"
   },
   {
    "duration": 16,
    "start_time": "2023-10-11T10:41:17.149Z"
   },
   {
    "duration": 16,
    "start_time": "2023-10-11T10:41:17.167Z"
   },
   {
    "duration": 24,
    "start_time": "2023-10-11T10:41:17.184Z"
   },
   {
    "duration": 33,
    "start_time": "2023-10-11T10:41:17.209Z"
   },
   {
    "duration": 35,
    "start_time": "2023-10-11T10:41:17.244Z"
   },
   {
    "duration": 4,
    "start_time": "2023-10-11T10:41:17.280Z"
   },
   {
    "duration": 18,
    "start_time": "2023-10-11T10:41:17.285Z"
   },
   {
    "duration": 12,
    "start_time": "2023-10-11T10:41:17.305Z"
   },
   {
    "duration": 6,
    "start_time": "2023-10-11T10:41:22.839Z"
   },
   {
    "duration": 21,
    "start_time": "2023-10-11T10:41:26.435Z"
   },
   {
    "duration": 68,
    "start_time": "2023-10-11T10:43:01.786Z"
   },
   {
    "duration": 7,
    "start_time": "2023-10-11T10:43:10.384Z"
   },
   {
    "duration": 23,
    "start_time": "2023-10-11T10:43:14.336Z"
   },
   {
    "duration": 7,
    "start_time": "2023-10-11T10:43:29.576Z"
   },
   {
    "duration": 17,
    "start_time": "2023-10-11T10:43:33.412Z"
   },
   {
    "duration": 10,
    "start_time": "2023-10-11T10:44:08.689Z"
   },
   {
    "duration": 10,
    "start_time": "2023-10-11T10:44:20.169Z"
   },
   {
    "duration": 6,
    "start_time": "2023-10-11T10:47:48.767Z"
   },
   {
    "duration": 18,
    "start_time": "2023-10-11T10:47:52.249Z"
   },
   {
    "duration": 45,
    "start_time": "2023-10-11T10:50:20.323Z"
   },
   {
    "duration": 20,
    "start_time": "2023-10-11T10:50:22.712Z"
   },
   {
    "duration": 6,
    "start_time": "2023-10-11T10:52:22.729Z"
   },
   {
    "duration": 18,
    "start_time": "2023-10-11T10:52:25.577Z"
   },
   {
    "duration": 3,
    "start_time": "2023-10-11T10:56:14.178Z"
   },
   {
    "duration": 7,
    "start_time": "2023-10-11T10:58:25.633Z"
   },
   {
    "duration": 20,
    "start_time": "2023-10-11T10:58:26.862Z"
   },
   {
    "duration": 5,
    "start_time": "2023-10-11T10:58:53.264Z"
   },
   {
    "duration": 9,
    "start_time": "2023-10-11T10:59:02.630Z"
   },
   {
    "duration": 8,
    "start_time": "2023-10-11T10:59:36.712Z"
   },
   {
    "duration": 5,
    "start_time": "2023-10-11T10:59:37.587Z"
   },
   {
    "duration": 7,
    "start_time": "2023-10-11T11:00:16.999Z"
   },
   {
    "duration": 6,
    "start_time": "2023-10-11T11:00:17.799Z"
   },
   {
    "duration": 7,
    "start_time": "2023-10-11T11:00:48.828Z"
   },
   {
    "duration": 5,
    "start_time": "2023-10-11T11:00:49.470Z"
   },
   {
    "duration": 5,
    "start_time": "2023-10-11T11:01:53.201Z"
   },
   {
    "duration": 7,
    "start_time": "2023-10-11T11:02:41.190Z"
   },
   {
    "duration": 18,
    "start_time": "2023-10-11T11:02:51.218Z"
   },
   {
    "duration": 21,
    "start_time": "2023-10-11T11:23:31.595Z"
   },
   {
    "duration": 129,
    "start_time": "2023-10-11T11:28:15.702Z"
   },
   {
    "duration": 17,
    "start_time": "2023-10-11T11:28:33.177Z"
   },
   {
    "duration": 20,
    "start_time": "2023-10-11T11:28:49.477Z"
   },
   {
    "duration": 17,
    "start_time": "2023-10-11T11:40:14.209Z"
   },
   {
    "duration": 13,
    "start_time": "2023-10-11T11:40:51.071Z"
   },
   {
    "duration": 14,
    "start_time": "2023-10-11T11:46:27.302Z"
   },
   {
    "duration": 13,
    "start_time": "2023-10-11T11:46:57.588Z"
   },
   {
    "duration": 26,
    "start_time": "2023-10-11T11:48:11.184Z"
   },
   {
    "duration": 34,
    "start_time": "2023-10-11T11:48:27.325Z"
   },
   {
    "duration": 26,
    "start_time": "2023-10-11T11:48:38.320Z"
   },
   {
    "duration": 24,
    "start_time": "2023-10-11T11:48:51.501Z"
   },
   {
    "duration": 29,
    "start_time": "2023-10-11T11:49:03.419Z"
   },
   {
    "duration": 34,
    "start_time": "2023-10-11T12:05:01.795Z"
   },
   {
    "duration": 19,
    "start_time": "2023-10-11T12:06:04.572Z"
   },
   {
    "duration": 21,
    "start_time": "2023-10-11T12:09:54.541Z"
   },
   {
    "duration": 21,
    "start_time": "2023-10-11T12:10:27.036Z"
   },
   {
    "duration": 22,
    "start_time": "2023-10-11T12:11:00.894Z"
   },
   {
    "duration": 22,
    "start_time": "2023-10-11T12:12:33.564Z"
   },
   {
    "duration": 4,
    "start_time": "2023-10-11T12:12:54.897Z"
   },
   {
    "duration": 4,
    "start_time": "2023-10-11T12:13:08.136Z"
   },
   {
    "duration": 22,
    "start_time": "2023-10-11T12:13:23.763Z"
   },
   {
    "duration": 18,
    "start_time": "2023-10-11T12:13:47.871Z"
   },
   {
    "duration": 24,
    "start_time": "2023-10-11T12:14:02.263Z"
   },
   {
    "duration": 22,
    "start_time": "2023-10-11T12:15:15.845Z"
   },
   {
    "duration": 1631,
    "start_time": "2023-10-11T12:15:37.869Z"
   },
   {
    "duration": 26,
    "start_time": "2023-10-11T12:16:19.987Z"
   },
   {
    "duration": 21,
    "start_time": "2023-10-11T12:16:34.145Z"
   },
   {
    "duration": 22,
    "start_time": "2023-10-11T12:16:41.615Z"
   },
   {
    "duration": 22,
    "start_time": "2023-10-11T12:17:33.102Z"
   },
   {
    "duration": 22,
    "start_time": "2023-10-11T12:21:29.056Z"
   },
   {
    "duration": 2567,
    "start_time": "2023-10-11T12:23:38.982Z"
   },
   {
    "duration": 33,
    "start_time": "2023-10-11T12:24:22.171Z"
   },
   {
    "duration": 30,
    "start_time": "2023-10-11T12:32:30.468Z"
   },
   {
    "duration": 160,
    "start_time": "2023-10-11T12:34:41.105Z"
   },
   {
    "duration": 169,
    "start_time": "2023-10-11T12:35:07.494Z"
   },
   {
    "duration": 159,
    "start_time": "2023-10-11T12:35:16.924Z"
   },
   {
    "duration": 211,
    "start_time": "2023-10-11T12:35:34.401Z"
   },
   {
    "duration": 165,
    "start_time": "2023-10-11T12:36:42.365Z"
   },
   {
    "duration": 144,
    "start_time": "2023-10-11T12:40:12.191Z"
   },
   {
    "duration": 151,
    "start_time": "2023-10-11T12:41:53.088Z"
   },
   {
    "duration": 149,
    "start_time": "2023-10-11T12:42:33.359Z"
   },
   {
    "duration": 194,
    "start_time": "2023-10-11T15:24:05.816Z"
   },
   {
    "duration": 10,
    "start_time": "2023-10-11T16:30:36.988Z"
   },
   {
    "duration": 13,
    "start_time": "2023-10-11T16:31:29.558Z"
   },
   {
    "duration": 130,
    "start_time": "2023-10-11T16:33:36.086Z"
   },
   {
    "duration": 145,
    "start_time": "2023-10-11T16:33:43.305Z"
   },
   {
    "duration": 133,
    "start_time": "2023-10-11T16:35:10.364Z"
   },
   {
    "duration": 126,
    "start_time": "2023-10-11T16:35:49.609Z"
   },
   {
    "duration": 127,
    "start_time": "2023-10-11T16:36:46.857Z"
   },
   {
    "duration": 12,
    "start_time": "2023-10-11T16:52:18.921Z"
   },
   {
    "duration": 17,
    "start_time": "2023-10-11T16:52:28.782Z"
   },
   {
    "duration": 12,
    "start_time": "2023-10-11T16:52:37.590Z"
   },
   {
    "duration": 19,
    "start_time": "2023-10-11T16:56:10.415Z"
   },
   {
    "duration": 15,
    "start_time": "2023-10-11T16:56:56.168Z"
   },
   {
    "duration": 17,
    "start_time": "2023-10-11T16:58:17.474Z"
   },
   {
    "duration": 14,
    "start_time": "2023-10-11T16:58:49.312Z"
   },
   {
    "duration": 7,
    "start_time": "2023-10-11T17:00:16.834Z"
   },
   {
    "duration": 11,
    "start_time": "2023-10-11T17:01:18.803Z"
   },
   {
    "duration": 11,
    "start_time": "2023-10-11T17:03:08.416Z"
   },
   {
    "duration": 11,
    "start_time": "2023-10-11T17:04:52.008Z"
   },
   {
    "duration": 15,
    "start_time": "2023-10-11T17:06:10.850Z"
   },
   {
    "duration": 11,
    "start_time": "2023-10-11T17:06:28.932Z"
   },
   {
    "duration": 10,
    "start_time": "2023-10-11T17:08:30.281Z"
   },
   {
    "duration": 10,
    "start_time": "2023-10-11T17:09:09.012Z"
   },
   {
    "duration": 131,
    "start_time": "2023-10-11T17:14:15.814Z"
   },
   {
    "duration": 11,
    "start_time": "2023-10-11T17:14:20.131Z"
   },
   {
    "duration": 11,
    "start_time": "2023-10-11T17:14:21.006Z"
   },
   {
    "duration": 19,
    "start_time": "2023-10-11T17:39:52.079Z"
   },
   {
    "duration": 83,
    "start_time": "2023-10-11T17:40:59.188Z"
   },
   {
    "duration": 20,
    "start_time": "2023-10-11T17:41:05.289Z"
   },
   {
    "duration": 4,
    "start_time": "2023-10-11T17:44:11.645Z"
   },
   {
    "duration": 10,
    "start_time": "2023-10-11T17:44:17.993Z"
   },
   {
    "duration": 3,
    "start_time": "2023-10-11T17:44:39.913Z"
   },
   {
    "duration": 174,
    "start_time": "2023-10-11T17:44:39.917Z"
   },
   {
    "duration": 50,
    "start_time": "2023-10-11T17:44:40.093Z"
   },
   {
    "duration": 31,
    "start_time": "2023-10-11T17:44:40.145Z"
   },
   {
    "duration": 14,
    "start_time": "2023-10-11T17:44:40.178Z"
   },
   {
    "duration": 14,
    "start_time": "2023-10-11T17:44:40.193Z"
   },
   {
    "duration": 36,
    "start_time": "2023-10-11T17:44:40.208Z"
   },
   {
    "duration": 84,
    "start_time": "2023-10-11T17:44:40.245Z"
   },
   {
    "duration": 8,
    "start_time": "2023-10-11T17:44:40.330Z"
   },
   {
    "duration": 7,
    "start_time": "2023-10-11T17:44:40.358Z"
   },
   {
    "duration": 8,
    "start_time": "2023-10-11T17:44:40.370Z"
   },
   {
    "duration": 21,
    "start_time": "2023-10-11T17:44:40.380Z"
   },
   {
    "duration": 9,
    "start_time": "2023-10-11T17:44:40.403Z"
   },
   {
    "duration": 22,
    "start_time": "2023-10-11T17:44:40.413Z"
   },
   {
    "duration": 33,
    "start_time": "2023-10-11T17:44:40.437Z"
   },
   {
    "duration": 22,
    "start_time": "2023-10-11T17:44:40.472Z"
   },
   {
    "duration": 7,
    "start_time": "2023-10-11T17:44:40.496Z"
   },
   {
    "duration": 5,
    "start_time": "2023-10-11T17:44:40.504Z"
   },
   {
    "duration": 9,
    "start_time": "2023-10-11T17:44:40.511Z"
   },
   {
    "duration": 15,
    "start_time": "2023-10-11T17:44:40.522Z"
   },
   {
    "duration": 6,
    "start_time": "2023-10-11T17:44:40.538Z"
   },
   {
    "duration": 12,
    "start_time": "2023-10-11T17:44:40.545Z"
   },
   {
    "duration": 9,
    "start_time": "2023-10-11T17:44:40.560Z"
   },
   {
    "duration": 13,
    "start_time": "2023-10-11T17:44:40.571Z"
   },
   {
    "duration": 10,
    "start_time": "2023-10-11T17:44:43.173Z"
   },
   {
    "duration": 4,
    "start_time": "2023-10-11T17:45:39.436Z"
   },
   {
    "duration": 3,
    "start_time": "2023-10-11T17:45:55.123Z"
   },
   {
    "duration": 119,
    "start_time": "2023-10-11T17:45:55.128Z"
   },
   {
    "duration": 50,
    "start_time": "2023-10-11T17:45:55.252Z"
   },
   {
    "duration": 16,
    "start_time": "2023-10-11T17:45:55.304Z"
   },
   {
    "duration": 9,
    "start_time": "2023-10-11T17:45:55.322Z"
   },
   {
    "duration": 11,
    "start_time": "2023-10-11T17:45:55.333Z"
   },
   {
    "duration": 41,
    "start_time": "2023-10-11T17:45:55.345Z"
   },
   {
    "duration": 19,
    "start_time": "2023-10-11T17:45:55.388Z"
   },
   {
    "duration": 30,
    "start_time": "2023-10-11T17:45:55.409Z"
   },
   {
    "duration": 5,
    "start_time": "2023-10-11T17:45:55.440Z"
   },
   {
    "duration": 10,
    "start_time": "2023-10-11T17:45:55.448Z"
   },
   {
    "duration": 9,
    "start_time": "2023-10-11T17:45:55.459Z"
   },
   {
    "duration": 13,
    "start_time": "2023-10-11T17:45:55.469Z"
   },
   {
    "duration": 19,
    "start_time": "2023-10-11T17:45:55.484Z"
   },
   {
    "duration": 31,
    "start_time": "2023-10-11T17:45:55.505Z"
   },
   {
    "duration": 10,
    "start_time": "2023-10-11T17:45:55.538Z"
   },
   {
    "duration": 6,
    "start_time": "2023-10-11T17:45:55.550Z"
   },
   {
    "duration": 13,
    "start_time": "2023-10-11T17:45:55.559Z"
   },
   {
    "duration": 13,
    "start_time": "2023-10-11T17:45:55.575Z"
   },
   {
    "duration": 8,
    "start_time": "2023-10-11T17:45:55.590Z"
   },
   {
    "duration": 20,
    "start_time": "2023-10-11T17:45:55.601Z"
   },
   {
    "duration": 27,
    "start_time": "2023-10-11T17:45:55.623Z"
   },
   {
    "duration": 26,
    "start_time": "2023-10-11T17:45:55.652Z"
   },
   {
    "duration": 6,
    "start_time": "2023-10-11T17:45:55.679Z"
   },
   {
    "duration": 18,
    "start_time": "2023-10-11T17:45:55.687Z"
   },
   {
    "duration": 43,
    "start_time": "2023-10-11T17:45:55.706Z"
   },
   {
    "duration": 37,
    "start_time": "2023-10-11T17:45:55.751Z"
   },
   {
    "duration": 17,
    "start_time": "2023-10-11T17:45:55.790Z"
   },
   {
    "duration": 26,
    "start_time": "2023-10-11T17:45:55.810Z"
   },
   {
    "duration": 6,
    "start_time": "2023-10-11T17:45:55.850Z"
   },
   {
    "duration": 26,
    "start_time": "2023-10-11T17:45:55.859Z"
   },
   {
    "duration": 20,
    "start_time": "2023-10-11T17:45:55.887Z"
   },
   {
    "duration": 32,
    "start_time": "2023-10-11T17:45:55.909Z"
   },
   {
    "duration": 12,
    "start_time": "2023-10-11T17:45:55.942Z"
   },
   {
    "duration": 8,
    "start_time": "2023-10-11T17:45:55.960Z"
   },
   {
    "duration": 10,
    "start_time": "2023-10-11T17:45:55.970Z"
   },
   {
    "duration": 7,
    "start_time": "2023-10-11T17:45:55.982Z"
   },
   {
    "duration": 17,
    "start_time": "2023-10-11T17:45:55.991Z"
   },
   {
    "duration": 13,
    "start_time": "2023-10-11T17:45:56.010Z"
   },
   {
    "duration": 6,
    "start_time": "2023-10-11T17:45:56.025Z"
   },
   {
    "duration": 25,
    "start_time": "2023-10-11T17:45:56.062Z"
   },
   {
    "duration": 34,
    "start_time": "2023-10-11T17:45:56.089Z"
   },
   {
    "duration": 21,
    "start_time": "2023-10-11T17:45:56.125Z"
   },
   {
    "duration": 44,
    "start_time": "2023-10-11T17:45:56.149Z"
   },
   {
    "duration": 4,
    "start_time": "2023-10-11T17:45:56.195Z"
   },
   {
    "duration": 12,
    "start_time": "2023-10-11T17:45:56.200Z"
   },
   {
    "duration": 13,
    "start_time": "2023-10-11T17:45:56.214Z"
   },
   {
    "duration": 8,
    "start_time": "2023-10-11T17:45:56.229Z"
   },
   {
    "duration": 42,
    "start_time": "2023-10-11T17:45:56.239Z"
   },
   {
    "duration": 38,
    "start_time": "2023-10-11T17:45:56.283Z"
   },
   {
    "duration": 188,
    "start_time": "2023-10-11T17:45:56.322Z"
   },
   {
    "duration": 169,
    "start_time": "2023-10-11T17:45:56.512Z"
   },
   {
    "duration": 139,
    "start_time": "2023-10-11T17:45:56.682Z"
   },
   {
    "duration": 10,
    "start_time": "2023-10-11T17:45:56.823Z"
   },
   {
    "duration": 27,
    "start_time": "2023-10-11T17:45:56.835Z"
   },
   {
    "duration": 21,
    "start_time": "2023-10-11T17:46:03.010Z"
   },
   {
    "duration": 5,
    "start_time": "2023-10-11T17:47:20.077Z"
   },
   {
    "duration": 2,
    "start_time": "2023-10-11T17:47:34.289Z"
   },
   {
    "duration": 145,
    "start_time": "2023-10-11T17:47:34.293Z"
   },
   {
    "duration": 51,
    "start_time": "2023-10-11T17:47:34.449Z"
   },
   {
    "duration": 14,
    "start_time": "2023-10-11T17:47:34.501Z"
   },
   {
    "duration": 18,
    "start_time": "2023-10-11T17:47:34.517Z"
   },
   {
    "duration": 5,
    "start_time": "2023-10-11T17:47:34.536Z"
   },
   {
    "duration": 42,
    "start_time": "2023-10-11T17:47:34.542Z"
   },
   {
    "duration": 15,
    "start_time": "2023-10-11T17:47:34.585Z"
   },
   {
    "duration": 7,
    "start_time": "2023-10-11T17:47:34.602Z"
   },
   {
    "duration": 7,
    "start_time": "2023-10-11T17:47:34.610Z"
   },
   {
    "duration": 15,
    "start_time": "2023-10-11T17:47:34.618Z"
   },
   {
    "duration": 23,
    "start_time": "2023-10-11T17:47:34.634Z"
   },
   {
    "duration": 15,
    "start_time": "2023-10-11T17:47:34.659Z"
   },
   {
    "duration": 5,
    "start_time": "2023-10-11T17:47:34.676Z"
   },
   {
    "duration": 25,
    "start_time": "2023-10-11T17:47:34.682Z"
   },
   {
    "duration": 15,
    "start_time": "2023-10-11T17:47:34.709Z"
   },
   {
    "duration": 3,
    "start_time": "2023-10-11T17:47:34.726Z"
   },
   {
    "duration": 7,
    "start_time": "2023-10-11T17:47:34.730Z"
   },
   {
    "duration": 10,
    "start_time": "2023-10-11T17:47:34.738Z"
   },
   {
    "duration": 13,
    "start_time": "2023-10-11T17:47:34.749Z"
   },
   {
    "duration": 8,
    "start_time": "2023-10-11T17:47:34.764Z"
   },
   {
    "duration": 6,
    "start_time": "2023-10-11T17:47:34.773Z"
   },
   {
    "duration": 5,
    "start_time": "2023-10-11T17:47:34.781Z"
   },
   {
    "duration": 7,
    "start_time": "2023-10-11T17:47:34.789Z"
   },
   {
    "duration": 20,
    "start_time": "2023-10-11T17:47:34.797Z"
   },
   {
    "duration": 23,
    "start_time": "2023-10-11T17:47:34.819Z"
   },
   {
    "duration": 48,
    "start_time": "2023-10-11T17:47:34.844Z"
   },
   {
    "duration": 16,
    "start_time": "2023-10-11T17:47:34.894Z"
   },
   {
    "duration": 18,
    "start_time": "2023-10-11T17:47:34.912Z"
   },
   {
    "duration": 27,
    "start_time": "2023-10-11T17:47:34.932Z"
   },
   {
    "duration": 33,
    "start_time": "2023-10-11T17:47:34.961Z"
   },
   {
    "duration": 13,
    "start_time": "2023-10-11T17:47:34.995Z"
   },
   {
    "duration": 11,
    "start_time": "2023-10-11T17:47:35.009Z"
   },
   {
    "duration": 10,
    "start_time": "2023-10-11T17:47:35.021Z"
   },
   {
    "duration": 8,
    "start_time": "2023-10-11T17:47:35.033Z"
   },
   {
    "duration": 20,
    "start_time": "2023-10-11T17:47:35.042Z"
   },
   {
    "duration": 6,
    "start_time": "2023-10-11T17:47:35.065Z"
   },
   {
    "duration": 24,
    "start_time": "2023-10-11T17:47:35.072Z"
   },
   {
    "duration": 13,
    "start_time": "2023-10-11T17:47:35.097Z"
   },
   {
    "duration": 8,
    "start_time": "2023-10-11T17:47:35.112Z"
   },
   {
    "duration": 23,
    "start_time": "2023-10-11T17:47:35.121Z"
   },
   {
    "duration": 40,
    "start_time": "2023-10-11T17:47:35.145Z"
   },
   {
    "duration": 15,
    "start_time": "2023-10-11T17:47:35.187Z"
   },
   {
    "duration": 33,
    "start_time": "2023-10-11T17:47:35.203Z"
   },
   {
    "duration": 4,
    "start_time": "2023-10-11T17:47:35.237Z"
   },
   {
    "duration": 15,
    "start_time": "2023-10-11T17:47:35.242Z"
   },
   {
    "duration": 13,
    "start_time": "2023-10-11T17:47:35.259Z"
   },
   {
    "duration": 20,
    "start_time": "2023-10-11T17:47:35.274Z"
   },
   {
    "duration": 32,
    "start_time": "2023-10-11T17:47:35.296Z"
   },
   {
    "duration": 46,
    "start_time": "2023-10-11T17:47:35.329Z"
   },
   {
    "duration": 171,
    "start_time": "2023-10-11T17:47:35.376Z"
   },
   {
    "duration": 171,
    "start_time": "2023-10-11T17:47:35.549Z"
   },
   {
    "duration": 168,
    "start_time": "2023-10-11T17:47:35.722Z"
   },
   {
    "duration": 13,
    "start_time": "2023-10-11T17:47:35.893Z"
   },
   {
    "duration": 41,
    "start_time": "2023-10-11T17:47:35.908Z"
   },
   {
    "duration": 21,
    "start_time": "2023-10-11T17:47:39.567Z"
   },
   {
    "duration": 2,
    "start_time": "2023-10-11T17:48:28.241Z"
   },
   {
    "duration": 120,
    "start_time": "2023-10-11T17:48:28.266Z"
   },
   {
    "duration": 49,
    "start_time": "2023-10-11T17:48:28.388Z"
   },
   {
    "duration": 22,
    "start_time": "2023-10-11T17:48:28.439Z"
   },
   {
    "duration": 17,
    "start_time": "2023-10-11T17:48:28.463Z"
   },
   {
    "duration": 5,
    "start_time": "2023-10-11T17:48:28.482Z"
   },
   {
    "duration": 30,
    "start_time": "2023-10-11T17:48:28.488Z"
   },
   {
    "duration": 36,
    "start_time": "2023-10-11T17:48:28.519Z"
   },
   {
    "duration": 13,
    "start_time": "2023-10-11T17:48:28.558Z"
   },
   {
    "duration": 8,
    "start_time": "2023-10-11T17:48:28.573Z"
   },
   {
    "duration": 8,
    "start_time": "2023-10-11T17:48:28.582Z"
   },
   {
    "duration": 12,
    "start_time": "2023-10-11T17:48:28.591Z"
   },
   {
    "duration": 14,
    "start_time": "2023-10-11T17:48:28.604Z"
   },
   {
    "duration": 4,
    "start_time": "2023-10-11T17:48:28.620Z"
   },
   {
    "duration": 43,
    "start_time": "2023-10-11T17:48:28.627Z"
   },
   {
    "duration": 8,
    "start_time": "2023-10-11T17:48:28.673Z"
   },
   {
    "duration": 5,
    "start_time": "2023-10-11T17:48:28.683Z"
   },
   {
    "duration": 8,
    "start_time": "2023-10-11T17:48:28.690Z"
   },
   {
    "duration": 11,
    "start_time": "2023-10-11T17:48:28.699Z"
   },
   {
    "duration": 5,
    "start_time": "2023-10-11T17:48:28.712Z"
   },
   {
    "duration": 6,
    "start_time": "2023-10-11T17:48:28.719Z"
   },
   {
    "duration": 15,
    "start_time": "2023-10-11T17:48:28.726Z"
   },
   {
    "duration": 16,
    "start_time": "2023-10-11T17:48:28.742Z"
   },
   {
    "duration": 14,
    "start_time": "2023-10-11T17:48:28.760Z"
   },
   {
    "duration": 18,
    "start_time": "2023-10-11T17:48:28.776Z"
   },
   {
    "duration": 34,
    "start_time": "2023-10-11T17:48:28.796Z"
   },
   {
    "duration": 41,
    "start_time": "2023-10-11T17:48:28.831Z"
   },
   {
    "duration": 17,
    "start_time": "2023-10-11T17:48:28.873Z"
   },
   {
    "duration": 37,
    "start_time": "2023-10-11T17:48:28.891Z"
   },
   {
    "duration": 9,
    "start_time": "2023-10-11T17:48:28.929Z"
   },
   {
    "duration": 44,
    "start_time": "2023-10-11T17:48:28.940Z"
   },
   {
    "duration": 23,
    "start_time": "2023-10-11T17:48:28.986Z"
   },
   {
    "duration": 49,
    "start_time": "2023-10-11T17:48:29.011Z"
   },
   {
    "duration": 32,
    "start_time": "2023-10-11T17:48:29.062Z"
   },
   {
    "duration": 25,
    "start_time": "2023-10-11T17:48:29.095Z"
   },
   {
    "duration": 13,
    "start_time": "2023-10-11T17:48:29.122Z"
   },
   {
    "duration": 16,
    "start_time": "2023-10-11T17:48:29.136Z"
   },
   {
    "duration": 10,
    "start_time": "2023-10-11T17:48:29.154Z"
   },
   {
    "duration": 32,
    "start_time": "2023-10-11T17:48:29.167Z"
   },
   {
    "duration": 9,
    "start_time": "2023-10-11T17:48:29.201Z"
   },
   {
    "duration": 19,
    "start_time": "2023-10-11T17:48:29.212Z"
   },
   {
    "duration": 28,
    "start_time": "2023-10-11T17:48:29.234Z"
   },
   {
    "duration": 12,
    "start_time": "2023-10-11T17:48:29.264Z"
   },
   {
    "duration": 41,
    "start_time": "2023-10-11T17:48:29.277Z"
   },
   {
    "duration": 5,
    "start_time": "2023-10-11T17:48:29.320Z"
   },
   {
    "duration": 39,
    "start_time": "2023-10-11T17:48:29.327Z"
   },
   {
    "duration": 16,
    "start_time": "2023-10-11T17:48:29.373Z"
   },
   {
    "duration": 24,
    "start_time": "2023-10-11T17:48:29.390Z"
   },
   {
    "duration": 46,
    "start_time": "2023-10-11T17:48:29.415Z"
   },
   {
    "duration": 41,
    "start_time": "2023-10-11T17:48:29.464Z"
   },
   {
    "duration": 167,
    "start_time": "2023-10-11T17:48:29.506Z"
   },
   {
    "duration": 189,
    "start_time": "2023-10-11T17:48:29.675Z"
   },
   {
    "duration": 141,
    "start_time": "2023-10-11T17:48:29.866Z"
   },
   {
    "duration": 11,
    "start_time": "2023-10-11T17:48:30.008Z"
   },
   {
    "duration": 110,
    "start_time": "2023-10-11T17:48:30.020Z"
   },
   {
    "duration": 33,
    "start_time": "2023-10-11T17:48:33.943Z"
   },
   {
    "duration": 7,
    "start_time": "2023-10-11T17:49:40.964Z"
   },
   {
    "duration": 3,
    "start_time": "2023-10-11T17:50:20.541Z"
   },
   {
    "duration": 182,
    "start_time": "2023-10-11T17:50:20.547Z"
   },
   {
    "duration": 52,
    "start_time": "2023-10-11T17:50:20.730Z"
   },
   {
    "duration": 66,
    "start_time": "2023-10-11T17:50:20.784Z"
   },
   {
    "duration": 19,
    "start_time": "2023-10-11T17:50:20.852Z"
   },
   {
    "duration": 34,
    "start_time": "2023-10-11T17:50:20.872Z"
   },
   {
    "duration": 81,
    "start_time": "2023-10-11T17:50:20.907Z"
   },
   {
    "duration": 19,
    "start_time": "2023-10-11T17:50:20.990Z"
   },
   {
    "duration": 38,
    "start_time": "2023-10-11T17:50:21.011Z"
   },
   {
    "duration": 74,
    "start_time": "2023-10-11T17:50:21.050Z"
   },
   {
    "duration": 39,
    "start_time": "2023-10-11T17:50:21.125Z"
   },
   {
    "duration": 24,
    "start_time": "2023-10-11T17:50:21.166Z"
   },
   {
    "duration": 28,
    "start_time": "2023-10-11T17:50:21.192Z"
   },
   {
    "duration": 28,
    "start_time": "2023-10-11T17:50:21.221Z"
   },
   {
    "duration": 27,
    "start_time": "2023-10-11T17:50:21.252Z"
   },
   {
    "duration": 18,
    "start_time": "2023-10-11T17:50:21.281Z"
   },
   {
    "duration": 28,
    "start_time": "2023-10-11T17:50:21.300Z"
   },
   {
    "duration": 17,
    "start_time": "2023-10-11T17:50:21.329Z"
   },
   {
    "duration": 31,
    "start_time": "2023-10-11T17:50:21.347Z"
   },
   {
    "duration": 46,
    "start_time": "2023-10-11T17:50:21.380Z"
   },
   {
    "duration": 31,
    "start_time": "2023-10-11T17:50:21.427Z"
   },
   {
    "duration": 40,
    "start_time": "2023-10-11T17:50:21.461Z"
   },
   {
    "duration": 38,
    "start_time": "2023-10-11T17:50:21.503Z"
   },
   {
    "duration": 20,
    "start_time": "2023-10-11T17:50:21.544Z"
   },
   {
    "duration": 25,
    "start_time": "2023-10-11T17:50:21.566Z"
   },
   {
    "duration": 30,
    "start_time": "2023-10-11T17:50:21.592Z"
   },
   {
    "duration": 40,
    "start_time": "2023-10-11T17:50:21.624Z"
   },
   {
    "duration": 18,
    "start_time": "2023-10-11T17:50:21.667Z"
   },
   {
    "duration": 40,
    "start_time": "2023-10-11T17:50:21.686Z"
   },
   {
    "duration": 22,
    "start_time": "2023-10-11T17:50:21.728Z"
   },
   {
    "duration": 30,
    "start_time": "2023-10-11T17:50:21.752Z"
   },
   {
    "duration": 29,
    "start_time": "2023-10-11T17:50:21.783Z"
   },
   {
    "duration": 33,
    "start_time": "2023-10-11T17:50:21.814Z"
   },
   {
    "duration": 22,
    "start_time": "2023-10-11T17:50:21.849Z"
   },
   {
    "duration": 28,
    "start_time": "2023-10-11T17:50:21.873Z"
   },
   {
    "duration": 19,
    "start_time": "2023-10-11T17:50:21.903Z"
   },
   {
    "duration": 7,
    "start_time": "2023-10-11T17:50:21.923Z"
   },
   {
    "duration": 7,
    "start_time": "2023-10-11T17:50:21.931Z"
   },
   {
    "duration": 23,
    "start_time": "2023-10-11T17:50:21.939Z"
   },
   {
    "duration": 7,
    "start_time": "2023-10-11T17:50:21.964Z"
   },
   {
    "duration": 19,
    "start_time": "2023-10-11T17:50:21.973Z"
   },
   {
    "duration": 21,
    "start_time": "2023-10-11T17:50:21.994Z"
   },
   {
    "duration": 23,
    "start_time": "2023-10-11T17:50:22.017Z"
   },
   {
    "duration": 33,
    "start_time": "2023-10-11T17:50:22.041Z"
   },
   {
    "duration": 12,
    "start_time": "2023-10-11T17:50:22.075Z"
   },
   {
    "duration": 11,
    "start_time": "2023-10-11T17:50:22.088Z"
   },
   {
    "duration": 15,
    "start_time": "2023-10-11T17:50:22.100Z"
   },
   {
    "duration": 17,
    "start_time": "2023-10-11T17:50:22.116Z"
   },
   {
    "duration": 45,
    "start_time": "2023-10-11T17:50:22.135Z"
   },
   {
    "duration": 29,
    "start_time": "2023-10-11T17:50:22.182Z"
   },
   {
    "duration": 173,
    "start_time": "2023-10-11T17:50:22.213Z"
   },
   {
    "duration": 247,
    "start_time": "2023-10-11T17:50:22.388Z"
   },
   {
    "duration": 156,
    "start_time": "2023-10-11T17:50:22.637Z"
   },
   {
    "duration": 10,
    "start_time": "2023-10-11T17:50:22.795Z"
   },
   {
    "duration": 14,
    "start_time": "2023-10-11T17:50:22.806Z"
   },
   {
    "duration": 22,
    "start_time": "2023-10-11T17:50:25.461Z"
   },
   {
    "duration": 22,
    "start_time": "2023-10-11T17:50:59.781Z"
   },
   {
    "duration": 3,
    "start_time": "2023-10-11T17:51:05.090Z"
   },
   {
    "duration": 152,
    "start_time": "2023-10-11T17:51:05.095Z"
   },
   {
    "duration": 49,
    "start_time": "2023-10-11T17:51:05.248Z"
   },
   {
    "duration": 15,
    "start_time": "2023-10-11T17:51:05.299Z"
   },
   {
    "duration": 22,
    "start_time": "2023-10-11T17:51:05.315Z"
   },
   {
    "duration": 30,
    "start_time": "2023-10-11T17:51:05.338Z"
   },
   {
    "duration": 41,
    "start_time": "2023-10-11T17:51:05.370Z"
   },
   {
    "duration": 14,
    "start_time": "2023-10-11T17:51:05.412Z"
   },
   {
    "duration": 45,
    "start_time": "2023-10-11T17:51:05.427Z"
   },
   {
    "duration": 29,
    "start_time": "2023-10-11T17:51:05.474Z"
   },
   {
    "duration": 11,
    "start_time": "2023-10-11T17:51:05.505Z"
   },
   {
    "duration": 34,
    "start_time": "2023-10-11T17:51:05.517Z"
   },
   {
    "duration": 27,
    "start_time": "2023-10-11T17:51:05.557Z"
   },
   {
    "duration": 16,
    "start_time": "2023-10-11T17:51:05.585Z"
   },
   {
    "duration": 18,
    "start_time": "2023-10-11T17:51:05.602Z"
   },
   {
    "duration": 45,
    "start_time": "2023-10-11T17:51:05.622Z"
   },
   {
    "duration": 19,
    "start_time": "2023-10-11T17:51:05.669Z"
   },
   {
    "duration": 5,
    "start_time": "2023-10-11T17:51:05.689Z"
   },
   {
    "duration": 13,
    "start_time": "2023-10-11T17:51:05.696Z"
   },
   {
    "duration": 7,
    "start_time": "2023-10-11T17:51:05.710Z"
   },
   {
    "duration": 22,
    "start_time": "2023-10-11T17:51:05.719Z"
   },
   {
    "duration": 21,
    "start_time": "2023-10-11T17:51:05.743Z"
   },
   {
    "duration": 19,
    "start_time": "2023-10-11T17:51:05.766Z"
   },
   {
    "duration": 11,
    "start_time": "2023-10-11T17:51:05.787Z"
   },
   {
    "duration": 25,
    "start_time": "2023-10-11T17:51:05.799Z"
   },
   {
    "duration": 50,
    "start_time": "2023-10-11T17:51:05.825Z"
   },
   {
    "duration": 28,
    "start_time": "2023-10-11T17:51:05.877Z"
   },
   {
    "duration": 26,
    "start_time": "2023-10-11T17:51:05.906Z"
   },
   {
    "duration": 79,
    "start_time": "2023-10-11T17:51:05.933Z"
   },
   {
    "duration": 30,
    "start_time": "2023-10-11T17:51:06.014Z"
   },
   {
    "duration": 32,
    "start_time": "2023-10-11T17:51:06.046Z"
   },
   {
    "duration": 15,
    "start_time": "2023-10-11T17:51:06.080Z"
   },
   {
    "duration": 20,
    "start_time": "2023-10-11T17:51:06.097Z"
   },
   {
    "duration": 30,
    "start_time": "2023-10-11T17:51:06.119Z"
   },
   {
    "duration": 25,
    "start_time": "2023-10-11T17:51:06.152Z"
   },
   {
    "duration": 23,
    "start_time": "2023-10-11T17:51:06.180Z"
   },
   {
    "duration": 12,
    "start_time": "2023-10-11T17:51:06.206Z"
   },
   {
    "duration": 17,
    "start_time": "2023-10-11T17:51:06.219Z"
   },
   {
    "duration": 11,
    "start_time": "2023-10-11T17:51:06.237Z"
   },
   {
    "duration": 24,
    "start_time": "2023-10-11T17:51:06.249Z"
   },
   {
    "duration": 29,
    "start_time": "2023-10-11T17:51:06.275Z"
   },
   {
    "duration": 39,
    "start_time": "2023-10-11T17:51:06.306Z"
   },
   {
    "duration": 32,
    "start_time": "2023-10-11T17:51:06.346Z"
   },
   {
    "duration": 49,
    "start_time": "2023-10-11T17:51:06.380Z"
   },
   {
    "duration": 4,
    "start_time": "2023-10-11T17:51:06.431Z"
   },
   {
    "duration": 15,
    "start_time": "2023-10-11T17:51:06.436Z"
   },
   {
    "duration": 23,
    "start_time": "2023-10-11T17:51:06.452Z"
   },
   {
    "duration": 17,
    "start_time": "2023-10-11T17:51:06.477Z"
   },
   {
    "duration": 29,
    "start_time": "2023-10-11T17:51:06.495Z"
   },
   {
    "duration": 29,
    "start_time": "2023-10-11T17:51:06.526Z"
   },
   {
    "duration": 176,
    "start_time": "2023-10-11T17:51:06.557Z"
   },
   {
    "duration": 175,
    "start_time": "2023-10-11T17:51:06.734Z"
   },
   {
    "duration": 161,
    "start_time": "2023-10-11T17:51:06.910Z"
   },
   {
    "duration": 12,
    "start_time": "2023-10-11T17:51:07.073Z"
   },
   {
    "duration": 24,
    "start_time": "2023-10-11T17:51:07.086Z"
   },
   {
    "duration": 26,
    "start_time": "2023-10-11T17:51:17.460Z"
   },
   {
    "duration": 27,
    "start_time": "2023-10-11T17:54:36.435Z"
   },
   {
    "duration": 28,
    "start_time": "2023-10-11T17:54:58.805Z"
   },
   {
    "duration": 27,
    "start_time": "2023-10-11T17:55:16.347Z"
   },
   {
    "duration": 30,
    "start_time": "2023-10-11T17:56:09.137Z"
   },
   {
    "duration": 20,
    "start_time": "2023-10-11T17:56:22.742Z"
   },
   {
    "duration": 20,
    "start_time": "2023-10-11T18:03:28.123Z"
   },
   {
    "duration": 21,
    "start_time": "2023-10-11T18:03:40.718Z"
   },
   {
    "duration": 21,
    "start_time": "2023-10-11T18:04:09.481Z"
   },
   {
    "duration": 32,
    "start_time": "2023-10-11T18:04:17.546Z"
   },
   {
    "duration": 22,
    "start_time": "2023-10-11T18:04:21.776Z"
   },
   {
    "duration": 24,
    "start_time": "2023-10-11T18:04:27.829Z"
   },
   {
    "duration": 25,
    "start_time": "2023-10-11T18:04:33.245Z"
   },
   {
    "duration": 28,
    "start_time": "2023-10-11T18:05:02.135Z"
   },
   {
    "duration": 21,
    "start_time": "2023-10-11T18:05:07.595Z"
   },
   {
    "duration": 23,
    "start_time": "2023-10-11T18:05:12.144Z"
   },
   {
    "duration": 24,
    "start_time": "2023-10-11T18:05:17.328Z"
   },
   {
    "duration": 31,
    "start_time": "2023-10-11T18:05:21.749Z"
   },
   {
    "duration": 22,
    "start_time": "2023-10-11T18:05:26.979Z"
   },
   {
    "duration": 22,
    "start_time": "2023-10-11T18:05:32.185Z"
   },
   {
    "duration": 22,
    "start_time": "2023-10-11T18:05:39.948Z"
   },
   {
    "duration": 24,
    "start_time": "2023-10-11T18:06:10.337Z"
   },
   {
    "duration": 23,
    "start_time": "2023-10-11T18:06:14.881Z"
   },
   {
    "duration": 22,
    "start_time": "2023-10-11T18:06:24.332Z"
   },
   {
    "duration": 22,
    "start_time": "2023-10-11T18:10:48.733Z"
   },
   {
    "duration": 25,
    "start_time": "2023-10-11T18:11:06.404Z"
   },
   {
    "duration": 23,
    "start_time": "2023-10-11T18:12:22.236Z"
   },
   {
    "duration": 24,
    "start_time": "2023-10-11T18:13:41.873Z"
   },
   {
    "duration": 607,
    "start_time": "2023-10-11T18:16:44.180Z"
   },
   {
    "duration": 24,
    "start_time": "2023-10-11T18:17:13.436Z"
   },
   {
    "duration": 24,
    "start_time": "2023-10-11T18:17:44.514Z"
   },
   {
    "duration": 3,
    "start_time": "2023-10-11T18:18:09.868Z"
   },
   {
    "duration": 134,
    "start_time": "2023-10-11T18:18:09.872Z"
   },
   {
    "duration": 50,
    "start_time": "2023-10-11T18:18:10.008Z"
   },
   {
    "duration": 15,
    "start_time": "2023-10-11T18:18:10.059Z"
   },
   {
    "duration": 24,
    "start_time": "2023-10-11T18:18:10.076Z"
   },
   {
    "duration": 29,
    "start_time": "2023-10-11T18:18:10.101Z"
   },
   {
    "duration": 36,
    "start_time": "2023-10-11T18:18:10.131Z"
   },
   {
    "duration": 14,
    "start_time": "2023-10-11T18:18:10.168Z"
   },
   {
    "duration": 24,
    "start_time": "2023-10-11T18:18:10.184Z"
   },
   {
    "duration": 6,
    "start_time": "2023-10-11T18:18:10.209Z"
   },
   {
    "duration": 39,
    "start_time": "2023-10-11T18:18:10.216Z"
   },
   {
    "duration": 42,
    "start_time": "2023-10-11T18:18:10.256Z"
   },
   {
    "duration": 46,
    "start_time": "2023-10-11T18:18:10.300Z"
   },
   {
    "duration": 22,
    "start_time": "2023-10-11T18:18:10.348Z"
   },
   {
    "duration": 52,
    "start_time": "2023-10-11T18:18:10.372Z"
   },
   {
    "duration": 40,
    "start_time": "2023-10-11T18:18:10.426Z"
   },
   {
    "duration": 24,
    "start_time": "2023-10-11T18:18:10.468Z"
   },
   {
    "duration": 31,
    "start_time": "2023-10-11T18:18:10.493Z"
   },
   {
    "duration": 27,
    "start_time": "2023-10-11T18:18:10.526Z"
   },
   {
    "duration": 31,
    "start_time": "2023-10-11T18:18:10.555Z"
   },
   {
    "duration": 28,
    "start_time": "2023-10-11T18:18:10.588Z"
   },
   {
    "duration": 21,
    "start_time": "2023-10-11T18:18:10.617Z"
   },
   {
    "duration": 18,
    "start_time": "2023-10-11T18:18:10.639Z"
   },
   {
    "duration": 19,
    "start_time": "2023-10-11T18:18:10.658Z"
   },
   {
    "duration": 23,
    "start_time": "2023-10-11T18:18:10.678Z"
   },
   {
    "duration": 34,
    "start_time": "2023-10-11T18:18:10.703Z"
   },
   {
    "duration": 37,
    "start_time": "2023-10-11T18:18:10.738Z"
   },
   {
    "duration": 15,
    "start_time": "2023-10-11T18:18:10.777Z"
   },
   {
    "duration": 39,
    "start_time": "2023-10-11T18:18:10.793Z"
   },
   {
    "duration": 26,
    "start_time": "2023-10-11T18:18:10.833Z"
   },
   {
    "duration": 43,
    "start_time": "2023-10-11T18:18:10.861Z"
   },
   {
    "duration": 24,
    "start_time": "2023-10-11T18:18:10.905Z"
   },
   {
    "duration": 38,
    "start_time": "2023-10-11T18:18:10.931Z"
   },
   {
    "duration": 29,
    "start_time": "2023-10-11T18:18:10.971Z"
   },
   {
    "duration": 35,
    "start_time": "2023-10-11T18:18:11.002Z"
   },
   {
    "duration": 17,
    "start_time": "2023-10-11T18:18:11.039Z"
   },
   {
    "duration": 23,
    "start_time": "2023-10-11T18:18:11.059Z"
   },
   {
    "duration": 22,
    "start_time": "2023-10-11T18:18:11.083Z"
   },
   {
    "duration": 31,
    "start_time": "2023-10-11T18:18:11.107Z"
   },
   {
    "duration": 20,
    "start_time": "2023-10-11T18:18:11.139Z"
   },
   {
    "duration": 40,
    "start_time": "2023-10-11T18:18:11.160Z"
   },
   {
    "duration": 33,
    "start_time": "2023-10-11T18:18:11.202Z"
   },
   {
    "duration": 23,
    "start_time": "2023-10-11T18:18:11.237Z"
   },
   {
    "duration": 37,
    "start_time": "2023-10-11T18:18:11.262Z"
   },
   {
    "duration": 5,
    "start_time": "2023-10-11T18:18:11.301Z"
   },
   {
    "duration": 22,
    "start_time": "2023-10-11T18:18:11.307Z"
   },
   {
    "duration": 39,
    "start_time": "2023-10-11T18:18:11.330Z"
   },
   {
    "duration": 19,
    "start_time": "2023-10-11T18:18:11.370Z"
   },
   {
    "duration": 39,
    "start_time": "2023-10-11T18:18:11.390Z"
   },
   {
    "duration": 54,
    "start_time": "2023-10-11T18:18:11.431Z"
   },
   {
    "duration": 178,
    "start_time": "2023-10-11T18:18:11.487Z"
   },
   {
    "duration": 144,
    "start_time": "2023-10-11T18:18:11.667Z"
   },
   {
    "duration": 136,
    "start_time": "2023-10-11T18:18:11.813Z"
   },
   {
    "duration": 10,
    "start_time": "2023-10-11T18:18:11.951Z"
   },
   {
    "duration": 28,
    "start_time": "2023-10-11T18:18:11.963Z"
   },
   {
    "duration": 25,
    "start_time": "2023-10-11T18:18:14.569Z"
   },
   {
    "duration": 157,
    "start_time": "2023-10-11T18:19:07.166Z"
   },
   {
    "duration": 93,
    "start_time": "2023-10-11T18:19:25.742Z"
   },
   {
    "duration": 141,
    "start_time": "2023-10-11T18:19:39.171Z"
   },
   {
    "duration": 3,
    "start_time": "2023-10-11T18:20:20.902Z"
   },
   {
    "duration": 164,
    "start_time": "2023-10-11T18:20:20.907Z"
   },
   {
    "duration": 48,
    "start_time": "2023-10-11T18:20:21.072Z"
   },
   {
    "duration": 14,
    "start_time": "2023-10-11T18:20:21.122Z"
   },
   {
    "duration": 18,
    "start_time": "2023-10-11T18:20:21.138Z"
   },
   {
    "duration": 17,
    "start_time": "2023-10-11T18:20:21.158Z"
   },
   {
    "duration": 62,
    "start_time": "2023-10-11T18:20:21.176Z"
   },
   {
    "duration": 14,
    "start_time": "2023-10-11T18:20:21.240Z"
   },
   {
    "duration": 23,
    "start_time": "2023-10-11T18:20:21.256Z"
   },
   {
    "duration": 16,
    "start_time": "2023-10-11T18:20:21.280Z"
   },
   {
    "duration": 11,
    "start_time": "2023-10-11T18:20:21.299Z"
   },
   {
    "duration": 25,
    "start_time": "2023-10-11T18:20:21.311Z"
   },
   {
    "duration": 10,
    "start_time": "2023-10-11T18:20:21.338Z"
   },
   {
    "duration": 15,
    "start_time": "2023-10-11T18:20:21.349Z"
   },
   {
    "duration": 26,
    "start_time": "2023-10-11T18:20:21.366Z"
   },
   {
    "duration": 75,
    "start_time": "2023-10-11T18:20:21.393Z"
   },
   {
    "duration": 4,
    "start_time": "2023-10-11T18:20:21.469Z"
   },
   {
    "duration": 26,
    "start_time": "2023-10-11T18:20:21.474Z"
   },
   {
    "duration": 6,
    "start_time": "2023-10-11T18:20:21.501Z"
   },
   {
    "duration": 10,
    "start_time": "2023-10-11T18:20:21.508Z"
   },
   {
    "duration": 9,
    "start_time": "2023-10-11T18:20:21.519Z"
   },
   {
    "duration": 10,
    "start_time": "2023-10-11T18:20:21.529Z"
   },
   {
    "duration": 5,
    "start_time": "2023-10-11T18:20:21.540Z"
   },
   {
    "duration": 9,
    "start_time": "2023-10-11T18:20:21.547Z"
   },
   {
    "duration": 11,
    "start_time": "2023-10-11T18:20:21.558Z"
   },
   {
    "duration": 21,
    "start_time": "2023-10-11T18:20:21.571Z"
   },
   {
    "duration": 27,
    "start_time": "2023-10-11T18:20:21.593Z"
   },
   {
    "duration": 29,
    "start_time": "2023-10-11T18:20:21.621Z"
   },
   {
    "duration": 14,
    "start_time": "2023-10-11T18:20:21.653Z"
   },
   {
    "duration": 6,
    "start_time": "2023-10-11T18:20:21.669Z"
   },
   {
    "duration": 16,
    "start_time": "2023-10-11T18:20:21.676Z"
   },
   {
    "duration": 7,
    "start_time": "2023-10-11T18:20:21.694Z"
   },
   {
    "duration": 15,
    "start_time": "2023-10-11T18:20:21.702Z"
   },
   {
    "duration": 5,
    "start_time": "2023-10-11T18:20:21.719Z"
   },
   {
    "duration": 5,
    "start_time": "2023-10-11T18:20:21.749Z"
   },
   {
    "duration": 9,
    "start_time": "2023-10-11T18:20:21.756Z"
   },
   {
    "duration": 11,
    "start_time": "2023-10-11T18:20:21.767Z"
   },
   {
    "duration": 11,
    "start_time": "2023-10-11T18:20:21.779Z"
   },
   {
    "duration": 9,
    "start_time": "2023-10-11T18:20:21.791Z"
   },
   {
    "duration": 4,
    "start_time": "2023-10-11T18:20:21.802Z"
   },
   {
    "duration": 15,
    "start_time": "2023-10-11T18:20:21.807Z"
   },
   {
    "duration": 38,
    "start_time": "2023-10-11T18:20:21.824Z"
   },
   {
    "duration": 7,
    "start_time": "2023-10-11T18:20:21.864Z"
   },
   {
    "duration": 23,
    "start_time": "2023-10-11T18:20:21.872Z"
   },
   {
    "duration": 13,
    "start_time": "2023-10-11T18:20:21.896Z"
   },
   {
    "duration": 9,
    "start_time": "2023-10-11T18:20:21.910Z"
   },
   {
    "duration": 8,
    "start_time": "2023-10-11T18:20:21.920Z"
   },
   {
    "duration": 20,
    "start_time": "2023-10-11T18:20:21.930Z"
   },
   {
    "duration": 25,
    "start_time": "2023-10-11T18:20:21.951Z"
   },
   {
    "duration": 31,
    "start_time": "2023-10-11T18:20:21.977Z"
   },
   {
    "duration": 150,
    "start_time": "2023-10-11T18:20:22.010Z"
   },
   {
    "duration": 170,
    "start_time": "2023-10-11T18:20:22.162Z"
   },
   {
    "duration": 132,
    "start_time": "2023-10-11T18:20:22.333Z"
   },
   {
    "duration": 11,
    "start_time": "2023-10-11T18:20:22.467Z"
   },
   {
    "duration": 28,
    "start_time": "2023-10-11T18:20:22.479Z"
   },
   {
    "duration": 130,
    "start_time": "2023-10-11T18:23:29.168Z"
   },
   {
    "duration": 161,
    "start_time": "2023-10-11T18:23:47.445Z"
   },
   {
    "duration": 173,
    "start_time": "2023-10-11T18:24:32.346Z"
   },
   {
    "duration": 154,
    "start_time": "2023-10-11T18:24:43.249Z"
   },
   {
    "duration": 160,
    "start_time": "2023-10-11T18:25:30.412Z"
   },
   {
    "duration": 86,
    "start_time": "2023-10-11T18:26:53.063Z"
   },
   {
    "duration": 24,
    "start_time": "2023-10-11T18:27:35.850Z"
   },
   {
    "duration": 156,
    "start_time": "2023-10-11T18:28:14.189Z"
   },
   {
    "duration": 22,
    "start_time": "2023-10-11T18:41:23.323Z"
   },
   {
    "duration": 25,
    "start_time": "2023-10-11T18:41:54.170Z"
   },
   {
    "duration": 34,
    "start_time": "2023-10-11T18:42:06.481Z"
   },
   {
    "duration": 23,
    "start_time": "2023-10-11T18:42:44.935Z"
   },
   {
    "duration": 26,
    "start_time": "2023-10-11T18:43:05.102Z"
   },
   {
    "duration": 26,
    "start_time": "2023-10-11T18:46:55.378Z"
   },
   {
    "duration": 29,
    "start_time": "2023-10-11T18:47:22.972Z"
   },
   {
    "duration": 39,
    "start_time": "2023-10-11T18:47:40.839Z"
   },
   {
    "duration": 23,
    "start_time": "2023-10-11T18:49:30.901Z"
   },
   {
    "duration": 25,
    "start_time": "2023-10-11T18:50:07.067Z"
   },
   {
    "duration": 11,
    "start_time": "2023-10-11T18:54:50.289Z"
   },
   {
    "duration": 51,
    "start_time": "2023-10-11T18:55:02.116Z"
   },
   {
    "duration": 57,
    "start_time": "2023-10-11T18:55:54.884Z"
   },
   {
    "duration": 15,
    "start_time": "2023-10-11T18:56:03.855Z"
   },
   {
    "duration": 75,
    "start_time": "2023-10-11T18:56:58.146Z"
   },
   {
    "duration": 108,
    "start_time": "2023-10-11T18:57:31.173Z"
   },
   {
    "duration": 23,
    "start_time": "2023-10-11T18:57:57.717Z"
   },
   {
    "duration": 37,
    "start_time": "2023-10-11T18:59:37.581Z"
   },
   {
    "duration": 123,
    "start_time": "2023-10-11T19:01:33.632Z"
   },
   {
    "duration": 251,
    "start_time": "2023-10-11T19:01:49.283Z"
   },
   {
    "duration": 293,
    "start_time": "2023-10-11T19:02:03.800Z"
   },
   {
    "duration": 326,
    "start_time": "2023-10-11T19:02:25.759Z"
   },
   {
    "duration": 247,
    "start_time": "2023-10-11T19:03:34.668Z"
   },
   {
    "duration": 230,
    "start_time": "2023-10-11T19:05:12.887Z"
   },
   {
    "duration": 22,
    "start_time": "2023-10-11T19:30:13.081Z"
   },
   {
    "duration": 23,
    "start_time": "2023-10-11T19:30:24.326Z"
   },
   {
    "duration": 21,
    "start_time": "2023-10-11T19:30:44.533Z"
   },
   {
    "duration": 16,
    "start_time": "2023-10-11T19:30:51.426Z"
   },
   {
    "duration": 15,
    "start_time": "2023-10-11T19:31:03.894Z"
   },
   {
    "duration": 40,
    "start_time": "2023-10-11T19:32:41.981Z"
   },
   {
    "duration": 32,
    "start_time": "2023-10-11T19:33:04.279Z"
   },
   {
    "duration": 15,
    "start_time": "2023-10-11T19:33:25.073Z"
   },
   {
    "duration": 15,
    "start_time": "2023-10-11T19:33:48.721Z"
   },
   {
    "duration": 14,
    "start_time": "2023-10-11T19:33:57.471Z"
   },
   {
    "duration": 14,
    "start_time": "2023-10-11T19:37:01.201Z"
   },
   {
    "duration": 26,
    "start_time": "2023-10-11T19:37:40.969Z"
   },
   {
    "duration": 24,
    "start_time": "2023-10-11T19:37:51.572Z"
   },
   {
    "duration": 26,
    "start_time": "2023-10-11T19:38:01.671Z"
   },
   {
    "duration": 23,
    "start_time": "2023-10-11T19:38:45.781Z"
   },
   {
    "duration": 24,
    "start_time": "2023-10-11T19:39:02.505Z"
   },
   {
    "duration": 21,
    "start_time": "2023-10-11T19:39:17.931Z"
   },
   {
    "duration": 22,
    "start_time": "2023-10-11T19:39:34.407Z"
   },
   {
    "duration": 23,
    "start_time": "2023-10-11T19:40:01.750Z"
   },
   {
    "duration": 795,
    "start_time": "2023-10-12T12:03:39.718Z"
   },
   {
    "duration": 3,
    "start_time": "2023-10-12T12:04:08.536Z"
   },
   {
    "duration": 222,
    "start_time": "2023-10-12T12:04:08.577Z"
   },
   {
    "duration": 93,
    "start_time": "2023-10-12T12:04:08.800Z"
   },
   {
    "duration": 15,
    "start_time": "2023-10-12T12:04:08.894Z"
   },
   {
    "duration": 14,
    "start_time": "2023-10-12T12:04:08.910Z"
   },
   {
    "duration": 6,
    "start_time": "2023-10-12T12:04:08.926Z"
   },
   {
    "duration": 28,
    "start_time": "2023-10-12T12:04:08.933Z"
   },
   {
    "duration": 13,
    "start_time": "2023-10-12T12:04:08.962Z"
   },
   {
    "duration": 13,
    "start_time": "2023-10-12T12:04:08.976Z"
   },
   {
    "duration": 6,
    "start_time": "2023-10-12T12:04:08.990Z"
   },
   {
    "duration": 6,
    "start_time": "2023-10-12T12:04:08.997Z"
   },
   {
    "duration": 4,
    "start_time": "2023-10-12T12:04:09.004Z"
   },
   {
    "duration": 6,
    "start_time": "2023-10-12T12:04:09.009Z"
   },
   {
    "duration": 8,
    "start_time": "2023-10-12T12:04:09.016Z"
   },
   {
    "duration": 21,
    "start_time": "2023-10-12T12:04:09.026Z"
   },
   {
    "duration": 23,
    "start_time": "2023-10-12T12:04:09.048Z"
   },
   {
    "duration": 17,
    "start_time": "2023-10-12T12:04:09.072Z"
   },
   {
    "duration": 18,
    "start_time": "2023-10-12T12:04:09.090Z"
   },
   {
    "duration": 16,
    "start_time": "2023-10-12T12:04:09.109Z"
   },
   {
    "duration": 6,
    "start_time": "2023-10-12T12:04:09.127Z"
   },
   {
    "duration": 12,
    "start_time": "2023-10-12T12:04:09.135Z"
   },
   {
    "duration": 14,
    "start_time": "2023-10-12T12:04:09.149Z"
   },
   {
    "duration": 19,
    "start_time": "2023-10-12T12:04:09.164Z"
   },
   {
    "duration": 26,
    "start_time": "2023-10-12T12:04:09.184Z"
   },
   {
    "duration": 31,
    "start_time": "2023-10-12T12:04:09.211Z"
   },
   {
    "duration": 34,
    "start_time": "2023-10-12T12:04:09.243Z"
   },
   {
    "duration": 24,
    "start_time": "2023-10-12T12:04:09.279Z"
   },
   {
    "duration": 13,
    "start_time": "2023-10-12T12:04:09.305Z"
   },
   {
    "duration": 34,
    "start_time": "2023-10-12T12:04:09.319Z"
   },
   {
    "duration": 19,
    "start_time": "2023-10-12T12:04:09.355Z"
   },
   {
    "duration": 13,
    "start_time": "2023-10-12T12:04:09.375Z"
   },
   {
    "duration": 9,
    "start_time": "2023-10-12T12:04:09.390Z"
   },
   {
    "duration": 26,
    "start_time": "2023-10-12T12:04:09.400Z"
   },
   {
    "duration": 9,
    "start_time": "2023-10-12T12:04:09.427Z"
   },
   {
    "duration": 70,
    "start_time": "2023-10-12T12:04:09.438Z"
   },
   {
    "duration": 42,
    "start_time": "2023-10-12T12:04:09.510Z"
   },
   {
    "duration": 31,
    "start_time": "2023-10-12T12:04:09.554Z"
   },
   {
    "duration": 5,
    "start_time": "2023-10-12T12:04:09.587Z"
   },
   {
    "duration": 9,
    "start_time": "2023-10-12T12:04:09.594Z"
   },
   {
    "duration": 5,
    "start_time": "2023-10-12T12:04:09.605Z"
   },
   {
    "duration": 21,
    "start_time": "2023-10-12T12:04:09.611Z"
   },
   {
    "duration": 25,
    "start_time": "2023-10-12T12:04:09.637Z"
   },
   {
    "duration": 8,
    "start_time": "2023-10-12T12:04:09.664Z"
   },
   {
    "duration": 19,
    "start_time": "2023-10-12T12:04:09.673Z"
   },
   {
    "duration": 8,
    "start_time": "2023-10-12T12:04:09.693Z"
   },
   {
    "duration": 8,
    "start_time": "2023-10-12T12:04:09.702Z"
   },
   {
    "duration": 30,
    "start_time": "2023-10-12T12:04:09.711Z"
   },
   {
    "duration": 21,
    "start_time": "2023-10-12T12:04:09.742Z"
   },
   {
    "duration": 25,
    "start_time": "2023-10-12T12:04:09.764Z"
   },
   {
    "duration": 26,
    "start_time": "2023-10-12T12:04:09.791Z"
   },
   {
    "duration": 166,
    "start_time": "2023-10-12T12:04:09.819Z"
   },
   {
    "duration": 169,
    "start_time": "2023-10-12T12:04:09.986Z"
   },
   {
    "duration": 136,
    "start_time": "2023-10-12T12:04:10.157Z"
   },
   {
    "duration": 11,
    "start_time": "2023-10-12T12:04:10.295Z"
   },
   {
    "duration": 21,
    "start_time": "2023-10-12T12:04:10.307Z"
   },
   {
    "duration": 29,
    "start_time": "2023-10-12T12:04:10.330Z"
   },
   {
    "duration": 160,
    "start_time": "2023-10-12T12:04:10.361Z"
   },
   {
    "duration": 315,
    "start_time": "2023-10-12T12:04:10.522Z"
   },
   {
    "duration": 20,
    "start_time": "2023-10-12T12:04:15.513Z"
   },
   {
    "duration": 19,
    "start_time": "2023-10-12T12:21:00.479Z"
   },
   {
    "duration": 288,
    "start_time": "2023-10-12T12:25:51.156Z"
   },
   {
    "duration": 1374,
    "start_time": "2023-10-12T12:26:08.612Z"
   },
   {
    "duration": 14,
    "start_time": "2023-10-12T12:26:32.680Z"
   },
   {
    "duration": 6,
    "start_time": "2023-10-12T12:27:03.645Z"
   },
   {
    "duration": 26,
    "start_time": "2023-10-12T12:27:18.123Z"
   },
   {
    "duration": 17,
    "start_time": "2023-10-12T12:28:54.794Z"
   },
   {
    "duration": 29,
    "start_time": "2023-10-12T12:35:19.401Z"
   },
   {
    "duration": 29,
    "start_time": "2023-10-12T12:38:08.717Z"
   },
   {
    "duration": 158,
    "start_time": "2023-10-12T12:39:07.264Z"
   },
   {
    "duration": 31,
    "start_time": "2023-10-12T12:40:14.590Z"
   },
   {
    "duration": 175,
    "start_time": "2023-10-12T12:41:23.211Z"
   },
   {
    "duration": 156,
    "start_time": "2023-10-12T12:42:26.676Z"
   },
   {
    "duration": 164,
    "start_time": "2023-10-12T13:19:45.983Z"
   },
   {
    "duration": 84,
    "start_time": "2023-10-12T13:29:04.961Z"
   },
   {
    "duration": 10,
    "start_time": "2023-10-12T13:34:34.155Z"
   },
   {
    "duration": 15,
    "start_time": "2023-10-12T13:35:08.579Z"
   },
   {
    "duration": 14,
    "start_time": "2023-10-12T13:36:18.508Z"
   },
   {
    "duration": 19,
    "start_time": "2023-10-12T13:36:42.420Z"
   },
   {
    "duration": 15,
    "start_time": "2023-10-12T13:37:18.679Z"
   },
   {
    "duration": 10,
    "start_time": "2023-10-12T13:38:06.019Z"
   },
   {
    "duration": 8,
    "start_time": "2023-10-12T13:38:44.831Z"
   },
   {
    "duration": 7,
    "start_time": "2023-10-12T13:39:17.343Z"
   },
   {
    "duration": 10,
    "start_time": "2023-10-12T13:41:05.357Z"
   },
   {
    "duration": 14,
    "start_time": "2023-10-12T13:41:19.889Z"
   },
   {
    "duration": 13,
    "start_time": "2023-10-12T13:41:47.098Z"
   },
   {
    "duration": 13,
    "start_time": "2023-10-12T13:42:03.155Z"
   },
   {
    "duration": 14,
    "start_time": "2023-10-12T13:42:17.014Z"
   },
   {
    "duration": 5,
    "start_time": "2023-10-12T13:43:09.957Z"
   },
   {
    "duration": 5,
    "start_time": "2023-10-12T13:44:00.321Z"
   },
   {
    "duration": 6,
    "start_time": "2023-10-12T13:44:38.100Z"
   },
   {
    "duration": 6,
    "start_time": "2023-10-12T13:45:21.801Z"
   },
   {
    "duration": 5,
    "start_time": "2023-10-12T13:50:55.677Z"
   },
   {
    "duration": 7,
    "start_time": "2023-10-12T13:51:18.141Z"
   },
   {
    "duration": 4,
    "start_time": "2023-10-12T13:51:36.714Z"
   },
   {
    "duration": 3,
    "start_time": "2023-10-12T13:51:52.753Z"
   },
   {
    "duration": 4,
    "start_time": "2023-10-12T13:52:01.121Z"
   },
   {
    "duration": 4,
    "start_time": "2023-10-12T13:53:15.240Z"
   },
   {
    "duration": 7,
    "start_time": "2023-10-12T14:00:35.129Z"
   },
   {
    "duration": 8,
    "start_time": "2023-10-12T14:00:56.367Z"
   },
   {
    "duration": 16,
    "start_time": "2023-10-12T14:01:04.363Z"
   },
   {
    "duration": 12,
    "start_time": "2023-10-12T14:01:14.976Z"
   },
   {
    "duration": 13,
    "start_time": "2023-10-12T14:01:46.476Z"
   },
   {
    "duration": 20,
    "start_time": "2023-10-12T14:07:23.251Z"
   },
   {
    "duration": 19,
    "start_time": "2023-10-12T14:07:51.858Z"
   },
   {
    "duration": 15,
    "start_time": "2023-10-12T14:08:25.891Z"
   },
   {
    "duration": 422,
    "start_time": "2023-10-12T14:09:24.012Z"
   },
   {
    "duration": 21,
    "start_time": "2023-10-12T14:10:04.602Z"
   },
   {
    "duration": 297,
    "start_time": "2023-10-12T14:11:50.716Z"
   },
   {
    "duration": 258,
    "start_time": "2023-10-12T14:12:56.461Z"
   },
   {
    "duration": 151,
    "start_time": "2023-10-12T14:13:20.754Z"
   },
   {
    "duration": 184,
    "start_time": "2023-10-12T14:13:48.628Z"
   },
   {
    "duration": 338,
    "start_time": "2023-10-12T14:14:10.920Z"
   },
   {
    "duration": 793,
    "start_time": "2023-10-13T11:23:21.463Z"
   },
   {
    "duration": 232,
    "start_time": "2023-10-13T11:23:22.258Z"
   },
   {
    "duration": 98,
    "start_time": "2023-10-13T11:23:22.491Z"
   },
   {
    "duration": 16,
    "start_time": "2023-10-13T11:23:22.591Z"
   },
   {
    "duration": 8,
    "start_time": "2023-10-13T11:23:22.609Z"
   },
   {
    "duration": 8,
    "start_time": "2023-10-13T11:23:22.619Z"
   },
   {
    "duration": 26,
    "start_time": "2023-10-13T11:23:22.629Z"
   },
   {
    "duration": 14,
    "start_time": "2023-10-13T11:23:22.657Z"
   },
   {
    "duration": 7,
    "start_time": "2023-10-13T11:23:22.673Z"
   },
   {
    "duration": 6,
    "start_time": "2023-10-13T11:23:22.683Z"
   },
   {
    "duration": 16,
    "start_time": "2023-10-13T11:23:22.691Z"
   },
   {
    "duration": 10,
    "start_time": "2023-10-13T11:23:22.709Z"
   },
   {
    "duration": 6,
    "start_time": "2023-10-13T11:23:22.721Z"
   },
   {
    "duration": 12,
    "start_time": "2023-10-13T11:23:22.728Z"
   },
   {
    "duration": 11,
    "start_time": "2023-10-13T11:23:22.742Z"
   },
   {
    "duration": 7,
    "start_time": "2023-10-13T11:23:22.754Z"
   },
   {
    "duration": 6,
    "start_time": "2023-10-13T11:23:22.763Z"
   },
   {
    "duration": 7,
    "start_time": "2023-10-13T11:23:22.770Z"
   },
   {
    "duration": 5,
    "start_time": "2023-10-13T11:23:22.779Z"
   },
   {
    "duration": 15,
    "start_time": "2023-10-13T11:23:22.786Z"
   },
   {
    "duration": 16,
    "start_time": "2023-10-13T11:23:22.802Z"
   },
   {
    "duration": 7,
    "start_time": "2023-10-13T11:23:22.819Z"
   },
   {
    "duration": 15,
    "start_time": "2023-10-13T11:23:22.827Z"
   },
   {
    "duration": 12,
    "start_time": "2023-10-13T11:23:22.843Z"
   },
   {
    "duration": 14,
    "start_time": "2023-10-13T11:23:22.857Z"
   },
   {
    "duration": 26,
    "start_time": "2023-10-13T11:23:22.873Z"
   },
   {
    "duration": 24,
    "start_time": "2023-10-13T11:23:22.901Z"
   },
   {
    "duration": 16,
    "start_time": "2023-10-13T11:23:22.928Z"
   },
   {
    "duration": 22,
    "start_time": "2023-10-13T11:23:22.945Z"
   },
   {
    "duration": 6,
    "start_time": "2023-10-13T11:23:22.969Z"
   },
   {
    "duration": 20,
    "start_time": "2023-10-13T11:23:22.976Z"
   },
   {
    "duration": 13,
    "start_time": "2023-10-13T11:23:22.997Z"
   },
   {
    "duration": 11,
    "start_time": "2023-10-13T11:23:23.012Z"
   },
   {
    "duration": 7,
    "start_time": "2023-10-13T11:23:23.024Z"
   },
   {
    "duration": 8,
    "start_time": "2023-10-13T11:23:23.032Z"
   },
   {
    "duration": 7,
    "start_time": "2023-10-13T11:23:23.041Z"
   },
   {
    "duration": 4,
    "start_time": "2023-10-13T11:23:23.050Z"
   },
   {
    "duration": 4,
    "start_time": "2023-10-13T11:23:23.055Z"
   },
   {
    "duration": 8,
    "start_time": "2023-10-13T11:23:23.061Z"
   },
   {
    "duration": 9,
    "start_time": "2023-10-13T11:23:23.070Z"
   },
   {
    "duration": 16,
    "start_time": "2023-10-13T11:23:23.080Z"
   },
   {
    "duration": 16,
    "start_time": "2023-10-13T11:23:23.097Z"
   },
   {
    "duration": 28,
    "start_time": "2023-10-13T11:23:23.114Z"
   },
   {
    "duration": 29,
    "start_time": "2023-10-13T11:23:23.143Z"
   },
   {
    "duration": 4,
    "start_time": "2023-10-13T11:23:23.173Z"
   },
   {
    "duration": 14,
    "start_time": "2023-10-13T11:23:23.178Z"
   },
   {
    "duration": 9,
    "start_time": "2023-10-13T11:23:23.193Z"
   },
   {
    "duration": 22,
    "start_time": "2023-10-13T11:23:23.203Z"
   },
   {
    "duration": 19,
    "start_time": "2023-10-13T11:23:23.226Z"
   },
   {
    "duration": 25,
    "start_time": "2023-10-13T11:23:23.247Z"
   },
   {
    "duration": 162,
    "start_time": "2023-10-13T11:23:23.274Z"
   },
   {
    "duration": 155,
    "start_time": "2023-10-13T11:23:23.440Z"
   },
   {
    "duration": 131,
    "start_time": "2023-10-13T11:23:23.597Z"
   },
   {
    "duration": 18,
    "start_time": "2023-10-13T11:23:23.729Z"
   },
   {
    "duration": 9,
    "start_time": "2023-10-13T11:23:23.749Z"
   },
   {
    "duration": 24,
    "start_time": "2023-10-13T11:23:23.759Z"
   },
   {
    "duration": 213,
    "start_time": "2023-10-13T11:23:23.784Z"
   },
   {
    "duration": 266,
    "start_time": "2023-10-13T11:23:23.999Z"
   },
   {
    "duration": 18,
    "start_time": "2023-10-13T11:23:24.267Z"
   },
   {
    "duration": 31,
    "start_time": "2023-10-13T11:23:24.287Z"
   },
   {
    "duration": 157,
    "start_time": "2023-10-13T11:23:24.320Z"
   },
   {
    "duration": 6,
    "start_time": "2023-10-13T11:23:24.479Z"
   },
   {
    "duration": 7,
    "start_time": "2023-10-13T11:23:24.487Z"
   },
   {
    "duration": 7,
    "start_time": "2023-10-13T11:23:24.496Z"
   },
   {
    "duration": 15,
    "start_time": "2023-10-13T11:23:24.505Z"
   },
   {
    "duration": 278,
    "start_time": "2023-10-13T11:23:29.363Z"
   },
   {
    "duration": 15,
    "start_time": "2023-10-13T11:27:28.241Z"
   },
   {
    "duration": 22,
    "start_time": "2023-10-13T11:45:12.412Z"
   },
   {
    "duration": 227,
    "start_time": "2023-10-13T11:47:40.565Z"
   },
   {
    "duration": 13,
    "start_time": "2023-10-13T11:47:51.061Z"
   },
   {
    "duration": 19,
    "start_time": "2023-10-13T11:49:12.865Z"
   },
   {
    "duration": 71,
    "start_time": "2023-10-13T12:00:13.758Z"
   },
   {
    "duration": 70,
    "start_time": "2023-10-13T12:05:29.134Z"
   },
   {
    "duration": 8,
    "start_time": "2023-10-13T12:06:00.515Z"
   },
   {
    "duration": 13,
    "start_time": "2023-10-13T12:06:38.070Z"
   },
   {
    "duration": 11,
    "start_time": "2023-10-13T12:08:10.003Z"
   },
   {
    "duration": 13,
    "start_time": "2023-10-13T12:09:11.113Z"
   },
   {
    "duration": 198,
    "start_time": "2023-10-13T12:11:38.908Z"
   },
   {
    "duration": 250,
    "start_time": "2023-10-13T12:11:56.286Z"
   },
   {
    "duration": 133,
    "start_time": "2023-10-13T12:12:11.315Z"
   },
   {
    "duration": 1530,
    "start_time": "2023-10-13T12:12:45.049Z"
   },
   {
    "duration": 1470,
    "start_time": "2023-10-13T12:13:07.831Z"
   },
   {
    "duration": 169,
    "start_time": "2023-10-13T12:13:54.560Z"
   },
   {
    "duration": 1499,
    "start_time": "2023-10-13T12:14:41.089Z"
   },
   {
    "duration": 1554,
    "start_time": "2023-10-13T12:16:30.067Z"
   },
   {
    "duration": 1269,
    "start_time": "2023-10-13T12:18:16.964Z"
   },
   {
    "duration": 923,
    "start_time": "2023-10-13T16:33:13.172Z"
   },
   {
    "duration": 241,
    "start_time": "2023-10-13T16:33:14.098Z"
   },
   {
    "duration": 92,
    "start_time": "2023-10-13T16:33:14.341Z"
   },
   {
    "duration": 21,
    "start_time": "2023-10-13T16:33:14.438Z"
   },
   {
    "duration": 15,
    "start_time": "2023-10-13T16:33:14.461Z"
   },
   {
    "duration": 23,
    "start_time": "2023-10-13T16:33:14.477Z"
   },
   {
    "duration": 51,
    "start_time": "2023-10-13T16:33:14.501Z"
   },
   {
    "duration": 20,
    "start_time": "2023-10-13T16:33:14.554Z"
   },
   {
    "duration": 16,
    "start_time": "2023-10-13T16:33:14.576Z"
   },
   {
    "duration": 24,
    "start_time": "2023-10-13T16:33:14.593Z"
   },
   {
    "duration": 28,
    "start_time": "2023-10-13T16:33:14.619Z"
   },
   {
    "duration": 14,
    "start_time": "2023-10-13T16:33:14.649Z"
   },
   {
    "duration": 16,
    "start_time": "2023-10-13T16:33:14.665Z"
   },
   {
    "duration": 53,
    "start_time": "2023-10-13T16:33:14.684Z"
   },
   {
    "duration": 28,
    "start_time": "2023-10-13T16:33:14.740Z"
   },
   {
    "duration": 29,
    "start_time": "2023-10-13T16:33:14.769Z"
   },
   {
    "duration": 15,
    "start_time": "2023-10-13T16:33:14.799Z"
   },
   {
    "duration": 27,
    "start_time": "2023-10-13T16:33:14.816Z"
   },
   {
    "duration": 18,
    "start_time": "2023-10-13T16:33:14.845Z"
   },
   {
    "duration": 18,
    "start_time": "2023-10-13T16:33:14.864Z"
   },
   {
    "duration": 37,
    "start_time": "2023-10-13T16:33:14.884Z"
   },
   {
    "duration": 17,
    "start_time": "2023-10-13T16:33:14.923Z"
   },
   {
    "duration": 21,
    "start_time": "2023-10-13T16:33:14.942Z"
   },
   {
    "duration": 31,
    "start_time": "2023-10-13T16:33:14.965Z"
   },
   {
    "duration": 30,
    "start_time": "2023-10-13T16:33:14.997Z"
   },
   {
    "duration": 113,
    "start_time": "2023-10-13T16:33:15.029Z"
   },
   {
    "duration": 24,
    "start_time": "2023-10-13T16:33:15.146Z"
   },
   {
    "duration": 17,
    "start_time": "2023-10-13T16:33:15.172Z"
   },
   {
    "duration": 41,
    "start_time": "2023-10-13T16:33:15.191Z"
   },
   {
    "duration": 25,
    "start_time": "2023-10-13T16:33:15.236Z"
   },
   {
    "duration": 28,
    "start_time": "2023-10-13T16:33:15.262Z"
   },
   {
    "duration": 5,
    "start_time": "2023-10-13T16:33:15.292Z"
   },
   {
    "duration": 36,
    "start_time": "2023-10-13T16:33:15.299Z"
   },
   {
    "duration": 8,
    "start_time": "2023-10-13T16:33:15.337Z"
   },
   {
    "duration": 6,
    "start_time": "2023-10-13T16:33:15.349Z"
   },
   {
    "duration": 15,
    "start_time": "2023-10-13T16:33:15.356Z"
   },
   {
    "duration": 5,
    "start_time": "2023-10-13T16:33:15.372Z"
   },
   {
    "duration": 5,
    "start_time": "2023-10-13T16:33:15.378Z"
   },
   {
    "duration": 11,
    "start_time": "2023-10-13T16:33:15.384Z"
   },
   {
    "duration": 15,
    "start_time": "2023-10-13T16:33:15.397Z"
   },
   {
    "duration": 32,
    "start_time": "2023-10-13T16:33:15.421Z"
   },
   {
    "duration": 17,
    "start_time": "2023-10-13T16:33:15.455Z"
   },
   {
    "duration": 16,
    "start_time": "2023-10-13T16:33:15.474Z"
   },
   {
    "duration": 35,
    "start_time": "2023-10-13T16:33:15.492Z"
   },
   {
    "duration": 16,
    "start_time": "2023-10-13T16:33:15.531Z"
   },
   {
    "duration": 9,
    "start_time": "2023-10-13T16:33:15.552Z"
   },
   {
    "duration": 15,
    "start_time": "2023-10-13T16:33:15.562Z"
   },
   {
    "duration": 18,
    "start_time": "2023-10-13T16:33:15.578Z"
   },
   {
    "duration": 51,
    "start_time": "2023-10-13T16:33:15.597Z"
   },
   {
    "duration": 32,
    "start_time": "2023-10-13T16:33:15.650Z"
   },
   {
    "duration": 206,
    "start_time": "2023-10-13T16:33:15.683Z"
   },
   {
    "duration": 206,
    "start_time": "2023-10-13T16:33:15.891Z"
   },
   {
    "duration": 173,
    "start_time": "2023-10-13T16:33:16.099Z"
   },
   {
    "duration": 11,
    "start_time": "2023-10-13T16:33:16.274Z"
   },
   {
    "duration": 41,
    "start_time": "2023-10-13T16:33:16.287Z"
   },
   {
    "duration": 34,
    "start_time": "2023-10-13T16:33:16.332Z"
   },
   {
    "duration": 205,
    "start_time": "2023-10-13T16:33:16.368Z"
   },
   {
    "duration": 492,
    "start_time": "2023-10-13T16:33:16.574Z"
   },
   {
    "duration": 19,
    "start_time": "2023-10-13T16:33:17.068Z"
   },
   {
    "duration": 61,
    "start_time": "2023-10-13T16:33:17.089Z"
   },
   {
    "duration": 217,
    "start_time": "2023-10-13T16:33:17.152Z"
   },
   {
    "duration": 6,
    "start_time": "2023-10-13T16:33:17.371Z"
   },
   {
    "duration": 17,
    "start_time": "2023-10-13T16:33:17.378Z"
   },
   {
    "duration": 31,
    "start_time": "2023-10-13T16:33:17.397Z"
   },
   {
    "duration": 36,
    "start_time": "2023-10-13T16:33:17.437Z"
   },
   {
    "duration": 21,
    "start_time": "2023-10-13T16:33:17.477Z"
   },
   {
    "duration": 1716,
    "start_time": "2023-10-13T16:33:17.500Z"
   },
   {
    "duration": 101,
    "start_time": "2023-10-13T17:34:21.340Z"
   },
   {
    "duration": 10,
    "start_time": "2023-10-13T17:34:35.535Z"
   },
   {
    "duration": 53,
    "start_time": "2023-10-16T14:39:48.708Z"
   },
   {
    "duration": 915,
    "start_time": "2023-10-16T14:39:53.822Z"
   },
   {
    "duration": 237,
    "start_time": "2023-10-16T14:39:54.740Z"
   },
   {
    "duration": 94,
    "start_time": "2023-10-16T14:39:54.979Z"
   },
   {
    "duration": 17,
    "start_time": "2023-10-16T14:39:55.075Z"
   },
   {
    "duration": 44,
    "start_time": "2023-10-16T14:39:55.094Z"
   },
   {
    "duration": 30,
    "start_time": "2023-10-16T14:39:55.140Z"
   },
   {
    "duration": 53,
    "start_time": "2023-10-16T14:39:55.172Z"
   },
   {
    "duration": 16,
    "start_time": "2023-10-16T14:39:55.226Z"
   },
   {
    "duration": 8,
    "start_time": "2023-10-16T14:39:55.243Z"
   },
   {
    "duration": 15,
    "start_time": "2023-10-16T14:39:55.252Z"
   },
   {
    "duration": 14,
    "start_time": "2023-10-16T14:39:55.268Z"
   },
   {
    "duration": 19,
    "start_time": "2023-10-16T14:39:55.283Z"
   },
   {
    "duration": 12,
    "start_time": "2023-10-16T14:39:55.303Z"
   },
   {
    "duration": 7,
    "start_time": "2023-10-16T14:39:55.318Z"
   },
   {
    "duration": 11,
    "start_time": "2023-10-16T14:39:55.326Z"
   },
   {
    "duration": 17,
    "start_time": "2023-10-16T14:39:55.338Z"
   },
   {
    "duration": 26,
    "start_time": "2023-10-16T14:39:55.357Z"
   },
   {
    "duration": 5,
    "start_time": "2023-10-16T14:39:55.385Z"
   },
   {
    "duration": 8,
    "start_time": "2023-10-16T14:39:55.391Z"
   },
   {
    "duration": 15,
    "start_time": "2023-10-16T14:39:55.401Z"
   },
   {
    "duration": 25,
    "start_time": "2023-10-16T14:39:55.418Z"
   },
   {
    "duration": 36,
    "start_time": "2023-10-16T14:39:55.445Z"
   },
   {
    "duration": 23,
    "start_time": "2023-10-16T14:39:55.483Z"
   },
   {
    "duration": 20,
    "start_time": "2023-10-16T14:39:55.508Z"
   },
   {
    "duration": 29,
    "start_time": "2023-10-16T14:39:55.530Z"
   },
   {
    "duration": 25,
    "start_time": "2023-10-16T14:39:55.561Z"
   },
   {
    "duration": 43,
    "start_time": "2023-10-16T14:39:55.588Z"
   },
   {
    "duration": 46,
    "start_time": "2023-10-16T14:39:55.633Z"
   },
   {
    "duration": 16,
    "start_time": "2023-10-16T14:39:55.680Z"
   },
   {
    "duration": 61,
    "start_time": "2023-10-16T14:39:55.697Z"
   },
   {
    "duration": 13,
    "start_time": "2023-10-16T14:39:55.759Z"
   },
   {
    "duration": 19,
    "start_time": "2023-10-16T14:39:55.774Z"
   },
   {
    "duration": 10,
    "start_time": "2023-10-16T14:39:55.795Z"
   },
   {
    "duration": 34,
    "start_time": "2023-10-16T14:39:55.806Z"
   },
   {
    "duration": 26,
    "start_time": "2023-10-16T14:39:55.842Z"
   },
   {
    "duration": 14,
    "start_time": "2023-10-16T14:39:55.870Z"
   },
   {
    "duration": 15,
    "start_time": "2023-10-16T14:39:55.885Z"
   },
   {
    "duration": 48,
    "start_time": "2023-10-16T14:39:55.902Z"
   },
   {
    "duration": 59,
    "start_time": "2023-10-16T14:39:55.952Z"
   },
   {
    "duration": 27,
    "start_time": "2023-10-16T14:39:56.013Z"
   },
   {
    "duration": 25,
    "start_time": "2023-10-16T14:39:56.044Z"
   },
   {
    "duration": 21,
    "start_time": "2023-10-16T14:40:07.054Z"
   },
   {
    "duration": 39,
    "start_time": "2023-10-16T14:48:11.416Z"
   },
   {
    "duration": 5,
    "start_time": "2023-10-16T14:48:34.133Z"
   },
   {
    "duration": 6,
    "start_time": "2023-10-16T14:49:04.119Z"
   },
   {
    "duration": 6,
    "start_time": "2023-10-16T14:49:21.117Z"
   },
   {
    "duration": 5,
    "start_time": "2023-10-16T14:49:30.039Z"
   },
   {
    "duration": 8,
    "start_time": "2023-10-16T14:49:49.166Z"
   },
   {
    "duration": 5,
    "start_time": "2023-10-16T14:50:50.442Z"
   },
   {
    "duration": 5,
    "start_time": "2023-10-16T14:51:29.274Z"
   },
   {
    "duration": 5,
    "start_time": "2023-10-16T14:51:41.650Z"
   },
   {
    "duration": 1566,
    "start_time": "2023-10-16T14:59:22.627Z"
   },
   {
    "duration": 7,
    "start_time": "2023-10-16T14:59:36.211Z"
   },
   {
    "duration": 6,
    "start_time": "2023-10-16T15:02:03.850Z"
   },
   {
    "duration": 6,
    "start_time": "2023-10-16T15:02:28.075Z"
   },
   {
    "duration": 6,
    "start_time": "2023-10-16T15:02:50.941Z"
   },
   {
    "duration": 7,
    "start_time": "2023-10-16T15:03:17.118Z"
   },
   {
    "duration": 9,
    "start_time": "2023-10-16T15:04:04.609Z"
   },
   {
    "duration": 9,
    "start_time": "2023-10-16T15:24:07.279Z"
   },
   {
    "duration": 9,
    "start_time": "2023-10-16T15:24:12.017Z"
   },
   {
    "duration": 224,
    "start_time": "2023-10-16T15:25:32.199Z"
   },
   {
    "duration": 9,
    "start_time": "2023-10-16T15:27:12.143Z"
   },
   {
    "duration": 119,
    "start_time": "2023-10-16T15:27:35.849Z"
   },
   {
    "duration": 117,
    "start_time": "2023-10-16T15:28:24.830Z"
   },
   {
    "duration": 114,
    "start_time": "2023-10-16T15:28:35.672Z"
   },
   {
    "duration": 179,
    "start_time": "2023-10-16T15:28:52.699Z"
   },
   {
    "duration": 144,
    "start_time": "2023-10-16T15:29:15.344Z"
   },
   {
    "duration": 121,
    "start_time": "2023-10-16T15:29:22.158Z"
   },
   {
    "duration": 124,
    "start_time": "2023-10-16T15:29:27.017Z"
   },
   {
    "duration": 125,
    "start_time": "2023-10-16T15:29:33.540Z"
   },
   {
    "duration": 121,
    "start_time": "2023-10-16T15:29:39.892Z"
   },
   {
    "duration": 117,
    "start_time": "2023-10-16T15:29:48.269Z"
   },
   {
    "duration": 132,
    "start_time": "2023-10-16T15:29:53.733Z"
   },
   {
    "duration": 117,
    "start_time": "2023-10-16T15:30:05.930Z"
   },
   {
    "duration": 136,
    "start_time": "2023-10-16T15:30:25.400Z"
   },
   {
    "duration": 124,
    "start_time": "2023-10-16T15:33:27.779Z"
   },
   {
    "duration": 175,
    "start_time": "2023-10-16T15:34:23.253Z"
   },
   {
    "duration": 113,
    "start_time": "2023-10-16T15:34:34.073Z"
   },
   {
    "duration": 106,
    "start_time": "2023-10-16T15:34:45.267Z"
   },
   {
    "duration": 122,
    "start_time": "2023-10-16T15:34:55.579Z"
   },
   {
    "duration": 122,
    "start_time": "2023-10-16T15:35:20.467Z"
   },
   {
    "duration": 108,
    "start_time": "2023-10-16T15:35:26.774Z"
   },
   {
    "duration": 120,
    "start_time": "2023-10-16T15:35:45.687Z"
   },
   {
    "duration": 112,
    "start_time": "2023-10-16T15:35:54.420Z"
   },
   {
    "duration": 136,
    "start_time": "2023-10-16T15:36:27.200Z"
   },
   {
    "duration": 112,
    "start_time": "2023-10-16T15:36:41.732Z"
   },
   {
    "duration": 112,
    "start_time": "2023-10-16T15:36:51.623Z"
   },
   {
    "duration": 180,
    "start_time": "2023-10-16T15:37:06.225Z"
   },
   {
    "duration": 114,
    "start_time": "2023-10-16T15:37:16.036Z"
   },
   {
    "duration": 13,
    "start_time": "2023-10-16T15:38:41.580Z"
   },
   {
    "duration": 105,
    "start_time": "2023-10-16T15:39:08.277Z"
   },
   {
    "duration": 124,
    "start_time": "2023-10-16T15:39:18.987Z"
   },
   {
    "duration": 126,
    "start_time": "2023-10-16T15:43:02.304Z"
   },
   {
    "duration": 124,
    "start_time": "2023-10-16T15:44:34.727Z"
   },
   {
    "duration": 127,
    "start_time": "2023-10-16T15:49:29.780Z"
   },
   {
    "duration": 19,
    "start_time": "2023-10-16T15:52:21.591Z"
   },
   {
    "duration": 99,
    "start_time": "2023-10-16T15:52:51.160Z"
   },
   {
    "duration": 99,
    "start_time": "2023-10-16T16:10:51.292Z"
   },
   {
    "duration": 137,
    "start_time": "2023-10-16T16:27:21.951Z"
   },
   {
    "duration": 144,
    "start_time": "2023-10-16T16:27:50.200Z"
   },
   {
    "duration": 181,
    "start_time": "2023-10-16T16:28:37.484Z"
   },
   {
    "duration": 110,
    "start_time": "2023-10-16T16:29:12.508Z"
   },
   {
    "duration": 112,
    "start_time": "2023-10-16T16:30:50.360Z"
   },
   {
    "duration": 119,
    "start_time": "2023-10-16T16:32:41.378Z"
   },
   {
    "duration": 122,
    "start_time": "2023-10-16T16:33:04.094Z"
   },
   {
    "duration": 128,
    "start_time": "2023-10-16T16:33:27.448Z"
   },
   {
    "duration": 106,
    "start_time": "2023-10-16T16:33:41.055Z"
   },
   {
    "duration": 112,
    "start_time": "2023-10-16T16:34:39.358Z"
   },
   {
    "duration": 49,
    "start_time": "2023-10-16T16:40:01.688Z"
   },
   {
    "duration": 10,
    "start_time": "2023-10-16T16:40:32.330Z"
   },
   {
    "duration": 6,
    "start_time": "2023-10-16T16:40:46.651Z"
   },
   {
    "duration": 5,
    "start_time": "2023-10-16T16:41:09.593Z"
   },
   {
    "duration": 6,
    "start_time": "2023-10-16T16:41:20.663Z"
   },
   {
    "duration": 122,
    "start_time": "2023-10-16T16:51:18.477Z"
   },
   {
    "duration": 11,
    "start_time": "2023-10-16T17:23:32.686Z"
   },
   {
    "duration": 4,
    "start_time": "2023-10-16T17:23:47.144Z"
   },
   {
    "duration": 134,
    "start_time": "2023-10-16T17:23:47.152Z"
   },
   {
    "duration": 48,
    "start_time": "2023-10-16T17:23:47.288Z"
   },
   {
    "duration": 15,
    "start_time": "2023-10-16T17:23:47.338Z"
   },
   {
    "duration": 16,
    "start_time": "2023-10-16T17:23:47.354Z"
   },
   {
    "duration": 7,
    "start_time": "2023-10-16T17:23:47.371Z"
   },
   {
    "duration": 29,
    "start_time": "2023-10-16T17:23:47.451Z"
   },
   {
    "duration": 19,
    "start_time": "2023-10-16T17:23:47.482Z"
   },
   {
    "duration": 11,
    "start_time": "2023-10-16T17:23:47.503Z"
   },
   {
    "duration": 29,
    "start_time": "2023-10-16T17:23:47.516Z"
   },
   {
    "duration": 26,
    "start_time": "2023-10-16T17:23:47.547Z"
   },
   {
    "duration": 7,
    "start_time": "2023-10-16T17:23:47.575Z"
   },
   {
    "duration": 19,
    "start_time": "2023-10-16T17:23:47.583Z"
   },
   {
    "duration": 13,
    "start_time": "2023-10-16T17:23:47.604Z"
   },
   {
    "duration": 9,
    "start_time": "2023-10-16T17:23:47.619Z"
   },
   {
    "duration": 15,
    "start_time": "2023-10-16T17:23:47.630Z"
   },
   {
    "duration": 15,
    "start_time": "2023-10-16T17:23:47.647Z"
   },
   {
    "duration": 6,
    "start_time": "2023-10-16T17:23:47.664Z"
   },
   {
    "duration": 15,
    "start_time": "2023-10-16T17:23:47.671Z"
   },
   {
    "duration": 6,
    "start_time": "2023-10-16T17:23:47.689Z"
   },
   {
    "duration": 5,
    "start_time": "2023-10-16T17:23:47.700Z"
   },
   {
    "duration": 6,
    "start_time": "2023-10-16T17:23:47.707Z"
   },
   {
    "duration": 7,
    "start_time": "2023-10-16T17:23:47.714Z"
   },
   {
    "duration": 5,
    "start_time": "2023-10-16T17:23:47.722Z"
   },
   {
    "duration": 21,
    "start_time": "2023-10-16T17:23:47.729Z"
   },
   {
    "duration": 16,
    "start_time": "2023-10-16T17:23:47.752Z"
   },
   {
    "duration": 34,
    "start_time": "2023-10-16T17:23:47.769Z"
   },
   {
    "duration": 26,
    "start_time": "2023-10-16T17:23:47.804Z"
   },
   {
    "duration": 16,
    "start_time": "2023-10-16T17:23:47.832Z"
   },
   {
    "duration": 24,
    "start_time": "2023-10-16T17:23:47.849Z"
   },
   {
    "duration": 26,
    "start_time": "2023-10-16T17:23:47.875Z"
   },
   {
    "duration": 16,
    "start_time": "2023-10-16T17:23:47.902Z"
   },
   {
    "duration": 11,
    "start_time": "2023-10-16T17:23:47.920Z"
   },
   {
    "duration": 18,
    "start_time": "2023-10-16T17:23:47.933Z"
   },
   {
    "duration": 18,
    "start_time": "2023-10-16T17:23:47.952Z"
   },
   {
    "duration": 11,
    "start_time": "2023-10-16T17:23:47.972Z"
   },
   {
    "duration": 15,
    "start_time": "2023-10-16T17:23:47.986Z"
   },
   {
    "duration": 8,
    "start_time": "2023-10-16T17:23:48.003Z"
   },
   {
    "duration": 20,
    "start_time": "2023-10-16T17:23:48.012Z"
   },
   {
    "duration": 14,
    "start_time": "2023-10-16T17:23:48.034Z"
   },
   {
    "duration": 9,
    "start_time": "2023-10-16T17:23:48.050Z"
   },
   {
    "duration": 27,
    "start_time": "2023-10-16T17:23:48.060Z"
   },
   {
    "duration": 148,
    "start_time": "2023-10-16T17:23:48.089Z"
   },
   {
    "duration": 147,
    "start_time": "2023-10-16T17:23:48.240Z"
   },
   {
    "duration": 215,
    "start_time": "2023-10-16T17:23:48.388Z"
   },
   {
    "duration": 128,
    "start_time": "2023-10-16T17:23:48.604Z"
   },
   {
    "duration": 129,
    "start_time": "2023-10-16T17:23:48.736Z"
   },
   {
    "duration": 8,
    "start_time": "2023-10-16T17:23:48.866Z"
   },
   {
    "duration": 55,
    "start_time": "2023-10-16T17:23:48.875Z"
   },
   {
    "duration": 21,
    "start_time": "2023-10-16T17:23:48.931Z"
   },
   {
    "duration": 22,
    "start_time": "2023-10-16T17:23:48.953Z"
   },
   {
    "duration": 28,
    "start_time": "2023-10-16T17:23:48.977Z"
   },
   {
    "duration": 5,
    "start_time": "2023-10-16T17:23:49.007Z"
   },
   {
    "duration": 10,
    "start_time": "2023-10-16T17:23:49.014Z"
   },
   {
    "duration": 14,
    "start_time": "2023-10-16T17:23:49.026Z"
   },
   {
    "duration": 12,
    "start_time": "2023-10-16T17:23:49.042Z"
   },
   {
    "duration": 20,
    "start_time": "2023-10-16T17:23:49.055Z"
   },
   {
    "duration": 50,
    "start_time": "2023-10-16T17:23:49.076Z"
   },
   {
    "duration": 175,
    "start_time": "2023-10-16T17:23:53.391Z"
   },
   {
    "duration": 110,
    "start_time": "2023-10-16T17:24:48.860Z"
   },
   {
    "duration": 129,
    "start_time": "2023-10-16T17:25:33.414Z"
   },
   {
    "duration": 189,
    "start_time": "2023-10-16T17:27:01.072Z"
   },
   {
    "duration": 159,
    "start_time": "2023-10-16T17:28:29.208Z"
   },
   {
    "duration": 189,
    "start_time": "2023-10-16T17:31:50.863Z"
   },
   {
    "duration": 15,
    "start_time": "2023-10-16T17:32:56.028Z"
   },
   {
    "duration": 15,
    "start_time": "2023-10-16T17:33:04.164Z"
   },
   {
    "duration": 11,
    "start_time": "2023-10-16T17:34:18.176Z"
   },
   {
    "duration": 4,
    "start_time": "2023-10-16T17:34:27.272Z"
   },
   {
    "duration": 150,
    "start_time": "2023-10-16T17:34:27.277Z"
   },
   {
    "duration": 48,
    "start_time": "2023-10-16T17:34:27.429Z"
   },
   {
    "duration": 17,
    "start_time": "2023-10-16T17:34:27.479Z"
   },
   {
    "duration": 39,
    "start_time": "2023-10-16T17:34:27.498Z"
   },
   {
    "duration": 28,
    "start_time": "2023-10-16T17:34:27.539Z"
   },
   {
    "duration": 63,
    "start_time": "2023-10-16T17:34:27.569Z"
   },
   {
    "duration": 15,
    "start_time": "2023-10-16T17:34:27.634Z"
   },
   {
    "duration": 43,
    "start_time": "2023-10-16T17:34:27.651Z"
   },
   {
    "duration": 25,
    "start_time": "2023-10-16T17:34:27.696Z"
   },
   {
    "duration": 52,
    "start_time": "2023-10-16T17:34:27.723Z"
   },
   {
    "duration": 61,
    "start_time": "2023-10-16T17:34:27.777Z"
   },
   {
    "duration": 41,
    "start_time": "2023-10-16T17:34:27.840Z"
   },
   {
    "duration": 22,
    "start_time": "2023-10-16T17:34:27.884Z"
   },
   {
    "duration": 24,
    "start_time": "2023-10-16T17:34:27.908Z"
   },
   {
    "duration": 27,
    "start_time": "2023-10-16T17:34:27.933Z"
   },
   {
    "duration": 17,
    "start_time": "2023-10-16T17:34:27.961Z"
   },
   {
    "duration": 6,
    "start_time": "2023-10-16T17:34:27.980Z"
   },
   {
    "duration": 24,
    "start_time": "2023-10-16T17:34:27.987Z"
   },
   {
    "duration": 60,
    "start_time": "2023-10-16T17:34:28.012Z"
   },
   {
    "duration": 48,
    "start_time": "2023-10-16T17:34:28.073Z"
   },
   {
    "duration": 27,
    "start_time": "2023-10-16T17:34:28.122Z"
   },
   {
    "duration": 30,
    "start_time": "2023-10-16T17:34:28.150Z"
   },
   {
    "duration": 29,
    "start_time": "2023-10-16T17:34:28.182Z"
   },
   {
    "duration": 25,
    "start_time": "2023-10-16T17:34:28.213Z"
   },
   {
    "duration": 31,
    "start_time": "2023-10-16T17:34:28.240Z"
   },
   {
    "duration": 77,
    "start_time": "2023-10-16T17:34:28.273Z"
   },
   {
    "duration": 26,
    "start_time": "2023-10-16T17:34:28.352Z"
   },
   {
    "duration": 37,
    "start_time": "2023-10-16T17:34:28.379Z"
   },
   {
    "duration": 67,
    "start_time": "2023-10-16T17:34:28.418Z"
   },
   {
    "duration": 31,
    "start_time": "2023-10-16T17:34:28.486Z"
   },
   {
    "duration": 35,
    "start_time": "2023-10-16T17:34:28.518Z"
   },
   {
    "duration": 26,
    "start_time": "2023-10-16T17:34:28.555Z"
   },
   {
    "duration": 23,
    "start_time": "2023-10-16T17:34:28.583Z"
   },
   {
    "duration": 25,
    "start_time": "2023-10-16T17:34:28.608Z"
   },
   {
    "duration": 56,
    "start_time": "2023-10-16T17:34:28.635Z"
   },
   {
    "duration": 55,
    "start_time": "2023-10-16T17:34:28.693Z"
   },
   {
    "duration": 55,
    "start_time": "2023-10-16T17:34:28.750Z"
   },
   {
    "duration": 24,
    "start_time": "2023-10-16T17:34:28.807Z"
   },
   {
    "duration": 35,
    "start_time": "2023-10-16T17:34:28.833Z"
   },
   {
    "duration": 33,
    "start_time": "2023-10-16T17:34:28.873Z"
   },
   {
    "duration": 58,
    "start_time": "2023-10-16T17:34:28.908Z"
   },
   {
    "duration": 121,
    "start_time": "2023-10-16T17:34:28.968Z"
   },
   {
    "duration": 133,
    "start_time": "2023-10-16T17:34:29.091Z"
   },
   {
    "duration": 121,
    "start_time": "2023-10-16T17:34:29.226Z"
   },
   {
    "duration": 120,
    "start_time": "2023-10-16T17:34:29.349Z"
   },
   {
    "duration": 196,
    "start_time": "2023-10-16T17:34:29.471Z"
   },
   {
    "duration": 6,
    "start_time": "2023-10-16T17:34:29.669Z"
   },
   {
    "duration": 199,
    "start_time": "2023-10-16T17:34:29.677Z"
   },
   {
    "duration": 96,
    "start_time": "2023-10-16T17:34:29.877Z"
   },
   {
    "duration": 44,
    "start_time": "2023-10-16T17:34:29.975Z"
   },
   {
    "duration": 81,
    "start_time": "2023-10-16T17:34:30.020Z"
   },
   {
    "duration": 42,
    "start_time": "2023-10-16T17:34:30.103Z"
   },
   {
    "duration": 31,
    "start_time": "2023-10-16T17:34:30.148Z"
   },
   {
    "duration": 42,
    "start_time": "2023-10-16T17:34:30.181Z"
   },
   {
    "duration": 50,
    "start_time": "2023-10-16T17:34:30.225Z"
   },
   {
    "duration": 228,
    "start_time": "2023-10-16T17:34:30.276Z"
   },
   {
    "duration": 184,
    "start_time": "2023-10-16T17:34:30.506Z"
   },
   {
    "duration": 308,
    "start_time": "2023-10-16T17:34:30.692Z"
   },
   {
    "duration": 190,
    "start_time": "2023-10-16T17:34:31.002Z"
   },
   {
    "duration": 283,
    "start_time": "2023-10-16T17:34:31.193Z"
   },
   {
    "duration": 24,
    "start_time": "2023-10-16T17:34:31.478Z"
   },
   {
    "duration": 78,
    "start_time": "2023-10-16T17:34:31.504Z"
   },
   {
    "duration": 71,
    "start_time": "2023-10-16T17:34:31.583Z"
   },
   {
    "duration": 188,
    "start_time": "2023-10-16T17:34:31.656Z"
   },
   {
    "duration": 305,
    "start_time": "2023-10-16T17:34:31.845Z"
   },
   {
    "duration": 23,
    "start_time": "2023-10-16T17:34:32.153Z"
   },
   {
    "duration": 54,
    "start_time": "2023-10-16T17:34:32.178Z"
   },
   {
    "duration": 206,
    "start_time": "2023-10-16T17:34:32.234Z"
   },
   {
    "duration": 7,
    "start_time": "2023-10-16T17:34:32.441Z"
   },
   {
    "duration": 38,
    "start_time": "2023-10-16T17:34:32.449Z"
   },
   {
    "duration": 54,
    "start_time": "2023-10-16T17:34:32.489Z"
   },
   {
    "duration": 45,
    "start_time": "2023-10-16T17:34:32.545Z"
   },
   {
    "duration": 40,
    "start_time": "2023-10-16T17:34:32.591Z"
   },
   {
    "duration": 1582,
    "start_time": "2023-10-16T17:34:32.632Z"
   },
   {
    "duration": 101,
    "start_time": "2023-10-16T17:35:27.801Z"
   },
   {
    "duration": 188,
    "start_time": "2023-10-16T17:41:51.805Z"
   },
   {
    "duration": 250,
    "start_time": "2023-10-16T17:41:57.929Z"
   },
   {
    "duration": 291,
    "start_time": "2023-10-16T17:49:13.914Z"
   },
   {
    "duration": 14,
    "start_time": "2023-10-16T17:51:08.895Z"
   },
   {
    "duration": 5,
    "start_time": "2023-10-16T17:51:27.618Z"
   },
   {
    "duration": 290,
    "start_time": "2023-10-16T17:51:34.163Z"
   },
   {
    "duration": 286,
    "start_time": "2023-10-16T17:51:45.064Z"
   },
   {
    "duration": 13,
    "start_time": "2023-10-16T17:52:11.967Z"
   },
   {
    "duration": 280,
    "start_time": "2023-10-16T17:52:19.106Z"
   },
   {
    "duration": 280,
    "start_time": "2023-10-16T17:53:20.842Z"
   },
   {
    "duration": 286,
    "start_time": "2023-10-16T17:53:35.602Z"
   },
   {
    "duration": 10,
    "start_time": "2023-10-16T17:55:38.523Z"
   },
   {
    "duration": 286,
    "start_time": "2023-10-16T17:55:40.647Z"
   },
   {
    "duration": 214,
    "start_time": "2023-10-16T18:13:44.374Z"
   },
   {
    "duration": 213,
    "start_time": "2023-10-16T18:13:56.755Z"
   },
   {
    "duration": 94,
    "start_time": "2023-10-16T18:14:27.309Z"
   },
   {
    "duration": 29,
    "start_time": "2023-10-16T18:16:21.598Z"
   },
   {
    "duration": 25,
    "start_time": "2023-10-16T18:19:20.881Z"
   },
   {
    "duration": 78,
    "start_time": "2023-10-16T18:21:08.237Z"
   },
   {
    "duration": 1752,
    "start_time": "2023-10-16T18:22:37.074Z"
   },
   {
    "duration": 9,
    "start_time": "2023-10-16T18:23:39.901Z"
   },
   {
    "duration": 1540,
    "start_time": "2023-10-16T18:23:56.435Z"
   },
   {
    "duration": 75,
    "start_time": "2023-10-16T18:27:27.766Z"
   },
   {
    "duration": 33,
    "start_time": "2023-10-16T18:32:51.661Z"
   },
   {
    "duration": 3,
    "start_time": "2023-10-16T18:33:20.495Z"
   },
   {
    "duration": 131,
    "start_time": "2023-10-16T18:33:20.500Z"
   },
   {
    "duration": 47,
    "start_time": "2023-10-16T18:33:20.633Z"
   },
   {
    "duration": 16,
    "start_time": "2023-10-16T18:33:20.682Z"
   },
   {
    "duration": 15,
    "start_time": "2023-10-16T18:33:20.700Z"
   },
   {
    "duration": 55,
    "start_time": "2023-10-16T18:33:20.717Z"
   },
   {
    "duration": 48,
    "start_time": "2023-10-16T18:33:20.774Z"
   },
   {
    "duration": 17,
    "start_time": "2023-10-16T18:33:20.824Z"
   },
   {
    "duration": 11,
    "start_time": "2023-10-16T18:33:20.842Z"
   },
   {
    "duration": 9,
    "start_time": "2023-10-16T18:33:20.855Z"
   },
   {
    "duration": 27,
    "start_time": "2023-10-16T18:33:20.866Z"
   },
   {
    "duration": 12,
    "start_time": "2023-10-16T18:33:20.894Z"
   },
   {
    "duration": 16,
    "start_time": "2023-10-16T18:33:20.909Z"
   },
   {
    "duration": 16,
    "start_time": "2023-10-16T18:33:20.926Z"
   },
   {
    "duration": 10,
    "start_time": "2023-10-16T18:33:20.944Z"
   },
   {
    "duration": 13,
    "start_time": "2023-10-16T18:33:20.956Z"
   },
   {
    "duration": 34,
    "start_time": "2023-10-16T18:33:20.970Z"
   },
   {
    "duration": 5,
    "start_time": "2023-10-16T18:33:21.006Z"
   },
   {
    "duration": 5,
    "start_time": "2023-10-16T18:33:21.013Z"
   },
   {
    "duration": 13,
    "start_time": "2023-10-16T18:33:21.019Z"
   },
   {
    "duration": 13,
    "start_time": "2023-10-16T18:33:21.034Z"
   },
   {
    "duration": 8,
    "start_time": "2023-10-16T18:33:21.049Z"
   },
   {
    "duration": 14,
    "start_time": "2023-10-16T18:33:21.058Z"
   },
   {
    "duration": 7,
    "start_time": "2023-10-16T18:33:21.074Z"
   },
   {
    "duration": 6,
    "start_time": "2023-10-16T18:33:21.083Z"
   },
   {
    "duration": 16,
    "start_time": "2023-10-16T18:33:21.091Z"
   },
   {
    "duration": 27,
    "start_time": "2023-10-16T18:33:21.108Z"
   },
   {
    "duration": 28,
    "start_time": "2023-10-16T18:33:21.137Z"
   },
   {
    "duration": 37,
    "start_time": "2023-10-16T18:33:21.166Z"
   },
   {
    "duration": 16,
    "start_time": "2023-10-16T18:33:21.204Z"
   },
   {
    "duration": 12,
    "start_time": "2023-10-16T18:33:21.222Z"
   },
   {
    "duration": 21,
    "start_time": "2023-10-16T18:33:21.236Z"
   },
   {
    "duration": 24,
    "start_time": "2023-10-16T18:33:21.258Z"
   },
   {
    "duration": 18,
    "start_time": "2023-10-16T18:33:21.284Z"
   },
   {
    "duration": 5,
    "start_time": "2023-10-16T18:33:21.304Z"
   },
   {
    "duration": 18,
    "start_time": "2023-10-16T18:33:21.311Z"
   },
   {
    "duration": 5,
    "start_time": "2023-10-16T18:33:21.333Z"
   },
   {
    "duration": 31,
    "start_time": "2023-10-16T18:33:21.339Z"
   },
   {
    "duration": 27,
    "start_time": "2023-10-16T18:33:21.371Z"
   },
   {
    "duration": 11,
    "start_time": "2023-10-16T18:33:21.400Z"
   },
   {
    "duration": 19,
    "start_time": "2023-10-16T18:33:21.413Z"
   },
   {
    "duration": 23,
    "start_time": "2023-10-16T18:33:21.434Z"
   },
   {
    "duration": 134,
    "start_time": "2023-10-16T18:33:21.458Z"
   },
   {
    "duration": 138,
    "start_time": "2023-10-16T18:33:21.594Z"
   },
   {
    "duration": 115,
    "start_time": "2023-10-16T18:33:21.734Z"
   },
   {
    "duration": 118,
    "start_time": "2023-10-16T18:33:21.851Z"
   },
   {
    "duration": 131,
    "start_time": "2023-10-16T18:33:21.970Z"
   },
   {
    "duration": 6,
    "start_time": "2023-10-16T18:33:22.103Z"
   },
   {
    "duration": 23,
    "start_time": "2023-10-16T18:33:22.111Z"
   },
   {
    "duration": 28,
    "start_time": "2023-10-16T18:33:22.136Z"
   },
   {
    "duration": 35,
    "start_time": "2023-10-16T18:33:22.166Z"
   },
   {
    "duration": 24,
    "start_time": "2023-10-16T18:33:22.203Z"
   },
   {
    "duration": 24,
    "start_time": "2023-10-16T18:33:22.229Z"
   },
   {
    "duration": 7,
    "start_time": "2023-10-16T18:33:22.254Z"
   },
   {
    "duration": 18,
    "start_time": "2023-10-16T18:33:22.263Z"
   },
   {
    "duration": 12,
    "start_time": "2023-10-16T18:33:22.282Z"
   },
   {
    "duration": 32,
    "start_time": "2023-10-16T18:33:22.296Z"
   },
   {
    "duration": 57,
    "start_time": "2023-10-16T18:33:22.329Z"
   },
   {
    "duration": 178,
    "start_time": "2023-10-16T18:33:22.388Z"
   },
   {
    "duration": 276,
    "start_time": "2023-10-16T18:33:22.569Z"
   },
   {
    "duration": 163,
    "start_time": "2023-10-16T18:33:22.847Z"
   },
   {
    "duration": 15,
    "start_time": "2023-10-16T18:33:23.012Z"
   },
   {
    "duration": 13,
    "start_time": "2023-10-16T18:33:23.029Z"
   },
   {
    "duration": 24,
    "start_time": "2023-10-16T18:33:23.044Z"
   },
   {
    "duration": 202,
    "start_time": "2023-10-16T18:33:23.069Z"
   },
   {
    "duration": 7,
    "start_time": "2023-10-16T18:33:23.273Z"
   },
   {
    "duration": 275,
    "start_time": "2023-10-16T18:33:23.282Z"
   },
   {
    "duration": 42,
    "start_time": "2023-10-16T18:33:23.559Z"
   },
   {
    "duration": 39,
    "start_time": "2023-10-16T18:33:23.603Z"
   },
   {
    "duration": 223,
    "start_time": "2023-10-16T18:33:23.644Z"
   },
   {
    "duration": 6,
    "start_time": "2023-10-16T18:33:23.869Z"
   },
   {
    "duration": 16,
    "start_time": "2023-10-16T18:33:23.877Z"
   },
   {
    "duration": 4,
    "start_time": "2023-10-16T18:33:23.901Z"
   },
   {
    "duration": 39,
    "start_time": "2023-10-16T18:33:23.907Z"
   },
   {
    "duration": 19,
    "start_time": "2023-10-16T18:33:23.948Z"
   },
   {
    "duration": 1627,
    "start_time": "2023-10-16T18:33:23.969Z"
   },
   {
    "duration": 32,
    "start_time": "2023-10-16T18:33:29.203Z"
   },
   {
    "duration": 13,
    "start_time": "2023-10-16T18:34:11.199Z"
   },
   {
    "duration": 564,
    "start_time": "2023-10-16T18:35:29.361Z"
   },
   {
    "duration": 23,
    "start_time": "2023-10-16T18:36:13.239Z"
   },
   {
    "duration": 21,
    "start_time": "2023-10-16T18:38:17.250Z"
   },
   {
    "duration": 28,
    "start_time": "2023-10-16T18:40:22.385Z"
   },
   {
    "duration": 18,
    "start_time": "2023-10-16T18:50:09.667Z"
   },
   {
    "duration": 19,
    "start_time": "2023-10-16T18:50:33.290Z"
   },
   {
    "duration": 18,
    "start_time": "2023-10-16T18:51:13.424Z"
   },
   {
    "duration": 17,
    "start_time": "2023-10-16T18:53:37.775Z"
   },
   {
    "duration": 17,
    "start_time": "2023-10-16T18:54:06.710Z"
   },
   {
    "duration": 15,
    "start_time": "2023-10-16T18:54:13.515Z"
   },
   {
    "duration": 17,
    "start_time": "2023-10-16T18:54:35.035Z"
   },
   {
    "duration": 14,
    "start_time": "2023-10-16T18:55:30.476Z"
   },
   {
    "duration": 21,
    "start_time": "2023-10-16T18:55:44.926Z"
   },
   {
    "duration": 57,
    "start_time": "2023-10-16T18:57:13.880Z"
   },
   {
    "duration": 57,
    "start_time": "2023-10-16T18:57:32.630Z"
   },
   {
    "duration": 62,
    "start_time": "2023-10-16T19:00:29.792Z"
   },
   {
    "duration": 60,
    "start_time": "2023-10-16T19:02:01.114Z"
   },
   {
    "duration": 940,
    "start_time": "2023-10-17T10:22:32.477Z"
   },
   {
    "duration": 315,
    "start_time": "2023-10-17T10:22:33.420Z"
   },
   {
    "duration": 112,
    "start_time": "2023-10-17T10:22:33.736Z"
   },
   {
    "duration": 23,
    "start_time": "2023-10-17T10:22:33.853Z"
   },
   {
    "duration": 44,
    "start_time": "2023-10-17T10:22:33.878Z"
   },
   {
    "duration": 25,
    "start_time": "2023-10-17T10:22:33.925Z"
   },
   {
    "duration": 54,
    "start_time": "2023-10-17T10:22:33.952Z"
   },
   {
    "duration": 19,
    "start_time": "2023-10-17T10:22:34.008Z"
   },
   {
    "duration": 45,
    "start_time": "2023-10-17T10:22:34.029Z"
   },
   {
    "duration": 13,
    "start_time": "2023-10-17T10:22:34.077Z"
   },
   {
    "duration": 30,
    "start_time": "2023-10-17T10:22:34.093Z"
   },
   {
    "duration": 9,
    "start_time": "2023-10-17T10:22:34.125Z"
   },
   {
    "duration": 32,
    "start_time": "2023-10-17T10:22:34.136Z"
   },
   {
    "duration": 59,
    "start_time": "2023-10-17T10:22:34.171Z"
   },
   {
    "duration": 22,
    "start_time": "2023-10-17T10:22:34.233Z"
   },
   {
    "duration": 31,
    "start_time": "2023-10-17T10:22:34.257Z"
   },
   {
    "duration": 15,
    "start_time": "2023-10-17T10:22:34.291Z"
   },
   {
    "duration": 8,
    "start_time": "2023-10-17T10:22:34.309Z"
   },
   {
    "duration": 35,
    "start_time": "2023-10-17T10:22:34.318Z"
   },
   {
    "duration": 27,
    "start_time": "2023-10-17T10:22:34.358Z"
   },
   {
    "duration": 36,
    "start_time": "2023-10-17T10:22:34.387Z"
   },
   {
    "duration": 46,
    "start_time": "2023-10-17T10:22:34.425Z"
   },
   {
    "duration": 23,
    "start_time": "2023-10-17T10:22:34.474Z"
   },
   {
    "duration": 11,
    "start_time": "2023-10-17T10:22:34.499Z"
   },
   {
    "duration": 44,
    "start_time": "2023-10-17T10:22:34.512Z"
   },
   {
    "duration": 18,
    "start_time": "2023-10-17T10:22:34.559Z"
   },
   {
    "duration": 59,
    "start_time": "2023-10-17T10:22:34.580Z"
   },
   {
    "duration": 48,
    "start_time": "2023-10-17T10:22:34.641Z"
   },
   {
    "duration": 18,
    "start_time": "2023-10-17T10:22:34.691Z"
   },
   {
    "duration": 48,
    "start_time": "2023-10-17T10:22:34.710Z"
   },
   {
    "duration": 18,
    "start_time": "2023-10-17T10:22:34.763Z"
   },
   {
    "duration": 23,
    "start_time": "2023-10-17T10:22:34.783Z"
   },
   {
    "duration": 24,
    "start_time": "2023-10-17T10:22:34.808Z"
   },
   {
    "duration": 36,
    "start_time": "2023-10-17T10:22:34.835Z"
   },
   {
    "duration": 15,
    "start_time": "2023-10-17T10:22:34.873Z"
   },
   {
    "duration": 6,
    "start_time": "2023-10-17T10:22:34.890Z"
   },
   {
    "duration": 23,
    "start_time": "2023-10-17T10:22:34.898Z"
   },
   {
    "duration": 19,
    "start_time": "2023-10-17T10:22:34.922Z"
   },
   {
    "duration": 33,
    "start_time": "2023-10-17T10:22:34.942Z"
   },
   {
    "duration": 16,
    "start_time": "2023-10-17T10:22:34.977Z"
   },
   {
    "duration": 8,
    "start_time": "2023-10-17T10:22:34.998Z"
   },
   {
    "duration": 53,
    "start_time": "2023-10-17T10:22:35.007Z"
   },
   {
    "duration": 155,
    "start_time": "2023-10-17T10:22:35.064Z"
   },
   {
    "duration": 154,
    "start_time": "2023-10-17T10:22:35.221Z"
   },
   {
    "duration": 119,
    "start_time": "2023-10-17T10:22:35.377Z"
   },
   {
    "duration": 112,
    "start_time": "2023-10-17T10:22:35.497Z"
   },
   {
    "duration": 186,
    "start_time": "2023-10-17T10:22:35.611Z"
   },
   {
    "duration": 7,
    "start_time": "2023-10-17T10:22:35.799Z"
   },
   {
    "duration": 46,
    "start_time": "2023-10-17T10:22:35.807Z"
   },
   {
    "duration": 22,
    "start_time": "2023-10-17T10:22:35.856Z"
   },
   {
    "duration": 54,
    "start_time": "2023-10-17T10:22:35.880Z"
   },
   {
    "duration": 46,
    "start_time": "2023-10-17T10:22:35.936Z"
   },
   {
    "duration": 16,
    "start_time": "2023-10-17T10:22:35.985Z"
   },
   {
    "duration": 32,
    "start_time": "2023-10-17T10:22:36.003Z"
   },
   {
    "duration": 43,
    "start_time": "2023-10-17T10:22:36.037Z"
   },
   {
    "duration": 14,
    "start_time": "2023-10-17T10:22:36.082Z"
   },
   {
    "duration": 43,
    "start_time": "2023-10-17T10:22:36.098Z"
   },
   {
    "duration": 61,
    "start_time": "2023-10-17T10:22:36.143Z"
   },
   {
    "duration": 207,
    "start_time": "2023-10-17T10:22:36.207Z"
   },
   {
    "duration": 188,
    "start_time": "2023-10-17T10:22:36.415Z"
   },
   {
    "duration": 172,
    "start_time": "2023-10-17T10:22:36.605Z"
   },
   {
    "duration": 15,
    "start_time": "2023-10-17T10:22:36.779Z"
   },
   {
    "duration": 17,
    "start_time": "2023-10-17T10:22:36.795Z"
   },
   {
    "duration": 52,
    "start_time": "2023-10-17T10:22:36.813Z"
   },
   {
    "duration": 213,
    "start_time": "2023-10-17T10:22:36.867Z"
   },
   {
    "duration": 8,
    "start_time": "2023-10-17T10:22:37.082Z"
   },
   {
    "duration": 296,
    "start_time": "2023-10-17T10:22:37.092Z"
   },
   {
    "duration": 23,
    "start_time": "2023-10-17T10:22:37.390Z"
   },
   {
    "duration": 67,
    "start_time": "2023-10-17T10:22:37.415Z"
   },
   {
    "duration": 227,
    "start_time": "2023-10-17T10:22:37.484Z"
   },
   {
    "duration": 8,
    "start_time": "2023-10-17T10:22:37.713Z"
   },
   {
    "duration": 36,
    "start_time": "2023-10-17T10:22:37.722Z"
   },
   {
    "duration": 13,
    "start_time": "2023-10-17T10:22:37.760Z"
   },
   {
    "duration": 51,
    "start_time": "2023-10-17T10:22:37.775Z"
   },
   {
    "duration": 36,
    "start_time": "2023-10-17T10:22:37.828Z"
   },
   {
    "duration": 1683,
    "start_time": "2023-10-17T10:22:37.867Z"
   },
   {
    "duration": 868,
    "start_time": "2023-10-17T11:28:48.917Z"
   },
   {
    "duration": 221,
    "start_time": "2023-10-17T11:29:02.300Z"
   },
   {
    "duration": 210,
    "start_time": "2023-10-17T11:29:07.625Z"
   }
  ],
  "colab": {
   "name": "DA+. Сборный проект 1. Шаблон (1).ipynb",
   "provenance": []
  },
  "kernelspec": {
   "display_name": "Python 3 (ipykernel)",
   "language": "python",
   "name": "python3"
  },
  "language_info": {
   "codemirror_mode": {
    "name": "ipython",
    "version": 3
   },
   "file_extension": ".py",
   "mimetype": "text/x-python",
   "name": "python",
   "nbconvert_exporter": "python",
   "pygments_lexer": "ipython3",
   "version": "3.9.5"
  },
  "toc": {
   "base_numbering": 1,
   "nav_menu": {},
   "number_sections": true,
   "sideBar": true,
   "skip_h1_title": true,
   "title_cell": "Table of Contents",
   "title_sidebar": "Contents",
   "toc_cell": false,
   "toc_position": {
    "height": "calc(100% - 180px)",
    "left": "10px",
    "top": "150px",
    "width": "240.92px"
   },
   "toc_section_display": true,
   "toc_window_display": true
  }
 },
 "nbformat": 4,
 "nbformat_minor": 1
}
