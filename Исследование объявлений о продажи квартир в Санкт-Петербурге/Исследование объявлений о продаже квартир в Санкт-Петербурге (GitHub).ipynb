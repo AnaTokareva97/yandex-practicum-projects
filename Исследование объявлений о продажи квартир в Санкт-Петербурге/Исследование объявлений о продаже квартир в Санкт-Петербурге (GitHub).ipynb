{
 "cells": [
  {
   "cell_type": "markdown",
   "metadata": {},
   "source": [
    "# Исследование объявлений о продаже квартир в Санкт-Петербурге"
   ]
  },
  {
   "cell_type": "markdown",
   "metadata": {},
   "source": [
    "**Цель исследования** -  провести исследовательский анализ данных, который поможет установить параметры, влияющие на цену объектов. \n",
    "\n",
    "**Исходные данные** - данные сервиса Яндекс.Недвижимость — архив объявлений о продаже квартир в Санкт-Петербурге и соседних населённых пунктов за несколько лет. \n",
    "\n",
    "**Вопросы, интересующие заказчика:**\n",
    "1. Как быстро продавались квартиры?\n",
    "2. Какие факторы больше всего влияют на общую (полную) стоимость объекта?\n",
    "3. Какая средняя стоимость квартир в 10 населенных пунктах с наибольшим числом объявлений?\n",
    "4. Как стоимость объекта зависит от расстояния до центра города?\n",
    "5. Какие закономерности "
   ]
  },
  {
   "cell_type": "markdown",
   "metadata": {},
   "source": [
    "### Откройте файл с данными и изучите общую информацию. "
   ]
  },
  {
   "cell_type": "markdown",
   "metadata": {},
   "source": [
    "Импортируем библиотеку *pandas*, откроем данный нам файл с таблицей и посмотрим типы данных и кол-во ненулевых значений."
   ]
  },
  {
   "cell_type": "code",
   "execution_count": 1,
   "metadata": {},
   "outputs": [],
   "source": [
    "import pandas as pd\n",
    "import matplotlib.pyplot as plt\n",
    "import numpy as np"
   ]
  },
  {
   "cell_type": "code",
   "execution_count": 2,
   "metadata": {},
   "outputs": [
    {
     "data": {
      "text/html": [
       "<div>\n",
       "<style scoped>\n",
       "    .dataframe tbody tr th:only-of-type {\n",
       "        vertical-align: middle;\n",
       "    }\n",
       "\n",
       "    .dataframe tbody tr th {\n",
       "        vertical-align: top;\n",
       "    }\n",
       "\n",
       "    .dataframe thead th {\n",
       "        text-align: right;\n",
       "    }\n",
       "</style>\n",
       "<table border=\"1\" class=\"dataframe\">\n",
       "  <thead>\n",
       "    <tr style=\"text-align: right;\">\n",
       "      <th></th>\n",
       "      <th>total_images</th>\n",
       "      <th>last_price</th>\n",
       "      <th>total_area</th>\n",
       "      <th>first_day_exposition</th>\n",
       "      <th>rooms</th>\n",
       "      <th>ceiling_height</th>\n",
       "      <th>floors_total</th>\n",
       "      <th>living_area</th>\n",
       "      <th>floor</th>\n",
       "      <th>is_apartment</th>\n",
       "      <th>studio</th>\n",
       "      <th>open_plan</th>\n",
       "      <th>kitchen_area</th>\n",
       "      <th>balcony</th>\n",
       "      <th>locality_name</th>\n",
       "      <th>airports_nearest</th>\n",
       "      <th>cityCenters_nearest</th>\n",
       "      <th>parks_around3000</th>\n",
       "      <th>parks_nearest</th>\n",
       "      <th>ponds_around3000</th>\n",
       "      <th>ponds_nearest</th>\n",
       "      <th>days_exposition</th>\n",
       "    </tr>\n",
       "  </thead>\n",
       "  <tbody>\n",
       "    <tr>\n",
       "      <th>0</th>\n",
       "      <td>20</td>\n",
       "      <td>13000000.0</td>\n",
       "      <td>108.00</td>\n",
       "      <td>2019-03-07T00:00:00</td>\n",
       "      <td>3</td>\n",
       "      <td>2.70</td>\n",
       "      <td>16.0</td>\n",
       "      <td>51.00</td>\n",
       "      <td>8</td>\n",
       "      <td>NaN</td>\n",
       "      <td>False</td>\n",
       "      <td>False</td>\n",
       "      <td>25.00</td>\n",
       "      <td>NaN</td>\n",
       "      <td>Санкт-Петербург</td>\n",
       "      <td>18863.0</td>\n",
       "      <td>16028.0</td>\n",
       "      <td>1.0</td>\n",
       "      <td>482.0</td>\n",
       "      <td>2.0</td>\n",
       "      <td>755.0</td>\n",
       "      <td>NaN</td>\n",
       "    </tr>\n",
       "    <tr>\n",
       "      <th>1</th>\n",
       "      <td>7</td>\n",
       "      <td>3350000.0</td>\n",
       "      <td>40.40</td>\n",
       "      <td>2018-12-04T00:00:00</td>\n",
       "      <td>1</td>\n",
       "      <td>NaN</td>\n",
       "      <td>11.0</td>\n",
       "      <td>18.60</td>\n",
       "      <td>1</td>\n",
       "      <td>NaN</td>\n",
       "      <td>False</td>\n",
       "      <td>False</td>\n",
       "      <td>11.00</td>\n",
       "      <td>2.0</td>\n",
       "      <td>посёлок Шушары</td>\n",
       "      <td>12817.0</td>\n",
       "      <td>18603.0</td>\n",
       "      <td>0.0</td>\n",
       "      <td>NaN</td>\n",
       "      <td>0.0</td>\n",
       "      <td>NaN</td>\n",
       "      <td>81.0</td>\n",
       "    </tr>\n",
       "    <tr>\n",
       "      <th>2</th>\n",
       "      <td>10</td>\n",
       "      <td>5196000.0</td>\n",
       "      <td>56.00</td>\n",
       "      <td>2015-08-20T00:00:00</td>\n",
       "      <td>2</td>\n",
       "      <td>NaN</td>\n",
       "      <td>5.0</td>\n",
       "      <td>34.30</td>\n",
       "      <td>4</td>\n",
       "      <td>NaN</td>\n",
       "      <td>False</td>\n",
       "      <td>False</td>\n",
       "      <td>8.30</td>\n",
       "      <td>0.0</td>\n",
       "      <td>Санкт-Петербург</td>\n",
       "      <td>21741.0</td>\n",
       "      <td>13933.0</td>\n",
       "      <td>1.0</td>\n",
       "      <td>90.0</td>\n",
       "      <td>2.0</td>\n",
       "      <td>574.0</td>\n",
       "      <td>558.0</td>\n",
       "    </tr>\n",
       "    <tr>\n",
       "      <th>3</th>\n",
       "      <td>0</td>\n",
       "      <td>64900000.0</td>\n",
       "      <td>159.00</td>\n",
       "      <td>2015-07-24T00:00:00</td>\n",
       "      <td>3</td>\n",
       "      <td>NaN</td>\n",
       "      <td>14.0</td>\n",
       "      <td>NaN</td>\n",
       "      <td>9</td>\n",
       "      <td>NaN</td>\n",
       "      <td>False</td>\n",
       "      <td>False</td>\n",
       "      <td>NaN</td>\n",
       "      <td>0.0</td>\n",
       "      <td>Санкт-Петербург</td>\n",
       "      <td>28098.0</td>\n",
       "      <td>6800.0</td>\n",
       "      <td>2.0</td>\n",
       "      <td>84.0</td>\n",
       "      <td>3.0</td>\n",
       "      <td>234.0</td>\n",
       "      <td>424.0</td>\n",
       "    </tr>\n",
       "    <tr>\n",
       "      <th>4</th>\n",
       "      <td>2</td>\n",
       "      <td>10000000.0</td>\n",
       "      <td>100.00</td>\n",
       "      <td>2018-06-19T00:00:00</td>\n",
       "      <td>2</td>\n",
       "      <td>3.03</td>\n",
       "      <td>14.0</td>\n",
       "      <td>32.00</td>\n",
       "      <td>13</td>\n",
       "      <td>NaN</td>\n",
       "      <td>False</td>\n",
       "      <td>False</td>\n",
       "      <td>41.00</td>\n",
       "      <td>NaN</td>\n",
       "      <td>Санкт-Петербург</td>\n",
       "      <td>31856.0</td>\n",
       "      <td>8098.0</td>\n",
       "      <td>2.0</td>\n",
       "      <td>112.0</td>\n",
       "      <td>1.0</td>\n",
       "      <td>48.0</td>\n",
       "      <td>121.0</td>\n",
       "    </tr>\n",
       "    <tr>\n",
       "      <th>5</th>\n",
       "      <td>10</td>\n",
       "      <td>2890000.0</td>\n",
       "      <td>30.40</td>\n",
       "      <td>2018-09-10T00:00:00</td>\n",
       "      <td>1</td>\n",
       "      <td>NaN</td>\n",
       "      <td>12.0</td>\n",
       "      <td>14.40</td>\n",
       "      <td>5</td>\n",
       "      <td>NaN</td>\n",
       "      <td>False</td>\n",
       "      <td>False</td>\n",
       "      <td>9.10</td>\n",
       "      <td>NaN</td>\n",
       "      <td>городской посёлок Янино-1</td>\n",
       "      <td>NaN</td>\n",
       "      <td>NaN</td>\n",
       "      <td>NaN</td>\n",
       "      <td>NaN</td>\n",
       "      <td>NaN</td>\n",
       "      <td>NaN</td>\n",
       "      <td>55.0</td>\n",
       "    </tr>\n",
       "    <tr>\n",
       "      <th>6</th>\n",
       "      <td>6</td>\n",
       "      <td>3700000.0</td>\n",
       "      <td>37.30</td>\n",
       "      <td>2017-11-02T00:00:00</td>\n",
       "      <td>1</td>\n",
       "      <td>NaN</td>\n",
       "      <td>26.0</td>\n",
       "      <td>10.60</td>\n",
       "      <td>6</td>\n",
       "      <td>NaN</td>\n",
       "      <td>False</td>\n",
       "      <td>False</td>\n",
       "      <td>14.40</td>\n",
       "      <td>1.0</td>\n",
       "      <td>посёлок Парголово</td>\n",
       "      <td>52996.0</td>\n",
       "      <td>19143.0</td>\n",
       "      <td>0.0</td>\n",
       "      <td>NaN</td>\n",
       "      <td>0.0</td>\n",
       "      <td>NaN</td>\n",
       "      <td>155.0</td>\n",
       "    </tr>\n",
       "    <tr>\n",
       "      <th>7</th>\n",
       "      <td>5</td>\n",
       "      <td>7915000.0</td>\n",
       "      <td>71.60</td>\n",
       "      <td>2019-04-18T00:00:00</td>\n",
       "      <td>2</td>\n",
       "      <td>NaN</td>\n",
       "      <td>24.0</td>\n",
       "      <td>NaN</td>\n",
       "      <td>22</td>\n",
       "      <td>NaN</td>\n",
       "      <td>False</td>\n",
       "      <td>False</td>\n",
       "      <td>18.90</td>\n",
       "      <td>2.0</td>\n",
       "      <td>Санкт-Петербург</td>\n",
       "      <td>23982.0</td>\n",
       "      <td>11634.0</td>\n",
       "      <td>0.0</td>\n",
       "      <td>NaN</td>\n",
       "      <td>0.0</td>\n",
       "      <td>NaN</td>\n",
       "      <td>NaN</td>\n",
       "    </tr>\n",
       "    <tr>\n",
       "      <th>8</th>\n",
       "      <td>20</td>\n",
       "      <td>2900000.0</td>\n",
       "      <td>33.16</td>\n",
       "      <td>2018-05-23T00:00:00</td>\n",
       "      <td>1</td>\n",
       "      <td>NaN</td>\n",
       "      <td>27.0</td>\n",
       "      <td>15.43</td>\n",
       "      <td>26</td>\n",
       "      <td>NaN</td>\n",
       "      <td>False</td>\n",
       "      <td>False</td>\n",
       "      <td>8.81</td>\n",
       "      <td>NaN</td>\n",
       "      <td>посёлок Мурино</td>\n",
       "      <td>NaN</td>\n",
       "      <td>NaN</td>\n",
       "      <td>NaN</td>\n",
       "      <td>NaN</td>\n",
       "      <td>NaN</td>\n",
       "      <td>NaN</td>\n",
       "      <td>189.0</td>\n",
       "    </tr>\n",
       "    <tr>\n",
       "      <th>9</th>\n",
       "      <td>18</td>\n",
       "      <td>5400000.0</td>\n",
       "      <td>61.00</td>\n",
       "      <td>2017-02-26T00:00:00</td>\n",
       "      <td>3</td>\n",
       "      <td>2.50</td>\n",
       "      <td>9.0</td>\n",
       "      <td>43.60</td>\n",
       "      <td>7</td>\n",
       "      <td>NaN</td>\n",
       "      <td>False</td>\n",
       "      <td>False</td>\n",
       "      <td>6.50</td>\n",
       "      <td>2.0</td>\n",
       "      <td>Санкт-Петербург</td>\n",
       "      <td>50898.0</td>\n",
       "      <td>15008.0</td>\n",
       "      <td>0.0</td>\n",
       "      <td>NaN</td>\n",
       "      <td>0.0</td>\n",
       "      <td>NaN</td>\n",
       "      <td>289.0</td>\n",
       "    </tr>\n",
       "  </tbody>\n",
       "</table>\n",
       "</div>"
      ],
      "text/plain": [
       "   total_images  last_price  total_area first_day_exposition  rooms  \\\n",
       "0            20  13000000.0      108.00  2019-03-07T00:00:00      3   \n",
       "1             7   3350000.0       40.40  2018-12-04T00:00:00      1   \n",
       "2            10   5196000.0       56.00  2015-08-20T00:00:00      2   \n",
       "3             0  64900000.0      159.00  2015-07-24T00:00:00      3   \n",
       "4             2  10000000.0      100.00  2018-06-19T00:00:00      2   \n",
       "5            10   2890000.0       30.40  2018-09-10T00:00:00      1   \n",
       "6             6   3700000.0       37.30  2017-11-02T00:00:00      1   \n",
       "7             5   7915000.0       71.60  2019-04-18T00:00:00      2   \n",
       "8            20   2900000.0       33.16  2018-05-23T00:00:00      1   \n",
       "9            18   5400000.0       61.00  2017-02-26T00:00:00      3   \n",
       "\n",
       "   ceiling_height  floors_total  living_area  floor is_apartment  studio  \\\n",
       "0            2.70          16.0        51.00      8          NaN   False   \n",
       "1             NaN          11.0        18.60      1          NaN   False   \n",
       "2             NaN           5.0        34.30      4          NaN   False   \n",
       "3             NaN          14.0          NaN      9          NaN   False   \n",
       "4            3.03          14.0        32.00     13          NaN   False   \n",
       "5             NaN          12.0        14.40      5          NaN   False   \n",
       "6             NaN          26.0        10.60      6          NaN   False   \n",
       "7             NaN          24.0          NaN     22          NaN   False   \n",
       "8             NaN          27.0        15.43     26          NaN   False   \n",
       "9            2.50           9.0        43.60      7          NaN   False   \n",
       "\n",
       "   open_plan  kitchen_area  balcony              locality_name  \\\n",
       "0      False         25.00      NaN            Санкт-Петербург   \n",
       "1      False         11.00      2.0             посёлок Шушары   \n",
       "2      False          8.30      0.0            Санкт-Петербург   \n",
       "3      False           NaN      0.0            Санкт-Петербург   \n",
       "4      False         41.00      NaN            Санкт-Петербург   \n",
       "5      False          9.10      NaN  городской посёлок Янино-1   \n",
       "6      False         14.40      1.0          посёлок Парголово   \n",
       "7      False         18.90      2.0            Санкт-Петербург   \n",
       "8      False          8.81      NaN             посёлок Мурино   \n",
       "9      False          6.50      2.0            Санкт-Петербург   \n",
       "\n",
       "   airports_nearest  cityCenters_nearest  parks_around3000  parks_nearest  \\\n",
       "0           18863.0              16028.0               1.0          482.0   \n",
       "1           12817.0              18603.0               0.0            NaN   \n",
       "2           21741.0              13933.0               1.0           90.0   \n",
       "3           28098.0               6800.0               2.0           84.0   \n",
       "4           31856.0               8098.0               2.0          112.0   \n",
       "5               NaN                  NaN               NaN            NaN   \n",
       "6           52996.0              19143.0               0.0            NaN   \n",
       "7           23982.0              11634.0               0.0            NaN   \n",
       "8               NaN                  NaN               NaN            NaN   \n",
       "9           50898.0              15008.0               0.0            NaN   \n",
       "\n",
       "   ponds_around3000  ponds_nearest  days_exposition  \n",
       "0               2.0          755.0              NaN  \n",
       "1               0.0            NaN             81.0  \n",
       "2               2.0          574.0            558.0  \n",
       "3               3.0          234.0            424.0  \n",
       "4               1.0           48.0            121.0  \n",
       "5               NaN            NaN             55.0  \n",
       "6               0.0            NaN            155.0  \n",
       "7               0.0            NaN              NaN  \n",
       "8               NaN            NaN            189.0  \n",
       "9               0.0            NaN            289.0  "
      ]
     },
     "metadata": {},
     "output_type": "display_data"
    },
    {
     "name": "stdout",
     "output_type": "stream",
     "text": [
      "<class 'pandas.core.frame.DataFrame'>\n",
      "RangeIndex: 23699 entries, 0 to 23698\n",
      "Data columns (total 22 columns):\n",
      " #   Column                Non-Null Count  Dtype  \n",
      "---  ------                --------------  -----  \n",
      " 0   total_images          23699 non-null  int64  \n",
      " 1   last_price            23699 non-null  float64\n",
      " 2   total_area            23699 non-null  float64\n",
      " 3   first_day_exposition  23699 non-null  object \n",
      " 4   rooms                 23699 non-null  int64  \n",
      " 5   ceiling_height        14504 non-null  float64\n",
      " 6   floors_total          23613 non-null  float64\n",
      " 7   living_area           21796 non-null  float64\n",
      " 8   floor                 23699 non-null  int64  \n",
      " 9   is_apartment          2775 non-null   object \n",
      " 10  studio                23699 non-null  bool   \n",
      " 11  open_plan             23699 non-null  bool   \n",
      " 12  kitchen_area          21421 non-null  float64\n",
      " 13  balcony               12180 non-null  float64\n",
      " 14  locality_name         23650 non-null  object \n",
      " 15  airports_nearest      18157 non-null  float64\n",
      " 16  cityCenters_nearest   18180 non-null  float64\n",
      " 17  parks_around3000      18181 non-null  float64\n",
      " 18  parks_nearest         8079 non-null   float64\n",
      " 19  ponds_around3000      18181 non-null  float64\n",
      " 20  ponds_nearest         9110 non-null   float64\n",
      " 21  days_exposition       20518 non-null  float64\n",
      "dtypes: bool(2), float64(14), int64(3), object(3)\n",
      "memory usage: 3.7+ MB\n",
      "\n",
      "Число дубликатов: 0\n"
     ]
    },
    {
     "data": {
      "image/png": "[encoded data removed]",
      "text/plain": [
       "<Figure size 1080x1440 with 20 Axes>"
      ]
     },
     "metadata": {
      "needs_background": "light"
     },
     "output_type": "display_data"
    }
   ],
   "source": [
    "data = pd.read_csv('/datasets/real_estate_data.csv', sep='\\t')\n",
    "#выведем первые 5 строк датафрейма\n",
    "pd.set_option('display.max_columns', None)\n",
    "display(data.head(10))\n",
    "#смотрим типы данных и кол-во ненулевых значений\n",
    "data.info()\n",
    "#найдем количество дубликатов\n",
    "print('\\nЧисло дубликатов:', data.duplicated().sum())\n",
    "#построим гистограмму для всех числовых столбцов датафрейма\n",
    "data.hist(grid=True, figsize=(15, 20), bins=20)\n",
    "plt.show()"
   ]
  },
  {
   "cell_type": "markdown",
   "metadata": {},
   "source": [
    "**Изучив полученную информацию, выявили следующее:**\n",
    "\n",
    "- всего в датафрейме 23699 строк и 22 столбца;\n",
    "- дубликатов нет;\n",
    "- в столбцах *ceiling_height, floors_total, living_area, is_apartment, kitchen_area, balcony, locality_name, airports_nearest, cityCenters_nearest, parks_around3000, parks_nearest, ponds_around3000, days_exposition* присутствуют пропуски;\n",
    "- в столбцах *floors_total, balcony, parks_around3000, ponds_around3000, days_exposition* неверно определены типы данных (вместо типа float должен быть тип int, т.к. количество этажей, балконов, парков, водоемов и дней можно выразить только целым числом);\n",
    "- в столбце *first_day_exposition* тип данных должен быть определен как datetime, а не object;\n",
    "- в столбце *is_apartment* тип данных должен быть определен как bool, а не object."
   ]
  },
  {
   "cell_type": "markdown",
   "metadata": {},
   "source": [
    "### Предобработка данных"
   ]
  },
  {
   "cell_type": "markdown",
   "metadata": {},
   "source": [
    "Выведем количество пропущенных значений для каждого столбца, используя комбинацию двух методов."
   ]
  },
  {
   "cell_type": "code",
   "execution_count": 3,
   "metadata": {},
   "outputs": [
    {
     "data": {
      "text/plain": [
       "total_images                0\n",
       "last_price                  0\n",
       "total_area                  0\n",
       "first_day_exposition        0\n",
       "rooms                       0\n",
       "ceiling_height           9195\n",
       "floors_total               86\n",
       "living_area              1903\n",
       "floor                       0\n",
       "is_apartment            20924\n",
       "studio                      0\n",
       "open_plan                   0\n",
       "kitchen_area             2278\n",
       "balcony                 11519\n",
       "locality_name              49\n",
       "airports_nearest         5542\n",
       "cityCenters_nearest      5519\n",
       "parks_around3000         5518\n",
       "parks_nearest           15620\n",
       "ponds_around3000         5518\n",
       "ponds_nearest           14589\n",
       "days_exposition          3181\n",
       "dtype: int64"
      ]
     },
     "execution_count": 3,
     "metadata": {},
     "output_type": "execute_result"
    }
   ],
   "source": [
    "#определим более наглядно в каких столбцах есть пропуски\n",
    "data.isna().sum()"
   ]
  },
  {
   "cell_type": "markdown",
   "metadata": {},
   "source": [
    "**Заменим пропуски и типы данных в некоторых столбцах.**"
   ]
  },
  {
   "cell_type": "code",
   "execution_count": 4,
   "metadata": {},
   "outputs": [],
   "source": [
    "#переведем столбец с датой в формат даты без времени, т.к. время не указано\n",
    "data['first_day_exposition'] = pd.to_datetime(data['first_day_exposition'], format = '%Y-%m-%d')"
   ]
  },
  {
   "cell_type": "code",
   "execution_count": 5,
   "metadata": {},
   "outputs": [
    {
     "name": "stdout",
     "output_type": "stream",
     "text": [
      "False    2725\n",
      "True       50\n",
      "Name: is_apartment, dtype: int64\n"
     ]
    }
   ],
   "source": [
    "# Выясняем количество значений в столбце is_apartment. Всего аппартаменты - 50.\n",
    "print(data['is_apartment'].value_counts())\n",
    "#Заменяем пропущенные значения на False\n",
    "data['is_apartment'] = data['is_apartment'].fillna(False).astype(bool)"
   ]
  },
  {
   "cell_type": "code",
   "execution_count": 6,
   "metadata": {},
   "outputs": [
    {
     "name": "stdout",
     "output_type": "stream",
     "text": [
      "45.0      880\n",
      "60.0      538\n",
      "7.0       234\n",
      "30.0      208\n",
      "90.0      204\n",
      "         ... \n",
      "969.0       1\n",
      "1.0         1\n",
      "1147.0      1\n",
      "1148.0      1\n",
      "1174.0      1\n",
      "Name: days_exposition, Length: 1141, dtype: int64\n"
     ]
    }
   ],
   "source": [
    "#заменим тип данных в days_exposition\n",
    "print(data['days_exposition'].value_counts())\n",
    "data['days_exposition'] = np.floor(pd.to_numeric(data['days_exposition'], errors='coerce')).astype('Int64')"
   ]
  },
  {
   "cell_type": "code",
   "execution_count": 7,
   "metadata": {},
   "outputs": [
    {
     "name": "stdout",
     "output_type": "stream",
     "text": [
      "1.0    4195\n",
      "0.0    3758\n",
      "2.0    3659\n",
      "5.0     304\n",
      "4.0     183\n",
      "3.0      81\n",
      "Name: balcony, dtype: int64\n"
     ]
    }
   ],
   "source": [
    "#смотрим есть ли аномальные значения в столбце balcony\n",
    "print(data['balcony'].value_counts())\n",
    "#заменим пропуски в balcony на 0 и заменим тип данных\n",
    "data['balcony'] = data['balcony'].fillna(0).astype(int)"
   ]
  },
  {
   "cell_type": "code",
   "execution_count": 8,
   "metadata": {},
   "outputs": [
    {
     "name": "stdout",
     "output_type": "stream",
     "text": [
      "0.0    10106\n",
      "1.0     5681\n",
      "2.0     1747\n",
      "3.0      647\n",
      "Name: parks_around3000, dtype: int64\n"
     ]
    }
   ],
   "source": [
    "#заменим пропуски в parks_around3000 на 0 (т.к. скорее всего рядом не имеется парков) и заменим тип данных\n",
    "print(data['parks_around3000'].value_counts())\n",
    "data['parks_around3000'] = data['parks_around3000'].fillna(0).astype(int)"
   ]
  },
  {
   "cell_type": "code",
   "execution_count": 9,
   "metadata": {},
   "outputs": [
    {
     "name": "stdout",
     "output_type": "stream",
     "text": [
      "0.0    9071\n",
      "1.0    5717\n",
      "2.0    1892\n",
      "3.0    1501\n",
      "Name: ponds_around3000, dtype: int64\n"
     ]
    }
   ],
   "source": [
    "#заменим пропуски в ponds_around3000 на 0 (т.к. скорее всего рядом не имеется водоемов) и заменим тип данных\n",
    "print(data['ponds_around3000'].value_counts())\n",
    "data['ponds_around3000'] = data['ponds_around3000'].fillna(0).astype(int)"
   ]
  },
  {
   "cell_type": "code",
   "execution_count": 10,
   "metadata": {},
   "outputs": [],
   "source": [
    "#изменим last_price на тип int для удобства просмотра\n",
    "data['last_price'] = data['last_price'].astype(int)"
   ]
  },
  {
   "cell_type": "code",
   "execution_count": 11,
   "metadata": {},
   "outputs": [
    {
     "data": {
      "text/html": [
       "<div>\n",
       "<style scoped>\n",
       "    .dataframe tbody tr th:only-of-type {\n",
       "        vertical-align: middle;\n",
       "    }\n",
       "\n",
       "    .dataframe tbody tr th {\n",
       "        vertical-align: top;\n",
       "    }\n",
       "\n",
       "    .dataframe thead th {\n",
       "        text-align: right;\n",
       "    }\n",
       "</style>\n",
       "<table border=\"1\" class=\"dataframe\">\n",
       "  <thead>\n",
       "    <tr style=\"text-align: right;\">\n",
       "      <th></th>\n",
       "      <th>total_images</th>\n",
       "      <th>last_price</th>\n",
       "      <th>total_area</th>\n",
       "      <th>first_day_exposition</th>\n",
       "      <th>rooms</th>\n",
       "      <th>ceiling_height</th>\n",
       "      <th>floors_total</th>\n",
       "      <th>living_area</th>\n",
       "      <th>floor</th>\n",
       "      <th>is_apartment</th>\n",
       "      <th>studio</th>\n",
       "      <th>open_plan</th>\n",
       "      <th>kitchen_area</th>\n",
       "      <th>balcony</th>\n",
       "      <th>locality_name</th>\n",
       "      <th>airports_nearest</th>\n",
       "      <th>cityCenters_nearest</th>\n",
       "      <th>parks_around3000</th>\n",
       "      <th>parks_nearest</th>\n",
       "      <th>ponds_around3000</th>\n",
       "      <th>ponds_nearest</th>\n",
       "      <th>days_exposition</th>\n",
       "    </tr>\n",
       "  </thead>\n",
       "  <tbody>\n",
       "    <tr>\n",
       "      <th>186</th>\n",
       "      <td>12</td>\n",
       "      <td>11640000</td>\n",
       "      <td>65.2</td>\n",
       "      <td>2018-10-02</td>\n",
       "      <td>2</td>\n",
       "      <td>NaN</td>\n",
       "      <td>NaN</td>\n",
       "      <td>30.80</td>\n",
       "      <td>4</td>\n",
       "      <td>False</td>\n",
       "      <td>False</td>\n",
       "      <td>False</td>\n",
       "      <td>12.00</td>\n",
       "      <td>0</td>\n",
       "      <td>Санкт-Петербург</td>\n",
       "      <td>39197.0</td>\n",
       "      <td>12373.0</td>\n",
       "      <td>1</td>\n",
       "      <td>123.0</td>\n",
       "      <td>0</td>\n",
       "      <td>NaN</td>\n",
       "      <td>49</td>\n",
       "    </tr>\n",
       "    <tr>\n",
       "      <th>237</th>\n",
       "      <td>4</td>\n",
       "      <td>2438033</td>\n",
       "      <td>28.1</td>\n",
       "      <td>2016-11-23</td>\n",
       "      <td>1</td>\n",
       "      <td>NaN</td>\n",
       "      <td>NaN</td>\n",
       "      <td>20.75</td>\n",
       "      <td>1</td>\n",
       "      <td>False</td>\n",
       "      <td>False</td>\n",
       "      <td>False</td>\n",
       "      <td>NaN</td>\n",
       "      <td>0</td>\n",
       "      <td>Санкт-Петербург</td>\n",
       "      <td>22041.0</td>\n",
       "      <td>17369.0</td>\n",
       "      <td>0</td>\n",
       "      <td>NaN</td>\n",
       "      <td>1</td>\n",
       "      <td>374.0</td>\n",
       "      <td>251</td>\n",
       "    </tr>\n",
       "    <tr>\n",
       "      <th>457</th>\n",
       "      <td>4</td>\n",
       "      <td>9788348</td>\n",
       "      <td>70.8</td>\n",
       "      <td>2015-08-01</td>\n",
       "      <td>2</td>\n",
       "      <td>NaN</td>\n",
       "      <td>NaN</td>\n",
       "      <td>38.40</td>\n",
       "      <td>12</td>\n",
       "      <td>False</td>\n",
       "      <td>False</td>\n",
       "      <td>False</td>\n",
       "      <td>10.63</td>\n",
       "      <td>0</td>\n",
       "      <td>Санкт-Петербург</td>\n",
       "      <td>37364.0</td>\n",
       "      <td>8322.0</td>\n",
       "      <td>2</td>\n",
       "      <td>309.0</td>\n",
       "      <td>2</td>\n",
       "      <td>706.0</td>\n",
       "      <td>727</td>\n",
       "    </tr>\n",
       "    <tr>\n",
       "      <th>671</th>\n",
       "      <td>4</td>\n",
       "      <td>6051191</td>\n",
       "      <td>93.6</td>\n",
       "      <td>2017-04-06</td>\n",
       "      <td>3</td>\n",
       "      <td>NaN</td>\n",
       "      <td>NaN</td>\n",
       "      <td>47.10</td>\n",
       "      <td>8</td>\n",
       "      <td>False</td>\n",
       "      <td>False</td>\n",
       "      <td>False</td>\n",
       "      <td>16.80</td>\n",
       "      <td>0</td>\n",
       "      <td>Санкт-Петербург</td>\n",
       "      <td>22041.0</td>\n",
       "      <td>17369.0</td>\n",
       "      <td>0</td>\n",
       "      <td>NaN</td>\n",
       "      <td>1</td>\n",
       "      <td>374.0</td>\n",
       "      <td>123</td>\n",
       "    </tr>\n",
       "    <tr>\n",
       "      <th>1757</th>\n",
       "      <td>5</td>\n",
       "      <td>3600000</td>\n",
       "      <td>39.0</td>\n",
       "      <td>2017-04-22</td>\n",
       "      <td>1</td>\n",
       "      <td>NaN</td>\n",
       "      <td>NaN</td>\n",
       "      <td>NaN</td>\n",
       "      <td>9</td>\n",
       "      <td>False</td>\n",
       "      <td>False</td>\n",
       "      <td>False</td>\n",
       "      <td>NaN</td>\n",
       "      <td>0</td>\n",
       "      <td>Санкт-Петербург</td>\n",
       "      <td>22735.0</td>\n",
       "      <td>11618.0</td>\n",
       "      <td>1</td>\n",
       "      <td>835.0</td>\n",
       "      <td>1</td>\n",
       "      <td>652.0</td>\n",
       "      <td>77</td>\n",
       "    </tr>\n",
       "    <tr>\n",
       "      <th>...</th>\n",
       "      <td>...</td>\n",
       "      <td>...</td>\n",
       "      <td>...</td>\n",
       "      <td>...</td>\n",
       "      <td>...</td>\n",
       "      <td>...</td>\n",
       "      <td>...</td>\n",
       "      <td>...</td>\n",
       "      <td>...</td>\n",
       "      <td>...</td>\n",
       "      <td>...</td>\n",
       "      <td>...</td>\n",
       "      <td>...</td>\n",
       "      <td>...</td>\n",
       "      <td>...</td>\n",
       "      <td>...</td>\n",
       "      <td>...</td>\n",
       "      <td>...</td>\n",
       "      <td>...</td>\n",
       "      <td>...</td>\n",
       "      <td>...</td>\n",
       "      <td>...</td>\n",
       "    </tr>\n",
       "    <tr>\n",
       "      <th>22542</th>\n",
       "      <td>5</td>\n",
       "      <td>8500000</td>\n",
       "      <td>63.5</td>\n",
       "      <td>2017-05-24</td>\n",
       "      <td>2</td>\n",
       "      <td>2.8</td>\n",
       "      <td>NaN</td>\n",
       "      <td>NaN</td>\n",
       "      <td>3</td>\n",
       "      <td>False</td>\n",
       "      <td>False</td>\n",
       "      <td>False</td>\n",
       "      <td>NaN</td>\n",
       "      <td>0</td>\n",
       "      <td>Санкт-Петербург</td>\n",
       "      <td>51340.0</td>\n",
       "      <td>15363.0</td>\n",
       "      <td>0</td>\n",
       "      <td>NaN</td>\n",
       "      <td>1</td>\n",
       "      <td>853.0</td>\n",
       "      <td>512</td>\n",
       "    </tr>\n",
       "    <tr>\n",
       "      <th>22656</th>\n",
       "      <td>4</td>\n",
       "      <td>4574160</td>\n",
       "      <td>64.5</td>\n",
       "      <td>2017-04-02</td>\n",
       "      <td>2</td>\n",
       "      <td>NaN</td>\n",
       "      <td>NaN</td>\n",
       "      <td>31.70</td>\n",
       "      <td>20</td>\n",
       "      <td>False</td>\n",
       "      <td>False</td>\n",
       "      <td>False</td>\n",
       "      <td>14.40</td>\n",
       "      <td>0</td>\n",
       "      <td>Санкт-Петербург</td>\n",
       "      <td>22041.0</td>\n",
       "      <td>17369.0</td>\n",
       "      <td>0</td>\n",
       "      <td>NaN</td>\n",
       "      <td>1</td>\n",
       "      <td>374.0</td>\n",
       "      <td>127</td>\n",
       "    </tr>\n",
       "    <tr>\n",
       "      <th>22808</th>\n",
       "      <td>0</td>\n",
       "      <td>14569263</td>\n",
       "      <td>110.4</td>\n",
       "      <td>2016-11-20</td>\n",
       "      <td>3</td>\n",
       "      <td>NaN</td>\n",
       "      <td>NaN</td>\n",
       "      <td>45.38</td>\n",
       "      <td>6</td>\n",
       "      <td>False</td>\n",
       "      <td>False</td>\n",
       "      <td>False</td>\n",
       "      <td>23.42</td>\n",
       "      <td>0</td>\n",
       "      <td>Санкт-Петербург</td>\n",
       "      <td>19095.0</td>\n",
       "      <td>4529.0</td>\n",
       "      <td>0</td>\n",
       "      <td>NaN</td>\n",
       "      <td>0</td>\n",
       "      <td>NaN</td>\n",
       "      <td>260</td>\n",
       "    </tr>\n",
       "    <tr>\n",
       "      <th>23590</th>\n",
       "      <td>0</td>\n",
       "      <td>21187872</td>\n",
       "      <td>123.3</td>\n",
       "      <td>2017-04-25</td>\n",
       "      <td>3</td>\n",
       "      <td>NaN</td>\n",
       "      <td>NaN</td>\n",
       "      <td>50.40</td>\n",
       "      <td>18</td>\n",
       "      <td>False</td>\n",
       "      <td>False</td>\n",
       "      <td>False</td>\n",
       "      <td>23.60</td>\n",
       "      <td>0</td>\n",
       "      <td>Санкт-Петербург</td>\n",
       "      <td>19095.0</td>\n",
       "      <td>4529.0</td>\n",
       "      <td>0</td>\n",
       "      <td>NaN</td>\n",
       "      <td>0</td>\n",
       "      <td>NaN</td>\n",
       "      <td>104</td>\n",
       "    </tr>\n",
       "    <tr>\n",
       "      <th>23658</th>\n",
       "      <td>6</td>\n",
       "      <td>3063600</td>\n",
       "      <td>43.8</td>\n",
       "      <td>2016-11-28</td>\n",
       "      <td>1</td>\n",
       "      <td>2.7</td>\n",
       "      <td>NaN</td>\n",
       "      <td>14.00</td>\n",
       "      <td>8</td>\n",
       "      <td>False</td>\n",
       "      <td>False</td>\n",
       "      <td>False</td>\n",
       "      <td>15.50</td>\n",
       "      <td>2</td>\n",
       "      <td>Санкт-Петербург</td>\n",
       "      <td>8426.0</td>\n",
       "      <td>12082.0</td>\n",
       "      <td>2</td>\n",
       "      <td>24.0</td>\n",
       "      <td>1</td>\n",
       "      <td>271.0</td>\n",
       "      <td>246</td>\n",
       "    </tr>\n",
       "  </tbody>\n",
       "</table>\n",
       "<p>86 rows × 22 columns</p>\n",
       "</div>"
      ],
      "text/plain": [
       "       total_images  last_price  total_area first_day_exposition  rooms  \\\n",
       "186              12    11640000        65.2           2018-10-02      2   \n",
       "237               4     2438033        28.1           2016-11-23      1   \n",
       "457               4     9788348        70.8           2015-08-01      2   \n",
       "671               4     6051191        93.6           2017-04-06      3   \n",
       "1757              5     3600000        39.0           2017-04-22      1   \n",
       "...             ...         ...         ...                  ...    ...   \n",
       "22542             5     8500000        63.5           2017-05-24      2   \n",
       "22656             4     4574160        64.5           2017-04-02      2   \n",
       "22808             0    14569263       110.4           2016-11-20      3   \n",
       "23590             0    21187872       123.3           2017-04-25      3   \n",
       "23658             6     3063600        43.8           2016-11-28      1   \n",
       "\n",
       "       ceiling_height  floors_total  living_area  floor  is_apartment  studio  \\\n",
       "186               NaN           NaN        30.80      4         False   False   \n",
       "237               NaN           NaN        20.75      1         False   False   \n",
       "457               NaN           NaN        38.40     12         False   False   \n",
       "671               NaN           NaN        47.10      8         False   False   \n",
       "1757              NaN           NaN          NaN      9         False   False   \n",
       "...               ...           ...          ...    ...           ...     ...   \n",
       "22542             2.8           NaN          NaN      3         False   False   \n",
       "22656             NaN           NaN        31.70     20         False   False   \n",
       "22808             NaN           NaN        45.38      6         False   False   \n",
       "23590             NaN           NaN        50.40     18         False   False   \n",
       "23658             2.7           NaN        14.00      8         False   False   \n",
       "\n",
       "       open_plan  kitchen_area  balcony    locality_name  airports_nearest  \\\n",
       "186        False         12.00        0  Санкт-Петербург           39197.0   \n",
       "237        False           NaN        0  Санкт-Петербург           22041.0   \n",
       "457        False         10.63        0  Санкт-Петербург           37364.0   \n",
       "671        False         16.80        0  Санкт-Петербург           22041.0   \n",
       "1757       False           NaN        0  Санкт-Петербург           22735.0   \n",
       "...          ...           ...      ...              ...               ...   \n",
       "22542      False           NaN        0  Санкт-Петербург           51340.0   \n",
       "22656      False         14.40        0  Санкт-Петербург           22041.0   \n",
       "22808      False         23.42        0  Санкт-Петербург           19095.0   \n",
       "23590      False         23.60        0  Санкт-Петербург           19095.0   \n",
       "23658      False         15.50        2  Санкт-Петербург            8426.0   \n",
       "\n",
       "       cityCenters_nearest  parks_around3000  parks_nearest  ponds_around3000  \\\n",
       "186                12373.0                 1          123.0                 0   \n",
       "237                17369.0                 0            NaN                 1   \n",
       "457                 8322.0                 2          309.0                 2   \n",
       "671                17369.0                 0            NaN                 1   \n",
       "1757               11618.0                 1          835.0                 1   \n",
       "...                    ...               ...            ...               ...   \n",
       "22542              15363.0                 0            NaN                 1   \n",
       "22656              17369.0                 0            NaN                 1   \n",
       "22808               4529.0                 0            NaN                 0   \n",
       "23590               4529.0                 0            NaN                 0   \n",
       "23658              12082.0                 2           24.0                 1   \n",
       "\n",
       "       ponds_nearest  days_exposition  \n",
       "186              NaN               49  \n",
       "237            374.0              251  \n",
       "457            706.0              727  \n",
       "671            374.0              123  \n",
       "1757           652.0               77  \n",
       "...              ...              ...  \n",
       "22542          853.0              512  \n",
       "22656          374.0              127  \n",
       "22808            NaN              260  \n",
       "23590            NaN              104  \n",
       "23658          271.0              246  \n",
       "\n",
       "[86 rows x 22 columns]"
      ]
     },
     "execution_count": 11,
     "metadata": {},
     "output_type": "execute_result"
    }
   ],
   "source": [
    "#посмотрим данные с пропущенными значениями в floors_total - ничего общего между ними нет\n",
    "data[data['floors_total'].isna()]"
   ]
  },
  {
   "cell_type": "code",
   "execution_count": 12,
   "metadata": {},
   "outputs": [],
   "source": [
    "#т.к. пропусков очень мало. строки можно удалить, на конечный результат это не повлияет\n",
    "data.dropna(subset=['floors_total'], inplace=True)\n",
    "#заменяем тип данных в столбце floors_total на целочисленный\n",
    "data['floors_total'] = data['floors_total'].astype(int)"
   ]
  },
  {
   "cell_type": "code",
   "execution_count": 13,
   "metadata": {},
   "outputs": [
    {
     "data": {
      "text/plain": [
       "<AxesSubplot:ylabel='Frequency'>"
      ]
     },
     "execution_count": 13,
     "metadata": {},
     "output_type": "execute_result"
    },
    {
     "data": {
      "image/png": "[encoded data removed]",
      "text/plain": [
       "<Figure size 432x288 with 1 Axes>"
      ]
     },
     "metadata": {
      "needs_background": "light"
     },
     "output_type": "display_data"
    }
   ],
   "source": [
    "#посмотрим значения в столбце ceiling_height\n",
    "data['ceiling_height'].sort_values().plot(y = 'ceiling_height', kind = 'hist', bins = 30, range=(2, 5))"
   ]
  },
  {
   "cell_type": "code",
   "execution_count": 14,
   "metadata": {},
   "outputs": [
    {
     "data": {
      "text/plain": [
       "array([  2.7 ,    nan,   3.03,   2.5 ,   2.67,   2.56,   3.05,   2.75,\n",
       "         2.6 ,   2.9 ,   2.8 ,   2.55,   3.  ,   2.65,   3.2 ,   2.61,\n",
       "         3.25,   3.45,   2.77,   2.85,   2.64,   2.57,   4.15,   3.5 ,\n",
       "         3.3 ,   2.71,   4.  ,   2.47,   2.73,   2.84,   3.1 ,   2.34,\n",
       "         3.4 ,   3.06,   2.72,   2.54,   2.51,   2.78,   2.76,  25.  ,\n",
       "         2.58,   3.7 ,   2.52,   5.2 ,   2.87,   2.66,   2.59,   2.  ,\n",
       "         2.45,   3.6 ,   2.92,   3.11,   3.13,   3.8 ,   3.15,   3.55,\n",
       "         3.16,   3.62,   3.12,   2.53,   2.74,   2.96,   2.46,   5.3 ,\n",
       "         5.  ,   2.79,   2.95,   4.06,   2.94,   3.82,   3.54,   3.53,\n",
       "         2.83,   4.7 ,   2.4 ,   3.38,   3.01,   5.6 ,   3.65,   3.9 ,\n",
       "         3.18,   3.35,   2.3 ,   3.57,   2.48,   2.62,   2.82,   3.98,\n",
       "         2.63,   3.83,   3.52,   3.95,   3.75,   2.88,   3.67,   3.87,\n",
       "         3.66,   3.85,   3.86,   4.19,   3.24,   4.8 ,   4.5 ,   4.2 ,\n",
       "         3.36,  32.  ,   3.08,   3.68,   3.07,   3.37,   3.09,   8.  ,\n",
       "         3.26,   3.34,   2.81,   3.44,   2.97,   3.14,   4.37,   2.68,\n",
       "         3.22,   3.27,  27.  ,   4.1 ,   2.93,   3.46,  24.  ,   3.47,\n",
       "         3.33,   3.63,   3.32,  26.  ,   1.2 ,   8.3 ,   2.98,   2.86,\n",
       "         3.17,   4.4 ,   3.28,   3.04,   4.45,   5.5 ,   3.84,   3.23,\n",
       "         3.02,   3.21,   3.43,   3.78,   4.3 ,   3.39,   2.69,   3.31,\n",
       "         4.65,   3.56,   2.2 ,   3.51,   3.93,   3.42,   2.99,   3.49,\n",
       "        14.  ,   4.14,   2.91,   3.88,   1.75,   4.25,   3.29,  20.  ,\n",
       "         2.25,   3.76,   3.69,   6.  ,  22.6 ,   2.89,   3.58,   5.8 ,\n",
       "        27.5 ,   2.49,   4.9 ,   3.48,  10.3 ,   1.  , 100.  ,   3.59])"
      ]
     },
     "execution_count": 14,
     "metadata": {},
     "output_type": "execute_result"
    }
   ],
   "source": [
    "data['ceiling_height'].unique()"
   ]
  },
  {
   "cell_type": "code",
   "execution_count": 15,
   "metadata": {},
   "outputs": [
    {
     "data": {
      "text/plain": [
       "count    14495.000000\n",
       "mean         2.771495\n",
       "std          1.261445\n",
       "min          1.000000\n",
       "25%          2.520000\n",
       "50%          2.650000\n",
       "75%          2.800000\n",
       "max        100.000000\n",
       "Name: ceiling_height, dtype: float64"
      ]
     },
     "execution_count": 15,
     "metadata": {},
     "output_type": "execute_result"
    }
   ],
   "source": [
    "data['ceiling_height'].describe()"
   ]
  },
  {
   "cell_type": "markdown",
   "metadata": {},
   "source": [
    "Видим, что есть аномальные значения высоты потолков (выше 4 метров). Среднее значение высоты потолков не сильно отличается от медианного значения. В связи с чем аномальные значения можно пока оставить как есть. Но заменить пропуски лучше медианным значением, т.к. оно более устойчиво к выбросам."
   ]
  },
  {
   "cell_type": "code",
   "execution_count": 16,
   "metadata": {},
   "outputs": [],
   "source": [
    "#заменяем пропуски в столбце ceiling_height медианным значением\n",
    "data['ceiling_height'].fillna(data['ceiling_height'].median(), inplace=True)"
   ]
  },
  {
   "cell_type": "markdown",
   "metadata": {},
   "source": [
    "Заполним пропуски в столбце living_area. Для рассчитаем средний процент жилой площади от среднего значения общей площади по всей выборке. На основании этого расчитаем жилую площадь в каждой строке с пропусками."
   ]
  },
  {
   "cell_type": "code",
   "execution_count": 17,
   "metadata": {},
   "outputs": [],
   "source": [
    "#расчитаем средний процент жилой площади от среднего значения общей площади\n",
    "living_pct = data['living_area'].mean() / data['total_area'].mean()\n",
    "#заполняем пропуски\n",
    "data['living_area'].fillna(living_pct * data['total_area'], inplace=True)"
   ]
  },
  {
   "cell_type": "markdown",
   "metadata": {},
   "source": [
    "Таким же образом заменяем пропуски в столбце kitchen_area."
   ]
  },
  {
   "cell_type": "code",
   "execution_count": 18,
   "metadata": {},
   "outputs": [],
   "source": [
    "#расчитаем средний процент площади кухни от среднего значения общей площади\n",
    "kitchen_pct = data['kitchen_area'].mean() / data['total_area'].mean()\n",
    "#заполняем пропуски\n",
    "data['kitchen_area'].fillna(kitchen_pct * data['total_area'], inplace=True)"
   ]
  },
  {
   "cell_type": "markdown",
   "metadata": {},
   "source": [
    "Рассмотрим уникальные значения в столбце locality_name."
   ]
  },
  {
   "cell_type": "code",
   "execution_count": 19,
   "metadata": {},
   "outputs": [
    {
     "data": {
      "text/plain": [
       "array(['Санкт-Петербург', 'посёлок Шушары', 'городской посёлок Янино-1',\n",
       "       'посёлок Парголово', 'посёлок Мурино', 'Ломоносов', 'Сертолово',\n",
       "       'Петергоф', 'Пушкин', 'деревня Кудрово', 'Коммунар', 'Колпино',\n",
       "       'поселок городского типа Красный Бор', 'Гатчина', 'поселок Мурино',\n",
       "       'деревня Фёдоровское', 'Выборг', 'Кронштадт', 'Кировск',\n",
       "       'деревня Новое Девяткино', 'посёлок Металлострой',\n",
       "       'посёлок городского типа Лебяжье',\n",
       "       'посёлок городского типа Сиверский', 'поселок Молодцово',\n",
       "       'поселок городского типа Кузьмоловский',\n",
       "       'садовое товарищество Новая Ропша', 'Павловск',\n",
       "       'деревня Пикколово', 'Всеволожск', 'Волхов', 'Кингисепп',\n",
       "       'Приозерск', 'Сестрорецк', 'деревня Куттузи', 'посёлок Аннино',\n",
       "       'поселок городского типа Ефимовский', 'посёлок Плодовое',\n",
       "       'деревня Заклинье', 'поселок Торковичи', 'поселок Первомайское',\n",
       "       'Красное Село', 'посёлок Понтонный', 'Сясьстрой', 'деревня Старая',\n",
       "       'деревня Лесколово', 'посёлок Новый Свет', 'Сланцы',\n",
       "       'село Путилово', 'Ивангород', 'Мурино', 'Шлиссельбург',\n",
       "       'Никольское', 'Зеленогорск', 'Сосновый Бор', 'поселок Новый Свет',\n",
       "       'деревня Оржицы', 'деревня Кальтино', 'Кудрово',\n",
       "       'поселок Романовка', 'посёлок Бугры', 'поселок Бугры',\n",
       "       'поселок городского типа Рощино', 'Кириши', 'Луга', 'Волосово',\n",
       "       'Отрадное', 'село Павлово', 'поселок Оредеж', 'село Копорье',\n",
       "       'посёлок городского типа Красный Бор', 'посёлок Молодёжное',\n",
       "       'Тихвин', 'посёлок Победа', 'деревня Нурма',\n",
       "       'поселок городского типа Синявино', 'Тосно',\n",
       "       'посёлок городского типа Кузьмоловский', 'посёлок Стрельна',\n",
       "       'Бокситогорск', 'посёлок Александровская', 'деревня Лопухинка',\n",
       "       'Пикалёво', 'поселок Терволово',\n",
       "       'поселок городского типа Советский', 'Подпорожье',\n",
       "       'посёлок Петровское', 'посёлок городского типа Токсово',\n",
       "       'поселок Сельцо', 'посёлок городского типа Вырица',\n",
       "       'деревня Кипень', 'деревня Келози', 'деревня Вартемяги',\n",
       "       'посёлок Тельмана', 'поселок Севастьяново',\n",
       "       'городской поселок Большая Ижора', nan,\n",
       "       'городской посёлок Павлово', 'деревня Агалатово',\n",
       "       'посёлок Новогорелово', 'городской посёлок Лесогорский',\n",
       "       'деревня Лаголово', 'поселок Цвелодубово',\n",
       "       'поселок городского типа Рахья', 'поселок городского типа Вырица',\n",
       "       'деревня Белогорка', 'поселок Заводской',\n",
       "       'городской посёлок Новоселье', 'деревня Большие Колпаны',\n",
       "       'деревня Горбунки', 'деревня Батово', 'деревня Заневка',\n",
       "       'деревня Иссад', 'Приморск', 'городской посёлок Фёдоровское',\n",
       "       'деревня Мистолово', 'Новая Ладога', 'поселок Зимитицы',\n",
       "       'поселок Барышево', 'деревня Разметелево',\n",
       "       'поселок городского типа имени Свердлова', 'деревня Пеники',\n",
       "       'поселок Рябово', 'деревня Пудомяги', 'поселок станции Корнево',\n",
       "       'деревня Низино', 'деревня Бегуницы', 'посёлок Поляны',\n",
       "       'городской посёлок Мга', 'поселок Елизаветино',\n",
       "       'посёлок городского типа Кузнечное', 'деревня Колтуши',\n",
       "       'поселок Запорожское', 'посёлок городского типа Рощино',\n",
       "       'деревня Гостилицы', 'деревня Малое Карлино',\n",
       "       'посёлок Мичуринское', 'посёлок городского типа имени Морозова',\n",
       "       'посёлок Песочный', 'посёлок Сосново', 'деревня Аро',\n",
       "       'поселок Ильичёво', 'посёлок городского типа Тайцы',\n",
       "       'деревня Малое Верево', 'деревня Извара', 'поселок станции Вещево',\n",
       "       'село Паша', 'деревня Калитино',\n",
       "       'посёлок городского типа Ульяновка', 'деревня Чудской Бор',\n",
       "       'поселок городского типа Дубровка', 'деревня Мины',\n",
       "       'поселок Войсковицы', 'посёлок городского типа имени Свердлова',\n",
       "       'деревня Коркино', 'посёлок Ропша',\n",
       "       'поселок городского типа Приладожский', 'посёлок Щеглово',\n",
       "       'посёлок Гаврилово', 'Лодейное Поле', 'деревня Рабитицы',\n",
       "       'поселок городского типа Никольский', 'деревня Кузьмолово',\n",
       "       'деревня Малые Колпаны', 'поселок Тельмана',\n",
       "       'посёлок Петро-Славянка', 'городской посёлок Назия',\n",
       "       'посёлок Репино', 'посёлок Ильичёво', 'поселок Углово',\n",
       "       'поселок Старая Малукса', 'садовое товарищество Рахья',\n",
       "       'поселок Аннино', 'поселок Победа', 'деревня Меньково',\n",
       "       'деревня Старые Бегуницы', 'посёлок Сапёрный', 'поселок Семрино',\n",
       "       'поселок Гаврилово', 'поселок Глажево', 'поселок Кобринское',\n",
       "       'деревня Гарболово', 'деревня Юкки',\n",
       "       'поселок станции Приветнинское', 'деревня Мануйлово',\n",
       "       'деревня Пчева', 'поселок Поляны', 'поселок Цвылёво',\n",
       "       'поселок Мельниково', 'посёлок Пудость', 'посёлок Усть-Луга',\n",
       "       'Светогорск', 'Любань', 'поселок Селезнёво',\n",
       "       'поселок городского типа Рябово', 'Каменногорск', 'деревня Кривко',\n",
       "       'поселок Глебычево', 'деревня Парицы', 'поселок Жилпосёлок',\n",
       "       'посёлок городского типа Мга', 'городской поселок Янино-1',\n",
       "       'посёлок Войскорово', 'село Никольское', 'посёлок Терволово',\n",
       "       'поселок Стеклянный', 'посёлок городского типа Важины',\n",
       "       'посёлок Мыза-Ивановка', 'село Русско-Высоцкое',\n",
       "       'поселок городского типа Лебяжье',\n",
       "       'поселок городского типа Форносово', 'село Старая Ладога',\n",
       "       'поселок Житково', 'городской посёлок Виллози', 'деревня Лампово',\n",
       "       'деревня Шпаньково', 'деревня Лаврики', 'посёлок Сумино',\n",
       "       'посёлок Возрождение', 'деревня Старосиверская',\n",
       "       'посёлок Кикерино', 'поселок Возрождение',\n",
       "       'деревня Старое Хинколово', 'посёлок Пригородный',\n",
       "       'посёлок Торфяное', 'городской посёлок Будогощь',\n",
       "       'поселок Суходолье', 'поселок Красная Долина', 'деревня Хапо-Ое',\n",
       "       'поселок городского типа Дружная Горка', 'поселок Лисий Нос',\n",
       "       'деревня Яльгелево', 'посёлок Стеклянный', 'село Рождествено',\n",
       "       'деревня Старополье', 'посёлок Левашово', 'деревня Сяськелево',\n",
       "       'деревня Камышовка',\n",
       "       'садоводческое некоммерческое товарищество Лесная Поляна',\n",
       "       'деревня Хязельки', 'поселок Жилгородок',\n",
       "       'посёлок городского типа Павлово', 'деревня Ялгино',\n",
       "       'поселок Новый Учхоз', 'городской посёлок Рощино',\n",
       "       'поселок Гончарово', 'поселок Почап', 'посёлок Сапёрное',\n",
       "       'посёлок Платформа 69-й километр', 'поселок Каложицы',\n",
       "       'деревня Фалилеево', 'деревня Пельгора',\n",
       "       'поселок городского типа Лесогорский', 'деревня Торошковичи',\n",
       "       'посёлок Белоостров', 'посёлок Алексеевка', 'поселок Серебрянский',\n",
       "       'поселок Лукаши', 'поселок Петровское', 'деревня Щеглово',\n",
       "       'поселок Мичуринское', 'деревня Тарасово', 'поселок Кингисеппский',\n",
       "       'посёлок при железнодорожной станции Вещево', 'поселок Ушаки',\n",
       "       'деревня Котлы', 'деревня Сижно', 'деревня Торосово',\n",
       "       'посёлок Форт Красная Горка', 'деревня Новолисино',\n",
       "       'посёлок станции Громово', 'деревня Глинка', 'посёлок Мельниково',\n",
       "       'поселок городского типа Назия', 'деревня Старая Пустошь',\n",
       "       'поселок Коммунары', 'поселок Починок',\n",
       "       'посёлок городского типа Вознесенье', 'деревня Разбегаево',\n",
       "       'посёлок городского типа Рябово', 'поселок Гладкое',\n",
       "       'посёлок при железнодорожной станции Приветнинское',\n",
       "       'поселок Тёсово-4', 'посёлок Жилгородок', 'деревня Бор',\n",
       "       'посёлок Коробицыно', 'деревня Большая Вруда', 'деревня Курковицы',\n",
       "       'посёлок Лисий Нос', 'городской посёлок Советский',\n",
       "       'посёлок Кобралово', 'деревня Суоранда', 'поселок Кобралово',\n",
       "       'поселок городского типа Кондратьево',\n",
       "       'коттеджный поселок Счастье', 'поселок Любань', 'деревня Реброво',\n",
       "       'деревня Зимитицы', 'деревня Тойворово', 'поселок Семиозерье',\n",
       "       'поселок Лесное', 'поселок Совхозный', 'поселок Усть-Луга',\n",
       "       'посёлок Ленинское', 'посёлок Суйда',\n",
       "       'посёлок городского типа Форносово', 'деревня Нижние Осельки',\n",
       "       'посёлок станции Свирь', 'поселок Перово', 'Высоцк',\n",
       "       'поселок Гарболово', 'село Шум', 'поселок Котельский',\n",
       "       'поселок станции Лужайка', 'деревня Большая Пустомержа',\n",
       "       'поселок Красносельское', 'деревня Вахнова Кара', 'деревня Пижма',\n",
       "       'коттеджный поселок Кивеннапа Север', 'поселок Коробицыно',\n",
       "       'поселок Ромашки', 'посёлок Перово', 'деревня Каськово',\n",
       "       'деревня Куровицы', 'посёлок Плоское', 'поселок Сумино',\n",
       "       'поселок городского типа Большая Ижора', 'поселок Кирпичное',\n",
       "       'деревня Ям-Тесово', 'деревня Раздолье', 'деревня Терпилицы',\n",
       "       'поселок городского типа Токсово', 'посёлок Шугозеро',\n",
       "       'деревня Ваганово', 'поселок Пушное', 'садовое товарищество Садко',\n",
       "       'посёлок Усть-Ижора', 'деревня Выскатка',\n",
       "       'городской посёлок Свирьстрой', 'поселок Громово',\n",
       "       'деревня Кисельня', 'посёлок Старая Малукса',\n",
       "       'деревня Трубников Бор', 'поселок Калитино',\n",
       "       'посёлок Высокоключевой', 'садовое товарищество Приладожский',\n",
       "       'посёлок Пансионат Зелёный Бор', 'деревня Ненимяки',\n",
       "       'поселок Пансионат Зелёный Бор', 'деревня Снегирёвка',\n",
       "       'деревня Рапполово', 'деревня Пустынка', 'поселок Рабитицы',\n",
       "       'деревня Большой Сабск', 'деревня Русско', 'деревня Лупполово',\n",
       "       'деревня Большое Рейзино', 'деревня Малая Романовка',\n",
       "       'поселок Дружноселье', 'поселок Пчевжа', 'поселок Володарское',\n",
       "       'деревня Нижняя', 'коттеджный посёлок Лесное', 'деревня Тихковицы',\n",
       "       'деревня Борисова Грива', 'посёлок Дзержинского'], dtype=object)"
      ]
     },
     "execution_count": 19,
     "metadata": {},
     "output_type": "execute_result"
    }
   ],
   "source": [
    "#выведем уникальные значения в столбце locality_name\n",
    "data['locality_name'].unique()"
   ]
  },
  {
   "cell_type": "markdown",
   "metadata": {},
   "source": [
    "Видим, что у нас есть населенные пункты типа \"посёлок\" и \"поселок\" - здесь могут обнаружиться дубликаты. Поэтому заменим букву \"ё\" на букву \"е\". Так же заменим \"посе(ё)лок городского типа\" и \"городской посе(ё)лок\" на \"поселок\"."
   ]
  },
  {
   "cell_type": "code",
   "execution_count": 20,
   "metadata": {},
   "outputs": [],
   "source": [
    "#произведем замену дубликатов\n",
    "data['locality_name'] = (\n",
    "    data['locality_name']\n",
    "    .str.replace('ё', 'е')\n",
    "    .replace(['поселок городского типа', 'посёлок городского типа', 'городской поселок', 'городской посёлок'], 'поселок', \n",
    "             regex=True)\n",
    ")"
   ]
  },
  {
   "cell_type": "markdown",
   "metadata": {},
   "source": [
    "Теперь удалим пропуски в столбце с названиями населенных пунктов, т.к. их очень мало и избавление от них никак не повлияет на конечные результаты исследования."
   ]
  },
  {
   "cell_type": "code",
   "execution_count": 21,
   "metadata": {},
   "outputs": [],
   "source": [
    "#удаляем пропуски\n",
    "data.dropna(subset=['locality_name'], inplace=True)"
   ]
  },
  {
   "cell_type": "markdown",
   "metadata": {},
   "source": [
    "Проверим количество пропусков после обработки."
   ]
  },
  {
   "cell_type": "code",
   "execution_count": 22,
   "metadata": {},
   "outputs": [
    {
     "data": {
      "text/plain": [
       "total_images                0\n",
       "last_price                  0\n",
       "total_area                  0\n",
       "first_day_exposition        0\n",
       "rooms                       0\n",
       "ceiling_height              0\n",
       "floors_total                0\n",
       "living_area                 0\n",
       "floor                       0\n",
       "is_apartment                0\n",
       "studio                      0\n",
       "open_plan                   0\n",
       "kitchen_area                0\n",
       "balcony                     0\n",
       "locality_name               0\n",
       "airports_nearest         5524\n",
       "cityCenters_nearest      5501\n",
       "parks_around3000            0\n",
       "parks_nearest           15535\n",
       "ponds_around3000            0\n",
       "ponds_nearest           14529\n",
       "days_exposition          3171\n",
       "dtype: int64"
      ]
     },
     "execution_count": 22,
     "metadata": {},
     "output_type": "execute_result"
    }
   ],
   "source": [
    "#проверяем количество пропусков\n",
    "data.isna().sum()"
   ]
  },
  {
   "cell_type": "markdown",
   "metadata": {},
   "source": [
    "Итак, в данном разделе мы произвели обработку данных предоставленного датафрейма. \n",
    "\n",
    "Выявили пропуски в столбцах balcony, parks_around3000, ponds_around3000 и заменили их на 0, т.к. количество парков, водоемов и балконов не указано продавцом, в связи с тем, что их нет. В столбце days_exposition пропуски решили оставить, т.к. эти объявления еще не сняты и квартира не продана. В столбце is_apartment произвели замену пропусков на False, потому что, апартаменты, скорее всего, появились в нашем списке совсем недавно, относительно остальных данных. В столбце с общим количеством этажей выявленные пропуски было решено удалить, т.к. их очень мало и на результат исследования это не повлияет. Пропуски в столбце с высотой потолков заменили медианным значением, т.к. нашли в нем некоторое количество аномальных значений, а медиана более устойчива к выбросам. В столбцах living_area и kitchen area произвели замену пропусков, рассчитав жилую площадь и площадь кухни на основании среднего процента жилой площади и кухни, соответственно, от общей площади.\n",
    "\n",
    "Произвели замену типа данных в столбце first_day_exposition со строчного на datetime для удобства дальнейших расчетов. Столбцы floors_total, balcony, parks_around3000, ponds_around3000, days_exposition привели к типу int, т.к. эти данные выражаются только целыми числами. Столбец is_apartment привели к типу bool,вместо object.\n",
    "\n",
    "В столбце с названиями населенных пунктов нашли дубликаты, произвели их замену и пропуски решили удалить, в связи с малым количеством."
   ]
  },
  {
   "cell_type": "markdown",
   "metadata": {},
   "source": [
    "### Посчитаем и добавим в таблицу новые столбцы"
   ]
  },
  {
   "cell_type": "markdown",
   "metadata": {},
   "source": [
    "В таблицу добавим следующие столбцы:\n",
    "- цена одного квадратного метра (square_meter_price);\n",
    "- день недели публикации объявления (exposition_weekday);\n",
    "- месяц публикации объявления (exposition_month);\n",
    "- год публикации объявления (exposition_year);\n",
    "- тип этажа квартиры (floor_type);\n",
    "- расстояние до центра города в км (city_center_distance)."
   ]
  },
  {
   "cell_type": "code",
   "execution_count": 23,
   "metadata": {},
   "outputs": [],
   "source": [
    "#расчитаем цену за один квадратный метр и добавим новый столбец\n",
    "data['square_meter_price'] = data['last_price'] / data['total_area']\n",
    "#округляем полученную цену за квадратный метр до двух знаков после запятой\n",
    "data['square_meter_price'] = data['square_meter_price'].round(2)"
   ]
  },
  {
   "cell_type": "code",
   "execution_count": 24,
   "metadata": {},
   "outputs": [],
   "source": [
    "#добавим столбец, где укажем день недели публикации объявления\n",
    "data['exposition_weekday'] = data['first_day_exposition'].dt.weekday"
   ]
  },
  {
   "cell_type": "code",
   "execution_count": 25,
   "metadata": {},
   "outputs": [],
   "source": [
    "#добавим столбец с месяцем публикации объявления\n",
    "data['exposition_month'] = data['first_day_exposition'].dt.month"
   ]
  },
  {
   "cell_type": "code",
   "execution_count": 26,
   "metadata": {},
   "outputs": [],
   "source": [
    "#добавим столбец с годом публикации объявления\n",
    "data['exposition_year'] = data['first_day_exposition'].dt.year"
   ]
  },
  {
   "cell_type": "markdown",
   "metadata": {},
   "source": [
    "Для того, чтобы добавить столбец с типом этажа, сначала необходимо их категоризировать. Для этого создадим функцию для категоризации этажей на \"первый\", \"последний\" и \"другие\"."
   ]
  },
  {
   "cell_type": "code",
   "execution_count": 27,
   "metadata": {},
   "outputs": [],
   "source": [
    "#создадим функцию для категоризации этажей\n",
    "def floor_type(f):\n",
    "    floor = f['floor']\n",
    "    floors_total = f['floors_total']\n",
    "    if floor == 1:\n",
    "        return 'первый'\n",
    "    elif floor == floors_total:\n",
    "        return 'последний'\n",
    "    elif 1 < floor < floors_total:\n",
    "        return 'другой'\n",
    "    \n",
    "#добавим столбец с типом этажа, применив функцию с категоризацией к каждой строке датафрейма\n",
    "data['floor_type'] = data.apply(floor_type, axis=1)"
   ]
  },
  {
   "cell_type": "markdown",
   "metadata": {},
   "source": [
    "Добавим столбец с расстоянием до центра города в километрах."
   ]
  },
  {
   "cell_type": "code",
   "execution_count": 28,
   "metadata": {},
   "outputs": [],
   "source": [
    "#добавим столбец с расстоянием до центра города в км, для этого переводим расстояние в км и округляем до целого значения\n",
    "data['city_center_distance'] = (data['cityCenters_nearest'] / 1000).round()"
   ]
  },
  {
   "cell_type": "markdown",
   "metadata": {},
   "source": [
    "**Вывод:**\n",
    "\n",
    "Для удобства дальнейшего исследования в наш датафрейм добавили следующие столбцы:\n",
    "- цена одного квадратного метра (square_meter_price);\n",
    "- день недели публикации объявления (exposition_weekday);\n",
    "- месяц публикации объявления (exposition_month);\n",
    "- год публикации объявления (exposition_year);\n",
    "- тип этажа квартиры (floor_type);\n",
    "- расстояние до центра города в км (city_center_distance)."
   ]
  },
  {
   "cell_type": "markdown",
   "metadata": {},
   "source": [
    "### Исследовательский анализ данных"
   ]
  },
  {
   "cell_type": "markdown",
   "metadata": {},
   "source": [
    "####  Изучение параметров"
   ]
  },
  {
   "cell_type": "markdown",
   "metadata": {},
   "source": [
    "Изучим следующие параметры:\n",
    "- общая площадь; \n",
    "- жилая площадь; \n",
    "- площадь кухни; \n",
    "- цена объекта; \n",
    "- количество комнат; \n",
    "- высота потолков; \n",
    "- тип этажа квартиры («первый», «последний», «другой»); \n",
    "- общее количество этажей в доме; -\n",
    "- расстояние до центра города в метрах; \n",
    "- расстояние до ближайшего парка. "
   ]
  },
  {
   "cell_type": "markdown",
   "metadata": {},
   "source": [
    "**Изучим общую площадь.**"
   ]
  },
  {
   "cell_type": "markdown",
   "metadata": {},
   "source": [
    "Проверим данный параметр на наличие аномальных значений.\n",
    "\n",
    "Примем, что аномальными являются значения общей площади больше 200 метров квадратных."
   ]
  },
  {
   "cell_type": "code",
   "execution_count": 29,
   "metadata": {},
   "outputs": [
    {
     "data": {
      "text/plain": [
       "False    23339\n",
       "True       226\n",
       "Name: total_area, dtype: int64"
      ]
     },
     "execution_count": 29,
     "metadata": {},
     "output_type": "execute_result"
    }
   ],
   "source": [
    "#посчитаем количество аномальных значений общей площади более 200 кв. метров\n",
    "(data['total_area'] > 200).value_counts()"
   ]
  },
  {
   "cell_type": "markdown",
   "metadata": {},
   "source": [
    "Видим, что таких значений всего 226. Поэтому можем от них избавиться."
   ]
  },
  {
   "cell_type": "code",
   "execution_count": 30,
   "metadata": {},
   "outputs": [],
   "source": [
    "#удаляем аномальные значения\n",
    "data = data[(data['total_area'] <= 200)]"
   ]
  },
  {
   "cell_type": "code",
   "execution_count": 31,
   "metadata": {},
   "outputs": [
    {
     "data": {
      "image/png": "[encoded data removed]",
      "text/plain": [
       "<Figure size 504x360 with 1 Axes>"
      ]
     },
     "metadata": {
      "needs_background": "light"
     },
     "output_type": "display_data"
    },
    {
     "data": {
      "text/plain": [
       "count    23339.000000\n",
       "mean        58.150947\n",
       "std         26.512526\n",
       "min         12.000000\n",
       "25%         40.000000\n",
       "50%         51.700000\n",
       "75%         68.800000\n",
       "max        200.000000\n",
       "Name: total_area, dtype: float64"
      ]
     },
     "execution_count": 31,
     "metadata": {},
     "output_type": "execute_result"
    }
   ],
   "source": [
    "#построим гистограмму по столбцу с общей площадью\n",
    "data.plot(y='total_area', kind='hist', bins=100, grid=True, figsize=(7, 5), range=(0, 200), title='Общая площадь')\n",
    "plt.show()\n",
    "#сделаем числовое описание данных общей площади\n",
    "data['total_area'].describe()"
   ]
  },
  {
   "cell_type": "markdown",
   "metadata": {},
   "source": [
    "По гистограмме видно, что распределение данных является нормальным.\n",
    "\n",
    "Можно наблюдать, что большинство квартир площадью до 100 метров квадратных. Видим пики на гистограмме в области 30, 40 и 45 метров квадратных - это по нашему предположению могут быть однокомнатные квартиры и их большинство в объявлениях. Далее пик в области 50-65 квадратных метров - это двухкомнатные квартиры."
   ]
  },
  {
   "cell_type": "markdown",
   "metadata": {},
   "source": [
    "**Изучим жилую площадь.**"
   ]
  },
  {
   "cell_type": "markdown",
   "metadata": {},
   "source": [
    "Проверим данный параметр на наличие аномальных значений.\n",
    "\n",
    "Примем, что аномальными являются значения жилой площади меньше 10 метров квадратных."
   ]
  },
  {
   "cell_type": "code",
   "execution_count": 32,
   "metadata": {},
   "outputs": [
    {
     "data": {
      "text/plain": [
       "True     23277\n",
       "False       62\n",
       "Name: living_area, dtype: int64"
      ]
     },
     "execution_count": 32,
     "metadata": {},
     "output_type": "execute_result"
    }
   ],
   "source": [
    "#посчитаем количество аномальных значений жилой площади менее 10 кв. метров\n",
    "(data['living_area'] > 10).value_counts()"
   ]
  },
  {
   "cell_type": "markdown",
   "metadata": {},
   "source": [
    "Видим, что таких значений всего 62. Поэтому можем от них избавиться."
   ]
  },
  {
   "cell_type": "code",
   "execution_count": 33,
   "metadata": {},
   "outputs": [],
   "source": [
    "#удаляем аномальные значения\n",
    "data = data[(data['living_area'] >= 10)]"
   ]
  },
  {
   "cell_type": "code",
   "execution_count": 34,
   "metadata": {},
   "outputs": [
    {
     "data": {
      "image/png": "[encoded data removed]",
      "text/plain": [
       "<Figure size 504x360 with 1 Axes>"
      ]
     },
     "metadata": {
      "needs_background": "light"
     },
     "output_type": "display_data"
    },
    {
     "data": {
      "text/plain": [
       "count    23308.000000\n",
       "mean        33.333024\n",
       "std         17.272356\n",
       "min         10.000000\n",
       "25%         19.000000\n",
       "50%         30.000000\n",
       "75%         42.000000\n",
       "max        164.700000\n",
       "Name: living_area, dtype: float64"
      ]
     },
     "execution_count": 34,
     "metadata": {},
     "output_type": "execute_result"
    }
   ],
   "source": [
    "#построим гистограмму по столбцу с жилой площадью\n",
    "data.plot(y='living_area', kind='hist', bins=100, grid=True, figsize=(7, 5), range=(0, 150), title='Жилая площадь')\n",
    "plt.show()\n",
    "#сделаем числовое описание данных жилой площади\n",
    "data['living_area'].describe()"
   ]
  },
  {
   "cell_type": "markdown",
   "metadata": {},
   "source": [
    "На диаграмме видим 3 пика. Они могут быть связаны с тем, что это площади одно-, двух- и трехкомнатных квартир.\n",
    "\n",
    "Также видим, что большая часть квартир представлена с жилой площадью в диапазоне от 10 до 50 метров квадратных.  "
   ]
  },
  {
   "cell_type": "markdown",
   "metadata": {},
   "source": [
    "**Изучим площадь кухни.**"
   ]
  },
  {
   "cell_type": "markdown",
   "metadata": {},
   "source": [
    "Проверим данный параметр на наличие аномальных значений.\n",
    "\n",
    "Примем, что аномальными являются значения площади кухни меньше 5 и более 50 метров квадратных."
   ]
  },
  {
   "cell_type": "code",
   "execution_count": 35,
   "metadata": {},
   "outputs": [
    {
     "name": "stdout",
     "output_type": "stream",
     "text": [
      "False    22887\n",
      "True       421\n",
      "Name: kitchen_area, dtype: int64\n",
      "False    23281\n",
      "True        27\n",
      "Name: kitchen_area, dtype: int64\n"
     ]
    }
   ],
   "source": [
    "#посчитаем количество аномальных значений площади кухни менее 5 и более 50 кв. метров\n",
    "print((data['kitchen_area'] < 5).value_counts())\n",
    "print((data['kitchen_area'] > 50).value_counts())"
   ]
  },
  {
   "cell_type": "markdown",
   "metadata": {},
   "source": [
    "Видим, что таких значений всего 448. Поэтому можем от них избавиться."
   ]
  },
  {
   "cell_type": "code",
   "execution_count": 36,
   "metadata": {},
   "outputs": [],
   "source": [
    "#удаляем аномальные значения\n",
    "data = data[(data['kitchen_area'] >= 5) & (data['kitchen_area'] <= 50)]"
   ]
  },
  {
   "cell_type": "code",
   "execution_count": 37,
   "metadata": {},
   "outputs": [
    {
     "data": {
      "image/png": "[encoded data removed]",
      "text/plain": [
       "<Figure size 504x360 with 1 Axes>"
      ]
     },
     "metadata": {
      "needs_background": "light"
     },
     "output_type": "display_data"
    },
    {
     "data": {
      "text/plain": [
       "count    22860.000000\n",
       "mean        10.323201\n",
       "std          4.969401\n",
       "min          5.000000\n",
       "25%          7.000000\n",
       "50%          9.000000\n",
       "75%         11.900000\n",
       "max         50.000000\n",
       "Name: kitchen_area, dtype: float64"
      ]
     },
     "execution_count": 37,
     "metadata": {},
     "output_type": "execute_result"
    }
   ],
   "source": [
    "#построим гистограмму по столбцу с площадью кухни\n",
    "data.plot(y='kitchen_area', kind='hist', bins=100, grid=True, figsize=(7, 5), range=(0, 50), title='Площадь кухни')\n",
    "plt.show()\n",
    "#сделаем числовое описание данных площади кухни\n",
    "data['kitchen_area'].describe()"
   ]
  },
  {
   "cell_type": "markdown",
   "metadata": {},
   "source": [
    "Тут видим, что наибольшая часть квартир имеют кухни с площадью в диапазоне с 5 до 15 метров квадратных. Кухни с площадью более 30 метров квадратных встречаются единично."
   ]
  },
  {
   "cell_type": "markdown",
   "metadata": {},
   "source": [
    "**Изучим цену объекта.**"
   ]
  },
  {
   "cell_type": "markdown",
   "metadata": {},
   "source": [
    "Проверим данный параметр на наличие аномальных значений.\n",
    "\n",
    "Примем, что аномальными являются значения стоимости менее 1 млн и более 30 млн рублей."
   ]
  },
  {
   "cell_type": "code",
   "execution_count": 38,
   "metadata": {},
   "outputs": [
    {
     "name": "stdout",
     "output_type": "stream",
     "text": [
      "False    22689\n",
      "True       171\n",
      "Name: last_price, dtype: int64\n",
      "False    22644\n",
      "True       216\n",
      "Name: last_price, dtype: int64\n"
     ]
    }
   ],
   "source": [
    "#посчитаем количество аномальных значений стоимости менее 1 млн и более 30 млн\n",
    "print((data['last_price'] > 30000000).value_counts())\n",
    "print((data['last_price'] < 1000000).value_counts())"
   ]
  },
  {
   "cell_type": "markdown",
   "metadata": {},
   "source": [
    "Видим, что таких значений всего 374. Поэтому можем от них избавиться."
   ]
  },
  {
   "cell_type": "code",
   "execution_count": 39,
   "metadata": {},
   "outputs": [],
   "source": [
    "#удаляем аномальные значения\n",
    "data = data[(data['last_price'] >= 1000000) & (data['last_price'] <= 30000000)]"
   ]
  },
  {
   "cell_type": "code",
   "execution_count": 40,
   "metadata": {},
   "outputs": [
    {
     "data": {
      "image/png": "[encoded data removed]",
      "text/plain": [
       "<Figure size 504x360 with 1 Axes>"
      ]
     },
     "metadata": {
      "needs_background": "light"
     },
     "output_type": "display_data"
    },
    {
     "name": "stdout",
     "output_type": "stream",
     "text": [
      "count    22473.000000\n",
      "mean         5.767475\n",
      "std          3.890156\n",
      "min          1.000000\n",
      "25%          3.500000\n",
      "50%          4.650000\n",
      "75%          6.700000\n",
      "max         30.000000\n",
      "Name: last_price, dtype: float64\n"
     ]
    }
   ],
   "source": [
    "#построим гистограмму по столбцу с ценой\n",
    "data.plot(y='last_price', kind='hist', bins=100, grid=True, figsize=(7, 5), range=(0, 30000000), title='Цена квартир')\n",
    "plt.show()\n",
    "#поделим данные в столбце last_price на 1 млн для лучшего восприятия и сделаем числовое описание данных стоимости\n",
    "print((data['last_price'] / 1000000).describe())"
   ]
  },
  {
   "cell_type": "markdown",
   "metadata": {},
   "source": [
    "Данные по стоимости квартир имеют нормальное распределение. \n",
    "\n",
    "Большая часть квартир находится в диапазоне стоимости от 2 до 7,5 миллионов рублей. Самый пик приходится примерно на 4 миллиона. Меньше встречается квартир стоимостью от 10 миллионов. Свыше 20 миллионов - единичные квартиры."
   ]
  },
  {
   "cell_type": "markdown",
   "metadata": {},
   "source": [
    "**Изучим количество комнат.**"
   ]
  },
  {
   "cell_type": "markdown",
   "metadata": {},
   "source": [
    "Проверим данный параметр на наличие аномальных значений.\n",
    "\n",
    "Примем, что аномальными являются значения по количеству комнат больше 7."
   ]
  },
  {
   "cell_type": "code",
   "execution_count": 41,
   "metadata": {},
   "outputs": [
    {
     "name": "stdout",
     "output_type": "stream",
     "text": [
      "False    22470\n",
      "True         3\n",
      "Name: rooms, dtype: int64\n"
     ]
    }
   ],
   "source": [
    "#посчитаем количество аномальных значений больше 7 комнат\n",
    "print((data['rooms'] > 7).value_counts())"
   ]
  },
  {
   "cell_type": "markdown",
   "metadata": {},
   "source": [
    "Видим, что таких значений всего осталось 2. Поэтому можем от них избавиться."
   ]
  },
  {
   "cell_type": "code",
   "execution_count": 42,
   "metadata": {},
   "outputs": [],
   "source": [
    "#удаляем аномальные значения\n",
    "data = data[(data['rooms'] <= 7)]"
   ]
  },
  {
   "cell_type": "code",
   "execution_count": 43,
   "metadata": {},
   "outputs": [
    {
     "data": {
      "image/png": "[encoded data removed]",
      "text/plain": [
       "<Figure size 360x360 with 1 Axes>"
      ]
     },
     "metadata": {
      "needs_background": "light"
     },
     "output_type": "display_data"
    },
    {
     "data": {
      "text/plain": [
       "count    22470.000000\n",
       "mean         2.048509\n",
       "std          0.974624\n",
       "min          0.000000\n",
       "25%          1.000000\n",
       "50%          2.000000\n",
       "75%          3.000000\n",
       "max          7.000000\n",
       "Name: rooms, dtype: float64"
      ]
     },
     "execution_count": 43,
     "metadata": {},
     "output_type": "execute_result"
    }
   ],
   "source": [
    "#построим гистограмму по столбцу с количеством комнат\n",
    "data.plot(y='rooms', kind='hist', bins=7, grid=True, figsize=(5, 5), range=(0, 7), title='Количество комнат')\n",
    "plt.show()\n",
    "#сделаем числовое описание данных по количеству комнат\n",
    "data['rooms'].describe()"
   ]
  },
  {
   "cell_type": "markdown",
   "metadata": {},
   "source": [
    "Распределение по количеству комнат является нормальным.\n",
    "\n",
    "Большинство квартир имеют 1, 2, 3 комнаты. Меньше квартир имеют больше 4 комнат."
   ]
  },
  {
   "cell_type": "markdown",
   "metadata": {},
   "source": [
    "**Изучим высоту потолков.**"
   ]
  },
  {
   "cell_type": "markdown",
   "metadata": {},
   "source": [
    "Проверим данный параметр на наличие аномальных значений.\n",
    "\n",
    "Примем, что аномальными являются значения по высоте потолков выше 4 метров."
   ]
  },
  {
   "cell_type": "code",
   "execution_count": 44,
   "metadata": {},
   "outputs": [
    {
     "name": "stdout",
     "output_type": "stream",
     "text": [
      "False    22412\n",
      "True        58\n",
      "Name: ceiling_height, dtype: int64\n"
     ]
    }
   ],
   "source": [
    "#посчитаем количество аномальных значений больше 7 комнат\n",
    "print((data['ceiling_height'] > 4).value_counts())"
   ]
  },
  {
   "cell_type": "markdown",
   "metadata": {},
   "source": [
    "Видим, что таких значений всего осталось 58. Поэтому можем от них избавиться."
   ]
  },
  {
   "cell_type": "code",
   "execution_count": 45,
   "metadata": {},
   "outputs": [],
   "source": [
    "#удаляем аномальные значения\n",
    "data = data[(data['ceiling_height'] <= 4)]"
   ]
  },
  {
   "cell_type": "code",
   "execution_count": 46,
   "metadata": {},
   "outputs": [
    {
     "data": {
      "image/png": "[encoded data removed]",
      "text/plain": [
       "<Figure size 504x360 with 1 Axes>"
      ]
     },
     "metadata": {
      "needs_background": "light"
     },
     "output_type": "display_data"
    },
    {
     "data": {
      "text/plain": [
       "count    22412.000000\n",
       "mean         2.688203\n",
       "std          0.197657\n",
       "min          1.000000\n",
       "25%          2.600000\n",
       "50%          2.650000\n",
       "75%          2.700000\n",
       "max          4.000000\n",
       "Name: ceiling_height, dtype: float64"
      ]
     },
     "execution_count": 46,
     "metadata": {},
     "output_type": "execute_result"
    }
   ],
   "source": [
    "#построим гистограмму по столбцу с высотой потолков\n",
    "data.plot(y='ceiling_height', kind='hist', bins=30, grid=True, figsize=(7, 5), range=(2, 4.5), title='Высота потолков')\n",
    "plt.show()\n",
    "#сделаем числовое описание данных по высоте потолков\n",
    "data['ceiling_height'].describe()"
   ]
  },
  {
   "cell_type": "markdown",
   "metadata": {},
   "source": [
    "На гистограмме видно нормальное распределение данных по высоте потолков. \n",
    "\n",
    "Самая распространенная высота потолков от 2,5 до 2,8 метров. Квартиры с высотой потолков выше 3 метров встречаются реже. "
   ]
  },
  {
   "cell_type": "markdown",
   "metadata": {},
   "source": [
    "**Изучим типы этажей.**"
   ]
  },
  {
   "cell_type": "code",
   "execution_count": 47,
   "metadata": {},
   "outputs": [
    {
     "data": {
      "image/png": "[encoded data removed]",
      "text/plain": [
       "<Figure size 432x288 with 1 Axes>"
      ]
     },
     "metadata": {
      "needs_background": "light"
     },
     "output_type": "display_data"
    }
   ],
   "source": [
    "#построим гистограмму по столбцу с типом этажа\n",
    "data['floor_type'].value_counts().plot(y='floor_type', kind='bar', grid=True, title='Тип этажа')\n",
    "plt.show()"
   ]
  },
  {
   "cell_type": "markdown",
   "metadata": {},
   "source": [
    "В предоставленных нам данных больше всего квартир, находящихся на этажах с типом \"другой\" (т.е. с первого по последний), их около 17500 штук. Квартир, находящихся на первом и последнем этажах примерно одинаковое количество (около 3000 штук)."
   ]
  },
  {
   "cell_type": "markdown",
   "metadata": {},
   "source": [
    "**Изучим общее количество этажей в домах.**"
   ]
  },
  {
   "cell_type": "code",
   "execution_count": 48,
   "metadata": {},
   "outputs": [
    {
     "data": {
      "image/png": "[encoded data removed]",
      "text/plain": [
       "<Figure size 504x360 with 1 Axes>"
      ]
     },
     "metadata": {
      "needs_background": "light"
     },
     "output_type": "display_data"
    },
    {
     "data": {
      "text/plain": [
       "count    22412.000000\n",
       "mean        10.733759\n",
       "std          6.562347\n",
       "min          1.000000\n",
       "25%          5.000000\n",
       "50%          9.000000\n",
       "75%         16.000000\n",
       "max         60.000000\n",
       "Name: floors_total, dtype: float64"
      ]
     },
     "execution_count": 48,
     "metadata": {},
     "output_type": "execute_result"
    }
   ],
   "source": [
    "#построим гистограмму по столбцу с общим количеством этажей\n",
    "data.plot(y='floors_total', kind='hist', bins=20, grid=True, figsize=(7, 5), range=(0, 40), title='Общее количество этажей')\n",
    "plt.show()\n",
    "#сделаем числовое описание данных по общему количеству этажей\n",
    "data['floors_total'].describe()"
   ]
  },
  {
   "cell_type": "markdown",
   "metadata": {},
   "source": [
    "Как видно из гистограммы, общее количество этажей в домах, где находятся квартиры, варьируются от 2 до 25. При этом пики приходятся на такие значения как 5, 9, 17, 25 этажей, остальные представлены меньше. Такое распределение может быть связано с населенным пунктом и с местонахождением жилого комплекса. В поселках этажность домов будет меньше, чем в крупных населенных пунктах. Также отмечаются единичные квартиры, находящиеся в домах с количеством этажей выше 30 - это может быть ошибкой заполнения, а, может, такие высотные дома действительно присутствуют (в больших населенных пунктах)."
   ]
  },
  {
   "cell_type": "markdown",
   "metadata": {},
   "source": [
    "**Изучим расстояние до центра города в метрах.**"
   ]
  },
  {
   "cell_type": "code",
   "execution_count": 49,
   "metadata": {},
   "outputs": [
    {
     "data": {
      "image/png": "[encoded data removed]",
      "text/plain": [
       "<Figure size 504x360 with 1 Axes>"
      ]
     },
     "metadata": {
      "needs_background": "light"
     },
     "output_type": "display_data"
    },
    {
     "data": {
      "text/plain": [
       "count    17341.000000\n",
       "mean     14385.569517\n",
       "std       8578.828645\n",
       "min        208.000000\n",
       "25%       9629.000000\n",
       "50%      13222.000000\n",
       "75%      16379.000000\n",
       "max      65968.000000\n",
       "Name: cityCenters_nearest, dtype: float64"
      ]
     },
     "execution_count": 49,
     "metadata": {},
     "output_type": "execute_result"
    }
   ],
   "source": [
    "#построим гистограмму по столбцу с расстоянием до центра города\n",
    "data.plot(y='cityCenters_nearest', kind='hist', bins=100, grid=True, figsize=(7, 5), range=(0, 70000), title='Расстояние до центра города')\n",
    "plt.show()\n",
    "#сделаем числовое описание данных по расстоянию до центра города\n",
    "data['cityCenters_nearest'].describe()"
   ]
  },
  {
   "cell_type": "markdown",
   "metadata": {},
   "source": [
    "Большая часть квартир в нашей выборке находится от 5000 до 19000 м от центра города. Первый пик приходится на примерно 5000 м от центра города - это могут быть либо небольшие населенные пункты, либо квартиры в больших населенных пунктах, но находящиеся близко к центру. Второй пик приходится на 10000 - 17000 м от центра - это могут быть квартиры в больших городах, либо квартиры в близлежайших к небольшим городам поселках. Есть небольшое количество квартир, находящихся более чем в 30000 м от центра, скорее всего они находятся в поселках, отдаленных от города."
   ]
  },
  {
   "cell_type": "markdown",
   "metadata": {},
   "source": [
    "**Изучим расстояние до ближайшего парка.**"
   ]
  },
  {
   "cell_type": "code",
   "execution_count": 50,
   "metadata": {},
   "outputs": [
    {
     "data": {
      "image/png": "[encoded data removed]",
      "text/plain": [
       "<Figure size 504x360 with 1 Axes>"
      ]
     },
     "metadata": {
      "needs_background": "light"
     },
     "output_type": "display_data"
    },
    {
     "data": {
      "text/plain": [
       "count    7631.000000\n",
       "mean      493.215830\n",
       "std       342.689207\n",
       "min         1.000000\n",
       "25%       289.000000\n",
       "50%       456.000000\n",
       "75%       614.000000\n",
       "max      3190.000000\n",
       "Name: parks_nearest, dtype: float64"
      ]
     },
     "execution_count": 50,
     "metadata": {},
     "output_type": "execute_result"
    }
   ],
   "source": [
    "#построим гистограмму по столбцу с расстоянием до ближайшего парка\n",
    "data.plot(y='parks_nearest', kind='hist', bins=100, grid=True, figsize=(7, 5), range=(0, 3500), title='Расстояние до ближайшего парка')\n",
    "plt.show()\n",
    "#сделаем числовое описание данных по расстоянию до ближайшего парка\n",
    "data['parks_nearest'].describe()"
   ]
  },
  {
   "cell_type": "markdown",
   "metadata": {},
   "source": [
    "На гистограмме видим один пик. Он показывает, что большее количество квартир находится на расстоянии 200 - 750 м от парка."
   ]
  },
  {
   "cell_type": "markdown",
   "metadata": {},
   "source": [
    "**Вывод:**\n",
    "\n",
    "**Общая площадь** большинства квартир до 100 метров квадратных. Видим пики на гистограмме в области 30, 40 и 45 метров квадратных - это по нашему предположению могут быть однокомнатные квартиры и их большинство в объявлениях. Далее пик в области 50-65 квадратных метров - это двухкомнатные квартиры.\n",
    "\n",
    "**Жилая площадь.** Большая часть квартир представлена с жилой площадью в диапазоне от 10 до 50 метров квадратных. Наблюдаем также нестандартные значения жилой площади, например, слишком маленькие - менее 15 квадратных метров, или более 200 метров квадратных.\n",
    "\n",
    "**Площадь кухни.** Наибольшая часть квартир имеют кухни с площадью в диапазоне с 5 до 15 метров квадратных. Кухни с площадью более 30 метров квадратных встречаются единично.\n",
    "\n",
    "**Цена объекта.** Большая часть квартир находится в диапазоне стоимости от 2 до 7,5 миллионов рублей. Самый пик приходится примерно на 4 миллиона. Меньше встречается квартир стоимостью от 10 миллионов. Свыше 20 миллионов - единичные квартиры.\n",
    "\n",
    "**Количество комнат.** Большинство квартир имеют 1, 2, 3 комнаты. Меньше квартир имеют больше 4 комнат.\n",
    "\n",
    "**Высота потолков.** Самая распространенная высота потолков от 2,5 до 2,8 метров. Квартиры с высотой потолков выше 3 метров встречаются реже.\n",
    "\n",
    "**Тип этажа.** Больше всего квартир находятся на этажах с типом \"другой\" (т.е. с первого по последний), их около 17500 штук. Квартир, находящихся на первом и последнем этажах, примерно одинаковое количество (около 3000 штук).\n",
    "\n",
    "**Общее количество этажей.** Общее количество этажей в домах, где находятся квартиры, варьируются от 2 до 25. При этом пики приходятся на такие значения как 5, 9, 17, 25 этажей, остальные представлены меньше. Такое распределение может быть связано с населенным пунктом и с местонахождением жилого комплекса. В поселках этажность домов будет меньше, чем в крупных населенных пунктах. Также отмечаются единичные квартиры, находящиеся в домах с количеством этажей выше 30 - это может быть ошибкой заполнения, а, может, такие высотные дома действительно присутствуют (в больших населенных пунктах).\n",
    "\n",
    "**Расстояние от центра города.** Большая часть квартир в нашей выборке находится от 5000 до 19000 м от центра города. Первый пик приходится на примерно 5000 м от центра города - это могут быть либо небольшие населенные пункты, либо квартиры в больших населенных пунктах, но находящиеся близко к центру. Второй пик приходится на 10000 - 17000 м от центра - это могут быть квартиры в больших городах, либо квартиры в близлежайших к небольшим городам поселках. Есть небольшое количество квартир, находящихся более чем в 30000 м от центра, скорее всего они находятся в поселках, отдаленных от города.\n",
    "\n",
    "**Расстояние до парка.** Большее количество квартир находится на расстоянии 200 - 750 м от парка."
   ]
  },
  {
   "cell_type": "markdown",
   "metadata": {},
   "source": [
    "#### Изучим, как быстро продавались квартиры.  Сколько обычно занимает продажа. Какие продажи можно считать быстрыми, а какие — необычно долгими?"
   ]
  },
  {
   "cell_type": "code",
   "execution_count": 51,
   "metadata": {},
   "outputs": [
    {
     "data": {
      "image/png": "[encoded data removed]",
      "text/plain": [
       "<Figure size 504x360 with 1 Axes>"
      ]
     },
     "metadata": {
      "needs_background": "light"
     },
     "output_type": "display_data"
    },
    {
     "data": {
      "text/plain": [
       "count    19442.000000\n",
       "mean       180.017848\n",
       "std        218.508326\n",
       "min          1.000000\n",
       "25%         45.000000\n",
       "50%         95.000000\n",
       "75%        230.000000\n",
       "max       1580.000000\n",
       "Name: days_exposition, dtype: float64"
      ]
     },
     "execution_count": 51,
     "metadata": {},
     "output_type": "execute_result"
    }
   ],
   "source": [
    "#построим гистограмму по столбцу days_exposition\n",
    "data[data['days_exposition'] !=0]['days_exposition'].plot(y='days_exposition', kind='hist', bins=100, grid=True, figsize=(7, 5), range=(0, 1600), title='Продолжительность размещения объявления')\n",
    "plt.show()\n",
    "#сделаем числовое описание данных по столбцу days_exposition\n",
    "data[data['days_exposition'] !=0]['days_exposition'].describe()"
   ]
  },
  {
   "cell_type": "code",
   "execution_count": 52,
   "metadata": {},
   "outputs": [
    {
     "name": "stdout",
     "output_type": "stream",
     "text": [
      "Медиана: 95.0\n",
      "Cреднее: 180.0\n"
     ]
    }
   ],
   "source": [
    "#посчитаем медиану и среднее по столбцу days_exposition\n",
    "print('Медиана:', data[data['days_exposition'] !=0]['days_exposition'].median().round())\n",
    "print('Cреднее:', data[data['days_exposition'] !=0]['days_exposition'].mean().round())"
   ]
  },
  {
   "cell_type": "code",
   "execution_count": 53,
   "metadata": {},
   "outputs": [
    {
     "data": {
      "image/png": "[encoded data removed]",
      "text/plain": [
       "<Figure size 432x288 with 1 Axes>"
      ]
     },
     "metadata": {
      "needs_background": "light"
     },
     "output_type": "display_data"
    }
   ],
   "source": [
    "#построим диаграмму размаха\n",
    "plt.boxplot(data[data['days_exposition'] !=0]['days_exposition'])\n",
    "plt.ylim(0, 1000)\n",
    "plt.show()"
   ]
  },
  {
   "cell_type": "code",
   "execution_count": 54,
   "metadata": {},
   "outputs": [
    {
     "data": {
      "image/png": "[encoded data removed]",
      "text/plain": [
       "<Figure size 504x360 with 1 Axes>"
      ]
     },
     "metadata": {
      "needs_background": "light"
     },
     "output_type": "display_data"
    },
    {
     "data": {
      "text/plain": [
       "45      813\n",
       "60      530\n",
       "7       222\n",
       "30      200\n",
       "90      180\n",
       "       ... \n",
       "773       1\n",
       "757       1\n",
       "709       1\n",
       "693       1\n",
       "1391      1\n",
       "Name: days_exposition, Length: 1125, dtype: Int64"
      ]
     },
     "execution_count": 54,
     "metadata": {},
     "output_type": "execute_result"
    }
   ],
   "source": [
    "#построим диаграмму ближе, чтобы рассмотреть выбросы\n",
    "data[data['days_exposition'] !=0]['days_exposition'].plot(y='days_exposition', kind='hist', bins=100, grid=True, figsize=(7, 5), range=(0, 200), title='Продолжительность размещения объявления')\n",
    "plt.show()\n",
    "data[data['days_exposition'] !=0]['days_exposition'].value_counts()"
   ]
  },
  {
   "cell_type": "markdown",
   "metadata": {},
   "source": [
    "**Вывод:**\n",
    "\n",
    "Медианное время продажи квартир 95 дней, среднее - 181 день. На первой гистограмме видно распределение значений близкое к распределению Пуассона.\n",
    "\n",
    "Время продажи квартир варьируется от 1 дня до 1580 дней. В основном квартиры продаются за срок в 100 дней. При этом из метода describe() мы видим, что межквартильный размах от 1 до 231 дня, а по диаграмме размаха - от 1 до примерно 500 дней. Исходя из этого, можно сказать, что необоснованно быстрых значений у нас не имеется, а необоснованно долгими являются значения от 500 дней и выше.\n",
    "\n",
    "На гистограмме построенной в промежутке значений от 0 до 200 видим пики в области значений 7, 30, 45, 60, 90 дней. Это может свидетельствовать об об аномалиях. Причинами снятия объявлений в эти дни могут быть правила размещения объявлений на Яндекс.Недвижимось, но также квартиры действительно могли продаваться в этот срок. Прежде, чем избавляться от этих значений необходимо уточнить у сотрудников причины аномальных значений по датам снятия объявлений."
   ]
  },
  {
   "cell_type": "markdown",
   "metadata": {},
   "source": [
    "#### Какие факторы больше всего влияют на общую (полную) стоимость объекта?"
   ]
  },
  {
   "cell_type": "markdown",
   "metadata": {},
   "source": [
    "**Определим как общая площадь влияет на стоимость объекта.**"
   ]
  },
  {
   "cell_type": "code",
   "execution_count": 55,
   "metadata": {},
   "outputs": [
    {
     "data": {
      "image/png": "[encoded data removed]",
      "text/plain": [
       "<Figure size 720x360 with 1 Axes>"
      ]
     },
     "metadata": {
      "needs_background": "light"
     },
     "output_type": "display_data"
    },
    {
     "name": "stdout",
     "output_type": "stream",
     "text": [
      "Коэффициент корреляции стоимости и общей площади: 0.7844088815767536\n"
     ]
    }
   ],
   "source": [
    "#сделаем cводную таблицу и построим график\n",
    "(\n",
    "    data.query('total_area < 200')\n",
    "    .pivot_table(index='total_area', values='last_price')\n",
    "    .plot(grid=True, style='o', figsize=(10, 5), title='Взаимосвязь общей стоимости квартир от общей площади')\n",
    ")\n",
    "plt.show()\n",
    "\n",
    "#посчитаем коэффициент корреляции Пирсона\n",
    "print('Коэффициент корреляции стоимости и общей площади:', data['last_price'].corr(data['total_area']))"
   ]
  },
  {
   "cell_type": "markdown",
   "metadata": {},
   "source": [
    "Исходя из полученных данных, видим, что коэффициент корреляции Пирсона равен 0,78, что показывает прочную взаимосвязь между стоимостью и общей площадью квартир. Взамосвязь является положительной, т.е. с увеличением общей площади увеличивается и стоимость жилья."
   ]
  },
  {
   "cell_type": "markdown",
   "metadata": {},
   "source": [
    "**Определим как жилая площадь влияет на стоимость квартир.**"
   ]
  },
  {
   "cell_type": "code",
   "execution_count": 56,
   "metadata": {},
   "outputs": [
    {
     "data": {
      "image/png": "[encoded data removed]",
      "text/plain": [
       "<Figure size 504x360 with 1 Axes>"
      ]
     },
     "metadata": {
      "needs_background": "light"
     },
     "output_type": "display_data"
    },
    {
     "name": "stdout",
     "output_type": "stream",
     "text": [
      "Коэффициент корреляции стоимости и жилой площади: 0.6776883910586777\n"
     ]
    }
   ],
   "source": [
    "#сделаем cводную таблицу и построим график\n",
    "(\n",
    "    data.pivot_table(index='living_area', values='last_price')\n",
    "    .plot(grid=True, style='o', figsize=(7, 5), title='Взаимосвязь общей стоимости квартир от жилой площади')\n",
    ")\n",
    "plt.show()\n",
    "\n",
    "#посчитаем коэффициент корреляции Пирсона\n",
    "print('Коэффициент корреляции стоимости и жилой площади:', data['last_price'].corr(data['living_area']))"
   ]
  },
  {
   "cell_type": "markdown",
   "metadata": {},
   "source": [
    "Коэффициент корреляции общей стоимости квартиры и жилой площади равен 0,67, что свидетельствует о сильной взаимосвязи между двумя показателями. Взаимосвязь между показателями является положительной - чем больше жилая площадь, тем больше стоимость."
   ]
  },
  {
   "cell_type": "markdown",
   "metadata": {},
   "source": [
    "**Определим как площадь кухни влияет на стоимость квартир.**"
   ]
  },
  {
   "cell_type": "code",
   "execution_count": 57,
   "metadata": {},
   "outputs": [
    {
     "data": {
      "image/png": "[encoded data removed]",
      "text/plain": [
       "<Figure size 504x360 with 1 Axes>"
      ]
     },
     "metadata": {
      "needs_background": "light"
     },
     "output_type": "display_data"
    },
    {
     "name": "stdout",
     "output_type": "stream",
     "text": [
      "Коэффициент корреляции стоимости и площади кухни: 0.6136680473919114\n"
     ]
    }
   ],
   "source": [
    "#сделаем cводную таблицу и построим график\n",
    "(\n",
    "    data.pivot_table(index='kitchen_area', values='last_price')\n",
    "    .plot(grid=True, style='o', figsize=(7, 5), title='Взаимосвязь общей стоимости квартир от площади кухни')\n",
    ")\n",
    "plt.show()\n",
    "\n",
    "#посчитаем коэффициент корреляции Пирсона\n",
    "print('Коэффициент корреляции стоимости и площади кухни:', data['last_price'].corr(data['kitchen_area']))"
   ]
  },
  {
   "cell_type": "markdown",
   "metadata": {},
   "source": [
    "При изучении зависимости стоимости жилья от площади кухни наблюдаем, что коэффициент корреляции, равный 0,61, показывает, что связь между этими показателями не очень сильная. При этом взаимосвязь имеет положительный характер. При увеличении площади кухни, стоимость жилья выше."
   ]
  },
  {
   "cell_type": "markdown",
   "metadata": {},
   "source": [
    "**Определим как количество комнат влияет на стоимость квартир.**"
   ]
  },
  {
   "cell_type": "code",
   "execution_count": 58,
   "metadata": {},
   "outputs": [
    {
     "data": {
      "image/png": "[encoded data removed]",
      "text/plain": [
       "<Figure size 504x360 with 1 Axes>"
      ]
     },
     "metadata": {
      "needs_background": "light"
     },
     "output_type": "display_data"
    },
    {
     "name": "stdout",
     "output_type": "stream",
     "text": [
      "Коэффициент корреляции стоимости и количества комнат: 0.49089407361985854\n"
     ]
    }
   ],
   "source": [
    "#сделаем cводную таблицу и построим график\n",
    "(\n",
    "    data.query('0 < rooms < 7')\n",
    "    .pivot_table(index='rooms', values='last_price')\n",
    "    .plot(grid=True, style='o-', figsize=(7, 5), title='Взаимосвязь общей стоимости квартир от количества комнат')\n",
    ")\n",
    "plt.show()\n",
    "\n",
    "#посчитаем коэффициент корреляции Пирсона\n",
    "print('Коэффициент корреляции стоимости и количества комнат:', data['last_price'].corr(data['rooms']))"
   ]
  },
  {
   "cell_type": "markdown",
   "metadata": {},
   "source": [
    "Число комнат влияет на общую стоимость жилья: чем больше комнат, тем выше стоимость. При этом связь между этими показателями по коэффициенту корреляции (0,49) является не очень прочной."
   ]
  },
  {
   "cell_type": "markdown",
   "metadata": {},
   "source": [
    "**Определим как этаж, на котором расположена квартира, влияет на стоимость квартир.**"
   ]
  },
  {
   "cell_type": "code",
   "execution_count": 59,
   "metadata": {},
   "outputs": [
    {
     "data": {
      "image/png": "[encoded data removed]",
      "text/plain": [
       "<Figure size 504x360 with 1 Axes>"
      ]
     },
     "metadata": {
      "needs_background": "light"
     },
     "output_type": "display_data"
    }
   ],
   "source": [
    "#сделаем cводную таблицу и построим график\n",
    "(\n",
    "    data.pivot_table(index='floor_type', values='last_price', aggfunc='median')\n",
    "    .plot(grid=True, style='o-', figsize=(7, 5), title='Взаимосвязь общей стоимости квартир от этажа')\n",
    ")\n",
    "plt.show()"
   ]
  },
  {
   "cell_type": "markdown",
   "metadata": {},
   "source": [
    "На графике видим, что этаж, на котором расположена квартира, влияет на стоимость жилья. Дешевле квартиры, которые находятся на первом и последнем этажах. Стоимость квартир, находящихся на этажах между первым и последним - выше."
   ]
  },
  {
   "cell_type": "markdown",
   "metadata": {},
   "source": [
    "**Определим как даты размещения *(день недели, месяц, год)* влияют на стоимость квартир.**"
   ]
  },
  {
   "cell_type": "code",
   "execution_count": 60,
   "metadata": {},
   "outputs": [
    {
     "data": {
      "image/png": "[encoded data removed]",
      "text/plain": [
       "<Figure size 504x360 with 1 Axes>"
      ]
     },
     "metadata": {
      "needs_background": "light"
     },
     "output_type": "display_data"
    }
   ],
   "source": [
    "#сделаем cводную таблицу и построим график взаимосвязи дня недели размещения объявления и стоимостью\n",
    "(\n",
    "    data.pivot_table(index='exposition_weekday', values='last_price', aggfunc='median')\n",
    "    .plot(grid=True, style='o-', figsize=(7, 5), title='Взаимосвязь общей стоимости квартир от дня недели размещения объявления')\n",
    ")\n",
    "plt.show()"
   ]
  },
  {
   "cell_type": "markdown",
   "metadata": {},
   "source": [
    "На графике видим, что квартиры, размещенные во пятницу, субботу и воскресенье самые дешевые, а размещенные во вторник и среду - самые дорогие. В понедельник и четверг видим, что цена совпадает. Возможно, такое распределение стоимости по дням недели размещения объявлений связано с трафиком людей на платформе."
   ]
  },
  {
   "cell_type": "code",
   "execution_count": 61,
   "metadata": {},
   "outputs": [
    {
     "data": {
      "image/png": "[encoded data removed]",
      "text/plain": [
       "<Figure size 720x360 with 1 Axes>"
      ]
     },
     "metadata": {
      "needs_background": "light"
     },
     "output_type": "display_data"
    }
   ],
   "source": [
    "#сделаем cводную таблицу и построим график взаимосвязи месяца размещения объявления и стоимостью\n",
    "(\n",
    "    data.pivot_table(index='exposition_month', values='last_price', aggfunc='median')\n",
    "    .plot(grid=True, style='o-', figsize=(10, 5), title='Взаимосвязь общей стоимости квартир от месяца размещения объявления')\n",
    ")\n",
    "plt.show()"
   ]
  },
  {
   "cell_type": "markdown",
   "metadata": {},
   "source": [
    "Что касается месяцев размещения объявлений, наблюдаем, что объявления с самыми дорогими квартирами размещаются в апреле, сентябре и ноябре, а с самыми дешевыми в мае и июне. Это может быть связано с сезонностью рынка недвижимости, изменениями цен за квадратный метр на недвижимость."
   ]
  },
  {
   "cell_type": "code",
   "execution_count": 62,
   "metadata": {},
   "outputs": [
    {
     "data": {
      "image/png": "[encoded data removed]",
      "text/plain": [
       "<Figure size 720x360 with 1 Axes>"
      ]
     },
     "metadata": {
      "needs_background": "light"
     },
     "output_type": "display_data"
    }
   ],
   "source": [
    "#сделаем cводную таблицу и построим график взаимосвязи года размещения объявления и стоимостью\n",
    "(\n",
    "    data.pivot_table(index='exposition_year', values='last_price', aggfunc='median')\n",
    "    .plot(grid=True, style='o-', figsize=(10, 5), title='Взаимосвязь общей стоимости квартир от года размещения объявления')\n",
    ")\n",
    "plt.show()"
   ]
  },
  {
   "cell_type": "markdown",
   "metadata": {},
   "source": [
    "Стоимость квартир с 2014 года начала резко снижаться, с 2016 по 2018 годы оставалась довольно низкой и с 2018 года начала расти. Такая динамика цен может быть связана с кризисом 2014 - 2015 годов."
   ]
  },
  {
   "cell_type": "markdown",
   "metadata": {},
   "source": [
    "**Вывод:**\n",
    "\n",
    "Мы изучили, зависит ли цена квартир от их общей площади, жилой площади, площади кухни, количества комнат, этажа, накотором расположена квартира и даты размещения.\n",
    "\n",
    "**Общая площадь.** С увеличением общей площади увеличивается и стоимость жилья.\n",
    "\n",
    "**Жилая площадь.** Взаимосвязь между показателями является положительной - чем больше жилая площадь, тем больше стоимость.\n",
    "\n",
    "**Площадь кухни.** При увеличении площади кухни, стоимость жилья выше.\n",
    "\n",
    "**Количество комнат.** Число комнат влияет на общую стоимость жилья: чем больше комнат, тем выше стоимость. При этом связь между этими показателями по коэффициенту корреляции (0,49) является не очень прочной.\n",
    "\n",
    "**Этаж.** Дешевле квартиры, которые находятся на первом и последнем этажах. Стоимость квартир, находящихся на этажах между первым и последним - выше.\n",
    "\n",
    "**День размещения объявления.** Квартиры, размещенные во пятницу, субботу и воскресенье самые дешевые, а размещенные во вторник и среду - самые дорогие. В понедельник и четверг видим, что цена совпадает. Возможно, такое распределение стоимости по дням недели размещения объявлений связано с трафиком людей на платформе.\n",
    "\n",
    "**Месяц размещения объявления.** Объявления с самыми дорогими квартирами размещаются в апреле, сентябре и ноябре, а с самыми дешевыми в мае и июне. Это может быть связано с сезонностью рынка недвижимости, изменениями цен за квадратный метр на недвижимость.\n",
    "\n",
    "**Год размещения объявления.** Стоимость квартир с 2014 года начала резко снижаться, с 2016 по 2018 годы оставалась довольно низкой и с 2018 года начала расти. Такая динамика цен может быть связана с кризисом 2014 - 2015 годов."
   ]
  },
  {
   "cell_type": "markdown",
   "metadata": {},
   "source": [
    "#### Посчитаем среднюю цену одного квадратного метра в 10 населённых пунктах с наибольшим числом объявлений — построим сводную таблицу с количеством объявлений и средней ценой квадратного метра для этих населенных пунктов. Выделим населённые пункты с самой высокой и низкой стоимостью квадратного метра."
   ]
  },
  {
   "cell_type": "code",
   "execution_count": 63,
   "metadata": {},
   "outputs": [
    {
     "data": {
      "text/plain": [
       "Санкт-Петербург      14968\n",
       "поселок Мурино         490\n",
       "поселок Шушары         429\n",
       "Всеволожск             390\n",
       "Пушкин                 357\n",
       "Колпино                336\n",
       "поселок Парголово      323\n",
       "Гатчина                300\n",
       "деревня Кудрово        270\n",
       "Выборг                 228\n",
       "Name: locality_name, dtype: int64"
      ]
     },
     "metadata": {},
     "output_type": "display_data"
    }
   ],
   "source": [
    "#найдем топ-10 населенных пунктов по количеству объявлений\n",
    "top_ten_cities = data['locality_name'].value_counts().head(10)\n",
    "display(top_ten_cities)"
   ]
  },
  {
   "cell_type": "code",
   "execution_count": 64,
   "metadata": {},
   "outputs": [
    {
     "data": {
      "text/html": [
       "<div>\n",
       "<style scoped>\n",
       "    .dataframe tbody tr th:only-of-type {\n",
       "        vertical-align: middle;\n",
       "    }\n",
       "\n",
       "    .dataframe tbody tr th {\n",
       "        vertical-align: top;\n",
       "    }\n",
       "\n",
       "    .dataframe thead th {\n",
       "        text-align: right;\n",
       "    }\n",
       "</style>\n",
       "<table border=\"1\" class=\"dataframe\">\n",
       "  <thead>\n",
       "    <tr style=\"text-align: right;\">\n",
       "      <th></th>\n",
       "      <th>Населенный пункт</th>\n",
       "      <th>Количество объявлений</th>\n",
       "      <th>Средняя цена за квадратный метр</th>\n",
       "    </tr>\n",
       "  </thead>\n",
       "  <tbody>\n",
       "    <tr>\n",
       "      <th>5</th>\n",
       "      <td>Санкт-Петербург</td>\n",
       "      <td>14968</td>\n",
       "      <td>110330.0</td>\n",
       "    </tr>\n",
       "    <tr>\n",
       "      <th>4</th>\n",
       "      <td>Пушкин</td>\n",
       "      <td>357</td>\n",
       "      <td>102912.0</td>\n",
       "    </tr>\n",
       "    <tr>\n",
       "      <th>6</th>\n",
       "      <td>деревня Кудрово</td>\n",
       "      <td>270</td>\n",
       "      <td>91851.0</td>\n",
       "    </tr>\n",
       "    <tr>\n",
       "      <th>8</th>\n",
       "      <td>поселок Парголово</td>\n",
       "      <td>323</td>\n",
       "      <td>90429.0</td>\n",
       "    </tr>\n",
       "    <tr>\n",
       "      <th>7</th>\n",
       "      <td>поселок Мурино</td>\n",
       "      <td>490</td>\n",
       "      <td>84504.0</td>\n",
       "    </tr>\n",
       "    <tr>\n",
       "      <th>9</th>\n",
       "      <td>поселок Шушары</td>\n",
       "      <td>429</td>\n",
       "      <td>78049.0</td>\n",
       "    </tr>\n",
       "    <tr>\n",
       "      <th>3</th>\n",
       "      <td>Колпино</td>\n",
       "      <td>336</td>\n",
       "      <td>75240.0</td>\n",
       "    </tr>\n",
       "    <tr>\n",
       "      <th>2</th>\n",
       "      <td>Гатчина</td>\n",
       "      <td>300</td>\n",
       "      <td>69052.0</td>\n",
       "    </tr>\n",
       "    <tr>\n",
       "      <th>0</th>\n",
       "      <td>Всеволожск</td>\n",
       "      <td>390</td>\n",
       "      <td>68644.0</td>\n",
       "    </tr>\n",
       "    <tr>\n",
       "      <th>1</th>\n",
       "      <td>Выборг</td>\n",
       "      <td>228</td>\n",
       "      <td>58360.0</td>\n",
       "    </tr>\n",
       "  </tbody>\n",
       "</table>\n",
       "</div>"
      ],
      "text/plain": [
       "    Населенный пункт  Количество объявлений  Средняя цена за квадратный метр\n",
       "5    Санкт-Петербург                  14968                         110330.0\n",
       "4             Пушкин                    357                         102912.0\n",
       "6    деревня Кудрово                    270                          91851.0\n",
       "8  поселок Парголово                    323                          90429.0\n",
       "7     поселок Мурино                    490                          84504.0\n",
       "9     поселок Шушары                    429                          78049.0\n",
       "3            Колпино                    336                          75240.0\n",
       "2            Гатчина                    300                          69052.0\n",
       "0         Всеволожск                    390                          68644.0\n",
       "1             Выборг                    228                          58360.0"
      ]
     },
     "metadata": {},
     "output_type": "display_data"
    },
    {
     "name": "stdout",
     "output_type": "stream",
     "text": [
      "Максамальная цена за квадратный метр: 110330.0\n",
      "Минимальная цена за квадратный метр: 58360.0\n"
     ]
    }
   ],
   "source": [
    "#построим сводную таблицу\n",
    "locality_pivot = (\n",
    "    data.query('locality_name in @top_ten_cities.index')\n",
    "    .pivot_table(index='locality_name', values='square_meter_price', aggfunc=('count', 'mean'))\n",
    "    .reset_index()\n",
    "    .round()\n",
    "    .sort_values(by='mean', ascending=False)\n",
    ")\n",
    "locality_pivot.columns = ['Населенный пункт', 'Количество объявлений', 'Средняя цена за квадратный метр']\n",
    "display(locality_pivot)\n",
    "\n",
    "print('Максамальная цена за квадратный метр:', locality_pivot['Средняя цена за квадратный метр'].max())\n",
    "print('Минимальная цена за квадратный метр:', locality_pivot['Средняя цена за квадратный метр'].min())"
   ]
  },
  {
   "cell_type": "markdown",
   "metadata": {},
   "source": [
    "**Вывод:**\n",
    "Максимальная стоимость за квадратный метр жилья в Санкт-Петербурге, она составляет 110335 рублей, что ожидаемо. Следом идет город Пушкин. Стоимость за квадратный метр в нем составляет 103687 рублей, что может быть связано с тем, что в городе есть много достопримечательностей, садов и парков. Затем идут населенные пункты, непосредственно прилегающие к Санкт-Петербургу. Низкие цены зафиксированы в Гатчине и Всеволожске. Самая минимальная цена (58432 рубля за квадратный метр) в Выборге. Такие низкие цены могут быть связаны с отбаленностью от Санкт-Петербурга."
   ]
  },
  {
   "cell_type": "markdown",
   "metadata": {},
   "source": [
    "#### Выделим квартиры в Санкт-Петербурге и вычислим среднюю цену каждого километра. Опишем, как стоимость объектов зависит от расстояния до центра города — построим график изменения средней цены для каждого километра от центра Петербурга."
   ]
  },
  {
   "cell_type": "code",
   "execution_count": 65,
   "metadata": {},
   "outputs": [
    {
     "data": {
      "image/png": "[encoded data removed]",
      "text/plain": [
       "<Figure size 720x360 with 1 Axes>"
      ]
     },
     "metadata": {
      "needs_background": "light"
     },
     "output_type": "display_data"
    }
   ],
   "source": [
    "#выделим квартиры в Санкт-Петербурге, построим сводную таблицу и график\n",
    "(\n",
    "    data.query('locality_name == \"Санкт-Петербург\"')\n",
    "    .pivot_table(index='city_center_distance', values='last_price')\n",
    "    .plot(grid=True, style='o-', figsize=(10, 5), title='Средняя цена каждого километра в Санкт-Петербурге')\n",
    ")\n",
    "plt.show()"
   ]
  },
  {
   "cell_type": "markdown",
   "metadata": {},
   "source": [
    "**Вывод:**\n",
    "По графику видим, что, в общем, существует тенденция снижения цены при каждом километре удаления от центра. Однако, при 3 км видим резкое снижение цены квартир, а потом до 5 км подъем. Очень непонятное явление. Это может говорить о возможной ошибке при внесении данных - необходимо уточнить у сотрудников. Тем не менее, центральной можно считать область до 7 км."
   ]
  },
  {
   "cell_type": "markdown",
   "metadata": {},
   "source": [
    "### Общий вывод"
   ]
  },
  {
   "cell_type": "markdown",
   "metadata": {},
   "source": [
    "Итак, мы провели исследование объявлений о продаже квартир. На основании чего установили параметры, которые влияют на стоимость квартир.\n",
    "\n",
    "Для начала мы изучили все данные. Выявили, что во многих столбцах были пропуски и неверно определены типы данных. Мы, впоследствии, провели над этим работу. Выявили пропуски в столбцах balcony, parks_around3000, ponds_around3000 и заменили их на 0, т.к. количество парков, водоемов и балконов не указано продавцом, в связи с тем, что их нет. В столбце days_exposition пропуски решили оставить, т.к. эти объявления еще не сняты и квартира не продана. В столбце is_apartment произвели замену пропусков на False, потому что, апартаменты, скорее всего, появились в нашем списке совсем недавно, относительно остальных данных. В столбце с общим количеством этажей выявленные пропуски было решено удалить, т.к. их очень мало и на результат исследования это не повлияет. Пропуски в столбце с высотой потолков заменили медианным значением, т.к. нашли в нем некоторое количество аномальных значений, а медиана более устойчива к выбросам. В столбцах living_area и kitchen area произвели замену пропусков, рассчитав жилую площадь и площадь кухни на основании среднего процента жилой площади и кухни, соответственно, от общей площади.\n",
    "Произвели замену типа данных в столбце first_day_exposition со строчного на datetime. Столбцы floors_total, balcony, parks_around3000, ponds_around3000, days_exposition привели к типу int, т.к. эти данные выражаются только целыми числами. Столбец is_apartment привели к типу bool, вместо object.\n",
    "В столбце с названиями населенных пунктов нашли дубликаты, произвели их замену и пропуски решили удалить, в связи с малым количеством.\n",
    "\n",
    "Для удобства исследования в наш датафрейм добавили следующие столбцы:\n",
    "\n",
    "•\tцена одного квадратного метра (square_meter_price);\n",
    "\n",
    "•\tдень недели публикации объявления (exposition_weekday);\n",
    "\n",
    "•\tмесяц публикации объявления (exposition_month);\n",
    "\n",
    "•\tгод публикации объявления (exposition_year);\n",
    "\n",
    "•\tтип этажа квартиры (floor_type);\n",
    "\n",
    "•\tрасстояние до центра города в км (city_center_distance).\n",
    "\n",
    "Изучив основные параметры, выявили, что:\n",
    "\n",
    "**Общая площадь** большинства квартир до 100 метров квадратных. Видим пики на гистограмме в области 30, 40 и 45 метров квадратных - это по нашему предположению могут быть однокомнатные квартиры и их большинство в объявлениях. Далее пик в области 50-65 квадратных метров - это двухкомнатные квартиры.\n",
    "\n",
    "**Жилая площадь.** Большая часть квартир представлена с жилой площадью в диапазоне от 10 до 50 метров квадратных. \n",
    "\n",
    "**Площадь кухни.** Наибольшая часть квартир имеют кухни с площадью в диапазоне с 5 до 15 метров квадратных. Кухни с площадью более 30 метров квадратных встречаются единично.\n",
    "\n",
    "**Цена объекта.** Большая часть квартир находится в диапазоне стоимости от 2 до 7,5 миллионов рублей. Самый пик приходится примерно на 4 миллиона. Меньше встречается квартир стоимостью от 10 миллионов. Свыше 20 миллионов - единичные квартиры.\n",
    "\n",
    "**Количество комнат.** Большинство квартир имеют 1, 2, 3 комнаты. Меньше квартир имеют больше 4 комнат.\n",
    "\n",
    "**Высота потолков.** Самая распространенная высота потолков от 2,5 до 2,8 метров. Квартиры с высотой потолков выше 3 метров встречаются реже.\n",
    "\n",
    "**Тип этажа.** Больше всего квартир находятся на этажах с типом \"другой\" (т.е. с первого по последний), их около 17500 штук. Квартир, находящихся на первом и последнем этажах, примерно одинаковое количество (около 3000 штук).\n",
    "\n",
    "**Общее количество этажей.** Общее количество этажей в домах, где находятся квартиры, варьируются от 2 до 25. При этом пики приходятся на такие значения как 5, 9, 17, 25 этажей, остальные представлены меньше. Такое распределение может быть связано с населенным пунктом и с местонахождением жилого комплекса. В поселках этажность домов будет меньше, чем в крупных населенных пунктах. Также отмечаются единичные квартиры, находящиеся в домах с количеством этажей выше 30 - это может быть ошибкой заполнения, а, может, такие высотные дома действительно присутствуют (в больших населенных пунктах).\n",
    "\n",
    "**Расстояние от центра города.** Большая часть квартир в нашей выборке находится от 5000 до 19000 м от центра города. Первый пик приходится на примерно 5000 м от центра города - это могут быть либо небольшие населенные пункты, либо квартиры в больших населенных пунктах, но находящиеся близко к центру. Второй пик приходится на 10000 - 17000 м от центра - это могут быть квартиры в больших городах, либо квартиры в близлежащих к небольшим городам поселках. Есть небольшое количество квартир, находящихся более чем в 30000 м от центра, скорее всего они находятся в поселках, отдаленных от города.\n",
    "\n",
    "**Расстояние до парка.** Большее количество квартир находится на расстоянии 200 - 750 м от парка.\n",
    "\n",
    "Проанализировав *сроки продажи квартир*, увидели, что квартиры продавались в общем от 1 до 1580 дней. В основном квартиры продаются за срок в 100 дней. Межквартильный размах от 1 до 231 дня, а по диаграмме размаха - от 1 до примерно 500 дней. Исходя из этого, можно сказать, что необоснованно быстрых значений у нас не имеется, а необоснованно долгими являются значения от 500 дней и выше.\n",
    "\n",
    "Мы изучили, *зависит ли цена квартир от их общей площади, жилой площади, площади кухни, количества комнат, этажа, на котором расположена квартира и даты размещения*. \n",
    "Взаимосвязь между показателями общей площади, жилой площади, площади кухни, количества комнат и стоимостью являестя положительной, т.е. чем больше показатель, тем выше цена. При этом взаимосвязь стоимости с общей, жилой площадью и площадью кухни является сильной, а с количеством комнат менее прочной. \n",
    "Также стоимость квартиры зависит от этажа, на котором она находится. Дешевле квартиры на первом и последнем этажах, на остальных этажах квартиры дороже.\n",
    "Квартиры, размещенные во пятницу, субботу и воскресенье самые дешевые, а размещенные во вторник и среду - самые дорогие. В понедельник и четверг видим, что цена совпадает. Возможно, такое распределение стоимости по дням недели размещения объявлений связано с трафиком людей на платформе.\n",
    "Объявления с самыми дорогими квартирами размещаются в апреле, сентябре и ноябре, а с самыми дешевыми в мае и июне. Это может быть связано с сезонностью рынка недвижимости, изменениями цен за квадратный метр на недвижимость.\n",
    "Стоимость квартир с 2014 года начала резко снижаться, с 2016 по 2018 годы оставалась довольно низкой и с 2018 года начала расти. Такая динамика цен может быть связана с кризисом 2014 - 2015 годов.\n",
    "\n",
    "*Максимальная стоимость за квадратный метр жилья* в Санкт-Петербурге, она составляет 110335 рублей, что ожидаемо. Следом идет город Пушкин. Стоимость за квадратный метр в нем составляет 103687 рублей, что может быть связано с тем, что в городе есть много достопримечательностей, садов и парков. Затем идут населенные пункты, непосредственно прилегающие к Санкт-Петербургу. Низкие цены зафиксированы в Гатчине и Всеволожске. *Самая минимальная цена* (58432 рубля за квадратный метр) в Выборге. Такие низкие цены могут быть связаны с отбаленностью от Санкт-Петербурга.\n",
    "\n",
    "Рассмотрев *стоимость квартир в Санкт-Петербурге* выявили, что существует тенденция снижения цены при каждом километре удаления от центра. Однако, при 3 км видим резкое снижение цены квартир, а потом до 5 км подъем. Очень непонятное явление. Это может говорить о возможной ошибке при внесении данных - необходимо уточнить у сотрудников. Тем не менее, центральной можно считать область до 7 км."
   ]
  }
 ],
 "metadata": {
  "ExecuteTimeLog": [
   {
    "duration": 809,
    "start_time": "2023-09-19T14:39:12.532Z"
   },
   {
    "duration": 111,
    "start_time": "2023-09-19T14:39:21.228Z"
   },
   {
    "duration": 104,
    "start_time": "2023-09-19T14:40:08.282Z"
   },
   {
    "duration": 76,
    "start_time": "2023-09-19T14:40:24.938Z"
   },
   {
    "duration": 134,
    "start_time": "2023-09-19T14:40:42.375Z"
   },
   {
    "duration": 108,
    "start_time": "2023-09-19T14:41:13.548Z"
   },
   {
    "duration": 148,
    "start_time": "2023-09-19T14:41:20.224Z"
   },
   {
    "duration": 226,
    "start_time": "2023-09-19T14:41:31.989Z"
   },
   {
    "duration": 115,
    "start_time": "2023-09-19T14:41:42.126Z"
   },
   {
    "duration": 140,
    "start_time": "2023-09-19T14:41:51.542Z"
   },
   {
    "duration": 112,
    "start_time": "2023-09-19T14:42:05.985Z"
   },
   {
    "duration": 111,
    "start_time": "2023-09-19T14:43:28.499Z"
   },
   {
    "duration": 98,
    "start_time": "2023-09-19T14:43:47.716Z"
   },
   {
    "duration": 107,
    "start_time": "2023-09-19T14:44:01.360Z"
   },
   {
    "duration": 108,
    "start_time": "2023-09-19T14:45:07.826Z"
   },
   {
    "duration": 97,
    "start_time": "2023-09-19T14:47:03.597Z"
   },
   {
    "duration": 96,
    "start_time": "2023-09-19T14:47:16.081Z"
   },
   {
    "duration": 149,
    "start_time": "2023-09-19T14:48:01.372Z"
   },
   {
    "duration": 121,
    "start_time": "2023-09-19T15:05:13.521Z"
   },
   {
    "duration": 109,
    "start_time": "2023-09-19T15:50:49.685Z"
   },
   {
    "duration": 51,
    "start_time": "2023-09-22T10:50:53.646Z"
   },
   {
    "duration": 752,
    "start_time": "2023-09-22T10:51:02.444Z"
   },
   {
    "duration": 2274,
    "start_time": "2023-09-22T10:51:03.198Z"
   },
   {
    "duration": 1810,
    "start_time": "2023-09-22T10:53:49.679Z"
   },
   {
    "duration": 111,
    "start_time": "2023-09-22T10:53:55.089Z"
   },
   {
    "duration": 161,
    "start_time": "2023-09-22T11:04:02.930Z"
   },
   {
    "duration": 1387,
    "start_time": "2023-09-22T11:04:30.744Z"
   },
   {
    "duration": 2047,
    "start_time": "2023-09-22T11:05:09.818Z"
   },
   {
    "duration": 2096,
    "start_time": "2023-09-22T11:05:47.716Z"
   },
   {
    "duration": 2366,
    "start_time": "2023-09-22T11:06:20.172Z"
   },
   {
    "duration": 2346,
    "start_time": "2023-09-22T11:13:07.470Z"
   },
   {
    "duration": 18,
    "start_time": "2023-09-22T11:43:39.842Z"
   },
   {
    "duration": 121,
    "start_time": "2023-09-22T11:45:58.397Z"
   },
   {
    "duration": 6,
    "start_time": "2023-09-22T11:53:39.748Z"
   },
   {
    "duration": 2196,
    "start_time": "2023-09-22T11:59:14.030Z"
   },
   {
    "duration": 5,
    "start_time": "2023-09-22T12:04:35.922Z"
   },
   {
    "duration": 4,
    "start_time": "2023-09-22T12:04:41.514Z"
   },
   {
    "duration": 9,
    "start_time": "2023-09-22T12:08:00.811Z"
   },
   {
    "duration": 5,
    "start_time": "2023-09-22T12:08:37.039Z"
   },
   {
    "duration": 8,
    "start_time": "2023-09-22T12:08:41.565Z"
   },
   {
    "duration": 10,
    "start_time": "2023-09-22T12:08:54.177Z"
   },
   {
    "duration": 6,
    "start_time": "2023-09-22T12:09:06.629Z"
   },
   {
    "duration": 7,
    "start_time": "2023-09-22T12:09:32.778Z"
   },
   {
    "duration": 20,
    "start_time": "2023-09-22T12:23:38.003Z"
   },
   {
    "duration": 2350,
    "start_time": "2023-09-22T12:23:46.893Z"
   },
   {
    "duration": 26,
    "start_time": "2023-09-22T12:23:49.245Z"
   },
   {
    "duration": 6,
    "start_time": "2023-09-22T12:24:21.275Z"
   },
   {
    "duration": 17,
    "start_time": "2023-09-22T12:24:31.210Z"
   },
   {
    "duration": 20,
    "start_time": "2023-09-22T12:27:40.261Z"
   },
   {
    "duration": 26,
    "start_time": "2023-09-22T12:34:25.685Z"
   },
   {
    "duration": 26,
    "start_time": "2023-09-22T12:35:48.643Z"
   },
   {
    "duration": 207,
    "start_time": "2023-09-22T12:37:24.420Z"
   },
   {
    "duration": 34,
    "start_time": "2023-09-22T12:42:03.313Z"
   },
   {
    "duration": 19,
    "start_time": "2023-09-22T12:43:34.825Z"
   },
   {
    "duration": 21,
    "start_time": "2023-09-22T12:43:57.050Z"
   },
   {
    "duration": 21,
    "start_time": "2023-09-22T12:44:39.974Z"
   },
   {
    "duration": 20,
    "start_time": "2023-09-22T12:44:55.560Z"
   },
   {
    "duration": 3666,
    "start_time": "2023-09-24T19:12:55.982Z"
   },
   {
    "duration": 12,
    "start_time": "2023-09-24T19:12:59.653Z"
   },
   {
    "duration": 25,
    "start_time": "2023-09-24T19:12:59.667Z"
   },
   {
    "duration": 3513,
    "start_time": "2023-09-25T09:53:01.252Z"
   },
   {
    "duration": 12,
    "start_time": "2023-09-25T09:53:04.769Z"
   },
   {
    "duration": 58,
    "start_time": "2023-09-25T09:53:04.783Z"
   },
   {
    "duration": 20,
    "start_time": "2023-09-25T10:11:19.618Z"
   },
   {
    "duration": 20,
    "start_time": "2023-09-25T10:11:34.773Z"
   },
   {
    "duration": 21,
    "start_time": "2023-09-25T10:12:36.961Z"
   },
   {
    "duration": 116,
    "start_time": "2023-09-25T10:13:05.671Z"
   },
   {
    "duration": 24,
    "start_time": "2023-09-25T10:13:23.933Z"
   },
   {
    "duration": 17,
    "start_time": "2023-09-25T10:17:57.335Z"
   },
   {
    "duration": 16,
    "start_time": "2023-09-25T10:18:33.016Z"
   },
   {
    "duration": 17,
    "start_time": "2023-09-25T10:18:41.027Z"
   },
   {
    "duration": 25,
    "start_time": "2023-09-25T10:20:41.321Z"
   },
   {
    "duration": 12,
    "start_time": "2023-09-25T10:26:36.134Z"
   },
   {
    "duration": 7,
    "start_time": "2023-09-25T10:27:30.774Z"
   },
   {
    "duration": 7,
    "start_time": "2023-09-25T10:28:56.140Z"
   },
   {
    "duration": 5,
    "start_time": "2023-09-25T10:29:55.241Z"
   },
   {
    "duration": 7,
    "start_time": "2023-09-25T10:30:12.823Z"
   },
   {
    "duration": 6,
    "start_time": "2023-09-25T10:31:40.260Z"
   },
   {
    "duration": 6,
    "start_time": "2023-09-25T10:40:12.738Z"
   },
   {
    "duration": 6,
    "start_time": "2023-09-25T10:41:12.232Z"
   },
   {
    "duration": 12,
    "start_time": "2023-09-25T10:54:29.823Z"
   },
   {
    "duration": 6,
    "start_time": "2023-09-25T10:54:33.104Z"
   },
   {
    "duration": 6,
    "start_time": "2023-09-25T10:54:34.591Z"
   },
   {
    "duration": 6,
    "start_time": "2023-09-25T10:54:39.726Z"
   },
   {
    "duration": 7,
    "start_time": "2023-09-25T10:54:42.635Z"
   },
   {
    "duration": 6,
    "start_time": "2023-09-25T10:54:44.642Z"
   },
   {
    "duration": 4,
    "start_time": "2023-09-25T10:54:48.422Z"
   },
   {
    "duration": 5,
    "start_time": "2023-09-25T10:57:22.891Z"
   },
   {
    "duration": 7,
    "start_time": "2023-09-25T10:57:35.899Z"
   },
   {
    "duration": 87,
    "start_time": "2023-09-25T10:59:46.192Z"
   },
   {
    "duration": 20,
    "start_time": "2023-09-25T10:59:54.610Z"
   },
   {
    "duration": 6,
    "start_time": "2023-09-25T11:00:11.884Z"
   },
   {
    "duration": 40,
    "start_time": "2023-09-25T11:00:54.579Z"
   },
   {
    "duration": 12,
    "start_time": "2023-09-25T11:03:30.557Z"
   },
   {
    "duration": 39,
    "start_time": "2023-09-25T11:03:39.489Z"
   },
   {
    "duration": 51,
    "start_time": "2023-09-25T11:05:36.332Z"
   },
   {
    "duration": 1783,
    "start_time": "2023-09-25T11:07:21.749Z"
   },
   {
    "duration": 37,
    "start_time": "2023-09-25T11:07:29.453Z"
   },
   {
    "duration": 25,
    "start_time": "2023-09-25T11:12:55.348Z"
   },
   {
    "duration": 10,
    "start_time": "2023-09-25T11:13:43.515Z"
   },
   {
    "duration": 11,
    "start_time": "2023-09-25T11:13:49.720Z"
   },
   {
    "duration": 20,
    "start_time": "2023-09-25T11:14:20.892Z"
   },
   {
    "duration": 33,
    "start_time": "2023-09-25T11:14:28.770Z"
   },
   {
    "duration": 9,
    "start_time": "2023-09-25T11:14:47.762Z"
   },
   {
    "duration": 8,
    "start_time": "2023-09-25T11:15:58.534Z"
   },
   {
    "duration": 8,
    "start_time": "2023-09-25T11:19:27.622Z"
   },
   {
    "duration": 7,
    "start_time": "2023-09-25T11:20:26.769Z"
   },
   {
    "duration": 177,
    "start_time": "2023-09-25T11:24:53.115Z"
   },
   {
    "duration": 165,
    "start_time": "2023-09-25T11:25:43.780Z"
   },
   {
    "duration": 175,
    "start_time": "2023-09-25T11:26:14.392Z"
   },
   {
    "duration": 171,
    "start_time": "2023-09-25T11:26:25.669Z"
   },
   {
    "duration": 173,
    "start_time": "2023-09-25T11:26:34.783Z"
   },
   {
    "duration": 166,
    "start_time": "2023-09-25T11:26:40.894Z"
   },
   {
    "duration": 246,
    "start_time": "2023-09-25T11:26:51.949Z"
   },
   {
    "duration": 191,
    "start_time": "2023-09-25T11:27:04.682Z"
   },
   {
    "duration": 162,
    "start_time": "2023-09-25T11:27:11.748Z"
   },
   {
    "duration": 7,
    "start_time": "2023-09-25T11:28:34.775Z"
   },
   {
    "duration": 7,
    "start_time": "2023-09-25T11:29:25.165Z"
   },
   {
    "duration": 5,
    "start_time": "2023-09-25T11:29:40.302Z"
   },
   {
    "duration": 6,
    "start_time": "2023-09-25T11:29:48.189Z"
   },
   {
    "duration": 12,
    "start_time": "2023-09-25T11:31:28.052Z"
   },
   {
    "duration": 8,
    "start_time": "2023-09-25T11:36:09.416Z"
   },
   {
    "duration": 8,
    "start_time": "2023-09-25T11:41:26.357Z"
   },
   {
    "duration": 10,
    "start_time": "2023-09-25T11:41:55.408Z"
   },
   {
    "duration": 45,
    "start_time": "2023-09-25T11:43:17.285Z"
   },
   {
    "duration": 5,
    "start_time": "2023-09-25T11:44:56.462Z"
   },
   {
    "duration": 17,
    "start_time": "2023-09-25T11:45:02.298Z"
   },
   {
    "duration": 10,
    "start_time": "2023-09-25T11:45:21.242Z"
   },
   {
    "duration": 7,
    "start_time": "2023-09-25T12:12:19.060Z"
   },
   {
    "duration": 9,
    "start_time": "2023-09-25T12:12:48.019Z"
   },
   {
    "duration": 13,
    "start_time": "2023-09-25T12:12:58.975Z"
   },
   {
    "duration": 23,
    "start_time": "2023-09-25T12:13:20.718Z"
   },
   {
    "duration": 23,
    "start_time": "2023-09-25T12:13:27.919Z"
   },
   {
    "duration": 5,
    "start_time": "2023-09-25T12:13:34.678Z"
   },
   {
    "duration": 6,
    "start_time": "2023-09-25T12:17:18.088Z"
   },
   {
    "duration": 12,
    "start_time": "2023-09-25T12:18:08.846Z"
   },
   {
    "duration": 7,
    "start_time": "2023-09-25T12:57:14.589Z"
   },
   {
    "duration": 9,
    "start_time": "2023-09-25T12:59:41.242Z"
   },
   {
    "duration": 8,
    "start_time": "2023-09-25T12:59:52.877Z"
   },
   {
    "duration": 99,
    "start_time": "2023-09-25T13:13:40.122Z"
   },
   {
    "duration": 25,
    "start_time": "2023-09-25T13:14:00.494Z"
   },
   {
    "duration": 31,
    "start_time": "2023-09-25T13:14:22.761Z"
   },
   {
    "duration": 31,
    "start_time": "2023-09-25T13:16:35.377Z"
   },
   {
    "duration": 21,
    "start_time": "2023-09-25T13:17:24.899Z"
   },
   {
    "duration": 34,
    "start_time": "2023-09-25T13:17:34.821Z"
   },
   {
    "duration": 22,
    "start_time": "2023-09-25T13:17:55.079Z"
   },
   {
    "duration": 21,
    "start_time": "2023-09-25T13:18:27.134Z"
   },
   {
    "duration": 117,
    "start_time": "2023-09-25T13:19:07.974Z"
   },
   {
    "duration": 86,
    "start_time": "2023-09-25T13:19:58.422Z"
   },
   {
    "duration": 21,
    "start_time": "2023-09-25T13:20:39.262Z"
   },
   {
    "duration": 13,
    "start_time": "2023-09-25T13:20:53.802Z"
   },
   {
    "duration": 14,
    "start_time": "2023-09-25T13:23:54.448Z"
   },
   {
    "duration": 15,
    "start_time": "2023-09-25T13:24:04.952Z"
   },
   {
    "duration": 16,
    "start_time": "2023-09-25T13:25:05.329Z"
   },
   {
    "duration": 19,
    "start_time": "2023-09-25T13:25:17.022Z"
   },
   {
    "duration": 16,
    "start_time": "2023-09-25T13:25:33.929Z"
   },
   {
    "duration": 14,
    "start_time": "2023-09-25T13:26:17.586Z"
   },
   {
    "duration": 119,
    "start_time": "2023-09-25T13:26:53.896Z"
   },
   {
    "duration": 109,
    "start_time": "2023-09-25T13:27:31.628Z"
   },
   {
    "duration": 120,
    "start_time": "2023-09-25T13:27:57.443Z"
   },
   {
    "duration": 21,
    "start_time": "2023-09-25T13:28:17.712Z"
   },
   {
    "duration": 22,
    "start_time": "2023-09-25T13:28:37.682Z"
   },
   {
    "duration": 7,
    "start_time": "2023-09-25T13:28:56.637Z"
   },
   {
    "duration": 8,
    "start_time": "2023-09-25T13:29:46.660Z"
   },
   {
    "duration": 142,
    "start_time": "2023-09-25T13:30:50.698Z"
   },
   {
    "duration": 95,
    "start_time": "2023-09-25T13:31:10.552Z"
   },
   {
    "duration": 103,
    "start_time": "2023-09-25T13:31:24.485Z"
   },
   {
    "duration": 112,
    "start_time": "2023-09-25T13:31:52.636Z"
   },
   {
    "duration": 101,
    "start_time": "2023-09-25T13:32:04.487Z"
   },
   {
    "duration": 98,
    "start_time": "2023-09-25T13:32:21.388Z"
   },
   {
    "duration": 97,
    "start_time": "2023-09-25T13:32:41.060Z"
   },
   {
    "duration": 113,
    "start_time": "2023-09-25T13:32:53.188Z"
   },
   {
    "duration": 97,
    "start_time": "2023-09-25T13:33:09.609Z"
   },
   {
    "duration": 2520,
    "start_time": "2023-09-25T13:33:19.280Z"
   },
   {
    "duration": 11,
    "start_time": "2023-09-25T13:33:21.802Z"
   },
   {
    "duration": 18,
    "start_time": "2023-09-25T13:33:21.815Z"
   },
   {
    "duration": 31,
    "start_time": "2023-09-25T13:33:21.835Z"
   },
   {
    "duration": 29,
    "start_time": "2023-09-25T13:33:21.869Z"
   },
   {
    "duration": 8,
    "start_time": "2023-09-25T13:33:21.900Z"
   },
   {
    "duration": 47,
    "start_time": "2023-09-25T13:33:21.909Z"
   },
   {
    "duration": 29,
    "start_time": "2023-09-25T13:33:21.959Z"
   },
   {
    "duration": 20,
    "start_time": "2023-09-25T13:33:21.990Z"
   },
   {
    "duration": 23,
    "start_time": "2023-09-25T13:33:22.013Z"
   },
   {
    "duration": 180,
    "start_time": "2023-09-25T13:33:22.038Z"
   },
   {
    "duration": 10,
    "start_time": "2023-09-25T13:33:22.220Z"
   },
   {
    "duration": 30,
    "start_time": "2023-09-25T13:33:22.232Z"
   },
   {
    "duration": 7,
    "start_time": "2023-09-25T13:33:22.266Z"
   },
   {
    "duration": 18,
    "start_time": "2023-09-25T13:33:22.274Z"
   },
   {
    "duration": 23,
    "start_time": "2023-09-25T13:33:22.295Z"
   },
   {
    "duration": 15,
    "start_time": "2023-09-25T13:33:22.321Z"
   },
   {
    "duration": 173,
    "start_time": "2023-09-25T13:33:22.339Z"
   },
   {
    "duration": 102,
    "start_time": "2023-09-25T13:33:58.291Z"
   },
   {
    "duration": 131,
    "start_time": "2023-09-25T13:34:19.640Z"
   },
   {
    "duration": 133,
    "start_time": "2023-09-25T13:34:42.359Z"
   },
   {
    "duration": 99,
    "start_time": "2023-09-25T13:36:32.602Z"
   },
   {
    "duration": 11,
    "start_time": "2023-09-25T13:40:25.195Z"
   },
   {
    "duration": 11,
    "start_time": "2023-09-25T13:40:56.654Z"
   },
   {
    "duration": 10,
    "start_time": "2023-09-25T13:41:00.440Z"
   },
   {
    "duration": 9,
    "start_time": "2023-09-25T13:47:26.648Z"
   },
   {
    "duration": 19,
    "start_time": "2023-09-25T14:12:02.067Z"
   },
   {
    "duration": 2614,
    "start_time": "2023-09-25T14:12:13.957Z"
   },
   {
    "duration": 11,
    "start_time": "2023-09-25T14:12:16.573Z"
   },
   {
    "duration": 26,
    "start_time": "2023-09-25T14:12:16.586Z"
   },
   {
    "duration": 25,
    "start_time": "2023-09-25T14:12:16.613Z"
   },
   {
    "duration": 29,
    "start_time": "2023-09-25T14:12:16.641Z"
   },
   {
    "duration": 17,
    "start_time": "2023-09-25T14:12:16.672Z"
   },
   {
    "duration": 29,
    "start_time": "2023-09-25T14:12:16.691Z"
   },
   {
    "duration": 18,
    "start_time": "2023-09-25T14:12:16.722Z"
   },
   {
    "duration": 8,
    "start_time": "2023-09-25T14:12:16.741Z"
   },
   {
    "duration": 79,
    "start_time": "2023-09-25T14:12:16.751Z"
   },
   {
    "duration": 10,
    "start_time": "2023-09-25T14:12:16.832Z"
   },
   {
    "duration": 209,
    "start_time": "2023-09-25T14:12:16.844Z"
   },
   {
    "duration": 6,
    "start_time": "2023-09-25T14:12:17.055Z"
   },
   {
    "duration": 11,
    "start_time": "2023-09-25T14:12:17.064Z"
   },
   {
    "duration": 6,
    "start_time": "2023-09-25T14:12:17.077Z"
   },
   {
    "duration": 11,
    "start_time": "2023-09-25T14:12:17.084Z"
   },
   {
    "duration": 8,
    "start_time": "2023-09-25T14:12:17.097Z"
   },
   {
    "duration": 7,
    "start_time": "2023-09-25T14:12:17.106Z"
   },
   {
    "duration": 134,
    "start_time": "2023-09-25T14:12:17.115Z"
   },
   {
    "duration": 10,
    "start_time": "2023-09-25T14:12:17.257Z"
   },
   {
    "duration": 8,
    "start_time": "2023-09-25T14:12:17.269Z"
   },
   {
    "duration": 7,
    "start_time": "2023-09-25T14:40:26.640Z"
   },
   {
    "duration": 19,
    "start_time": "2023-09-25T14:41:07.966Z"
   },
   {
    "duration": 7,
    "start_time": "2023-09-25T17:26:28.282Z"
   },
   {
    "duration": 8,
    "start_time": "2023-09-25T17:26:41.733Z"
   },
   {
    "duration": 7,
    "start_time": "2023-09-25T17:27:09.316Z"
   },
   {
    "duration": 8,
    "start_time": "2023-09-25T17:27:19.943Z"
   },
   {
    "duration": 11,
    "start_time": "2023-09-25T17:27:32.690Z"
   },
   {
    "duration": 8,
    "start_time": "2023-09-25T17:27:42.065Z"
   },
   {
    "duration": 5,
    "start_time": "2023-09-25T17:27:56.353Z"
   },
   {
    "duration": 8,
    "start_time": "2023-09-25T17:36:37.827Z"
   },
   {
    "duration": 8,
    "start_time": "2023-09-25T17:36:54.648Z"
   },
   {
    "duration": 7,
    "start_time": "2023-09-25T17:37:23.172Z"
   },
   {
    "duration": 7,
    "start_time": "2023-09-25T17:40:11.679Z"
   },
   {
    "duration": 5,
    "start_time": "2023-09-25T17:41:39.747Z"
   },
   {
    "duration": 9,
    "start_time": "2023-09-25T17:42:51.404Z"
   },
   {
    "duration": 7,
    "start_time": "2023-09-25T17:42:58.963Z"
   },
   {
    "duration": 286,
    "start_time": "2023-09-25T18:14:53.100Z"
   },
   {
    "duration": 283,
    "start_time": "2023-09-25T18:15:05.668Z"
   },
   {
    "duration": 403,
    "start_time": "2023-09-25T18:15:15.413Z"
   },
   {
    "duration": 278,
    "start_time": "2023-09-25T18:15:25.500Z"
   },
   {
    "duration": 293,
    "start_time": "2023-09-25T18:15:34.450Z"
   },
   {
    "duration": 295,
    "start_time": "2023-09-25T18:15:59.773Z"
   },
   {
    "duration": 365,
    "start_time": "2023-09-25T18:16:14.495Z"
   },
   {
    "duration": 298,
    "start_time": "2023-09-25T18:16:36.711Z"
   },
   {
    "duration": 8,
    "start_time": "2023-09-25T18:22:57.252Z"
   },
   {
    "duration": 6,
    "start_time": "2023-09-25T18:23:11.727Z"
   },
   {
    "duration": 6,
    "start_time": "2023-09-25T18:23:17.305Z"
   },
   {
    "duration": 9,
    "start_time": "2023-09-25T18:23:33.609Z"
   },
   {
    "duration": 7,
    "start_time": "2023-09-25T18:23:46.397Z"
   },
   {
    "duration": 20,
    "start_time": "2023-09-25T18:24:03.313Z"
   },
   {
    "duration": 2406,
    "start_time": "2023-09-25T18:26:23.194Z"
   },
   {
    "duration": 9,
    "start_time": "2023-09-25T18:27:10.686Z"
   },
   {
    "duration": 8,
    "start_time": "2023-09-25T18:34:23.103Z"
   },
   {
    "duration": 5,
    "start_time": "2023-09-25T18:36:57.134Z"
   },
   {
    "duration": 2520,
    "start_time": "2023-09-25T18:37:19.529Z"
   },
   {
    "duration": 13,
    "start_time": "2023-09-25T18:37:22.051Z"
   },
   {
    "duration": 23,
    "start_time": "2023-09-25T18:37:22.066Z"
   },
   {
    "duration": 23,
    "start_time": "2023-09-25T18:37:22.092Z"
   },
   {
    "duration": 20,
    "start_time": "2023-09-25T18:37:22.117Z"
   },
   {
    "duration": 40,
    "start_time": "2023-09-25T18:37:22.139Z"
   },
   {
    "duration": 8,
    "start_time": "2023-09-25T18:37:22.180Z"
   },
   {
    "duration": 35,
    "start_time": "2023-09-25T18:37:22.190Z"
   },
   {
    "duration": 32,
    "start_time": "2023-09-25T18:37:22.227Z"
   },
   {
    "duration": 64,
    "start_time": "2023-09-25T18:37:22.262Z"
   },
   {
    "duration": 9,
    "start_time": "2023-09-25T18:37:22.327Z"
   },
   {
    "duration": 177,
    "start_time": "2023-09-25T18:37:22.338Z"
   },
   {
    "duration": 6,
    "start_time": "2023-09-25T18:37:22.518Z"
   },
   {
    "duration": 41,
    "start_time": "2023-09-25T18:37:22.526Z"
   },
   {
    "duration": 36,
    "start_time": "2023-09-25T18:37:22.569Z"
   },
   {
    "duration": 29,
    "start_time": "2023-09-25T18:37:22.607Z"
   },
   {
    "duration": 26,
    "start_time": "2023-09-25T18:37:22.638Z"
   },
   {
    "duration": 19,
    "start_time": "2023-09-25T18:37:22.666Z"
   },
   {
    "duration": 108,
    "start_time": "2023-09-25T18:37:22.687Z"
   },
   {
    "duration": 12,
    "start_time": "2023-09-25T18:37:22.797Z"
   },
   {
    "duration": 19,
    "start_time": "2023-09-25T18:37:22.811Z"
   },
   {
    "duration": 6,
    "start_time": "2023-09-25T18:37:22.833Z"
   },
   {
    "duration": 28,
    "start_time": "2023-09-25T18:37:22.841Z"
   },
   {
    "duration": 12,
    "start_time": "2023-09-25T18:37:22.871Z"
   },
   {
    "duration": 21,
    "start_time": "2023-09-25T18:37:22.885Z"
   },
   {
    "duration": 292,
    "start_time": "2023-09-25T18:37:22.907Z"
   },
   {
    "duration": 5,
    "start_time": "2023-09-25T18:37:23.201Z"
   },
   {
    "duration": 16,
    "start_time": "2023-09-25T18:41:14.327Z"
   },
   {
    "duration": 64,
    "start_time": "2023-09-26T12:24:40.624Z"
   },
   {
    "duration": 3512,
    "start_time": "2023-09-26T12:24:48.831Z"
   },
   {
    "duration": 13,
    "start_time": "2023-09-26T12:24:52.354Z"
   },
   {
    "duration": 43,
    "start_time": "2023-09-26T12:24:52.369Z"
   },
   {
    "duration": 37,
    "start_time": "2023-09-26T12:24:52.414Z"
   },
   {
    "duration": 27,
    "start_time": "2023-09-26T12:24:52.454Z"
   },
   {
    "duration": 30,
    "start_time": "2023-09-26T12:24:52.483Z"
   },
   {
    "duration": 45,
    "start_time": "2023-09-26T12:24:52.515Z"
   },
   {
    "duration": 57,
    "start_time": "2023-09-26T12:24:52.562Z"
   },
   {
    "duration": 29,
    "start_time": "2023-09-26T12:24:52.621Z"
   },
   {
    "duration": 102,
    "start_time": "2023-09-26T12:24:52.652Z"
   },
   {
    "duration": 52,
    "start_time": "2023-09-26T12:24:52.755Z"
   },
   {
    "duration": 193,
    "start_time": "2023-09-26T12:24:52.809Z"
   },
   {
    "duration": 7,
    "start_time": "2023-09-26T12:24:53.003Z"
   },
   {
    "duration": 31,
    "start_time": "2023-09-26T12:24:53.012Z"
   },
   {
    "duration": 28,
    "start_time": "2023-09-26T12:24:53.045Z"
   },
   {
    "duration": 37,
    "start_time": "2023-09-26T12:24:53.076Z"
   },
   {
    "duration": 56,
    "start_time": "2023-09-26T12:24:53.114Z"
   },
   {
    "duration": 81,
    "start_time": "2023-09-26T12:24:53.172Z"
   },
   {
    "duration": 136,
    "start_time": "2023-09-26T12:24:53.255Z"
   },
   {
    "duration": 9,
    "start_time": "2023-09-26T12:24:53.393Z"
   },
   {
    "duration": 37,
    "start_time": "2023-09-26T12:24:53.404Z"
   },
   {
    "duration": 26,
    "start_time": "2023-09-26T12:24:53.446Z"
   },
   {
    "duration": 25,
    "start_time": "2023-09-26T12:24:53.474Z"
   },
   {
    "duration": 28,
    "start_time": "2023-09-26T12:24:53.501Z"
   },
   {
    "duration": 36,
    "start_time": "2023-09-26T12:24:53.531Z"
   },
   {
    "duration": 369,
    "start_time": "2023-09-26T12:24:53.569Z"
   },
   {
    "duration": 13,
    "start_time": "2023-09-26T12:24:53.940Z"
   },
   {
    "duration": 59,
    "start_time": "2023-09-26T12:29:22.674Z"
   },
   {
    "duration": 7,
    "start_time": "2023-09-26T12:29:36.118Z"
   },
   {
    "duration": 3400,
    "start_time": "2023-09-26T12:29:42.859Z"
   },
   {
    "duration": 12,
    "start_time": "2023-09-26T12:29:46.261Z"
   },
   {
    "duration": 12,
    "start_time": "2023-09-26T12:29:46.275Z"
   },
   {
    "duration": 25,
    "start_time": "2023-09-26T12:29:46.289Z"
   },
   {
    "duration": 25,
    "start_time": "2023-09-26T12:29:46.317Z"
   },
   {
    "duration": 13,
    "start_time": "2023-09-26T12:29:46.344Z"
   },
   {
    "duration": 15,
    "start_time": "2023-09-26T12:29:46.359Z"
   },
   {
    "duration": 10,
    "start_time": "2023-09-26T12:29:46.376Z"
   },
   {
    "duration": 12,
    "start_time": "2023-09-26T12:29:46.387Z"
   },
   {
    "duration": 62,
    "start_time": "2023-09-26T12:29:46.400Z"
   },
   {
    "duration": 10,
    "start_time": "2023-09-26T12:29:46.464Z"
   },
   {
    "duration": 185,
    "start_time": "2023-09-26T12:29:46.476Z"
   },
   {
    "duration": 7,
    "start_time": "2023-09-26T12:29:46.663Z"
   },
   {
    "duration": 15,
    "start_time": "2023-09-26T12:29:46.673Z"
   },
   {
    "duration": 13,
    "start_time": "2023-09-26T12:29:46.690Z"
   },
   {
    "duration": 21,
    "start_time": "2023-09-26T12:29:46.705Z"
   },
   {
    "duration": 30,
    "start_time": "2023-09-26T12:29:46.727Z"
   },
   {
    "duration": 19,
    "start_time": "2023-09-26T12:29:46.759Z"
   },
   {
    "duration": 116,
    "start_time": "2023-09-26T12:29:46.780Z"
   },
   {
    "duration": 10,
    "start_time": "2023-09-26T12:29:46.898Z"
   },
   {
    "duration": 41,
    "start_time": "2023-09-26T12:29:46.910Z"
   },
   {
    "duration": 26,
    "start_time": "2023-09-26T12:29:46.952Z"
   },
   {
    "duration": 25,
    "start_time": "2023-09-26T12:29:46.979Z"
   },
   {
    "duration": 23,
    "start_time": "2023-09-26T12:29:47.006Z"
   },
   {
    "duration": 34,
    "start_time": "2023-09-26T12:29:47.031Z"
   },
   {
    "duration": 314,
    "start_time": "2023-09-26T12:29:47.067Z"
   },
   {
    "duration": 5,
    "start_time": "2023-09-26T12:29:47.383Z"
   },
   {
    "duration": 3196,
    "start_time": "2023-09-26T12:36:11.215Z"
   },
   {
    "duration": 12,
    "start_time": "2023-09-26T12:36:14.414Z"
   },
   {
    "duration": 39,
    "start_time": "2023-09-26T12:36:14.428Z"
   },
   {
    "duration": 28,
    "start_time": "2023-09-26T12:36:14.475Z"
   },
   {
    "duration": 38,
    "start_time": "2023-09-26T12:36:14.505Z"
   },
   {
    "duration": 39,
    "start_time": "2023-09-26T12:36:14.545Z"
   },
   {
    "duration": 19,
    "start_time": "2023-09-26T12:36:14.586Z"
   },
   {
    "duration": 28,
    "start_time": "2023-09-26T12:36:14.607Z"
   },
   {
    "duration": 18,
    "start_time": "2023-09-26T12:36:14.637Z"
   },
   {
    "duration": 51,
    "start_time": "2023-09-26T12:36:14.661Z"
   },
   {
    "duration": 10,
    "start_time": "2023-09-26T12:36:14.714Z"
   },
   {
    "duration": 181,
    "start_time": "2023-09-26T12:36:14.726Z"
   },
   {
    "duration": 5,
    "start_time": "2023-09-26T12:36:14.909Z"
   },
   {
    "duration": 29,
    "start_time": "2023-09-26T12:36:14.916Z"
   },
   {
    "duration": 41,
    "start_time": "2023-09-26T12:36:14.946Z"
   },
   {
    "duration": 18,
    "start_time": "2023-09-26T12:36:14.989Z"
   },
   {
    "duration": 70,
    "start_time": "2023-09-26T12:36:15.008Z"
   },
   {
    "duration": 56,
    "start_time": "2023-09-26T12:36:15.080Z"
   },
   {
    "duration": 131,
    "start_time": "2023-09-26T12:36:15.137Z"
   },
   {
    "duration": 9,
    "start_time": "2023-09-26T12:36:15.272Z"
   },
   {
    "duration": 11,
    "start_time": "2023-09-26T12:36:15.283Z"
   },
   {
    "duration": 17,
    "start_time": "2023-09-26T12:36:15.296Z"
   },
   {
    "duration": 26,
    "start_time": "2023-09-26T12:36:15.315Z"
   },
   {
    "duration": 39,
    "start_time": "2023-09-26T12:36:15.343Z"
   },
   {
    "duration": 28,
    "start_time": "2023-09-26T12:36:15.383Z"
   },
   {
    "duration": 329,
    "start_time": "2023-09-26T12:36:15.412Z"
   },
   {
    "duration": 11,
    "start_time": "2023-09-26T12:36:15.742Z"
   },
   {
    "duration": 7339,
    "start_time": "2023-09-26T12:39:52.084Z"
   },
   {
    "duration": 37,
    "start_time": "2023-09-26T12:39:59.425Z"
   },
   {
    "duration": 16,
    "start_time": "2023-09-26T12:39:59.463Z"
   },
   {
    "duration": 84,
    "start_time": "2023-09-26T12:39:59.481Z"
   },
   {
    "duration": 12,
    "start_time": "2023-09-26T12:39:59.571Z"
   },
   {
    "duration": 59,
    "start_time": "2023-09-26T12:39:59.585Z"
   },
   {
    "duration": 26,
    "start_time": "2023-09-26T12:39:59.648Z"
   },
   {
    "duration": 79,
    "start_time": "2023-09-26T12:39:59.676Z"
   },
   {
    "duration": 21,
    "start_time": "2023-09-26T12:39:59.758Z"
   },
   {
    "duration": 106,
    "start_time": "2023-09-26T12:39:59.783Z"
   },
   {
    "duration": 61,
    "start_time": "2023-09-26T12:39:59.890Z"
   },
   {
    "duration": 399,
    "start_time": "2023-09-26T12:39:59.953Z"
   },
   {
    "duration": 20,
    "start_time": "2023-09-26T12:40:00.362Z"
   },
   {
    "duration": 70,
    "start_time": "2023-09-26T12:40:00.386Z"
   },
   {
    "duration": 38,
    "start_time": "2023-09-26T12:40:00.458Z"
   },
   {
    "duration": 63,
    "start_time": "2023-09-26T12:40:00.498Z"
   },
   {
    "duration": 37,
    "start_time": "2023-09-26T12:40:00.563Z"
   },
   {
    "duration": 45,
    "start_time": "2023-09-26T12:40:00.602Z"
   },
   {
    "duration": 336,
    "start_time": "2023-09-26T12:40:00.649Z"
   },
   {
    "duration": 64,
    "start_time": "2023-09-26T12:40:00.988Z"
   },
   {
    "duration": 50,
    "start_time": "2023-09-26T12:40:01.054Z"
   },
   {
    "duration": 20,
    "start_time": "2023-09-26T12:40:01.147Z"
   },
   {
    "duration": 76,
    "start_time": "2023-09-26T12:40:01.171Z"
   },
   {
    "duration": 225,
    "start_time": "2023-09-26T12:40:01.254Z"
   },
   {
    "duration": 98,
    "start_time": "2023-09-26T12:40:01.481Z"
   },
   {
    "duration": 801,
    "start_time": "2023-09-26T12:40:01.581Z"
   },
   {
    "duration": 68,
    "start_time": "2023-09-26T12:40:02.386Z"
   },
   {
    "duration": 110,
    "start_time": "2023-09-26T12:40:02.466Z"
   },
   {
    "duration": 192,
    "start_time": "2023-09-26T12:40:33.983Z"
   },
   {
    "duration": 10,
    "start_time": "2023-09-26T12:40:50.572Z"
   },
   {
    "duration": 754,
    "start_time": "2023-09-26T12:45:25.132Z"
   },
   {
    "duration": 323,
    "start_time": "2023-09-26T12:45:59.267Z"
   },
   {
    "duration": 382,
    "start_time": "2023-09-26T12:49:29.985Z"
   },
   {
    "duration": 658,
    "start_time": "2023-09-26T12:50:14.302Z"
   },
   {
    "duration": 272,
    "start_time": "2023-09-26T12:50:30.794Z"
   },
   {
    "duration": 286,
    "start_time": "2023-09-26T12:50:56.407Z"
   },
   {
    "duration": 299,
    "start_time": "2023-09-26T12:51:13.428Z"
   },
   {
    "duration": 419,
    "start_time": "2023-09-26T12:51:27.596Z"
   },
   {
    "duration": 297,
    "start_time": "2023-09-26T12:51:35.416Z"
   },
   {
    "duration": 286,
    "start_time": "2023-09-26T12:51:44.781Z"
   },
   {
    "duration": 308,
    "start_time": "2023-09-26T12:51:58.545Z"
   },
   {
    "duration": 267,
    "start_time": "2023-09-26T12:52:08.295Z"
   },
   {
    "duration": 376,
    "start_time": "2023-09-26T12:53:33.924Z"
   },
   {
    "duration": 294,
    "start_time": "2023-09-26T12:54:58.090Z"
   },
   {
    "duration": 290,
    "start_time": "2023-09-26T12:55:35.247Z"
   },
   {
    "duration": 280,
    "start_time": "2023-09-26T12:55:56.513Z"
   },
   {
    "duration": 301,
    "start_time": "2023-09-26T12:56:37.389Z"
   },
   {
    "duration": 299,
    "start_time": "2023-09-26T12:56:58.841Z"
   },
   {
    "duration": 412,
    "start_time": "2023-09-26T12:59:18.087Z"
   },
   {
    "duration": 317,
    "start_time": "2023-09-26T13:02:21.857Z"
   },
   {
    "duration": 292,
    "start_time": "2023-09-26T13:13:29.956Z"
   },
   {
    "duration": 289,
    "start_time": "2023-09-26T13:13:48.099Z"
   },
   {
    "duration": 2,
    "start_time": "2023-09-26T13:15:36.125Z"
   },
   {
    "duration": 315,
    "start_time": "2023-09-26T13:15:45.330Z"
   },
   {
    "duration": 2191,
    "start_time": "2023-09-26T13:16:07.556Z"
   },
   {
    "duration": 9,
    "start_time": "2023-09-26T13:16:09.749Z"
   },
   {
    "duration": 41,
    "start_time": "2023-09-26T13:16:09.760Z"
   },
   {
    "duration": 27,
    "start_time": "2023-09-26T13:16:09.802Z"
   },
   {
    "duration": 23,
    "start_time": "2023-09-26T13:16:09.832Z"
   },
   {
    "duration": 23,
    "start_time": "2023-09-26T13:16:09.857Z"
   },
   {
    "duration": 21,
    "start_time": "2023-09-26T13:16:09.881Z"
   },
   {
    "duration": 33,
    "start_time": "2023-09-26T13:16:09.903Z"
   },
   {
    "duration": 16,
    "start_time": "2023-09-26T13:16:09.938Z"
   },
   {
    "duration": 47,
    "start_time": "2023-09-26T13:16:09.955Z"
   },
   {
    "duration": 8,
    "start_time": "2023-09-26T13:16:10.003Z"
   },
   {
    "duration": 174,
    "start_time": "2023-09-26T13:16:10.013Z"
   },
   {
    "duration": 6,
    "start_time": "2023-09-26T13:16:10.189Z"
   },
   {
    "duration": 26,
    "start_time": "2023-09-26T13:16:10.199Z"
   },
   {
    "duration": 21,
    "start_time": "2023-09-26T13:16:10.227Z"
   },
   {
    "duration": 21,
    "start_time": "2023-09-26T13:16:10.250Z"
   },
   {
    "duration": 28,
    "start_time": "2023-09-26T13:16:10.273Z"
   },
   {
    "duration": 18,
    "start_time": "2023-09-26T13:16:10.303Z"
   },
   {
    "duration": 94,
    "start_time": "2023-09-26T13:16:10.323Z"
   },
   {
    "duration": 7,
    "start_time": "2023-09-26T13:16:10.419Z"
   },
   {
    "duration": 26,
    "start_time": "2023-09-26T13:16:10.428Z"
   },
   {
    "duration": 49,
    "start_time": "2023-09-26T13:16:10.455Z"
   },
   {
    "duration": 38,
    "start_time": "2023-09-26T13:16:10.506Z"
   },
   {
    "duration": 44,
    "start_time": "2023-09-26T13:16:10.546Z"
   },
   {
    "duration": 24,
    "start_time": "2023-09-26T13:16:10.592Z"
   },
   {
    "duration": 446,
    "start_time": "2023-09-26T13:16:10.618Z"
   },
   {
    "duration": 4,
    "start_time": "2023-09-26T13:16:11.066Z"
   },
   {
    "duration": 346,
    "start_time": "2023-09-26T13:16:11.072Z"
   },
   {
    "duration": 291,
    "start_time": "2023-09-26T13:16:14.078Z"
   },
   {
    "duration": 2197,
    "start_time": "2023-09-26T13:17:35.136Z"
   },
   {
    "duration": 14,
    "start_time": "2023-09-26T13:17:37.336Z"
   },
   {
    "duration": 8,
    "start_time": "2023-09-26T13:17:37.352Z"
   },
   {
    "duration": 43,
    "start_time": "2023-09-26T13:17:37.362Z"
   },
   {
    "duration": 35,
    "start_time": "2023-09-26T13:17:37.407Z"
   },
   {
    "duration": 9,
    "start_time": "2023-09-26T13:17:37.443Z"
   },
   {
    "duration": 39,
    "start_time": "2023-09-26T13:17:37.454Z"
   },
   {
    "duration": 159,
    "start_time": "2023-09-26T13:17:37.495Z"
   },
   {
    "duration": 11,
    "start_time": "2023-09-26T13:17:37.655Z"
   },
   {
    "duration": 63,
    "start_time": "2023-09-26T13:17:37.669Z"
   },
   {
    "duration": 9,
    "start_time": "2023-09-26T13:17:37.733Z"
   },
   {
    "duration": 181,
    "start_time": "2023-09-26T13:17:37.743Z"
   },
   {
    "duration": 6,
    "start_time": "2023-09-26T13:17:37.926Z"
   },
   {
    "duration": 56,
    "start_time": "2023-09-26T13:17:37.933Z"
   },
   {
    "duration": 12,
    "start_time": "2023-09-26T13:17:37.991Z"
   },
   {
    "duration": 27,
    "start_time": "2023-09-26T13:17:38.004Z"
   },
   {
    "duration": 17,
    "start_time": "2023-09-26T13:17:38.033Z"
   },
   {
    "duration": 29,
    "start_time": "2023-09-26T13:17:38.051Z"
   },
   {
    "duration": 101,
    "start_time": "2023-09-26T13:17:38.081Z"
   },
   {
    "duration": 8,
    "start_time": "2023-09-26T13:17:38.183Z"
   },
   {
    "duration": 23,
    "start_time": "2023-09-26T13:17:38.193Z"
   },
   {
    "duration": 6,
    "start_time": "2023-09-26T13:17:38.218Z"
   },
   {
    "duration": 17,
    "start_time": "2023-09-26T13:17:38.225Z"
   },
   {
    "duration": 10,
    "start_time": "2023-09-26T13:17:38.244Z"
   },
   {
    "duration": 29,
    "start_time": "2023-09-26T13:17:38.255Z"
   },
   {
    "duration": 271,
    "start_time": "2023-09-26T13:17:38.286Z"
   },
   {
    "duration": 5,
    "start_time": "2023-09-26T13:17:38.559Z"
   },
   {
    "duration": 464,
    "start_time": "2023-09-26T13:17:38.567Z"
   },
   {
    "duration": 312,
    "start_time": "2023-09-26T13:17:39.033Z"
   },
   {
    "duration": 295,
    "start_time": "2023-09-26T13:17:52.441Z"
   },
   {
    "duration": 350,
    "start_time": "2023-09-26T13:36:59.136Z"
   },
   {
    "duration": 331,
    "start_time": "2023-09-26T13:37:33.084Z"
   },
   {
    "duration": 305,
    "start_time": "2023-09-26T13:49:55.305Z"
   },
   {
    "duration": 457,
    "start_time": "2023-09-26T13:50:18.493Z"
   },
   {
    "duration": 371,
    "start_time": "2023-09-26T13:50:53.633Z"
   },
   {
    "duration": 304,
    "start_time": "2023-09-26T13:54:56.703Z"
   },
   {
    "duration": 353,
    "start_time": "2023-09-26T14:16:01.361Z"
   },
   {
    "duration": 174,
    "start_time": "2023-09-26T14:16:07.361Z"
   },
   {
    "duration": 195,
    "start_time": "2023-09-26T14:16:15.299Z"
   },
   {
    "duration": 164,
    "start_time": "2023-09-26T14:16:22.456Z"
   },
   {
    "duration": 172,
    "start_time": "2023-09-26T14:16:29.909Z"
   },
   {
    "duration": 189,
    "start_time": "2023-09-26T14:16:39.210Z"
   },
   {
    "duration": 167,
    "start_time": "2023-09-26T14:16:52.164Z"
   },
   {
    "duration": 337,
    "start_time": "2023-09-26T14:17:03.349Z"
   },
   {
    "duration": 194,
    "start_time": "2023-09-26T14:17:20.219Z"
   },
   {
    "duration": 202,
    "start_time": "2023-09-26T14:17:29.320Z"
   },
   {
    "duration": 182,
    "start_time": "2023-09-26T14:17:38.010Z"
   },
   {
    "duration": 180,
    "start_time": "2023-09-26T14:17:50.119Z"
   },
   {
    "duration": 178,
    "start_time": "2023-09-26T14:28:29.604Z"
   },
   {
    "duration": 174,
    "start_time": "2023-09-26T14:28:51.564Z"
   },
   {
    "duration": 201,
    "start_time": "2023-09-26T14:29:15.432Z"
   },
   {
    "duration": 203,
    "start_time": "2023-09-26T14:29:23.384Z"
   },
   {
    "duration": 201,
    "start_time": "2023-09-26T14:29:41.933Z"
   },
   {
    "duration": 215,
    "start_time": "2023-09-26T14:30:24.079Z"
   },
   {
    "duration": 414,
    "start_time": "2023-09-26T14:36:28.921Z"
   },
   {
    "duration": 8,
    "start_time": "2023-09-26T14:36:37.108Z"
   },
   {
    "duration": 10,
    "start_time": "2023-09-26T14:36:44.424Z"
   },
   {
    "duration": 8,
    "start_time": "2023-09-26T14:37:19.834Z"
   },
   {
    "duration": 6,
    "start_time": "2023-09-26T14:37:36.808Z"
   },
   {
    "duration": 85,
    "start_time": "2023-09-26T14:39:11.129Z"
   },
   {
    "duration": 42,
    "start_time": "2023-09-26T14:39:20.724Z"
   },
   {
    "duration": 6,
    "start_time": "2023-09-26T14:39:50.761Z"
   },
   {
    "duration": 8,
    "start_time": "2023-09-26T14:40:15.323Z"
   },
   {
    "duration": 215,
    "start_time": "2023-09-26T14:44:35.885Z"
   },
   {
    "duration": 197,
    "start_time": "2023-09-26T14:44:46.196Z"
   },
   {
    "duration": 9,
    "start_time": "2023-09-26T14:53:11.650Z"
   },
   {
    "duration": 11,
    "start_time": "2023-09-26T14:53:40.040Z"
   },
   {
    "duration": 121,
    "start_time": "2023-09-26T14:54:48.742Z"
   },
   {
    "duration": 7,
    "start_time": "2023-09-26T14:54:57.458Z"
   },
   {
    "duration": 7,
    "start_time": "2023-09-26T14:55:25.077Z"
   },
   {
    "duration": 8,
    "start_time": "2023-09-26T14:55:42.984Z"
   },
   {
    "duration": 8,
    "start_time": "2023-09-26T14:56:21.958Z"
   },
   {
    "duration": 9,
    "start_time": "2023-09-26T14:56:35.602Z"
   },
   {
    "duration": 10,
    "start_time": "2023-09-26T14:57:23.734Z"
   },
   {
    "duration": 8,
    "start_time": "2023-09-26T14:58:10.273Z"
   },
   {
    "duration": 8,
    "start_time": "2023-09-26T14:58:25.717Z"
   },
   {
    "duration": 9,
    "start_time": "2023-09-26T14:58:38.697Z"
   },
   {
    "duration": 163,
    "start_time": "2023-09-26T14:59:03.705Z"
   },
   {
    "duration": 26,
    "start_time": "2023-09-26T14:59:13.518Z"
   },
   {
    "duration": 8,
    "start_time": "2023-09-26T14:59:21.798Z"
   },
   {
    "duration": 9,
    "start_time": "2023-09-26T15:00:07.363Z"
   },
   {
    "duration": 9,
    "start_time": "2023-09-26T15:14:26.546Z"
   },
   {
    "duration": 13,
    "start_time": "2023-09-26T15:14:54.074Z"
   },
   {
    "duration": 10,
    "start_time": "2023-09-26T15:15:46.597Z"
   },
   {
    "duration": 6,
    "start_time": "2023-09-26T15:18:27.922Z"
   },
   {
    "duration": 680,
    "start_time": "2023-09-26T15:24:23.523Z"
   },
   {
    "duration": 397,
    "start_time": "2023-09-26T15:24:39.131Z"
   },
   {
    "duration": 12,
    "start_time": "2023-09-26T15:24:48.778Z"
   },
   {
    "duration": 5,
    "start_time": "2023-09-26T15:25:29.784Z"
   },
   {
    "duration": 11,
    "start_time": "2023-09-26T15:25:59.578Z"
   },
   {
    "duration": 6,
    "start_time": "2023-09-26T15:26:02.148Z"
   },
   {
    "duration": 5,
    "start_time": "2023-09-26T15:26:40.590Z"
   },
   {
    "duration": 8,
    "start_time": "2023-09-26T15:26:56.578Z"
   },
   {
    "duration": 7,
    "start_time": "2023-09-26T15:27:12.084Z"
   },
   {
    "duration": 89,
    "start_time": "2023-09-26T17:35:13.833Z"
   },
   {
    "duration": 305,
    "start_time": "2023-09-26T17:35:24.387Z"
   },
   {
    "duration": 14,
    "start_time": "2023-09-26T17:37:43.150Z"
   },
   {
    "duration": 10,
    "start_time": "2023-09-26T17:38:10.108Z"
   },
   {
    "duration": 237,
    "start_time": "2023-09-26T17:38:39.740Z"
   },
   {
    "duration": 10,
    "start_time": "2023-09-26T17:38:54.729Z"
   },
   {
    "duration": 9,
    "start_time": "2023-09-26T17:39:14.310Z"
   },
   {
    "duration": 168,
    "start_time": "2023-09-26T17:49:21.940Z"
   },
   {
    "duration": 2295,
    "start_time": "2023-09-26T17:49:34.465Z"
   },
   {
    "duration": 10,
    "start_time": "2023-09-26T17:49:36.761Z"
   },
   {
    "duration": 10,
    "start_time": "2023-09-26T17:49:36.772Z"
   },
   {
    "duration": 11,
    "start_time": "2023-09-26T17:49:36.783Z"
   },
   {
    "duration": 19,
    "start_time": "2023-09-26T17:49:36.796Z"
   },
   {
    "duration": 6,
    "start_time": "2023-09-26T17:49:36.817Z"
   },
   {
    "duration": 23,
    "start_time": "2023-09-26T17:49:36.824Z"
   },
   {
    "duration": 6,
    "start_time": "2023-09-26T17:49:36.849Z"
   },
   {
    "duration": 9,
    "start_time": "2023-09-26T17:49:36.856Z"
   },
   {
    "duration": 56,
    "start_time": "2023-09-26T17:49:36.866Z"
   },
   {
    "duration": 8,
    "start_time": "2023-09-26T17:49:36.924Z"
   },
   {
    "duration": 171,
    "start_time": "2023-09-26T17:49:36.933Z"
   },
   {
    "duration": 6,
    "start_time": "2023-09-26T17:49:37.105Z"
   },
   {
    "duration": 8,
    "start_time": "2023-09-26T17:49:37.114Z"
   },
   {
    "duration": 21,
    "start_time": "2023-09-26T17:49:37.124Z"
   },
   {
    "duration": 14,
    "start_time": "2023-09-26T17:49:37.147Z"
   },
   {
    "duration": 22,
    "start_time": "2023-09-26T17:49:37.163Z"
   },
   {
    "duration": 6,
    "start_time": "2023-09-26T17:49:37.187Z"
   },
   {
    "duration": 102,
    "start_time": "2023-09-26T17:49:37.195Z"
   },
   {
    "duration": 7,
    "start_time": "2023-09-26T17:49:37.299Z"
   },
   {
    "duration": 11,
    "start_time": "2023-09-26T17:49:37.308Z"
   },
   {
    "duration": 5,
    "start_time": "2023-09-26T17:49:37.321Z"
   },
   {
    "duration": 6,
    "start_time": "2023-09-26T17:49:37.343Z"
   },
   {
    "duration": 14,
    "start_time": "2023-09-26T17:49:37.350Z"
   },
   {
    "duration": 8,
    "start_time": "2023-09-26T17:49:37.366Z"
   },
   {
    "duration": 424,
    "start_time": "2023-09-26T17:49:37.375Z"
   },
   {
    "duration": 6,
    "start_time": "2023-09-26T17:49:37.800Z"
   },
   {
    "duration": 304,
    "start_time": "2023-09-26T17:49:37.807Z"
   },
   {
    "duration": 296,
    "start_time": "2023-09-26T17:49:38.113Z"
   },
   {
    "duration": 295,
    "start_time": "2023-09-26T17:49:38.411Z"
   },
   {
    "duration": 298,
    "start_time": "2023-09-26T17:49:38.707Z"
   },
   {
    "duration": 177,
    "start_time": "2023-09-26T17:49:39.006Z"
   },
   {
    "duration": 166,
    "start_time": "2023-09-26T17:49:39.185Z"
   },
   {
    "duration": 196,
    "start_time": "2023-09-26T17:49:52.406Z"
   },
   {
    "duration": 203,
    "start_time": "2023-09-26T17:51:40.565Z"
   },
   {
    "duration": 372,
    "start_time": "2023-09-26T17:54:11.946Z"
   },
   {
    "duration": 211,
    "start_time": "2023-09-26T17:54:41.680Z"
   },
   {
    "duration": 187,
    "start_time": "2023-09-26T17:54:55.870Z"
   },
   {
    "duration": 18,
    "start_time": "2023-09-26T18:14:39.618Z"
   },
   {
    "duration": 15,
    "start_time": "2023-09-26T18:15:03.151Z"
   },
   {
    "duration": 16,
    "start_time": "2023-09-26T18:15:18.333Z"
   },
   {
    "duration": 16,
    "start_time": "2023-09-26T18:15:30.237Z"
   },
   {
    "duration": 14,
    "start_time": "2023-09-26T18:15:37.368Z"
   },
   {
    "duration": 16,
    "start_time": "2023-09-26T18:16:18.963Z"
   },
   {
    "duration": 16,
    "start_time": "2023-09-26T18:18:37.855Z"
   },
   {
    "duration": 14,
    "start_time": "2023-09-26T18:24:35.510Z"
   },
   {
    "duration": 15,
    "start_time": "2023-09-26T18:25:31.295Z"
   },
   {
    "duration": 10,
    "start_time": "2023-09-26T18:29:03.937Z"
   },
   {
    "duration": 106,
    "start_time": "2023-09-26T18:29:31.829Z"
   },
   {
    "duration": 115,
    "start_time": "2023-09-26T18:29:52.556Z"
   },
   {
    "duration": 126,
    "start_time": "2023-09-26T18:31:14.039Z"
   },
   {
    "duration": 162,
    "start_time": "2023-09-26T18:31:19.042Z"
   },
   {
    "duration": 121,
    "start_time": "2023-09-26T18:31:26.006Z"
   },
   {
    "duration": 202,
    "start_time": "2023-09-26T18:37:02.310Z"
   },
   {
    "duration": 294,
    "start_time": "2023-09-26T18:37:57.244Z"
   },
   {
    "duration": 166,
    "start_time": "2023-09-26T18:38:09.183Z"
   },
   {
    "duration": 206,
    "start_time": "2023-09-26T18:38:15.926Z"
   },
   {
    "duration": 197,
    "start_time": "2023-09-26T18:38:22.224Z"
   },
   {
    "duration": 173,
    "start_time": "2023-09-26T18:38:28.407Z"
   },
   {
    "duration": 213,
    "start_time": "2023-09-26T18:43:54.582Z"
   },
   {
    "duration": 200,
    "start_time": "2023-09-26T18:44:02.567Z"
   },
   {
    "duration": 339,
    "start_time": "2023-09-26T18:58:05.336Z"
   },
   {
    "duration": 186,
    "start_time": "2023-09-26T18:58:22.456Z"
   },
   {
    "duration": 185,
    "start_time": "2023-09-26T18:58:41.281Z"
   },
   {
    "duration": 258,
    "start_time": "2023-09-26T18:58:53.169Z"
   },
   {
    "duration": 311,
    "start_time": "2023-09-26T18:59:12.464Z"
   },
   {
    "duration": 2283,
    "start_time": "2023-09-26T19:00:11.837Z"
   },
   {
    "duration": 9,
    "start_time": "2023-09-26T19:00:14.122Z"
   },
   {
    "duration": 16,
    "start_time": "2023-09-26T19:00:14.133Z"
   },
   {
    "duration": 13,
    "start_time": "2023-09-26T19:00:14.152Z"
   },
   {
    "duration": 24,
    "start_time": "2023-09-26T19:00:14.166Z"
   },
   {
    "duration": 7,
    "start_time": "2023-09-26T19:00:14.191Z"
   },
   {
    "duration": 19,
    "start_time": "2023-09-26T19:00:14.199Z"
   },
   {
    "duration": 17,
    "start_time": "2023-09-26T19:00:14.220Z"
   },
   {
    "duration": 9,
    "start_time": "2023-09-26T19:00:14.239Z"
   },
   {
    "duration": 44,
    "start_time": "2023-09-26T19:00:14.250Z"
   },
   {
    "duration": 8,
    "start_time": "2023-09-26T19:00:14.296Z"
   },
   {
    "duration": 172,
    "start_time": "2023-09-26T19:00:14.306Z"
   },
   {
    "duration": 7,
    "start_time": "2023-09-26T19:00:14.480Z"
   },
   {
    "duration": 24,
    "start_time": "2023-09-26T19:00:14.489Z"
   },
   {
    "duration": 5,
    "start_time": "2023-09-26T19:00:14.515Z"
   },
   {
    "duration": 11,
    "start_time": "2023-09-26T19:00:14.522Z"
   },
   {
    "duration": 19,
    "start_time": "2023-09-26T19:00:14.535Z"
   },
   {
    "duration": 10,
    "start_time": "2023-09-26T19:00:14.556Z"
   },
   {
    "duration": 122,
    "start_time": "2023-09-26T19:00:14.568Z"
   },
   {
    "duration": 10,
    "start_time": "2023-09-26T19:00:14.693Z"
   },
   {
    "duration": 11,
    "start_time": "2023-09-26T19:00:14.705Z"
   },
   {
    "duration": 26,
    "start_time": "2023-09-26T19:00:14.718Z"
   },
   {
    "duration": 7,
    "start_time": "2023-09-26T19:00:14.746Z"
   },
   {
    "duration": 6,
    "start_time": "2023-09-26T19:00:14.755Z"
   },
   {
    "duration": 31,
    "start_time": "2023-09-26T19:00:14.763Z"
   },
   {
    "duration": 278,
    "start_time": "2023-09-26T19:00:14.796Z"
   },
   {
    "duration": 4,
    "start_time": "2023-09-26T19:00:15.076Z"
   },
   {
    "duration": 298,
    "start_time": "2023-09-26T19:00:15.083Z"
   },
   {
    "duration": 469,
    "start_time": "2023-09-26T19:00:15.382Z"
   },
   {
    "duration": 299,
    "start_time": "2023-09-26T19:00:15.853Z"
   },
   {
    "duration": 307,
    "start_time": "2023-09-26T19:00:16.154Z"
   },
   {
    "duration": 175,
    "start_time": "2023-09-26T19:00:16.463Z"
   },
   {
    "duration": 192,
    "start_time": "2023-09-26T19:00:16.644Z"
   },
   {
    "duration": 131,
    "start_time": "2023-09-26T19:00:16.844Z"
   },
   {
    "duration": 216,
    "start_time": "2023-09-26T19:00:16.977Z"
   },
   {
    "duration": 295,
    "start_time": "2023-09-26T19:00:17.194Z"
   },
   {
    "duration": 310,
    "start_time": "2023-09-26T19:12:23.439Z"
   },
   {
    "duration": 471,
    "start_time": "2023-09-26T19:12:51.951Z"
   },
   {
    "duration": 337,
    "start_time": "2023-09-26T19:13:44.464Z"
   },
   {
    "duration": 63,
    "start_time": "2023-09-27T11:02:24.435Z"
   },
   {
    "duration": 3370,
    "start_time": "2023-09-27T11:02:31.703Z"
   },
   {
    "duration": 11,
    "start_time": "2023-09-27T11:02:35.075Z"
   },
   {
    "duration": 19,
    "start_time": "2023-09-27T11:02:35.088Z"
   },
   {
    "duration": 35,
    "start_time": "2023-09-27T11:02:35.109Z"
   },
   {
    "duration": 13,
    "start_time": "2023-09-27T11:02:35.146Z"
   },
   {
    "duration": 8,
    "start_time": "2023-09-27T11:02:35.161Z"
   },
   {
    "duration": 11,
    "start_time": "2023-09-27T11:02:35.171Z"
   },
   {
    "duration": 16,
    "start_time": "2023-09-27T11:02:35.184Z"
   },
   {
    "duration": 12,
    "start_time": "2023-09-27T11:02:35.201Z"
   },
   {
    "duration": 48,
    "start_time": "2023-09-27T11:02:35.216Z"
   },
   {
    "duration": 11,
    "start_time": "2023-09-27T11:02:35.265Z"
   },
   {
    "duration": 180,
    "start_time": "2023-09-27T11:02:35.278Z"
   },
   {
    "duration": 6,
    "start_time": "2023-09-27T11:02:35.460Z"
   },
   {
    "duration": 19,
    "start_time": "2023-09-27T11:02:35.468Z"
   },
   {
    "duration": 5,
    "start_time": "2023-09-27T11:02:35.489Z"
   },
   {
    "duration": 6,
    "start_time": "2023-09-27T11:02:35.496Z"
   },
   {
    "duration": 14,
    "start_time": "2023-09-27T11:02:35.504Z"
   },
   {
    "duration": 17,
    "start_time": "2023-09-27T11:02:35.520Z"
   },
   {
    "duration": 108,
    "start_time": "2023-09-27T11:02:35.539Z"
   },
   {
    "duration": 16,
    "start_time": "2023-09-27T11:02:35.649Z"
   },
   {
    "duration": 16,
    "start_time": "2023-09-27T11:02:35.667Z"
   },
   {
    "duration": 5,
    "start_time": "2023-09-27T11:02:35.686Z"
   },
   {
    "duration": 23,
    "start_time": "2023-09-27T11:02:35.693Z"
   },
   {
    "duration": 20,
    "start_time": "2023-09-27T11:02:35.718Z"
   },
   {
    "duration": 20,
    "start_time": "2023-09-27T11:02:35.740Z"
   },
   {
    "duration": 313,
    "start_time": "2023-09-27T11:02:35.762Z"
   },
   {
    "duration": 5,
    "start_time": "2023-09-27T11:02:36.077Z"
   },
   {
    "duration": 447,
    "start_time": "2023-09-27T11:02:36.085Z"
   },
   {
    "duration": 338,
    "start_time": "2023-09-27T11:02:36.534Z"
   },
   {
    "duration": 384,
    "start_time": "2023-09-27T11:02:36.874Z"
   },
   {
    "duration": 342,
    "start_time": "2023-09-27T11:02:37.260Z"
   },
   {
    "duration": 203,
    "start_time": "2023-09-27T11:02:37.604Z"
   },
   {
    "duration": 257,
    "start_time": "2023-09-27T11:02:37.809Z"
   },
   {
    "duration": 150,
    "start_time": "2023-09-27T11:02:38.068Z"
   },
   {
    "duration": 347,
    "start_time": "2023-09-27T11:02:38.220Z"
   },
   {
    "duration": 412,
    "start_time": "2023-09-27T11:02:38.569Z"
   },
   {
    "duration": 435,
    "start_time": "2023-09-27T11:02:38.984Z"
   },
   {
    "duration": 342,
    "start_time": "2023-09-27T11:02:39.421Z"
   },
   {
    "duration": 339,
    "start_time": "2023-09-27T11:03:30.382Z"
   },
   {
    "duration": 339,
    "start_time": "2023-09-27T11:03:42.274Z"
   },
   {
    "duration": 844,
    "start_time": "2023-09-27T11:11:32.248Z"
   },
   {
    "duration": 479,
    "start_time": "2023-09-27T11:11:57.313Z"
   },
   {
    "duration": 336,
    "start_time": "2023-09-27T11:12:36.454Z"
   },
   {
    "duration": 344,
    "start_time": "2023-09-27T11:12:57.288Z"
   },
   {
    "duration": 316,
    "start_time": "2023-09-27T11:13:20.789Z"
   },
   {
    "duration": 293,
    "start_time": "2023-09-27T11:13:43.141Z"
   },
   {
    "duration": 14,
    "start_time": "2023-09-27T11:21:25.277Z"
   },
   {
    "duration": 13,
    "start_time": "2023-09-27T11:21:48.219Z"
   },
   {
    "duration": 12,
    "start_time": "2023-09-27T11:22:37.842Z"
   },
   {
    "duration": 134,
    "start_time": "2023-09-27T11:25:29.094Z"
   },
   {
    "duration": 210,
    "start_time": "2023-09-27T11:25:45.981Z"
   },
   {
    "duration": 375,
    "start_time": "2023-09-27T11:27:18.984Z"
   },
   {
    "duration": 305,
    "start_time": "2023-09-27T11:45:07.593Z"
   },
   {
    "duration": 101,
    "start_time": "2023-09-27T14:23:06.523Z"
   },
   {
    "duration": 105,
    "start_time": "2023-09-27T14:23:28.094Z"
   },
   {
    "duration": 114,
    "start_time": "2023-09-27T14:23:56.370Z"
   },
   {
    "duration": 107,
    "start_time": "2023-09-27T14:24:57.230Z"
   },
   {
    "duration": 101,
    "start_time": "2023-09-27T14:25:04.305Z"
   },
   {
    "duration": 202,
    "start_time": "2023-09-27T14:26:06.775Z"
   },
   {
    "duration": 176,
    "start_time": "2023-09-27T14:26:22.987Z"
   },
   {
    "duration": 208,
    "start_time": "2023-09-27T14:27:18.835Z"
   },
   {
    "duration": 169,
    "start_time": "2023-09-27T14:27:24.687Z"
   },
   {
    "duration": 158,
    "start_time": "2023-09-27T14:27:35.488Z"
   },
   {
    "duration": 21,
    "start_time": "2023-09-27T14:31:06.254Z"
   },
   {
    "duration": 1523,
    "start_time": "2023-09-27T14:31:51.527Z"
   },
   {
    "duration": 1726,
    "start_time": "2023-09-27T14:32:26.427Z"
   },
   {
    "duration": 147,
    "start_time": "2023-09-27T14:32:56.622Z"
   },
   {
    "duration": 121,
    "start_time": "2023-09-27T14:36:44.996Z"
   },
   {
    "duration": 148,
    "start_time": "2023-09-27T14:36:53.321Z"
   },
   {
    "duration": 181,
    "start_time": "2023-09-27T14:43:40.955Z"
   },
   {
    "duration": 149,
    "start_time": "2023-09-27T14:44:34.261Z"
   },
   {
    "duration": 147,
    "start_time": "2023-09-27T14:45:24.443Z"
   },
   {
    "duration": 151,
    "start_time": "2023-09-27T14:45:32.321Z"
   },
   {
    "duration": 232,
    "start_time": "2023-09-27T14:46:03.418Z"
   },
   {
    "duration": 153,
    "start_time": "2023-09-27T14:46:20.781Z"
   },
   {
    "duration": 150,
    "start_time": "2023-09-27T14:47:15.493Z"
   },
   {
    "duration": 146,
    "start_time": "2023-09-27T14:51:12.938Z"
   },
   {
    "duration": 232,
    "start_time": "2023-09-27T14:51:34.292Z"
   },
   {
    "duration": 183,
    "start_time": "2023-09-27T14:53:16.028Z"
   },
   {
    "duration": 192,
    "start_time": "2023-09-27T14:54:09.134Z"
   },
   {
    "duration": 167,
    "start_time": "2023-09-27T14:54:39.237Z"
   },
   {
    "duration": 170,
    "start_time": "2023-09-27T14:54:51.839Z"
   },
   {
    "duration": 194,
    "start_time": "2023-09-27T14:55:05.357Z"
   },
   {
    "duration": 200,
    "start_time": "2023-09-27T14:56:58.464Z"
   },
   {
    "duration": 463,
    "start_time": "2023-09-27T15:00:32.759Z"
   },
   {
    "duration": 463,
    "start_time": "2023-09-27T15:01:16.996Z"
   },
   {
    "duration": 113,
    "start_time": "2023-09-27T15:01:58.973Z"
   },
   {
    "duration": 196,
    "start_time": "2023-09-27T15:02:20.437Z"
   },
   {
    "duration": 10,
    "start_time": "2023-09-27T15:03:57.922Z"
   },
   {
    "duration": 8,
    "start_time": "2023-09-27T15:04:34.176Z"
   },
   {
    "duration": 9,
    "start_time": "2023-09-27T15:04:58.695Z"
   },
   {
    "duration": 15,
    "start_time": "2023-09-27T15:06:11.329Z"
   },
   {
    "duration": 16,
    "start_time": "2023-09-27T15:07:14.438Z"
   },
   {
    "duration": 24,
    "start_time": "2023-09-27T15:08:29.967Z"
   },
   {
    "duration": 9,
    "start_time": "2023-09-27T15:09:03.147Z"
   },
   {
    "duration": 23,
    "start_time": "2023-09-27T15:10:04.745Z"
   },
   {
    "duration": 35,
    "start_time": "2023-09-27T15:10:23.000Z"
   },
   {
    "duration": 27,
    "start_time": "2023-09-27T15:10:34.945Z"
   },
   {
    "duration": 11,
    "start_time": "2023-09-27T15:11:07.026Z"
   },
   {
    "duration": 10,
    "start_time": "2023-09-27T15:11:24.781Z"
   },
   {
    "duration": 171,
    "start_time": "2023-09-27T16:52:28.492Z"
   },
   {
    "duration": 164,
    "start_time": "2023-09-27T17:04:20.467Z"
   },
   {
    "duration": 156,
    "start_time": "2023-09-27T17:10:09.336Z"
   },
   {
    "duration": 169,
    "start_time": "2023-09-27T17:10:20.885Z"
   },
   {
    "duration": 179,
    "start_time": "2023-09-27T17:12:31.804Z"
   },
   {
    "duration": 167,
    "start_time": "2023-09-27T17:12:49.897Z"
   },
   {
    "duration": 296,
    "start_time": "2023-09-27T17:12:58.587Z"
   },
   {
    "duration": 194,
    "start_time": "2023-09-27T17:13:07.022Z"
   },
   {
    "duration": 183,
    "start_time": "2023-09-27T17:14:44.934Z"
   },
   {
    "duration": 180,
    "start_time": "2023-09-27T17:14:58.325Z"
   },
   {
    "duration": 173,
    "start_time": "2023-09-27T17:16:13.261Z"
   },
   {
    "duration": 183,
    "start_time": "2023-09-27T17:21:35.825Z"
   },
   {
    "duration": 570,
    "start_time": "2023-09-27T17:22:10.570Z"
   },
   {
    "duration": 196,
    "start_time": "2023-09-27T17:23:55.436Z"
   },
   {
    "duration": 147,
    "start_time": "2023-09-27T17:27:37.168Z"
   },
   {
    "duration": 166,
    "start_time": "2023-09-27T17:28:48.664Z"
   },
   {
    "duration": 166,
    "start_time": "2023-09-27T17:28:55.616Z"
   },
   {
    "duration": 182,
    "start_time": "2023-09-27T17:34:52.347Z"
   },
   {
    "duration": 193,
    "start_time": "2023-09-27T17:35:33.204Z"
   },
   {
    "duration": 201,
    "start_time": "2023-09-27T17:38:56.713Z"
   },
   {
    "duration": 296,
    "start_time": "2023-09-27T17:40:39.898Z"
   },
   {
    "duration": 190,
    "start_time": "2023-09-27T17:41:10.699Z"
   },
   {
    "duration": 199,
    "start_time": "2023-09-27T17:45:20.728Z"
   },
   {
    "duration": 187,
    "start_time": "2023-09-27T17:46:16.979Z"
   },
   {
    "duration": 188,
    "start_time": "2023-09-27T17:48:26.730Z"
   },
   {
    "duration": 201,
    "start_time": "2023-09-27T17:50:04.766Z"
   },
   {
    "duration": 179,
    "start_time": "2023-09-27T17:56:01.518Z"
   },
   {
    "duration": 71,
    "start_time": "2023-09-28T11:51:45.622Z"
   },
   {
    "duration": 3928,
    "start_time": "2023-09-28T11:51:50.350Z"
   },
   {
    "duration": 13,
    "start_time": "2023-09-28T11:51:54.280Z"
   },
   {
    "duration": 9,
    "start_time": "2023-09-28T11:51:54.296Z"
   },
   {
    "duration": 13,
    "start_time": "2023-09-28T11:51:54.308Z"
   },
   {
    "duration": 10,
    "start_time": "2023-09-28T11:51:54.323Z"
   },
   {
    "duration": 22,
    "start_time": "2023-09-28T11:51:54.335Z"
   },
   {
    "duration": 16,
    "start_time": "2023-09-28T11:51:54.359Z"
   },
   {
    "duration": 8,
    "start_time": "2023-09-28T11:51:54.377Z"
   },
   {
    "duration": 20,
    "start_time": "2023-09-28T11:51:54.387Z"
   },
   {
    "duration": 61,
    "start_time": "2023-09-28T11:51:54.411Z"
   },
   {
    "duration": 14,
    "start_time": "2023-09-28T11:51:54.475Z"
   },
   {
    "duration": 211,
    "start_time": "2023-09-28T11:51:54.491Z"
   },
   {
    "duration": 7,
    "start_time": "2023-09-28T11:51:54.704Z"
   },
   {
    "duration": 34,
    "start_time": "2023-09-28T11:51:54.713Z"
   },
   {
    "duration": 7,
    "start_time": "2023-09-28T11:51:54.749Z"
   },
   {
    "duration": 13,
    "start_time": "2023-09-28T11:51:54.758Z"
   },
   {
    "duration": 15,
    "start_time": "2023-09-28T11:51:54.774Z"
   },
   {
    "duration": 18,
    "start_time": "2023-09-28T11:51:54.791Z"
   },
   {
    "duration": 140,
    "start_time": "2023-09-28T11:51:54.811Z"
   },
   {
    "duration": 16,
    "start_time": "2023-09-28T11:51:54.953Z"
   },
   {
    "duration": 13,
    "start_time": "2023-09-28T11:51:54.972Z"
   },
   {
    "duration": 7,
    "start_time": "2023-09-28T11:51:54.987Z"
   },
   {
    "duration": 43,
    "start_time": "2023-09-28T11:51:54.996Z"
   },
   {
    "duration": 18,
    "start_time": "2023-09-28T11:51:55.041Z"
   },
   {
    "duration": 12,
    "start_time": "2023-09-28T11:51:55.062Z"
   },
   {
    "duration": 360,
    "start_time": "2023-09-28T11:51:55.076Z"
   },
   {
    "duration": 5,
    "start_time": "2023-09-28T11:51:55.438Z"
   },
   {
    "duration": 478,
    "start_time": "2023-09-28T11:51:55.456Z"
   },
   {
    "duration": 384,
    "start_time": "2023-09-28T11:51:55.936Z"
   },
   {
    "duration": 369,
    "start_time": "2023-09-28T11:51:56.322Z"
   },
   {
    "duration": 418,
    "start_time": "2023-09-28T11:51:56.693Z"
   },
   {
    "duration": 248,
    "start_time": "2023-09-28T11:51:57.113Z"
   },
   {
    "duration": 260,
    "start_time": "2023-09-28T11:51:57.364Z"
   },
   {
    "duration": 163,
    "start_time": "2023-09-28T11:51:57.626Z"
   },
   {
    "duration": 370,
    "start_time": "2023-09-28T11:51:57.791Z"
   },
   {
    "duration": 370,
    "start_time": "2023-09-28T11:51:58.164Z"
   },
   {
    "duration": 430,
    "start_time": "2023-09-28T11:51:58.536Z"
   },
   {
    "duration": 417,
    "start_time": "2023-09-28T11:51:58.968Z"
   },
   {
    "duration": 12,
    "start_time": "2023-09-28T11:51:59.387Z"
   },
   {
    "duration": 132,
    "start_time": "2023-09-28T11:51:59.400Z"
   },
   {
    "duration": 342,
    "start_time": "2023-09-28T11:51:59.534Z"
   },
   {
    "duration": 248,
    "start_time": "2023-09-28T11:51:59.878Z"
   },
   {
    "duration": 339,
    "start_time": "2023-09-28T11:52:00.128Z"
   },
   {
    "duration": 200,
    "start_time": "2023-09-28T11:52:00.470Z"
   },
   {
    "duration": 224,
    "start_time": "2023-09-28T11:52:00.673Z"
   },
   {
    "duration": 215,
    "start_time": "2023-09-28T11:52:00.899Z"
   },
   {
    "duration": 230,
    "start_time": "2023-09-28T11:52:01.116Z"
   },
   {
    "duration": 226,
    "start_time": "2023-09-28T11:52:01.364Z"
   },
   {
    "duration": 208,
    "start_time": "2023-09-28T11:52:01.593Z"
   },
   {
    "duration": 20,
    "start_time": "2023-09-28T11:52:01.803Z"
   },
   {
    "duration": 19,
    "start_time": "2023-09-28T11:52:06.950Z"
   },
   {
    "duration": 20,
    "start_time": "2023-09-28T11:52:25.016Z"
   },
   {
    "duration": 21,
    "start_time": "2023-09-28T11:52:52.081Z"
   },
   {
    "duration": 9,
    "start_time": "2023-09-28T11:53:15.636Z"
   },
   {
    "duration": 9,
    "start_time": "2023-09-28T11:54:18.014Z"
   },
   {
    "duration": 13,
    "start_time": "2023-09-28T11:54:34.879Z"
   },
   {
    "duration": 24,
    "start_time": "2023-09-28T11:58:48.388Z"
   },
   {
    "duration": 49,
    "start_time": "2023-09-28T11:59:02.196Z"
   },
   {
    "duration": 17,
    "start_time": "2023-09-28T11:59:09.593Z"
   },
   {
    "duration": 68,
    "start_time": "2023-09-28T12:00:27.186Z"
   },
   {
    "duration": 21,
    "start_time": "2023-09-28T12:02:15.856Z"
   },
   {
    "duration": 22,
    "start_time": "2023-09-28T12:03:41.996Z"
   },
   {
    "duration": 23,
    "start_time": "2023-09-28T12:03:55.193Z"
   },
   {
    "duration": 94,
    "start_time": "2023-09-28T12:07:05.242Z"
   },
   {
    "duration": 103,
    "start_time": "2023-09-28T12:07:19.823Z"
   },
   {
    "duration": 224,
    "start_time": "2023-09-28T12:07:34.759Z"
   },
   {
    "duration": 17,
    "start_time": "2023-09-28T12:07:45.226Z"
   },
   {
    "duration": 122,
    "start_time": "2023-09-28T12:08:27.242Z"
   },
   {
    "duration": 19,
    "start_time": "2023-09-28T12:08:57.895Z"
   },
   {
    "duration": 26,
    "start_time": "2023-09-28T12:10:41.653Z"
   },
   {
    "duration": 33,
    "start_time": "2023-09-28T12:12:01.647Z"
   },
   {
    "duration": 28,
    "start_time": "2023-09-28T12:12:34.689Z"
   },
   {
    "duration": 30,
    "start_time": "2023-09-28T12:15:23.253Z"
   },
   {
    "duration": 31,
    "start_time": "2023-09-28T12:15:37.276Z"
   },
   {
    "duration": 11,
    "start_time": "2023-09-28T12:21:27.003Z"
   },
   {
    "duration": 1334,
    "start_time": "2023-09-28T12:35:02.750Z"
   },
   {
    "duration": 34,
    "start_time": "2023-09-28T12:35:29.816Z"
   },
   {
    "duration": 34,
    "start_time": "2023-09-28T12:35:56.738Z"
   },
   {
    "duration": 136,
    "start_time": "2023-09-28T13:08:25.415Z"
   },
   {
    "duration": 98,
    "start_time": "2023-09-28T13:08:36.472Z"
   },
   {
    "duration": 34,
    "start_time": "2023-09-28T13:08:48.881Z"
   },
   {
    "duration": 14,
    "start_time": "2023-09-28T13:09:18.252Z"
   },
   {
    "duration": 15,
    "start_time": "2023-09-28T13:10:22.006Z"
   },
   {
    "duration": 174,
    "start_time": "2023-09-28T13:10:30.069Z"
   },
   {
    "duration": 196,
    "start_time": "2023-09-28T13:11:47.350Z"
   },
   {
    "duration": 191,
    "start_time": "2023-09-28T13:12:04.067Z"
   },
   {
    "duration": 175,
    "start_time": "2023-09-28T13:13:25.826Z"
   },
   {
    "duration": 304,
    "start_time": "2023-09-28T13:13:32.475Z"
   },
   {
    "duration": 207,
    "start_time": "2023-09-28T13:14:34.209Z"
   },
   {
    "duration": 9,
    "start_time": "2023-09-28T13:17:54.591Z"
   },
   {
    "duration": 7,
    "start_time": "2023-09-28T13:18:39.920Z"
   },
   {
    "duration": 8,
    "start_time": "2023-09-28T13:19:07.228Z"
   },
   {
    "duration": 8,
    "start_time": "2023-09-28T13:19:39.329Z"
   },
   {
    "duration": 9,
    "start_time": "2023-09-28T13:20:03.389Z"
   },
   {
    "duration": 177,
    "start_time": "2023-09-28T13:20:51.519Z"
   },
   {
    "duration": 12,
    "start_time": "2023-09-28T13:23:04.055Z"
   },
   {
    "duration": 194,
    "start_time": "2023-09-28T13:23:20.022Z"
   },
   {
    "duration": 4,
    "start_time": "2023-09-28T13:23:58.493Z"
   },
   {
    "duration": 186,
    "start_time": "2023-09-28T13:24:11.694Z"
   },
   {
    "duration": 200,
    "start_time": "2023-09-28T13:31:45.483Z"
   },
   {
    "duration": 8,
    "start_time": "2023-09-28T14:09:44.935Z"
   },
   {
    "duration": 6,
    "start_time": "2023-09-28T14:10:08.091Z"
   },
   {
    "duration": 2643,
    "start_time": "2023-09-28T16:03:10.623Z"
   },
   {
    "duration": 10,
    "start_time": "2023-09-28T16:03:13.268Z"
   },
   {
    "duration": 8,
    "start_time": "2023-09-28T16:03:13.280Z"
   },
   {
    "duration": 9,
    "start_time": "2023-09-28T16:03:13.290Z"
   },
   {
    "duration": 9,
    "start_time": "2023-09-28T16:03:13.301Z"
   },
   {
    "duration": 7,
    "start_time": "2023-09-28T16:03:13.312Z"
   },
   {
    "duration": 27,
    "start_time": "2023-09-28T16:03:13.321Z"
   },
   {
    "duration": 6,
    "start_time": "2023-09-28T16:03:13.350Z"
   },
   {
    "duration": 4,
    "start_time": "2023-09-28T16:03:13.357Z"
   },
   {
    "duration": 51,
    "start_time": "2023-09-28T16:03:13.363Z"
   },
   {
    "duration": 9,
    "start_time": "2023-09-28T16:03:13.416Z"
   },
   {
    "duration": 155,
    "start_time": "2023-09-28T16:03:13.426Z"
   },
   {
    "duration": 5,
    "start_time": "2023-09-28T16:03:13.583Z"
   },
   {
    "duration": 10,
    "start_time": "2023-09-28T16:03:13.589Z"
   },
   {
    "duration": 4,
    "start_time": "2023-09-28T16:03:13.600Z"
   },
   {
    "duration": 6,
    "start_time": "2023-09-28T16:03:13.605Z"
   },
   {
    "duration": 7,
    "start_time": "2023-09-28T16:03:13.612Z"
   },
   {
    "duration": 27,
    "start_time": "2023-09-28T16:03:13.620Z"
   },
   {
    "duration": 77,
    "start_time": "2023-09-28T16:03:13.649Z"
   },
   {
    "duration": 16,
    "start_time": "2023-09-28T16:03:13.728Z"
   },
   {
    "duration": 8,
    "start_time": "2023-09-28T16:03:13.745Z"
   },
   {
    "duration": 7,
    "start_time": "2023-09-28T16:03:13.754Z"
   },
   {
    "duration": 8,
    "start_time": "2023-09-28T16:03:13.762Z"
   },
   {
    "duration": 22,
    "start_time": "2023-09-28T16:03:13.771Z"
   },
   {
    "duration": 24,
    "start_time": "2023-09-28T16:03:13.794Z"
   },
   {
    "duration": 292,
    "start_time": "2023-09-28T16:03:13.820Z"
   },
   {
    "duration": 5,
    "start_time": "2023-09-28T16:03:14.114Z"
   },
   {
    "duration": 410,
    "start_time": "2023-09-28T16:03:14.123Z"
   },
   {
    "duration": 295,
    "start_time": "2023-09-28T16:03:14.535Z"
   },
   {
    "duration": 314,
    "start_time": "2023-09-28T16:03:14.832Z"
   },
   {
    "duration": 291,
    "start_time": "2023-09-28T16:03:15.147Z"
   },
   {
    "duration": 161,
    "start_time": "2023-09-28T16:03:15.440Z"
   },
   {
    "duration": 187,
    "start_time": "2023-09-28T16:03:15.602Z"
   },
   {
    "duration": 119,
    "start_time": "2023-09-28T16:03:15.790Z"
   },
   {
    "duration": 250,
    "start_time": "2023-09-28T16:03:15.911Z"
   },
   {
    "duration": 311,
    "start_time": "2023-09-28T16:03:16.163Z"
   },
   {
    "duration": 295,
    "start_time": "2023-09-28T16:03:16.476Z"
   },
   {
    "duration": 272,
    "start_time": "2023-09-28T16:03:16.773Z"
   },
   {
    "duration": 11,
    "start_time": "2023-09-28T16:03:17.046Z"
   },
   {
    "duration": 109,
    "start_time": "2023-09-28T16:03:17.059Z"
   },
   {
    "duration": 240,
    "start_time": "2023-09-28T16:03:17.170Z"
   },
   {
    "duration": 175,
    "start_time": "2023-09-28T16:03:17.412Z"
   },
   {
    "duration": 238,
    "start_time": "2023-09-28T16:03:17.589Z"
   },
   {
    "duration": 140,
    "start_time": "2023-09-28T16:03:17.829Z"
   },
   {
    "duration": 143,
    "start_time": "2023-09-28T16:03:17.971Z"
   },
   {
    "duration": 135,
    "start_time": "2023-09-28T16:03:18.116Z"
   },
   {
    "duration": 163,
    "start_time": "2023-09-28T16:03:18.253Z"
   },
   {
    "duration": 170,
    "start_time": "2023-09-28T16:03:18.418Z"
   },
   {
    "duration": 157,
    "start_time": "2023-09-28T16:03:18.590Z"
   },
   {
    "duration": 8,
    "start_time": "2023-09-28T16:03:18.748Z"
   },
   {
    "duration": 38,
    "start_time": "2023-09-28T16:03:18.757Z"
   },
   {
    "duration": 156,
    "start_time": "2023-09-28T16:03:18.796Z"
   },
   {
    "duration": 7,
    "start_time": "2023-09-28T16:09:26.359Z"
   },
   {
    "duration": 91,
    "start_time": "2023-09-28T16:14:49.097Z"
   },
   {
    "duration": 892,
    "start_time": "2023-09-29T20:23:12.484Z"
   },
   {
    "duration": 2768,
    "start_time": "2023-09-29T20:23:14.783Z"
   },
   {
    "duration": 125,
    "start_time": "2023-09-29T20:25:45.712Z"
   },
   {
    "duration": 83,
    "start_time": "2023-09-29T20:26:38.303Z"
   },
   {
    "duration": 145,
    "start_time": "2023-09-29T20:27:05.160Z"
   },
   {
    "duration": 98,
    "start_time": "2023-09-29T20:27:12.605Z"
   },
   {
    "duration": 2416,
    "start_time": "2023-09-29T20:29:22.770Z"
   },
   {
    "duration": 2483,
    "start_time": "2023-09-29T20:29:50.470Z"
   },
   {
    "duration": 3,
    "start_time": "2023-09-29T20:35:59.315Z"
   },
   {
    "duration": 78,
    "start_time": "2023-09-29T20:37:16.836Z"
   },
   {
    "duration": 10,
    "start_time": "2023-09-29T20:38:03.522Z"
   },
   {
    "duration": 380,
    "start_time": "2023-09-29T20:48:22.519Z"
   },
   {
    "duration": 310,
    "start_time": "2023-09-29T20:49:51.918Z"
   },
   {
    "duration": 460,
    "start_time": "2023-09-29T20:50:38.413Z"
   },
   {
    "duration": 4,
    "start_time": "2023-09-29T20:51:34.630Z"
   },
   {
    "duration": 2480,
    "start_time": "2023-09-29T20:51:34.636Z"
   },
   {
    "duration": 11,
    "start_time": "2023-09-29T20:51:37.117Z"
   },
   {
    "duration": 9,
    "start_time": "2023-09-29T20:51:37.130Z"
   },
   {
    "duration": 11,
    "start_time": "2023-09-29T20:51:37.140Z"
   },
   {
    "duration": 8,
    "start_time": "2023-09-29T20:51:37.153Z"
   },
   {
    "duration": 52,
    "start_time": "2023-09-29T20:51:37.163Z"
   },
   {
    "duration": 9,
    "start_time": "2023-09-29T20:51:37.217Z"
   },
   {
    "duration": 8,
    "start_time": "2023-09-29T20:51:37.230Z"
   },
   {
    "duration": 5,
    "start_time": "2023-09-29T20:51:37.240Z"
   },
   {
    "duration": 64,
    "start_time": "2023-09-29T20:51:37.247Z"
   },
   {
    "duration": 9,
    "start_time": "2023-09-29T20:51:37.312Z"
   },
   {
    "duration": 180,
    "start_time": "2023-09-29T20:51:37.323Z"
   },
   {
    "duration": 9,
    "start_time": "2023-09-29T20:51:37.505Z"
   },
   {
    "duration": 14,
    "start_time": "2023-09-29T20:51:37.516Z"
   },
   {
    "duration": 5,
    "start_time": "2023-09-29T20:51:37.532Z"
   },
   {
    "duration": 8,
    "start_time": "2023-09-29T20:51:37.539Z"
   },
   {
    "duration": 13,
    "start_time": "2023-09-29T20:51:37.548Z"
   },
   {
    "duration": 7,
    "start_time": "2023-09-29T20:51:37.563Z"
   },
   {
    "duration": 114,
    "start_time": "2023-09-29T20:51:37.572Z"
   },
   {
    "duration": 10,
    "start_time": "2023-09-29T20:51:37.688Z"
   },
   {
    "duration": 9,
    "start_time": "2023-09-29T20:51:37.710Z"
   },
   {
    "duration": 5,
    "start_time": "2023-09-29T20:51:37.721Z"
   },
   {
    "duration": 8,
    "start_time": "2023-09-29T20:51:37.729Z"
   },
   {
    "duration": 6,
    "start_time": "2023-09-29T20:51:37.739Z"
   },
   {
    "duration": 11,
    "start_time": "2023-09-29T20:51:37.747Z"
   },
   {
    "duration": 333,
    "start_time": "2023-09-29T20:51:37.760Z"
   },
   {
    "duration": 6,
    "start_time": "2023-09-29T20:51:38.095Z"
   },
   {
    "duration": 329,
    "start_time": "2023-09-29T20:51:38.109Z"
   },
   {
    "duration": 334,
    "start_time": "2023-09-29T20:51:38.440Z"
   },
   {
    "duration": 492,
    "start_time": "2023-09-29T20:51:38.776Z"
   },
   {
    "duration": 387,
    "start_time": "2023-09-29T20:51:45.229Z"
   },
   {
    "duration": 328,
    "start_time": "2023-09-29T20:52:31.466Z"
   },
   {
    "duration": 3,
    "start_time": "2023-09-29T20:52:44.789Z"
   },
   {
    "duration": 2505,
    "start_time": "2023-09-29T20:52:44.796Z"
   },
   {
    "duration": 10,
    "start_time": "2023-09-29T20:52:47.308Z"
   },
   {
    "duration": 9,
    "start_time": "2023-09-29T20:52:47.320Z"
   },
   {
    "duration": 11,
    "start_time": "2023-09-29T20:52:47.331Z"
   },
   {
    "duration": 16,
    "start_time": "2023-09-29T20:52:47.344Z"
   },
   {
    "duration": 9,
    "start_time": "2023-09-29T20:52:47.362Z"
   },
   {
    "duration": 6,
    "start_time": "2023-09-29T20:52:47.373Z"
   },
   {
    "duration": 35,
    "start_time": "2023-09-29T20:52:47.381Z"
   },
   {
    "duration": 10,
    "start_time": "2023-09-29T20:52:47.418Z"
   },
   {
    "duration": 45,
    "start_time": "2023-09-29T20:52:47.432Z"
   },
   {
    "duration": 30,
    "start_time": "2023-09-29T20:52:47.479Z"
   },
   {
    "duration": 172,
    "start_time": "2023-09-29T20:52:47.511Z"
   },
   {
    "duration": 6,
    "start_time": "2023-09-29T20:52:47.685Z"
   },
   {
    "duration": 25,
    "start_time": "2023-09-29T20:52:47.693Z"
   },
   {
    "duration": 5,
    "start_time": "2023-09-29T20:52:47.720Z"
   },
   {
    "duration": 5,
    "start_time": "2023-09-29T20:52:47.727Z"
   },
   {
    "duration": 18,
    "start_time": "2023-09-29T20:52:47.734Z"
   },
   {
    "duration": 8,
    "start_time": "2023-09-29T20:52:47.754Z"
   },
   {
    "duration": 117,
    "start_time": "2023-09-29T20:52:47.764Z"
   },
   {
    "duration": 10,
    "start_time": "2023-09-29T20:52:47.882Z"
   },
   {
    "duration": 23,
    "start_time": "2023-09-29T20:52:47.894Z"
   },
   {
    "duration": 6,
    "start_time": "2023-09-29T20:52:47.918Z"
   },
   {
    "duration": 6,
    "start_time": "2023-09-29T20:52:47.926Z"
   },
   {
    "duration": 9,
    "start_time": "2023-09-29T20:52:47.934Z"
   },
   {
    "duration": 8,
    "start_time": "2023-09-29T20:52:47.944Z"
   },
   {
    "duration": 320,
    "start_time": "2023-09-29T20:52:47.954Z"
   },
   {
    "duration": 5,
    "start_time": "2023-09-29T20:52:48.276Z"
   },
   {
    "duration": 388,
    "start_time": "2023-09-29T20:52:48.285Z"
   },
   {
    "duration": 482,
    "start_time": "2023-09-29T20:52:48.675Z"
   },
   {
    "duration": 344,
    "start_time": "2023-09-29T20:52:49.159Z"
   },
   {
    "duration": 332,
    "start_time": "2023-09-29T20:52:53.515Z"
   },
   {
    "duration": 336,
    "start_time": "2023-09-29T20:53:13.313Z"
   },
   {
    "duration": 314,
    "start_time": "2023-09-29T20:54:17.272Z"
   },
   {
    "duration": 3,
    "start_time": "2023-09-29T20:54:31.142Z"
   },
   {
    "duration": 2613,
    "start_time": "2023-09-29T20:54:31.147Z"
   },
   {
    "duration": 11,
    "start_time": "2023-09-29T20:54:33.762Z"
   },
   {
    "duration": 9,
    "start_time": "2023-09-29T20:54:33.774Z"
   },
   {
    "duration": 30,
    "start_time": "2023-09-29T20:54:33.785Z"
   },
   {
    "duration": 12,
    "start_time": "2023-09-29T20:54:33.817Z"
   },
   {
    "duration": 8,
    "start_time": "2023-09-29T20:54:33.831Z"
   },
   {
    "duration": 7,
    "start_time": "2023-09-29T20:54:33.841Z"
   },
   {
    "duration": 8,
    "start_time": "2023-09-29T20:54:33.850Z"
   },
   {
    "duration": 4,
    "start_time": "2023-09-29T20:54:33.860Z"
   },
   {
    "duration": 74,
    "start_time": "2023-09-29T20:54:33.868Z"
   },
   {
    "duration": 10,
    "start_time": "2023-09-29T20:54:33.944Z"
   },
   {
    "duration": 205,
    "start_time": "2023-09-29T20:54:33.955Z"
   },
   {
    "duration": 6,
    "start_time": "2023-09-29T20:54:34.162Z"
   },
   {
    "duration": 12,
    "start_time": "2023-09-29T20:54:34.170Z"
   },
   {
    "duration": 29,
    "start_time": "2023-09-29T20:54:34.184Z"
   },
   {
    "duration": 5,
    "start_time": "2023-09-29T20:54:34.215Z"
   },
   {
    "duration": 5,
    "start_time": "2023-09-29T20:54:34.222Z"
   },
   {
    "duration": 14,
    "start_time": "2023-09-29T20:54:34.229Z"
   },
   {
    "duration": 110,
    "start_time": "2023-09-29T20:54:34.245Z"
   },
   {
    "duration": 9,
    "start_time": "2023-09-29T20:54:34.357Z"
   },
   {
    "duration": 9,
    "start_time": "2023-09-29T20:54:34.368Z"
   },
   {
    "duration": 31,
    "start_time": "2023-09-29T20:54:34.378Z"
   },
   {
    "duration": 6,
    "start_time": "2023-09-29T20:54:34.411Z"
   },
   {
    "duration": 6,
    "start_time": "2023-09-29T20:54:34.419Z"
   },
   {
    "duration": 6,
    "start_time": "2023-09-29T20:54:34.427Z"
   },
   {
    "duration": 444,
    "start_time": "2023-09-29T20:54:34.434Z"
   },
   {
    "duration": 4,
    "start_time": "2023-09-29T20:54:34.880Z"
   },
   {
    "duration": 359,
    "start_time": "2023-09-29T20:54:34.888Z"
   },
   {
    "duration": 360,
    "start_time": "2023-09-29T20:54:35.249Z"
   },
   {
    "duration": 332,
    "start_time": "2023-09-29T20:54:35.611Z"
   },
   {
    "duration": 338,
    "start_time": "2023-09-29T20:54:43.033Z"
   },
   {
    "duration": 425,
    "start_time": "2023-09-29T20:55:08.861Z"
   },
   {
    "duration": 335,
    "start_time": "2023-09-29T20:55:18.745Z"
   },
   {
    "duration": 334,
    "start_time": "2023-09-29T20:55:30.596Z"
   },
   {
    "duration": 6,
    "start_time": "2023-09-29T20:58:22.931Z"
   },
   {
    "duration": 7,
    "start_time": "2023-09-29T20:58:41.457Z"
   },
   {
    "duration": 8,
    "start_time": "2023-09-29T20:59:24.884Z"
   },
   {
    "duration": 11,
    "start_time": "2023-09-29T20:59:50.803Z"
   },
   {
    "duration": 8,
    "start_time": "2023-09-29T21:00:01.911Z"
   },
   {
    "duration": 7,
    "start_time": "2023-09-29T21:00:10.331Z"
   },
   {
    "duration": 12,
    "start_time": "2023-09-29T21:00:17.405Z"
   },
   {
    "duration": 9,
    "start_time": "2023-09-29T21:00:32.292Z"
   },
   {
    "duration": 12,
    "start_time": "2023-09-29T21:00:49.438Z"
   },
   {
    "duration": 9,
    "start_time": "2023-09-29T21:01:11.659Z"
   },
   {
    "duration": 731,
    "start_time": "2023-09-29T21:03:35.877Z"
   },
   {
    "duration": 653,
    "start_time": "2023-09-29T21:03:55.864Z"
   },
   {
    "duration": 7,
    "start_time": "2023-09-29T21:10:57.436Z"
   },
   {
    "duration": 12,
    "start_time": "2023-09-29T21:11:25.209Z"
   },
   {
    "duration": 7,
    "start_time": "2023-09-29T21:11:42.983Z"
   },
   {
    "duration": 7,
    "start_time": "2023-09-29T21:15:53.775Z"
   },
   {
    "duration": 63,
    "start_time": "2023-09-29T21:19:08.632Z"
   },
   {
    "duration": 87,
    "start_time": "2023-09-29T21:20:23.440Z"
   },
   {
    "duration": 93,
    "start_time": "2023-09-29T21:20:32.613Z"
   },
   {
    "duration": 76,
    "start_time": "2023-09-29T21:21:07.079Z"
   },
   {
    "duration": 9,
    "start_time": "2023-09-29T21:21:34.269Z"
   },
   {
    "duration": 77,
    "start_time": "2023-09-29T21:23:55.220Z"
   },
   {
    "duration": 105,
    "start_time": "2023-09-29T21:24:23.440Z"
   },
   {
    "duration": 5,
    "start_time": "2023-09-29T21:24:33.775Z"
   },
   {
    "duration": 6,
    "start_time": "2023-09-29T21:24:53.143Z"
   },
   {
    "duration": 3,
    "start_time": "2023-09-29T21:25:31.306Z"
   },
   {
    "duration": 5,
    "start_time": "2023-09-29T21:25:35.079Z"
   },
   {
    "duration": 23,
    "start_time": "2023-09-29T21:28:50.549Z"
   },
   {
    "duration": 7,
    "start_time": "2023-09-29T21:29:39.273Z"
   },
   {
    "duration": 4,
    "start_time": "2023-09-29T21:29:47.012Z"
   },
   {
    "duration": 2490,
    "start_time": "2023-09-29T21:29:47.018Z"
   },
   {
    "duration": 11,
    "start_time": "2023-09-29T21:29:49.509Z"
   },
   {
    "duration": 9,
    "start_time": "2023-09-29T21:29:49.522Z"
   },
   {
    "duration": 21,
    "start_time": "2023-09-29T21:29:49.533Z"
   },
   {
    "duration": 16,
    "start_time": "2023-09-29T21:29:49.555Z"
   },
   {
    "duration": 10,
    "start_time": "2023-09-29T21:29:49.573Z"
   },
   {
    "duration": 7,
    "start_time": "2023-09-29T21:29:49.610Z"
   },
   {
    "duration": 8,
    "start_time": "2023-09-29T21:29:49.620Z"
   },
   {
    "duration": 4,
    "start_time": "2023-09-29T21:29:49.630Z"
   },
   {
    "duration": 36,
    "start_time": "2023-09-29T21:29:49.636Z"
   },
   {
    "duration": 40,
    "start_time": "2023-09-29T21:29:49.674Z"
   },
   {
    "duration": 197,
    "start_time": "2023-09-29T21:29:49.716Z"
   },
   {
    "duration": 7,
    "start_time": "2023-09-29T21:29:49.915Z"
   },
   {
    "duration": 15,
    "start_time": "2023-09-29T21:29:49.924Z"
   },
   {
    "duration": 5,
    "start_time": "2023-09-29T21:29:49.940Z"
   },
   {
    "duration": 15,
    "start_time": "2023-09-29T21:29:49.947Z"
   },
   {
    "duration": 17,
    "start_time": "2023-09-29T21:29:49.964Z"
   },
   {
    "duration": 59,
    "start_time": "2023-09-29T21:29:49.983Z"
   },
   {
    "duration": 159,
    "start_time": "2023-09-29T21:29:50.043Z"
   },
   {
    "duration": 13,
    "start_time": "2023-09-29T21:29:50.205Z"
   },
   {
    "duration": 51,
    "start_time": "2023-09-29T21:29:50.220Z"
   },
   {
    "duration": 35,
    "start_time": "2023-09-29T21:29:50.274Z"
   },
   {
    "duration": 63,
    "start_time": "2023-09-29T21:29:50.312Z"
   },
   {
    "duration": 61,
    "start_time": "2023-09-29T21:29:50.377Z"
   },
   {
    "duration": 67,
    "start_time": "2023-09-29T21:29:50.439Z"
   },
   {
    "duration": 386,
    "start_time": "2023-09-29T21:29:50.508Z"
   },
   {
    "duration": 5,
    "start_time": "2023-09-29T21:29:50.896Z"
   },
   {
    "duration": 9,
    "start_time": "2023-09-29T21:29:53.090Z"
   },
   {
    "duration": 6,
    "start_time": "2023-09-29T21:30:11.646Z"
   },
   {
    "duration": 82,
    "start_time": "2023-09-29T21:31:29.246Z"
   },
   {
    "duration": 3,
    "start_time": "2023-09-29T21:31:43.317Z"
   },
   {
    "duration": 2776,
    "start_time": "2023-09-29T21:31:43.323Z"
   },
   {
    "duration": 20,
    "start_time": "2023-09-29T21:31:46.100Z"
   },
   {
    "duration": 26,
    "start_time": "2023-09-29T21:31:46.122Z"
   },
   {
    "duration": 11,
    "start_time": "2023-09-29T21:31:46.151Z"
   },
   {
    "duration": 15,
    "start_time": "2023-09-29T21:31:46.164Z"
   },
   {
    "duration": 44,
    "start_time": "2023-09-29T21:31:46.181Z"
   },
   {
    "duration": 14,
    "start_time": "2023-09-29T21:31:46.227Z"
   },
   {
    "duration": 59,
    "start_time": "2023-09-29T21:31:46.244Z"
   },
   {
    "duration": 22,
    "start_time": "2023-09-29T21:31:46.304Z"
   },
   {
    "duration": 37,
    "start_time": "2023-09-29T21:31:46.329Z"
   },
   {
    "duration": 14,
    "start_time": "2023-09-29T21:31:46.368Z"
   },
   {
    "duration": 188,
    "start_time": "2023-09-29T21:31:46.385Z"
   },
   {
    "duration": 9,
    "start_time": "2023-09-29T21:31:46.575Z"
   },
   {
    "duration": 30,
    "start_time": "2023-09-29T21:31:46.586Z"
   },
   {
    "duration": 5,
    "start_time": "2023-09-29T21:31:46.619Z"
   },
   {
    "duration": 7,
    "start_time": "2023-09-29T21:31:46.626Z"
   },
   {
    "duration": 7,
    "start_time": "2023-09-29T21:31:46.635Z"
   },
   {
    "duration": 26,
    "start_time": "2023-09-29T21:31:46.644Z"
   },
   {
    "duration": 114,
    "start_time": "2023-09-29T21:31:46.672Z"
   },
   {
    "duration": 10,
    "start_time": "2023-09-29T21:31:46.788Z"
   },
   {
    "duration": 14,
    "start_time": "2023-09-29T21:31:46.808Z"
   },
   {
    "duration": 11,
    "start_time": "2023-09-29T21:31:46.824Z"
   },
   {
    "duration": 22,
    "start_time": "2023-09-29T21:31:46.836Z"
   },
   {
    "duration": 7,
    "start_time": "2023-09-29T21:31:46.860Z"
   },
   {
    "duration": 7,
    "start_time": "2023-09-29T21:31:46.868Z"
   },
   {
    "duration": 466,
    "start_time": "2023-09-29T21:31:46.877Z"
   },
   {
    "duration": 6,
    "start_time": "2023-09-29T21:31:47.344Z"
   },
   {
    "duration": 16,
    "start_time": "2023-09-29T21:31:47.354Z"
   },
   {
    "duration": 67,
    "start_time": "2023-09-29T21:31:53.000Z"
   },
   {
    "duration": 6,
    "start_time": "2023-09-29T21:32:14.857Z"
   },
   {
    "duration": 3,
    "start_time": "2023-09-29T21:32:27.205Z"
   },
   {
    "duration": 2752,
    "start_time": "2023-09-29T21:32:27.210Z"
   },
   {
    "duration": 11,
    "start_time": "2023-09-29T21:32:29.964Z"
   },
   {
    "duration": 12,
    "start_time": "2023-09-29T21:32:29.977Z"
   },
   {
    "duration": 11,
    "start_time": "2023-09-29T21:32:30.009Z"
   },
   {
    "duration": 91,
    "start_time": "2023-09-29T21:32:30.021Z"
   },
   {
    "duration": 31,
    "start_time": "2023-09-29T21:32:30.114Z"
   },
   {
    "duration": 23,
    "start_time": "2023-09-29T21:32:30.146Z"
   },
   {
    "duration": 48,
    "start_time": "2023-09-29T21:32:30.172Z"
   },
   {
    "duration": 27,
    "start_time": "2023-09-29T21:32:30.222Z"
   },
   {
    "duration": 47,
    "start_time": "2023-09-29T21:32:30.251Z"
   },
   {
    "duration": 11,
    "start_time": "2023-09-29T21:32:30.299Z"
   },
   {
    "duration": 183,
    "start_time": "2023-09-29T21:32:30.311Z"
   },
   {
    "duration": 14,
    "start_time": "2023-09-29T21:32:30.498Z"
   },
   {
    "duration": 76,
    "start_time": "2023-09-29T21:32:30.513Z"
   },
   {
    "duration": 6,
    "start_time": "2023-09-29T21:32:30.591Z"
   },
   {
    "duration": 33,
    "start_time": "2023-09-29T21:32:30.599Z"
   },
   {
    "duration": 58,
    "start_time": "2023-09-29T21:32:30.635Z"
   },
   {
    "duration": 47,
    "start_time": "2023-09-29T21:32:30.696Z"
   },
   {
    "duration": 170,
    "start_time": "2023-09-29T21:32:30.745Z"
   },
   {
    "duration": 11,
    "start_time": "2023-09-29T21:32:30.917Z"
   },
   {
    "duration": 81,
    "start_time": "2023-09-29T21:32:30.930Z"
   },
   {
    "duration": 135,
    "start_time": "2023-09-29T21:32:31.013Z"
   },
   {
    "duration": 87,
    "start_time": "2023-09-29T21:32:31.151Z"
   },
   {
    "duration": 102,
    "start_time": "2023-09-29T21:32:31.241Z"
   },
   {
    "duration": 122,
    "start_time": "2023-09-29T21:32:31.345Z"
   },
   {
    "duration": 376,
    "start_time": "2023-09-29T21:32:31.469Z"
   },
   {
    "duration": 4,
    "start_time": "2023-09-29T21:32:31.847Z"
   },
   {
    "duration": 145,
    "start_time": "2023-09-29T21:32:31.853Z"
   },
   {
    "duration": 6,
    "start_time": "2023-09-29T21:32:35.583Z"
   },
   {
    "duration": 70,
    "start_time": "2023-09-29T21:32:44.055Z"
   },
   {
    "duration": 3,
    "start_time": "2023-09-29T21:32:54.474Z"
   },
   {
    "duration": 2617,
    "start_time": "2023-09-29T21:32:54.483Z"
   },
   {
    "duration": 12,
    "start_time": "2023-09-29T21:32:57.108Z"
   },
   {
    "duration": 140,
    "start_time": "2023-09-29T21:32:57.122Z"
   },
   {
    "duration": 120,
    "start_time": "2023-09-29T21:32:57.265Z"
   },
   {
    "duration": 14,
    "start_time": "2023-09-29T21:32:57.387Z"
   },
   {
    "duration": 8,
    "start_time": "2023-09-29T21:32:57.403Z"
   },
   {
    "duration": 12,
    "start_time": "2023-09-29T21:32:57.413Z"
   },
   {
    "duration": 14,
    "start_time": "2023-09-29T21:32:57.427Z"
   },
   {
    "duration": 20,
    "start_time": "2023-09-29T21:32:57.443Z"
   },
   {
    "duration": 39,
    "start_time": "2023-09-29T21:32:57.466Z"
   },
   {
    "duration": 28,
    "start_time": "2023-09-29T21:32:57.506Z"
   },
   {
    "duration": 168,
    "start_time": "2023-09-29T21:32:57.536Z"
   },
   {
    "duration": 8,
    "start_time": "2023-09-29T21:32:57.706Z"
   },
   {
    "duration": 17,
    "start_time": "2023-09-29T21:32:57.715Z"
   },
   {
    "duration": 6,
    "start_time": "2023-09-29T21:32:57.735Z"
   },
   {
    "duration": 8,
    "start_time": "2023-09-29T21:32:57.743Z"
   },
   {
    "duration": 13,
    "start_time": "2023-09-29T21:32:57.753Z"
   },
   {
    "duration": 19,
    "start_time": "2023-09-29T21:32:57.768Z"
   },
   {
    "duration": 118,
    "start_time": "2023-09-29T21:32:57.809Z"
   },
   {
    "duration": 10,
    "start_time": "2023-09-29T21:32:57.929Z"
   },
   {
    "duration": 20,
    "start_time": "2023-09-29T21:32:57.940Z"
   },
   {
    "duration": 23,
    "start_time": "2023-09-29T21:32:57.962Z"
   },
   {
    "duration": 18,
    "start_time": "2023-09-29T21:32:57.987Z"
   },
   {
    "duration": 18,
    "start_time": "2023-09-29T21:32:58.007Z"
   },
   {
    "duration": 41,
    "start_time": "2023-09-29T21:32:58.028Z"
   },
   {
    "duration": 344,
    "start_time": "2023-09-29T21:32:58.072Z"
   },
   {
    "duration": 6,
    "start_time": "2023-09-29T21:32:58.418Z"
   },
   {
    "duration": 9,
    "start_time": "2023-09-29T21:32:58.427Z"
   },
   {
    "duration": 72,
    "start_time": "2023-09-29T21:33:06.039Z"
   },
   {
    "duration": 95,
    "start_time": "2023-09-29T21:34:54.415Z"
   },
   {
    "duration": 80,
    "start_time": "2023-09-29T21:35:14.686Z"
   },
   {
    "duration": 224,
    "start_time": "2023-09-29T21:35:26.160Z"
   },
   {
    "duration": 71,
    "start_time": "2023-09-29T21:35:50.369Z"
   },
   {
    "duration": 7,
    "start_time": "2023-09-29T21:36:07.955Z"
   },
   {
    "duration": 6,
    "start_time": "2023-09-29T21:36:23.417Z"
   },
   {
    "duration": 6,
    "start_time": "2023-09-29T21:36:39.491Z"
   },
   {
    "duration": 10,
    "start_time": "2023-09-29T21:37:45.215Z"
   },
   {
    "duration": 13,
    "start_time": "2023-09-29T21:38:59.968Z"
   },
   {
    "duration": 24,
    "start_time": "2023-09-29T21:39:24.175Z"
   },
   {
    "duration": 15,
    "start_time": "2023-09-29T21:39:32.300Z"
   },
   {
    "duration": 9,
    "start_time": "2023-09-29T21:39:44.991Z"
   },
   {
    "duration": 11,
    "start_time": "2023-09-29T21:40:41.154Z"
   },
   {
    "duration": 10,
    "start_time": "2023-09-29T21:40:59.828Z"
   },
   {
    "duration": 6,
    "start_time": "2023-09-29T21:41:37.639Z"
   },
   {
    "duration": 4,
    "start_time": "2023-09-29T21:42:09.403Z"
   },
   {
    "duration": 10,
    "start_time": "2023-09-29T21:46:53.215Z"
   },
   {
    "duration": 9,
    "start_time": "2023-09-29T21:47:53.650Z"
   },
   {
    "duration": 93,
    "start_time": "2023-09-29T21:48:52.199Z"
   },
   {
    "duration": 112,
    "start_time": "2023-09-29T21:49:15.178Z"
   },
   {
    "duration": 106,
    "start_time": "2023-09-29T21:50:10.531Z"
   },
   {
    "duration": 5,
    "start_time": "2023-09-29T21:51:08.267Z"
   },
   {
    "duration": 3,
    "start_time": "2023-09-29T21:52:25.204Z"
   },
   {
    "duration": 2613,
    "start_time": "2023-09-29T21:52:25.214Z"
   },
   {
    "duration": 11,
    "start_time": "2023-09-29T21:52:27.829Z"
   },
   {
    "duration": 31,
    "start_time": "2023-09-29T21:52:27.841Z"
   },
   {
    "duration": 25,
    "start_time": "2023-09-29T21:52:27.875Z"
   },
   {
    "duration": 27,
    "start_time": "2023-09-29T21:52:27.902Z"
   },
   {
    "duration": 7,
    "start_time": "2023-09-29T21:52:27.931Z"
   },
   {
    "duration": 11,
    "start_time": "2023-09-29T21:52:27.940Z"
   },
   {
    "duration": 22,
    "start_time": "2023-09-29T21:52:27.953Z"
   },
   {
    "duration": 22,
    "start_time": "2023-09-29T21:52:27.977Z"
   },
   {
    "duration": 199,
    "start_time": "2023-09-29T21:52:28.002Z"
   },
   {
    "duration": 15,
    "start_time": "2023-09-29T21:52:28.203Z"
   },
   {
    "duration": 236,
    "start_time": "2023-09-29T21:52:28.221Z"
   },
   {
    "duration": 6,
    "start_time": "2023-09-29T21:52:28.459Z"
   },
   {
    "duration": 49,
    "start_time": "2023-09-29T21:52:28.466Z"
   },
   {
    "duration": 27,
    "start_time": "2023-09-29T21:52:28.519Z"
   },
   {
    "duration": 36,
    "start_time": "2023-09-29T21:52:28.547Z"
   },
   {
    "duration": 35,
    "start_time": "2023-09-29T21:52:28.585Z"
   },
   {
    "duration": 28,
    "start_time": "2023-09-29T21:52:28.623Z"
   },
   {
    "duration": 124,
    "start_time": "2023-09-29T21:52:28.652Z"
   },
   {
    "duration": 10,
    "start_time": "2023-09-29T21:52:28.778Z"
   },
   {
    "duration": 55,
    "start_time": "2023-09-29T21:52:28.790Z"
   },
   {
    "duration": 24,
    "start_time": "2023-09-29T21:52:28.846Z"
   },
   {
    "duration": 28,
    "start_time": "2023-09-29T21:52:28.872Z"
   },
   {
    "duration": 27,
    "start_time": "2023-09-29T21:52:28.902Z"
   },
   {
    "duration": 25,
    "start_time": "2023-09-29T21:52:28.931Z"
   },
   {
    "duration": 333,
    "start_time": "2023-09-29T21:52:28.958Z"
   },
   {
    "duration": 5,
    "start_time": "2023-09-29T21:52:29.293Z"
   },
   {
    "duration": 26,
    "start_time": "2023-09-29T21:52:29.301Z"
   },
   {
    "duration": 119,
    "start_time": "2023-09-29T21:52:33.145Z"
   },
   {
    "duration": 140,
    "start_time": "2023-09-29T21:53:04.001Z"
   },
   {
    "duration": 199,
    "start_time": "2023-09-29T21:53:12.851Z"
   },
   {
    "duration": 2,
    "start_time": "2023-09-29T21:53:23.438Z"
   },
   {
    "duration": 2646,
    "start_time": "2023-09-29T21:53:23.443Z"
   },
   {
    "duration": 19,
    "start_time": "2023-09-29T21:53:26.092Z"
   },
   {
    "duration": 9,
    "start_time": "2023-09-29T21:53:26.113Z"
   },
   {
    "duration": 14,
    "start_time": "2023-09-29T21:53:26.124Z"
   },
   {
    "duration": 21,
    "start_time": "2023-09-29T21:53:26.140Z"
   },
   {
    "duration": 8,
    "start_time": "2023-09-29T21:53:26.162Z"
   },
   {
    "duration": 12,
    "start_time": "2023-09-29T21:53:26.172Z"
   },
   {
    "duration": 9,
    "start_time": "2023-09-29T21:53:26.208Z"
   },
   {
    "duration": 17,
    "start_time": "2023-09-29T21:53:26.219Z"
   },
   {
    "duration": 97,
    "start_time": "2023-09-29T21:53:26.238Z"
   },
   {
    "duration": 10,
    "start_time": "2023-09-29T21:53:26.337Z"
   },
   {
    "duration": 203,
    "start_time": "2023-09-29T21:53:26.349Z"
   },
   {
    "duration": 9,
    "start_time": "2023-09-29T21:53:26.555Z"
   },
   {
    "duration": 16,
    "start_time": "2023-09-29T21:53:26.566Z"
   },
   {
    "duration": 14,
    "start_time": "2023-09-29T21:53:26.584Z"
   },
   {
    "duration": 8,
    "start_time": "2023-09-29T21:53:26.611Z"
   },
   {
    "duration": 7,
    "start_time": "2023-09-29T21:53:26.621Z"
   },
   {
    "duration": 8,
    "start_time": "2023-09-29T21:53:26.630Z"
   },
   {
    "duration": 132,
    "start_time": "2023-09-29T21:53:26.640Z"
   },
   {
    "duration": 10,
    "start_time": "2023-09-29T21:53:26.774Z"
   },
   {
    "duration": 10,
    "start_time": "2023-09-29T21:53:26.786Z"
   },
   {
    "duration": 6,
    "start_time": "2023-09-29T21:53:26.810Z"
   },
   {
    "duration": 9,
    "start_time": "2023-09-29T21:53:26.818Z"
   },
   {
    "duration": 9,
    "start_time": "2023-09-29T21:53:26.829Z"
   },
   {
    "duration": 16,
    "start_time": "2023-09-29T21:53:26.839Z"
   },
   {
    "duration": 316,
    "start_time": "2023-09-29T21:53:26.857Z"
   },
   {
    "duration": 5,
    "start_time": "2023-09-29T21:53:27.175Z"
   },
   {
    "duration": 14,
    "start_time": "2023-09-29T21:53:27.183Z"
   },
   {
    "duration": 107,
    "start_time": "2023-09-29T21:53:33.361Z"
   },
   {
    "duration": 6,
    "start_time": "2023-09-29T21:54:24.962Z"
   },
   {
    "duration": 9,
    "start_time": "2023-09-29T21:54:41.883Z"
   },
   {
    "duration": 18,
    "start_time": "2023-09-29T21:54:50.568Z"
   },
   {
    "duration": 42,
    "start_time": "2023-09-29T21:55:51.673Z"
   },
   {
    "duration": 9,
    "start_time": "2023-09-29T21:57:17.444Z"
   },
   {
    "duration": 15,
    "start_time": "2023-09-29T21:58:47.138Z"
   },
   {
    "duration": 4,
    "start_time": "2023-09-29T22:00:32.458Z"
   },
   {
    "duration": 2700,
    "start_time": "2023-09-29T22:00:32.472Z"
   },
   {
    "duration": 10,
    "start_time": "2023-09-29T22:00:35.175Z"
   },
   {
    "duration": 25,
    "start_time": "2023-09-29T22:00:35.187Z"
   },
   {
    "duration": 11,
    "start_time": "2023-09-29T22:00:35.214Z"
   },
   {
    "duration": 49,
    "start_time": "2023-09-29T22:00:35.226Z"
   },
   {
    "duration": 18,
    "start_time": "2023-09-29T22:00:35.278Z"
   },
   {
    "duration": 11,
    "start_time": "2023-09-29T22:00:35.299Z"
   },
   {
    "duration": 19,
    "start_time": "2023-09-29T22:00:35.312Z"
   },
   {
    "duration": 10,
    "start_time": "2023-09-29T22:00:35.333Z"
   },
   {
    "duration": 61,
    "start_time": "2023-09-29T22:00:35.347Z"
   },
   {
    "duration": 15,
    "start_time": "2023-09-29T22:00:35.411Z"
   },
   {
    "duration": 273,
    "start_time": "2023-09-29T22:00:35.429Z"
   },
   {
    "duration": 10,
    "start_time": "2023-09-29T22:00:35.704Z"
   },
   {
    "duration": 40,
    "start_time": "2023-09-29T22:00:35.715Z"
   },
   {
    "duration": 37,
    "start_time": "2023-09-29T22:00:35.756Z"
   },
   {
    "duration": 42,
    "start_time": "2023-09-29T22:00:35.794Z"
   },
   {
    "duration": 26,
    "start_time": "2023-09-29T22:00:35.838Z"
   },
   {
    "duration": 33,
    "start_time": "2023-09-29T22:00:35.866Z"
   },
   {
    "duration": 107,
    "start_time": "2023-09-29T22:00:35.902Z"
   },
   {
    "duration": 11,
    "start_time": "2023-09-29T22:00:36.011Z"
   },
   {
    "duration": 19,
    "start_time": "2023-09-29T22:00:36.024Z"
   },
   {
    "duration": 21,
    "start_time": "2023-09-29T22:00:36.046Z"
   },
   {
    "duration": 42,
    "start_time": "2023-09-29T22:00:36.070Z"
   },
   {
    "duration": 34,
    "start_time": "2023-09-29T22:00:36.114Z"
   },
   {
    "duration": 11,
    "start_time": "2023-09-29T22:00:36.150Z"
   },
   {
    "duration": 541,
    "start_time": "2023-09-29T22:00:36.163Z"
   },
   {
    "duration": 5,
    "start_time": "2023-09-29T22:00:36.709Z"
   },
   {
    "duration": 23,
    "start_time": "2023-09-29T22:00:43.580Z"
   },
   {
    "duration": 7,
    "start_time": "2023-09-29T22:01:30.723Z"
   },
   {
    "duration": 7,
    "start_time": "2023-09-29T22:01:57.222Z"
   },
   {
    "duration": 117,
    "start_time": "2023-09-29T22:03:31.232Z"
   },
   {
    "duration": 3,
    "start_time": "2023-09-29T22:03:46.279Z"
   },
   {
    "duration": 2854,
    "start_time": "2023-09-29T22:03:46.292Z"
   },
   {
    "duration": 11,
    "start_time": "2023-09-29T22:03:49.148Z"
   },
   {
    "duration": 67,
    "start_time": "2023-09-29T22:03:49.161Z"
   },
   {
    "duration": 72,
    "start_time": "2023-09-29T22:03:49.230Z"
   },
   {
    "duration": 77,
    "start_time": "2023-09-29T22:03:49.305Z"
   },
   {
    "duration": 66,
    "start_time": "2023-09-29T22:03:49.384Z"
   },
   {
    "duration": 86,
    "start_time": "2023-09-29T22:03:49.452Z"
   },
   {
    "duration": 41,
    "start_time": "2023-09-29T22:03:49.540Z"
   },
   {
    "duration": 46,
    "start_time": "2023-09-29T22:03:49.583Z"
   },
   {
    "duration": 92,
    "start_time": "2023-09-29T22:03:49.632Z"
   },
   {
    "duration": 35,
    "start_time": "2023-09-29T22:03:49.726Z"
   },
   {
    "duration": 203,
    "start_time": "2023-09-29T22:03:49.762Z"
   },
   {
    "duration": 8,
    "start_time": "2023-09-29T22:03:49.966Z"
   },
   {
    "duration": 164,
    "start_time": "2023-09-29T22:03:49.976Z"
   },
   {
    "duration": 51,
    "start_time": "2023-09-29T22:03:50.141Z"
   },
   {
    "duration": 69,
    "start_time": "2023-09-29T22:03:50.194Z"
   },
   {
    "duration": 51,
    "start_time": "2023-09-29T22:03:50.265Z"
   },
   {
    "duration": 52,
    "start_time": "2023-09-29T22:03:50.318Z"
   },
   {
    "duration": 154,
    "start_time": "2023-09-29T22:03:50.372Z"
   },
   {
    "duration": 14,
    "start_time": "2023-09-29T22:03:50.529Z"
   },
   {
    "duration": 23,
    "start_time": "2023-09-29T22:03:50.545Z"
   },
   {
    "duration": 35,
    "start_time": "2023-09-29T22:03:50.570Z"
   },
   {
    "duration": 47,
    "start_time": "2023-09-29T22:03:50.607Z"
   },
   {
    "duration": 31,
    "start_time": "2023-09-29T22:03:50.656Z"
   },
   {
    "duration": 66,
    "start_time": "2023-09-29T22:03:50.689Z"
   },
   {
    "duration": 357,
    "start_time": "2023-09-29T22:03:50.757Z"
   },
   {
    "duration": 5,
    "start_time": "2023-09-29T22:03:51.123Z"
   },
   {
    "duration": 36,
    "start_time": "2023-09-29T22:03:51.131Z"
   },
   {
    "duration": 27,
    "start_time": "2023-09-29T22:03:51.168Z"
   },
   {
    "duration": 113,
    "start_time": "2023-09-29T22:04:05.950Z"
   },
   {
    "duration": 290,
    "start_time": "2023-09-29T22:04:33.902Z"
   },
   {
    "duration": 124,
    "start_time": "2023-09-29T22:04:42.281Z"
   },
   {
    "duration": 150,
    "start_time": "2023-09-29T22:05:30.771Z"
   },
   {
    "duration": 46,
    "start_time": "2023-09-30T16:49:32.135Z"
   },
   {
    "duration": 861,
    "start_time": "2023-09-30T16:49:39.994Z"
   },
   {
    "duration": 2665,
    "start_time": "2023-09-30T16:49:40.857Z"
   },
   {
    "duration": 19,
    "start_time": "2023-09-30T16:49:43.523Z"
   },
   {
    "duration": 24,
    "start_time": "2023-09-30T16:49:43.544Z"
   },
   {
    "duration": 17,
    "start_time": "2023-09-30T16:49:43.570Z"
   },
   {
    "duration": 16,
    "start_time": "2023-09-30T16:49:43.588Z"
   },
   {
    "duration": 10,
    "start_time": "2023-09-30T16:49:43.606Z"
   },
   {
    "duration": 21,
    "start_time": "2023-09-30T16:49:43.618Z"
   },
   {
    "duration": 36,
    "start_time": "2023-09-30T16:49:43.641Z"
   },
   {
    "duration": 22,
    "start_time": "2023-09-30T16:49:43.680Z"
   },
   {
    "duration": 47,
    "start_time": "2023-09-30T16:49:43.704Z"
   },
   {
    "duration": 16,
    "start_time": "2023-09-30T16:49:43.753Z"
   },
   {
    "duration": 190,
    "start_time": "2023-09-30T16:49:43.771Z"
   },
   {
    "duration": 7,
    "start_time": "2023-09-30T16:49:43.963Z"
   },
   {
    "duration": 21,
    "start_time": "2023-09-30T16:49:43.972Z"
   },
   {
    "duration": 20,
    "start_time": "2023-09-30T16:49:43.995Z"
   },
   {
    "duration": 20,
    "start_time": "2023-09-30T16:49:44.016Z"
   },
   {
    "duration": 28,
    "start_time": "2023-09-30T16:49:44.040Z"
   },
   {
    "duration": 15,
    "start_time": "2023-09-30T16:49:44.070Z"
   },
   {
    "duration": 135,
    "start_time": "2023-09-30T16:49:44.087Z"
   },
   {
    "duration": 13,
    "start_time": "2023-09-30T16:49:44.224Z"
   },
   {
    "duration": 42,
    "start_time": "2023-09-30T16:49:44.238Z"
   },
   {
    "duration": 6,
    "start_time": "2023-09-30T16:49:44.282Z"
   },
   {
    "duration": 22,
    "start_time": "2023-09-30T16:49:44.290Z"
   },
   {
    "duration": 26,
    "start_time": "2023-09-30T16:49:44.314Z"
   },
   {
    "duration": 9,
    "start_time": "2023-09-30T16:49:44.342Z"
   },
   {
    "duration": 300,
    "start_time": "2023-09-30T16:49:44.353Z"
   },
   {
    "duration": 4,
    "start_time": "2023-09-30T16:49:44.656Z"
   },
   {
    "duration": 187,
    "start_time": "2023-09-30T16:49:48.496Z"
   },
   {
    "duration": 144,
    "start_time": "2023-09-30T16:50:36.996Z"
   },
   {
    "duration": 113,
    "start_time": "2023-09-30T16:51:30.180Z"
   },
   {
    "duration": 178,
    "start_time": "2023-09-30T16:51:38.857Z"
   },
   {
    "duration": 6,
    "start_time": "2023-09-30T16:51:51.006Z"
   },
   {
    "duration": 4,
    "start_time": "2023-09-30T16:52:01.356Z"
   },
   {
    "duration": 2395,
    "start_time": "2023-09-30T16:52:01.362Z"
   },
   {
    "duration": 10,
    "start_time": "2023-09-30T16:52:03.758Z"
   },
   {
    "duration": 8,
    "start_time": "2023-09-30T16:52:03.770Z"
   },
   {
    "duration": 10,
    "start_time": "2023-09-30T16:52:03.779Z"
   },
   {
    "duration": 11,
    "start_time": "2023-09-30T16:52:03.791Z"
   },
   {
    "duration": 12,
    "start_time": "2023-09-30T16:52:03.823Z"
   },
   {
    "duration": 9,
    "start_time": "2023-09-30T16:52:03.836Z"
   },
   {
    "duration": 7,
    "start_time": "2023-09-30T16:52:03.848Z"
   },
   {
    "duration": 4,
    "start_time": "2023-09-30T16:52:03.857Z"
   },
   {
    "duration": 151,
    "start_time": "2023-09-30T16:52:03.863Z"
   },
   {
    "duration": 17,
    "start_time": "2023-09-30T16:52:04.016Z"
   },
   {
    "duration": 156,
    "start_time": "2023-09-30T16:52:04.034Z"
   },
   {
    "duration": 6,
    "start_time": "2023-09-30T16:52:04.192Z"
   },
   {
    "duration": 41,
    "start_time": "2023-09-30T16:52:04.200Z"
   },
   {
    "duration": 11,
    "start_time": "2023-09-30T16:52:04.242Z"
   },
   {
    "duration": 15,
    "start_time": "2023-09-30T16:52:04.255Z"
   },
   {
    "duration": 7,
    "start_time": "2023-09-30T16:52:04.272Z"
   },
   {
    "duration": 7,
    "start_time": "2023-09-30T16:52:04.281Z"
   },
   {
    "duration": 94,
    "start_time": "2023-09-30T16:52:04.290Z"
   },
   {
    "duration": 9,
    "start_time": "2023-09-30T16:52:04.386Z"
   },
   {
    "duration": 10,
    "start_time": "2023-09-30T16:52:04.396Z"
   },
   {
    "duration": 23,
    "start_time": "2023-09-30T16:52:04.407Z"
   },
   {
    "duration": 66,
    "start_time": "2023-09-30T16:52:04.439Z"
   },
   {
    "duration": 13,
    "start_time": "2023-09-30T16:52:04.507Z"
   },
   {
    "duration": 36,
    "start_time": "2023-09-30T16:52:04.522Z"
   },
   {
    "duration": 310,
    "start_time": "2023-09-30T16:52:04.559Z"
   },
   {
    "duration": 5,
    "start_time": "2023-09-30T16:52:04.871Z"
   },
   {
    "duration": 17,
    "start_time": "2023-09-30T16:52:04.878Z"
   },
   {
    "duration": 329,
    "start_time": "2023-09-30T16:52:04.896Z"
   },
   {
    "duration": 312,
    "start_time": "2023-09-30T16:52:05.230Z"
   },
   {
    "duration": 335,
    "start_time": "2023-09-30T16:52:05.543Z"
   },
   {
    "duration": 496,
    "start_time": "2023-09-30T16:52:05.880Z"
   },
   {
    "duration": 191,
    "start_time": "2023-09-30T16:52:06.378Z"
   },
   {
    "duration": 215,
    "start_time": "2023-09-30T16:52:06.571Z"
   },
   {
    "duration": 167,
    "start_time": "2023-09-30T16:52:06.788Z"
   },
   {
    "duration": 223,
    "start_time": "2023-09-30T16:52:06.957Z"
   },
   {
    "duration": 347,
    "start_time": "2023-09-30T16:52:07.182Z"
   },
   {
    "duration": 322,
    "start_time": "2023-09-30T16:52:07.533Z"
   },
   {
    "duration": 305,
    "start_time": "2023-09-30T16:52:07.857Z"
   },
   {
    "duration": 13,
    "start_time": "2023-09-30T16:52:08.164Z"
   },
   {
    "duration": 198,
    "start_time": "2023-09-30T16:52:08.179Z"
   },
   {
    "duration": 281,
    "start_time": "2023-09-30T16:52:08.379Z"
   },
   {
    "duration": 200,
    "start_time": "2023-09-30T16:52:08.662Z"
   },
   {
    "duration": 207,
    "start_time": "2023-09-30T16:52:08.864Z"
   },
   {
    "duration": 178,
    "start_time": "2023-09-30T16:52:09.073Z"
   },
   {
    "duration": 183,
    "start_time": "2023-09-30T16:52:09.253Z"
   },
   {
    "duration": 159,
    "start_time": "2023-09-30T16:52:09.437Z"
   },
   {
    "duration": 201,
    "start_time": "2023-09-30T16:52:09.598Z"
   },
   {
    "duration": 195,
    "start_time": "2023-09-30T16:52:09.800Z"
   },
   {
    "duration": 195,
    "start_time": "2023-09-30T16:52:09.997Z"
   },
   {
    "duration": 9,
    "start_time": "2023-09-30T16:52:10.194Z"
   },
   {
    "duration": 145,
    "start_time": "2023-09-30T16:52:10.204Z"
   },
   {
    "duration": 250,
    "start_time": "2023-09-30T16:52:10.352Z"
   },
   {
    "duration": 5,
    "start_time": "2023-09-30T16:53:04.873Z"
   },
   {
    "duration": 37,
    "start_time": "2023-09-30T16:58:00.149Z"
   },
   {
    "duration": 6,
    "start_time": "2023-09-30T16:59:25.536Z"
   },
   {
    "duration": 10,
    "start_time": "2023-09-30T17:04:35.799Z"
   },
   {
    "duration": 9,
    "start_time": "2023-09-30T17:04:42.767Z"
   },
   {
    "duration": 11,
    "start_time": "2023-09-30T17:10:32.921Z"
   },
   {
    "duration": 12,
    "start_time": "2023-09-30T17:11:09.950Z"
   },
   {
    "duration": 3,
    "start_time": "2023-09-30T17:11:22.185Z"
   },
   {
    "duration": 2303,
    "start_time": "2023-09-30T17:11:22.208Z"
   },
   {
    "duration": 18,
    "start_time": "2023-09-30T17:11:24.513Z"
   },
   {
    "duration": 14,
    "start_time": "2023-09-30T17:11:24.535Z"
   },
   {
    "duration": 15,
    "start_time": "2023-09-30T17:11:24.550Z"
   },
   {
    "duration": 16,
    "start_time": "2023-09-30T17:11:24.568Z"
   },
   {
    "duration": 9,
    "start_time": "2023-09-30T17:11:24.586Z"
   },
   {
    "duration": 9,
    "start_time": "2023-09-30T17:11:24.597Z"
   },
   {
    "duration": 13,
    "start_time": "2023-09-30T17:11:24.626Z"
   },
   {
    "duration": 4,
    "start_time": "2023-09-30T17:11:24.643Z"
   },
   {
    "duration": 38,
    "start_time": "2023-09-30T17:11:24.648Z"
   },
   {
    "duration": 8,
    "start_time": "2023-09-30T17:11:24.688Z"
   },
   {
    "duration": 195,
    "start_time": "2023-09-30T17:11:24.698Z"
   },
   {
    "duration": 7,
    "start_time": "2023-09-30T17:11:24.895Z"
   },
   {
    "duration": 37,
    "start_time": "2023-09-30T17:11:24.904Z"
   },
   {
    "duration": 11,
    "start_time": "2023-09-30T17:11:24.943Z"
   },
   {
    "duration": 7,
    "start_time": "2023-09-30T17:11:24.956Z"
   },
   {
    "duration": 22,
    "start_time": "2023-09-30T17:11:24.964Z"
   },
   {
    "duration": 22,
    "start_time": "2023-09-30T17:11:24.988Z"
   },
   {
    "duration": 100,
    "start_time": "2023-09-30T17:11:25.012Z"
   },
   {
    "duration": 21,
    "start_time": "2023-09-30T17:11:25.114Z"
   },
   {
    "duration": 8,
    "start_time": "2023-09-30T17:11:25.140Z"
   },
   {
    "duration": 15,
    "start_time": "2023-09-30T17:11:25.149Z"
   },
   {
    "duration": 17,
    "start_time": "2023-09-30T17:11:25.166Z"
   },
   {
    "duration": 8,
    "start_time": "2023-09-30T17:11:25.185Z"
   },
   {
    "duration": 5,
    "start_time": "2023-09-30T17:11:25.195Z"
   },
   {
    "duration": 287,
    "start_time": "2023-09-30T17:11:25.202Z"
   },
   {
    "duration": 5,
    "start_time": "2023-09-30T17:11:25.490Z"
   },
   {
    "duration": 10,
    "start_time": "2023-09-30T17:11:27.404Z"
   },
   {
    "duration": 9,
    "start_time": "2023-09-30T17:11:51.001Z"
   },
   {
    "duration": 19,
    "start_time": "2023-09-30T17:12:42.321Z"
   },
   {
    "duration": 12,
    "start_time": "2023-09-30T17:12:51.458Z"
   },
   {
    "duration": 5,
    "start_time": "2023-09-30T17:15:25.516Z"
   },
   {
    "duration": 5,
    "start_time": "2023-09-30T17:16:44.260Z"
   },
   {
    "duration": 5,
    "start_time": "2023-09-30T17:16:55.213Z"
   },
   {
    "duration": 7,
    "start_time": "2023-09-30T17:17:42.630Z"
   },
   {
    "duration": 3,
    "start_time": "2023-09-30T17:17:57.005Z"
   },
   {
    "duration": 2260,
    "start_time": "2023-09-30T17:17:57.011Z"
   },
   {
    "duration": 10,
    "start_time": "2023-09-30T17:17:59.273Z"
   },
   {
    "duration": 12,
    "start_time": "2023-09-30T17:17:59.285Z"
   },
   {
    "duration": 27,
    "start_time": "2023-09-30T17:17:59.299Z"
   },
   {
    "duration": 8,
    "start_time": "2023-09-30T17:17:59.328Z"
   },
   {
    "duration": 9,
    "start_time": "2023-09-30T17:17:59.337Z"
   },
   {
    "duration": 19,
    "start_time": "2023-09-30T17:17:59.348Z"
   },
   {
    "duration": 9,
    "start_time": "2023-09-30T17:17:59.369Z"
   },
   {
    "duration": 5,
    "start_time": "2023-09-30T17:17:59.380Z"
   },
   {
    "duration": 63,
    "start_time": "2023-09-30T17:17:59.387Z"
   },
   {
    "duration": 8,
    "start_time": "2023-09-30T17:17:59.452Z"
   },
   {
    "duration": 170,
    "start_time": "2023-09-30T17:17:59.462Z"
   },
   {
    "duration": 6,
    "start_time": "2023-09-30T17:17:59.633Z"
   },
   {
    "duration": 17,
    "start_time": "2023-09-30T17:17:59.641Z"
   },
   {
    "duration": 18,
    "start_time": "2023-09-30T17:17:59.660Z"
   },
   {
    "duration": 13,
    "start_time": "2023-09-30T17:17:59.680Z"
   },
   {
    "duration": 5,
    "start_time": "2023-09-30T17:17:59.695Z"
   },
   {
    "duration": 24,
    "start_time": "2023-09-30T17:17:59.701Z"
   },
   {
    "duration": 90,
    "start_time": "2023-09-30T17:17:59.727Z"
   },
   {
    "duration": 12,
    "start_time": "2023-09-30T17:17:59.819Z"
   },
   {
    "duration": 27,
    "start_time": "2023-09-30T17:17:59.833Z"
   },
   {
    "duration": 44,
    "start_time": "2023-09-30T17:17:59.862Z"
   },
   {
    "duration": 37,
    "start_time": "2023-09-30T17:17:59.910Z"
   },
   {
    "duration": 86,
    "start_time": "2023-09-30T17:17:59.949Z"
   },
   {
    "duration": 76,
    "start_time": "2023-09-30T17:18:00.037Z"
   },
   {
    "duration": 399,
    "start_time": "2023-09-30T17:18:00.115Z"
   },
   {
    "duration": 10,
    "start_time": "2023-09-30T17:18:00.516Z"
   },
   {
    "duration": 9,
    "start_time": "2023-09-30T17:18:05.339Z"
   },
   {
    "duration": 6,
    "start_time": "2023-09-30T17:20:34.786Z"
   },
   {
    "duration": 33,
    "start_time": "2023-09-30T17:20:52.119Z"
   },
   {
    "duration": 8,
    "start_time": "2023-09-30T17:21:40.151Z"
   },
   {
    "duration": 3,
    "start_time": "2023-09-30T17:21:51.106Z"
   },
   {
    "duration": 2239,
    "start_time": "2023-09-30T17:21:51.111Z"
   },
   {
    "duration": 10,
    "start_time": "2023-09-30T17:21:53.351Z"
   },
   {
    "duration": 28,
    "start_time": "2023-09-30T17:21:53.363Z"
   },
   {
    "duration": 25,
    "start_time": "2023-09-30T17:21:53.393Z"
   },
   {
    "duration": 52,
    "start_time": "2023-09-30T17:21:53.419Z"
   },
   {
    "duration": 52,
    "start_time": "2023-09-30T17:21:53.472Z"
   },
   {
    "duration": 76,
    "start_time": "2023-09-30T17:21:53.526Z"
   },
   {
    "duration": 37,
    "start_time": "2023-09-30T17:21:53.603Z"
   },
   {
    "duration": 17,
    "start_time": "2023-09-30T17:21:53.642Z"
   },
   {
    "duration": 37,
    "start_time": "2023-09-30T17:21:53.662Z"
   },
   {
    "duration": 8,
    "start_time": "2023-09-30T17:21:53.701Z"
   },
   {
    "duration": 154,
    "start_time": "2023-09-30T17:21:53.711Z"
   },
   {
    "duration": 6,
    "start_time": "2023-09-30T17:21:53.866Z"
   },
   {
    "duration": 12,
    "start_time": "2023-09-30T17:21:53.874Z"
   },
   {
    "duration": 3,
    "start_time": "2023-09-30T17:21:53.888Z"
   },
   {
    "duration": 5,
    "start_time": "2023-09-30T17:21:53.893Z"
   },
   {
    "duration": 5,
    "start_time": "2023-09-30T17:21:53.923Z"
   },
   {
    "duration": 9,
    "start_time": "2023-09-30T17:21:53.930Z"
   },
   {
    "duration": 102,
    "start_time": "2023-09-30T17:21:53.941Z"
   },
   {
    "duration": 8,
    "start_time": "2023-09-30T17:21:54.045Z"
   },
   {
    "duration": 8,
    "start_time": "2023-09-30T17:21:54.055Z"
   },
   {
    "duration": 5,
    "start_time": "2023-09-30T17:21:54.064Z"
   },
   {
    "duration": 8,
    "start_time": "2023-09-30T17:21:54.070Z"
   },
   {
    "duration": 12,
    "start_time": "2023-09-30T17:21:54.080Z"
   },
   {
    "duration": 35,
    "start_time": "2023-09-30T17:21:54.093Z"
   },
   {
    "duration": 386,
    "start_time": "2023-09-30T17:21:54.130Z"
   },
   {
    "duration": 8,
    "start_time": "2023-09-30T17:21:54.517Z"
   },
   {
    "duration": 8,
    "start_time": "2023-09-30T17:22:04.450Z"
   },
   {
    "duration": 8,
    "start_time": "2023-09-30T17:24:07.653Z"
   },
   {
    "duration": 313,
    "start_time": "2023-09-30T17:24:15.322Z"
   },
   {
    "duration": 317,
    "start_time": "2023-09-30T17:24:26.166Z"
   },
   {
    "duration": 6,
    "start_time": "2023-09-30T17:24:37.947Z"
   },
   {
    "duration": 332,
    "start_time": "2023-09-30T17:24:40.786Z"
   },
   {
    "duration": 278,
    "start_time": "2023-09-30T17:32:58.333Z"
   },
   {
    "duration": 389,
    "start_time": "2023-09-30T17:33:14.127Z"
   },
   {
    "duration": 6,
    "start_time": "2023-09-30T17:35:03.510Z"
   },
   {
    "duration": 10,
    "start_time": "2023-09-30T17:35:25.829Z"
   },
   {
    "duration": 10,
    "start_time": "2023-09-30T17:36:13.943Z"
   },
   {
    "duration": 8,
    "start_time": "2023-09-30T17:36:40.056Z"
   },
   {
    "duration": 6,
    "start_time": "2023-09-30T17:39:43.814Z"
   },
   {
    "duration": 7,
    "start_time": "2023-09-30T17:39:53.012Z"
   },
   {
    "duration": 8,
    "start_time": "2023-09-30T17:41:24.733Z"
   },
   {
    "duration": 329,
    "start_time": "2023-09-30T17:41:28.236Z"
   },
   {
    "duration": 8,
    "start_time": "2023-09-30T17:41:51.299Z"
   },
   {
    "duration": 313,
    "start_time": "2023-09-30T17:41:58.689Z"
   },
   {
    "duration": 644,
    "start_time": "2023-09-30T17:48:44.920Z"
   },
   {
    "duration": 7,
    "start_time": "2023-09-30T17:49:54.427Z"
   },
   {
    "duration": 8,
    "start_time": "2023-09-30T17:50:39.947Z"
   },
   {
    "duration": 8,
    "start_time": "2023-09-30T17:51:01.035Z"
   },
   {
    "duration": 8,
    "start_time": "2023-09-30T17:51:29.000Z"
   },
   {
    "duration": 5,
    "start_time": "2023-09-30T17:51:35.796Z"
   },
   {
    "duration": 7,
    "start_time": "2023-09-30T17:51:51.619Z"
   },
   {
    "duration": 5,
    "start_time": "2023-09-30T17:52:04.309Z"
   },
   {
    "duration": 5,
    "start_time": "2023-09-30T17:52:15.771Z"
   },
   {
    "duration": 5,
    "start_time": "2023-09-30T17:52:43.795Z"
   },
   {
    "duration": 5,
    "start_time": "2023-09-30T17:53:18.139Z"
   },
   {
    "duration": 9,
    "start_time": "2023-09-30T17:53:27.022Z"
   },
   {
    "duration": 8,
    "start_time": "2023-09-30T17:53:40.559Z"
   },
   {
    "duration": 10,
    "start_time": "2023-09-30T17:54:50.345Z"
   },
   {
    "duration": 7,
    "start_time": "2023-09-30T17:55:13.280Z"
   },
   {
    "duration": 8,
    "start_time": "2023-09-30T17:57:58.549Z"
   },
   {
    "duration": 317,
    "start_time": "2023-09-30T17:58:01.036Z"
   },
   {
    "duration": 294,
    "start_time": "2023-09-30T17:58:11.607Z"
   },
   {
    "duration": 6,
    "start_time": "2023-09-30T18:02:34.895Z"
   },
   {
    "duration": 5,
    "start_time": "2023-09-30T18:02:55.435Z"
   },
   {
    "duration": 5,
    "start_time": "2023-09-30T18:05:33.870Z"
   },
   {
    "duration": 9,
    "start_time": "2023-09-30T18:06:39.179Z"
   },
   {
    "duration": 112,
    "start_time": "2023-09-30T18:07:31.246Z"
   },
   {
    "duration": 7,
    "start_time": "2023-09-30T18:08:34.718Z"
   },
   {
    "duration": 287,
    "start_time": "2023-09-30T18:08:42.362Z"
   },
   {
    "duration": 6,
    "start_time": "2023-09-30T18:12:44.393Z"
   },
   {
    "duration": 243,
    "start_time": "2023-09-30T18:13:22.659Z"
   },
   {
    "duration": 79,
    "start_time": "2023-09-30T18:14:33.939Z"
   },
   {
    "duration": 6,
    "start_time": "2023-09-30T18:16:16.667Z"
   },
   {
    "duration": 282,
    "start_time": "2023-09-30T18:16:19.919Z"
   },
   {
    "duration": 7,
    "start_time": "2023-09-30T18:16:40.523Z"
   },
   {
    "duration": 262,
    "start_time": "2023-09-30T18:16:42.289Z"
   },
   {
    "duration": 5,
    "start_time": "2023-09-30T18:17:08.010Z"
   },
   {
    "duration": 7,
    "start_time": "2023-09-30T18:17:11.510Z"
   },
   {
    "duration": 167,
    "start_time": "2023-09-30T18:17:16.670Z"
   },
   {
    "duration": 166,
    "start_time": "2023-09-30T18:17:24.065Z"
   },
   {
    "duration": 183,
    "start_time": "2023-09-30T18:17:39.448Z"
   },
   {
    "duration": 221,
    "start_time": "2023-09-30T18:17:48.551Z"
   },
   {
    "duration": 158,
    "start_time": "2023-09-30T18:18:59.012Z"
   },
   {
    "duration": 150,
    "start_time": "2023-09-30T18:19:17.077Z"
   },
   {
    "duration": 247,
    "start_time": "2023-09-30T18:19:58.016Z"
   },
   {
    "duration": 173,
    "start_time": "2023-09-30T18:20:07.331Z"
   },
   {
    "duration": 5,
    "start_time": "2023-09-30T18:25:07.178Z"
   },
   {
    "duration": 6,
    "start_time": "2023-09-30T18:27:22.585Z"
   },
   {
    "duration": 215,
    "start_time": "2023-09-30T18:27:26.222Z"
   },
   {
    "duration": 178,
    "start_time": "2023-09-30T18:27:56.822Z"
   },
   {
    "duration": 172,
    "start_time": "2023-09-30T18:28:04.119Z"
   },
   {
    "duration": 260,
    "start_time": "2023-09-30T18:28:15.724Z"
   },
   {
    "duration": 177,
    "start_time": "2023-09-30T18:29:04.077Z"
   },
   {
    "duration": 183,
    "start_time": "2023-09-30T18:29:15.467Z"
   },
   {
    "duration": 174,
    "start_time": "2023-09-30T18:29:22.590Z"
   },
   {
    "duration": 213,
    "start_time": "2023-09-30T18:29:30.207Z"
   },
   {
    "duration": 186,
    "start_time": "2023-09-30T18:29:41.505Z"
   },
   {
    "duration": 302,
    "start_time": "2023-09-30T18:29:46.849Z"
   },
   {
    "duration": 189,
    "start_time": "2023-09-30T18:29:57.635Z"
   },
   {
    "duration": 221,
    "start_time": "2023-09-30T18:30:05.808Z"
   },
   {
    "duration": 14,
    "start_time": "2023-09-30T18:36:30.950Z"
   },
   {
    "duration": 270,
    "start_time": "2023-09-30T18:38:41.506Z"
   },
   {
    "duration": 11,
    "start_time": "2023-09-30T18:38:47.425Z"
   },
   {
    "duration": 100,
    "start_time": "2023-09-30T18:38:50.756Z"
   },
   {
    "duration": 171,
    "start_time": "2023-09-30T18:38:58.202Z"
   },
   {
    "duration": 170,
    "start_time": "2023-09-30T18:39:59.761Z"
   },
   {
    "duration": 161,
    "start_time": "2023-09-30T18:40:48.270Z"
   },
   {
    "duration": 150,
    "start_time": "2023-09-30T18:41:22.332Z"
   },
   {
    "duration": 158,
    "start_time": "2023-09-30T18:42:01.375Z"
   },
   {
    "duration": 230,
    "start_time": "2023-09-30T18:44:20.788Z"
   },
   {
    "duration": 164,
    "start_time": "2023-09-30T18:44:29.074Z"
   },
   {
    "duration": 171,
    "start_time": "2023-09-30T18:44:33.967Z"
   },
   {
    "duration": 171,
    "start_time": "2023-09-30T18:44:42.081Z"
   },
   {
    "duration": 9,
    "start_time": "2023-09-30T18:45:05.949Z"
   },
   {
    "duration": 31,
    "start_time": "2023-09-30T18:45:10.031Z"
   },
   {
    "duration": 198,
    "start_time": "2023-09-30T18:47:17.517Z"
   },
   {
    "duration": 60,
    "start_time": "2023-10-01T05:33:21.903Z"
   },
   {
    "duration": 897,
    "start_time": "2023-10-01T05:33:27.105Z"
   },
   {
    "duration": 2686,
    "start_time": "2023-10-01T05:33:28.004Z"
   },
   {
    "duration": 11,
    "start_time": "2023-10-01T05:33:30.692Z"
   },
   {
    "duration": 167,
    "start_time": "2023-10-01T05:33:30.705Z"
   },
   {
    "duration": 74,
    "start_time": "2023-10-01T05:33:30.874Z"
   },
   {
    "duration": 84,
    "start_time": "2023-10-01T05:33:30.950Z"
   },
   {
    "duration": 35,
    "start_time": "2023-10-01T05:33:31.036Z"
   },
   {
    "duration": 64,
    "start_time": "2023-10-01T05:33:31.073Z"
   },
   {
    "duration": 85,
    "start_time": "2023-10-01T05:33:31.139Z"
   },
   {
    "duration": 32,
    "start_time": "2023-10-01T05:33:31.228Z"
   },
   {
    "duration": 100,
    "start_time": "2023-10-01T05:33:31.263Z"
   },
   {
    "duration": 148,
    "start_time": "2023-10-01T05:33:31.364Z"
   },
   {
    "duration": 342,
    "start_time": "2023-10-01T05:33:31.514Z"
   },
   {
    "duration": 38,
    "start_time": "2023-10-01T05:33:31.858Z"
   },
   {
    "duration": 168,
    "start_time": "2023-10-01T05:33:31.898Z"
   },
   {
    "duration": 84,
    "start_time": "2023-10-01T05:33:32.068Z"
   },
   {
    "duration": 19,
    "start_time": "2023-10-01T05:33:32.154Z"
   },
   {
    "duration": 42,
    "start_time": "2023-10-01T05:33:32.175Z"
   },
   {
    "duration": 23,
    "start_time": "2023-10-01T05:33:32.219Z"
   },
   {
    "duration": 145,
    "start_time": "2023-10-01T05:33:32.244Z"
   },
   {
    "duration": 14,
    "start_time": "2023-10-01T05:33:32.391Z"
   },
   {
    "duration": 21,
    "start_time": "2023-10-01T05:33:32.408Z"
   },
   {
    "duration": 29,
    "start_time": "2023-10-01T05:33:32.432Z"
   },
   {
    "duration": 290,
    "start_time": "2023-10-01T05:33:32.462Z"
   },
   {
    "duration": 105,
    "start_time": "2023-10-01T05:33:32.754Z"
   },
   {
    "duration": 25,
    "start_time": "2023-10-01T05:33:32.860Z"
   },
   {
    "duration": 298,
    "start_time": "2023-10-01T05:33:32.886Z"
   },
   {
    "duration": 4,
    "start_time": "2023-10-01T05:33:33.188Z"
   },
   {
    "duration": 17,
    "start_time": "2023-10-01T05:33:33.201Z"
   },
   {
    "duration": 15,
    "start_time": "2023-10-01T05:33:33.220Z"
   },
   {
    "duration": 419,
    "start_time": "2023-10-01T05:33:33.236Z"
   },
   {
    "duration": 7,
    "start_time": "2023-10-01T05:33:33.656Z"
   },
   {
    "duration": 35,
    "start_time": "2023-10-01T05:33:33.665Z"
   },
   {
    "duration": 349,
    "start_time": "2023-10-01T05:33:33.702Z"
   },
   {
    "duration": 7,
    "start_time": "2023-10-01T05:33:34.053Z"
   },
   {
    "duration": 23,
    "start_time": "2023-10-01T05:33:34.062Z"
   },
   {
    "duration": 353,
    "start_time": "2023-10-01T05:33:34.087Z"
   },
   {
    "duration": 7,
    "start_time": "2023-10-01T05:33:34.442Z"
   },
   {
    "duration": 24,
    "start_time": "2023-10-01T05:33:34.450Z"
   },
   {
    "duration": 406,
    "start_time": "2023-10-01T05:33:34.476Z"
   },
   {
    "duration": 18,
    "start_time": "2023-10-01T05:33:34.884Z"
   },
   {
    "duration": 19,
    "start_time": "2023-10-01T05:33:34.904Z"
   },
   {
    "duration": 219,
    "start_time": "2023-10-01T05:33:34.925Z"
   },
   {
    "duration": 6,
    "start_time": "2023-10-01T05:33:35.146Z"
   },
   {
    "duration": 54,
    "start_time": "2023-10-01T05:33:35.154Z"
   },
   {
    "duration": 251,
    "start_time": "2023-10-01T05:33:35.212Z"
   },
   {
    "duration": 136,
    "start_time": "2023-10-01T05:33:35.465Z"
   },
   {
    "duration": 306,
    "start_time": "2023-10-01T05:33:35.604Z"
   },
   {
    "duration": 327,
    "start_time": "2023-10-01T05:33:35.912Z"
   },
   {
    "duration": 334,
    "start_time": "2023-10-01T05:33:36.241Z"
   },
   {
    "duration": 109,
    "start_time": "2023-10-01T05:33:36.577Z"
   },
   {
    "duration": 297,
    "start_time": "2023-10-01T05:33:36.688Z"
   },
   {
    "duration": 19,
    "start_time": "2023-10-01T05:33:36.986Z"
   },
   {
    "duration": 332,
    "start_time": "2023-10-01T05:33:37.007Z"
   },
   {
    "duration": 338,
    "start_time": "2023-10-01T05:33:37.341Z"
   },
   {
    "duration": 228,
    "start_time": "2023-10-01T05:33:37.680Z"
   },
   {
    "duration": 276,
    "start_time": "2023-10-01T05:33:37.910Z"
   },
   {
    "duration": 183,
    "start_time": "2023-10-01T05:33:38.187Z"
   },
   {
    "duration": 180,
    "start_time": "2023-10-01T05:33:38.371Z"
   },
   {
    "duration": 185,
    "start_time": "2023-10-01T05:33:38.553Z"
   },
   {
    "duration": 171,
    "start_time": "2023-10-01T05:33:38.740Z"
   },
   {
    "duration": 211,
    "start_time": "2023-10-01T05:33:38.913Z"
   },
   {
    "duration": 180,
    "start_time": "2023-10-01T05:33:39.126Z"
   },
   {
    "duration": 10,
    "start_time": "2023-10-01T05:33:39.308Z"
   },
   {
    "duration": 33,
    "start_time": "2023-10-01T05:33:39.320Z"
   },
   {
    "duration": 212,
    "start_time": "2023-10-01T05:33:39.355Z"
   },
   {
    "duration": 720,
    "start_time": "2024-01-25T13:16:14.839Z"
   },
   {
    "duration": 2689,
    "start_time": "2024-01-25T13:16:15.561Z"
   },
   {
    "duration": 10,
    "start_time": "2024-01-25T13:16:18.258Z"
   },
   {
    "duration": 21,
    "start_time": "2024-01-25T13:16:18.271Z"
   },
   {
    "duration": 13,
    "start_time": "2024-01-25T13:16:18.295Z"
   },
   {
    "duration": 14,
    "start_time": "2024-01-25T13:16:18.310Z"
   },
   {
    "duration": 15,
    "start_time": "2024-01-25T13:16:18.326Z"
   },
   {
    "duration": 7,
    "start_time": "2024-01-25T13:16:18.359Z"
   },
   {
    "duration": 32,
    "start_time": "2024-01-25T13:16:18.368Z"
   },
   {
    "duration": 11,
    "start_time": "2024-01-25T13:16:18.402Z"
   },
   {
    "duration": 43,
    "start_time": "2024-01-25T13:16:18.415Z"
   },
   {
    "duration": 10,
    "start_time": "2024-01-25T13:16:18.460Z"
   },
   {
    "duration": 179,
    "start_time": "2024-01-25T13:16:18.472Z"
   },
   {
    "duration": 7,
    "start_time": "2024-01-25T13:16:18.658Z"
   },
   {
    "duration": 19,
    "start_time": "2024-01-25T13:16:18.666Z"
   },
   {
    "duration": 17,
    "start_time": "2024-01-25T13:16:18.687Z"
   },
   {
    "duration": 6,
    "start_time": "2024-01-25T13:16:18.705Z"
   },
   {
    "duration": 5,
    "start_time": "2024-01-25T13:16:18.713Z"
   },
   {
    "duration": 11,
    "start_time": "2024-01-25T13:16:18.720Z"
   },
   {
    "duration": 108,
    "start_time": "2024-01-25T13:16:18.732Z"
   },
   {
    "duration": 18,
    "start_time": "2024-01-25T13:16:18.841Z"
   },
   {
    "duration": 8,
    "start_time": "2024-01-25T13:16:18.861Z"
   },
   {
    "duration": 5,
    "start_time": "2024-01-25T13:16:18.871Z"
   },
   {
    "duration": 7,
    "start_time": "2024-01-25T13:16:18.878Z"
   },
   {
    "duration": 12,
    "start_time": "2024-01-25T13:16:18.887Z"
   },
   {
    "duration": 12,
    "start_time": "2024-01-25T13:16:18.900Z"
   },
   {
    "duration": 316,
    "start_time": "2024-01-25T13:16:18.913Z"
   },
   {
    "duration": 4,
    "start_time": "2024-01-25T13:16:19.231Z"
   },
   {
    "duration": 9,
    "start_time": "2024-01-25T13:16:19.236Z"
   },
   {
    "duration": 16,
    "start_time": "2024-01-25T13:16:19.247Z"
   },
   {
    "duration": 420,
    "start_time": "2024-01-25T13:16:19.265Z"
   },
   {
    "duration": 6,
    "start_time": "2024-01-25T13:16:19.686Z"
   },
   {
    "duration": 21,
    "start_time": "2024-01-25T13:16:19.694Z"
   },
   {
    "duration": 329,
    "start_time": "2024-01-25T13:16:19.717Z"
   },
   {
    "duration": 16,
    "start_time": "2024-01-25T13:16:20.048Z"
   },
   {
    "duration": 7,
    "start_time": "2024-01-25T13:16:20.066Z"
   },
   {
    "duration": 317,
    "start_time": "2024-01-25T13:16:20.075Z"
   },
   {
    "duration": 8,
    "start_time": "2024-01-25T13:16:20.394Z"
   },
   {
    "duration": 10,
    "start_time": "2024-01-25T13:16:20.404Z"
   },
   {
    "duration": 361,
    "start_time": "2024-01-25T13:16:20.416Z"
   },
   {
    "duration": 4,
    "start_time": "2024-01-25T13:16:20.781Z"
   },
   {
    "duration": 10,
    "start_time": "2024-01-25T13:16:20.787Z"
   },
   {
    "duration": 199,
    "start_time": "2024-01-25T13:16:20.798Z"
   },
   {
    "duration": 4,
    "start_time": "2024-01-25T13:16:20.999Z"
   },
   {
    "duration": 8,
    "start_time": "2024-01-25T13:16:21.006Z"
   },
   {
    "duration": 230,
    "start_time": "2024-01-25T13:16:21.016Z"
   },
   {
    "duration": 144,
    "start_time": "2024-01-25T13:16:21.247Z"
   },
   {
    "duration": 300,
    "start_time": "2024-01-25T13:16:21.392Z"
   },
   {
    "duration": 337,
    "start_time": "2024-01-25T13:16:21.693Z"
   },
   {
    "duration": 340,
    "start_time": "2024-01-25T13:16:22.032Z"
   },
   {
    "duration": 303,
    "start_time": "2024-01-25T13:16:22.374Z"
   },
   {
    "duration": 12,
    "start_time": "2024-01-25T13:16:22.679Z"
   },
   {
    "duration": 120,
    "start_time": "2024-01-25T13:16:22.692Z"
   },
   {
    "duration": 291,
    "start_time": "2024-01-25T13:16:22.814Z"
   },
   {
    "duration": 223,
    "start_time": "2024-01-25T13:16:23.106Z"
   },
   {
    "duration": 279,
    "start_time": "2024-01-25T13:16:23.330Z"
   },
   {
    "duration": 179,
    "start_time": "2024-01-25T13:16:23.611Z"
   },
   {
    "duration": 176,
    "start_time": "2024-01-25T13:16:23.792Z"
   },
   {
    "duration": 159,
    "start_time": "2024-01-25T13:16:23.969Z"
   },
   {
    "duration": 174,
    "start_time": "2024-01-25T13:16:24.130Z"
   },
   {
    "duration": 197,
    "start_time": "2024-01-25T13:16:24.306Z"
   },
   {
    "duration": 183,
    "start_time": "2024-01-25T13:16:24.505Z"
   },
   {
    "duration": 8,
    "start_time": "2024-01-25T13:16:24.690Z"
   },
   {
    "duration": 48,
    "start_time": "2024-01-25T13:16:24.700Z"
   },
   {
    "duration": 189,
    "start_time": "2024-01-25T13:16:24.750Z"
   },
   {
    "duration": 882,
    "start_time": "2024-02-02T15:02:28.574Z"
   },
   {
    "duration": 2669,
    "start_time": "2024-02-02T15:02:29.459Z"
   },
   {
    "duration": 10,
    "start_time": "2024-02-02T15:02:32.129Z"
   },
   {
    "duration": 33,
    "start_time": "2024-02-02T15:02:32.141Z"
   },
   {
    "duration": 25,
    "start_time": "2024-02-02T15:02:32.176Z"
   },
   {
    "duration": 20,
    "start_time": "2024-02-02T15:02:32.203Z"
   },
   {
    "duration": 31,
    "start_time": "2024-02-02T15:02:32.225Z"
   },
   {
    "duration": 13,
    "start_time": "2024-02-02T15:02:32.259Z"
   },
   {
    "duration": 77,
    "start_time": "2024-02-02T15:02:32.274Z"
   },
   {
    "duration": 80,
    "start_time": "2024-02-02T15:02:32.352Z"
   },
   {
    "duration": 44,
    "start_time": "2024-02-02T15:02:32.434Z"
   },
   {
    "duration": 10,
    "start_time": "2024-02-02T15:02:32.480Z"
   },
   {
    "duration": 179,
    "start_time": "2024-02-02T15:02:32.491Z"
   },
   {
    "duration": 7,
    "start_time": "2024-02-02T15:02:32.673Z"
   },
   {
    "duration": 18,
    "start_time": "2024-02-02T15:02:32.681Z"
   },
   {
    "duration": 5,
    "start_time": "2024-02-02T15:02:32.700Z"
   },
   {
    "duration": 5,
    "start_time": "2024-02-02T15:02:32.707Z"
   },
   {
    "duration": 7,
    "start_time": "2024-02-02T15:02:32.714Z"
   },
   {
    "duration": 7,
    "start_time": "2024-02-02T15:02:32.723Z"
   },
   {
    "duration": 102,
    "start_time": "2024-02-02T15:02:32.759Z"
   },
   {
    "duration": 10,
    "start_time": "2024-02-02T15:02:32.863Z"
   },
   {
    "duration": 9,
    "start_time": "2024-02-02T15:02:32.874Z"
   },
   {
    "duration": 5,
    "start_time": "2024-02-02T15:02:32.884Z"
   },
   {
    "duration": 18,
    "start_time": "2024-02-02T15:02:32.891Z"
   },
   {
    "duration": 7,
    "start_time": "2024-02-02T15:02:32.910Z"
   },
   {
    "duration": 15,
    "start_time": "2024-02-02T15:02:32.918Z"
   },
   {
    "duration": 328,
    "start_time": "2024-02-02T15:02:32.934Z"
   },
   {
    "duration": 4,
    "start_time": "2024-02-02T15:02:33.263Z"
   },
   {
    "duration": 7,
    "start_time": "2024-02-02T15:02:33.269Z"
   },
   {
    "duration": 7,
    "start_time": "2024-02-02T15:02:33.278Z"
   },
   {
    "duration": 451,
    "start_time": "2024-02-02T15:02:33.286Z"
   },
   {
    "duration": 6,
    "start_time": "2024-02-02T15:02:33.739Z"
   },
   {
    "duration": 6,
    "start_time": "2024-02-02T15:02:33.758Z"
   },
   {
    "duration": 344,
    "start_time": "2024-02-02T15:02:33.766Z"
   },
   {
    "duration": 7,
    "start_time": "2024-02-02T15:02:34.112Z"
   },
   {
    "duration": 12,
    "start_time": "2024-02-02T15:02:34.121Z"
   },
   {
    "duration": 338,
    "start_time": "2024-02-02T15:02:34.135Z"
   },
   {
    "duration": 7,
    "start_time": "2024-02-02T15:02:34.475Z"
   },
   {
    "duration": 8,
    "start_time": "2024-02-02T15:02:34.484Z"
   },
   {
    "duration": 348,
    "start_time": "2024-02-02T15:02:34.494Z"
   },
   {
    "duration": 13,
    "start_time": "2024-02-02T15:02:34.846Z"
   },
   {
    "duration": 10,
    "start_time": "2024-02-02T15:02:34.861Z"
   },
   {
    "duration": 193,
    "start_time": "2024-02-02T15:02:34.873Z"
   },
   {
    "duration": 5,
    "start_time": "2024-02-02T15:02:35.068Z"
   },
   {
    "duration": 14,
    "start_time": "2024-02-02T15:02:35.074Z"
   },
   {
    "duration": 219,
    "start_time": "2024-02-02T15:02:35.090Z"
   },
   {
    "duration": 141,
    "start_time": "2024-02-02T15:02:35.311Z"
   },
   {
    "duration": 297,
    "start_time": "2024-02-02T15:02:35.453Z"
   },
   {
    "duration": 335,
    "start_time": "2024-02-02T15:02:35.752Z"
   },
   {
    "duration": 326,
    "start_time": "2024-02-02T15:02:36.089Z"
   },
   {
    "duration": 331,
    "start_time": "2024-02-02T15:02:36.417Z"
   },
   {
    "duration": 17,
    "start_time": "2024-02-02T15:02:36.750Z"
   },
   {
    "duration": 117,
    "start_time": "2024-02-02T15:02:36.769Z"
   },
   {
    "duration": 314,
    "start_time": "2024-02-02T15:02:36.887Z"
   },
   {
    "duration": 201,
    "start_time": "2024-02-02T15:02:37.203Z"
   },
   {
    "duration": 275,
    "start_time": "2024-02-02T15:02:37.405Z"
   },
   {
    "duration": 184,
    "start_time": "2024-02-02T15:02:37.682Z"
   },
   {
    "duration": 190,
    "start_time": "2024-02-02T15:02:37.868Z"
   },
   {
    "duration": 162,
    "start_time": "2024-02-02T15:02:38.060Z"
   },
   {
    "duration": 183,
    "start_time": "2024-02-02T15:02:38.224Z"
   },
   {
    "duration": 198,
    "start_time": "2024-02-02T15:02:38.409Z"
   },
   {
    "duration": 189,
    "start_time": "2024-02-02T15:02:38.609Z"
   },
   {
    "duration": 7,
    "start_time": "2024-02-02T15:02:38.800Z"
   },
   {
    "duration": 38,
    "start_time": "2024-02-02T15:02:38.809Z"
   },
   {
    "duration": 209,
    "start_time": "2024-02-02T15:02:38.849Z"
   }
  ],
  "kernelspec": {
   "display_name": "Python 3 (ipykernel)",
   "language": "python",
   "name": "python3"
  },
  "language_info": {
   "codemirror_mode": {
    "name": "ipython",
    "version": 3
   },
   "file_extension": ".py",
   "mimetype": "text/x-python",
   "name": "python",
   "nbconvert_exporter": "python",
   "pygments_lexer": "ipython3",
   "version": "3.9.5"
  },
  "toc": {
   "base_numbering": 1,
   "nav_menu": {},
   "number_sections": true,
   "sideBar": true,
   "skip_h1_title": true,
   "title_cell": "Table of Contents",
   "title_sidebar": "Contents",
   "toc_cell": false,
   "toc_position": {},
   "toc_section_display": true,
   "toc_window_display": false
  }
 },
 "nbformat": 4,
 "nbformat_minor": 2
}
