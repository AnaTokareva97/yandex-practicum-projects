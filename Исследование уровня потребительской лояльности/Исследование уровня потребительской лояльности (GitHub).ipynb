{
 "cells": [
  {
   "cell_type": "markdown",
   "id": "d566cd22",
   "metadata": {},
   "source": [
    "# Исследование уровня потребительской лояльности"
   ]
  },
  {
   "cell_type": "markdown",
   "id": "914c0d64",
   "metadata": {},
   "source": [
    "**Цель исследования** - определить текущий уровень потребительской лояльности, или NPS, среди клиентов из России.\n",
    "\n",
    "**Вопросы, интересующие заказчика:**\n",
    "- Как распределены участники опроса по возрасту и полу? Каких пользователей больше: новых или старых? Пользователи из каких городов активнее участвовали в опросе?\n",
    "- Какие группы пользователей наиболее лояльны к сервису? Какие менее?\n",
    "- Какой общий NPS среди всех опрошенных?\n",
    "- Как можно описать клиентов, которые относятся к группе cторонников?"
   ]
  },
  {
   "cell_type": "markdown",
   "id": "5cf5a32e",
   "metadata": {},
   "source": [
    "**Ссылка на проект:** https://public.tableau.com/views/_17045382255270/sheet13?:language=en-US&publish=yes&:display_count=n&:origin=viz_share_link"
   ]
  },
  {
   "cell_type": "markdown",
   "id": "9f385857",
   "metadata": {},
   "source": [
    "## Шаг 1. Подключение к базе  и выгрузка данных"
   ]
  },
  {
   "cell_type": "code",
   "execution_count": 9,
   "id": "fc7efa54",
   "metadata": {},
   "outputs": [],
   "source": [
    "import os\n",
    "import pandas as pd\n",
    "import numpy as np\n",
    "\n",
    "from sqlalchemy import create_engine"
   ]
  },
  {
   "cell_type": "code",
   "execution_count": 10,
   "id": "0017f8e7",
   "metadata": {},
   "outputs": [],
   "source": [
    "path_to_db_local = 'telecomm_csi.db'\n",
    "path_to_db_platform = '/datasets/telecomm_csi.db'\n",
    "path_to_db = None\n",
    "\n",
    "if os.path.exists(path_to_db_local):\n",
    "    path_to_db = path_to_db_local\n",
    "elif os.path.exists(path_to_db_platform):\n",
    "    path_to_db = path_to_db_platform\n",
    "else:\n",
    "    raise Exception('Файл с базой данных SQLite не найден!')\n",
    "\n",
    "if path_to_db:\n",
    "    engine = create_engine(f'sqlite:///{path_to_db}', echo=False)"
   ]
  },
  {
   "cell_type": "code",
   "execution_count": 13,
   "id": "84ebad43",
   "metadata": {},
   "outputs": [],
   "source": [
    "query = \"\"\"\n",
    "SELECT u.user_id,\n",
    "       u.lt_day,\n",
    "       CASE\n",
    "           WHEN u.lt_day <= 365 THEN 'новый'\n",
    "           ELSE 'старый'\n",
    "       END as Is_new,\n",
    "       u.age,\n",
    "       CASE\n",
    "           WHEN u.gender_segment = 0 THEN \"мужской\"\n",
    "           WHEN u.gender_segment = 1 THEN \"женский\"\n",
    "       END as gender,\n",
    "       u.os_name,\n",
    "       u.cpe_type_name,\n",
    "       l.country,\n",
    "       l.city,\n",
    "       age_s.title as age_segment,\n",
    "       ts.title as traffic_segment,\n",
    "       ls.title as lifetime_segment,\n",
    "       u.nps_score,\n",
    "       CASE\n",
    "           WHEN u.nps_score <= 6 THEN 'критики'\n",
    "           WHEN u.nps_score >= 7 AND u.nps_score <= 8 THEN 'нейтралы'\n",
    "           WHEN u.nps_score >= 9 AND u.nps_score <= 10 THEN 'cторонники'\n",
    "       END as nps_group\n",
    "FROM user AS u\n",
    "JOIN location AS l ON u.location_id = l.location_id\n",
    "JOIN age_segment AS age_s ON u.age_gr_id = age_s.age_gr_id\n",
    "JOIN traffic_segment AS ts ON u.tr_gr_id = ts.tr_gr_id\n",
    "JOIN lifetime_segment AS ls ON u.lt_gr_id = ls.lt_gr_id\n",
    "\"\"\""
   ]
  },
  {
   "cell_type": "code",
   "execution_count": 14,
   "id": "3965faf2",
   "metadata": {},
   "outputs": [
    {
     "data": {
      "text/html": [
       "<div>\n",
       "<style scoped>\n",
       "    .dataframe tbody tr th:only-of-type {\n",
       "        vertical-align: middle;\n",
       "    }\n",
       "\n",
       "    .dataframe tbody tr th {\n",
       "        vertical-align: top;\n",
       "    }\n",
       "\n",
       "    .dataframe thead th {\n",
       "        text-align: right;\n",
       "    }\n",
       "</style>\n",
       "<table border=\"1\" class=\"dataframe\">\n",
       "  <thead>\n",
       "    <tr style=\"text-align: right;\">\n",
       "      <th></th>\n",
       "      <th>user_id</th>\n",
       "      <th>lt_day</th>\n",
       "      <th>Is_new</th>\n",
       "      <th>age</th>\n",
       "      <th>gender</th>\n",
       "      <th>os_name</th>\n",
       "      <th>cpe_type_name</th>\n",
       "      <th>country</th>\n",
       "      <th>city</th>\n",
       "      <th>age_segment</th>\n",
       "      <th>traffic_segment</th>\n",
       "      <th>lifetime_segment</th>\n",
       "      <th>nps_score</th>\n",
       "      <th>nps_group</th>\n",
       "    </tr>\n",
       "  </thead>\n",
       "  <tbody>\n",
       "    <tr>\n",
       "      <th>0</th>\n",
       "      <td>A001A2</td>\n",
       "      <td>2320</td>\n",
       "      <td>старый</td>\n",
       "      <td>45.0</td>\n",
       "      <td>женский</td>\n",
       "      <td>ANDROID</td>\n",
       "      <td>SMARTPHONE</td>\n",
       "      <td>Россия</td>\n",
       "      <td>Уфа</td>\n",
       "      <td>05 45-54</td>\n",
       "      <td>04 1-5</td>\n",
       "      <td>08 36+</td>\n",
       "      <td>10</td>\n",
       "      <td>cторонники</td>\n",
       "    </tr>\n",
       "    <tr>\n",
       "      <th>1</th>\n",
       "      <td>A001WF</td>\n",
       "      <td>2344</td>\n",
       "      <td>старый</td>\n",
       "      <td>53.0</td>\n",
       "      <td>мужской</td>\n",
       "      <td>ANDROID</td>\n",
       "      <td>SMARTPHONE</td>\n",
       "      <td>Россия</td>\n",
       "      <td>Киров</td>\n",
       "      <td>05 45-54</td>\n",
       "      <td>04 1-5</td>\n",
       "      <td>08 36+</td>\n",
       "      <td>10</td>\n",
       "      <td>cторонники</td>\n",
       "    </tr>\n",
       "    <tr>\n",
       "      <th>2</th>\n",
       "      <td>A003Q7</td>\n",
       "      <td>467</td>\n",
       "      <td>старый</td>\n",
       "      <td>57.0</td>\n",
       "      <td>мужской</td>\n",
       "      <td>ANDROID</td>\n",
       "      <td>SMARTPHONE</td>\n",
       "      <td>Россия</td>\n",
       "      <td>Москва</td>\n",
       "      <td>06 55-64</td>\n",
       "      <td>08 20-25</td>\n",
       "      <td>06 13-24</td>\n",
       "      <td>10</td>\n",
       "      <td>cторонники</td>\n",
       "    </tr>\n",
       "  </tbody>\n",
       "</table>\n",
       "</div>"
      ],
      "text/plain": [
       "  user_id  lt_day  Is_new   age   gender  os_name cpe_type_name country  \\\n",
       "0  A001A2    2320  старый  45.0  женский  ANDROID    SMARTPHONE  Россия   \n",
       "1  A001WF    2344  старый  53.0  мужской  ANDROID    SMARTPHONE  Россия   \n",
       "2  A003Q7     467  старый  57.0  мужской  ANDROID    SMARTPHONE  Россия   \n",
       "\n",
       "     city age_segment traffic_segment lifetime_segment  nps_score   nps_group  \n",
       "0     Уфа    05 45-54          04 1-5           08 36+         10  cторонники  \n",
       "1   Киров    05 45-54          04 1-5           08 36+         10  cторонники  \n",
       "2  Москва    06 55-64        08 20-25         06 13-24         10  cторонники  "
      ]
     },
     "execution_count": 14,
     "metadata": {},
     "output_type": "execute_result"
    }
   ],
   "source": [
    "df = pd.read_sql(query, engine)\n",
    "df.head(3)"
   ]
  },
  {
   "cell_type": "code",
   "execution_count": 15,
   "id": "9db04858",
   "metadata": {},
   "outputs": [],
   "source": [
    "df.to_csv('telecomm_csi_tableau.csv', index=False)"
   ]
  },
  {
   "cell_type": "markdown",
   "id": "27c7118d",
   "metadata": {},
   "source": [
    "**Вывод по разделу:** \n",
    "\n",
    "В данном шаге сделали подключение к базе данных. Далее с помощью SQL-запроса выгррузили необходимые поля из базы данных. Сохранили CSV-файл и загрузили его в Tableau для дальнейшего проведения исследования."
   ]
  },
  {
   "cell_type": "markdown",
   "id": "051b6035",
   "metadata": {},
   "source": [
    "## Шаг 2. Создание дашборда \"Характеристики опрошенных пользователей\" в Tableau"
   ]
  },
  {
   "cell_type": "markdown",
   "id": "794e3151",
   "metadata": {},
   "source": [
    "В этом шаге мы построили 5 визуализаций и объединили их в дашборд \"Характеристики опрошенных пользователей\".\n",
    "\n",
    "В первой визуализации отобразили соотношение полов опрошенных потребителей. Во второй визуализации посмотрели соотношение опрошенных по возрастным группам, в третьей - по новизне потребителя, в четвертой - по городам, и в пятой - по типу операционной системы."
   ]
  },
  {
   "cell_type": "markdown",
   "id": "7aeb27bc",
   "metadata": {},
   "source": [
    "**Выводы по разделу:**\n",
    "\n",
    "- Большая часть опрошенных - женщины.\n",
    "- Самая опрашиваемая возрастная группа от 35 до 44 лет.\n",
    "- Самая популярная ОС среди опрошенных - Android.\n",
    "- Больше всего опрошенных проживают в Москве, Санкт-Петербурге и Новосибирске.\n",
    "- Новых пользователей среди опрошенных почти в 5 раз меньше, чем старых."
   ]
  },
  {
   "cell_type": "markdown",
   "id": "6b3ccab9",
   "metadata": {},
   "source": [
    "## Шаг 3. Создание дашборда \"Анализ групп потребительской лояльности\" в Tableau"
   ]
  },
  {
   "cell_type": "markdown",
   "id": "33702abc",
   "metadata": {},
   "source": [
    "На данном этапе были созданы 6 визуализаций и объединены в дашборд \"Анализ групп потребительской лояльности\".\n",
    " \n",
    "В первой визуализации отобразили процентное соотношение групп лояльности опрошенных. Во второй - лояльность опрошенных по возрастным группам. В третьей - лояльность по полу. В четвертой - лояльность по новизне клиентов. В пятой - лояльность по типу операционной системы. В шестой - лояльность по времени пользования (lifetime)."
   ]
  },
  {
   "cell_type": "markdown",
   "id": "98326270",
   "metadata": {},
   "source": [
    "**Выводы по разделу:**\n",
    "\n",
    "- Среди опрошенных 52% являются сторонниками, 30% - критиками, 16% - нейтралами.\n",
    "- Во всех возрастных категориях в процентном соотношении преобладают сторонники, за исключением опрошенных до 16 лет. Больше всего сторонников в группе 66+. Также больше сторонников наблюдается среди женщин и новых потребителей.\n",
    "- По типу операционной системы в процентном соотношении сторонников больше у неизвестной ОС, но в количественном соотношении по количеству сторонников лидируют Android.\n",
    "- По времени пользования в процентном соотношении лидирует группа, пользовавшаяся услугами 1 месяц, но в количественном соотношении - группа, пользующаяся услугами более 36 месяцев, что логично."
   ]
  },
  {
   "cell_type": "markdown",
   "id": "74fbaf35",
   "metadata": {},
   "source": [
    "## Шаг 4. Создание дашборда \"Уровень потребительской лояльности (NPS)\" в Tableau"
   ]
  },
  {
   "cell_type": "markdown",
   "id": "da74bbd4",
   "metadata": {},
   "source": [
    "На дашборде \"Уровень потребительской лояльности (NPS)\" отобразили 9 графиков: \n",
    "\n",
    "1. Общий NPS\n",
    "2. NPS по полу\n",
    "3. NPS по возрасту\n",
    "4. NPS по новизне\n",
    "5. NPS по типу операционной системы\n",
    "6. NPS по городам\n",
    "7. NPS по времени пользования (lifetime)\n",
    "8. NPS по типу устройства\n",
    "9. NPS по трафику"
   ]
  },
  {
   "cell_type": "markdown",
   "id": "85759393",
   "metadata": {},
   "source": [
    "**Выводы по разделу:**\n",
    "\n",
    "- Общий NPS составляет 21,97%.\n",
    "- Наибольшие значения NPS в Иваново, Череповце и Саранске.\n",
    "- Уровень потребительской лояльности наиболее высок среди новых клиентов женского пола  в возрасте 66+ с трафиком 0-0,01, пользующиеся устройствами USB MODEM с операционной системой Symbian OS и с временем пользования в 1 месяц.\n",
    "- Самый низкий уровень лояльности среди старых клиентов мужского пола в возрасте до 16 лет с трафиком 100+, пользующиеся устройствами WLAN ROUTER и MODEM, операционной системой IOS и временем пользования 36+ месяцев."
   ]
  },
  {
   "cell_type": "markdown",
   "id": "9b305178",
   "metadata": {},
   "source": [
    "## Шаг 5. Создание презентации"
   ]
  },
  {
   "cell_type": "markdown",
   "id": "0ce78a22",
   "metadata": {},
   "source": [
    "В этом этапе объединили 2 наших дашборда в одну презентацию."
   ]
  },
  {
   "cell_type": "markdown",
   "id": "7e24a0c4",
   "metadata": {},
   "source": [
    "**Ссылка на проект:** https://public.tableau.com/views/_17045382255270/sheet13?:language=en-US&publish=yes&:display_count=n&:origin=viz_share_link"
   ]
  }
 ],
 "metadata": {
  "ExecuteTimeLog": [
   {
    "duration": 445,
    "start_time": "2024-01-03T07:08:23.920Z"
   },
   {
    "duration": 83,
    "start_time": "2024-01-03T07:08:26.849Z"
   },
   {
    "duration": 2,
    "start_time": "2024-01-03T07:10:37.655Z"
   },
   {
    "duration": 4393,
    "start_time": "2024-01-03T07:10:41.620Z"
   },
   {
    "duration": 4,
    "start_time": "2024-01-03T08:18:58.232Z"
   },
   {
    "duration": 4656,
    "start_time": "2024-01-03T08:18:59.742Z"
   },
   {
    "duration": 2,
    "start_time": "2024-01-03T08:22:22.326Z"
   },
   {
    "duration": 438,
    "start_time": "2024-01-03T08:22:27.751Z"
   },
   {
    "duration": 3,
    "start_time": "2024-01-03T08:23:14.578Z"
   },
   {
    "duration": 355,
    "start_time": "2024-01-03T08:23:16.267Z"
   },
   {
    "duration": 3,
    "start_time": "2024-01-03T08:23:30.827Z"
   },
   {
    "duration": 370,
    "start_time": "2024-01-03T08:23:31.818Z"
   },
   {
    "duration": 3,
    "start_time": "2024-01-03T08:23:46.885Z"
   },
   {
    "duration": 482,
    "start_time": "2024-01-03T08:23:49.145Z"
   },
   {
    "duration": 3,
    "start_time": "2024-01-03T08:23:58.608Z"
   },
   {
    "duration": 4595,
    "start_time": "2024-01-03T08:24:01.313Z"
   },
   {
    "duration": 2,
    "start_time": "2024-01-03T08:24:19.890Z"
   },
   {
    "duration": 350,
    "start_time": "2024-01-03T08:24:29.021Z"
   },
   {
    "duration": 3,
    "start_time": "2024-01-03T08:25:01.400Z"
   },
   {
    "duration": 5814,
    "start_time": "2024-01-03T08:25:01.929Z"
   },
   {
    "duration": 3,
    "start_time": "2024-01-03T08:25:21.117Z"
   },
   {
    "duration": 8097,
    "start_time": "2024-01-03T08:25:22.193Z"
   },
   {
    "duration": 3,
    "start_time": "2024-01-03T08:32:35.881Z"
   },
   {
    "duration": 597,
    "start_time": "2024-01-03T08:32:37.070Z"
   },
   {
    "duration": 3,
    "start_time": "2024-01-03T08:33:11.101Z"
   },
   {
    "duration": 630,
    "start_time": "2024-01-03T08:33:12.616Z"
   },
   {
    "duration": 2,
    "start_time": "2024-01-03T08:33:21.338Z"
   },
   {
    "duration": 614,
    "start_time": "2024-01-03T08:33:22.704Z"
   },
   {
    "duration": 3,
    "start_time": "2024-01-03T08:33:52.685Z"
   },
   {
    "duration": 2423,
    "start_time": "2024-01-03T08:33:53.363Z"
   },
   {
    "duration": 3,
    "start_time": "2024-01-03T08:34:17.523Z"
   },
   {
    "duration": 2425,
    "start_time": "2024-01-03T08:34:18.598Z"
   },
   {
    "duration": 3,
    "start_time": "2024-01-03T08:42:36.865Z"
   },
   {
    "duration": 5374,
    "start_time": "2024-01-03T08:42:37.708Z"
   },
   {
    "duration": 5166,
    "start_time": "2024-01-03T08:43:03.292Z"
   },
   {
    "duration": 5252,
    "start_time": "2024-01-03T08:43:30.748Z"
   },
   {
    "duration": 5312,
    "start_time": "2024-01-03T08:44:21.156Z"
   },
   {
    "duration": 47,
    "start_time": "2024-01-03T08:44:57.365Z"
   },
   {
    "duration": 488,
    "start_time": "2024-01-03T08:45:08.520Z"
   },
   {
    "duration": 81,
    "start_time": "2024-01-03T08:45:09.010Z"
   },
   {
    "duration": 3,
    "start_time": "2024-01-03T08:45:09.092Z"
   },
   {
    "duration": 6163,
    "start_time": "2024-01-03T08:45:15.274Z"
   },
   {
    "duration": 492,
    "start_time": "2024-01-03T08:46:07.621Z"
   },
   {
    "duration": 63,
    "start_time": "2024-01-03T08:46:08.115Z"
   },
   {
    "duration": 6,
    "start_time": "2024-01-03T08:46:08.181Z"
   },
   {
    "duration": 5442,
    "start_time": "2024-01-03T08:46:08.190Z"
   },
   {
    "duration": 4954,
    "start_time": "2024-01-03T08:46:13.634Z"
   },
   {
    "duration": 4938,
    "start_time": "2024-01-03T08:46:32.375Z"
   },
   {
    "duration": 5266,
    "start_time": "2024-01-03T08:48:10.144Z"
   },
   {
    "duration": 4903,
    "start_time": "2024-01-03T08:48:18.400Z"
   },
   {
    "duration": 3,
    "start_time": "2024-01-03T09:15:57.018Z"
   },
   {
    "duration": 5036,
    "start_time": "2024-01-03T09:16:00.185Z"
   },
   {
    "duration": 2,
    "start_time": "2024-01-03T09:16:31.499Z"
   },
   {
    "duration": 4853,
    "start_time": "2024-01-03T09:16:31.984Z"
   },
   {
    "duration": 4185,
    "start_time": "2024-01-03T09:16:56.083Z"
   },
   {
    "duration": 577,
    "start_time": "2024-01-10T11:26:15.788Z"
   },
   {
    "duration": 81,
    "start_time": "2024-01-10T11:26:16.367Z"
   },
   {
    "duration": 3,
    "start_time": "2024-01-10T11:26:21.034Z"
   },
   {
    "duration": 5903,
    "start_time": "2024-01-10T11:26:27.866Z"
   },
   {
    "duration": 5740,
    "start_time": "2024-01-10T11:26:45.461Z"
   },
   {
    "duration": 5550,
    "start_time": "2024-01-10T11:28:25.028Z"
   },
   {
    "duration": 4,
    "start_time": "2024-01-10T13:25:54.134Z"
   },
   {
    "duration": 711,
    "start_time": "2024-01-10T13:25:57.159Z"
   },
   {
    "duration": 2,
    "start_time": "2024-01-10T13:26:04.618Z"
   },
   {
    "duration": 61,
    "start_time": "2024-01-10T13:26:04.635Z"
   },
   {
    "duration": 3,
    "start_time": "2024-01-10T13:26:04.698Z"
   },
   {
    "duration": 650,
    "start_time": "2024-01-10T13:26:11.514Z"
   },
   {
    "duration": 3,
    "start_time": "2024-01-10T13:26:45.697Z"
   },
   {
    "duration": 5429,
    "start_time": "2024-01-10T13:26:49.140Z"
   },
   {
    "duration": 5181,
    "start_time": "2024-01-10T13:27:20.575Z"
   }
  ],
  "kernelspec": {
   "display_name": "Python 3 (ipykernel)",
   "language": "python",
   "name": "python3"
  },
  "language_info": {
   "codemirror_mode": {
    "name": "ipython",
    "version": 3
   },
   "file_extension": ".py",
   "mimetype": "text/x-python",
   "name": "python",
   "nbconvert_exporter": "python",
   "pygments_lexer": "ipython3",
   "version": "3.9.5"
  },
  "toc": {
   "base_numbering": 1,
   "nav_menu": {},
   "number_sections": true,
   "sideBar": true,
   "skip_h1_title": true,
   "title_cell": "Table of Contents",
   "title_sidebar": "Contents",
   "toc_cell": false,
   "toc_position": {},
   "toc_section_display": true,
   "toc_window_display": false
  }
 },
 "nbformat": 4,
 "nbformat_minor": 5
}
